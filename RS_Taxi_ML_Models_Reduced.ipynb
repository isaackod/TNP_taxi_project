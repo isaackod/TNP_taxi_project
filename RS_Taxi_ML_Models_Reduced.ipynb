{
 "cells": [
  {
   "cell_type": "markdown",
   "metadata": {},
   "source": [
    "We create another price prediction model that doesn't use as many of the dataset features (eg.. community area) since the information should be redundant and I either don't have/ don't want to compute the features for an active user."
   ]
  },
  {
   "cell_type": "code",
   "execution_count": 1,
   "metadata": {},
   "outputs": [],
   "source": [
    "import pandas as pd\n",
    "import numpy as np\n",
    "import pickle\n",
    "from Fair_Fare.feature_utils import load_hdf\n",
    "\n",
    "from sklearn.model_selection import train_test_split\n",
    "from sklearn.base import BaseEstimator, TransformerMixin\n",
    "from sklearn.pipeline import make_pipeline, FeatureUnion, Pipeline\n",
    "from sklearn.preprocessing import OneHotEncoder, StandardScaler\n",
    "from sklearn.model_selection import cross_val_score\n",
    "from sklearn.linear_model import LinearRegression\n",
    "from sklearn.metrics import mean_squared_error\n",
    "from sklearn.ensemble import RandomForestRegressor\n",
    "from sklearn.model_selection import RandomizedSearchCV, GridSearchCV\n",
    "from joblib import dump, load\n",
    "\n",
    "import xgboost as xgb\n",
    "import datetime as dt\n",
    "\n",
    "from scipy.stats import randint, uniform\n",
    "\n",
    "# Plotting\n",
    "%matplotlib inline\n",
    "import matplotlib as mpl\n",
    "import matplotlib.pyplot as plt\n",
    "from matplotlib.pyplot import figure\n",
    "mpl.rc('axes', labelsize=18)\n",
    "mpl.rc('xtick', labelsize=16)\n",
    "mpl.rc('ytick', labelsize=16)\n",
    "\n",
    "def display_scores(scores):\n",
    "    print(\"Scores:\", scores)\n",
    "    print(\"Mean:\", scores.mean())\n",
    "    print(\"Standard deviation:\", scores.std())"
   ]
  },
  {
   "cell_type": "markdown",
   "metadata": {},
   "source": [
    "### TNP Dataset:\n",
    "\n",
    "Parameter tuining"
   ]
  },
  {
   "cell_type": "code",
   "execution_count": 13,
   "metadata": {},
   "outputs": [],
   "source": [
    "tnp = load_hdf('data/tnp_train.h5',.02)\n",
    "tnp.drop(['Pickup_Community_Area', 'Dropoff_Community_Area','l2_dist_km','x_dist_km','y_dist_km','bearing'], axis = 1, inplace = True)\n",
    "tnp.head()\n",
    "y = tnp[\"Final_Fare\"].copy()\n",
    "X = tnp.drop([\"Final_Fare\"], axis = 1)"
   ]
  },
  {
   "cell_type": "code",
   "execution_count": 16,
   "metadata": {},
   "outputs": [
    {
     "name": "stdout",
     "output_type": "stream",
     "text": [
      "Fitting 5 folds for each of 100 candidates, totalling 500 fits\n"
     ]
    },
    {
     "name": "stderr",
     "output_type": "stream",
     "text": [
      "[Parallel(n_jobs=6)]: Using backend LokyBackend with 6 concurrent workers.\n",
      "[Parallel(n_jobs=6)]: Done  38 tasks      | elapsed:   21.8s\n",
      "[Parallel(n_jobs=6)]: Done 188 tasks      | elapsed:  2.2min\n",
      "[Parallel(n_jobs=6)]: Done 438 tasks      | elapsed:  4.6min\n",
      "[Parallel(n_jobs=6)]: Done 500 out of 500 | elapsed:  5.4min finished\n"
     ]
    },
    {
     "name": "stdout",
     "output_type": "stream",
     "text": [
      "[12:20:38] WARNING: /workspace/src/objective/regression_obj.cu:152: reg:linear is now deprecated in favor of reg:squarederror.\n",
      "-7.523053428443643\n",
      "{'colsample_bytree': 0.439881349485437, 'eta': 0.2913248799253698, 'lambda': 1.0784417148624983, 'max_depth': 5, 'min_child_weight': 61, 'n_estimators': 131, 'subsample': 0.8144003761476369}\n"
     ]
    }
   ],
   "source": [
    "tnp = load_hdf('data/tnp_train.h5',.1)\n",
    "\n",
    "y = tnp[\"Final_Fare\"].copy()\n",
    "X = tnp.drop([\"Final_Fare\"], axis = 1)\n",
    "\n",
    "\n",
    "X_train, Xv, y_train, yv = train_test_split(X, y, test_size=0.2, random_state=42)\n",
    "\n",
    "dvalid = xgb.DMatrix(Xv.values, label=yv.values)\n",
    "dtrain = xgb.DMatrix(X_train.values, label=y_train.values)\n",
    "\n",
    "param_dist = {'max_depth': randint(low=4, high=20),\n",
    "              'n_estimators': randint(low=20, high=400),\n",
    "              'min_child_weight':randint(low=5, high=200),\n",
    "              'eta':uniform(0.15,.2),\n",
    "              'colsample_bytree':uniform(0.2,.4),\n",
    "              'subsample': uniform(0.4,.5),\n",
    "              'lambda': uniform(0.5,3.)\n",
    "             }\n",
    "\n",
    "xgb_model = xgb.XGBRegressor({\n",
    "              'booster' : 'gbtree', 'eval_metric': 'rmse','silent': 1, 'objective': 'reg:squarederror'})\n",
    "clf =  RandomizedSearchCV(xgb_model,\n",
    "                   param_dist, verbose=1,n_jobs = 6,n_iter=100, cv=5, scoring='neg_mean_squared_error')\n",
    "clf.fit(X.values,y.values)\n",
    "print(clf.best_score_)\n",
    "print(clf.best_params_)"
   ]
  },
  {
   "cell_type": "markdown",
   "metadata": {},
   "source": [
    "##### Full model:"
   ]
  },
  {
   "cell_type": "code",
   "execution_count": 22,
   "metadata": {},
   "outputs": [
    {
     "name": "stdout",
     "output_type": "stream",
     "text": [
      "[0]\ttrain-rmse:11.0648\tvalid-rmse:11.0693\n",
      "Multiple eval metrics have been passed: 'valid-rmse' will be used for early stopping.\n",
      "\n",
      "Will train until valid-rmse hasn't improved in 50 rounds.\n",
      "[1]\ttrain-rmse:8.39363\tvalid-rmse:8.39986\n",
      "[2]\ttrain-rmse:6.53617\tvalid-rmse:6.54333\n",
      "[3]\ttrain-rmse:5.43437\tvalid-rmse:5.44189\n",
      "[4]\ttrain-rmse:4.69678\tvalid-rmse:4.70428\n",
      "[5]\ttrain-rmse:4.31623\tvalid-rmse:4.3237\n",
      "[6]\ttrain-rmse:4.12529\tvalid-rmse:4.13286\n",
      "[7]\ttrain-rmse:3.95834\tvalid-rmse:3.96551\n",
      "[8]\ttrain-rmse:3.86461\tvalid-rmse:3.87145\n",
      "[9]\ttrain-rmse:3.80887\tvalid-rmse:3.81534\n",
      "[10]\ttrain-rmse:3.77869\tvalid-rmse:3.78483\n",
      "[11]\ttrain-rmse:3.47718\tvalid-rmse:3.48341\n",
      "[12]\ttrain-rmse:3.29924\tvalid-rmse:3.30518\n",
      "[13]\ttrain-rmse:3.20531\tvalid-rmse:3.21116\n",
      "[14]\ttrain-rmse:3.1291\tvalid-rmse:3.13505\n",
      "[15]\ttrain-rmse:3.10212\tvalid-rmse:3.10756\n",
      "[16]\ttrain-rmse:2.98065\tvalid-rmse:2.98598\n",
      "[17]\ttrain-rmse:2.91328\tvalid-rmse:2.91865\n",
      "[18]\ttrain-rmse:2.89693\tvalid-rmse:2.90256\n",
      "[19]\ttrain-rmse:2.88912\tvalid-rmse:2.89477\n",
      "[20]\ttrain-rmse:2.88392\tvalid-rmse:2.88944\n",
      "[21]\ttrain-rmse:2.88048\tvalid-rmse:2.88619\n",
      "[22]\ttrain-rmse:2.84783\tvalid-rmse:2.85359\n",
      "[23]\ttrain-rmse:2.83006\tvalid-rmse:2.8358\n",
      "[24]\ttrain-rmse:2.82648\tvalid-rmse:2.83229\n",
      "[25]\ttrain-rmse:2.82028\tvalid-rmse:2.82614\n",
      "[26]\ttrain-rmse:2.81637\tvalid-rmse:2.82229\n",
      "[27]\ttrain-rmse:2.80848\tvalid-rmse:2.8144\n",
      "[28]\ttrain-rmse:2.80255\tvalid-rmse:2.80822\n",
      "[29]\ttrain-rmse:2.79913\tvalid-rmse:2.80476\n",
      "[30]\ttrain-rmse:2.79751\tvalid-rmse:2.80316\n",
      "[31]\ttrain-rmse:2.79592\tvalid-rmse:2.80155\n",
      "[32]\ttrain-rmse:2.79291\tvalid-rmse:2.79829\n",
      "[33]\ttrain-rmse:2.79199\tvalid-rmse:2.79743\n",
      "[34]\ttrain-rmse:2.79135\tvalid-rmse:2.79684\n",
      "[35]\ttrain-rmse:2.78754\tvalid-rmse:2.79287\n",
      "[36]\ttrain-rmse:2.78322\tvalid-rmse:2.78859\n",
      "[37]\ttrain-rmse:2.77981\tvalid-rmse:2.78518\n",
      "[38]\ttrain-rmse:2.7731\tvalid-rmse:2.7784\n",
      "[39]\ttrain-rmse:2.77134\tvalid-rmse:2.77666\n",
      "[40]\ttrain-rmse:2.76908\tvalid-rmse:2.77446\n",
      "[41]\ttrain-rmse:2.76793\tvalid-rmse:2.77335\n",
      "[42]\ttrain-rmse:2.76494\tvalid-rmse:2.77032\n",
      "[43]\ttrain-rmse:2.76321\tvalid-rmse:2.76865\n",
      "[44]\ttrain-rmse:2.76137\tvalid-rmse:2.76696\n",
      "[45]\ttrain-rmse:2.76078\tvalid-rmse:2.76639\n",
      "[46]\ttrain-rmse:2.75923\tvalid-rmse:2.76491\n",
      "[47]\ttrain-rmse:2.7586\tvalid-rmse:2.7643\n",
      "[48]\ttrain-rmse:2.75694\tvalid-rmse:2.76273\n",
      "[49]\ttrain-rmse:2.75507\tvalid-rmse:2.76088\n",
      "[50]\ttrain-rmse:2.75353\tvalid-rmse:2.75932\n",
      "[51]\ttrain-rmse:2.75248\tvalid-rmse:2.75837\n",
      "[52]\ttrain-rmse:2.75111\tvalid-rmse:2.75708\n",
      "[53]\ttrain-rmse:2.75012\tvalid-rmse:2.75613\n",
      "[54]\ttrain-rmse:2.74788\tvalid-rmse:2.75387\n",
      "[55]\ttrain-rmse:2.74722\tvalid-rmse:2.75329\n",
      "[56]\ttrain-rmse:2.746\tvalid-rmse:2.75215\n",
      "[57]\ttrain-rmse:2.74489\tvalid-rmse:2.75105\n",
      "[58]\ttrain-rmse:2.74391\tvalid-rmse:2.75007\n",
      "[59]\ttrain-rmse:2.74339\tvalid-rmse:2.74955\n",
      "[60]\ttrain-rmse:2.74176\tvalid-rmse:2.74783\n",
      "[61]\ttrain-rmse:2.74124\tvalid-rmse:2.74736\n",
      "[62]\ttrain-rmse:2.74035\tvalid-rmse:2.74648\n",
      "[63]\ttrain-rmse:2.73976\tvalid-rmse:2.74589\n",
      "[64]\ttrain-rmse:2.73901\tvalid-rmse:2.74518\n",
      "[65]\ttrain-rmse:2.73814\tvalid-rmse:2.74433\n",
      "[66]\ttrain-rmse:2.7378\tvalid-rmse:2.74403\n",
      "[67]\ttrain-rmse:2.73701\tvalid-rmse:2.74323\n",
      "[68]\ttrain-rmse:2.73667\tvalid-rmse:2.74289\n",
      "[69]\ttrain-rmse:2.73574\tvalid-rmse:2.74195\n",
      "[70]\ttrain-rmse:2.73548\tvalid-rmse:2.74169\n",
      "[71]\ttrain-rmse:2.73516\tvalid-rmse:2.74139\n",
      "[72]\ttrain-rmse:2.73468\tvalid-rmse:2.74091\n",
      "[73]\ttrain-rmse:2.73417\tvalid-rmse:2.74044\n",
      "[74]\ttrain-rmse:2.73348\tvalid-rmse:2.73971\n",
      "[75]\ttrain-rmse:2.73305\tvalid-rmse:2.73928\n",
      "[76]\ttrain-rmse:2.73266\tvalid-rmse:2.73891\n",
      "[77]\ttrain-rmse:2.73223\tvalid-rmse:2.73853\n",
      "[78]\ttrain-rmse:2.73175\tvalid-rmse:2.73807\n",
      "[79]\ttrain-rmse:2.73093\tvalid-rmse:2.73728\n",
      "[80]\ttrain-rmse:2.72995\tvalid-rmse:2.73638\n",
      "[81]\ttrain-rmse:2.72934\tvalid-rmse:2.73585\n",
      "[82]\ttrain-rmse:2.72837\tvalid-rmse:2.73487\n",
      "[83]\ttrain-rmse:2.72808\tvalid-rmse:2.73462\n",
      "[84]\ttrain-rmse:2.72769\tvalid-rmse:2.73422\n",
      "[85]\ttrain-rmse:2.72728\tvalid-rmse:2.73387\n",
      "[86]\ttrain-rmse:2.72676\tvalid-rmse:2.73338\n",
      "[87]\ttrain-rmse:2.72652\tvalid-rmse:2.73315\n",
      "[88]\ttrain-rmse:2.72605\tvalid-rmse:2.73272\n",
      "[89]\ttrain-rmse:2.72541\tvalid-rmse:2.73217\n",
      "[90]\ttrain-rmse:2.72491\tvalid-rmse:2.7317\n",
      "[91]\ttrain-rmse:2.72445\tvalid-rmse:2.73123\n",
      "[92]\ttrain-rmse:2.72429\tvalid-rmse:2.73108\n",
      "[93]\ttrain-rmse:2.72334\tvalid-rmse:2.73008\n",
      "[94]\ttrain-rmse:2.7229\tvalid-rmse:2.72969\n",
      "[95]\ttrain-rmse:2.72219\tvalid-rmse:2.72902\n",
      "[96]\ttrain-rmse:2.72196\tvalid-rmse:2.72877\n",
      "[97]\ttrain-rmse:2.72127\tvalid-rmse:2.72797\n",
      "[98]\ttrain-rmse:2.72077\tvalid-rmse:2.72748\n",
      "[99]\ttrain-rmse:2.72068\tvalid-rmse:2.72739\n",
      "Modeling RMSLE 2.72739\n",
      "Training time: 708 seconds\n"
     ]
    }
   ],
   "source": [
    "X = load_hdf('data/tnp_train.h5',100)\n",
    "X.drop(['Pickup_Community_Area', 'Dropoff_Community_Area','l2_dist_km','x_dist_km','y_dist_km','bearing'], axis = 1, inplace = True)\n",
    "\n",
    "y = X[\"Final_Fare\"].copy()\n",
    "X.drop([\"Final_Fare\"], axis = 1, inplace = True)\n",
    "\n",
    "\n",
    "X_train, Xv, y_train, yv = train_test_split(X, y, test_size=0.2, random_state=42)\n",
    "\n",
    "dvalid = xgb.DMatrix(Xv.values, label=yv.values)\n",
    "dtrain = xgb.DMatrix(X_train.values, label=y_train.values)\n",
    "\n",
    "watchlist = [(dtrain, 'train'), (dvalid, 'valid')]\n",
    "\n",
    "\n",
    "xgb_pars = {'colsample_bytree': 0.439881349485437, 'eta': 0.2913248799253698, 'lambda': 1.0784417148624983, 'max_depth': 5, \n",
    "            'min_child_weight': 61, 'n_estimators': 131, 'subsample': 0.8144003761476369, 'nthread': 7, \n",
    "            'booster' : 'gbtree', 'silent': 1,\n",
    "            'eval_metric': 'rmse', 'objective': 'reg:squarederror'}\n",
    "\n",
    "\n",
    "t0 = dt.datetime.now()\n",
    "model = xgb.train(xgb_pars, dtrain, 100, watchlist, early_stopping_rounds=50,\n",
    "                  maximize=False, verbose_eval=1)\n",
    "\n",
    "t1 = dt.datetime.now()\n",
    "print('Modeling RMSLE %.5f' % model.best_score)\n",
    "print('Training time: %i seconds' % (t1 - t0).seconds)\n",
    "\n",
    "#model.save_model(\"tnp_xgb_full\")\n",
    "model.save_model(\"tnp_xgb_full_reduced_params\")"
   ]
  },
  {
   "cell_type": "code",
   "execution_count": 23,
   "metadata": {},
   "outputs": [
    {
     "data": {
      "text/plain": [
       "Index(['Trip_Seconds', 'Trip_Miles', 'Shared_Trip_Authorized',\n",
       "       'Pickup_Centroid_Latitude', 'Pickup_Centroid_Longitude',\n",
       "       'Dropoff_Centroid_Latitude', 'Dropoff_Centroid_Longitude', 'vel_mph',\n",
       "       'bAirport', 'day_of_wk', 'hour'],\n",
       "      dtype='object')"
      ]
     },
     "execution_count": 23,
     "metadata": {},
     "output_type": "execute_result"
    }
   ],
   "source": [
    "X.columns"
   ]
  },
  {
   "cell_type": "code",
   "execution_count": null,
   "metadata": {},
   "outputs": [],
   "source": []
  }
 ],
 "metadata": {
  "kernelspec": {
   "display_name": "Python 3",
   "language": "python",
   "name": "python3"
  },
  "language_info": {
   "codemirror_mode": {
    "name": "ipython",
    "version": 3
   },
   "file_extension": ".py",
   "mimetype": "text/x-python",
   "name": "python",
   "nbconvert_exporter": "python",
   "pygments_lexer": "ipython3",
   "version": "3.7.3"
  }
 },
 "nbformat": 4,
 "nbformat_minor": 4
}
