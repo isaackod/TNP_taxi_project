{
 "cells": [
  {
   "cell_type": "markdown",
   "metadata": {},
   "source": [
    "We create another price prediction model that doesn't use as many of the dataset features (eg.. community area) since the information should be redundant and I either don't have/ don't want to compute the features for an active user."
   ]
  },
  {
   "cell_type": "code",
   "execution_count": 1,
   "metadata": {},
   "outputs": [],
   "source": [
    "import pandas as pd\n",
    "import numpy as np\n",
    "import pickle\n",
    "from Fair_Fare.feature_utils import load_hdf\n",
    "\n",
    "from sklearn.model_selection import train_test_split\n",
    "from sklearn.base import BaseEstimator, TransformerMixin\n",
    "from sklearn.pipeline import make_pipeline, FeatureUnion, Pipeline\n",
    "from sklearn.preprocessing import OneHotEncoder, StandardScaler\n",
    "from sklearn.model_selection import cross_val_score\n",
    "from sklearn.linear_model import LinearRegression\n",
    "from sklearn.metrics import mean_squared_error\n",
    "from sklearn.ensemble import RandomForestRegressor\n",
    "from sklearn.model_selection import RandomizedSearchCV, GridSearchCV\n",
    "from joblib import dump, load\n",
    "\n",
    "import xgboost as xgb\n",
    "import datetime as dt\n",
    "\n",
    "from scipy.stats import randint, uniform\n",
    "\n",
    "# Plotting\n",
    "%matplotlib inline\n",
    "import matplotlib as mpl\n",
    "import matplotlib.pyplot as plt\n",
    "from matplotlib.pyplot import figure\n",
    "mpl.rc('axes', labelsize=18)\n",
    "mpl.rc('xtick', labelsize=16)\n",
    "mpl.rc('ytick', labelsize=16)\n",
    "\n",
    "def display_scores(scores):\n",
    "    print(\"Scores:\", scores)\n",
    "    print(\"Mean:\", scores.mean())\n",
    "    print(\"Standard deviation:\", scores.std())"
   ]
  },
  {
   "cell_type": "markdown",
   "metadata": {},
   "source": [
    "### TNP Dataset:\n",
    "\n",
    "Parameter tuining"
   ]
  },
  {
   "cell_type": "code",
   "execution_count": 2,
   "metadata": {},
   "outputs": [],
   "source": [
    "tnp = load_hdf('data/tnp_train.h5',.02)\n",
    "tnp.drop(['Pickup_Community_Area', 'Dropoff_Community_Area','l2_dist_km','x_dist_km','y_dist_km','bearing'], axis = 1, inplace = True)\n",
    "tnp.head()\n",
    "y = tnp[\"Final_Fare\"].copy()\n",
    "X = tnp.drop([\"Final_Fare\"], axis = 1)"
   ]
  },
  {
   "cell_type": "code",
   "execution_count": 3,
   "metadata": {},
   "outputs": [
    {
     "name": "stdout",
     "output_type": "stream",
     "text": [
      "Fitting 5 folds for each of 100 candidates, totalling 500 fits\n"
     ]
    },
    {
     "name": "stderr",
     "output_type": "stream",
     "text": [
      "[Parallel(n_jobs=6)]: Using backend LokyBackend with 6 concurrent workers.\n"
     ]
    },
    {
     "ename": "KeyboardInterrupt",
     "evalue": "",
     "output_type": "error",
     "traceback": [
      "\u001b[0;31m---------------------------------------------------------------------------\u001b[0m",
      "\u001b[0;31mKeyboardInterrupt\u001b[0m                         Traceback (most recent call last)",
      "\u001b[0;32m<ipython-input-3-b4f65b0a8265>\u001b[0m in \u001b[0;36m<module>\u001b[0;34m\u001b[0m\n\u001b[1;32m     23\u001b[0m clf =  RandomizedSearchCV(xgb_model,\n\u001b[1;32m     24\u001b[0m                    param_dist, verbose=1,n_jobs = 6,n_iter=100, cv=5, scoring='neg_mean_squared_error')\n\u001b[0;32m---> 25\u001b[0;31m \u001b[0mclf\u001b[0m\u001b[0;34m.\u001b[0m\u001b[0mfit\u001b[0m\u001b[0;34m(\u001b[0m\u001b[0mX\u001b[0m\u001b[0;34m.\u001b[0m\u001b[0mvalues\u001b[0m\u001b[0;34m,\u001b[0m\u001b[0my\u001b[0m\u001b[0;34m.\u001b[0m\u001b[0mvalues\u001b[0m\u001b[0;34m)\u001b[0m\u001b[0;34m\u001b[0m\u001b[0;34m\u001b[0m\u001b[0m\n\u001b[0m\u001b[1;32m     26\u001b[0m \u001b[0mprint\u001b[0m\u001b[0;34m(\u001b[0m\u001b[0mclf\u001b[0m\u001b[0;34m.\u001b[0m\u001b[0mbest_score_\u001b[0m\u001b[0;34m)\u001b[0m\u001b[0;34m\u001b[0m\u001b[0;34m\u001b[0m\u001b[0m\n\u001b[1;32m     27\u001b[0m \u001b[0mprint\u001b[0m\u001b[0;34m(\u001b[0m\u001b[0mclf\u001b[0m\u001b[0;34m.\u001b[0m\u001b[0mbest_params_\u001b[0m\u001b[0;34m)\u001b[0m\u001b[0;34m\u001b[0m\u001b[0;34m\u001b[0m\u001b[0m\n",
      "\u001b[0;32m~/anaconda3/envs/dinc_proj/lib/python3.7/site-packages/sklearn/model_selection/_search.py\u001b[0m in \u001b[0;36mfit\u001b[0;34m(self, X, y, groups, **fit_params)\u001b[0m\n\u001b[1;32m    720\u001b[0m                 \u001b[0;32mreturn\u001b[0m \u001b[0mresults_container\u001b[0m\u001b[0;34m[\u001b[0m\u001b[0;36m0\u001b[0m\u001b[0;34m]\u001b[0m\u001b[0;34m\u001b[0m\u001b[0;34m\u001b[0m\u001b[0m\n\u001b[1;32m    721\u001b[0m \u001b[0;34m\u001b[0m\u001b[0m\n\u001b[0;32m--> 722\u001b[0;31m             \u001b[0mself\u001b[0m\u001b[0;34m.\u001b[0m\u001b[0m_run_search\u001b[0m\u001b[0;34m(\u001b[0m\u001b[0mevaluate_candidates\u001b[0m\u001b[0;34m)\u001b[0m\u001b[0;34m\u001b[0m\u001b[0;34m\u001b[0m\u001b[0m\n\u001b[0m\u001b[1;32m    723\u001b[0m \u001b[0;34m\u001b[0m\u001b[0m\n\u001b[1;32m    724\u001b[0m         \u001b[0mresults\u001b[0m \u001b[0;34m=\u001b[0m \u001b[0mresults_container\u001b[0m\u001b[0;34m[\u001b[0m\u001b[0;36m0\u001b[0m\u001b[0;34m]\u001b[0m\u001b[0;34m\u001b[0m\u001b[0;34m\u001b[0m\u001b[0m\n",
      "\u001b[0;32m~/anaconda3/envs/dinc_proj/lib/python3.7/site-packages/sklearn/model_selection/_search.py\u001b[0m in \u001b[0;36m_run_search\u001b[0;34m(self, evaluate_candidates)\u001b[0m\n\u001b[1;32m   1513\u001b[0m         evaluate_candidates(ParameterSampler(\n\u001b[1;32m   1514\u001b[0m             \u001b[0mself\u001b[0m\u001b[0;34m.\u001b[0m\u001b[0mparam_distributions\u001b[0m\u001b[0;34m,\u001b[0m \u001b[0mself\u001b[0m\u001b[0;34m.\u001b[0m\u001b[0mn_iter\u001b[0m\u001b[0;34m,\u001b[0m\u001b[0;34m\u001b[0m\u001b[0;34m\u001b[0m\u001b[0m\n\u001b[0;32m-> 1515\u001b[0;31m             random_state=self.random_state))\n\u001b[0m",
      "\u001b[0;32m~/anaconda3/envs/dinc_proj/lib/python3.7/site-packages/sklearn/model_selection/_search.py\u001b[0m in \u001b[0;36mevaluate_candidates\u001b[0;34m(candidate_params)\u001b[0m\n\u001b[1;32m    709\u001b[0m                                \u001b[0;32mfor\u001b[0m \u001b[0mparameters\u001b[0m\u001b[0;34m,\u001b[0m \u001b[0;34m(\u001b[0m\u001b[0mtrain\u001b[0m\u001b[0;34m,\u001b[0m \u001b[0mtest\u001b[0m\u001b[0;34m)\u001b[0m\u001b[0;34m\u001b[0m\u001b[0;34m\u001b[0m\u001b[0m\n\u001b[1;32m    710\u001b[0m                                in product(candidate_params,\n\u001b[0;32m--> 711\u001b[0;31m                                           cv.split(X, y, groups)))\n\u001b[0m\u001b[1;32m    712\u001b[0m \u001b[0;34m\u001b[0m\u001b[0m\n\u001b[1;32m    713\u001b[0m                 \u001b[0mall_candidate_params\u001b[0m\u001b[0;34m.\u001b[0m\u001b[0mextend\u001b[0m\u001b[0;34m(\u001b[0m\u001b[0mcandidate_params\u001b[0m\u001b[0;34m)\u001b[0m\u001b[0;34m\u001b[0m\u001b[0;34m\u001b[0m\u001b[0m\n",
      "\u001b[0;32m~/anaconda3/envs/dinc_proj/lib/python3.7/site-packages/sklearn/externals/joblib/parallel.py\u001b[0m in \u001b[0;36m__call__\u001b[0;34m(self, iterable)\u001b[0m\n\u001b[1;32m    928\u001b[0m \u001b[0;34m\u001b[0m\u001b[0m\n\u001b[1;32m    929\u001b[0m             \u001b[0;32mwith\u001b[0m \u001b[0mself\u001b[0m\u001b[0;34m.\u001b[0m\u001b[0m_backend\u001b[0m\u001b[0;34m.\u001b[0m\u001b[0mretrieval_context\u001b[0m\u001b[0;34m(\u001b[0m\u001b[0;34m)\u001b[0m\u001b[0;34m:\u001b[0m\u001b[0;34m\u001b[0m\u001b[0;34m\u001b[0m\u001b[0m\n\u001b[0;32m--> 930\u001b[0;31m                 \u001b[0mself\u001b[0m\u001b[0;34m.\u001b[0m\u001b[0mretrieve\u001b[0m\u001b[0;34m(\u001b[0m\u001b[0;34m)\u001b[0m\u001b[0;34m\u001b[0m\u001b[0;34m\u001b[0m\u001b[0m\n\u001b[0m\u001b[1;32m    931\u001b[0m             \u001b[0;31m# Make sure that we get a last message telling us we are done\u001b[0m\u001b[0;34m\u001b[0m\u001b[0;34m\u001b[0m\u001b[0;34m\u001b[0m\u001b[0m\n\u001b[1;32m    932\u001b[0m             \u001b[0melapsed_time\u001b[0m \u001b[0;34m=\u001b[0m \u001b[0mtime\u001b[0m\u001b[0;34m.\u001b[0m\u001b[0mtime\u001b[0m\u001b[0;34m(\u001b[0m\u001b[0;34m)\u001b[0m \u001b[0;34m-\u001b[0m \u001b[0mself\u001b[0m\u001b[0;34m.\u001b[0m\u001b[0m_start_time\u001b[0m\u001b[0;34m\u001b[0m\u001b[0;34m\u001b[0m\u001b[0m\n",
      "\u001b[0;32m~/anaconda3/envs/dinc_proj/lib/python3.7/site-packages/sklearn/externals/joblib/parallel.py\u001b[0m in \u001b[0;36mretrieve\u001b[0;34m(self)\u001b[0m\n\u001b[1;32m    831\u001b[0m             \u001b[0;32mtry\u001b[0m\u001b[0;34m:\u001b[0m\u001b[0;34m\u001b[0m\u001b[0;34m\u001b[0m\u001b[0m\n\u001b[1;32m    832\u001b[0m                 \u001b[0;32mif\u001b[0m \u001b[0mgetattr\u001b[0m\u001b[0;34m(\u001b[0m\u001b[0mself\u001b[0m\u001b[0;34m.\u001b[0m\u001b[0m_backend\u001b[0m\u001b[0;34m,\u001b[0m \u001b[0;34m'supports_timeout'\u001b[0m\u001b[0;34m,\u001b[0m \u001b[0;32mFalse\u001b[0m\u001b[0;34m)\u001b[0m\u001b[0;34m:\u001b[0m\u001b[0;34m\u001b[0m\u001b[0;34m\u001b[0m\u001b[0m\n\u001b[0;32m--> 833\u001b[0;31m                     \u001b[0mself\u001b[0m\u001b[0;34m.\u001b[0m\u001b[0m_output\u001b[0m\u001b[0;34m.\u001b[0m\u001b[0mextend\u001b[0m\u001b[0;34m(\u001b[0m\u001b[0mjob\u001b[0m\u001b[0;34m.\u001b[0m\u001b[0mget\u001b[0m\u001b[0;34m(\u001b[0m\u001b[0mtimeout\u001b[0m\u001b[0;34m=\u001b[0m\u001b[0mself\u001b[0m\u001b[0;34m.\u001b[0m\u001b[0mtimeout\u001b[0m\u001b[0;34m)\u001b[0m\u001b[0;34m)\u001b[0m\u001b[0;34m\u001b[0m\u001b[0;34m\u001b[0m\u001b[0m\n\u001b[0m\u001b[1;32m    834\u001b[0m                 \u001b[0;32melse\u001b[0m\u001b[0;34m:\u001b[0m\u001b[0;34m\u001b[0m\u001b[0;34m\u001b[0m\u001b[0m\n\u001b[1;32m    835\u001b[0m                     \u001b[0mself\u001b[0m\u001b[0;34m.\u001b[0m\u001b[0m_output\u001b[0m\u001b[0;34m.\u001b[0m\u001b[0mextend\u001b[0m\u001b[0;34m(\u001b[0m\u001b[0mjob\u001b[0m\u001b[0;34m.\u001b[0m\u001b[0mget\u001b[0m\u001b[0;34m(\u001b[0m\u001b[0;34m)\u001b[0m\u001b[0;34m)\u001b[0m\u001b[0;34m\u001b[0m\u001b[0;34m\u001b[0m\u001b[0m\n",
      "\u001b[0;32m~/anaconda3/envs/dinc_proj/lib/python3.7/site-packages/sklearn/externals/joblib/_parallel_backends.py\u001b[0m in \u001b[0;36mwrap_future_result\u001b[0;34m(future, timeout)\u001b[0m\n\u001b[1;32m    519\u001b[0m         AsyncResults.get from multiprocessing.\"\"\"\n\u001b[1;32m    520\u001b[0m         \u001b[0;32mtry\u001b[0m\u001b[0;34m:\u001b[0m\u001b[0;34m\u001b[0m\u001b[0;34m\u001b[0m\u001b[0m\n\u001b[0;32m--> 521\u001b[0;31m             \u001b[0;32mreturn\u001b[0m \u001b[0mfuture\u001b[0m\u001b[0;34m.\u001b[0m\u001b[0mresult\u001b[0m\u001b[0;34m(\u001b[0m\u001b[0mtimeout\u001b[0m\u001b[0;34m=\u001b[0m\u001b[0mtimeout\u001b[0m\u001b[0;34m)\u001b[0m\u001b[0;34m\u001b[0m\u001b[0;34m\u001b[0m\u001b[0m\n\u001b[0m\u001b[1;32m    522\u001b[0m         \u001b[0;32mexcept\u001b[0m \u001b[0mLokyTimeoutError\u001b[0m\u001b[0;34m:\u001b[0m\u001b[0;34m\u001b[0m\u001b[0;34m\u001b[0m\u001b[0m\n\u001b[1;32m    523\u001b[0m             \u001b[0;32mraise\u001b[0m \u001b[0mTimeoutError\u001b[0m\u001b[0;34m(\u001b[0m\u001b[0;34m)\u001b[0m\u001b[0;34m\u001b[0m\u001b[0;34m\u001b[0m\u001b[0m\n",
      "\u001b[0;32m~/anaconda3/envs/dinc_proj/lib/python3.7/concurrent/futures/_base.py\u001b[0m in \u001b[0;36mresult\u001b[0;34m(self, timeout)\u001b[0m\n\u001b[1;32m    425\u001b[0m                 \u001b[0;32mreturn\u001b[0m \u001b[0mself\u001b[0m\u001b[0;34m.\u001b[0m\u001b[0m__get_result\u001b[0m\u001b[0;34m(\u001b[0m\u001b[0;34m)\u001b[0m\u001b[0;34m\u001b[0m\u001b[0;34m\u001b[0m\u001b[0m\n\u001b[1;32m    426\u001b[0m \u001b[0;34m\u001b[0m\u001b[0m\n\u001b[0;32m--> 427\u001b[0;31m             \u001b[0mself\u001b[0m\u001b[0;34m.\u001b[0m\u001b[0m_condition\u001b[0m\u001b[0;34m.\u001b[0m\u001b[0mwait\u001b[0m\u001b[0;34m(\u001b[0m\u001b[0mtimeout\u001b[0m\u001b[0;34m)\u001b[0m\u001b[0;34m\u001b[0m\u001b[0;34m\u001b[0m\u001b[0m\n\u001b[0m\u001b[1;32m    428\u001b[0m \u001b[0;34m\u001b[0m\u001b[0m\n\u001b[1;32m    429\u001b[0m             \u001b[0;32mif\u001b[0m \u001b[0mself\u001b[0m\u001b[0;34m.\u001b[0m\u001b[0m_state\u001b[0m \u001b[0;32min\u001b[0m \u001b[0;34m[\u001b[0m\u001b[0mCANCELLED\u001b[0m\u001b[0;34m,\u001b[0m \u001b[0mCANCELLED_AND_NOTIFIED\u001b[0m\u001b[0;34m]\u001b[0m\u001b[0;34m:\u001b[0m\u001b[0;34m\u001b[0m\u001b[0;34m\u001b[0m\u001b[0m\n",
      "\u001b[0;32m~/anaconda3/envs/dinc_proj/lib/python3.7/threading.py\u001b[0m in \u001b[0;36mwait\u001b[0;34m(self, timeout)\u001b[0m\n\u001b[1;32m    294\u001b[0m         \u001b[0;32mtry\u001b[0m\u001b[0;34m:\u001b[0m    \u001b[0;31m# restore state no matter what (e.g., KeyboardInterrupt)\u001b[0m\u001b[0;34m\u001b[0m\u001b[0;34m\u001b[0m\u001b[0m\n\u001b[1;32m    295\u001b[0m             \u001b[0;32mif\u001b[0m \u001b[0mtimeout\u001b[0m \u001b[0;32mis\u001b[0m \u001b[0;32mNone\u001b[0m\u001b[0;34m:\u001b[0m\u001b[0;34m\u001b[0m\u001b[0;34m\u001b[0m\u001b[0m\n\u001b[0;32m--> 296\u001b[0;31m                 \u001b[0mwaiter\u001b[0m\u001b[0;34m.\u001b[0m\u001b[0macquire\u001b[0m\u001b[0;34m(\u001b[0m\u001b[0;34m)\u001b[0m\u001b[0;34m\u001b[0m\u001b[0;34m\u001b[0m\u001b[0m\n\u001b[0m\u001b[1;32m    297\u001b[0m                 \u001b[0mgotit\u001b[0m \u001b[0;34m=\u001b[0m \u001b[0;32mTrue\u001b[0m\u001b[0;34m\u001b[0m\u001b[0;34m\u001b[0m\u001b[0m\n\u001b[1;32m    298\u001b[0m             \u001b[0;32melse\u001b[0m\u001b[0;34m:\u001b[0m\u001b[0;34m\u001b[0m\u001b[0;34m\u001b[0m\u001b[0m\n",
      "\u001b[0;31mKeyboardInterrupt\u001b[0m: "
     ]
    }
   ],
   "source": [
    "tnp = load_hdf('data/tnp_train.h5',.1)\n",
    "\n",
    "y = tnp[\"Final_Fare\"].copy()\n",
    "X = tnp.drop([\"Final_Fare\"], axis = 1)\n",
    "\n",
    "\n",
    "X_train, Xv, y_train, yv = train_test_split(X, y, test_size=0.2, random_state=42)\n",
    "\n",
    "dvalid = xgb.DMatrix(Xv.values, label=yv.values)\n",
    "dtrain = xgb.DMatrix(X_train.values, label=y_train.values)\n",
    "\n",
    "param_dist = {'max_depth': randint(low=4, high=20),\n",
    "              'n_estimators': randint(low=20, high=400),\n",
    "              'min_child_weight':randint(low=5, high=200),\n",
    "              'eta':uniform(0.15,.2),\n",
    "              'colsample_bytree':uniform(0.2,.4),\n",
    "              'subsample': uniform(0.4,.5),\n",
    "              'lambda': uniform(0.5,3.)\n",
    "             }\n",
    "\n",
    "xgb_model = xgb.XGBRegressor({\n",
    "              'booster' : 'gbtree', 'eval_metric': 'rmse','silent': 1, 'objective': 'reg:squarederror'})\n",
    "clf =  RandomizedSearchCV(xgb_model,\n",
    "                   param_dist, verbose=1,n_jobs = 6,n_iter=100, cv=5, scoring='neg_mean_squared_error')\n",
    "clf.fit(X.values,y.values)\n",
    "print(clf.best_score_)\n",
    "print(clf.best_params_)"
   ]
  },
  {
   "cell_type": "markdown",
   "metadata": {},
   "source": [
    "##### Full model:"
   ]
  },
  {
   "cell_type": "code",
   "execution_count": 4,
   "metadata": {},
   "outputs": [
    {
     "name": "stdout",
     "output_type": "stream",
     "text": [
      "[0]\ttrain-rmse:10.3066\tvalid-rmse:10.2168\n",
      "Multiple eval metrics have been passed: 'valid-rmse' will be used for early stopping.\n",
      "\n",
      "Will train until valid-rmse hasn't improved in 50 rounds.\n",
      "[1]\ttrain-rmse:7.63373\tvalid-rmse:7.55668\n",
      "[2]\ttrain-rmse:6.01776\tvalid-rmse:5.94467\n",
      "[3]\ttrain-rmse:4.88693\tvalid-rmse:4.82407\n",
      "[4]\ttrain-rmse:3.99234\tvalid-rmse:3.93312\n",
      "[5]\ttrain-rmse:3.56509\tvalid-rmse:3.51459\n",
      "[6]\ttrain-rmse:3.32918\tvalid-rmse:3.28273\n",
      "[7]\ttrain-rmse:3.18631\tvalid-rmse:3.14705\n",
      "[8]\ttrain-rmse:3.00321\tvalid-rmse:2.96797\n",
      "[9]\ttrain-rmse:2.95587\tvalid-rmse:2.92661\n",
      "[10]\ttrain-rmse:2.86019\tvalid-rmse:2.83337\n",
      "[11]\ttrain-rmse:2.84666\tvalid-rmse:2.82242\n",
      "[12]\ttrain-rmse:2.8352\tvalid-rmse:2.81488\n",
      "[13]\ttrain-rmse:2.79364\tvalid-rmse:2.77506\n",
      "[14]\ttrain-rmse:2.76857\tvalid-rmse:2.75163\n",
      "[15]\ttrain-rmse:2.76217\tvalid-rmse:2.74886\n",
      "[16]\ttrain-rmse:2.75693\tvalid-rmse:2.74646\n",
      "[17]\ttrain-rmse:2.75072\tvalid-rmse:2.74092\n",
      "[18]\ttrain-rmse:2.74753\tvalid-rmse:2.73924\n",
      "[19]\ttrain-rmse:2.73529\tvalid-rmse:2.72865\n",
      "[20]\ttrain-rmse:2.73171\tvalid-rmse:2.72661\n",
      "[21]\ttrain-rmse:2.72004\tvalid-rmse:2.71761\n",
      "[22]\ttrain-rmse:2.71667\tvalid-rmse:2.71571\n",
      "[23]\ttrain-rmse:2.71476\tvalid-rmse:2.71517\n",
      "[24]\ttrain-rmse:2.71106\tvalid-rmse:2.71455\n",
      "[25]\ttrain-rmse:2.70943\tvalid-rmse:2.71259\n",
      "[26]\ttrain-rmse:2.70484\tvalid-rmse:2.71371\n",
      "[27]\ttrain-rmse:2.70078\tvalid-rmse:2.71134\n",
      "[28]\ttrain-rmse:2.6991\tvalid-rmse:2.71043\n",
      "[29]\ttrain-rmse:2.69701\tvalid-rmse:2.70971\n",
      "[30]\ttrain-rmse:2.69014\tvalid-rmse:2.7049\n",
      "[31]\ttrain-rmse:2.68336\tvalid-rmse:2.70107\n",
      "[32]\ttrain-rmse:2.68084\tvalid-rmse:2.69963\n",
      "[33]\ttrain-rmse:2.6799\tvalid-rmse:2.69858\n",
      "[34]\ttrain-rmse:2.67729\tvalid-rmse:2.69735\n",
      "[35]\ttrain-rmse:2.67596\tvalid-rmse:2.69674\n",
      "[36]\ttrain-rmse:2.6754\tvalid-rmse:2.69634\n",
      "[37]\ttrain-rmse:2.67373\tvalid-rmse:2.69523\n",
      "[38]\ttrain-rmse:2.67281\tvalid-rmse:2.69513\n",
      "[39]\ttrain-rmse:2.66963\tvalid-rmse:2.69305\n",
      "[40]\ttrain-rmse:2.66705\tvalid-rmse:2.69311\n",
      "[41]\ttrain-rmse:2.66654\tvalid-rmse:2.69438\n",
      "[42]\ttrain-rmse:2.66406\tvalid-rmse:2.69427\n",
      "[43]\ttrain-rmse:2.66201\tvalid-rmse:2.69455\n",
      "[44]\ttrain-rmse:2.65965\tvalid-rmse:2.6936\n",
      "[45]\ttrain-rmse:2.65841\tvalid-rmse:2.69297\n",
      "[46]\ttrain-rmse:2.65814\tvalid-rmse:2.69318\n",
      "[47]\ttrain-rmse:2.65663\tvalid-rmse:2.69392\n",
      "[48]\ttrain-rmse:2.65482\tvalid-rmse:2.69262\n",
      "[49]\ttrain-rmse:2.65409\tvalid-rmse:2.69388\n",
      "[50]\ttrain-rmse:2.65118\tvalid-rmse:2.69288\n",
      "[51]\ttrain-rmse:2.64888\tvalid-rmse:2.69316\n",
      "[52]\ttrain-rmse:2.64685\tvalid-rmse:2.69289\n",
      "[53]\ttrain-rmse:2.64457\tvalid-rmse:2.69315\n",
      "[54]\ttrain-rmse:2.6438\tvalid-rmse:2.69377\n",
      "[55]\ttrain-rmse:2.64308\tvalid-rmse:2.69512\n",
      "[56]\ttrain-rmse:2.64252\tvalid-rmse:2.69527\n",
      "[57]\ttrain-rmse:2.64103\tvalid-rmse:2.69637\n",
      "[58]\ttrain-rmse:2.63898\tvalid-rmse:2.69515\n",
      "[59]\ttrain-rmse:2.63718\tvalid-rmse:2.69567\n",
      "[60]\ttrain-rmse:2.6365\tvalid-rmse:2.6963\n",
      "[61]\ttrain-rmse:2.63432\tvalid-rmse:2.69617\n",
      "[62]\ttrain-rmse:2.63296\tvalid-rmse:2.69498\n",
      "[63]\ttrain-rmse:2.63212\tvalid-rmse:2.69487\n",
      "[64]\ttrain-rmse:2.63063\tvalid-rmse:2.69407\n",
      "[65]\ttrain-rmse:2.62977\tvalid-rmse:2.69421\n",
      "[66]\ttrain-rmse:2.62851\tvalid-rmse:2.69394\n",
      "[67]\ttrain-rmse:2.62794\tvalid-rmse:2.69474\n",
      "[68]\ttrain-rmse:2.62743\tvalid-rmse:2.69483\n",
      "[69]\ttrain-rmse:2.62646\tvalid-rmse:2.69489\n",
      "[70]\ttrain-rmse:2.6258\tvalid-rmse:2.69463\n",
      "[71]\ttrain-rmse:2.62544\tvalid-rmse:2.69611\n",
      "[72]\ttrain-rmse:2.62488\tvalid-rmse:2.69604\n",
      "[73]\ttrain-rmse:2.62364\tvalid-rmse:2.6962\n",
      "[74]\ttrain-rmse:2.62326\tvalid-rmse:2.696\n",
      "[75]\ttrain-rmse:2.62243\tvalid-rmse:2.69719\n",
      "[76]\ttrain-rmse:2.62168\tvalid-rmse:2.6981\n",
      "[77]\ttrain-rmse:2.61947\tvalid-rmse:2.69882\n",
      "[78]\ttrain-rmse:2.61892\tvalid-rmse:2.69955\n",
      "[79]\ttrain-rmse:2.61799\tvalid-rmse:2.69891\n",
      "[80]\ttrain-rmse:2.61744\tvalid-rmse:2.69815\n",
      "[81]\ttrain-rmse:2.61553\tvalid-rmse:2.69765\n",
      "[82]\ttrain-rmse:2.61371\tvalid-rmse:2.69797\n",
      "[83]\ttrain-rmse:2.61179\tvalid-rmse:2.69643\n",
      "[84]\ttrain-rmse:2.61136\tvalid-rmse:2.69716\n",
      "[85]\ttrain-rmse:2.61018\tvalid-rmse:2.69702\n",
      "[86]\ttrain-rmse:2.60959\tvalid-rmse:2.69757\n",
      "[87]\ttrain-rmse:2.60895\tvalid-rmse:2.69755\n",
      "[88]\ttrain-rmse:2.60823\tvalid-rmse:2.69717\n",
      "[89]\ttrain-rmse:2.60715\tvalid-rmse:2.69668\n",
      "[90]\ttrain-rmse:2.60627\tvalid-rmse:2.69625\n",
      "[91]\ttrain-rmse:2.60556\tvalid-rmse:2.69654\n",
      "[92]\ttrain-rmse:2.60529\tvalid-rmse:2.69553\n",
      "[93]\ttrain-rmse:2.60488\tvalid-rmse:2.6958\n",
      "[94]\ttrain-rmse:2.60398\tvalid-rmse:2.69631\n",
      "[95]\ttrain-rmse:2.60344\tvalid-rmse:2.69667\n",
      "[96]\ttrain-rmse:2.60283\tvalid-rmse:2.69627\n",
      "[97]\ttrain-rmse:2.60192\tvalid-rmse:2.69716\n",
      "[98]\ttrain-rmse:2.60165\tvalid-rmse:2.69712\n",
      "Stopping. Best iteration:\n",
      "[48]\ttrain-rmse:2.65482\tvalid-rmse:2.69262\n",
      "\n",
      "Modeling RMSLE 2.69262\n",
      "Training time: 8 seconds\n"
     ]
    }
   ],
   "source": [
    "X = load_hdf('data/tnp_train.h5',1)\n",
    "X.drop(['Pickup_Community_Area', 'Dropoff_Community_Area','l2_dist_km','x_dist_km','y_dist_km','bearing'], axis = 1, inplace = True)\n",
    "\n",
    "y = X[\"Final_Fare\"].copy()\n",
    "X.drop([\"Final_Fare\"], axis = 1, inplace = True)\n",
    "\n",
    "\n",
    "X_train, Xv, y_train, yv = train_test_split(X, y, test_size=0.2, random_state=42)\n",
    "\n",
    "dvalid = xgb.DMatrix(Xv.values, label=yv.values,feature_names = Xv.columns)\n",
    "dtrain = xgb.DMatrix(X_train.values, label=y_train.values, feature_names = X_train.columns)\n",
    "\n",
    "watchlist = [(dtrain, 'train'), (dvalid, 'valid')]\n",
    "\n",
    "\n",
    "xgb_pars = {'colsample_bytree': 0.439881349485437, 'eta': 0.2913248799253698, 'lambda': 1.0784417148624983, 'max_depth': 5, \n",
    "            'min_child_weight': 61, 'n_estimators': 131, 'subsample': 0.8144003761476369, 'nthread': 7, \n",
    "            'booster' : 'gbtree', 'silent': 1,\n",
    "            'eval_metric': 'rmse', 'objective': 'reg:squarederror'}\n",
    "\n",
    "\n",
    "t0 = dt.datetime.now()\n",
    "model = xgb.train(xgb_pars, dtrain, 100, watchlist, early_stopping_rounds=50,\n",
    "                  maximize=False, verbose_eval=1)\n",
    "\n",
    "t1 = dt.datetime.now()\n",
    "print('Modeling RMSLE %.5f' % model.best_score)\n",
    "print('Training time: %i seconds' % (t1 - t0).seconds)\n",
    "\n",
    "#model.save_model(\"tnp_xgb_full\")\n",
    "\n",
    "# this is a way of saving metadata like feature names to the model\n",
    "if hasattr(model, 'feature_names'): model.set_attr(feature_names = '|'.join(model.feature_names))\n",
    "\n",
    "model.save_model(\"tnp_xgb_full_reduced_params\")"
   ]
  },
  {
   "cell_type": "code",
   "execution_count": 28,
   "metadata": {},
   "outputs": [
    {
     "data": {
      "text/plain": [
       "Index(['Trip_Seconds', 'Trip_Miles', 'Shared_Trip_Authorized',\n",
       "       'Pickup_Centroid_Latitude', 'Pickup_Centroid_Longitude',\n",
       "       'Dropoff_Centroid_Latitude', 'Dropoff_Centroid_Longitude', 'vel_mph',\n",
       "       'bAirport', 'day_of_wk', 'hour'],\n",
       "      dtype='object')"
      ]
     },
     "execution_count": 28,
     "metadata": {},
     "output_type": "execute_result"
    }
   ],
   "source": [
    "X.columns"
   ]
  },
  {
   "cell_type": "code",
   "execution_count": 31,
   "metadata": {},
   "outputs": [
    {
     "data": {
      "text/plain": [
       "['Trip_Seconds',\n",
       " 'Trip_Miles',\n",
       " 'Shared_Trip_Authorized',\n",
       " 'Pickup_Centroid_Latitude',\n",
       " 'Pickup_Centroid_Longitude',\n",
       " 'Dropoff_Centroid_Latitude',\n",
       " 'Dropoff_Centroid_Longitude',\n",
       " 'vel_mph',\n",
       " 'bAirport',\n",
       " 'day_of_wk',\n",
       " 'hour']"
      ]
     },
     "execution_count": 31,
     "metadata": {},
     "output_type": "execute_result"
    }
   ],
   "source": [
    "model.feature_names"
   ]
  },
  {
   "cell_type": "code",
   "execution_count": null,
   "metadata": {},
   "outputs": [],
   "source": []
  }
 ],
 "metadata": {
  "kernelspec": {
   "display_name": "Python 3",
   "language": "python",
   "name": "python3"
  },
  "language_info": {
   "codemirror_mode": {
    "name": "ipython",
    "version": 3
   },
   "file_extension": ".py",
   "mimetype": "text/x-python",
   "name": "python",
   "nbconvert_exporter": "python",
   "pygments_lexer": "ipython3",
   "version": "3.7.3"
  }
 },
 "nbformat": 4,
 "nbformat_minor": 4
}
