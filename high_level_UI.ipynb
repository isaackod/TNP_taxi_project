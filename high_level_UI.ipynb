{
 "cells": [
  {
   "cell_type": "markdown",
   "metadata": {},
   "source": [
    "Video Notes:\n",
    "- end on a note of the webapp\n",
    "- say i'm going to move to webapp at the end\n",
    "- ask an audience member for locations\n",
    "- say 'pooled' ride instead of shared\n",
    "- double check spelling\n",
    "- shorter problem slide? could make it more personal. \n",
    "- Some visual of a person going from the airport?\n",
    "\n",
    "\n",
    "This notebook is intended to simulate what the UI will look like and is top-level"
   ]
  },
  {
   "cell_type": "code",
   "execution_count": 16,
   "metadata": {},
   "outputs": [
    {
     "name": "stdout",
     "output_type": "stream",
     "text": [
      "The autoreload extension is already loaded. To reload it, use:\n",
      "  %reload_ext autoreload\n"
     ]
    }
   ],
   "source": [
    "import pandas as pd\n",
    "import numpy as np\n",
    "import matplotlib.pyplot as plt\n",
    "import altair as alt\n",
    "import seaborn as sns\n",
    "from scipy.stats import gaussian_kde\n",
    "import datetime\n",
    "import pytz\n",
    "import altair as alt\n",
    "sns.set()\n",
    "import matplotlib\n",
    "matplotlib.rcParams['figure.dpi'] = 144\n",
    "\n",
    "from datetime import datetime, timedelta\n",
    "\n",
    "from Fair_Fare.feature_utils import load_hdf\n",
    "from Fair_Fare.aggregations import bin_on_time_distance\n",
    "from Fair_Fare.model_utils import get_model_from_file, predict_fare\n",
    "from Fair_Fare.trips import Stop, Ride\n",
    "from Fair_Fare.api_interactions import price_estimate_from_lyft, get_current_time_in_chicago\n",
    "\n",
    "\n",
    "%load_ext autoreload\n",
    "%autoreload 2\n"
   ]
  },
  {
   "cell_type": "code",
   "execution_count": 73,
   "metadata": {},
   "outputs": [],
   "source": [
    "models = {\"path\":\"models/\", \"taxi\":\"taxi_xgb_full_reduced_params\", \"rideshare\":\"tnp_xgb_full_reduced_params\" }\n",
    "data = {\"path\":\"data/\",\"taxi\":\"taxi_test.h5\", \"rideshare\":\"tnp_test.h5\" }\n",
    "\n",
    "taxi_model = get_model_from_file(models['path']+models['taxi'])\n",
    "taxi_data = load_hdf(data['path']+data['taxi'])\n",
    "\n",
    "rideshare_model = get_model_from_file(models['path']+models['rideshare'])\n",
    "rideshare_data = load_hdf(data['path']+data['rideshare'])\n",
    "\n",
    "# TODO: Consider seperating the binning from the dataframe object\n",
    "# (should def. do if we switch to SQL database)\n",
    "rideshare_binned = bin_on_time_distance(rideshare_data)\n",
    "del(rideshare_data)\n",
    "taxi_binned = bin_on_time_distance(taxi_data)\n",
    "del(taxi_data)\n",
    "\n"
   ]
  },
  {
   "cell_type": "markdown",
   "metadata": {},
   "source": [
    "## Fair Fare API\n",
    "\n",
    "Below is a live demo that runs the processing and visualization for a user entered trip.\n",
    "\n",
    "### Downtown-Downtown Trip"
   ]
  },
  {
   "cell_type": "code",
   "execution_count": 100,
   "metadata": {},
   "outputs": [],
   "source": [
    "from Fair_Fare.top_level import run_Fair_Fare\n",
    "\n",
    "USER_PARAMS = {\"pickup\": \"aquarium chicago\",\n",
    "               \"dropoff\": \"the bean cicago\",\n",
    "               \"forecast_hrs\":1}"
   ]
  },
  {
   "cell_type": "code",
   "execution_count": 118,
   "metadata": {},
   "outputs": [],
   "source": [
    "results = run_Fair_Fare(USER_PARAMS,rideshare_binned,taxi_binned,taxi_model,rideshare_model)"
   ]
  },
  {
   "cell_type": "code",
   "execution_count": 129,
   "metadata": {},
   "outputs": [
    {
     "name": "stdout",
     "output_type": "stream",
     "text": [
      "Rideshare_pooled_price_estimate     6.12\n",
      "Rideshare_regular_price_estimate    9.18\n",
      "Taxi_price_estimate                 9.64\n",
      "Name: 0, dtype: float64\n",
      "9.636829\n"
     ]
    }
   ],
   "source": [
    "pd.set_option(\"display.precision\", 2)\n",
    "print(pd.DataFrame(results[0]).iloc[0])\n",
    "print(results[0]['Taxi_price_estimate'][0])"
   ]
  },
  {
   "cell_type": "code",
   "execution_count": 119,
   "metadata": {},
   "outputs": [
    {
     "data": {
      "application/vnd.vegalite.v3+json": {
       "$schema": "https://vega.github.io/schema/vega-lite/v3.3.0.json",
       "config": {
        "mark": {
         "tooltip": null
        },
        "view": {
         "height": 300,
         "width": 400
        }
       },
       "datasets": {
        "data-8bebdd664d44599a68c3bea53d5c872c": [
         {
          "parameter": "Pooled_Rideshare_Dist",
          "value": 0.10357023781350656,
          "x": 3.773773773773774
         },
         {
          "parameter": "Pooled_Rideshare_Dist",
          "value": 0.12958403973303642,
          "x": 3.9339339339339343
         },
         {
          "parameter": "Pooled_Rideshare_Dist",
          "value": 0.15768544438241766,
          "x": 4.094094094094094
         },
         {
          "parameter": "Pooled_Rideshare_Dist",
          "value": 0.18625167018608782,
          "x": 4.2542542542542545
         },
         {
          "parameter": "Pooled_Rideshare_Dist",
          "value": 0.21329656246481069,
          "x": 4.414414414414415
         },
         {
          "parameter": "Pooled_Rideshare_Dist",
          "value": 0.2366982216790178,
          "x": 4.574574574574575
         },
         {
          "parameter": "Pooled_Rideshare_Dist",
          "value": 0.2544898539234883,
          "x": 4.734734734734735
         },
         {
          "parameter": "Pooled_Rideshare_Dist",
          "value": 0.2651646991451394,
          "x": 4.894894894894895
         },
         {
          "parameter": "Pooled_Rideshare_Dist",
          "value": 0.26793593802976584,
          "x": 5.055055055055055
         },
         {
          "parameter": "Pooled_Rideshare_Dist",
          "value": 0.26289638873787036,
          "x": 5.215215215215215
         },
         {
          "parameter": "Pooled_Rideshare_Dist",
          "value": 0.2510406464527869,
          "x": 5.375375375375375
         },
         {
          "parameter": "Pooled_Rideshare_Dist",
          "value": 0.23413986654114033,
          "x": 5.535535535535535
         },
         {
          "parameter": "Pooled_Rideshare_Dist",
          "value": 0.2144894537785035,
          "x": 5.6956956956956954
         },
         {
          "parameter": "Pooled_Rideshare_Dist",
          "value": 0.1945747770180827,
          "x": 5.8558558558558556
         },
         {
          "parameter": "Pooled_Rideshare_Dist",
          "value": 0.1767139713799385,
          "x": 6.016016016016017
         },
         {
          "parameter": "Pooled_Rideshare_Dist",
          "value": 0.1627378058272626,
          "x": 6.1761761761761775
         },
         {
          "parameter": "Pooled_Rideshare_Dist",
          "value": 0.15375604972085644,
          "x": 6.336336336336338
         },
         {
          "parameter": "Pooled_Rideshare_Dist",
          "value": 0.15004176706298805,
          "x": 6.496496496496498
         },
         {
          "parameter": "Pooled_Rideshare_Dist",
          "value": 0.1510441213130481,
          "x": 6.656656656656658
         },
         {
          "parameter": "Pooled_Rideshare_Dist",
          "value": 0.15552035703600267,
          "x": 6.816816816816818
         },
         {
          "parameter": "Pooled_Rideshare_Dist",
          "value": 0.16176099772336958,
          "x": 6.976976976976978
         },
         {
          "parameter": "Pooled_Rideshare_Dist",
          "value": 0.16787023352951305,
          "x": 7.137137137137138
         },
         {
          "parameter": "Pooled_Rideshare_Dist",
          "value": 0.17205683272509564,
          "x": 7.297297297297298
         },
         {
          "parameter": "Pooled_Rideshare_Dist",
          "value": 0.17289055878292808,
          "x": 7.457457457457458
         },
         {
          "parameter": "Pooled_Rideshare_Dist",
          "value": 0.16948565469563354,
          "x": 7.6176176176176185
         },
         {
          "parameter": "Pooled_Rideshare_Dist",
          "value": 0.16158619630995125,
          "x": 7.777777777777779
         },
         {
          "parameter": "Pooled_Rideshare_Dist",
          "value": 0.14954617572544263,
          "x": 7.937937937937939
         },
         {
          "parameter": "Pooled_Rideshare_Dist",
          "value": 0.13421657913198048,
          "x": 8.098098098098099
         },
         {
          "parameter": "Pooled_Rideshare_Dist",
          "value": 0.11676812498506632,
          "x": 8.258258258258259
         },
         {
          "parameter": "Pooled_Rideshare_Dist",
          "value": 0.09848785934871714,
          "x": 8.418418418418419
         },
         {
          "parameter": "Pooled_Rideshare_Dist",
          "value": 0.08058841684935372,
          "x": 8.578578578578579
         },
         {
          "parameter": "Pooled_Rideshare_Dist",
          "value": 0.06406093804280276,
          "x": 8.73873873873874
         },
         {
          "parameter": "Pooled_Rideshare_Dist",
          "value": 0.04958918641544716,
          "x": 8.8988988988989
         },
         {
          "parameter": "Pooled_Rideshare_Dist",
          "value": 0.03752738375727637,
          "x": 9.05905905905906
         },
         {
          "parameter": "Pooled_Rideshare_Dist",
          "value": 0.027931585904215777,
          "x": 9.21921921921922
         },
         {
          "parameter": "Pooled_Rideshare_Dist",
          "value": 0.02062663842384886,
          "x": 9.37937937937938
         },
         {
          "parameter": "Pooled_Rideshare_Dist",
          "value": 0.015288619966225589,
          "x": 9.53953953953954
         },
         {
          "parameter": "Pooled_Rideshare_Dist",
          "value": 0.011525271148626382,
          "x": 9.6996996996997
         },
         {
          "parameter": "Pooled_Rideshare_Dist",
          "value": 0.008942309831774041,
          "x": 9.85985985985986
         },
         {
          "parameter": "Pooled_Rideshare_Dist",
          "value": 0.007189679857876411,
          "x": 10.02002002002002
         },
         {
          "parameter": "Pooled_Rideshare_Dist",
          "value": 0.005987073272898442,
          "x": 10.18018018018018
         },
         {
          "parameter": "Pooled_Rideshare_Dist",
          "value": 0.0051316679948652045,
          "x": 10.34034034034034
         },
         {
          "parameter": "Pooled_Rideshare_Dist",
          "value": 0.004492809956527122,
          "x": 10.5005005005005
         },
         {
          "parameter": "Pooled_Rideshare_Dist",
          "value": 0.003998688445456685,
          "x": 10.66066066066066
         },
         {
          "parameter": "Pooled_Rideshare_Dist",
          "value": 0.0036194402620014707,
          "x": 10.82082082082082
         },
         {
          "parameter": "Pooled_Rideshare_Dist",
          "value": 0.0033500773043785483,
          "x": 10.98098098098098
         },
         {
          "parameter": "Pooled_Rideshare_Dist",
          "value": 0.003195527861615908,
          "x": 11.14114114114114
         },
         {
          "parameter": "Pooled_Rideshare_Dist",
          "value": 0.003159117671482625,
          "x": 11.3013013013013
         },
         {
          "parameter": "Pooled_Rideshare_Dist",
          "value": 0.00323506495055688,
          "x": 11.461461461461461
         },
         {
          "parameter": "Pooled_Rideshare_Dist",
          "value": 0.003405011996453987,
          "x": 11.621621621621621
         },
         {
          "parameter": "Pooled_Rideshare_Dist",
          "value": 0.003638213042601703,
          "x": 11.781781781781781
         },
         {
          "parameter": "Pooled_Rideshare_Dist",
          "value": 0.0038946898146622333,
          "x": 11.941941941941941
         },
         {
          "parameter": "Pooled_Rideshare_Dist",
          "value": 0.004130422849823034,
          "x": 12.102102102102101
         },
         {
          "parameter": "Pooled_Rideshare_Dist",
          "value": 0.0043034748921163095,
          "x": 12.262262262262261
         },
         {
          "parameter": "Pooled_Rideshare_Dist",
          "value": 0.004379880496146205,
          "x": 12.422422422422422
         },
         {
          "parameter": "Pooled_Rideshare_Dist",
          "value": 0.004338229667649474,
          "x": 12.582582582582582
         },
         {
          "parameter": "Pooled_Rideshare_Dist",
          "value": 0.004172146266013034,
          "x": 12.742742742742742
         },
         {
          "parameter": "Pooled_Rideshare_Dist",
          "value": 0.003890288856413762,
          "x": 12.902902902902902
         },
         {
          "parameter": "Pooled_Rideshare_Dist",
          "value": 0.003514003238207818,
          "x": 13.063063063063062
         },
         {
          "parameter": "Pooled_Rideshare_Dist",
          "value": 0.0030732171462993264,
          "x": 13.223223223223222
         },
         {
          "parameter": "Pooled_Rideshare_Dist",
          "value": 0.0026014756693694616,
          "x": 13.383383383383382
         },
         {
          "parameter": "Pooled_Rideshare_Dist",
          "value": 0.0021310993392073055,
          "x": 13.543543543543542
         },
         {
          "parameter": "Pooled_Rideshare_Dist",
          "value": 0.001689300494843468,
          "x": 13.703703703703702
         },
         {
          "parameter": "Pooled_Rideshare_Dist",
          "value": 0.0012957781165255835,
          "x": 13.863863863863862
         },
         {
          "parameter": "Pooled_Rideshare_Dist",
          "value": 0.0009619289917906472,
          "x": 14.024024024024023
         },
         {
          "parameter": "Pooled_Rideshare_Dist",
          "value": 0.000691470522602465,
          "x": 14.184184184184183
         },
         {
          "parameter": "Pooled_Rideshare_Dist",
          "value": 0.00048204514066705007,
          "x": 14.344344344344343
         },
         {
          "parameter": "Pooled_Rideshare_Dist",
          "value": 0.0003272977024922158,
          "x": 14.504504504504503
         },
         {
          "parameter": "Pooled_Rideshare_Dist",
          "value": 0.00021896780353989048,
          "x": 14.664664664664663
         },
         {
          "parameter": "Pooled_Rideshare_Dist",
          "value": 0.00014867005373507785,
          "x": 14.824824824824823
         },
         {
          "parameter": "Pooled_Rideshare_Dist",
          "value": 0.00010918969498360695,
          "x": 14.984984984984983
         },
         {
          "parameter": "Pooled_Rideshare_Dist",
          "value": 9.525208175718588e-05,
          "x": 15.145145145145143
         },
         {
          "parameter": "Pooled_Rideshare_Dist",
          "value": 0.0001038079146985583,
          "x": 15.305305305305303
         },
         {
          "parameter": "Pooled_Rideshare_Dist",
          "value": 0.00013391029871858193,
          "x": 15.465465465465464
         },
         {
          "parameter": "Pooled_Rideshare_Dist",
          "value": 0.00018626036558647908,
          "x": 15.625625625625624
         },
         {
          "parameter": "Pooled_Rideshare_Dist",
          "value": 0.00026248845593101523,
          "x": 15.785785785785787
         },
         {
          "parameter": "Pooled_Rideshare_Dist",
          "value": 0.0003642384287281972,
          "x": 15.945945945945947
         },
         {
          "parameter": "Pooled_Rideshare_Dist",
          "value": 0.0004921444117857212,
          "x": 16.106106106106107
         },
         {
          "parameter": "Pooled_Rideshare_Dist",
          "value": 0.0006448293936966198,
          "x": 16.266266266266268
         },
         {
          "parameter": "Pooled_Rideshare_Dist",
          "value": 0.0008180976151837717,
          "x": 16.426426426426428
         },
         {
          "parameter": "Rideshare_Dist",
          "value": 4.817465744399335e-05,
          "x": 3.773773773773774
         },
         {
          "parameter": "Rideshare_Dist",
          "value": 0.00010184085977602667,
          "x": 3.9339339339339343
         },
         {
          "parameter": "Rideshare_Dist",
          "value": 0.00020834941443584234,
          "x": 4.094094094094094
         },
         {
          "parameter": "Rideshare_Dist",
          "value": 0.00041249709738096983,
          "x": 4.2542542542542545
         },
         {
          "parameter": "Rideshare_Dist",
          "value": 0.0007903155385646889,
          "x": 4.414414414414415
         },
         {
          "parameter": "Rideshare_Dist",
          "value": 0.0014652937833890365,
          "x": 4.574574574574575
         },
         {
          "parameter": "Rideshare_Dist",
          "value": 0.002628983302165523,
          "x": 4.734734734734735
         },
         {
          "parameter": "Rideshare_Dist",
          "value": 0.004564413532219615,
          "x": 4.894894894894895
         },
         {
          "parameter": "Rideshare_Dist",
          "value": 0.007668526641551016,
          "x": 5.055055055055055
         },
         {
          "parameter": "Rideshare_Dist",
          "value": 0.012467087581978273,
          "x": 5.215215215215215
         },
         {
          "parameter": "Rideshare_Dist",
          "value": 0.019612868161353506,
          "x": 5.375375375375375
         },
         {
          "parameter": "Rideshare_Dist",
          "value": 0.029856412791071596,
          "x": 5.535535535535535
         },
         {
          "parameter": "Rideshare_Dist",
          "value": 0.04397972168466697,
          "x": 5.6956956956956954
         },
         {
          "parameter": "Rideshare_Dist",
          "value": 0.06268795788398586,
          "x": 5.8558558558558556
         },
         {
          "parameter": "Rideshare_Dist",
          "value": 0.08646327313960832,
          "x": 6.016016016016017
         },
         {
          "parameter": "Rideshare_Dist",
          "value": 0.11539714531359403,
          "x": 6.1761761761761775
         },
         {
          "parameter": "Rideshare_Dist",
          "value": 0.14903058702892794,
          "x": 6.336336336336338
         },
         {
          "parameter": "Rideshare_Dist",
          "value": 0.186241120397369,
          "x": 6.496496496496498
         },
         {
          "parameter": "Rideshare_Dist",
          "value": 0.22521699779030643,
          "x": 6.656656656656658
         },
         {
          "parameter": "Rideshare_Dist",
          "value": 0.2635495041766198,
          "x": 6.816816816816818
         },
         {
          "parameter": "Rideshare_Dist",
          "value": 0.2984529825654917,
          "x": 6.976976976976978
         },
         {
          "parameter": "Rideshare_Dist",
          "value": 0.3270931341476121,
          "x": 7.137137137137138
         },
         {
          "parameter": "Rideshare_Dist",
          "value": 0.34697442064098655,
          "x": 7.297297297297298
         },
         {
          "parameter": "Rideshare_Dist",
          "value": 0.35631597257590947,
          "x": 7.457457457457458
         },
         {
          "parameter": "Rideshare_Dist",
          "value": 0.3543398962403528,
          "x": 7.6176176176176185
         },
         {
          "parameter": "Rideshare_Dist",
          "value": 0.3414096187463409,
          "x": 7.777777777777779
         },
         {
          "parameter": "Rideshare_Dist",
          "value": 0.3189863588301218,
          "x": 7.937937937937939
         },
         {
          "parameter": "Rideshare_Dist",
          "value": 0.2894110016057488,
          "x": 8.098098098098099
         },
         {
          "parameter": "Rideshare_Dist",
          "value": 0.25555579553677815,
          "x": 8.258258258258259
         },
         {
          "parameter": "Rideshare_Dist",
          "value": 0.22041541085766514,
          "x": 8.418418418418419
         },
         {
          "parameter": "Rideshare_Dist",
          "value": 0.18671413325501834,
          "x": 8.578578578578579
         },
         {
          "parameter": "Rideshare_Dist",
          "value": 0.15659515929810616,
          "x": 8.73873873873874
         },
         {
          "parameter": "Rideshare_Dist",
          "value": 0.13143409837730613,
          "x": 8.8988988988989
         },
         {
          "parameter": "Rideshare_Dist",
          "value": 0.11178969802758247,
          "x": 9.05905905905906
         },
         {
          "parameter": "Rideshare_Dist",
          "value": 0.09747824889606914,
          "x": 9.21921921921922
         },
         {
          "parameter": "Rideshare_Dist",
          "value": 0.08773945568973814,
          "x": 9.37937937937938
         },
         {
          "parameter": "Rideshare_Dist",
          "value": 0.08145279249594878,
          "x": 9.53953953953954
         },
         {
          "parameter": "Rideshare_Dist",
          "value": 0.07736358034545861,
          "x": 9.6996996996997
         },
         {
          "parameter": "Rideshare_Dist",
          "value": 0.07428465275334317,
          "x": 9.85985985985986
         },
         {
          "parameter": "Rideshare_Dist",
          "value": 0.07124960653251261,
          "x": 10.02002002002002
         },
         {
          "parameter": "Rideshare_Dist",
          "value": 0.06760489567861307,
          "x": 10.18018018018018
         },
         {
          "parameter": "Rideshare_Dist",
          "value": 0.06303879144622505,
          "x": 10.34034034034034
         },
         {
          "parameter": "Rideshare_Dist",
          "value": 0.05755442578527703,
          "x": 10.5005005005005
         },
         {
          "parameter": "Rideshare_Dist",
          "value": 0.051400957679628816,
          "x": 10.66066066066066
         },
         {
          "parameter": "Rideshare_Dist",
          "value": 0.044980741259922095,
          "x": 10.82082082082082
         },
         {
          "parameter": "Rideshare_Dist",
          "value": 0.03875094143740572,
          "x": 10.98098098098098
         },
         {
          "parameter": "Rideshare_Dist",
          "value": 0.03313556951200099,
          "x": 11.14114114114114
         },
         {
          "parameter": "Rideshare_Dist",
          "value": 0.02845921833425264,
          "x": 11.3013013013013
         },
         {
          "parameter": "Rideshare_Dist",
          "value": 0.024908101230762467,
          "x": 11.461461461461461
         },
         {
          "parameter": "Rideshare_Dist",
          "value": 0.02251863505754175,
          "x": 11.621621621621621
         },
         {
          "parameter": "Rideshare_Dist",
          "value": 0.02118972410769306,
          "x": 11.781781781781781
         },
         {
          "parameter": "Rideshare_Dist",
          "value": 0.02071251188973888,
          "x": 11.941941941941941
         },
         {
          "parameter": "Rideshare_Dist",
          "value": 0.020810541509470877,
          "x": 12.102102102102101
         },
         {
          "parameter": "Rideshare_Dist",
          "value": 0.021183540878196964,
          "x": 12.262262262262261
         },
         {
          "parameter": "Rideshare_Dist",
          "value": 0.02154891916180515,
          "x": 12.422422422422422
         },
         {
          "parameter": "Rideshare_Dist",
          "value": 0.021676187952391478,
          "x": 12.582582582582582
         },
         {
          "parameter": "Rideshare_Dist",
          "value": 0.021410795645030668,
          "x": 12.742742742742742
         },
         {
          "parameter": "Rideshare_Dist",
          "value": 0.020685319210094883,
          "x": 12.902902902902902
         },
         {
          "parameter": "Rideshare_Dist",
          "value": 0.019517615583716456,
          "x": 13.063063063063062
         },
         {
          "parameter": "Rideshare_Dist",
          "value": 0.0179972878646842,
          "x": 13.223223223223222
         },
         {
          "parameter": "Rideshare_Dist",
          "value": 0.016263415524170616,
          "x": 13.383383383383382
         },
         {
          "parameter": "Rideshare_Dist",
          "value": 0.0144776168335033,
          "x": 13.543543543543542
         },
         {
          "parameter": "Rideshare_Dist",
          "value": 0.012796909481417495,
          "x": 13.703703703703702
         },
         {
          "parameter": "Rideshare_Dist",
          "value": 0.011350441716119132,
          "x": 13.863863863863862
         },
         {
          "parameter": "Rideshare_Dist",
          "value": 0.010223115254231877,
          "x": 14.024024024024023
         },
         {
          "parameter": "Rideshare_Dist",
          "value": 0.00944769395745047,
          "x": 14.184184184184183
         },
         {
          "parameter": "Rideshare_Dist",
          "value": 0.0090055119947385,
          "x": 14.344344344344343
         },
         {
          "parameter": "Rideshare_Dist",
          "value": 0.008834626513604796,
          "x": 14.504504504504503
         },
         {
          "parameter": "Rideshare_Dist",
          "value": 0.008843355725711287,
          "x": 14.664664664664663
         },
         {
          "parameter": "Rideshare_Dist",
          "value": 0.008926649314919707,
          "x": 14.824824824824823
         },
         {
          "parameter": "Rideshare_Dist",
          "value": 0.008982633172096658,
          "x": 14.984984984984983
         },
         {
          "parameter": "Rideshare_Dist",
          "value": 0.008926910134704065,
          "x": 15.145145145145143
         },
         {
          "parameter": "Rideshare_Dist",
          "value": 0.008702733704513039,
          "x": 15.305305305305303
         },
         {
          "parameter": "Rideshare_Dist",
          "value": 0.008285939979635613,
          "x": 15.465465465465464
         },
         {
          "parameter": "Rideshare_Dist",
          "value": 0.0076844269966409,
          "x": 15.625625625625624
         },
         {
          "parameter": "Rideshare_Dist",
          "value": 0.006932870043379147,
          "x": 15.785785785785787
         },
         {
          "parameter": "Rideshare_Dist",
          "value": 0.006084092302160985,
          "x": 15.945945945945947
         },
         {
          "parameter": "Rideshare_Dist",
          "value": 0.005198928520515903,
          "x": 16.106106106106107
         },
         {
          "parameter": "Rideshare_Dist",
          "value": 0.004336449942374393,
          "x": 16.266266266266268
         },
         {
          "parameter": "Rideshare_Dist",
          "value": 0.003546083551649519,
          "x": 16.426426426426428
         },
         {
          "parameter": "Taxi_Dist",
          "value": 0.0003276217651738244,
          "x": 3.773773773773774
         },
         {
          "parameter": "Taxi_Dist",
          "value": 0.000295189438909007,
          "x": 3.9339339339339343
         },
         {
          "parameter": "Taxi_Dist",
          "value": 0.0002264706529875465,
          "x": 4.094094094094094
         },
         {
          "parameter": "Taxi_Dist",
          "value": 0.00014794697719350725,
          "x": 4.2542542542542545
         },
         {
          "parameter": "Taxi_Dist",
          "value": 8.229686796989264e-05,
          "x": 4.414414414414415
         },
         {
          "parameter": "Taxi_Dist",
          "value": 3.898015533883424e-05,
          "x": 4.574574574574575
         },
         {
          "parameter": "Taxi_Dist",
          "value": 1.5721242660743693e-05,
          "x": 4.734734734734735
         },
         {
          "parameter": "Taxi_Dist",
          "value": 5.398998903747208e-06,
          "x": 4.894894894894895
         },
         {
          "parameter": "Taxi_Dist",
          "value": 1.5787861973974224e-06,
          "x": 5.055055055055055
         },
         {
          "parameter": "Taxi_Dist",
          "value": 3.931385513127103e-07,
          "x": 5.215215215215215
         },
         {
          "parameter": "Taxi_Dist",
          "value": 8.360511322912698e-08,
          "x": 5.375375375375375
         },
         {
          "parameter": "Taxi_Dist",
          "value": 1.7107497408676885e-08,
          "x": 5.535535535535535
         },
         {
          "parameter": "Taxi_Dist",
          "value": 1.6431462591404454e-08,
          "x": 5.6956956956956954
         },
         {
          "parameter": "Taxi_Dist",
          "value": 8.349215806016138e-08,
          "x": 5.8558558558558556
         },
         {
          "parameter": "Taxi_Dist",
          "value": 4.2293789850247646e-07,
          "x": 6.016016016016017
         },
         {
          "parameter": "Taxi_Dist",
          "value": 1.8634004142706978e-06,
          "x": 6.1761761761761775
         },
         {
          "parameter": "Taxi_Dist",
          "value": 7.164023331210295e-06,
          "x": 6.336336336336338
         },
         {
          "parameter": "Taxi_Dist",
          "value": 2.427069774533803e-05,
          "x": 6.496496496496498
         },
         {
          "parameter": "Taxi_Dist",
          "value": 7.35193368738574e-05,
          "x": 6.656656656656658
         },
         {
          "parameter": "Taxi_Dist",
          "value": 0.00020324652351106897,
          "x": 6.816816816816818
         },
         {
          "parameter": "Taxi_Dist",
          "value": 0.0005261604546400226,
          "x": 6.976976976976978
         },
         {
          "parameter": "Taxi_Dist",
          "value": 0.0013084883663751791,
          "x": 7.137137137137138
         },
         {
          "parameter": "Taxi_Dist",
          "value": 0.0031748236628465886,
          "x": 7.297297297297298
         },
         {
          "parameter": "Taxi_Dist",
          "value": 0.0075042930547986764,
          "x": 7.457457457457458
         },
         {
          "parameter": "Taxi_Dist",
          "value": 0.017012753088718253,
          "x": 7.6176176176176185
         },
         {
          "parameter": "Taxi_Dist",
          "value": 0.036257975377836954,
          "x": 7.777777777777779
         },
         {
          "parameter": "Taxi_Dist",
          "value": 0.07141646421272016,
          "x": 7.937937937937939
         },
         {
          "parameter": "Taxi_Dist",
          "value": 0.12850170461973978,
          "x": 8.098098098098099
         },
         {
          "parameter": "Taxi_Dist",
          "value": 0.20978000511285558,
          "x": 8.258258258258259
         },
         {
          "parameter": "Taxi_Dist",
          "value": 0.3096879615693198,
          "x": 8.418418418418419
         },
         {
          "parameter": "Taxi_Dist",
          "value": 0.4131535921351771,
          "x": 8.578578578578579
         },
         {
          "parameter": "Taxi_Dist",
          "value": 0.499025586533249,
          "x": 8.73873873873874
         },
         {
          "parameter": "Taxi_Dist",
          "value": 0.548314523131793,
          "x": 8.8988988988989
         },
         {
          "parameter": "Taxi_Dist",
          "value": 0.5528925056376326,
          "x": 9.05905905905906
         },
         {
          "parameter": "Taxi_Dist",
          "value": 0.5189241341572448,
          "x": 9.21921921921922
         },
         {
          "parameter": "Taxi_Dist",
          "value": 0.46260948189335976,
          "x": 9.37937937937938
         },
         {
          "parameter": "Taxi_Dist",
          "value": 0.40134400210345145,
          "x": 9.53953953953954
         },
         {
          "parameter": "Taxi_Dist",
          "value": 0.3463015894876174,
          "x": 9.6996996996997
         },
         {
          "parameter": "Taxi_Dist",
          "value": 0.30044636984152695,
          "x": 9.85985985985986
         },
         {
          "parameter": "Taxi_Dist",
          "value": 0.26143216223938626,
          "x": 10.02002002002002
         },
         {
          "parameter": "Taxi_Dist",
          "value": 0.22587873736511693,
          "x": 10.18018018018018
         },
         {
          "parameter": "Taxi_Dist",
          "value": 0.19195682181975862,
          "x": 10.34034034034034
         },
         {
          "parameter": "Taxi_Dist",
          "value": 0.15962172845505035,
          "x": 10.5005005005005
         },
         {
          "parameter": "Taxi_Dist",
          "value": 0.12966642442615933,
          "x": 10.66066066066066
         },
         {
          "parameter": "Taxi_Dist",
          "value": 0.10288324388984302,
          "x": 10.82082082082082
         },
         {
          "parameter": "Taxi_Dist",
          "value": 0.07976171894839851,
          "x": 10.98098098098098
         },
         {
          "parameter": "Taxi_Dist",
          "value": 0.06050332401616732,
          "x": 11.14114114114114
         },
         {
          "parameter": "Taxi_Dist",
          "value": 0.04507774151389863,
          "x": 11.3013013013013
         },
         {
          "parameter": "Taxi_Dist",
          "value": 0.03323571777435331,
          "x": 11.461461461461461
         },
         {
          "parameter": "Taxi_Dist",
          "value": 0.024516320988155902,
          "x": 11.621621621621621
         },
         {
          "parameter": "Taxi_Dist",
          "value": 0.01830577418171258,
          "x": 11.781781781781781
         },
         {
          "parameter": "Taxi_Dist",
          "value": 0.013960528584196377,
          "x": 11.941941941941941
         },
         {
          "parameter": "Taxi_Dist",
          "value": 0.010934590893216628,
          "x": 12.102102102102101
         },
         {
          "parameter": "Taxi_Dist",
          "value": 0.008828823593786273,
          "x": 12.262262262262261
         },
         {
          "parameter": "Taxi_Dist",
          "value": 0.0073500188090398835,
          "x": 12.422422422422422
         },
         {
          "parameter": "Taxi_Dist",
          "value": 0.0062512740620526515,
          "x": 12.582582582582582
         },
         {
          "parameter": "Taxi_Dist",
          "value": 0.005322942698701914,
          "x": 12.742742742742742
         },
         {
          "parameter": "Taxi_Dist",
          "value": 0.004429543732133626,
          "x": 12.902902902902902
         },
         {
          "parameter": "Taxi_Dist",
          "value": 0.0035371078066776755,
          "x": 13.063063063063062
         },
         {
          "parameter": "Taxi_Dist",
          "value": 0.0026950163257082114,
          "x": 13.223223223223222
         },
         {
          "parameter": "Taxi_Dist",
          "value": 0.0019865371975174902,
          "x": 13.383383383383382
         },
         {
          "parameter": "Taxi_Dist",
          "value": 0.0014829464523937374,
          "x": 13.543543543543542
         },
         {
          "parameter": "Taxi_Dist",
          "value": 0.0012166569220224356,
          "x": 13.703703703703702
         },
         {
          "parameter": "Taxi_Dist",
          "value": 0.001166586646899167,
          "x": 13.863863863863862
         },
         {
          "parameter": "Taxi_Dist",
          "value": 0.0012541893042027903,
          "x": 14.024024024024023
         },
         {
          "parameter": "Taxi_Dist",
          "value": 0.0013642261414615955,
          "x": 14.184184184184183
         },
         {
          "parameter": "Taxi_Dist",
          "value": 0.0013939426056094617,
          "x": 14.344344344344343
         },
         {
          "parameter": "Taxi_Dist",
          "value": 0.0013011814035829006,
          "x": 14.504504504504503
         },
         {
          "parameter": "Taxi_Dist",
          "value": 0.0011121589406560657,
          "x": 14.664664664664663
         },
         {
          "parameter": "Taxi_Dist",
          "value": 0.0008850975456720376,
          "x": 14.824824824824823
         },
         {
          "parameter": "Taxi_Dist",
          "value": 0.000666808450381089,
          "x": 14.984984984984983
         },
         {
          "parameter": "Taxi_Dist",
          "value": 0.0004773673551892581,
          "x": 15.145145145145143
         },
         {
          "parameter": "Taxi_Dist",
          "value": 0.00032188176675488624,
          "x": 15.305305305305303
         },
         {
          "parameter": "Taxi_Dist",
          "value": 0.00020522454447364624,
          "x": 15.465465465465464
         },
         {
          "parameter": "Taxi_Dist",
          "value": 0.00013498063465859723,
          "x": 15.625625625625624
         },
         {
          "parameter": "Taxi_Dist",
          "value": 0.00011622812538233605,
          "x": 15.785785785785787
         },
         {
          "parameter": "Taxi_Dist",
          "value": 0.0001458925123568645,
          "x": 15.945945945945947
         },
         {
          "parameter": "Taxi_Dist",
          "value": 0.0002090547892503596,
          "x": 16.106106106106107
         },
         {
          "parameter": "Taxi_Dist",
          "value": 0.00027874294771884135,
          "x": 16.266266266266268
         },
         {
          "parameter": "Taxi_Dist",
          "value": 0.0003232443872605053,
          "x": 16.426426426426428
         }
        ],
        "data-aa8792f47bd55fc3b5932b8e26a6f48f": [
         {
          "hour": 0,
          "parameter": "Rideshare_pooled_price_estimate",
          "value": 6.116457939147949
         },
         {
          "hour": 0,
          "parameter": "Rideshare_regular_price_estimate",
          "value": 9.180596351623535
         },
         {
          "hour": 0,
          "parameter": "Taxi_price_estimate",
          "value": 9.636829376220703
         }
        ]
       },
       "layer": [
        {
         "data": {
          "name": "data-aa8792f47bd55fc3b5932b8e26a6f48f"
         },
         "encoding": {
          "color": {
           "field": "parameter",
           "scale": {
            "domain": [
             "Rideshare_pooled_price_estimate",
             "Rideshare_regular_price_estimate",
             "Taxi_price_estimate"
            ],
            "range": [
             "red",
             "green",
             "blue"
            ]
           },
           "type": "nominal"
          },
          "size": {
           "value": 5
          },
          "x": {
           "field": "value",
           "type": "quantitative"
          }
         },
         "mark": {
          "color": "red",
          "type": "rule"
         },
         "selection": {
          " ": {
           "bind": {
            "input": "range",
            "max": 9,
            "min": 0,
            "step": 1
           },
           "fields": [
            "hour"
           ],
           "init": {
            "hour": 0
           },
           "type": "single"
          }
         },
         "transform": [
          {
           "filter": {
            "selection": " "
           }
          }
         ]
        },
        {
         "data": {
          "name": "data-8bebdd664d44599a68c3bea53d5c872c"
         },
         "encoding": {
          "color": {
           "field": "parameter",
           "legend": null,
           "scale": {
            "domain": [
             "Pooled_Rideshare_Dist",
             "Rideshare_Dist",
             "Taxi_Dist"
            ],
            "range": [
             "red",
             "green",
             "blue"
            ]
           },
           "type": "nominal"
          },
          "opacity": {
           "condition": {
            "selection": "Ride Type",
            "value": 0.6
           },
           "value": 0
          },
          "x": {
           "field": "x",
           "title": "Ride Cost (Dollars)",
           "type": "quantitative"
          },
          "y": {
           "field": "value",
           "title": "Density",
           "type": "quantitative"
          }
         },
         "mark": {
          "point": false,
          "size": 4,
          "type": "area"
         },
         "selection": {
          "Ride Type": {
           "bind": {
            "input": "select",
            "options": [
             "Pooled_Rideshare_Dist",
             "Rideshare_Dist",
             "Taxi_Dist"
            ]
           },
           "clear": false,
           "fields": [
            "parameter"
           ],
           "init": {
            "parameter": "Rideshare_Dist"
           },
           "on": "doubleclick",
           "type": "single"
          }
         }
        }
       ]
      },
      "image/png": "[encoded data removed]",
      "text/plain": [
       "<VegaLite 3 object>\n",
       "\n",
       "If you see this message, it means the renderer has not been properly enabled\n",
       "for the frontend that you are using. For more information, see\n",
       "https://altair-viz.github.io/user_guide/troubleshooting.html\n"
      ]
     },
     "execution_count": 119,
     "metadata": {},
     "output_type": "execute_result"
    }
   ],
   "source": [
    "\n",
    "from Fair_Fare.plotting import build_hists_for_altair, build_preds_for_altair, show_viz\n",
    "\n",
    "rideshare_shared_fares,rideshare_fares,taxi_fares = results[2:5]\n",
    "fare_dict = {'Pooled_Rideshare_Dist':rideshare_shared_fares, \n",
    "             'Rideshare_Dist': rideshare_fares, 'Taxi_Dist': taxi_fares}\n",
    "predictions = results[0]\n",
    "\n",
    "show_viz(results,fare_dict, predictions)"
   ]
  },
  {
   "cell_type": "markdown",
   "metadata": {},
   "source": [
    "### Airport Trip"
   ]
  },
  {
   "cell_type": "code",
   "execution_count": 72,
   "metadata": {},
   "outputs": [
    {
     "name": "stdout",
     "output_type": "stream",
     "text": [
      "Rideshare_shared_price_estimate     34.70\n",
      "Rideshare_regular_price_estimate    49.65\n",
      "Taxi_price_estimate                 72.21\n",
      "Name: 0, dtype: float64\n"
     ]
    },
    {
     "data": {
      "application/vnd.vegalite.v3+json": {
       "$schema": "https://vega.github.io/schema/vega-lite/v3.3.0.json",
       "config": {
        "mark": {
         "tooltip": null
        },
        "view": {
         "height": 300,
         "width": 400
        }
       },
       "datasets": {
        "data-06d31e01a0060a4a20c9312e8cd867bb": [
         {
          "hour": 0,
          "parameter": "Rideshare_shared_price_estimate",
          "value": 34.69689178466797
         },
         {
          "hour": 0,
          "parameter": "Rideshare_regular_price_estimate",
          "value": 49.6521110534668
         },
         {
          "hour": 0,
          "parameter": "Taxi_price_estimate",
          "value": 72.2065658569336
         }
        ],
        "data-f0c1fcdfb3277d4a0d17387cf11418cd": [
         {
          "parameter": "Pooled_Rideshare_Dist",
          "value": 0.00031497266086310453,
          "x": 4.094094094094094
         },
         {
          "parameter": "Pooled_Rideshare_Dist",
          "value": 0.0003336031581079284,
          "x": 4.2542542542542545
         },
         {
          "parameter": "Pooled_Rideshare_Dist",
          "value": 0.000353654691026262,
          "x": 4.414414414414415
         },
         {
          "parameter": "Pooled_Rideshare_Dist",
          "value": 0.000375272117089469,
          "x": 4.574574574574575
         },
         {
          "parameter": "Pooled_Rideshare_Dist",
          "value": 0.00039861305565516594,
          "x": 4.734734734734735
         },
         {
          "parameter": "Pooled_Rideshare_Dist",
          "value": 0.00042384844374344655,
          "x": 4.894894894894895
         },
         {
          "parameter": "Pooled_Rideshare_Dist",
          "value": 0.00045116305858798676,
          "x": 5.055055055055055
         },
         {
          "parameter": "Pooled_Rideshare_Dist",
          "value": 0.00048075600075741815,
          "x": 5.215215215215215
         },
         {
          "parameter": "Pooled_Rideshare_Dist",
          "value": 0.000512841131572263,
          "x": 5.375375375375375
         },
         {
          "parameter": "Pooled_Rideshare_Dist",
          "value": 0.0005476474585286633,
          "x": 5.535535535535535
         },
         {
          "parameter": "Pooled_Rideshare_Dist",
          "value": 0.0005854194624852066,
          "x": 5.6956956956956954
         },
         {
          "parameter": "Pooled_Rideshare_Dist",
          "value": 0.0006264173604758628,
          "x": 5.8558558558558556
         },
         {
          "parameter": "Pooled_Rideshare_Dist",
          "value": 0.0006709172981822017,
          "x": 6.016016016016017
         },
         {
          "parameter": "Pooled_Rideshare_Dist",
          "value": 0.0007192114663326796,
          "x": 6.1761761761761775
         },
         {
          "parameter": "Pooled_Rideshare_Dist",
          "value": 0.000771608135596046,
          "x": 6.336336336336338
         },
         {
          "parameter": "Pooled_Rideshare_Dist",
          "value": 0.0008284316048990608,
          "x": 6.496496496496498
         },
         {
          "parameter": "Pooled_Rideshare_Dist",
          "value": 0.0008900220585241107,
          "x": 6.656656656656658
         },
         {
          "parameter": "Pooled_Rideshare_Dist",
          "value": 0.0009567353278271911,
          "x": 6.816816816816818
         },
         {
          "parameter": "Pooled_Rideshare_Dist",
          "value": 0.0010289425539574753,
          "x": 6.976976976976978
         },
         {
          "parameter": "Pooled_Rideshare_Dist",
          "value": 0.0011070297485515923,
          "x": 7.137137137137138
         },
         {
          "parameter": "Pooled_Rideshare_Dist",
          "value": 0.001191397250013107,
          "x": 7.297297297297298
         },
         {
          "parameter": "Pooled_Rideshare_Dist",
          "value": 0.00128245907366395,
          "x": 7.457457457457458
         },
         {
          "parameter": "Pooled_Rideshare_Dist",
          "value": 0.0013806421547621877,
          "x": 7.6176176176176185
         },
         {
          "parameter": "Pooled_Rideshare_Dist",
          "value": 0.001486385484111303,
          "x": 7.777777777777779
         },
         {
          "parameter": "Pooled_Rideshare_Dist",
          "value": 0.001600139136731184,
          "x": 7.937937937937939
         },
         {
          "parameter": "Pooled_Rideshare_Dist",
          "value": 0.0017223631948108766,
          "x": 8.098098098098099
         },
         {
          "parameter": "Pooled_Rideshare_Dist",
          "value": 0.0018535265669080319,
          "x": 8.258258258258259
         },
         {
          "parameter": "Pooled_Rideshare_Dist",
          "value": 0.001994105706090024,
          "x": 8.418418418418419
         },
         {
          "parameter": "Pooled_Rideshare_Dist",
          "value": 0.002144583230417025,
          "x": 8.578578578578579
         },
         {
          "parameter": "Pooled_Rideshare_Dist",
          "value": 0.002305446449838223,
          "x": 8.73873873873874
         },
         {
          "parameter": "Pooled_Rideshare_Dist",
          "value": 0.002477185804199886,
          "x": 8.8988988988989
         },
         {
          "parameter": "Pooled_Rideshare_Dist",
          "value": 0.002660293217639664,
          "x": 9.05905905905906
         },
         {
          "parameter": "Pooled_Rideshare_Dist",
          "value": 0.002855260375157928,
          "x": 9.21921921921922
         },
         {
          "parameter": "Pooled_Rideshare_Dist",
          "value": 0.003062576927608098,
          "x": 9.37937937937938
         },
         {
          "parameter": "Pooled_Rideshare_Dist",
          "value": 0.00328272863172875,
          "x": 9.53953953953954
         },
         {
          "parameter": "Pooled_Rideshare_Dist",
          "value": 0.003516195432148016,
          "x": 9.6996996996997
         },
         {
          "parameter": "Pooled_Rideshare_Dist",
          "value": 0.0037634494925236606,
          "x": 9.85985985985986
         },
         {
          "parameter": "Pooled_Rideshare_Dist",
          "value": 0.004024953183141135,
          "x": 10.02002002002002
         },
         {
          "parameter": "Pooled_Rideshare_Dist",
          "value": 0.004301157032379131,
          "x": 10.18018018018018
         },
         {
          "parameter": "Pooled_Rideshare_Dist",
          "value": 0.004592497649472377,
          "x": 10.34034034034034
         },
         {
          "parameter": "Pooled_Rideshare_Dist",
          "value": 0.004899395625961143,
          "x": 10.5005005005005
         },
         {
          "parameter": "Pooled_Rideshare_Dist",
          "value": 0.005222253423124719,
          "x": 10.66066066066066
         },
         {
          "parameter": "Pooled_Rideshare_Dist",
          "value": 0.0055614532525620035,
          "x": 10.82082082082082
         },
         {
          "parameter": "Pooled_Rideshare_Dist",
          "value": 0.0059173549569183975,
          "x": 10.98098098098098
         },
         {
          "parameter": "Pooled_Rideshare_Dist",
          "value": 0.006290293897577372,
          "x": 11.14114114114114
         },
         {
          "parameter": "Pooled_Rideshare_Dist",
          "value": 0.006680578855951261,
          "x": 11.3013013013013
         },
         {
          "parameter": "Pooled_Rideshare_Dist",
          "value": 0.007088489954833946,
          "x": 11.461461461461461
         },
         {
          "parameter": "Pooled_Rideshare_Dist",
          "value": 0.007514276606132715,
          "x": 11.621621621621621
         },
         {
          "parameter": "Pooled_Rideshare_Dist",
          "value": 0.007958155491191719,
          "x": 11.781781781781781
         },
         {
          "parameter": "Pooled_Rideshare_Dist",
          "value": 0.008420308579869385,
          "x": 11.941941941941941
         },
         {
          "parameter": "Pooled_Rideshare_Dist",
          "value": 0.00890088119454817,
          "x": 12.102102102102101
         },
         {
          "parameter": "Pooled_Rideshare_Dist",
          "value": 0.009399980125347986,
          "x": 12.262262262262261
         },
         {
          "parameter": "Pooled_Rideshare_Dist",
          "value": 0.009917671802991898,
          "x": 12.422422422422422
         },
         {
          "parameter": "Pooled_Rideshare_Dist",
          "value": 0.010453980536039702,
          "x": 12.582582582582582
         },
         {
          "parameter": "Pooled_Rideshare_Dist",
          "value": 0.011008886819563071,
          "x": 12.742742742742742
         },
         {
          "parameter": "Pooled_Rideshare_Dist",
          "value": 0.011582325722783348,
          "x": 12.902902902902902
         },
         {
          "parameter": "Pooled_Rideshare_Dist",
          "value": 0.012174185363724053,
          "x": 13.063063063063062
         },
         {
          "parameter": "Pooled_Rideshare_Dist",
          "value": 0.012784305479535107,
          "x": 13.223223223223222
         },
         {
          "parameter": "Pooled_Rideshare_Dist",
          "value": 0.013412476101810148,
          "x": 13.383383383383382
         },
         {
          "parameter": "Pooled_Rideshare_Dist",
          "value": 0.014058436346925253,
          "x": 13.543543543543542
         },
         {
          "parameter": "Pooled_Rideshare_Dist",
          "value": 0.01472187333215455,
          "x": 13.703703703703702
         },
         {
          "parameter": "Pooled_Rideshare_Dist",
          "value": 0.015402421229040317,
          "x": 13.863863863863862
         },
         {
          "parameter": "Pooled_Rideshare_Dist",
          "value": 0.01609966046618511,
          "x": 14.024024024024023
         },
         {
          "parameter": "Pooled_Rideshare_Dist",
          "value": 0.01681311709425945,
          "x": 14.184184184184183
         },
         {
          "parameter": "Pooled_Rideshare_Dist",
          "value": 0.01754226232654968,
          "x": 14.344344344344343
         },
         {
          "parameter": "Pooled_Rideshare_Dist",
          "value": 0.018286512268772318,
          "x": 14.504504504504503
         },
         {
          "parameter": "Pooled_Rideshare_Dist",
          "value": 0.019045227852122065,
          "x": 14.664664664664663
         },
         {
          "parameter": "Pooled_Rideshare_Dist",
          "value": 0.019817714983566888,
          "x": 14.824824824824823
         },
         {
          "parameter": "Pooled_Rideshare_Dist",
          "value": 0.020603224927225914,
          "x": 14.984984984984983
         },
         {
          "parameter": "Pooled_Rideshare_Dist",
          "value": 0.021400954930237335,
          "x": 15.145145145145143
         },
         {
          "parameter": "Pooled_Rideshare_Dist",
          "value": 0.022210049105818884,
          "x": 15.305305305305303
         },
         {
          "parameter": "Pooled_Rideshare_Dist",
          "value": 0.023029599585226972,
          "x": 15.465465465465464
         },
         {
          "parameter": "Pooled_Rideshare_Dist",
          "value": 0.02385864794901657,
          "x": 15.625625625625624
         },
         {
          "parameter": "Pooled_Rideshare_Dist",
          "value": 0.024696186946388088,
          "x": 15.785785785785787
         },
         {
          "parameter": "Pooled_Rideshare_Dist",
          "value": 0.0255411625094785,
          "x": 15.945945945945947
         },
         {
          "parameter": "Pooled_Rideshare_Dist",
          "value": 0.026392476067222507,
          "x": 16.106106106106107
         },
         {
          "parameter": "Pooled_Rideshare_Dist",
          "value": 0.027248987160887254,
          "x": 16.266266266266268
         },
         {
          "parameter": "Pooled_Rideshare_Dist",
          "value": 0.028109516360599444,
          "x": 16.426426426426428
         },
         {
          "parameter": "Pooled_Rideshare_Dist",
          "value": 0.02897284847916385,
          "x": 16.586586586586588
         },
         {
          "parameter": "Pooled_Rideshare_Dist",
          "value": 0.02983773607625752,
          "x": 16.746746746746748
         },
         {
          "parameter": "Pooled_Rideshare_Dist",
          "value": 0.030702903242719605,
          "x": 16.906906906906908
         },
         {
          "parameter": "Pooled_Rideshare_Dist",
          "value": 0.031567049651193634,
          "x": 17.067067067067068
         },
         {
          "parameter": "Pooled_Rideshare_Dist",
          "value": 0.032428854855872616,
          "x": 17.227227227227228
         },
         {
          "parameter": "Pooled_Rideshare_Dist",
          "value": 0.03328698282060971,
          "x": 17.38738738738739
         },
         {
          "parameter": "Pooled_Rideshare_Dist",
          "value": 0.03414008665124883,
          "x": 17.54754754754755
         },
         {
          "parameter": "Pooled_Rideshare_Dist",
          "value": 0.03498681350476592,
          "x": 17.70770770770771
         },
         {
          "parameter": "Pooled_Rideshare_Dist",
          "value": 0.035825809644755804,
          "x": 17.86786786786787
         },
         {
          "parameter": "Pooled_Rideshare_Dist",
          "value": 0.03665572561001469,
          "x": 18.02802802802803
         },
         {
          "parameter": "Pooled_Rideshare_Dist",
          "value": 0.037475221460511576,
          "x": 18.18818818818819
         },
         {
          "parameter": "Pooled_Rideshare_Dist",
          "value": 0.038282972062970134,
          "x": 18.34834834834835
         },
         {
          "parameter": "Pooled_Rideshare_Dist",
          "value": 0.03907767237664208,
          "x": 18.50850850850851
         },
         {
          "parameter": "Pooled_Rideshare_Dist",
          "value": 0.039858042698686584,
          "x": 18.66866866866867
         },
         {
          "parameter": "Pooled_Rideshare_Dist",
          "value": 0.0406228338279105,
          "x": 18.82882882882883
         },
         {
          "parameter": "Pooled_Rideshare_Dist",
          "value": 0.04137083210549464,
          "x": 18.98898898898899
         },
         {
          "parameter": "Pooled_Rideshare_Dist",
          "value": 0.04210086429174714,
          "x": 19.14914914914915
         },
         {
          "parameter": "Pooled_Rideshare_Dist",
          "value": 0.0428118022388889,
          "x": 19.30930930930931
         },
         {
          "parameter": "Pooled_Rideshare_Dist",
          "value": 0.04350256732138295,
          "x": 19.46946946946947
         },
         {
          "parameter": "Pooled_Rideshare_Dist",
          "value": 0.04417213458735092,
          "x": 19.62962962962963
         },
         {
          "parameter": "Pooled_Rideshare_Dist",
          "value": 0.04481953659715051,
          "x": 19.78978978978979
         },
         {
          "parameter": "Pooled_Rideshare_Dist",
          "value": 0.04544386691817929,
          "x": 19.94994994994995
         },
         {
          "parameter": "Pooled_Rideshare_Dist",
          "value": 0.04604428324837968,
          "x": 20.11011011011011
         },
         {
          "parameter": "Pooled_Rideshare_Dist",
          "value": 0.04662001014469168,
          "x": 20.27027027027027
         },
         {
          "parameter": "Pooled_Rideshare_Dist",
          "value": 0.04717034133677707,
          "x": 20.43043043043043
         },
         {
          "parameter": "Pooled_Rideshare_Dist",
          "value": 0.04769464161065483,
          "x": 20.59059059059059
         },
         {
          "parameter": "Pooled_Rideshare_Dist",
          "value": 0.04819234825137422,
          "x": 20.75075075075075
         },
         {
          "parameter": "Pooled_Rideshare_Dist",
          "value": 0.048662972038438716,
          "x": 20.91091091091091
         },
         {
          "parameter": "Pooled_Rideshare_Dist",
          "value": 0.04910609779230866,
          "x": 21.07107107107107
         },
         {
          "parameter": "Pooled_Rideshare_Dist",
          "value": 0.04952138447488196,
          "x": 21.23123123123123
         },
         {
          "parameter": "Pooled_Rideshare_Dist",
          "value": 0.04990856485131196,
          "x": 21.39139139139139
         },
         {
          "parameter": "Pooled_Rideshare_Dist",
          "value": 0.050267444724804086,
          "x": 21.55155155155155
         },
         {
          "parameter": "Pooled_Rideshare_Dist",
          "value": 0.05059790176007725,
          "x": 21.71171171171171
         },
         {
          "parameter": "Pooled_Rideshare_Dist",
          "value": 0.050899883914929146,
          "x": 21.87187187187187
         },
         {
          "parameter": "Pooled_Rideshare_Dist",
          "value": 0.05117340750275669,
          "x": 22.032032032032035
         },
         {
          "parameter": "Pooled_Rideshare_Dist",
          "value": 0.05141855491191669,
          "x": 22.192192192192195
         },
         {
          "parameter": "Pooled_Rideshare_Dist",
          "value": 0.05163547201043336,
          "x": 22.352352352352355
         },
         {
          "parameter": "Pooled_Rideshare_Dist",
          "value": 0.051824365266746594,
          "x": 22.512512512512515
         },
         {
          "parameter": "Pooled_Rideshare_Dist",
          "value": 0.051985498618934034,
          "x": 22.672672672672675
         },
         {
          "parameter": "Pooled_Rideshare_Dist",
          "value": 0.05211919012612297,
          "x": 22.832832832832835
         },
         {
          "parameter": "Pooled_Rideshare_Dist",
          "value": 0.052225808436640285,
          "x": 22.992992992992995
         },
         {
          "parameter": "Pooled_Rideshare_Dist",
          "value": 0.05230576910783742,
          "x": 23.153153153153156
         },
         {
          "parameter": "Pooled_Rideshare_Dist",
          "value": 0.05235953081249232,
          "x": 23.313313313313316
         },
         {
          "parameter": "Pooled_Rideshare_Dist",
          "value": 0.05238759146625352,
          "x": 23.473473473473476
         },
         {
          "parameter": "Pooled_Rideshare_Dist",
          "value": 0.052390484309784394,
          "x": 23.633633633633636
         },
         {
          "parameter": "Pooled_Rideshare_Dist",
          "value": 0.05236877397811915,
          "x": 23.793793793793796
         },
         {
          "parameter": "Pooled_Rideshare_Dist",
          "value": 0.05232305258829686,
          "x": 23.953953953953956
         },
         {
          "parameter": "Pooled_Rideshare_Dist",
          "value": 0.05225393587463333,
          "x": 24.114114114114116
         },
         {
          "parameter": "Pooled_Rideshare_Dist",
          "value": 0.05216205939906539,
          "x": 24.274274274274276
         },
         {
          "parameter": "Pooled_Rideshare_Dist",
          "value": 0.0520480748618992,
          "x": 24.434434434434436
         },
         {
          "parameter": "Pooled_Rideshare_Dist",
          "value": 0.05191264653605617,
          "x": 24.594594594594597
         },
         {
          "parameter": "Pooled_Rideshare_Dist",
          "value": 0.05175644784557483,
          "x": 24.754754754754757
         },
         {
          "parameter": "Pooled_Rideshare_Dist",
          "value": 0.051580158106734296,
          "x": 24.914914914914917
         },
         {
          "parameter": "Pooled_Rideshare_Dist",
          "value": 0.05138445944774882,
          "x": 25.075075075075077
         },
         {
          "parameter": "Pooled_Rideshare_Dist",
          "value": 0.051170033920574905,
          "x": 25.235235235235237
         },
         {
          "parameter": "Pooled_Rideshare_Dist",
          "value": 0.05093756081600176,
          "x": 25.395395395395397
         },
         {
          "parameter": "Pooled_Rideshare_Dist",
          "value": 0.05068771419088487,
          "x": 25.555555555555557
         },
         {
          "parameter": "Pooled_Rideshare_Dist",
          "value": 0.05042116061415335,
          "x": 25.715715715715717
         },
         {
          "parameter": "Pooled_Rideshare_Dist",
          "value": 0.05013855713608811,
          "x": 25.875875875875877
         },
         {
          "parameter": "Pooled_Rideshare_Dist",
          "value": 0.04984054948334484,
          "x": 26.036036036036037
         },
         {
          "parameter": "Pooled_Rideshare_Dist",
          "value": 0.0495277704802881,
          "x": 26.196196196196198
         },
         {
          "parameter": "Pooled_Rideshare_Dist",
          "value": 0.049200838695419434,
          "x": 26.356356356356358
         },
         {
          "parameter": "Pooled_Rideshare_Dist",
          "value": 0.04886035731002205,
          "x": 26.516516516516518
         },
         {
          "parameter": "Pooled_Rideshare_Dist",
          "value": 0.048506913204609044,
          "x": 26.676676676676678
         },
         {
          "parameter": "Pooled_Rideshare_Dist",
          "value": 0.04814107625734793,
          "x": 26.836836836836838
         },
         {
          "parameter": "Pooled_Rideshare_Dist",
          "value": 0.04776339884733745,
          "x": 26.996996996996998
         },
         {
          "parameter": "Pooled_Rideshare_Dist",
          "value": 0.047374415554428506,
          "x": 27.157157157157158
         },
         {
          "parameter": "Pooled_Rideshare_Dist",
          "value": 0.046974643046204245,
          "x": 27.31731731731732
         },
         {
          "parameter": "Pooled_Rideshare_Dist",
          "value": 0.04656458014175828,
          "x": 27.47747747747748
         },
         {
          "parameter": "Pooled_Rideshare_Dist",
          "value": 0.046144708041031414,
          "x": 27.63763763763764
         },
         {
          "parameter": "Pooled_Rideshare_Dist",
          "value": 0.04571549070767899,
          "x": 27.7977977977978
         },
         {
          "parameter": "Pooled_Rideshare_Dist",
          "value": 0.045277375392742576,
          "x": 27.95795795795796
         },
         {
          "parameter": "Pooled_Rideshare_Dist",
          "value": 0.044830793285785854,
          "x": 28.11811811811812
         },
         {
          "parameter": "Pooled_Rideshare_Dist",
          "value": 0.04437616027962701,
          "x": 28.27827827827828
         },
         {
          "parameter": "Pooled_Rideshare_Dist",
          "value": 0.04391387783435709,
          "x": 28.43843843843844
         },
         {
          "parameter": "Pooled_Rideshare_Dist",
          "value": 0.04344433392597809,
          "x": 28.5985985985986
         },
         {
          "parameter": "Pooled_Rideshare_Dist",
          "value": 0.04296790406472973,
          "x": 28.75875875875876
         },
         {
          "parameter": "Pooled_Rideshare_Dist",
          "value": 0.04248495236800229,
          "x": 28.91891891891892
         },
         {
          "parameter": "Pooled_Rideshare_Dist",
          "value": 0.04199583267266074,
          "x": 29.07907907907908
         },
         {
          "parameter": "Pooled_Rideshare_Dist",
          "value": 0.041500889671637696,
          "x": 29.23923923923924
         },
         {
          "parameter": "Pooled_Rideshare_Dist",
          "value": 0.041000460059793374,
          "x": 29.3993993993994
         },
         {
          "parameter": "Pooled_Rideshare_Dist",
          "value": 0.04049487367429799,
          "x": 29.55955955955956
         },
         {
          "parameter": "Pooled_Rideshare_Dist",
          "value": 0.03998445461516713,
          "x": 29.71971971971972
         },
         {
          "parameter": "Pooled_Rideshare_Dist",
          "value": 0.03946952233207899,
          "x": 29.87987987987988
         },
         {
          "parameter": "Pooled_Rideshare_Dist",
          "value": 0.03895039266422751,
          "x": 30.04004004004004
         },
         {
          "parameter": "Pooled_Rideshare_Dist",
          "value": 0.038427378820714266,
          "x": 30.2002002002002
         },
         {
          "parameter": "Pooled_Rideshare_Dist",
          "value": 0.037900792289857876,
          "x": 30.36036036036036
         },
         {
          "parameter": "Pooled_Rideshare_Dist",
          "value": 0.037370943666795726,
          "x": 30.52052052052052
         },
         {
          "parameter": "Pooled_Rideshare_Dist",
          "value": 0.03683814338986504,
          "x": 30.68068068068068
         },
         {
          "parameter": "Pooled_Rideshare_Dist",
          "value": 0.036302702377470464,
          "x": 30.84084084084084
         },
         {
          "parameter": "Pooled_Rideshare_Dist",
          "value": 0.03576493255846255,
          "x": 31.001001001001
         },
         {
          "parameter": "Pooled_Rideshare_Dist",
          "value": 0.035225147290452584,
          "x": 31.16116116116116
         },
         {
          "parameter": "Pooled_Rideshare_Dist",
          "value": 0.034683661661960165,
          "x": 31.32132132132132
         },
         {
          "parameter": "Pooled_Rideshare_Dist",
          "value": 0.034140792675812555,
          "x": 31.48148148148148
         },
         {
          "parameter": "Pooled_Rideshare_Dist",
          "value": 0.03359685931276954,
          "x": 31.64164164164164
         },
         {
          "parameter": "Pooled_Rideshare_Dist",
          "value": 0.03305218247591678,
          "x": 31.8018018018018
         },
         {
          "parameter": "Pooled_Rideshare_Dist",
          "value": 0.03250708481792817,
          "x": 31.96196196196196
         },
         {
          "parameter": "Pooled_Rideshare_Dist",
          "value": 0.03196189045482746,
          "x": 32.12212212212212
         },
         {
          "parameter": "Pooled_Rideshare_Dist",
          "value": 0.03141692457135258,
          "x": 32.28228228228228
         },
         {
          "parameter": "Pooled_Rideshare_Dist",
          "value": 0.030872512924426745,
          "x": 32.44244244244244
         },
         {
          "parameter": "Pooled_Rideshare_Dist",
          "value": 0.030328981252542977,
          "x": 32.6026026026026
         },
         {
          "parameter": "Pooled_Rideshare_Dist",
          "value": 0.029786654600055928,
          "x": 32.76276276276276
         },
         {
          "parameter": "Pooled_Rideshare_Dist",
          "value": 0.02924585656642676,
          "x": 32.92292292292292
         },
         {
          "parameter": "Pooled_Rideshare_Dist",
          "value": 0.0287069084913694,
          "x": 33.08308308308308
         },
         {
          "parameter": "Pooled_Rideshare_Dist",
          "value": 0.028170128587583665,
          "x": 33.24324324324324
         },
         {
          "parameter": "Pooled_Rideshare_Dist",
          "value": 0.02763583103332413,
          "x": 33.4034034034034
         },
         {
          "parameter": "Pooled_Rideshare_Dist",
          "value": 0.02710432503743348,
          "x": 33.56356356356356
         },
         {
          "parameter": "Pooled_Rideshare_Dist",
          "value": 0.02657591388966264,
          "x": 33.72372372372372
         },
         {
          "parameter": "Pooled_Rideshare_Dist",
          "value": 0.026050894009104597,
          "x": 33.88388388388388
         },
         {
          "parameter": "Pooled_Rideshare_Dist",
          "value": 0.025529554003386926,
          "x": 34.04404404404404
         },
         {
          "parameter": "Pooled_Rideshare_Dist",
          "value": 0.02501217375090635,
          "x": 34.2042042042042
         },
         {
          "parameter": "Pooled_Rideshare_Dist",
          "value": 0.02449902351785304,
          "x": 34.36436436436436
         },
         {
          "parameter": "Pooled_Rideshare_Dist",
          "value": 0.023990363121076788,
          "x": 34.52452452452452
         },
         {
          "parameter": "Pooled_Rideshare_Dist",
          "value": 0.02348644114700423,
          "x": 34.68468468468468
         },
         {
          "parameter": "Pooled_Rideshare_Dist",
          "value": 0.02298749423584287,
          "x": 34.84484484484484
         },
         {
          "parameter": "Pooled_Rideshare_Dist",
          "value": 0.022493746439222174,
          "x": 35.005005005005
         },
         {
          "parameter": "Pooled_Rideshare_Dist",
          "value": 0.02200540865824416,
          "x": 35.16516516516516
         },
         {
          "parameter": "Pooled_Rideshare_Dist",
          "value": 0.02152267816766734,
          "x": 35.32532532532532
         },
         {
          "parameter": "Pooled_Rideshare_Dist",
          "value": 0.021045738230649546,
          "x": 35.48548548548548
         },
         {
          "parameter": "Pooled_Rideshare_Dist",
          "value": 0.020574757807150398,
          "x": 35.645645645645644
         },
         {
          "parameter": "Pooled_Rideshare_Dist",
          "value": 0.02010989135776312,
          "x": 35.805805805805804
         },
         {
          "parameter": "Pooled_Rideshare_Dist",
          "value": 0.019651278743431547,
          "x": 35.965965965965964
         },
         {
          "parameter": "Pooled_Rideshare_Dist",
          "value": 0.019199045220229485,
          "x": 36.126126126126124
         },
         {
          "parameter": "Pooled_Rideshare_Dist",
          "value": 0.01875330152715733,
          "x": 36.286286286286284
         },
         {
          "parameter": "Pooled_Rideshare_Dist",
          "value": 0.01831414406376047,
          "x": 36.446446446446444
         },
         {
          "parameter": "Pooled_Rideshare_Dist",
          "value": 0.01788165515331244,
          "x": 36.606606606606604
         },
         {
          "parameter": "Pooled_Rideshare_Dist",
          "value": 0.017455903386345464,
          "x": 36.766766766766764
         },
         {
          "parameter": "Pooled_Rideshare_Dist",
          "value": 0.017036944038463654,
          "x": 36.926926926926924
         },
         {
          "parameter": "Pooled_Rideshare_Dist",
          "value": 0.016624819555648124,
          "x": 37.087087087087085
         },
         {
          "parameter": "Pooled_Rideshare_Dist",
          "value": 0.016219560099665128,
          "x": 37.247247247247245
         },
         {
          "parameter": "Pooled_Rideshare_Dist",
          "value": 0.015821184145722023,
          "x": 37.407407407407405
         },
         {
          "parameter": "Pooled_Rideshare_Dist",
          "value": 0.015429699124182943,
          "x": 37.567567567567565
         },
         {
          "parameter": "Pooled_Rideshare_Dist",
          "value": 0.015045102097955825,
          "x": 37.727727727727725
         },
         {
          "parameter": "Pooled_Rideshare_Dist",
          "value": 0.014667380467092029,
          "x": 37.887887887887885
         },
         {
          "parameter": "Pooled_Rideshare_Dist",
          "value": 0.014296512692194738,
          "x": 38.048048048048045
         },
         {
          "parameter": "Pooled_Rideshare_Dist",
          "value": 0.013932469028405222,
          "x": 38.208208208208205
         },
         {
          "parameter": "Pooled_Rideshare_Dist",
          "value": 0.013575212262020062,
          "x": 38.368368368368365
         },
         {
          "parameter": "Pooled_Rideshare_Dist",
          "value": 0.013224698442176218,
          "x": 38.528528528528525
         },
         {
          "parameter": "Pooled_Rideshare_Dist",
          "value": 0.012880877600515445,
          "x": 38.688688688688686
         },
         {
          "parameter": "Pooled_Rideshare_Dist",
          "value": 0.012543694452292054,
          "x": 38.848848848848846
         },
         {
          "parameter": "Pooled_Rideshare_Dist",
          "value": 0.012213089073006878,
          "x": 39.009009009009006
         },
         {
          "parameter": "Pooled_Rideshare_Dist",
          "value": 0.01188899754532238,
          "x": 39.169169169169166
         },
         {
          "parameter": "Pooled_Rideshare_Dist",
          "value": 0.011571352571726277,
          "x": 39.329329329329326
         },
         {
          "parameter": "Pooled_Rideshare_Dist",
          "value": 0.011260084049150975,
          "x": 39.489489489489486
         },
         {
          "parameter": "Pooled_Rideshare_Dist",
          "value": 0.01095511960251032,
          "x": 39.649649649649646
         },
         {
          "parameter": "Pooled_Rideshare_Dist",
          "value": 0.010656385074871738,
          "x": 39.809809809809806
         },
         {
          "parameter": "Pooled_Rideshare_Dist",
          "value": 0.010363804972728173,
          "x": 39.969969969969966
         },
         {
          "parameter": "Pooled_Rideshare_Dist",
          "value": 0.010077302865559898,
          "x": 40.13013013013013
         },
         {
          "parameter": "Pooled_Rideshare_Dist",
          "value": 0.009796801739569776,
          "x": 40.29029029029029
         },
         {
          "parameter": "Pooled_Rideshare_Dist",
          "value": 0.009522224306128714,
          "x": 40.45045045045045
         },
         {
          "parameter": "Pooled_Rideshare_Dist",
          "value": 0.009253493266071045,
          "x": 40.61061061061061
         },
         {
          "parameter": "Pooled_Rideshare_Dist",
          "value": 0.008990531531526227,
          "x": 40.77077077077077
         },
         {
          "parameter": "Pooled_Rideshare_Dist",
          "value": 0.008733262407456702,
          "x": 40.93093093093093
         },
         {
          "parameter": "Pooled_Rideshare_Dist",
          "value": 0.00848160973548768,
          "x": 41.09109109109109
         },
         {
          "parameter": "Pooled_Rideshare_Dist",
          "value": 0.008235498002958879,
          "x": 41.25125125125125
         },
         {
          "parameter": "Pooled_Rideshare_Dist",
          "value": 0.007994852420399316,
          "x": 41.411411411411414
         },
         {
          "parameter": "Pooled_Rideshare_Dist",
          "value": 0.007759598970822568,
          "x": 41.571571571571575
         },
         {
          "parameter": "Pooled_Rideshare_Dist",
          "value": 0.00752966443436189,
          "x": 41.731731731731735
         },
         {
          "parameter": "Pooled_Rideshare_Dist",
          "value": 0.007304976391814934,
          "x": 41.891891891891895
         },
         {
          "parameter": "Pooled_Rideshare_Dist",
          "value": 0.007085463210647047,
          "x": 42.052052052052055
         },
         {
          "parameter": "Pooled_Rideshare_Dist",
          "value": 0.006871054016917324,
          "x": 42.212212212212215
         },
         {
          "parameter": "Pooled_Rideshare_Dist",
          "value": 0.006661678656444834,
          "x": 42.372372372372375
         },
         {
          "parameter": "Pooled_Rideshare_Dist",
          "value": 0.006457267648331817,
          "x": 42.532532532532535
         },
         {
          "parameter": "Pooled_Rideshare_Dist",
          "value": 0.006257752133711978,
          "x": 42.692692692692695
         },
         {
          "parameter": "Pooled_Rideshare_Dist",
          "value": 0.006063063822302947,
          "x": 42.852852852852855
         },
         {
          "parameter": "Pooled_Rideshare_Dist",
          "value": 0.0058731349390208284,
          "x": 43.013013013013015
         },
         {
          "parameter": "Pooled_Rideshare_Dist",
          "value": 0.005687898172569666,
          "x": 43.173173173173176
         },
         {
          "parameter": "Pooled_Rideshare_Dist",
          "value": 0.005507286627558434,
          "x": 43.333333333333336
         },
         {
          "parameter": "Pooled_Rideshare_Dist",
          "value": 0.005331233781331441,
          "x": 43.493493493493496
         },
         {
          "parameter": "Pooled_Rideshare_Dist",
          "value": 0.005159673446333402,
          "x": 43.653653653653656
         },
         {
          "parameter": "Pooled_Rideshare_Dist",
          "value": 0.0049925397384760865,
          "x": 43.813813813813816
         },
         {
          "parameter": "Pooled_Rideshare_Dist",
          "value": 0.004829767051637304,
          "x": 43.973973973973976
         },
         {
          "parameter": "Pooled_Rideshare_Dist",
          "value": 0.004671290038111884,
          "x": 44.134134134134136
         },
         {
          "parameter": "Pooled_Rideshare_Dist",
          "value": 0.004517043594555292,
          "x": 44.294294294294296
         },
         {
          "parameter": "Pooled_Rideshare_Dist",
          "value": 0.00436696285271814,
          "x": 44.454454454454456
         },
         {
          "parameter": "Pooled_Rideshare_Dist",
          "value": 0.004220983174069543,
          "x": 44.61461461461462
         },
         {
          "parameter": "Pooled_Rideshare_Dist",
          "value": 0.004079040147251776,
          "x": 44.77477477477478
         },
         {
          "parameter": "Pooled_Rideshare_Dist",
          "value": 0.003941069587200609,
          "x": 44.93493493493494
         },
         {
          "parameter": "Pooled_Rideshare_Dist",
          "value": 0.0038070075347059716,
          "x": 45.0950950950951
         },
         {
          "parameter": "Pooled_Rideshare_Dist",
          "value": 0.0036767902551761134,
          "x": 45.25525525525526
         },
         {
          "parameter": "Pooled_Rideshare_Dist",
          "value": 0.003550354235403978,
          "x": 45.41541541541542
         },
         {
          "parameter": "Pooled_Rideshare_Dist",
          "value": 0.0034276361772145915,
          "x": 45.57557557557558
         },
         {
          "parameter": "Pooled_Rideshare_Dist",
          "value": 0.003308572986993526,
          "x": 45.73573573573574
         },
         {
          "parameter": "Pooled_Rideshare_Dist",
          "value": 0.00319310176025437,
          "x": 45.8958958958959
         },
         {
          "parameter": "Pooled_Rideshare_Dist",
          "value": 0.003081159760592665,
          "x": 46.05605605605606
         },
         {
          "parameter": "Pooled_Rideshare_Dist",
          "value": 0.002972684392588586,
          "x": 46.21621621621622
         },
         {
          "parameter": "Pooled_Rideshare_Dist",
          "value": 0.002867613168454874,
          "x": 46.37637637637638
         },
         {
          "parameter": "Pooled_Rideshare_Dist",
          "value": 0.002765883668472589,
          "x": 46.53653653653654
         },
         {
          "parameter": "Pooled_Rideshare_Dist",
          "value": 0.0026674334955087884,
          "x": 46.6966966966967
         },
         {
          "parameter": "Pooled_Rideshare_Dist",
          "value": 0.0025722002241596337,
          "x": 46.85685685685686
         },
         {
          "parameter": "Pooled_Rideshare_Dist",
          "value": 0.002480121345302998,
          "x": 47.01701701701702
         },
         {
          "parameter": "Pooled_Rideshare_Dist",
          "value": 0.0023911342070696323,
          "x": 47.17717717717718
         },
         {
          "parameter": "Pooled_Rideshare_Dist",
          "value": 0.0023051759534452,
          "x": 47.33733733733734
         },
         {
          "parameter": "Pooled_Rideshare_Dist",
          "value": 0.002222183461891364,
          "x": 47.4974974974975
         },
         {
          "parameter": "Pooled_Rideshare_Dist",
          "value": 0.0021420932815178323,
          "x": 47.65765765765766
         },
         {
          "parameter": "Pooled_Rideshare_Dist",
          "value": 0.002064841573444753,
          "x": 47.81781781781782
         },
         {
          "parameter": "Pooled_Rideshare_Dist",
          "value": 0.001990364055063052,
          "x": 47.97797797797798
         },
         {
          "parameter": "Pooled_Rideshare_Dist",
          "value": 0.001918595949927148,
          "x": 48.13813813813814
         },
         {
          "parameter": "Pooled_Rideshare_Dist",
          "value": 0.00184947194499878,
          "x": 48.2982982982983
         },
         {
          "parameter": "Pooled_Rideshare_Dist",
          "value": 0.0017829261569026764,
          "x": 48.45845845845846
         },
         {
          "parameter": "Pooled_Rideshare_Dist",
          "value": 0.001718892108755128,
          "x": 48.61861861861862
         },
         {
          "parameter": "Pooled_Rideshare_Dist",
          "value": 0.0016573027189875085,
          "x": 48.77877877877878
         },
         {
          "parameter": "Pooled_Rideshare_Dist",
          "value": 0.001598090303411223,
          "x": 48.93893893893894
         },
         {
          "parameter": "Pooled_Rideshare_Dist",
          "value": 0.0015411865915622002,
          "x": 49.0990990990991
         },
         {
          "parameter": "Pooled_Rideshare_Dist",
          "value": 0.001486522758126516,
          "x": 49.25925925925926
         },
         {
          "parameter": "Pooled_Rideshare_Dist",
          "value": 0.0014340294699891696,
          "x": 49.41941941941942
         },
         {
          "parameter": "Pooled_Rideshare_Dist",
          "value": 0.001383636949171115,
          "x": 49.57957957957958
         },
         {
          "parameter": "Pooled_Rideshare_Dist",
          "value": 0.0013352750516314729,
          "x": 49.73973973973974
         },
         {
          "parameter": "Pooled_Rideshare_Dist",
          "value": 0.0012888733616186702,
          "x": 49.8998998998999
         },
         {
          "parameter": "Pooled_Rideshare_Dist",
          "value": 0.0012443613009624304,
          "x": 50.06006006006006
         },
         {
          "parameter": "Pooled_Rideshare_Dist",
          "value": 0.0012016682524144172,
          "x": 50.22022022022022
         },
         {
          "parameter": "Pooled_Rideshare_Dist",
          "value": 0.0011607236958748697,
          "x": 50.38038038038038
         },
         {
          "parameter": "Pooled_Rideshare_Dist",
          "value": 0.0011214573560916628,
          "x": 50.54054054054054
         },
         {
          "parameter": "Pooled_Rideshare_Dist",
          "value": 0.0010837993601919126,
          "x": 50.7007007007007
         },
         {
          "parameter": "Pooled_Rideshare_Dist",
          "value": 0.0010476804032093488,
          "x": 50.86086086086086
         },
         {
          "parameter": "Pooled_Rideshare_Dist",
          "value": 0.0010130319196070658,
          "x": 51.02102102102102
         },
         {
          "parameter": "Pooled_Rideshare_Dist",
          "value": 0.000979786258668135,
          "x": 51.18118118118118
         },
         {
          "parameter": "Pooled_Rideshare_Dist",
          "value": 0.000947876861538298,
          "x": 51.34134134134134
         },
         {
          "parameter": "Pooled_Rideshare_Dist",
          "value": 0.0009172384376570335,
          "x": 51.5015015015015
         },
         {
          "parameter": "Pooled_Rideshare_Dist",
          "value": 0.0008878071383062883,
          "x": 51.66166166166166
         },
         {
          "parameter": "Pooled_Rideshare_Dist",
          "value": 0.0008595207250398046,
          "x": 51.82182182182182
         },
         {
          "parameter": "Pooled_Rideshare_Dist",
          "value": 0.0008323187308290996,
          "x": 51.98198198198198
         },
         {
          "parameter": "Pooled_Rideshare_Dist",
          "value": 0.0008061426118727629,
          "x": 52.14214214214214
         },
         {
          "parameter": "Pooled_Rideshare_Dist",
          "value": 0.0007809358881611135,
          "x": 52.3023023023023
         },
         {
          "parameter": "Pooled_Rideshare_Dist",
          "value": 0.0007566442710649217,
          "x": 52.46246246246246
         },
         {
          "parameter": "Pooled_Rideshare_Dist",
          "value": 0.0007332157764209262,
          "x": 52.62262262262262
         },
         {
          "parameter": "Pooled_Rideshare_Dist",
          "value": 0.0007106008218136288,
          "x": 52.78278278278278
         },
         {
          "parameter": "Pooled_Rideshare_Dist",
          "value": 0.0006887523069975683,
          "x": 52.94294294294294
         },
         {
          "parameter": "Pooled_Rideshare_Dist",
          "value": 0.0006676256766617612,
          "x": 53.1031031031031
         },
         {
          "parameter": "Pooled_Rideshare_Dist",
          "value": 0.0006471789650030229,
          "x": 53.26326326326326
         },
         {
          "parameter": "Pooled_Rideshare_Dist",
          "value": 0.0006273728218421751,
          "x": 53.42342342342342
         },
         {
          "parameter": "Pooled_Rideshare_Dist",
          "value": 0.0006081705202815644,
          "x": 53.58358358358358
         },
         {
          "parameter": "Pooled_Rideshare_Dist",
          "value": 0.000589537946158953,
          "x": 53.74374374374374
         },
         {
          "parameter": "Pooled_Rideshare_Dist",
          "value": 0.000571443569797113,
          "x": 53.9039039039039
         },
         {
          "parameter": "Pooled_Rideshare_Dist",
          "value": 0.00055385840077621,
          "x": 54.06406406406407
         },
         {
          "parameter": "Pooled_Rideshare_Dist",
          "value": 0.0005367559266636929,
          "x": 54.22422422422423
         },
         {
          "parameter": "Pooled_Rideshare_Dist",
          "value": 0.0005201120368207899,
          "x": 54.38438438438439
         },
         {
          "parameter": "Pooled_Rideshare_Dist",
          "value": 0.0005039049325635307,
          "x": 54.54454454454455
         },
         {
          "parameter": "Pooled_Rideshare_Dist",
          "value": 0.0004881150250875393,
          "x": 54.70470470470471
         },
         {
          "parameter": "Pooled_Rideshare_Dist",
          "value": 0.0004727248226687117,
          "x": 54.86486486486487
         },
         {
          "parameter": "Pooled_Rideshare_Dist",
          "value": 0.00045771880872575886,
          "x": 55.02502502502503
         },
         {
          "parameter": "Pooled_Rideshare_Dist",
          "value": 0.00044308331237572396,
          "x": 55.18518518518519
         },
         {
          "parameter": "Pooled_Rideshare_Dist",
          "value": 0.00042880637313074093,
          "x": 55.34534534534535
         },
         {
          "parameter": "Pooled_Rideshare_Dist",
          "value": 0.0004148776013748774,
          "x": 55.50550550550551
         },
         {
          "parameter": "Pooled_Rideshare_Dist",
          "value": 0.0004012880362257416,
          "x": 55.66566566566567
         },
         {
          "parameter": "Pooled_Rideshare_Dist",
          "value": 0.00038803000232890414,
          "x": 55.82582582582583
         },
         {
          "parameter": "Pooled_Rideshare_Dist",
          "value": 0.00037509696705670755,
          "x": 55.98598598598599
         },
         {
          "parameter": "Pooled_Rideshare_Dist",
          "value": 0.00036248339948956126,
          "x": 56.14614614614615
         },
         {
          "parameter": "Pooled_Rideshare_Dist",
          "value": 0.00035018463245036754,
          "x": 56.30630630630631
         },
         {
          "parameter": "Pooled_Rideshare_Dist",
          "value": 0.0003381967287444185,
          "x": 56.46646646646647
         },
         {
          "parameter": "Pooled_Rideshare_Dist",
          "value": 0.00032651635263098355,
          "x": 56.62662662662663
         },
         {
          "parameter": "Pooled_Rideshare_Dist",
          "value": 0.000315140647421919,
          "x": 56.78678678678679
         },
         {
          "parameter": "Pooled_Rideshare_Dist",
          "value": 0.00030406711996977954,
          "x": 56.94694694694695
         },
         {
          "parameter": "Pooled_Rideshare_Dist",
          "value": 0.00029329353267571774,
          "x": 57.10710710710711
         },
         {
          "parameter": "Pooled_Rideshare_Dist",
          "value": 0.00028281780351826005,
          "x": 57.26726726726727
         },
         {
          "parameter": "Pooled_Rideshare_Dist",
          "value": 0.0002726379144798585,
          "x": 57.42742742742743
         },
         {
          "parameter": "Pooled_Rideshare_Dist",
          "value": 0.00026275182863062346,
          "x": 57.58758758758759
         },
         {
          "parameter": "Pooled_Rideshare_Dist",
          "value": 0.00025315741601915565,
          "x": 57.74774774774775
         },
         {
          "parameter": "Pooled_Rideshare_Dist",
          "value": 0.0002438523884198765,
          "x": 57.90790790790791
         },
         {
          "parameter": "Pooled_Rideshare_Dist",
          "value": 0.00023483424289531997,
          "x": 58.06806806806807
         },
         {
          "parameter": "Pooled_Rideshare_Dist",
          "value": 0.00022610021405076224,
          "x": 58.22822822822823
         },
         {
          "parameter": "Pooled_Rideshare_Dist",
          "value": 0.0002176472347873173,
          "x": 58.38838838838839
         },
         {
          "parameter": "Pooled_Rideshare_Dist",
          "value": 0.00020947190529792197,
          "x": 58.54854854854855
         },
         {
          "parameter": "Pooled_Rideshare_Dist",
          "value": 0.0002015704699979688,
          "x": 58.70870870870871
         },
         {
          "parameter": "Pooled_Rideshare_Dist",
          "value": 0.0001939388020380378,
          "x": 58.86886886886887
         },
         {
          "parameter": "Pooled_Rideshare_Dist",
          "value": 0.00018657239500942358,
          "x": 59.02902902902903
         },
         {
          "parameter": "Pooled_Rideshare_Dist",
          "value": 0.00017946636142307222,
          "x": 59.18918918918919
         },
         {
          "parameter": "Pooled_Rideshare_Dist",
          "value": 0.00017261543751823235,
          "x": 59.34934934934935
         },
         {
          "parameter": "Pooled_Rideshare_Dist",
          "value": 0.00016601399393767702,
          "x": 59.50950950950951
         },
         {
          "parameter": "Pooled_Rideshare_Dist",
          "value": 0.00015965605179098441,
          "x": 59.66966966966967
         },
         {
          "parameter": "Pooled_Rideshare_Dist",
          "value": 0.00015353530361526376,
          "x": 59.82982982982983
         },
         {
          "parameter": "Pooled_Rideshare_Dist",
          "value": 0.0001476451387333277,
          "x": 59.98998998998999
         },
         {
          "parameter": "Pooled_Rideshare_Dist",
          "value": 0.0001419786725021053,
          "x": 60.150150150150154
         },
         {
          "parameter": "Pooled_Rideshare_Dist",
          "value": 0.00013652877893874656,
          "x": 60.310310310310314
         },
         {
          "parameter": "Pooled_Rideshare_Dist",
          "value": 0.00013128812620818677,
          "x": 60.470470470470474
         },
         {
          "parameter": "Pooled_Rideshare_Dist",
          "value": 0.000126249214453879,
          "x": 60.630630630630634
         },
         {
          "parameter": "Pooled_Rideshare_Dist",
          "value": 0.00012140441545304721,
          "x": 60.790790790790794
         },
         {
          "parameter": "Pooled_Rideshare_Dist",
          "value": 0.00011674601357936932,
          "x": 60.950950950950954
         },
         {
          "parameter": "Pooled_Rideshare_Dist",
          "value": 0.00011226624755975805,
          "x": 61.111111111111114
         },
         {
          "parameter": "Pooled_Rideshare_Dist",
          "value": 0.0001079573525182394,
          "x": 61.271271271271274
         },
         {
          "parameter": "Pooled_Rideshare_Dist",
          "value": 0.00010381160180922086,
          "x": 61.431431431431434
         },
         {
          "parameter": "Pooled_Rideshare_Dist",
          "value": 9.982134815511065e-05,
          "x": 61.591591591591595
         },
         {
          "parameter": "Pooled_Rideshare_Dist",
          "value": 9.59790636196694e-05,
          "x": 61.751751751751755
         },
         {
          "parameter": "Pooled_Rideshare_Dist",
          "value": 9.227737796897996e-05,
          "x": 61.911911911911915
         },
         {
          "parameter": "Pooled_Rideshare_Dist",
          "value": 8.870911499676014e-05,
          "x": 62.072072072072075
         },
         {
          "parameter": "Pooled_Rideshare_Dist",
          "value": 8.526732642006712e-05,
          "x": 62.232232232232235
         },
         {
          "parameter": "Pooled_Rideshare_Dist",
          "value": 8.194532298528523e-05,
          "x": 62.392392392392395
         },
         {
          "parameter": "Pooled_Rideshare_Dist",
          "value": 7.873670246255088e-05,
          "x": 62.552552552552555
         },
         {
          "parameter": "Pooled_Rideshare_Dist",
          "value": 7.563537424921447e-05,
          "x": 62.712712712712715
         },
         {
          "parameter": "Pooled_Rideshare_Dist",
          "value": 7.263558034919448e-05,
          "x": 62.872872872872875
         },
         {
          "parameter": "Pooled_Rideshare_Dist",
          "value": 6.973191254463288e-05,
          "x": 63.033033033033036
         },
         {
          "parameter": "Pooled_Rideshare_Dist",
          "value": 6.691932562848036e-05,
          "x": 63.193193193193196
         },
         {
          "parameter": "Pooled_Rideshare_Dist",
          "value": 6.419314662078049e-05,
          "x": 63.353353353353356
         },
         {
          "parameter": "Pooled_Rideshare_Dist",
          "value": 6.154907994664985e-05,
          "x": 63.513513513513516
         },
         {
          "parameter": "Pooled_Rideshare_Dist",
          "value": 5.898320860935916e-05,
          "x": 63.673673673673676
         },
         {
          "parameter": "Pooled_Rideshare_Dist",
          "value": 5.6491991446578154e-05,
          "x": 63.833833833833836
         },
         {
          "parameter": "Pooled_Rideshare_Dist",
          "value": 5.407225661077108e-05,
          "x": 63.993993993993996
         },
         {
          "parameter": "Pooled_Rideshare_Dist",
          "value": 5.1721191464993865e-05,
          "x": 64.15415415415416
         },
         {
          "parameter": "Pooled_Rideshare_Dist",
          "value": 4.9436329132027993e-05,
          "x": 64.31431431431432
         },
         {
          "parameter": "Pooled_Rideshare_Dist",
          "value": 4.721553197704519e-05,
          "x": 64.47447447447448
         },
         {
          "parameter": "Pooled_Rideshare_Dist",
          "value": 4.505697234108479e-05,
          "x": 64.63463463463464
         },
         {
          "parameter": "Pooled_Rideshare_Dist",
          "value": 4.295911087388669e-05,
          "x": 64.7947947947948
         },
         {
          "parameter": "Pooled_Rideshare_Dist",
          "value": 4.092067283954999e-05,
          "x": 64.95495495495496
         },
         {
          "parameter": "Pooled_Rideshare_Dist",
          "value": 3.894062278669515e-05,
          "x": 65.11511511511512
         },
         {
          "parameter": "Pooled_Rideshare_Dist",
          "value": 3.701813798607391e-05,
          "x": 65.27527527527528
         },
         {
          "parameter": "Pooled_Rideshare_Dist",
          "value": 3.515258104281936e-05,
          "x": 65.43543543543544
         },
         {
          "parameter": "Pooled_Rideshare_Dist",
          "value": 3.334347208783814e-05,
          "x": 65.5955955955956
         },
         {
          "parameter": "Pooled_Rideshare_Dist",
          "value": 3.1590460943447e-05,
          "x": 65.75575575575576
         },
         {
          "parameter": "Pooled_Rideshare_Dist",
          "value": 2.9893299642613757e-05,
          "x": 65.91591591591592
         },
         {
          "parameter": "Pooled_Rideshare_Dist",
          "value": 2.8251815659573786e-05,
          "x": 66.07607607607608
         },
         {
          "parameter": "Pooled_Rideshare_Dist",
          "value": 2.6665886182766e-05,
          "x": 66.23623623623624
         },
         {
          "parameter": "Pooled_Rideshare_Dist",
          "value": 2.5135413729666184e-05,
          "x": 66.3963963963964
         },
         {
          "parameter": "Pooled_Rideshare_Dist",
          "value": 2.3660303367966758e-05,
          "x": 66.55655655655656
         },
         {
          "parameter": "Pooled_Rideshare_Dist",
          "value": 2.224044176948522e-05,
          "x": 66.71671671671672
         },
         {
          "parameter": "Pooled_Rideshare_Dist",
          "value": 2.0875678283036785e-05,
          "x": 66.87687687687688
         },
         {
          "parameter": "Pooled_Rideshare_Dist",
          "value": 1.956580817114355e-05,
          "x": 67.03703703703704
         },
         {
          "parameter": "Pooled_Rideshare_Dist",
          "value": 1.8310558113725e-05,
          "x": 67.1971971971972
         },
         {
          "parameter": "Pooled_Rideshare_Dist",
          "value": 1.7109574040642194e-05,
          "x": 67.35735735735736
         },
         {
          "parameter": "Pooled_Rideshare_Dist",
          "value": 1.5962411314918283e-05,
          "x": 67.51751751751752
         },
         {
          "parameter": "Pooled_Rideshare_Dist",
          "value": 1.4868527250334976e-05,
          "x": 67.67767767767768
         },
         {
          "parameter": "Pooled_Rideshare_Dist",
          "value": 1.382727591152692e-05,
          "x": 67.83783783783784
         },
         {
          "parameter": "Pooled_Rideshare_Dist",
          "value": 1.2837905112205558e-05,
          "x": 67.997997997998
         },
         {
          "parameter": "Pooled_Rideshare_Dist",
          "value": 1.1899555498164817e-05,
          "x": 68.15815815815816
         },
         {
          "parameter": "Pooled_Rideshare_Dist",
          "value": 1.1011261576600119e-05,
          "x": 68.31831831831832
         },
         {
          "parameter": "Pooled_Rideshare_Dist",
          "value": 1.0171954532233552e-05,
          "x": 68.47847847847848
         },
         {
          "parameter": "Pooled_Rideshare_Dist",
          "value": 9.380466653915115e-06,
          "x": 68.63863863863864
         },
         {
          "parameter": "Pooled_Rideshare_Dist",
          "value": 8.635537182794845e-06,
          "x": 68.7987987987988
         },
         {
          "parameter": "Pooled_Rideshare_Dist",
          "value": 7.935819384772687e-06,
          "x": 68.95895895895896
         },
         {
          "parameter": "Pooled_Rideshare_Dist",
          "value": 7.279888645589497e-06,
          "x": 69.11911911911912
         },
         {
          "parameter": "Pooled_Rideshare_Dist",
          "value": 6.666251386404107e-06,
          "x": 69.27927927927928
         },
         {
          "parameter": "Pooled_Rideshare_Dist",
          "value": 6.09335460072593e-06,
          "x": 69.43943943943944
         },
         {
          "parameter": "Pooled_Rideshare_Dist",
          "value": 5.559595819804936e-06,
          "x": 69.5995995995996
         },
         {
          "parameter": "Pooled_Rideshare_Dist",
          "value": 5.0633333226445555e-06,
          "x": 69.75975975975976
         },
         {
          "parameter": "Pooled_Rideshare_Dist",
          "value": 4.60289641829413e-06,
          "x": 69.91991991991992
         },
         {
          "parameter": "Pooled_Rideshare_Dist",
          "value": 4.176595641573284e-06,
          "x": 70.08008008008008
         },
         {
          "parameter": "Pooled_Rideshare_Dist",
          "value": 3.7827327184533046e-06,
          "x": 70.24024024024024
         },
         {
          "parameter": "Pooled_Rideshare_Dist",
          "value": 3.419610173546358e-06,
          "x": 70.4004004004004
         },
         {
          "parameter": "Pooled_Rideshare_Dist",
          "value": 3.0855404691218454e-06,
          "x": 70.56056056056056
         },
         {
          "parameter": "Pooled_Rideshare_Dist",
          "value": 2.778854582391542e-06,
          "x": 70.72072072072072
         },
         {
          "parameter": "Pooled_Rideshare_Dist",
          "value": 2.497909945121371e-06,
          "x": 70.88088088088088
         },
         {
          "parameter": "Pooled_Rideshare_Dist",
          "value": 2.241097686611291e-06,
          "x": 71.04104104104104
         },
         {
          "parameter": "Pooled_Rideshare_Dist",
          "value": 2.006849137447747e-06,
          "x": 71.2012012012012
         },
         {
          "parameter": "Pooled_Rideshare_Dist",
          "value": 1.7936415669282565e-06,
          "x": 71.36136136136136
         },
         {
          "parameter": "Pooled_Rideshare_Dist",
          "value": 1.6000031414801307e-06,
          "x": 71.52152152152152
         },
         {
          "parameter": "Pooled_Rideshare_Dist",
          "value": 1.4245171045831645e-06,
          "x": 71.68168168168168
         },
         {
          "parameter": "Pooled_Rideshare_Dist",
          "value": 1.2658251905393138e-06,
          "x": 71.84184184184184
         },
         {
          "parameter": "Pooled_Rideshare_Dist",
          "value": 1.1226302948310844e-06,
          "x": 72.002002002002
         },
         {
          "parameter": "Pooled_Rideshare_Dist",
          "value": 9.936984327336385e-07,
          "x": 72.16216216216216
         },
         {
          "parameter": "Pooled_Rideshare_Dist",
          "value": 8.778600252848817e-07,
          "x": 72.32232232232232
         },
         {
          "parameter": "Pooled_Rideshare_Dist",
          "value": 7.740105576985861e-07,
          "x": 72.48248248248248
         },
         {
          "parameter": "Pooled_Rideshare_Dist",
          "value": 6.811106598778997e-07,
          "x": 72.64264264264264
         },
         {
          "parameter": "Pooled_Rideshare_Dist",
          "value": 5.981856619247068e-07,
          "x": 72.8028028028028
         },
         {
          "parameter": "Pooled_Rideshare_Dist",
          "value": 5.243246795367299e-07,
          "x": 72.96296296296296
         },
         {
          "parameter": "Pooled_Rideshare_Dist",
          "value": 4.5867928504583796e-07,
          "x": 73.12312312312312
         },
         {
          "parameter": "Pooled_Rideshare_Dist",
          "value": 4.004618196951411e-07,
          "x": 73.28328328328328
         },
         {
          "parameter": "Pooled_Rideshare_Dist",
          "value": 3.489434017027235e-07,
          "x": 73.44344344344344
         },
         {
          "parameter": "Pooled_Rideshare_Dist",
          "value": 3.0345168284324967e-07,
          "x": 73.6036036036036
         },
         {
          "parameter": "Pooled_Rideshare_Dist",
          "value": 2.6336840382162644e-07,
          "x": 73.76376376376376
         },
         {
          "parameter": "Pooled_Rideshare_Dist",
          "value": 2.2812679573923666e-07,
          "x": 73.92392392392392
         },
         {
          "parameter": "Pooled_Rideshare_Dist",
          "value": 1.9720887158135435e-07,
          "x": 74.08408408408408
         },
         {
          "parameter": "Pooled_Rideshare_Dist",
          "value": 1.701426479955121e-07,
          "x": 74.24424424424424
         },
         {
          "parameter": "Pooled_Rideshare_Dist",
          "value": 1.4649933378740597e-07,
          "x": 74.4044044044044
         },
         {
          "parameter": "Pooled_Rideshare_Dist",
          "value": 1.2589051762624922e-07,
          "x": 74.56456456456456
         },
         {
          "parameter": "Pooled_Rideshare_Dist",
          "value": 1.0796538350765298e-07,
          "x": 74.72472472472472
         },
         {
          "parameter": "Pooled_Rideshare_Dist",
          "value": 9.240797864064567e-08,
          "x": 74.88488488488488
         },
         {
          "parameter": "Pooled_Rideshare_Dist",
          "value": 7.893455466688809e-08,
          "x": 75.04504504504504
         },
         {
          "parameter": "Pooled_Rideshare_Dist",
          "value": 6.72909995343538e-08,
          "x": 75.2052052052052
         },
         {
          "parameter": "Pooled_Rideshare_Dist",
          "value": 5.7250373974244514e-08,
          "x": 75.36536536536536
         },
         {
          "parameter": "Pooled_Rideshare_Dist",
          "value": 4.861056339853599e-08,
          "x": 75.52552552552552
         },
         {
          "parameter": "Pooled_Rideshare_Dist",
          "value": 4.119205316715307e-08,
          "x": 75.68568568568568
         },
         {
          "parameter": "Pooled_Rideshare_Dist",
          "value": 3.4835832581119766e-08,
          "x": 75.84584584584584
         },
         {
          "parameter": "Pooled_Rideshare_Dist",
          "value": 2.9401430646655297e-08,
          "x": 76.006006006006
         },
         {
          "parameter": "Pooled_Rideshare_Dist",
          "value": 2.4765084624369248e-08,
          "x": 76.16616616616616
         },
         {
          "parameter": "Pooled_Rideshare_Dist",
          "value": 2.0818040621457652e-08,
          "x": 76.32632632632632
         },
         {
          "parameter": "Pooled_Rideshare_Dist",
          "value": 1.7464983992638204e-08,
          "x": 76.48648648648648
         },
         {
          "parameter": "Pooled_Rideshare_Dist",
          "value": 1.4622596073645415e-08,
          "x": 76.64664664664664
         },
         {
          "parameter": "Pooled_Rideshare_Dist",
          "value": 1.2218232762813227e-08,
          "x": 76.8068068068068
         },
         {
          "parameter": "Pooled_Rideshare_Dist",
          "value": 1.0188719673142907e-08,
          "x": 76.96696696696696
         },
         {
          "parameter": "Pooled_Rideshare_Dist",
          "value": 8.479257979592457e-09,
          "x": 77.12712712712712
         },
         {
          "parameter": "Pooled_Rideshare_Dist",
          "value": 7.0424346638243725e-09,
          "x": 77.28728728728728
         },
         {
          "parameter": "Pooled_Rideshare_Dist",
          "value": 5.837330590924117e-09,
          "x": 77.44744744744744
         },
         {
          "parameter": "Pooled_Rideshare_Dist",
          "value": 4.828719719612514e-09,
          "x": 77.6076076076076
         },
         {
          "parameter": "Pooled_Rideshare_Dist",
          "value": 3.986352729899604e-09,
          "x": 77.76776776776777
         },
         {
          "parameter": "Pooled_Rideshare_Dist",
          "value": 3.284318431635421e-09,
          "x": 77.92792792792793
         },
         {
          "parameter": "Pooled_Rideshare_Dist",
          "value": 2.7004764768916184e-09,
          "x": 78.08808808808809
         },
         {
          "parameter": "Pooled_Rideshare_Dist",
          "value": 2.2159551228000134e-09,
          "x": 78.24824824824825
         },
         {
          "parameter": "Pooled_Rideshare_Dist",
          "value": 1.8147080650848615e-09,
          "x": 78.4084084084084
         },
         {
          "parameter": "Pooled_Rideshare_Dist",
          "value": 1.4831246732573414e-09,
          "x": 78.56856856856857
         },
         {
          "parameter": "Pooled_Rideshare_Dist",
          "value": 1.2096882950040883e-09,
          "x": 78.72872872872873
         },
         {
          "parameter": "Pooled_Rideshare_Dist",
          "value": 9.846776498799145e-10,
          "x": 78.88888888888889
         },
         {
          "parameter": "Pooled_Rideshare_Dist",
          "value": 7.999066926095857e-10,
          "x": 79.04904904904905
         },
         {
          "parameter": "Pooled_Rideshare_Dist",
          "value": 6.484986870508668e-10,
          "x": 79.2092092092092
         },
         {
          "parameter": "Pooled_Rideshare_Dist",
          "value": 5.246905873504029e-10,
          "x": 79.36936936936937
         },
         {
          "parameter": "Pooled_Rideshare_Dist",
          "value": 4.236641683491662e-10,
          "x": 79.52952952952953
         },
         {
          "parameter": "Pooled_Rideshare_Dist",
          "value": 3.41400679204026e-10,
          "x": 79.68968968968969
         },
         {
          "parameter": "Pooled_Rideshare_Dist",
          "value": 2.745561097352542e-10,
          "x": 79.84984984984985
         },
         {
          "parameter": "Pooled_Rideshare_Dist",
          "value": 2.2035445623297395e-10,
          "x": 80.01001001001
         },
         {
          "parameter": "Pooled_Rideshare_Dist",
          "value": 1.7649665109344993e-10,
          "x": 80.17017017017017
         },
         {
          "parameter": "Pooled_Rideshare_Dist",
          "value": 1.4108307802749264e-10,
          "x": 80.33033033033033
         },
         {
          "parameter": "Pooled_Rideshare_Dist",
          "value": 1.1254783149486334e-10,
          "x": 80.49049049049049
         },
         {
          "parameter": "Pooled_Rideshare_Dist",
          "value": 8.960309567446343e-11,
          "x": 80.65065065065065
         },
         {
          "parameter": "Pooled_Rideshare_Dist",
          "value": 7.119221520303339e-11,
          "x": 80.8108108108108
         },
         {
          "parameter": "Pooled_Rideshare_Dist",
          "value": 5.645020787274954e-11,
          "x": 80.97097097097097
         },
         {
          "parameter": "Pooled_Rideshare_Dist",
          "value": 4.467062942134051e-11,
          "x": 81.13113113113113
         },
         {
          "parameter": "Pooled_Rideshare_Dist",
          "value": 3.5277843555875765e-11,
          "x": 81.29129129129129
         },
         {
          "parameter": "Pooled_Rideshare_Dist",
          "value": 2.7803877583540508e-11,
          "x": 81.45145145145145
         },
         {
          "parameter": "Pooled_Rideshare_Dist",
          "value": 2.1869156682441094e-11,
          "x": 81.61161161161161
         },
         {
          "parameter": "Pooled_Rideshare_Dist",
          "value": 1.7166509146347532e-11,
          "x": 81.77177177177177
         },
         {
          "parameter": "Pooled_Rideshare_Dist",
          "value": 1.3447922077770444e-11,
          "x": 81.93193193193193
         },
         {
          "parameter": "Pooled_Rideshare_Dist",
          "value": 1.051360314718214e-11,
          "x": 82.09209209209209
         },
         {
          "parameter": "Pooled_Rideshare_Dist",
          "value": 8.202970295459244e-12,
          "x": 82.25225225225225
         },
         {
          "parameter": "Pooled_Rideshare_Dist",
          "value": 6.387248683311565e-12,
          "x": 82.41241241241241
         },
         {
          "parameter": "Pooled_Rideshare_Dist",
          "value": 4.963403768457234e-12,
          "x": 82.57257257257257
         },
         {
          "parameter": "Pooled_Rideshare_Dist",
          "value": 3.849182028437821e-12,
          "x": 82.73273273273273
         },
         {
          "parameter": "Pooled_Rideshare_Dist",
          "value": 2.979067379162434e-12,
          "x": 82.89289289289289
         },
         {
          "parameter": "Pooled_Rideshare_Dist",
          "value": 2.3009925266482213e-12,
          "x": 83.05305305305305
         },
         {
          "parameter": "Pooled_Rideshare_Dist",
          "value": 1.7736710189687245e-12,
          "x": 83.21321321321321
         },
         {
          "parameter": "Pooled_Rideshare_Dist",
          "value": 1.3644382538209851e-12,
          "x": 83.37337337337337
         },
         {
          "parameter": "Pooled_Rideshare_Dist",
          "value": 1.047508694466877e-12,
          "x": 83.53353353353353
         },
         {
          "parameter": "Pooled_Rideshare_Dist",
          "value": 8.025725408585776e-13,
          "x": 83.69369369369369
         },
         {
          "parameter": "Pooled_Rideshare_Dist",
          "value": 6.136685235915147e-13,
          "x": 83.85385385385385
         },
         {
          "parameter": "Pooled_Rideshare_Dist",
          "value": 4.682807131107282e-13,
          "x": 84.01401401401401
         },
         {
          "parameter": "Pooled_Rideshare_Dist",
          "value": 3.566165944172572e-13,
          "x": 84.17417417417417
         },
         {
          "parameter": "Pooled_Rideshare_Dist",
          "value": 2.710314341130097e-13,
          "x": 84.33433433433433
         },
         {
          "parameter": "Pooled_Rideshare_Dist",
          "value": 2.0557040890738725e-13,
          "x": 84.49449449449449
         },
         {
          "parameter": "Pooled_Rideshare_Dist",
          "value": 1.556052851023595e-13,
          "x": 84.65465465465465
         },
         {
          "parameter": "Pooled_Rideshare_Dist",
          "value": 1.1754681900279314e-13,
          "x": 84.81481481481481
         },
         {
          "parameter": "Pooled_Rideshare_Dist",
          "value": 8.861764382338655e-14,
          "x": 84.97497497497497
         },
         {
          "parameter": "Pooled_Rideshare_Dist",
          "value": 6.667335125910134e-14,
          "x": 85.13513513513513
         },
         {
          "parameter": "Pooled_Rideshare_Dist",
          "value": 5.006187692466643e-14,
          "x": 85.29529529529529
         },
         {
          "parameter": "Pooled_Rideshare_Dist",
          "value": 3.751325227602026e-14,
          "x": 85.45545545545545
         },
         {
          "parameter": "Pooled_Rideshare_Dist",
          "value": 2.8053370241186393e-14,
          "x": 85.61561561561561
         },
         {
          "parameter": "Pooled_Rideshare_Dist",
          "value": 2.093669353778687e-14,
          "x": 85.77577577577577
         },
         {
          "parameter": "Pooled_Rideshare_Dist",
          "value": 1.5593868468400404e-14,
          "x": 85.93593593593593
         },
         {
          "parameter": "Pooled_Rideshare_Dist",
          "value": 1.1591038464606408e-14,
          "x": 86.09609609609609
         },
         {
          "parameter": "Pooled_Rideshare_Dist",
          "value": 8.598318519819583e-15,
          "x": 86.25625625625625
         },
         {
          "parameter": "Pooled_Rideshare_Dist",
          "value": 6.3654250093760535e-15,
          "x": 86.41641641641641
         },
         {
          "parameter": "Pooled_Rideshare_Dist",
          "value": 4.7028807946782704e-15,
          "x": 86.57657657657657
         },
         {
          "parameter": "Pooled_Rideshare_Dist",
          "value": 3.467553868467109e-15,
          "x": 86.73673673673673
         },
         {
          "parameter": "Pooled_Rideshare_Dist",
          "value": 2.551556195487573e-15,
          "x": 86.89689689689689
         },
         {
          "parameter": "Pooled_Rideshare_Dist",
          "value": 1.87374172701315e-15,
          "x": 87.05705705705705
         },
         {
          "parameter": "Pooled_Rideshare_Dist",
          "value": 1.3732100818136842e-15,
          "x": 87.21721721721721
         },
         {
          "parameter": "Pooled_Rideshare_Dist",
          "value": 1.0043541938976971e-15,
          "x": 87.37737737737737
         },
         {
          "parameter": "Pooled_Rideshare_Dist",
          "value": 7.330936641265988e-16,
          "x": 87.53753753753753
         },
         {
          "parameter": "Pooled_Rideshare_Dist",
          "value": 5.34016510846916e-16,
          "x": 87.69769769769769
         },
         {
          "parameter": "Pooled_Rideshare_Dist",
          "value": 3.8821521257766193e-16,
          "x": 87.85785785785785
         },
         {
          "parameter": "Pooled_Rideshare_Dist",
          "value": 2.8165214072771843e-16,
          "x": 88.01801801801801
         },
         {
          "parameter": "Pooled_Rideshare_Dist",
          "value": 2.0392769094965042e-16,
          "x": 88.17817817817817
         },
         {
          "parameter": "Pooled_Rideshare_Dist",
          "value": 1.4735401785889684e-16,
          "x": 88.33833833833833
         },
         {
          "parameter": "Pooled_Rideshare_Dist",
          "value": 1.0626014256907734e-16,
          "x": 88.49849849849849
         },
         {
          "parameter": "Pooled_Rideshare_Dist",
          "value": 7.647182155643534e-17,
          "x": 88.65865865865865
         },
         {
          "parameter": "Pooled_Rideshare_Dist",
          "value": 5.492310760428448e-17,
          "x": 88.81881881881881
         },
         {
          "parameter": "Pooled_Rideshare_Dist",
          "value": 3.936691588338392e-17,
          "x": 88.97897897897897
         },
         {
          "parameter": "Pooled_Rideshare_Dist",
          "value": 2.815984780341095e-17,
          "x": 89.13913913913913
         },
         {
          "parameter": "Pooled_Rideshare_Dist",
          "value": 2.0102581553126502e-17,
          "x": 89.29929929929929
         },
         {
          "parameter": "Pooled_Rideshare_Dist",
          "value": 1.432174636974505e-17,
          "x": 89.45945945945945
         },
         {
          "parameter": "Pooled_Rideshare_Dist",
          "value": 1.0182695060412496e-17,
          "x": 89.61961961961961
         },
         {
          "parameter": "Pooled_Rideshare_Dist",
          "value": 7.225237217538672e-18,
          "x": 89.77977977977977
         },
         {
          "parameter": "Pooled_Rideshare_Dist",
          "value": 5.116395318427248e-18,
          "x": 89.93993993993993
         },
         {
          "parameter": "Pooled_Rideshare_Dist",
          "value": 3.615752408322051e-18,
          "x": 90.1001001001001
         },
         {
          "parameter": "Pooled_Rideshare_Dist",
          "value": 2.550092197911292e-18,
          "x": 90.26026026026025
         },
         {
          "parameter": "Pooled_Rideshare_Dist",
          "value": 1.7948811083327817e-18,
          "x": 90.42042042042041
         },
         {
          "parameter": "Pooled_Rideshare_Dist",
          "value": 1.2607764692538689e-18,
          "x": 90.58058058058057
         },
         {
          "parameter": "Pooled_Rideshare_Dist",
          "value": 8.838185362115194e-19,
          "x": 90.74074074074073
         },
         {
          "parameter": "Pooled_Rideshare_Dist",
          "value": 6.183163326046518e-19,
          "x": 90.9009009009009
         },
         {
          "parameter": "Pooled_Rideshare_Dist",
          "value": 4.3169888951098e-19,
          "x": 91.06106106106105
         },
         {
          "parameter": "Pooled_Rideshare_Dist",
          "value": 3.007971686132819e-19,
          "x": 91.22122122122121
         },
         {
          "parameter": "Pooled_Rideshare_Dist",
          "value": 2.0916506733982658e-19,
          "x": 91.38138138138137
         },
         {
          "parameter": "Pooled_Rideshare_Dist",
          "value": 1.4515338324480928e-19,
          "x": 91.54154154154153
         },
         {
          "parameter": "Pooled_Rideshare_Dist",
          "value": 1.0052816782939958e-19,
          "x": 91.7017017017017
         },
         {
          "parameter": "Pooled_Rideshare_Dist",
          "value": 6.948178508733073e-20,
          "x": 91.86186186186185
         },
         {
          "parameter": "Pooled_Rideshare_Dist",
          "value": 4.79266156775215e-20,
          "x": 92.02202202202201
         },
         {
          "parameter": "Pooled_Rideshare_Dist",
          "value": 3.299173471559305e-20,
          "x": 92.18218218218217
         },
         {
          "parameter": "Pooled_Rideshare_Dist",
          "value": 2.2665021417490552e-20,
          "x": 92.34234234234233
         },
         {
          "parameter": "Pooled_Rideshare_Dist",
          "value": 1.5539237653972118e-20,
          "x": 92.5025025025025
         },
         {
          "parameter": "Pooled_Rideshare_Dist",
          "value": 1.063226703873381e-20,
          "x": 92.66266266266267
         },
         {
          "parameter": "Pooled_Rideshare_Dist",
          "value": 7.2601339614839e-21,
          "x": 92.82282282282283
         },
         {
          "parameter": "Pooled_Rideshare_Dist",
          "value": 4.9475020588057966e-21,
          "x": 92.98298298298299
         },
         {
          "parameter": "Pooled_Rideshare_Dist",
          "value": 3.364727699111353e-21,
          "x": 93.14314314314315
         },
         {
          "parameter": "Pooled_Rideshare_Dist",
          "value": 2.2836863342614014e-21,
          "x": 93.30330330330331
         },
         {
          "parameter": "Pooled_Rideshare_Dist",
          "value": 1.5468406345190439e-21,
          "x": 93.46346346346347
         },
         {
          "parameter": "Pooled_Rideshare_Dist",
          "value": 1.0456281830320948e-21,
          "x": 93.62362362362363
         },
         {
          "parameter": "Pooled_Rideshare_Dist",
          "value": 7.053937009299341e-22,
          "x": 93.78378378378379
         },
         {
          "parameter": "Pooled_Rideshare_Dist",
          "value": 4.749068810258147e-22,
          "x": 93.94394394394395
         },
         {
          "parameter": "Pooled_Rideshare_Dist",
          "value": 3.190861361920443e-22,
          "x": 94.10410410410411
         },
         {
          "parameter": "Pooled_Rideshare_Dist",
          "value": 2.1395872227341473e-22,
          "x": 94.26426426426427
         },
         {
          "parameter": "Pooled_Rideshare_Dist",
          "value": 1.4317745664150525e-22,
          "x": 94.42442442442443
         },
         {
          "parameter": "Pooled_Rideshare_Dist",
          "value": 9.561848937685921e-23,
          "x": 94.58458458458459
         },
         {
          "parameter": "Pooled_Rideshare_Dist",
          "value": 6.372820699388924e-23,
          "x": 94.74474474474475
         },
         {
          "parameter": "Pooled_Rideshare_Dist",
          "value": 4.238811535706208e-23,
          "x": 94.90490490490491
         },
         {
          "parameter": "Pooled_Rideshare_Dist",
          "value": 2.813708494206951e-23,
          "x": 95.06506506506507
         },
         {
          "parameter": "Pooled_Rideshare_Dist",
          "value": 1.863960400931829e-23,
          "x": 95.22522522522523
         },
         {
          "parameter": "Pooled_Rideshare_Dist",
          "value": 1.2323011322544662e-23,
          "x": 95.38538538538539
         },
         {
          "parameter": "Pooled_Rideshare_Dist",
          "value": 8.130543896200808e-24,
          "x": 95.54554554554555
         },
         {
          "parameter": "Pooled_Rideshare_Dist",
          "value": 5.3535878741985575e-24,
          "x": 95.70570570570571
         },
         {
          "parameter": "Pooled_Rideshare_Dist",
          "value": 3.517975880176108e-24,
          "x": 95.86586586586587
         },
         {
          "parameter": "Pooled_Rideshare_Dist",
          "value": 2.3070837725927317e-24,
          "x": 96.02602602602603
         },
         {
          "parameter": "Pooled_Rideshare_Dist",
          "value": 1.5099287565140592e-24,
          "x": 96.18618618618619
         },
         {
          "parameter": "Pooled_Rideshare_Dist",
          "value": 9.862162015973899e-25,
          "x": 96.34634634634635
         },
         {
          "parameter": "Pooled_Rideshare_Dist",
          "value": 6.428511038842154e-25,
          "x": 96.50650650650651
         },
         {
          "parameter": "Pooled_Rideshare_Dist",
          "value": 4.181876852380179e-25,
          "x": 96.66666666666667
         },
         {
          "parameter": "Pooled_Rideshare_Dist",
          "value": 2.7149052011862986e-25,
          "x": 96.82682682682683
         },
         {
          "parameter": "Pooled_Rideshare_Dist",
          "value": 1.758979118027669e-25,
          "x": 96.98698698698699
         },
         {
          "parameter": "Pooled_Rideshare_Dist",
          "value": 1.1373372987586182e-25,
          "x": 97.14714714714715
         },
         {
          "parameter": "Pooled_Rideshare_Dist",
          "value": 7.339060439863252e-26,
          "x": 97.30730730730731
         },
         {
          "parameter": "Pooled_Rideshare_Dist",
          "value": 4.7262232305364924e-26,
          "x": 97.46746746746747
         },
         {
          "parameter": "Pooled_Rideshare_Dist",
          "value": 3.0374600918131953e-26,
          "x": 97.62762762762763
         },
         {
          "parameter": "Pooled_Rideshare_Dist",
          "value": 1.9481819461851427e-26,
          "x": 97.78778778778779
         },
         {
          "parameter": "Pooled_Rideshare_Dist",
          "value": 1.2470131462666992e-26,
          "x": 97.94794794794795
         },
         {
          "parameter": "Pooled_Rideshare_Dist",
          "value": 7.96590518802095e-27,
          "x": 98.10810810810811
         },
         {
          "parameter": "Pooled_Rideshare_Dist",
          "value": 5.0783405111891674e-27,
          "x": 98.26826826826827
         },
         {
          "parameter": "Pooled_Rideshare_Dist",
          "value": 3.2309563130623784e-27,
          "x": 98.42842842842843
         },
         {
          "parameter": "Pooled_Rideshare_Dist",
          "value": 2.0514594518643443e-27,
          "x": 98.58858858858859
         },
         {
          "parameter": "Pooled_Rideshare_Dist",
          "value": 1.2999222345790093e-27,
          "x": 98.74874874874875
         },
         {
          "parameter": "Pooled_Rideshare_Dist",
          "value": 8.220427253641118e-28,
          "x": 98.90890890890891
         },
         {
          "parameter": "Pooled_Rideshare_Dist",
          "value": 5.187928617753418e-28,
          "x": 99.06906906906907
         },
         {
          "parameter": "Pooled_Rideshare_Dist",
          "value": 3.2675043657546603e-28,
          "x": 99.22922922922923
         },
         {
          "parameter": "Pooled_Rideshare_Dist",
          "value": 2.0538132168508215e-28,
          "x": 99.3893893893894
         },
         {
          "parameter": "Pooled_Rideshare_Dist",
          "value": 1.288333486808158e-28,
          "x": 99.54954954954955
         },
         {
          "parameter": "Pooled_Rideshare_Dist",
          "value": 8.065257343908331e-29,
          "x": 99.70970970970971
         },
         {
          "parameter": "Pooled_Rideshare_Dist",
          "value": 5.038842066142872e-29,
          "x": 99.86986986986987
         },
         {
          "parameter": "Pooled_Rideshare_Dist",
          "value": 3.141708206278268e-29,
          "x": 100.03003003003003
         },
         {
          "parameter": "Pooled_Rideshare_Dist",
          "value": 1.954895421592893e-29,
          "x": 100.1901901901902
         },
         {
          "parameter": "Pooled_Rideshare_Dist",
          "value": 1.2139583746403485e-29,
          "x": 100.35035035035035
         },
         {
          "parameter": "Pooled_Rideshare_Dist",
          "value": 7.52326993205966e-30,
          "x": 100.51051051051051
         },
         {
          "parameter": "Pooled_Rideshare_Dist",
          "value": 4.6529895400896476e-30,
          "x": 100.67067067067067
         },
         {
          "parameter": "Pooled_Rideshare_Dist",
          "value": 2.8719712689528805e-30,
          "x": 100.83083083083083
         },
         {
          "parameter": "Pooled_Rideshare_Dist",
          "value": 1.7690930993935286e-30,
          "x": 100.990990990991
         },
         {
          "parameter": "Pooled_Rideshare_Dist",
          "value": 1.0875365679423236e-30,
          "x": 101.15115115115115
         },
         {
          "parameter": "Pooled_Rideshare_Dist",
          "value": 6.672055220014206e-31,
          "x": 101.31131131131131
         },
         {
          "parameter": "Pooled_Rideshare_Dist",
          "value": 4.085055656830753e-31,
          "x": 101.47147147147147
         },
         {
          "parameter": "Pooled_Rideshare_Dist",
          "value": 2.4960823345431606e-31,
          "x": 101.63163163163163
         },
         {
          "parameter": "Pooled_Rideshare_Dist",
          "value": 1.5220973089757594e-31,
          "x": 101.7917917917918
         },
         {
          "parameter": "Pooled_Rideshare_Dist",
          "value": 9.262932777839439e-32,
          "x": 101.95195195195195
         },
         {
          "parameter": "Pooled_Rideshare_Dist",
          "value": 5.625708035162696e-32,
          "x": 102.11211211211211
         },
         {
          "parameter": "Pooled_Rideshare_Dist",
          "value": 3.4097964076242805e-32,
          "x": 102.27227227227228
         },
         {
          "parameter": "Pooled_Rideshare_Dist",
          "value": 2.0625395790906848e-32,
          "x": 102.43243243243244
         },
         {
          "parameter": "Pooled_Rideshare_Dist",
          "value": 1.2450841833264248e-32,
          "x": 102.5925925925926
         },
         {
          "parameter": "Pooled_Rideshare_Dist",
          "value": 7.500975100851822e-33,
          "x": 102.75275275275276
         },
         {
          "parameter": "Pooled_Rideshare_Dist",
          "value": 4.509821099560744e-33,
          "x": 102.91291291291292
         },
         {
          "parameter": "Pooled_Rideshare_Dist",
          "value": 2.7059731756675176e-33,
          "x": 103.07307307307308
         },
         {
          "parameter": "Pooled_Rideshare_Dist",
          "value": 1.620355257915995e-33,
          "x": 103.23323323323324
         },
         {
          "parameter": "Pooled_Rideshare_Dist",
          "value": 9.683215137689798e-34,
          "x": 103.3933933933934
         },
         {
          "parameter": "Pooled_Rideshare_Dist",
          "value": 5.774993526986986e-34,
          "x": 103.55355355355356
         },
         {
          "parameter": "Pooled_Rideshare_Dist",
          "value": 3.4372095140262036e-34,
          "x": 103.71371371371372
         },
         {
          "parameter": "Pooled_Rideshare_Dist",
          "value": 2.0416584536735263e-34,
          "x": 103.87387387387388
         },
         {
          "parameter": "Pooled_Rideshare_Dist",
          "value": 1.2102713703515154e-34,
          "x": 104.03403403403404
         },
         {
          "parameter": "Pooled_Rideshare_Dist",
          "value": 7.15986792548383e-35,
          "x": 104.1941941941942
         },
         {
          "parameter": "Pooled_Rideshare_Dist",
          "value": 4.2271712771003796e-35,
          "x": 104.35435435435436
         },
         {
          "parameter": "Pooled_Rideshare_Dist",
          "value": 2.4906761459248945e-35,
          "x": 104.51451451451452
         },
         {
          "parameter": "Pooled_Rideshare_Dist",
          "value": 1.4645603096562308e-35,
          "x": 104.67467467467468
         },
         {
          "parameter": "Pooled_Rideshare_Dist",
          "value": 8.594484682281888e-36,
          "x": 104.83483483483484
         },
         {
          "parameter": "Pooled_Rideshare_Dist",
          "value": 5.033325376014783e-36,
          "x": 104.994994994995
         },
         {
          "parameter": "Pooled_Rideshare_Dist",
          "value": 2.9417973515339008e-36,
          "x": 105.15515515515516
         },
         {
          "parameter": "Pooled_Rideshare_Dist",
          "value": 1.7159043761662105e-36,
          "x": 105.31531531531532
         },
         {
          "parameter": "Pooled_Rideshare_Dist",
          "value": 9.98840155517624e-37,
          "x": 105.47547547547548
         },
         {
          "parameter": "Pooled_Rideshare_Dist",
          "value": 5.802584691365238e-37,
          "x": 105.63563563563564
         },
         {
          "parameter": "Pooled_Rideshare_Dist",
          "value": 3.3641051724401905e-37,
          "x": 105.7957957957958
         },
         {
          "parameter": "Pooled_Rideshare_Dist",
          "value": 1.9464364289003875e-37,
          "x": 105.95595595595596
         },
         {
          "parameter": "Pooled_Rideshare_Dist",
          "value": 1.1239149963678629e-37,
          "x": 106.11611611611612
         },
         {
          "parameter": "Pooled_Rideshare_Dist",
          "value": 6.476633031788723e-38,
          "x": 106.27627627627628
         },
         {
          "parameter": "Pooled_Rideshare_Dist",
          "value": 3.7246691122153327e-38,
          "x": 106.43643643643644
         },
         {
          "parameter": "Pooled_Rideshare_Dist",
          "value": 2.1377094985379228e-38,
          "x": 106.5965965965966
         },
         {
          "parameter": "Pooled_Rideshare_Dist",
          "value": 1.22442519919033e-38,
          "x": 106.75675675675676
         },
         {
          "parameter": "Pooled_Rideshare_Dist",
          "value": 6.999039000596468e-39,
          "x": 106.91691691691692
         },
         {
          "parameter": "Pooled_Rideshare_Dist",
          "value": 3.992704328470226e-39,
          "x": 107.07707707707708
         },
         {
          "parameter": "Pooled_Rideshare_Dist",
          "value": 2.2730996242752082e-39,
          "x": 107.23723723723724
         },
         {
          "parameter": "Pooled_Rideshare_Dist",
          "value": 1.2914939387674748e-39,
          "x": 107.3973973973974
         },
         {
          "parameter": "Pooled_Rideshare_Dist",
          "value": 7.3229970114894305e-40,
          "x": 107.55755755755756
         },
         {
          "parameter": "Pooled_Rideshare_Dist",
          "value": 4.14388719029841e-40,
          "x": 107.71771771771772
         },
         {
          "parameter": "Pooled_Rideshare_Dist",
          "value": 2.3401816719151677e-40,
          "x": 107.87787787787788
         },
         {
          "parameter": "Pooled_Rideshare_Dist",
          "value": 1.318905884155317e-40,
          "x": 108.03803803803804
         },
         {
          "parameter": "Pooled_Rideshare_Dist",
          "value": 7.4182355702319e-41,
          "x": 108.1981981981982
         },
         {
          "parameter": "Pooled_Rideshare_Dist",
          "value": 4.163993257771037e-41,
          "x": 108.35835835835836
         },
         {
          "parameter": "Pooled_Rideshare_Dist",
          "value": 2.332609270494585e-41,
          "x": 108.51851851851852
         },
         {
          "parameter": "Pooled_Rideshare_Dist",
          "value": 1.3040569542786896e-41,
          "x": 108.67867867867868
         },
         {
          "parameter": "Pooled_Rideshare_Dist",
          "value": 7.275681919112897e-42,
          "x": 108.83883883883884
         },
         {
          "parameter": "Pooled_Rideshare_Dist",
          "value": 4.051104361958739e-42,
          "x": 108.998998998999
         },
         {
          "parameter": "Pooled_Rideshare_Dist",
          "value": 2.2511049400090246e-42,
          "x": 109.15915915915916
         },
         {
          "parameter": "Pooled_Rideshare_Dist",
          "value": 1.2483622670101933e-42,
          "x": 109.31931931931932
         },
         {
          "parameter": "Pooled_Rideshare_Dist",
          "value": 6.9088872920841805e-43,
          "x": 109.47947947947948
         },
         {
          "parameter": "Pooled_Rideshare_Dist",
          "value": 3.8159103686562985e-43,
          "x": 109.63963963963964
         },
         {
          "parameter": "Pooled_Rideshare_Dist",
          "value": 2.1033464108687417e-43,
          "x": 109.7997997997998
         },
         {
          "parameter": "Pooled_Rideshare_Dist",
          "value": 1.1570337491450182e-43,
          "x": 109.95995995995996
         },
         {
          "parameter": "Pooled_Rideshare_Dist",
          "value": 6.351902623457806e-44,
          "x": 110.12012012012012
         },
         {
          "parameter": "Pooled_Rideshare_Dist",
          "value": 3.48003986354052e-44,
          "x": 110.28028028028028
         },
         {
          "parameter": "Pooled_Rideshare_Dist",
          "value": 1.9027739122462992e-44,
          "x": 110.44044044044044
         },
         {
          "parameter": "Pooled_Rideshare_Dist",
          "value": 1.0382758214150249e-44,
          "x": 110.6006006006006
         },
         {
          "parameter": "Pooled_Rideshare_Dist",
          "value": 5.654066020271785e-45,
          "x": 110.76076076076076
         },
         {
          "parameter": "Pooled_Rideshare_Dist",
          "value": 3.072780884221092e-45,
          "x": 110.92092092092092
         },
         {
          "parameter": "Pooled_Rideshare_Dist",
          "value": 1.6665751124410536e-45,
          "x": 111.08108108108108
         },
         {
          "parameter": "Pooled_Rideshare_Dist",
          "value": 9.020711100122267e-46,
          "x": 111.24124124124124
         },
         {
          "parameter": "Pooled_Rideshare_Dist",
          "value": 4.872807319312408e-46,
          "x": 111.4014014014014
         },
         {
          "parameter": "Pooled_Rideshare_Dist",
          "value": 2.6268803143783206e-46,
          "x": 111.56156156156156
         },
         {
          "parameter": "Pooled_Rideshare_Dist",
          "value": 1.4132660151098355e-46,
          "x": 111.72172172172172
         },
         {
          "parameter": "Pooled_Rideshare_Dist",
          "value": 7.588049017407472e-47,
          "x": 111.88188188188188
         },
         {
          "parameter": "Pooled_Rideshare_Dist",
          "value": 4.065920870405943e-47,
          "x": 112.04204204204204
         },
         {
          "parameter": "Pooled_Rideshare_Dist",
          "value": 2.174254108434865e-47,
          "x": 112.2022022022022
         },
         {
          "parameter": "Pooled_Rideshare_Dist",
          "value": 1.160337315348347e-47,
          "x": 112.36236236236236
         },
         {
          "parameter": "Pooled_Rideshare_Dist",
          "value": 6.179890799476493e-48,
          "x": 112.52252252252252
         },
         {
          "parameter": "Pooled_Rideshare_Dist",
          "value": 3.2847318803836326e-48,
          "x": 112.68268268268268
         },
         {
          "parameter": "Pooled_Rideshare_Dist",
          "value": 1.7423750062870763e-48,
          "x": 112.84284284284284
         },
         {
          "parameter": "Pooled_Rideshare_Dist",
          "value": 9.22371599429367e-49,
          "x": 113.003003003003
         },
         {
          "parameter": "Pooled_Rideshare_Dist",
          "value": 4.872959414156385e-49,
          "x": 113.16316316316316
         },
         {
          "parameter": "Pooled_Rideshare_Dist",
          "value": 2.5692256477012786e-49,
          "x": 113.32332332332332
         },
         {
          "parameter": "Pooled_Rideshare_Dist",
          "value": 1.351867993122787e-49,
          "x": 113.48348348348348
         },
         {
          "parameter": "Pooled_Rideshare_Dist",
          "value": 7.098864805161295e-50,
          "x": 113.64364364364364
         },
         {
          "parameter": "Pooled_Rideshare_Dist",
          "value": 3.720198448484299e-50,
          "x": 113.8038038038038
         },
         {
          "parameter": "Pooled_Rideshare_Dist",
          "value": 1.9456552568378417e-50,
          "x": 113.96396396396396
         },
         {
          "parameter": "Pooled_Rideshare_Dist",
          "value": 1.015519480394467e-50,
          "x": 114.12412412412412
         },
         {
          "parameter": "Pooled_Rideshare_Dist",
          "value": 5.2897263826469674e-51,
          "x": 114.28428428428428
         },
         {
          "parameter": "Pooled_Rideshare_Dist",
          "value": 2.749797673403603e-51,
          "x": 114.44444444444444
         },
         {
          "parameter": "Pooled_Rideshare_Dist",
          "value": 1.426562667735199e-51,
          "x": 114.6046046046046
         },
         {
          "parameter": "Pooled_Rideshare_Dist",
          "value": 7.385902180909568e-52,
          "x": 114.76476476476476
         },
         {
          "parameter": "Pooled_Rideshare_Dist",
          "value": 3.8162676945322296e-52,
          "x": 114.92492492492492
         },
         {
          "parameter": "Pooled_Rideshare_Dist",
          "value": 1.9678713044190096e-52,
          "x": 115.08508508508508
         },
         {
          "parameter": "Pooled_Rideshare_Dist",
          "value": 1.0126914359045182e-52,
          "x": 115.24524524524524
         },
         {
          "parameter": "Pooled_Rideshare_Dist",
          "value": 5.200919887401076e-53,
          "x": 115.4054054054054
         },
         {
          "parameter": "Pooled_Rideshare_Dist",
          "value": 2.6656662506833565e-53,
          "x": 115.56556556556556
         },
         {
          "parameter": "Pooled_Rideshare_Dist",
          "value": 1.3634963050656557e-53,
          "x": 115.72572572572572
         },
         {
          "parameter": "Pooled_Rideshare_Dist",
          "value": 6.960248409311347e-54,
          "x": 115.88588588588588
         },
         {
          "parameter": "Pooled_Rideshare_Dist",
          "value": 3.545831522426485e-54,
          "x": 116.04604604604604
         },
         {
          "parameter": "Pooled_Rideshare_Dist",
          "value": 1.802743904973995e-54,
          "x": 116.2062062062062
         },
         {
          "parameter": "Pooled_Rideshare_Dist",
          "value": 9.146871074096477e-55,
          "x": 116.36636636636636
         },
         {
          "parameter": "Pooled_Rideshare_Dist",
          "value": 4.6316279068617154e-55,
          "x": 116.52652652652652
         },
         {
          "parameter": "Pooled_Rideshare_Dist",
          "value": 2.3405469045077495e-55,
          "x": 116.68668668668668
         },
         {
          "parameter": "Pooled_Rideshare_Dist",
          "value": 1.1803848263471798e-55,
          "x": 116.84684684684684
         },
         {
          "parameter": "Pooled_Rideshare_Dist",
          "value": 5.940903114174624e-56,
          "x": 117.007007007007
         },
         {
          "parameter": "Pooled_Rideshare_Dist",
          "value": 2.9840349408423277e-56,
          "x": 117.16716716716716
         },
         {
          "parameter": "Pooled_Rideshare_Dist",
          "value": 1.4958151268631643e-56,
          "x": 117.32732732732732
         },
         {
          "parameter": "Pooled_Rideshare_Dist",
          "value": 7.482978890284646e-57,
          "x": 117.48748748748748
         },
         {
          "parameter": "Pooled_Rideshare_Dist",
          "value": 3.7358867436872767e-57,
          "x": 117.64764764764764
         },
         {
          "parameter": "Pooled_Rideshare_Dist",
          "value": 1.8613818119243608e-57,
          "x": 117.8078078078078
         },
         {
          "parameter": "Pooled_Rideshare_Dist",
          "value": 9.255498455497574e-58,
          "x": 117.96796796796797
         },
         {
          "parameter": "Pooled_Rideshare_Dist",
          "value": 4.5928973784796234e-58,
          "x": 118.12812812812814
         },
         {
          "parameter": "Pooled_Rideshare_Dist",
          "value": 2.274554008824338e-58,
          "x": 118.2882882882883
         },
         {
          "parameter": "Pooled_Rideshare_Dist",
          "value": 1.1241605683384724e-58,
          "x": 118.44844844844846
         },
         {
          "parameter": "Pooled_Rideshare_Dist",
          "value": 5.544763466017515e-59,
          "x": 118.60860860860862
         },
         {
          "parameter": "Pooled_Rideshare_Dist",
          "value": 2.729356612413694e-59,
          "x": 118.76876876876878
         },
         {
          "parameter": "Pooled_Rideshare_Dist",
          "value": 1.3407880329691484e-59,
          "x": 118.92892892892894
         },
         {
          "parameter": "Pooled_Rideshare_Dist",
          "value": 6.573286311284543e-60,
          "x": 119.0890890890891
         },
         {
          "parameter": "Pooled_Rideshare_Dist",
          "value": 3.2160852760727644e-60,
          "x": 119.24924924924926
         },
         {
          "parameter": "Pooled_Rideshare_Dist",
          "value": 1.5703452486821282e-60,
          "x": 119.40940940940942
         },
         {
          "parameter": "Pooled_Rideshare_Dist",
          "value": 7.652182451737747e-61,
          "x": 119.56956956956958
         },
         {
          "parameter": "Pooled_Rideshare_Dist",
          "value": 3.721329026383854e-61,
          "x": 119.72972972972974
         },
         {
          "parameter": "Pooled_Rideshare_Dist",
          "value": 1.8060651270436658e-61,
          "x": 119.8898898898899
         },
         {
          "parameter": "Pooled_Rideshare_Dist",
          "value": 8.74764854494386e-62,
          "x": 120.05005005005006
         },
         {
          "parameter": "Pooled_Rideshare_Dist",
          "value": 4.228358751494174e-62,
          "x": 120.21021021021022
         },
         {
          "parameter": "Pooled_Rideshare_Dist",
          "value": 2.0397404645300324e-62,
          "x": 120.37037037037038
         },
         {
          "parameter": "Pooled_Rideshare_Dist",
          "value": 9.81975331854546e-63,
          "x": 120.53053053053054
         },
         {
          "parameter": "Pooled_Rideshare_Dist",
          "value": 4.7179010387336326e-63,
          "x": 120.6906906906907
         },
         {
          "parameter": "Pooled_Rideshare_Dist",
          "value": 2.2621409339945838e-63,
          "x": 120.85085085085086
         },
         {
          "parameter": "Pooled_Rideshare_Dist",
          "value": 1.0824630296773149e-63,
          "x": 121.01101101101102
         },
         {
          "parameter": "Pooled_Rideshare_Dist",
          "value": 5.169268240227972e-64,
          "x": 121.17117117117118
         },
         {
          "parameter": "Pooled_Rideshare_Dist",
          "value": 2.463585548298375e-64,
          "x": 121.33133133133134
         },
         {
          "parameter": "Pooled_Rideshare_Dist",
          "value": 1.171733399049938e-64,
          "x": 121.4914914914915
         },
         {
          "parameter": "Pooled_Rideshare_Dist",
          "value": 5.561763954311625e-65,
          "x": 121.65165165165166
         },
         {
          "parameter": "Pooled_Rideshare_Dist",
          "value": 2.6346254305338092e-65,
          "x": 121.81181181181182
         },
         {
          "parameter": "Pooled_Rideshare_Dist",
          "value": 1.2455116335920692e-65,
          "x": 121.97197197197198
         },
         {
          "parameter": "Pooled_Rideshare_Dist",
          "value": 5.876236679823611e-66,
          "x": 122.13213213213214
         },
         {
          "parameter": "Pooled_Rideshare_Dist",
          "value": 2.766771883214111e-66,
          "x": 122.2922922922923
         },
         {
          "parameter": "Pooled_Rideshare_Dist",
          "value": 1.3000797983376584e-66,
          "x": 122.45245245245246
         },
         {
          "parameter": "Pooled_Rideshare_Dist",
          "value": 6.096621716877107e-67,
          "x": 122.61261261261262
         },
         {
          "parameter": "Pooled_Rideshare_Dist",
          "value": 2.8531924758367263e-67,
          "x": 122.77277277277278
         },
         {
          "parameter": "Pooled_Rideshare_Dist",
          "value": 1.332586698255176e-67,
          "x": 122.93293293293294
         },
         {
          "parameter": "Pooled_Rideshare_Dist",
          "value": 6.211299347635337e-68,
          "x": 123.0930930930931
         },
         {
          "parameter": "Pooled_Rideshare_Dist",
          "value": 2.8892959507512997e-68,
          "x": 123.25325325325326
         },
         {
          "parameter": "Pooled_Rideshare_Dist",
          "value": 1.3412946125220163e-68,
          "x": 123.41341341341342
         },
         {
          "parameter": "Pooled_Rideshare_Dist",
          "value": 6.214109674133112e-69,
          "x": 123.57357357357358
         },
         {
          "parameter": "Pooled_Rideshare_Dist",
          "value": 2.873136306657373e-69,
          "x": 123.73373373373374
         },
         {
          "parameter": "Pooled_Rideshare_Dist",
          "value": 1.3257331894864295e-69,
          "x": 123.8938938938939
         },
         {
          "parameter": "Pooled_Rideshare_Dist",
          "value": 6.104900782118741e-70,
          "x": 124.05405405405406
         },
         {
          "parameter": "Pooled_Rideshare_Dist",
          "value": 2.8055865689952078e-70,
          "x": 124.21421421421422
         },
         {
          "parameter": "Pooled_Rideshare_Dist",
          "value": 1.2867415353712884e-70,
          "x": 124.37437437437438
         },
         {
          "parameter": "Pooled_Rideshare_Dist",
          "value": 5.8895423452386396e-71,
          "x": 124.53453453453454
         },
         {
          "parameter": "Pooled_Rideshare_Dist",
          "value": 2.6902606531030413e-71,
          "x": 124.6946946946947
         },
         {
          "parameter": "Pooled_Rideshare_Dist",
          "value": 1.2263932555068397e-71,
          "x": 124.85485485485486
         },
         {
          "parameter": "Pooled_Rideshare_Dist",
          "value": 5.579402974202187e-72,
          "x": 125.01501501501502
         },
         {
          "parameter": "Pooled_Rideshare_Dist",
          "value": 2.5331930522537536e-72,
          "x": 125.17517517517518
         },
         {
          "parameter": "Pooled_Rideshare_Dist",
          "value": 1.1478137667791572e-72,
          "x": 125.33533533533534
         },
         {
          "parameter": "Pooled_Rideshare_Dist",
          "value": 5.190356075826099e-73,
          "x": 125.4954954954955
         },
         {
          "parameter": "Pooled_Rideshare_Dist",
          "value": 2.3423158597507358e-73,
          "x": 125.65565565565566
         },
         {
          "parameter": "Pooled_Rideshare_Dist",
          "value": 1.0549122792605923e-73,
          "x": 125.81581581581582
         },
         {
          "parameter": "Pooled_Rideshare_Dist",
          "value": 4.741435190107459e-74,
          "x": 125.97597597597598
         },
         {
          "parameter": "Pooled_Rideshare_Dist",
          "value": 2.1267961828716766e-74,
          "x": 126.13613613613614
         },
         {
          "parameter": "Pooled_Rideshare_Dist",
          "value": 9.52060414739231e-75,
          "x": 126.2962962962963
         },
         {
          "parameter": "Pooled_Rideshare_Dist",
          "value": 4.2532971661239253e-75,
          "x": 126.45645645645646
         },
         {
          "parameter": "Pooled_Rideshare_Dist",
          "value": 1.896310840420107e-75,
          "x": 126.61661661661662
         },
         {
          "parameter": "Pooled_Rideshare_Dist",
          "value": 8.437541292289355e-76,
          "x": 126.77677677677679
         },
         {
          "parameter": "Pooled_Rideshare_Dist",
          "value": 3.7466651197955604e-76,
          "x": 126.93693693693695
         },
         {
          "parameter": "Pooled_Rideshare_Dist",
          "value": 1.660337686512038e-76,
          "x": 127.0970970970971
         },
         {
          "parameter": "Pooled_Rideshare_Dist",
          "value": 7.342949757071964e-77,
          "x": 127.25725725725727
         },
         {
          "parameter": "Pooled_Rideshare_Dist",
          "value": 3.2409122329169197e-77,
          "x": 127.41741741741743
         },
         {
          "parameter": "Pooled_Rideshare_Dist",
          "value": 1.4275343459195038e-77,
          "x": 127.57757757757759
         },
         {
          "parameter": "Pooled_Rideshare_Dist",
          "value": 6.275212605877488e-78,
          "x": 127.73773773773775
         },
         {
          "parameter": "Pooled_Rideshare_Dist",
          "value": 2.752915653859279e-78,
          "x": 127.8978978978979
         },
         {
          "parameter": "Pooled_Rideshare_Dist",
          "value": 1.2052577942965796e-78,
          "x": 128.05805805805807
         },
         {
          "parameter": "Pooled_Rideshare_Dist",
          "value": 5.2661057324304184e-79,
          "x": 128.21821821821823
         },
         {
          "parameter": "Pooled_Rideshare_Dist",
          "value": 2.2962638191511974e-79,
          "x": 128.3783783783784
         },
         {
          "parameter": "Pooled_Rideshare_Dist",
          "value": 9.99255560890643e-80,
          "x": 128.53853853853855
         },
         {
          "parameter": "Pooled_Rideshare_Dist",
          "value": 4.339642433646536e-80,
          "x": 128.6986986986987
         },
         {
          "parameter": "Pooled_Rideshare_Dist",
          "value": 1.8808488806212006e-80,
          "x": 128.85885885885887
         },
         {
          "parameter": "Pooled_Rideshare_Dist",
          "value": 8.135353734042627e-81,
          "x": 129.01901901901903
         },
         {
          "parameter": "Pooled_Rideshare_Dist",
          "value": 3.5117335932330194e-81,
          "x": 129.1791791791792
         },
         {
          "parameter": "Pooled_Rideshare_Dist",
          "value": 1.5128269945780476e-81,
          "x": 129.33933933933935
         },
         {
          "parameter": "Pooled_Rideshare_Dist",
          "value": 6.503985301921794e-82,
          "x": 129.4994994994995
         },
         {
          "parameter": "Pooled_Rideshare_Dist",
          "value": 2.7905667767316464e-82,
          "x": 129.65965965965967
         },
         {
          "parameter": "Pooled_Rideshare_Dist",
          "value": 1.1948898448484835e-82,
          "x": 129.81981981981983
         },
         {
          "parameter": "Pooled_Rideshare_Dist",
          "value": 5.106059877844743e-83,
          "x": 129.97997997998
         },
         {
          "parameter": "Pooled_Rideshare_Dist",
          "value": 2.1775418935440517e-83,
          "x": 130.14014014014015
         },
         {
          "parameter": "Pooled_Rideshare_Dist",
          "value": 9.26765199239703e-84,
          "x": 130.3003003003003
         },
         {
          "parameter": "Pooled_Rideshare_Dist",
          "value": 3.9363662361230954e-84,
          "x": 130.46046046046047
         },
         {
          "parameter": "Pooled_Rideshare_Dist",
          "value": 1.6685678111008942e-84,
          "x": 130.62062062062063
         },
         {
          "parameter": "Pooled_Rideshare_Dist",
          "value": 7.058538809047282e-85,
          "x": 130.7807807807808
         },
         {
          "parameter": "Pooled_Rideshare_Dist",
          "value": 2.9799455938029225e-85,
          "x": 130.94094094094095
         },
         {
          "parameter": "Pooled_Rideshare_Dist",
          "value": 1.25552234288465e-85,
          "x": 131.1011011011011
         },
         {
          "parameter": "Pooled_Rideshare_Dist",
          "value": 5.2791395065686325e-86,
          "x": 131.26126126126127
         },
         {
          "parameter": "Pooled_Rideshare_Dist",
          "value": 2.2152585143405882e-86,
          "x": 131.42142142142143
         },
         {
          "parameter": "Pooled_Rideshare_Dist",
          "value": 9.277015293535013e-87,
          "x": 131.5815815815816
         },
         {
          "parameter": "Pooled_Rideshare_Dist",
          "value": 3.8771688346494884e-87,
          "x": 131.74174174174175
         },
         {
          "parameter": "Pooled_Rideshare_Dist",
          "value": 1.6171255401822204e-87,
          "x": 131.9019019019019
         },
         {
          "parameter": "Pooled_Rideshare_Dist",
          "value": 6.73124412819057e-88,
          "x": 132.06206206206207
         },
         {
          "parameter": "Pooled_Rideshare_Dist",
          "value": 2.796208360250926e-88,
          "x": 132.22222222222223
         },
         {
          "parameter": "Pooled_Rideshare_Dist",
          "value": 1.1592211610952527e-88,
          "x": 132.3823823823824
         },
         {
          "parameter": "Pooled_Rideshare_Dist",
          "value": 4.796071549449584e-89,
          "x": 132.54254254254255
         },
         {
          "parameter": "Pooled_Rideshare_Dist",
          "value": 1.9802845034450496e-89,
          "x": 132.7027027027027
         },
         {
          "parameter": "Pooled_Rideshare_Dist",
          "value": 8.160036604999673e-90,
          "x": 132.86286286286287
         },
         {
          "parameter": "Pooled_Rideshare_Dist",
          "value": 3.3556697075540414e-90,
          "x": 133.02302302302303
         },
         {
          "parameter": "Pooled_Rideshare_Dist",
          "value": 1.3771742393106233e-90,
          "x": 133.1831831831832
         },
         {
          "parameter": "Pooled_Rideshare_Dist",
          "value": 5.640546136939474e-91,
          "x": 133.34334334334335
         },
         {
          "parameter": "Pooled_Rideshare_Dist",
          "value": 2.3055577440283117e-91,
          "x": 133.5035035035035
         },
         {
          "parameter": "Pooled_Rideshare_Dist",
          "value": 9.404883804363956e-92,
          "x": 133.66366366366367
         },
         {
          "parameter": "Pooled_Rideshare_Dist",
          "value": 3.8287185922008794e-92,
          "x": 133.82382382382383
         },
         {
          "parameter": "Pooled_Rideshare_Dist",
          "value": 1.5555215875610993e-92,
          "x": 133.983983983984
         },
         {
          "parameter": "Pooled_Rideshare_Dist",
          "value": 6.3069766123523895e-93,
          "x": 134.14414414414415
         },
         {
          "parameter": "Pooled_Rideshare_Dist",
          "value": 2.5520488368283658e-93,
          "x": 134.3043043043043
         },
         {
          "parameter": "Pooled_Rideshare_Dist",
          "value": 1.0305743374602379e-93,
          "x": 134.46446446446447
         },
         {
          "parameter": "Pooled_Rideshare_Dist",
          "value": 4.153289930686704e-94,
          "x": 134.62462462462463
         },
         {
          "parameter": "Pooled_Rideshare_Dist",
          "value": 1.6704279843063052e-94,
          "x": 134.7847847847848
         },
         {
          "parameter": "Pooled_Rideshare_Dist",
          "value": 6.70480030433441e-95,
          "x": 134.94494494494495
         },
         {
          "parameter": "Pooled_Rideshare_Dist",
          "value": 2.6857557870444668e-95,
          "x": 135.1051051051051
         },
         {
          "parameter": "Pooled_Rideshare_Dist",
          "value": 1.0736674216787023e-95,
          "x": 135.26526526526527
         },
         {
          "parameter": "Pooled_Rideshare_Dist",
          "value": 4.283468852994558e-96,
          "x": 135.42542542542543
         },
         {
          "parameter": "Pooled_Rideshare_Dist",
          "value": 1.7054698005735246e-96,
          "x": 135.5855855855856
         },
         {
          "parameter": "Pooled_Rideshare_Dist",
          "value": 6.776649696629644e-97,
          "x": 135.74574574574575
         },
         {
          "parameter": "Pooled_Rideshare_Dist",
          "value": 2.687253403607463e-97,
          "x": 135.9059059059059
         },
         {
          "parameter": "Pooled_Rideshare_Dist",
          "value": 1.0634688887913987e-97,
          "x": 136.06606606606607
         },
         {
          "parameter": "Pooled_Rideshare_Dist",
          "value": 4.2001378043601167e-98,
          "x": 136.22622622622623
         },
         {
          "parameter": "Pooled_Rideshare_Dist",
          "value": 1.6554835601654223e-98,
          "x": 136.3863863863864
         },
         {
          "parameter": "Pooled_Rideshare_Dist",
          "value": 6.51191596668344e-99,
          "x": 136.54654654654655
         },
         {
          "parameter": "Pooled_Rideshare_Dist",
          "value": 2.556320396685311e-99,
          "x": 136.7067067067067
         },
         {
          "parameter": "Pooled_Rideshare_Dist",
          "value": 1.0014848074640042e-99,
          "x": 136.86686686686687
         },
         {
          "parameter": "Pooled_Rideshare_Dist",
          "value": 3.915579337758298e-100,
          "x": 137.02702702702703
         },
         {
          "parameter": "Pooled_Rideshare_Dist",
          "value": 1.5278132539429e-100,
          "x": 137.1871871871872
         },
         {
          "parameter": "Pooled_Rideshare_Dist",
          "value": 5.949316872130033e-101,
          "x": 137.34734734734735
         },
         {
          "parameter": "Pooled_Rideshare_Dist",
          "value": 2.311992979761137e-101,
          "x": 137.5075075075075
         },
         {
          "parameter": "Pooled_Rideshare_Dist",
          "value": 8.96661460410677e-102,
          "x": 137.66766766766767
         },
         {
          "parameter": "Pooled_Rideshare_Dist",
          "value": 3.470508231104642e-102,
          "x": 137.82782782782783
         },
         {
          "parameter": "Pooled_Rideshare_Dist",
          "value": 1.3405414169824028e-102,
          "x": 137.987987987988
         },
         {
          "parameter": "Pooled_Rideshare_Dist",
          "value": 5.167612932673872e-103,
          "x": 138.14814814814815
         },
         {
          "parameter": "Pooled_Rideshare_Dist",
          "value": 1.98802709443078e-103,
          "x": 138.3083083083083
         },
         {
          "parameter": "Pooled_Rideshare_Dist",
          "value": 7.632682620405073e-104,
          "x": 138.46846846846847
         },
         {
          "parameter": "Pooled_Rideshare_Dist",
          "value": 2.924520645684429e-104,
          "x": 138.62862862862863
         },
         {
          "parameter": "Pooled_Rideshare_Dist",
          "value": 1.118290824735174e-104,
          "x": 138.7887887887888
         },
         {
          "parameter": "Pooled_Rideshare_Dist",
          "value": 4.26753816917784e-105,
          "x": 138.94894894894895
         },
         {
          "parameter": "Pooled_Rideshare_Dist",
          "value": 1.6252592601403858e-105,
          "x": 139.1091091091091
         },
         {
          "parameter": "Pooled_Rideshare_Dist",
          "value": 6.177182987128215e-106,
          "x": 139.26926926926927
         },
         {
          "parameter": "Pooled_Rideshare_Dist",
          "value": 2.34304627865245e-106,
          "x": 139.42942942942943
         },
         {
          "parameter": "Pooled_Rideshare_Dist",
          "value": 8.869391985737075e-107,
          "x": 139.5895895895896
         },
         {
          "parameter": "Pooled_Rideshare_Dist",
          "value": 3.350652693433832e-107,
          "x": 139.74974974974975
         },
         {
          "parameter": "Pooled_Rideshare_Dist",
          "value": 1.2632449230848128e-107,
          "x": 139.9099099099099
         },
         {
          "parameter": "Pooled_Rideshare_Dist",
          "value": 4.75300522192178e-108,
          "x": 140.07007007007007
         },
         {
          "parameter": "Pooled_Rideshare_Dist",
          "value": 1.7847262191648693e-108,
          "x": 140.23023023023023
         },
         {
          "parameter": "Pooled_Rideshare_Dist",
          "value": 6.688019008223473e-109,
          "x": 140.3903903903904
         },
         {
          "parameter": "Pooled_Rideshare_Dist",
          "value": 2.50118592527386e-109,
          "x": 140.55055055055055
         },
         {
          "parameter": "Pooled_Rideshare_Dist",
          "value": 9.335058330953377e-110,
          "x": 140.7107107107107
         },
         {
          "parameter": "Pooled_Rideshare_Dist",
          "value": 3.4770479384095766e-110,
          "x": 140.87087087087087
         },
         {
          "parameter": "Pooled_Rideshare_Dist",
          "value": 1.2924891416932567e-110,
          "x": 141.03103103103103
         },
         {
          "parameter": "Pooled_Rideshare_Dist",
          "value": 4.794747159891444e-111,
          "x": 141.1911911911912
         },
         {
          "parameter": "Pooled_Rideshare_Dist",
          "value": 1.7751174791210848e-111,
          "x": 141.35135135135135
         },
         {
          "parameter": "Pooled_Rideshare_Dist",
          "value": 6.5585989131251005e-112,
          "x": 141.51151151151151
         },
         {
          "parameter": "Pooled_Rideshare_Dist",
          "value": 2.4183414936537853e-112,
          "x": 141.67167167167167
         },
         {
          "parameter": "Pooled_Rideshare_Dist",
          "value": 8.899113888748905e-113,
          "x": 141.83183183183183
         },
         {
          "parameter": "Pooled_Rideshare_Dist",
          "value": 3.268123686148068e-113,
          "x": 141.991991991992
         },
         {
          "parameter": "Pooled_Rideshare_Dist",
          "value": 1.1977682225803193e-113,
          "x": 142.15215215215215
         },
         {
          "parameter": "Pooled_Rideshare_Dist",
          "value": 4.380963870425033e-114,
          "x": 142.31231231231232
         },
         {
          "parameter": "Pooled_Rideshare_Dist",
          "value": 1.5991497658863366e-114,
          "x": 142.47247247247248
         },
         {
          "parameter": "Pooled_Rideshare_Dist",
          "value": 5.825472930589846e-115,
          "x": 142.63263263263264
         },
         {
          "parameter": "Pooled_Rideshare_Dist",
          "value": 2.1178530404069055e-115,
          "x": 142.7927927927928
         },
         {
          "parameter": "Pooled_Rideshare_Dist",
          "value": 7.683923553392498e-116,
          "x": 142.95295295295296
         },
         {
          "parameter": "Pooled_Rideshare_Dist",
          "value": 2.7822287409220887e-116,
          "x": 143.11311311311312
         },
         {
          "parameter": "Pooled_Rideshare_Dist",
          "value": 1.0053683574808143e-116,
          "x": 143.27327327327328
         },
         {
          "parameter": "Pooled_Rideshare_Dist",
          "value": 3.6256023900277404e-117,
          "x": 143.43343343343344
         },
         {
          "parameter": "Pooled_Rideshare_Dist",
          "value": 1.3048413746928745e-117,
          "x": 143.5935935935936
         },
         {
          "parameter": "Pooled_Rideshare_Dist",
          "value": 4.686599547465194e-118,
          "x": 143.75375375375376
         },
         {
          "parameter": "Pooled_Rideshare_Dist",
          "value": 1.67988888223191e-118,
          "x": 143.91391391391392
         },
         {
          "parameter": "Pooled_Rideshare_Dist",
          "value": 6.009327152399737e-119,
          "x": 144.07407407407408
         },
         {
          "parameter": "Pooled_Rideshare_Dist",
          "value": 2.145328106379929e-119,
          "x": 144.23423423423424
         },
         {
          "parameter": "Pooled_Rideshare_Dist",
          "value": 7.643357614424467e-120,
          "x": 144.3943943943944
         },
         {
          "parameter": "Pooled_Rideshare_Dist",
          "value": 2.7176731222360366e-120,
          "x": 144.55455455455456
         },
         {
          "parameter": "Pooled_Rideshare_Dist",
          "value": 9.643459064534156e-121,
          "x": 144.71471471471472
         },
         {
          "parameter": "Pooled_Rideshare_Dist",
          "value": 3.41500265633684e-121,
          "x": 144.87487487487488
         },
         {
          "parameter": "Pooled_Rideshare_Dist",
          "value": 1.2069015161370162e-121,
          "x": 145.03503503503504
         },
         {
          "parameter": "Pooled_Rideshare_Dist",
          "value": 4.25672116084583e-122,
          "x": 145.1951951951952
         },
         {
          "parameter": "Pooled_Rideshare_Dist",
          "value": 1.4983081932267512e-122,
          "x": 145.35535535535536
         },
         {
          "parameter": "Pooled_Rideshare_Dist",
          "value": 5.263197763917612e-123,
          "x": 145.51551551551552
         },
         {
          "parameter": "Pooled_Rideshare_Dist",
          "value": 1.8451038109269778e-123,
          "x": 145.67567567567568
         },
         {
          "parameter": "Pooled_Rideshare_Dist",
          "value": 6.455271388506148e-124,
          "x": 145.83583583583584
         },
         {
          "parameter": "Pooled_Rideshare_Dist",
          "value": 2.2538799867781675e-124,
          "x": 145.995995995996
         },
         {
          "parameter": "Pooled_Rideshare_Dist",
          "value": 7.853615800252645e-125,
          "x": 146.15615615615616
         },
         {
          "parameter": "Pooled_Rideshare_Dist",
          "value": 2.731059101847141e-125,
          "x": 146.31631631631632
         },
         {
          "parameter": "Pooled_Rideshare_Dist",
          "value": 9.4779655990701e-126,
          "x": 146.47647647647648
         },
         {
          "parameter": "Pooled_Rideshare_Dist",
          "value": 3.282628531867974e-126,
          "x": 146.63663663663664
         },
         {
          "parameter": "Pooled_Rideshare_Dist",
          "value": 1.134621305580082e-126,
          "x": 146.7967967967968
         },
         {
          "parameter": "Pooled_Rideshare_Dist",
          "value": 3.913836789535348e-127,
          "x": 146.95695695695696
         },
         {
          "parameter": "Pooled_Rideshare_Dist",
          "value": 1.3473395881169078e-127,
          "x": 147.11711711711712
         },
         {
          "parameter": "Pooled_Rideshare_Dist",
          "value": 4.628859645267034e-128,
          "x": 147.27727727727728
         },
         {
          "parameter": "Pooled_Rideshare_Dist",
          "value": 1.587060697590494e-128,
          "x": 147.43743743743744
         },
         {
          "parameter": "Pooled_Rideshare_Dist",
          "value": 5.4304478025606985e-129,
          "x": 147.5975975975976
         },
         {
          "parameter": "Pooled_Rideshare_Dist",
          "value": 1.85438682441084e-129,
          "x": 147.75775775775776
         },
         {
          "parameter": "Pooled_Rideshare_Dist",
          "value": 6.319571105440699e-130,
          "x": 147.91791791791792
         },
         {
          "parameter": "Pooled_Rideshare_Dist",
          "value": 2.149302080176843e-130,
          "x": 148.07807807807808
         },
         {
          "parameter": "Pooled_Rideshare_Dist",
          "value": 7.295077260883387e-131,
          "x": 148.23823823823824
         },
         {
          "parameter": "Pooled_Rideshare_Dist",
          "value": 2.4710692424802246e-131,
          "x": 148.3983983983984
         },
         {
          "parameter": "Pooled_Rideshare_Dist",
          "value": 8.353385359531298e-132,
          "x": 148.55855855855856
         },
         {
          "parameter": "Pooled_Rideshare_Dist",
          "value": 2.8181408875596135e-132,
          "x": 148.71871871871872
         },
         {
          "parameter": "Pooled_Rideshare_Dist",
          "value": 9.488235769300777e-133,
          "x": 148.87887887887888
         },
         {
          "parameter": "Pooled_Rideshare_Dist",
          "value": 3.188091790514417e-133,
          "x": 149.03903903903904
         },
         {
          "parameter": "Pooled_Rideshare_Dist",
          "value": 1.0690517989631434e-133,
          "x": 149.1991991991992
         },
         {
          "parameter": "Pooled_Rideshare_Dist",
          "value": 3.5775792490861654e-134,
          "x": 149.35935935935936
         },
         {
          "parameter": "Pooled_Rideshare_Dist",
          "value": 1.194819658609379e-134,
          "x": 149.51951951951952
         },
         {
          "parameter": "Pooled_Rideshare_Dist",
          "value": 3.982337273646443e-135,
          "x": 149.67967967967968
         },
         {
          "parameter": "Pooled_Rideshare_Dist",
          "value": 1.3246352268595787e-135,
          "x": 149.83983983983984
         },
         {
          "parameter": "Pooled_Rideshare_Dist",
          "value": 4.397209367263815e-136,
          "x": 150
         },
         {
          "parameter": "Rideshare_Dist",
          "value": 6.860478730986094e-09,
          "x": 4.094094094094094
         },
         {
          "parameter": "Rideshare_Dist",
          "value": 7.969446088564946e-09,
          "x": 4.2542542542542545
         },
         {
          "parameter": "Rideshare_Dist",
          "value": 9.250651567736716e-09,
          "x": 4.414414414414415
         },
         {
          "parameter": "Rideshare_Dist",
          "value": 1.0729703334115904e-08,
          "x": 4.574574574574575
         },
         {
          "parameter": "Rideshare_Dist",
          "value": 1.2435837456948969e-08,
          "x": 4.734734734734735
         },
         {
          "parameter": "Rideshare_Dist",
          "value": 1.4402404724279065e-08,
          "x": 4.894894894894895
         },
         {
          "parameter": "Rideshare_Dist",
          "value": 1.6667418835508227e-08,
          "x": 5.055055055055055
         },
         {
          "parameter": "Rideshare_Dist",
          "value": 1.9274173159609605e-08,
          "x": 5.215215215215215
         },
         {
          "parameter": "Rideshare_Dist",
          "value": 2.22719340156795e-08,
          "x": 5.375375375375375
         },
         {
          "parameter": "Rideshare_Dist",
          "value": 2.5716719273723234e-08,
          "x": 5.535535535535535
         },
         {
          "parameter": "Rideshare_Dist",
          "value": 2.967217199329198e-08,
          "x": 5.6956956956956954
         },
         {
          "parameter": "Rideshare_Dist",
          "value": 3.4210539821881075e-08,
          "x": 5.8558558558558556
         },
         {
          "parameter": "Rideshare_Dist",
          "value": 3.941377197024228e-08,
          "x": 6.016016016016017
         },
         {
          "parameter": "Rideshare_Dist",
          "value": 4.537474677464089e-08,
          "x": 6.1761761761761775
         },
         {
          "parameter": "Rideshare_Dist",
          "value": 5.219864415360672e-08,
          "x": 6.336336336336338
         },
         {
          "parameter": "Rideshare_Dist",
          "value": 6.000447867616816e-08,
          "x": 6.496496496496498
         },
         {
          "parameter": "Rideshare_Dist",
          "value": 6.892681048753915e-08,
          "x": 6.656656656656658
         },
         {
          "parameter": "Rideshare_Dist",
          "value": 7.911765299456538e-08,
          "x": 6.816816816816818
         },
         {
          "parameter": "Rideshare_Dist",
          "value": 9.07485980050889e-08,
          "x": 6.976976976976978
         },
         {
          "parameter": "Rideshare_Dist",
          "value": 1.0401318095103275e-07,
          "x": 7.137137137137138
         },
         {
          "parameter": "Rideshare_Dist",
          "value": 1.1912951091302893e-07,
          "x": 7.297297297297298
         },
         {
          "parameter": "Rideshare_Dist",
          "value": 1.3634319241341643e-07,
          "x": 7.457457457457458
         },
         {
          "parameter": "Rideshare_Dist",
          "value": 1.5593056836327977e-07,
          "x": 7.6176176176176185
         },
         {
          "parameter": "Rideshare_Dist",
          "value": 1.782023161466367e-07,
          "x": 7.777777777777779
         },
         {
          "parameter": "Rideshare_Dist",
          "value": 2.0350743160982076e-07,
          "x": 7.937937937937939
         },
         {
          "parameter": "Rideshare_Dist",
          "value": 2.3223763870521936e-07,
          "x": 8.098098098098099
         },
         {
          "parameter": "Rideshare_Dist",
          "value": 2.6483226572444995e-07,
          "x": 8.258258258258259
         },
         {
          "parameter": "Rideshare_Dist",
          "value": 3.01783632455131e-07,
          "x": 8.418418418418419
         },
         {
          "parameter": "Rideshare_Dist",
          "value": 3.4364299621556013e-07,
          "x": 8.578578578578579
         },
         {
          "parameter": "Rideshare_Dist",
          "value": 3.91027108570514e-07,
          "x": 8.73873873873874
         },
         {
          "parameter": "Rideshare_Dist",
          "value": 4.4462543861579057e-07,
          "x": 8.8988988988989
         },
         {
          "parameter": "Rideshare_Dist",
          "value": 5.052081230455147e-07,
          "x": 9.05905905905906
         },
         {
          "parameter": "Rideshare_Dist",
          "value": 5.736347077896951e-07,
          "x": 9.21921921921922
         },
         {
          "parameter": "Rideshare_Dist",
          "value": 6.508637508347465e-07,
          "x": 9.37937937937938
         },
         {
          "parameter": "Rideshare_Dist",
          "value": 7.379633609194528e-07,
          "x": 9.53953953953954
         },
         {
          "parameter": "Rideshare_Dist",
          "value": 8.36122752135291e-07,
          "x": 9.6996996996997
         },
         {
          "parameter": "Rideshare_Dist",
          "value": 9.466649000530085e-07,
          "x": 9.85985985985986
         },
         {
          "parameter": "Rideshare_Dist",
          "value": 1.0710603908454307e-06,
          "x": 10.02002002002002
         },
         {
          "parameter": "Rideshare_Dist",
          "value": 1.2109425609760246e-06,
          "x": 10.18018018018018
         },
         {
          "parameter": "Rideshare_Dist",
          "value": 1.3681240313675485e-06,
          "x": 10.34034034034034
         },
         {
          "parameter": "Rideshare_Dist",
          "value": 1.5446147465472126e-06,
          "x": 10.5005005005005
         },
         {
          "parameter": "Rideshare_Dist",
          "value": 1.742641636072348e-06,
          "x": 10.66066066066066
         },
         {
          "parameter": "Rideshare_Dist",
          "value": 1.9646700225596956e-06,
          "x": 10.82082082082082
         },
         {
          "parameter": "Rideshare_Dist",
          "value": 2.2134269078541223e-06,
          "x": 10.98098098098098
         },
         {
          "parameter": "Rideshare_Dist",
          "value": 2.4919262762575783e-06,
          "x": 11.14114114114114
         },
         {
          "parameter": "Rideshare_Dist",
          "value": 2.8034965612708456e-06,
          "x": 11.3013013013013
         },
         {
          "parameter": "Rideshare_Dist",
          "value": 3.1518104299496273e-06,
          "x": 11.461461461461461
         },
         {
          "parameter": "Rideshare_Dist",
          "value": 3.540917046708102e-06,
          "x": 11.621621621621621
         },
         {
          "parameter": "Rideshare_Dist",
          "value": 3.975276986178071e-06,
          "x": 11.781781781781781
         },
         {
          "parameter": "Rideshare_Dist",
          "value": 4.4597999725056215e-06,
          "x": 11.941941941941941
         },
         {
          "parameter": "Rideshare_Dist",
          "value": 4.9998856301892745e-06,
          "x": 12.102102102102101
         },
         {
          "parameter": "Rideshare_Dist",
          "value": 5.601467439177789e-06,
          "x": 12.262262262262261
         },
         {
          "parameter": "Rideshare_Dist",
          "value": 6.271060094389576e-06,
          "x": 12.422422422422422
         },
         {
          "parameter": "Rideshare_Dist",
          "value": 7.015810477019645e-06,
          "x": 12.582582582582582
         },
         {
          "parameter": "Rideshare_Dist",
          "value": 7.843552451888236e-06,
          "x": 12.742742742742742
         },
         {
          "parameter": "Rideshare_Dist",
          "value": 8.76286571157451e-06,
          "x": 12.902902902902902
         },
         {
          "parameter": "Rideshare_Dist",
          "value": 9.783138894078101e-06,
          "x": 13.063063063063062
         },
         {
          "parameter": "Rideshare_Dist",
          "value": 1.0914637206162304e-05,
          "x": 13.223223223223222
         },
         {
          "parameter": "Rideshare_Dist",
          "value": 1.2168574789249889e-05,
          "x": 13.383383383383382
         },
         {
          "parameter": "Rideshare_Dist",
          "value": 1.3557192068650437e-05,
          "x": 13.543543543543542
         },
         {
          "parameter": "Rideshare_Dist",
          "value": 1.5093838329875646e-05,
          "x": 13.703703703703702
         },
         {
          "parameter": "Rideshare_Dist",
          "value": 1.6793059767714978e-05,
          "x": 13.863863863863862
         },
         {
          "parameter": "Rideshare_Dist",
          "value": 1.867069325445991e-05,
          "x": 14.024024024024023
         },
         {
          "parameter": "Rideshare_Dist",
          "value": 2.0743966073035308e-05,
          "x": 14.184184184184183
         },
         {
          "parameter": "Rideshare_Dist",
          "value": 2.3031601858663768e-05,
          "x": 14.344344344344343
         },
         {
          "parameter": "Rideshare_Dist",
          "value": 2.5553932988895408e-05,
          "x": 14.504504504504503
         },
         {
          "parameter": "Rideshare_Dist",
          "value": 2.8333019656207503e-05,
          "x": 14.664664664664663
         },
         {
          "parameter": "Rideshare_Dist",
          "value": 3.139277584974296e-05,
          "x": 14.824824824824823
         },
         {
          "parameter": "Rideshare_Dist",
          "value": 3.4759102462928506e-05,
          "x": 14.984984984984983
         },
         {
          "parameter": "Rideshare_Dist",
          "value": 3.8460027731506904e-05,
          "x": 15.145145145145143
         },
         {
          "parameter": "Rideshare_Dist",
          "value": 4.2525855191737254e-05,
          "x": 15.305305305305303
         },
         {
          "parameter": "Rideshare_Dist",
          "value": 4.6989319330968013e-05,
          "x": 15.465465465465464
         },
         {
          "parameter": "Rideshare_Dist",
          "value": 5.1885749082267666e-05,
          "x": 15.625625625625624
         },
         {
          "parameter": "Rideshare_Dist",
          "value": 5.725323929110967e-05,
          "x": 15.785785785785787
         },
         {
          "parameter": "Rideshare_Dist",
          "value": 6.313283025504274e-05,
          "x": 15.945945945945947
         },
         {
          "parameter": "Rideshare_Dist",
          "value": 6.956869540664597e-05,
          "x": 16.106106106106107
         },
         {
          "parameter": "Rideshare_Dist",
          "value": 7.660833717565999e-05,
          "x": 16.266266266266268
         },
         {
          "parameter": "Rideshare_Dist",
          "value": 8.430279102782048e-05,
          "x": 16.426426426426428
         },
         {
          "parameter": "Rideshare_Dist",
          "value": 9.270683763540669e-05,
          "x": 16.586586586586588
         },
         {
          "parameter": "Rideshare_Dist",
          "value": 0.0001018792230876798,
          "x": 16.746746746746748
         },
         {
          "parameter": "Rideshare_Dist",
          "value": 0.00011188288699806661,
          "x": 16.906906906906908
         },
         {
          "parameter": "Rideshare_Dist",
          "value": 0.00012278519830898627,
          "x": 17.067067067067068
         },
         {
          "parameter": "Rideshare_Dist",
          "value": 0.0001346581985344956,
          "x": 17.227227227227228
         },
         {
          "parameter": "Rideshare_Dist",
          "value": 0.00014757885211532878,
          "x": 17.38738738738739
         },
         {
          "parameter": "Rideshare_Dist",
          "value": 0.00016162930349034464,
          "x": 17.54754754754755
         },
         {
          "parameter": "Rideshare_Dist",
          "value": 0.00017689714041280624,
          "x": 17.70770770770771
         },
         {
          "parameter": "Rideshare_Dist",
          "value": 0.00019347566295927792,
          "x": 17.86786786786787
         },
         {
          "parameter": "Rideshare_Dist",
          "value": 0.00021146415759323812,
          "x": 18.02802802802803
         },
         {
          "parameter": "Rideshare_Dist",
          "value": 0.00023096817555481083,
          "x": 18.18818818818819
         },
         {
          "parameter": "Rideshare_Dist",
          "value": 0.00025209981475241754,
          "x": 18.34834834834835
         },
         {
          "parameter": "Rideshare_Dist",
          "value": 0.00027497800423174673,
          "x": 18.50850850850851
         },
         {
          "parameter": "Rideshare_Dist",
          "value": 0.00029972879019244785,
          "x": 18.66866866866867
         },
         {
          "parameter": "Rideshare_Dist",
          "value": 0.00032648562241359116,
          "x": 18.82882882882883
         },
         {
          "parameter": "Rideshare_Dist",
          "value": 0.0003553896398355,
          "x": 18.98898898898899
         },
         {
          "parameter": "Rideshare_Dist",
          "value": 0.0003865899539284177,
          "x": 19.14914914914915
         },
         {
          "parameter": "Rideshare_Dist",
          "value": 0.0004202439283580297,
          "x": 19.30930930930931
         },
         {
          "parameter": "Rideshare_Dist",
          "value": 0.0004565174533346396,
          "x": 19.46946946946947
         },
         {
          "parameter": "Rideshare_Dist",
          "value": 0.0004955852129073267,
          "x": 19.62962962962963
         },
         {
          "parameter": "Rideshare_Dist",
          "value": 0.0005376309433373737,
          "x": 19.78978978978979
         },
         {
          "parameter": "Rideshare_Dist",
          "value": 0.0005828476805573311,
          "x": 19.94994994994995
         },
         {
          "parameter": "Rideshare_Dist",
          "value": 0.0006314379945941315,
          "x": 20.11011011011011
         },
         {
          "parameter": "Rideshare_Dist",
          "value": 0.0006836142087074834,
          "x": 20.27027027027027
         },
         {
          "parameter": "Rideshare_Dist",
          "value": 0.0007395986008694436,
          "x": 20.43043043043043
         },
         {
          "parameter": "Rideshare_Dist",
          "value": 0.0007996235850885393,
          "x": 20.59059059059059
         },
         {
          "parameter": "Rideshare_Dist",
          "value": 0.0008639318699632639,
          "x": 20.75075075075075
         },
         {
          "parameter": "Rideshare_Dist",
          "value": 0.0009327765917364681,
          "x": 20.91091091091091
         },
         {
          "parameter": "Rideshare_Dist",
          "value": 0.0010064214190153005,
          "x": 21.07107107107107
         },
         {
          "parameter": "Rideshare_Dist",
          "value": 0.0010851406262223887,
          "x": 21.23123123123123
         },
         {
          "parameter": "Rideshare_Dist",
          "value": 0.0011692191327543565,
          "x": 21.39139139139139
         },
         {
          "parameter": "Rideshare_Dist",
          "value": 0.0012589525047448915,
          "x": 21.55155155155155
         },
         {
          "parameter": "Rideshare_Dist",
          "value": 0.0013546469162632824,
          "x": 21.71171171171171
         },
         {
          "parameter": "Rideshare_Dist",
          "value": 0.0014566190667268729,
          "x": 21.87187187187187
         },
         {
          "parameter": "Rideshare_Dist",
          "value": 0.001565196051269373,
          "x": 22.032032032032035
         },
         {
          "parameter": "Rideshare_Dist",
          "value": 0.0016807151807875344,
          "x": 22.192192192192195
         },
         {
          "parameter": "Rideshare_Dist",
          "value": 0.0018035237483888166,
          "x": 22.352352352352355
         },
         {
          "parameter": "Rideshare_Dist",
          "value": 0.0019339787389830987,
          "x": 22.512512512512515
         },
         {
          "parameter": "Rideshare_Dist",
          "value": 0.0020724464788050507,
          "x": 22.672672672672675
         },
         {
          "parameter": "Rideshare_Dist",
          "value": 0.0022193022217210407,
          "x": 22.832832832832835
         },
         {
          "parameter": "Rideshare_Dist",
          "value": 0.0023749296692680616,
          "x": 22.992992992992995
         },
         {
          "parameter": "Rideshare_Dist",
          "value": 0.002539720421492776,
          "x": 23.153153153153156
         },
         {
          "parameter": "Rideshare_Dist",
          "value": 0.002714073355808748,
          "x": 23.313313313313316
         },
         {
          "parameter": "Rideshare_Dist",
          "value": 0.0028983939312698737,
          "x": 23.473473473473476
         },
         {
          "parameter": "Rideshare_Dist",
          "value": 0.003093093415869659,
          "x": 23.633633633633636
         },
         {
          "parameter": "Rideshare_Dist",
          "value": 0.0032985880347204182,
          "x": 23.793793793793796
         },
         {
          "parameter": "Rideshare_Dist",
          "value": 0.0035152980372440577,
          "x": 23.953953953953956
         },
         {
          "parameter": "Rideshare_Dist",
          "value": 0.0037436466818185294,
          "x": 24.114114114114116
         },
         {
          "parameter": "Rideshare_Dist",
          "value": 0.003984059136670557,
          "x": 24.274274274274276
         },
         {
          "parameter": "Rideshare_Dist",
          "value": 0.00423696129618742,
          "x": 24.434434434434436
         },
         {
          "parameter": "Rideshare_Dist",
          "value": 0.004502778512236977,
          "x": 24.594594594594597
         },
         {
          "parameter": "Rideshare_Dist",
          "value": 0.004781934240536789,
          "x": 24.754754754754757
         },
         {
          "parameter": "Rideshare_Dist",
          "value": 0.00507484860259802,
          "x": 24.914914914914917
         },
         {
          "parameter": "Rideshare_Dist",
          "value": 0.005381936864288265,
          "x": 25.075075075075077
         },
         {
          "parameter": "Rideshare_Dist",
          "value": 0.00570360783260671,
          "x": 25.235235235235237
         },
         {
          "parameter": "Rideshare_Dist",
          "value": 0.006040262172844334,
          "x": 25.395395395395397
         },
         {
          "parameter": "Rideshare_Dist",
          "value": 0.006392290648908943,
          "x": 25.555555555555557
         },
         {
          "parameter": "Rideshare_Dist",
          "value": 0.0067600722902261485,
          "x": 25.715715715715717
         },
         {
          "parameter": "Rideshare_Dist",
          "value": 0.007143972489281782,
          "x": 25.875875875875877
         },
         {
          "parameter": "Rideshare_Dist",
          "value": 0.007544341034543022,
          "x": 26.036036036036037
         },
         {
          "parameter": "Rideshare_Dist",
          "value": 0.007961510084183342,
          "x": 26.196196196196198
         },
         {
          "parameter": "Rideshare_Dist",
          "value": 0.008395792086733515,
          "x": 26.356356356356358
         },
         {
          "parameter": "Rideshare_Dist",
          "value": 0.008847477655485263,
          "x": 26.516516516516518
         },
         {
          "parameter": "Rideshare_Dist",
          "value": 0.009316833404178028,
          "x": 26.676676676676678
         },
         {
          "parameter": "Rideshare_Dist",
          "value": 0.00980409975220022,
          "x": 26.836836836836838
         },
         {
          "parameter": "Rideshare_Dist",
          "value": 0.010309488708225793,
          "x": 26.996996996996998
         },
         {
          "parameter": "Rideshare_Dist",
          "value": 0.010833181641880772,
          "x": 27.157157157157158
         },
         {
          "parameter": "Rideshare_Dist",
          "value": 0.011375327053686064,
          "x": 27.31731731731732
         },
         {
          "parameter": "Rideshare_Dist",
          "value": 0.011936038354144345,
          "x": 27.47747747747748
         },
         {
          "parameter": "Rideshare_Dist",
          "value": 0.012515391663426162,
          "x": 27.63763763763764
         },
         {
          "parameter": "Rideshare_Dist",
          "value": 0.013113423643653305,
          "x": 27.7977977977978
         },
         {
          "parameter": "Rideshare_Dist",
          "value": 0.013730129376272888,
          "x": 27.95795795795796
         },
         {
          "parameter": "Rideshare_Dist",
          "value": 0.014365460297452583,
          "x": 28.11811811811812
         },
         {
          "parameter": "Rideshare_Dist",
          "value": 0.01501932220480322,
          "x": 28.27827827827828
         },
         {
          "parameter": "Rideshare_Dist",
          "value": 0.015691573349038847,
          "x": 28.43843843843844
         },
         {
          "parameter": "Rideshare_Dist",
          "value": 0.01638202262441365,
          "x": 28.5985985985986
         },
         {
          "parameter": "Rideshare_Dist",
          "value": 0.017090427871920524,
          "x": 28.75875875875876
         },
         {
          "parameter": "Rideshare_Dist",
          "value": 0.01781649430929332,
          "x": 28.91891891891892
         },
         {
          "parameter": "Rideshare_Dist",
          "value": 0.018559873101819297,
          "x": 29.07907907907908
         },
         {
          "parameter": "Rideshare_Dist",
          "value": 0.019320160087832074,
          "x": 29.23923923923924
         },
         {
          "parameter": "Rideshare_Dist",
          "value": 0.02009689467251894,
          "x": 29.3993993993994
         },
         {
          "parameter": "Rideshare_Dist",
          "value": 0.02088955890333078,
          "x": 29.55955955955956
         },
         {
          "parameter": "Rideshare_Dist",
          "value": 0.021697576739830894,
          "x": 29.71971971971972
         },
         {
          "parameter": "Rideshare_Dist",
          "value": 0.022520313530253137,
          "x": 29.87987987987988
         },
         {
          "parameter": "Rideshare_Dist",
          "value": 0.023357075706364583,
          "x": 30.04004004004004
         },
         {
          "parameter": "Rideshare_Dist",
          "value": 0.02420711070743785,
          "x": 30.2002002002002
         },
         {
          "parameter": "Rideshare_Dist",
          "value": 0.02506960714323919,
          "x": 30.36036036036036
         },
         {
          "parameter": "Rideshare_Dist",
          "value": 0.0259436952049283,
          "x": 30.52052052052052
         },
         {
          "parameter": "Rideshare_Dist",
          "value": 0.026828447331650233,
          "x": 30.68068068068068
         },
         {
          "parameter": "Rideshare_Dist",
          "value": 0.027722879139382504,
          "x": 30.84084084084084
         },
         {
          "parameter": "Rideshare_Dist",
          "value": 0.028625950617284884,
          "x": 31.001001001001
         },
         {
          "parameter": "Rideshare_Dist",
          "value": 0.02953656759539524,
          "x": 31.16116116116116
         },
         {
          "parameter": "Rideshare_Dist",
          "value": 0.030453583486025785,
          "x": 31.32132132132132
         },
         {
          "parameter": "Rideshare_Dist",
          "value": 0.03137580129965239,
          "x": 31.48148148148148
         },
         {
          "parameter": "Rideshare_Dist",
          "value": 0.03230197593446124,
          "x": 31.64164164164164
         },
         {
          "parameter": "Rideshare_Dist",
          "value": 0.033230816737036824,
          "x": 31.8018018018018
         },
         {
          "parameter": "Rideshare_Dist",
          "value": 0.0341609903299492,
          "x": 31.96196196196196
         },
         {
          "parameter": "Rideshare_Dist",
          "value": 0.03509112370024508,
          "x": 32.12212212212212
         },
         {
          "parameter": "Rideshare_Dist",
          "value": 0.03601980754107405,
          "x": 32.28228228228228
         },
         {
          "parameter": "Rideshare_Dist",
          "value": 0.036945599836905416,
          "x": 32.44244244244244
         },
         {
          "parameter": "Rideshare_Dist",
          "value": 0.03786702968102616,
          "x": 32.6026026026026
         },
         {
          "parameter": "Rideshare_Dist",
          "value": 0.038782601312269245,
          "x": 32.76276276276276
         },
         {
          "parameter": "Rideshare_Dist",
          "value": 0.039690798356222225,
          "x": 32.92292292292292
         },
         {
          "parameter": "Rideshare_Dist",
          "value": 0.040590088254519874,
          "x": 33.08308308308308
         },
         {
          "parameter": "Rideshare_Dist",
          "value": 0.04147892686425009,
          "x": 33.24324324324324
         },
         {
          "parameter": "Rideshare_Dist",
          "value": 0.042355763208010905,
          "x": 33.4034034034034
         },
         {
          "parameter": "Rideshare_Dist",
          "value": 0.04321904435376633,
          "x": 33.56356356356356
         },
         {
          "parameter": "Rideshare_Dist",
          "value": 0.044067220402369364,
          "x": 33.72372372372372
         },
         {
          "parameter": "Rideshare_Dist",
          "value": 0.044898749559470395,
          "x": 33.88388388388388
         },
         {
          "parameter": "Rideshare_Dist",
          "value": 0.04571210326751555,
          "x": 34.04404404404404
         },
         {
          "parameter": "Rideshare_Dist",
          "value": 0.04650577137267814,
          "x": 34.2042042042042
         },
         {
          "parameter": "Rideshare_Dist",
          "value": 0.047278267300865456,
          "x": 34.36436436436436
         },
         {
          "parameter": "Rideshare_Dist",
          "value": 0.04802813321641192,
          "x": 34.52452452452452
         },
         {
          "parameter": "Rideshare_Dist",
          "value": 0.048753945136717824,
          "x": 34.68468468468468
         },
         {
          "parameter": "Rideshare_Dist",
          "value": 0.049454317975923145,
          "x": 34.84484484484484
         },
         {
          "parameter": "Rideshare_Dist",
          "value": 0.050127910490728664,
          "x": 35.005005005005
         },
         {
          "parameter": "Rideshare_Dist",
          "value": 0.05077343010168831,
          "x": 35.16516516516516
         },
         {
          "parameter": "Rideshare_Dist",
          "value": 0.05138963756370533,
          "x": 35.32532532532532
         },
         {
          "parameter": "Rideshare_Dist",
          "value": 0.05197535146006455,
          "x": 35.48548548548548
         },
         {
          "parameter": "Rideshare_Dist",
          "value": 0.05252945249512592,
          "x": 35.645645645645644
         },
         {
          "parameter": "Rideshare_Dist",
          "value": 0.0530508875617842,
          "x": 35.805805805805804
         },
         {
          "parameter": "Rideshare_Dist",
          "value": 0.05353867356096086,
          "x": 35.965965965965964
         },
         {
          "parameter": "Rideshare_Dist",
          "value": 0.053991900951731245,
          "x": 36.126126126126124
         },
         {
          "parameter": "Rideshare_Dist",
          "value": 0.054409737012190484,
          "x": 36.286286286286284
         },
         {
          "parameter": "Rideshare_Dist",
          "value": 0.05479142879281844,
          "x": 36.446446446446444
         },
         {
          "parameter": "Rideshare_Dist",
          "value": 0.055136305745901344,
          "x": 36.606606606606604
         },
         {
          "parameter": "Rideshare_Dist",
          "value": 0.05544378201649541,
          "x": 36.766766766766764
         },
         {
          "parameter": "Rideshare_Dist",
          "value": 0.055713358382457036,
          "x": 36.926926926926924
         },
         {
          "parameter": "Rideshare_Dist",
          "value": 0.05594462383320211,
          "x": 37.087087087087085
         },
         {
          "parameter": "Rideshare_Dist",
          "value": 0.05613725677907493,
          "x": 37.247247247247245
         },
         {
          "parameter": "Rideshare_Dist",
          "value": 0.056291025885486394,
          "x": 37.407407407407405
         },
         {
          "parameter": "Rideshare_Dist",
          "value": 0.056405790528304994,
          "x": 37.567567567567565
         },
         {
          "parameter": "Rideshare_Dist",
          "value": 0.05648150086933164,
          "x": 37.727727727727725
         },
         {
          "parameter": "Rideshare_Dist",
          "value": 0.05651819755304228,
          "x": 37.887887887887885
         },
         {
          "parameter": "Rideshare_Dist",
          "value": 0.056516011028120684,
          "x": 38.048048048048045
         },
         {
          "parameter": "Rideshare_Dist",
          "value": 0.056475160499608636,
          "x": 38.208208208208205
         },
         {
          "parameter": "Rideshare_Dist",
          "value": 0.05639595251975299,
          "x": 38.368368368368365
         },
         {
          "parameter": "Rideshare_Dist",
          "value": 0.056278779227810556,
          "x": 38.528528528528525
         },
         {
          "parameter": "Rideshare_Dist",
          "value": 0.056124116251164334,
          "x": 38.688688688688686
         },
         {
          "parameter": "Rideshare_Dist",
          "value": 0.055932520282091586,
          "x": 38.848848848848846
         },
         {
          "parameter": "Rideshare_Dist",
          "value": 0.05570462634639121,
          "x": 39.009009009009006
         },
         {
          "parameter": "Rideshare_Dist",
          "value": 0.05544114478180751,
          "x": 39.169169169169166
         },
         {
          "parameter": "Rideshare_Dist",
          "value": 0.0551428579457701,
          "x": 39.329329329329326
         },
         {
          "parameter": "Rideshare_Dist",
          "value": 0.05481061667339067,
          "x": 39.489489489489486
         },
         {
          "parameter": "Rideshare_Dist",
          "value": 0.05444533650790945,
          "x": 39.649649649649646
         },
         {
          "parameter": "Rideshare_Dist",
          "value": 0.05404799372685634,
          "x": 39.809809809809806
         },
         {
          "parameter": "Rideshare_Dist",
          "value": 0.053619621188079614,
          "x": 39.969969969969966
         },
         {
          "parameter": "Rideshare_Dist",
          "value": 0.05316130402049329,
          "x": 40.13013013013013
         },
         {
          "parameter": "Rideshare_Dist",
          "value": 0.052674175184899065,
          "x": 40.29029029029029
         },
         {
          "parameter": "Rideshare_Dist",
          "value": 0.05215941093055063,
          "x": 40.45045045045045
         },
         {
          "parameter": "Rideshare_Dist",
          "value": 0.051618226173246226,
          "x": 40.61061061061061
         },
         {
          "parameter": "Rideshare_Dist",
          "value": 0.051051869820664474,
          "x": 40.77077077077077
         },
         {
          "parameter": "Rideshare_Dist",
          "value": 0.05046162007039951,
          "x": 40.93093093093093
         },
         {
          "parameter": "Rideshare_Dist",
          "value": 0.04984877970571505,
          "x": 41.09109109109109
         },
         {
          "parameter": "Rideshare_Dist",
          "value": 0.04921467141342563,
          "x": 41.25125125125125
         },
         {
          "parameter": "Rideshare_Dist",
          "value": 0.04856063314754052,
          "x": 41.411411411411414
         },
         {
          "parameter": "Rideshare_Dist",
          "value": 0.04788801356137831,
          "x": 41.571571571571575
         },
         {
          "parameter": "Rideshare_Dist",
          "value": 0.04719816752979201,
          "x": 41.731731731731735
         },
         {
          "parameter": "Rideshare_Dist",
          "value": 0.04649245178194814,
          "x": 41.891891891891895
         },
         {
          "parameter": "Rideshare_Dist",
          "value": 0.04577222066378912,
          "x": 42.052052052052055
         },
         {
          "parameter": "Rideshare_Dist",
          "value": 0.04503882204789579,
          "x": 42.212212212212215
         },
         {
          "parameter": "Rideshare_Dist",
          "value": 0.04429359340696523,
          "x": 42.372372372372375
         },
         {
          "parameter": "Rideshare_Dist",
          "value": 0.04353785806554921,
          "x": 42.532532532532535
         },
         {
          "parameter": "Rideshare_Dist",
          "value": 0.04277292164307011,
          "x": 42.692692692692695
         },
         {
          "parameter": "Rideshare_Dist",
          "value": 0.04200006869946324,
          "x": 42.852852852852855
         },
         {
          "parameter": "Rideshare_Dist",
          "value": 0.0412205595931041,
          "x": 43.013013013013015
         },
         {
          "parameter": "Rideshare_Dist",
          "value": 0.04043562755897405,
          "x": 43.173173173173176
         },
         {
          "parameter": "Rideshare_Dist",
          "value": 0.03964647601332296,
          "x": 43.333333333333336
         },
         {
          "parameter": "Rideshare_Dist",
          "value": 0.038854276089406815,
          "x": 43.493493493493496
         },
         {
          "parameter": "Rideshare_Dist",
          "value": 0.038060164407234705,
          "x": 43.653653653653656
         },
         {
          "parameter": "Rideshare_Dist",
          "value": 0.03726524107865678,
          "x": 43.813813813813816
         },
         {
          "parameter": "Rideshare_Dist",
          "value": 0.03647056794758295,
          "x": 43.973973973973976
         },
         {
          "parameter": "Rideshare_Dist",
          "value": 0.035677167063643885,
          "x": 44.134134134134136
         },
         {
          "parameter": "Rideshare_Dist",
          "value": 0.03488601938620979,
          "x": 44.294294294294296
         },
         {
          "parameter": "Rideshare_Dist",
          "value": 0.03409806371436747,
          "x": 44.454454454454456
         },
         {
          "parameter": "Rideshare_Dist",
          "value": 0.033314195837237694,
          "x": 44.61461461461462
         },
         {
          "parameter": "Rideshare_Dist",
          "value": 0.032535267897895376,
          "x": 44.77477477477478
         },
         {
          "parameter": "Rideshare_Dist",
          "value": 0.0317620879631388,
          "x": 44.93493493493494
         },
         {
          "parameter": "Rideshare_Dist",
          "value": 0.030995419790447527,
          "x": 45.0950950950951
         },
         {
          "parameter": "Rideshare_Dist",
          "value": 0.03023598278267126,
          "x": 45.25525525525526
         },
         {
          "parameter": "Rideshare_Dist",
          "value": 0.029484452120308674,
          "x": 45.41541541541542
         },
         {
          "parameter": "Rideshare_Dist",
          "value": 0.028741459060661632,
          "x": 45.57557557557558
         },
         {
          "parameter": "Rideshare_Dist",
          "value": 0.028007591392690503,
          "x": 45.73573573573574
         },
         {
          "parameter": "Rideshare_Dist",
          "value": 0.02728339403604372,
          "x": 45.8958958958959
         },
         {
          "parameter": "Rideshare_Dist",
          "value": 0.02656936977249128,
          "x": 46.05605605605606
         },
         {
          "parameter": "Rideshare_Dist",
          "value": 0.025865980097849225,
          "x": 46.21621621621622
         },
         {
          "parameter": "Rideshare_Dist",
          "value": 0.025173646182437972,
          "x": 46.37637637637638
         },
         {
          "parameter": "Rideshare_Dist",
          "value": 0.02449274992816867,
          "x": 46.53653653653654
         },
         {
          "parameter": "Rideshare_Dist",
          "value": 0.02382363511048671,
          "x": 46.6966966966967
         },
         {
          "parameter": "Rideshare_Dist",
          "value": 0.023166608593620446,
          "x": 46.85685685685686
         },
         {
          "parameter": "Rideshare_Dist",
          "value": 0.02252194160787412,
          "x": 47.01701701701702
         },
         {
          "parameter": "Rideshare_Dist",
          "value": 0.021889871078063797,
          "x": 47.17717717717718
         },
         {
          "parameter": "Rideshare_Dist",
          "value": 0.02127060099261296,
          "x": 47.33733733733734
         },
         {
          "parameter": "Rideshare_Dist",
          "value": 0.020664303803294978,
          "x": 47.4974974974975
         },
         {
          "parameter": "Rideshare_Dist",
          "value": 0.02007112184612637,
          "x": 47.65765765765766
         },
         {
          "parameter": "Rideshare_Dist",
          "value": 0.01949116877446618,
          "x": 47.81781781781782
         },
         {
          "parameter": "Rideshare_Dist",
          "value": 0.01892453099596072,
          "x": 47.97797797797798
         },
         {
          "parameter": "Rideshare_Dist",
          "value": 0.018371269105577133,
          "x": 48.13813813813814
         },
         {
          "parameter": "Rideshare_Dist",
          "value": 0.017831419307592095,
          "x": 48.2982982982983
         },
         {
          "parameter": "Rideshare_Dist",
          "value": 0.017304994820031,
          "x": 48.45845845845846
         },
         {
          "parameter": "Rideshare_Dist",
          "value": 0.01679198725568777,
          "x": 48.61861861861862
         },
         {
          "parameter": "Rideshare_Dist",
          "value": 0.01629236797448493,
          "x": 48.77877877877878
         },
         {
          "parameter": "Rideshare_Dist",
          "value": 0.01580608940255744,
          "x": 48.93893893893894
         },
         {
          "parameter": "Rideshare_Dist",
          "value": 0.015333086314052028,
          "x": 49.0990990990991
         },
         {
          "parameter": "Rideshare_Dist",
          "value": 0.014873277072225733,
          "x": 49.25925925925926
         },
         {
          "parameter": "Rideshare_Dist",
          "value": 0.01442656482699817,
          "x": 49.41941941941942
         },
         {
          "parameter": "Rideshare_Dist",
          "value": 0.013992838666656638,
          "x": 49.57957957957958
         },
         {
          "parameter": "Rideshare_Dist",
          "value": 0.013571974721931198,
          "x": 49.73973973973974
         },
         {
          "parameter": "Rideshare_Dist",
          "value": 0.013163837221143407,
          "x": 49.8998998998999
         },
         {
          "parameter": "Rideshare_Dist",
          "value": 0.012768279495588477,
          "x": 50.06006006006006
         },
         {
          "parameter": "Rideshare_Dist",
          "value": 0.012385144934731099,
          "x": 50.22022022022022
         },
         {
          "parameter": "Rideshare_Dist",
          "value": 0.012014267891182826,
          "x": 50.38038038038038
         },
         {
          "parameter": "Rideshare_Dist",
          "value": 0.011655474535780079,
          "x": 50.54054054054054
         },
         {
          "parameter": "Rideshare_Dist",
          "value": 0.011308583663399142,
          "x": 50.7007007007007
         },
         {
          "parameter": "Rideshare_Dist",
          "value": 0.010973407450425344,
          "x": 50.86086086086086
         },
         {
          "parameter": "Rideshare_Dist",
          "value": 0.01064975216504068,
          "x": 51.02102102102102
         },
         {
          "parameter": "Rideshare_Dist",
          "value": 0.01033741883170812,
          "x": 51.18118118118118
         },
         {
          "parameter": "Rideshare_Dist",
          "value": 0.010036203851410895,
          "x": 51.34134134134134
         },
         {
          "parameter": "Rideshare_Dist",
          "value": 0.00974589957935545,
          "x": 51.5015015015015
         },
         {
          "parameter": "Rideshare_Dist",
          "value": 0.009466294861966446,
          "x": 51.66166166166166
         },
         {
          "parameter": "Rideshare_Dist",
          "value": 0.009197175535095114,
          "x": 51.82182182182182
         },
         {
          "parameter": "Rideshare_Dist",
          "value": 0.008938324885427985,
          "x": 51.98198198198198
         },
         {
          "parameter": "Rideshare_Dist",
          "value": 0.008689524077125978,
          "x": 52.14214214214214
         },
         {
          "parameter": "Rideshare_Dist",
          "value": 0.008450552545743428,
          "x": 52.3023023023023
         },
         {
          "parameter": "Rideshare_Dist",
          "value": 0.008221188361477802,
          "x": 52.46246246246246
         },
         {
          "parameter": "Rideshare_Dist",
          "value": 0.00800120856378265,
          "x": 52.62262262262262
         },
         {
          "parameter": "Rideshare_Dist",
          "value": 0.007790389469343117,
          "x": 52.78278278278278
         },
         {
          "parameter": "Rideshare_Dist",
          "value": 0.007588506955366388,
          "x": 52.94294294294294
         },
         {
          "parameter": "Rideshare_Dist",
          "value": 0.007395336720079938,
          "x": 53.1031031031031
         },
         {
          "parameter": "Rideshare_Dist",
          "value": 0.007210654522261735,
          "x": 53.26326326326326
         },
         {
          "parameter": "Rideshare_Dist",
          "value": 0.007034236401548919,
          "x": 53.42342342342342
         },
         {
          "parameter": "Rideshare_Dist",
          "value": 0.006865858881188253,
          "x": 53.58358358358358
         },
         {
          "parameter": "Rideshare_Dist",
          "value": 0.006705299154802508,
          "x": 53.74374374374374
         },
         {
          "parameter": "Rideshare_Dist",
          "value": 0.006552335258655349,
          "x": 53.9039039039039
         },
         {
          "parameter": "Rideshare_Dist",
          "value": 0.00640674623080289,
          "x": 54.06406406406407
         },
         {
          "parameter": "Rideshare_Dist",
          "value": 0.006268312258425621,
          "x": 54.22422422422423
         },
         {
          "parameter": "Rideshare_Dist",
          "value": 0.006136814814539335,
          "x": 54.38438438438439
         },
         {
          "parameter": "Rideshare_Dist",
          "value": 0.006012036785190893,
          "x": 54.54454454454455
         },
         {
          "parameter": "Rideshare_Dist",
          "value": 0.005893762588153014,
          "x": 54.70470470470471
         },
         {
          "parameter": "Rideshare_Dist",
          "value": 0.0057817782840443345,
          "x": 54.86486486486487
         },
         {
          "parameter": "Rideshare_Dist",
          "value": 0.005675871680715859,
          "x": 55.02502502502503
         },
         {
          "parameter": "Rideshare_Dist",
          "value": 0.005575832431664207,
          "x": 55.18518518518519
         },
         {
          "parameter": "Rideshare_Dist",
          "value": 0.0054814521291554116,
          "x": 55.34534534534535
         },
         {
          "parameter": "Rideshare_Dist",
          "value": 0.005392524392671333,
          "x": 55.50550550550551
         },
         {
          "parameter": "Rideshare_Dist",
          "value": 0.005308844953223607,
          "x": 55.66566566566567
         },
         {
          "parameter": "Rideshare_Dist",
          "value": 0.005230211734018132,
          "x": 55.82582582582583
         },
         {
          "parameter": "Rideshare_Dist",
          "value": 0.005156424927895979,
          "x": 55.98598598598599
         },
         {
          "parameter": "Rideshare_Dist",
          "value": 0.0050872870719247286,
          "x": 56.14614614614615
         },
         {
          "parameter": "Rideshare_Dist",
          "value": 0.00502260311946689,
          "x": 56.30630630630631
         },
         {
          "parameter": "Rideshare_Dist",
          "value": 0.004962180510009706,
          "x": 56.46646646646647
         },
         {
          "parameter": "Rideshare_Dist",
          "value": 0.00490582923700266,
          "x": 56.62662662662663
         },
         {
          "parameter": "Rideshare_Dist",
          "value": 0.004853361913915292,
          "x": 56.78678678678679
         },
         {
          "parameter": "Rideshare_Dist",
          "value": 0.004804593838698248,
          "x": 56.94694694694695
         },
         {
          "parameter": "Rideshare_Dist",
          "value": 0.0047593430568043295,
          "x": 57.10710710710711
         },
         {
          "parameter": "Rideshare_Dist",
          "value": 0.0047174304229037475,
          "x": 57.26726726726727
         },
         {
          "parameter": "Rideshare_Dist",
          "value": 0.004678679661407925,
          "x": 57.42742742742743
         },
         {
          "parameter": "Rideshare_Dist",
          "value": 0.004642917425899147,
          "x": 57.58758758758759
         },
         {
          "parameter": "Rideshare_Dist",
          "value": 0.004609973357548527,
          "x": 57.74774774774775
         },
         {
          "parameter": "Rideshare_Dist",
          "value": 0.00457968014259192,
          "x": 57.90790790790791
         },
         {
          "parameter": "Rideshare_Dist",
          "value": 0.004551873568922005,
          "x": 58.06806806806807
         },
         {
          "parameter": "Rideshare_Dist",
          "value": 0.004526392581844701,
          "x": 58.22822822822823
         },
         {
          "parameter": "Rideshare_Dist",
          "value": 0.004503079339038926,
          "x": 58.38838838838839
         },
         {
          "parameter": "Rideshare_Dist",
          "value": 0.004481779264750039,
          "x": 58.54854854854855
         },
         {
          "parameter": "Rideshare_Dist",
          "value": 0.004462341103239077,
          "x": 58.70870870870871
         },
         {
          "parameter": "Rideshare_Dist",
          "value": 0.004444616971501622,
          "x": 58.86886886886887
         },
         {
          "parameter": "Rideshare_Dist",
          "value": 0.004428462411261741,
          "x": 59.02902902902903
         },
         {
          "parameter": "Rideshare_Dist",
          "value": 0.004413736440237586,
          "x": 59.18918918918919
         },
         {
          "parameter": "Rideshare_Dist",
          "value": 0.004400301602665888,
          "x": 59.34934934934935
         },
         {
          "parameter": "Rideshare_Dist",
          "value": 0.004388024019062448,
          "x": 59.50950950950951
         },
         {
          "parameter": "Rideshare_Dist",
          "value": 0.004376773435184857,
          "x": 59.66966966966967
         },
         {
          "parameter": "Rideshare_Dist",
          "value": 0.00436642327015187,
          "x": 59.82982982982983
         },
         {
          "parameter": "Rideshare_Dist",
          "value": 0.004356850663661077,
          "x": 59.98998998998999
         },
         {
          "parameter": "Rideshare_Dist",
          "value": 0.00434793652223296,
          "x": 60.150150150150154
         },
         {
          "parameter": "Rideshare_Dist",
          "value": 0.004339565564394777,
          "x": 60.310310310310314
         },
         {
          "parameter": "Rideshare_Dist",
          "value": 0.004331626364702397,
          "x": 60.470470470470474
         },
         {
          "parameter": "Rideshare_Dist",
          "value": 0.004324011396482036,
          "x": 60.630630630630634
         },
         {
          "parameter": "Rideshare_Dist",
          "value": 0.00431661707315719,
          "x": 60.790790790790794
         },
         {
          "parameter": "Rideshare_Dist",
          "value": 0.004309343788008822,
          "x": 60.950950950950954
         },
         {
          "parameter": "Rideshare_Dist",
          "value": 0.004302095952199493,
          "x": 61.111111111111114
         },
         {
          "parameter": "Rideshare_Dist",
          "value": 0.004294782030874638,
          "x": 61.271271271271274
         },
         {
          "parameter": "Rideshare_Dist",
          "value": 0.004287314577136881,
          "x": 61.431431431431434
         },
         {
          "parameter": "Rideshare_Dist",
          "value": 0.0042796102636724394,
          "x": 61.591591591591595
         },
         {
          "parameter": "Rideshare_Dist",
          "value": 0.004271589911792497,
          "x": 61.751751751751755
         },
         {
          "parameter": "Rideshare_Dist",
          "value": 0.004263178517637216,
          "x": 61.911911911911915
         },
         {
          "parameter": "Rideshare_Dist",
          "value": 0.004254305275276102,
          "x": 62.072072072072075
         },
         {
          "parameter": "Rideshare_Dist",
          "value": 0.0042449035964259975,
          "x": 62.232232232232235
         },
         {
          "parameter": "Rideshare_Dist",
          "value": 0.004234911126497312,
          "x": 62.392392392392395
         },
         {
          "parameter": "Rideshare_Dist",
          "value": 0.004224269756670579,
          "x": 62.552552552552555
         },
         {
          "parameter": "Rideshare_Dist",
          "value": 0.004212925631699106,
          "x": 62.712712712712715
         },
         {
          "parameter": "Rideshare_Dist",
          "value": 0.0042008291531298635,
          "x": 62.872872872872875
         },
         {
          "parameter": "Rideshare_Dist",
          "value": 0.0041879349776337855,
          "x": 63.033033033033036
         },
         {
          "parameter": "Rideshare_Dist",
          "value": 0.004174202010138794,
          "x": 63.193193193193196
         },
         {
          "parameter": "Rideshare_Dist",
          "value": 0.004159593391464037,
          "x": 63.353353353353356
         },
         {
          "parameter": "Rideshare_Dist",
          "value": 0.0041440764801622875,
          "x": 63.513513513513516
         },
         {
          "parameter": "Rideshare_Dist",
          "value": 0.004127622828289406,
          "x": 63.673673673673676
         },
         {
          "parameter": "Rideshare_Dist",
          "value": 0.00411020815083495,
          "x": 63.833833833833836
         },
         {
          "parameter": "Rideshare_Dist",
          "value": 0.004091812288566857,
          "x": 63.993993993993996
         },
         {
          "parameter": "Rideshare_Dist",
          "value": 0.004072419164065225,
          "x": 64.15415415415416
         },
         {
          "parameter": "Rideshare_Dist",
          "value": 0.004052016730745785,
          "x": 64.31431431431432
         },
         {
          "parameter": "Rideshare_Dist",
          "value": 0.004030596914702418,
          "x": 64.47447447447448
         },
         {
          "parameter": "Rideshare_Dist",
          "value": 0.004008155549229936,
          "x": 64.63463463463464
         },
         {
          "parameter": "Rideshare_Dist",
          "value": 0.0039846923019230965,
          "x": 64.7947947947948
         },
         {
          "parameter": "Rideshare_Dist",
          "value": 0.0039602105942852395,
          "x": 64.95495495495496
         },
         {
          "parameter": "Rideshare_Dist",
          "value": 0.00393471751381972,
          "x": 65.11511511511512
         },
         {
          "parameter": "Rideshare_Dist",
          "value": 0.003908223718619074,
          "x": 65.27527527527528
         },
         {
          "parameter": "Rideshare_Dist",
          "value": 0.0038807433345104717,
          "x": 65.43543543543544
         },
         {
          "parameter": "Rideshare_Dist",
          "value": 0.0038522938448607743,
          "x": 65.5955955955956
         },
         {
          "parameter": "Rideshare_Dist",
          "value": 0.0038228959731902903,
          "x": 65.75575575575576
         },
         {
          "parameter": "Rideshare_Dist",
          "value": 0.003792573558790497,
          "x": 65.91591591591592
         },
         {
          "parameter": "Rideshare_Dist",
          "value": 0.0037613534255873083,
          "x": 66.07607607607608
         },
         {
          "parameter": "Rideshare_Dist",
          "value": 0.0037292652445371994,
          "x": 66.23623623623624
         },
         {
          "parameter": "Rideshare_Dist",
          "value": 0.0036963413898884216,
          "x": 66.3963963963964
         },
         {
          "parameter": "Rideshare_Dist",
          "value": 0.0036626167896831483,
          "x": 66.55655655655656
         },
         {
          "parameter": "Rideshare_Dist",
          "value": 0.0036281287709180286,
          "x": 66.71671671671672
         },
         {
          "parameter": "Rideshare_Dist",
          "value": 0.0035929168998201618,
          "x": 66.87687687687688
         },
         {
          "parameter": "Rideshare_Dist",
          "value": 0.0035570228177322625,
          "x": 67.03703703703704
         },
         {
          "parameter": "Rideshare_Dist",
          "value": 0.0035204900731344324,
          "x": 67.1971971971972
         },
         {
          "parameter": "Rideshare_Dist",
          "value": 0.003483363950360254,
          "x": 67.35735735735736
         },
         {
          "parameter": "Rideshare_Dist",
          "value": 0.0034456912955912683,
          "x": 67.51751751751752
         },
         {
          "parameter": "Rideshare_Dist",
          "value": 0.0034075203407361965,
          "x": 67.67767767767768
         },
         {
          "parameter": "Rideshare_Dist",
          "value": 0.0033689005258192937,
          "x": 67.83783783783784
         },
         {
          "parameter": "Rideshare_Dist",
          "value": 0.0033298823205155192,
          "x": 67.997997997998
         },
         {
          "parameter": "Rideshare_Dist",
          "value": 0.0032905170454788453,
          "x": 68.15815815815816
         },
         {
          "parameter": "Rideshare_Dist",
          "value": 0.003250856694113881,
          "x": 68.31831831831832
         },
         {
          "parameter": "Rideshare_Dist",
          "value": 0.003210953755439809,
          "x": 68.47847847847848
         },
         {
          "parameter": "Rideshare_Dist",
          "value": 0.0031708610386896765,
          "x": 68.63863863863864
         },
         {
          "parameter": "Rideshare_Dist",
          "value": 0.003130631500277169,
          "x": 68.7987987987988
         },
         {
          "parameter": "Rideshare_Dist",
          "value": 0.00309031807374746,
          "x": 68.95895895895896
         },
         {
          "parameter": "Rideshare_Dist",
          "value": 0.0030499735033084952,
          "x": 69.11911911911912
         },
         {
          "parameter": "Rideshare_Dist",
          "value": 0.0030096501815145456,
          "x": 69.27927927927928
         },
         {
          "parameter": "Rideshare_Dist",
          "value": 0.002969399991645166,
          "x": 69.43943943943944
         },
         {
          "parameter": "Rideshare_Dist",
          "value": 0.0029292741552902806,
          "x": 69.5995995995996
         },
         {
          "parameter": "Rideshare_Dist",
          "value": 0.0028893230856161193,
          "x": 69.75975975975976
         },
         {
          "parameter": "Rideshare_Dist",
          "value": 0.002849596246747734,
          "x": 69.91991991991992
         },
         {
          "parameter": "Rideshare_Dist",
          "value": 0.0028101420196621485,
          "x": 70.08008008008008
         },
         {
          "parameter": "Rideshare_Dist",
          "value": 0.002771007574942246,
          "x": 70.24024024024024
         },
         {
          "parameter": "Rideshare_Dist",
          "value": 0.002732238752695844,
          "x": 70.4004004004004
         },
         {
          "parameter": "Rideshare_Dist",
          "value": 0.002693879949897362,
          "x": 70.56056056056056
         },
         {
          "parameter": "Rideshare_Dist",
          "value": 0.0026559740153617624,
          "x": 70.72072072072072
         },
         {
          "parameter": "Rideshare_Dist",
          "value": 0.0026185621525122724,
          "x": 70.88088088088088
         },
         {
          "parameter": "Rideshare_Dist",
          "value": 0.00258168383005544,
          "x": 71.04104104104104
         },
         {
          "parameter": "Rideshare_Dist",
          "value": 0.0025453767006297363,
          "x": 71.2012012012012
         },
         {
          "parameter": "Rideshare_Dist",
          "value": 0.0025096765274477168,
          "x": 71.36136136136136
         },
         {
          "parameter": "Rideshare_Dist",
          "value": 0.002474617118906999,
          "x": 71.52152152152152
         },
         {
          "parameter": "Rideshare_Dist",
          "value": 0.0024402302711025604,
          "x": 71.68168168168168
         },
         {
          "parameter": "Rideshare_Dist",
          "value": 0.0024065457181324432,
          "x": 71.84184184184184
         },
         {
          "parameter": "Rideshare_Dist",
          "value": 0.0023735910900511852,
          "x": 72.002002002002
         },
         {
          "parameter": "Rideshare_Dist",
          "value": 0.0023413918782905037,
          "x": 72.16216216216216
         },
         {
          "parameter": "Rideshare_Dist",
          "value": 0.0023099714083352424,
          "x": 72.32232232232232
         },
         {
          "parameter": "Rideshare_Dist",
          "value": 0.00227935081941458,
          "x": 72.48248248248248
         },
         {
          "parameter": "Rideshare_Dist",
          "value": 0.002249549050944043,
          "x": 72.64264264264264
         },
         {
          "parameter": "Rideshare_Dist",
          "value": 0.0022205828354333237,
          "x": 72.8028028028028
         },
         {
          "parameter": "Rideshare_Dist",
          "value": 0.002192466697558073,
          "x": 72.96296296296296
         },
         {
          "parameter": "Rideshare_Dist",
          "value": 0.0021652129590810803,
          "x": 73.12312312312312
         },
         {
          "parameter": "Rideshare_Dist",
          "value": 0.002138831749299167,
          "x": 73.28328328328328
         },
         {
          "parameter": "Rideshare_Dist",
          "value": 0.002113331020687014,
          "x": 73.44344344344344
         },
         {
          "parameter": "Rideshare_Dist",
          "value": 0.0020887165694076486,
          "x": 73.6036036036036
         },
         {
          "parameter": "Rideshare_Dist",
          "value": 0.002064992060361386,
          "x": 73.76376376376376
         },
         {
          "parameter": "Rideshare_Dist",
          "value": 0.0020421590564504454,
          "x": 73.92392392392392
         },
         {
          "parameter": "Rideshare_Dist",
          "value": 0.0020202170517450027,
          "x": 74.08408408408408
         },
         {
          "parameter": "Rideshare_Dist",
          "value": 0.0019991635082478657,
          "x": 74.24424424424424
         },
         {
          "parameter": "Rideshare_Dist",
          "value": 0.001978993895968874,
          "x": 74.4044044044044
         },
         {
          "parameter": "Rideshare_Dist",
          "value": 0.0019597017360363914,
          "x": 74.56456456456456
         },
         {
          "parameter": "Rideshare_Dist",
          "value": 0.0019412786465913107,
          "x": 74.72472472472472
         },
         {
          "parameter": "Rideshare_Dist",
          "value": 0.0019237143912286868,
          "x": 74.88488488488488
         },
         {
          "parameter": "Rideshare_Dist",
          "value": 0.0019069969297729507,
          "x": 75.04504504504504
         },
         {
          "parameter": "Rideshare_Dist",
          "value": 0.001891112471194268,
          "x": 75.2052052052052
         },
         {
          "parameter": "Rideshare_Dist",
          "value": 0.0018760455284957563,
          "x": 75.36536536536536
         },
         {
          "parameter": "Rideshare_Dist",
          "value": 0.001861778975423372,
          "x": 75.52552552552552
         },
         {
          "parameter": "Rideshare_Dist",
          "value": 0.0018482941048721746,
          "x": 75.68568568568568
         },
         {
          "parameter": "Rideshare_Dist",
          "value": 0.0018355706888838778,
          "x": 75.84584584584584
         },
         {
          "parameter": "Rideshare_Dist",
          "value": 0.0018235870401508826,
          "x": 76.006006006006
         },
         {
          "parameter": "Rideshare_Dist",
          "value": 0.0018123200749609178,
          "x": 76.16616616616616
         },
         {
          "parameter": "Rideshare_Dist",
          "value": 0.0018017453775338726,
          "x": 76.32632632632632
         },
         {
          "parameter": "Rideshare_Dist",
          "value": 0.0017918372657179623,
          "x": 76.48648648648648
         },
         {
          "parameter": "Rideshare_Dist",
          "value": 0.0017825688580259487,
          "x": 76.64664664664664
         },
         {
          "parameter": "Rideshare_Dist",
          "value": 0.0017739121420034414,
          "x": 76.8068068068068
         },
         {
          "parameter": "Rideshare_Dist",
          "value": 0.001765838043930221,
          "x": 76.96696696696696
         },
         {
          "parameter": "Rideshare_Dist",
          "value": 0.0017583164998619654,
          "x": 77.12712712712712
         },
         {
          "parameter": "Rideshare_Dist",
          "value": 0.0017513165280235502,
          "x": 77.28728728728728
         },
         {
          "parameter": "Rideshare_Dist",
          "value": 0.0017448063025662923,
          "x": 77.44744744744744
         },
         {
          "parameter": "Rideshare_Dist",
          "value": 0.0017387532287000305,
          "x": 77.6076076076076
         },
         {
          "parameter": "Rideshare_Dist",
          "value": 0.001733124019206859,
          "x": 77.76776776776777
         },
         {
          "parameter": "Rideshare_Dist",
          "value": 0.001727884772336696,
          "x": 77.92792792792793
         },
         {
          "parameter": "Rideshare_Dist",
          "value": 0.0017230010510758031,
          "x": 78.08808808808809
         },
         {
          "parameter": "Rideshare_Dist",
          "value": 0.0017184379637679764,
          "x": 78.24824824824825
         },
         {
          "parameter": "Rideshare_Dist",
          "value": 0.0017141602460546198,
          "x": 78.4084084084084
         },
         {
          "parameter": "Rideshare_Dist",
          "value": 0.001710132344084425,
          "x": 78.56856856856857
         },
         {
          "parameter": "Rideshare_Dist",
          "value": 0.001706318498926215,
          "x": 78.72872872872873
         },
         {
          "parameter": "Rideshare_Dist",
          "value": 0.00170268283209981,
          "x": 78.88888888888889
         },
         {
          "parameter": "Rideshare_Dist",
          "value": 0.0016991894321199254,
          "x": 79.04904904904905
         },
         {
          "parameter": "Rideshare_Dist",
          "value": 0.0016958024419272883,
          "x": 79.2092092092092
         },
         {
          "parameter": "Rideshare_Dist",
          "value": 0.0016924861470597144,
          "x": 79.36936936936937
         },
         {
          "parameter": "Rideshare_Dist",
          "value": 0.0016892050643941231,
          "x": 79.52952952952953
         },
         {
          "parameter": "Rideshare_Dist",
          "value": 0.0016859240312686753,
          "x": 79.68968968968969
         },
         {
          "parameter": "Rideshare_Dist",
          "value": 0.0016826082947726958,
          "x": 79.84984984984985
         },
         {
          "parameter": "Rideshare_Dist",
          "value": 0.0016792236009711588,
          "x": 80.01001001001
         },
         {
          "parameter": "Rideshare_Dist",
          "value": 0.0016757362838104774,
          "x": 80.17017017017017
         },
         {
          "parameter": "Rideshare_Dist",
          "value": 0.0016721133534335492,
          "x": 80.33033033033033
         },
         {
          "parameter": "Rideshare_Dist",
          "value": 0.0016683225836146482,
          "x": 80.49049049049049
         },
         {
          "parameter": "Rideshare_Dist",
          "value": 0.0016643325980091512,
          "x": 80.65065065065065
         },
         {
          "parameter": "Rideshare_Dist",
          "value": 0.0016601129548994846,
          "x": 80.8108108108108
         },
         {
          "parameter": "Rideshare_Dist",
          "value": 0.0016556342301072345,
          "x": 80.97097097097097
         },
         {
          "parameter": "Rideshare_Dist",
          "value": 0.0016508680977323864,
          "x": 81.13113113113113
         },
         {
          "parameter": "Rideshare_Dist",
          "value": 0.0016457874083742347,
          "x": 81.29129129129129
         },
         {
          "parameter": "Rideshare_Dist",
          "value": 0.001640366264484797,
          "x": 81.45145145145145
         },
         {
          "parameter": "Rideshare_Dist",
          "value": 0.0016345800925047361,
          "x": 81.61161161161161
         },
         {
          "parameter": "Rideshare_Dist",
          "value": 0.0016284057114338822,
          "x": 81.77177177177177
         },
         {
          "parameter": "Rideshare_Dist",
          "value": 0.001621821397493505,
          "x": 81.93193193193193
         },
         {
          "parameter": "Rideshare_Dist",
          "value": 0.0016148069445455807,
          "x": 82.09209209209209
         },
         {
          "parameter": "Rideshare_Dist",
          "value": 0.0016073437199453809,
          "x": 82.25225225225225
         },
         {
          "parameter": "Rideshare_Dist",
          "value": 0.0015994147155177483,
          "x": 82.41241241241241
         },
         {
          "parameter": "Rideshare_Dist",
          "value": 0.0015910045933643562,
          "x": 82.57257257257257
         },
         {
          "parameter": "Rideshare_Dist",
          "value": 0.0015820997262289743,
          "x": 82.73273273273273
         },
         {
          "parameter": "Rideshare_Dist",
          "value": 0.0015726882321701304,
          "x": 82.89289289289289
         },
         {
          "parameter": "Rideshare_Dist",
          "value": 0.0015627600033154205,
          "x": 83.05305305305305
         },
         {
          "parameter": "Rideshare_Dist",
          "value": 0.001552306728498922,
          "x": 83.21321321321321
         },
         {
          "parameter": "Rideshare_Dist",
          "value": 0.0015413219096124277,
          "x": 83.37337337337337
         },
         {
          "parameter": "Rideshare_Dist",
          "value": 0.0015298008715324191,
          "x": 83.53353353353353
         },
         {
          "parameter": "Rideshare_Dist",
          "value": 0.0015177407655174563,
          "x": 83.69369369369369
         },
         {
          "parameter": "Rideshare_Dist",
          "value": 0.0015051405660048392,
          "x": 83.85385385385385
         },
         {
          "parameter": "Rideshare_Dist",
          "value": 0.0014920010607706628,
          "x": 84.01401401401401
         },
         {
          "parameter": "Rideshare_Dist",
          "value": 0.0014783248344533997,
          "x": 84.17417417417417
         },
         {
          "parameter": "Rideshare_Dist",
          "value": 0.0014641162454777329,
          "x": 84.33433433433433
         },
         {
          "parameter": "Rideshare_Dist",
          "value": 0.001449381396452106,
          "x": 84.49449449449449
         },
         {
          "parameter": "Rideshare_Dist",
          "value": 0.0014341280981501148,
          "x": 84.65465465465465
         },
         {
          "parameter": "Rideshare_Dist",
          "value": 0.0014183658272221703,
          "x": 84.81481481481481
         },
         {
          "parameter": "Rideshare_Dist",
          "value": 0.0014021056778193563,
          "x": 84.97497497497497
         },
         {
          "parameter": "Rideshare_Dist",
          "value": 0.0013853603073461082,
          "x": 85.13513513513513
         },
         {
          "parameter": "Rideshare_Dist",
          "value": 0.001368143876591562,
          "x": 85.29529529529529
         },
         {
          "parameter": "Rideshare_Dist",
          "value": 0.001350471984521299,
          "x": 85.45545545545545
         },
         {
          "parameter": "Rideshare_Dist",
          "value": 0.0013323615980411993,
          "x": 85.61561561561561
         },
         {
          "parameter": "Rideshare_Dist",
          "value": 0.0013138309770731307,
          "x": 85.77577577577577
         },
         {
          "parameter": "Rideshare_Dist",
          "value": 0.0012948995953079967,
          "x": 85.93593593593593
         },
         {
          "parameter": "Rideshare_Dist",
          "value": 0.0012755880570249636,
          "x": 86.09609609609609
         },
         {
          "parameter": "Rideshare_Dist",
          "value": 0.0012559180103865232,
          "x": 86.25625625625625
         },
         {
          "parameter": "Rideshare_Dist",
          "value": 0.0012359120576369716,
          "x": 86.41641641641641
         },
         {
          "parameter": "Rideshare_Dist",
          "value": 0.001215593662647064,
          "x": 86.57657657657657
         },
         {
          "parameter": "Rideshare_Dist",
          "value": 0.0011949870562597666,
          "x": 86.73673673673673
         },
         {
          "parameter": "Rideshare_Dist",
          "value": 0.001174117139901137,
          "x": 86.89689689689689
         },
         {
          "parameter": "Rideshare_Dist",
          "value": 0.0011530093879264117,
          "x": 87.05705705705705
         },
         {
          "parameter": "Rideshare_Dist",
          "value": 0.0011316897491743315,
          "x": 87.21721721721721
         },
         {
          "parameter": "Rideshare_Dist",
          "value": 0.0011101845482025096,
          "x": 87.37737737737737
         },
         {
          "parameter": "Rideshare_Dist",
          "value": 0.001088520386673515,
          "x": 87.53753753753753
         },
         {
          "parameter": "Rideshare_Dist",
          "value": 0.0010667240453550136,
          "x": 87.69769769769769
         },
         {
          "parameter": "Rideshare_Dist",
          "value": 0.0010448223871882107,
          "x": 87.85785785785785
         },
         {
          "parameter": "Rideshare_Dist",
          "value": 0.0010228422618668363,
          "x": 88.01801801801801
         },
         {
          "parameter": "Rideshare_Dist",
          "value": 0.0010008104123542508,
          "x": 88.17817817817817
         },
         {
          "parameter": "Rideshare_Dist",
          "value": 0.0009787533837490481,
          "x": 88.33833833833833
         },
         {
          "parameter": "Rideshare_Dist",
          "value": 0.0009566974348898892,
          "x": 88.49849849849849
         },
         {
          "parameter": "Rideshare_Dist",
          "value": 0.0009346684530685952,
          "x": 88.65865865865865
         },
         {
          "parameter": "Rideshare_Dist",
          "value": 0.0009126918721966438,
          "x": 88.81881881881881
         },
         {
          "parameter": "Rideshare_Dist",
          "value": 0.0008907925947446852,
          "x": 88.97897897897897
         },
         {
          "parameter": "Rideshare_Dist",
          "value": 0.0008689949177475097,
          "x": 89.13913913913913
         },
         {
          "parameter": "Rideshare_Dist",
          "value": 0.000847322463138394,
          "x": 89.29929929929929
         },
         {
          "parameter": "Rideshare_Dist",
          "value": 0.0008257981126471475,
          "x": 89.45945945945945
         },
         {
          "parameter": "Rideshare_Dist",
          "value": 0.000804443947465635,
          "x": 89.61961961961961
         },
         {
          "parameter": "Rideshare_Dist",
          "value": 0.000783281192853496,
          "x": 89.77977977977977
         },
         {
          "parameter": "Rideshare_Dist",
          "value": 0.0007623301678251643,
          "x": 89.93993993993993
         },
         {
          "parameter": "Rideshare_Dist",
          "value": 0.0007416102400276445,
          "x": 90.1001001001001
         },
         {
          "parameter": "Rideshare_Dist",
          "value": 0.0007211397858868537,
          "x": 90.26026026026025
         },
         {
          "parameter": "Rideshare_Dist",
          "value": 0.0007009361560689945,
          "x": 90.42042042042041
         },
         {
          "parameter": "Rideshare_Dist",
          "value": 0.000681015646272606,
          "x": 90.58058058058057
         },
         {
          "parameter": "Rideshare_Dist",
          "value": 0.0006613934733368264,
          "x": 90.74074074074073
         },
         {
          "parameter": "Rideshare_Dist",
          "value": 0.0006420837566221625,
          "x": 90.9009009009009
         },
         {
          "parameter": "Rideshare_Dist",
          "value": 0.0006230995045920244,
          "x": 91.06106106106105
         },
         {
          "parameter": "Rideshare_Dist",
          "value": 0.0006044526064963589,
          "x": 91.22122122122121
         },
         {
          "parameter": "Rideshare_Dist",
          "value": 0.0005861538290333386,
          "x": 91.38138138138137
         },
         {
          "parameter": "Rideshare_Dist",
          "value": 0.000568212817841164,
          "x": 91.54154154154153
         },
         {
          "parameter": "Rideshare_Dist",
          "value": 0.0005506381036498399,
          "x": 91.7017017017017
         },
         {
          "parameter": "Rideshare_Dist",
          "value": 0.00053343711290239,
          "x": 91.86186186186185
         },
         {
          "parameter": "Rideshare_Dist",
          "value": 0.0005166161826363651,
          "x": 92.02202202202201
         },
         {
          "parameter": "Rideshare_Dist",
          "value": 0.000500180579399973,
          "x": 92.18218218218217
         },
         {
          "parameter": "Rideshare_Dist",
          "value": 0.00048413452196245145,
          "x": 92.34234234234233
         },
         {
          "parameter": "Rideshare_Dist",
          "value": 0.0004684812075657534,
          "x": 92.5025025025025
         },
         {
          "parameter": "Rideshare_Dist",
          "value": 0.00045322284145403935,
          "x": 92.66266266266267
         },
         {
          "parameter": "Rideshare_Dist",
          "value": 0.00043836066940896494,
          "x": 92.82282282282283
         },
         {
          "parameter": "Rideshare_Dist",
          "value": 0.0004238950130122349,
          "x": 92.98298298298299
         },
         {
          "parameter": "Rideshare_Dist",
          "value": 0.0004098253073524568,
          "x": 93.14314314314315
         },
         {
          "parameter": "Rideshare_Dist",
          "value": 0.0003961501408907463,
          "x": 93.30330330330331
         },
         {
          "parameter": "Rideshare_Dist",
          "value": 0.00038286729719889235,
          "x": 93.46346346346347
         },
         {
          "parameter": "Rideshare_Dist",
          "value": 0.00036997379828512106,
          "x": 93.62362362362363
         },
         {
          "parameter": "Rideshare_Dist",
          "value": 0.0003574659492253642,
          "x": 93.78378378378379
         },
         {
          "parameter": "Rideshare_Dist",
          "value": 0.0003453393838225485,
          "x": 93.94394394394395
         },
         {
          "parameter": "Rideshare_Dist",
          "value": 0.00033358911102253857,
          "x": 94.10410410410411
         },
         {
          "parameter": "Rideshare_Dist",
          "value": 0.00032220956182292673,
          "x": 94.26426426426427
         },
         {
          "parameter": "Rideshare_Dist",
          "value": 0.00031119463641976806,
          "x": 94.42442442442443
         },
         {
          "parameter": "Rideshare_Dist",
          "value": 0.00030053775134742674,
          "x": 94.58458458458459
         },
         {
          "parameter": "Rideshare_Dist",
          "value": 0.0002902318863779194,
          "x": 94.74474474474475
         },
         {
          "parameter": "Rideshare_Dist",
          "value": 0.00028026963095823036,
          "x": 94.90490490490491
         },
         {
          "parameter": "Rideshare_Dist",
          "value": 0.00027064322997705367,
          "x": 95.06506506506507
         },
         {
          "parameter": "Rideshare_Dist",
          "value": 0.0002613446286660597,
          "x": 95.22522522522523
         },
         {
          "parameter": "Rideshare_Dist",
          "value": 0.0002523655164550044,
          "x": 95.38538538538539
         },
         {
          "parameter": "Rideshare_Dist",
          "value": 0.00024369736961467014,
          "x": 95.54554554554555
         },
         {
          "parameter": "Rideshare_Dist",
          "value": 0.00023533149253658031,
          "x": 95.70570570570571
         },
         {
          "parameter": "Rideshare_Dist",
          "value": 0.00022725905751365253,
          "x": 95.86586586586587
         },
         {
          "parameter": "Rideshare_Dist",
          "value": 0.00021947114290117584,
          "x": 96.02602602602603
         },
         {
          "parameter": "Rideshare_Dist",
          "value": 0.00021195876955275894,
          "x": 96.18618618618619
         },
         {
          "parameter": "Rideshare_Dist",
          "value": 0.00020471293544099828,
          "x": 96.34634634634635
         },
         {
          "parameter": "Rideshare_Dist",
          "value": 0.0001977246483874938,
          "x": 96.50650650650651
         },
         {
          "parameter": "Rideshare_Dist",
          "value": 0.00019098495684140616,
          "x": 96.66666666666667
         },
         {
          "parameter": "Rideshare_Dist",
          "value": 0.00018448497865991768,
          "x": 96.82682682682683
         },
         {
          "parameter": "Rideshare_Dist",
          "value": 0.00017821592785763327,
          "x": 96.98698698698699
         },
         {
          "parameter": "Rideshare_Dist",
          "value": 0.00017216913930513257,
          "x": 97.14714714714715
         },
         {
          "parameter": "Rideshare_Dist",
          "value": 0.0001663360913694027,
          "x": 97.30730730730731
         },
         {
          "parameter": "Rideshare_Dist",
          "value": 0.00016070842650079347,
          "x": 97.46746746746747
         },
         {
          "parameter": "Rideshare_Dist",
          "value": 0.0001552779697823269,
          "x": 97.62762762762763
         },
         {
          "parameter": "Rideshare_Dist",
          "value": 0.00015003674546766228,
          "x": 97.78778778778779
         },
         {
          "parameter": "Rideshare_Dist",
          "value": 0.00014497699154372902,
          "x": 97.94794794794795
         },
         {
          "parameter": "Rideshare_Dist",
          "value": 0.00014009117236295592,
          "x": 98.10810810810811
         },
         {
          "parameter": "Rideshare_Dist",
          "value": 0.0001353719893981818,
          "x": 98.26826826826827
         },
         {
          "parameter": "Rideshare_Dist",
          "value": 0.00013081239018064965,
          "x": 98.42842842842843
         },
         {
          "parameter": "Rideshare_Dist",
          "value": 0.0001264055754880343,
          "x": 98.58858858858859
         },
         {
          "parameter": "Rideshare_Dist",
          "value": 0.0001221450048551947,
          "x": 98.74874874874875
         },
         {
          "parameter": "Rideshare_Dist",
          "value": 0.00011802440048530213,
          "x": 98.90890890890891
         },
         {
          "parameter": "Rideshare_Dist",
          "value": 0.00011403774964319396,
          "x": 99.06906906906907
         },
         {
          "parameter": "Rideshare_Dist",
          "value": 0.00011017930561624206,
          "x": 99.22922922922923
         },
         {
          "parameter": "Rideshare_Dist",
          "value": 0.00010644358733076887,
          "x": 99.3893893893894
         },
         {
          "parameter": "Rideshare_Dist",
          "value": 0.00010282537771406377,
          "x": 99.54954954954955
         },
         {
          "parameter": "Rideshare_Dist",
          "value": 9.931972089343573e-05,
          "x": 99.70970970970971
         },
         {
          "parameter": "Rideshare_Dist",
          "value": 9.592191832448124e-05,
          "x": 99.86986986986987
         },
         {
          "parameter": "Rideshare_Dist",
          "value": 9.262752394090136e-05,
          "x": 100.03003003003003
         },
         {
          "parameter": "Rideshare_Dist",
          "value": 8.943233841780164e-05,
          "x": 100.1901901901902
         },
         {
          "parameter": "Rideshare_Dist",
          "value": 8.633240263949499e-05,
          "x": 100.35035035035035
         },
         {
          "parameter": "Rideshare_Dist",
          "value": 8.332399046142969e-05,
          "x": 100.51051051051051
         },
         {
          "parameter": "Rideshare_Dist",
          "value": 8.040360085404807e-05,
          "x": 100.67067067067067
         },
         {
          "parameter": "Rideshare_Dist",
          "value": 7.756794951414642e-05,
          "x": 100.83083083083083
         },
         {
          "parameter": "Rideshare_Dist",
          "value": 7.481396002673314e-05,
          "x": 100.990990990991
         },
         {
          "parameter": "Rideshare_Dist",
          "value": 7.213875465748388e-05,
          "x": 101.15115115115115
         },
         {
          "parameter": "Rideshare_Dist",
          "value": 6.953964485271593e-05,
          "x": 101.31131131131131
         },
         {
          "parameter": "Rideshare_Dist",
          "value": 6.701412152039087e-05,
          "x": 101.47147147147147
         },
         {
          "parameter": "Rideshare_Dist",
          "value": 6.455984516202769e-05,
          "x": 101.63163163163163
         },
         {
          "parameter": "Rideshare_Dist",
          "value": 6.217463592162851e-05,
          "x": 101.7917917917918
         },
         {
          "parameter": "Rideshare_Dist",
          "value": 5.9856463613783185e-05,
          "x": 101.95195195195195
         },
         {
          "parameter": "Rideshare_Dist",
          "value": 5.760343778909564e-05,
          "x": 102.11211211211211
         },
         {
          "parameter": "Rideshare_Dist",
          "value": 5.5413797890969617e-05,
          "x": 102.27227227227228
         },
         {
          "parameter": "Rideshare_Dist",
          "value": 5.32859035536429e-05,
          "x": 102.43243243243244
         },
         {
          "parameter": "Rideshare_Dist",
          "value": 5.121822508719562e-05,
          "x": 102.5925925925926
         },
         {
          "parameter": "Rideshare_Dist",
          "value": 4.920933419109262e-05,
          "x": 102.75275275275276
         },
         {
          "parameter": "Rideshare_Dist",
          "value": 4.725789493370045e-05,
          "x": 102.91291291291292
         },
         {
          "parameter": "Rideshare_Dist",
          "value": 4.536265503113297e-05,
          "x": 103.07307307307308
         },
         {
          "parameter": "Rideshare_Dist",
          "value": 4.3522437454778755e-05,
          "x": 103.23323323323324
         },
         {
          "parameter": "Rideshare_Dist",
          "value": 4.173613239294534e-05,
          "x": 103.3933933933934
         },
         {
          "parameter": "Rideshare_Dist",
          "value": 4.000268958824453e-05,
          "x": 103.55355355355356
         },
         {
          "parameter": "Rideshare_Dist",
          "value": 3.8321111068651795e-05,
          "x": 103.71371371371372
         },
         {
          "parameter": "Rideshare_Dist",
          "value": 3.669044428661725e-05,
          "x": 103.87387387387388
         },
         {
          "parameter": "Rideshare_Dist",
          "value": 3.5109775677189044e-05,
          "x": 104.03403403403404
         },
         {
          "parameter": "Rideshare_Dist",
          "value": 3.357822464285888e-05,
          "x": 104.1941941941942
         },
         {
          "parameter": "Rideshare_Dist",
          "value": 3.20949379697391e-05,
          "x": 104.35435435435436
         },
         {
          "parameter": "Rideshare_Dist",
          "value": 3.0659084676761255e-05,
          "x": 104.51451451451452
         },
         {
          "parameter": "Rideshare_Dist",
          "value": 2.926985129683827e-05,
          "x": 104.67467467467468
         },
         {
          "parameter": "Rideshare_Dist",
          "value": 2.7926437586367308e-05,
          "x": 104.83483483483484
         },
         {
          "parameter": "Rideshare_Dist",
          "value": 2.6628052657071232e-05,
          "x": 104.994994994995
         },
         {
          "parameter": "Rideshare_Dist",
          "value": 2.5373911521980545e-05,
          "x": 105.15515515515516
         },
         {
          "parameter": "Rideshare_Dist",
          "value": 2.4163232045358543e-05,
          "x": 105.31531531531532
         },
         {
          "parameter": "Rideshare_Dist",
          "value": 2.2995232284551602e-05,
          "x": 105.47547547547548
         },
         {
          "parameter": "Rideshare_Dist",
          "value": 2.186912821012232e-05,
          "x": 105.63563563563564
         },
         {
          "parameter": "Rideshare_Dist",
          "value": 2.0784131789180846e-05,
          "x": 105.7957957957958
         },
         {
          "parameter": "Rideshare_Dist",
          "value": 1.9739449415572877e-05,
          "x": 105.95595595595596
         },
         {
          "parameter": "Rideshare_Dist",
          "value": 1.8734280669506547e-05,
          "x": 106.11611611611612
         },
         {
          "parameter": "Rideshare_Dist",
          "value": 1.776781738829785e-05,
          "x": 106.27627627627628
         },
         {
          "parameter": "Rideshare_Dist",
          "value": 1.6839243029189024e-05,
          "x": 106.43643643643644
         },
         {
          "parameter": "Rideshare_Dist",
          "value": 1.594773230462748e-05,
          "x": 106.5965965965966
         },
         {
          "parameter": "Rideshare_Dist",
          "value": 1.5092451069991162e-05,
          "x": 106.75675675675676
         },
         {
          "parameter": "Rideshare_Dist",
          "value": 1.4272556443495446e-05,
          "x": 106.91691691691692
         },
         {
          "parameter": "Rideshare_Dist",
          "value": 1.3487197137910966e-05,
          "x": 107.07707707707708
         },
         {
          "parameter": "Rideshare_Dist",
          "value": 1.273551398375462e-05,
          "x": 107.23723723723724
         },
         {
          "parameter": "Rideshare_Dist",
          "value": 1.2016640623778455e-05,
          "x": 107.3973973973974
         },
         {
          "parameter": "Rideshare_Dist",
          "value": 1.1329704358862468e-05,
          "x": 107.55755755755756
         },
         {
          "parameter": "Rideshare_Dist",
          "value": 1.0673827125815296e-05,
          "x": 107.71771771771772
         },
         {
          "parameter": "Rideshare_Dist",
          "value": 1.0048126588081837e-05,
          "x": 107.87787787787788
         },
         {
          "parameter": "Rideshare_Dist",
          "value": 9.45171732095052e-06,
          "x": 108.03803803803804
         },
         {
          "parameter": "Rideshare_Dist",
          "value": 8.883712073527876e-06,
          "x": 108.1981981981982
         },
         {
          "parameter": "Rideshare_Dist",
          "value": 8.343223090499285e-06,
          "x": 108.35835835835836
         },
         {
          "parameter": "Rideshare_Dist",
          "value": 7.829363477510838e-06,
          "x": 108.51851851851852
         },
         {
          "parameter": "Rideshare_Dist",
          "value": 7.341248594878019e-06,
          "x": 108.67867867867868
         },
         {
          "parameter": "Rideshare_Dist",
          "value": 6.877997465247449e-06,
          "x": 108.83883883883884
         },
         {
          "parameter": "Rideshare_Dist",
          "value": 6.438734181791676e-06,
          "x": 108.998998998999
         },
         {
          "parameter": "Rideshare_Dist",
          "value": 6.022589304502705e-06,
          "x": 109.15915915915916
         },
         {
          "parameter": "Rideshare_Dist",
          "value": 5.6287012331538455e-06,
          "x": 109.31931931931932
         },
         {
          "parameter": "Rideshare_Dist",
          "value": 5.25621754651544e-06,
          "x": 109.47947947947948
         },
         {
          "parameter": "Rideshare_Dist",
          "value": 4.904296298429952e-06,
          "x": 109.63963963963964
         },
         {
          "parameter": "Rideshare_Dist",
          "value": 4.57210726236683e-06,
          "x": 109.7997997997998
         },
         {
          "parameter": "Rideshare_Dist",
          "value": 4.258833117084029e-06,
          "x": 109.95995995995996
         },
         {
          "parameter": "Rideshare_Dist",
          "value": 3.9636705670090195e-06,
          "x": 110.12012012012012
         },
         {
          "parameter": "Rideshare_Dist",
          "value": 3.6858313919170084e-06,
          "x": 110.28028028028028
         },
         {
          "parameter": "Rideshare_Dist",
          "value": 3.4245434214187255e-06,
          "x": 110.44044044044044
         },
         {
          "parameter": "Rideshare_Dist",
          "value": 3.1790514306710025e-06,
          "x": 110.6006006006006
         },
         {
          "parameter": "Rideshare_Dist",
          "value": 2.94861795458573e-06,
          "x": 110.76076076076076
         },
         {
          "parameter": "Rideshare_Dist",
          "value": 2.732524018632983e-06,
          "x": 110.92092092092092
         },
         {
          "parameter": "Rideshare_Dist",
          "value": 2.5300697851079888e-06,
          "x": 111.08108108108108
         },
         {
          "parameter": "Rideshare_Dist",
          "value": 2.3405751144584488e-06,
          "x": 111.24124124124124
         },
         {
          "parameter": "Rideshare_Dist",
          "value": 2.1633800419433607e-06,
          "x": 111.4014014014014
         },
         {
          "parameter": "Rideshare_Dist",
          "value": 1.997845170518225e-06,
          "x": 111.56156156156156
         },
         {
          "parameter": "Rideshare_Dist",
          "value": 1.843351981411323e-06,
          "x": 111.72172172172172
         },
         {
          "parameter": "Rideshare_Dist",
          "value": 1.6993030643717908e-06,
          "x": 111.88188188188188
         },
         {
          "parameter": "Rideshare_Dist",
          "value": 1.5651222700323376e-06,
          "x": 112.04204204204204
         },
         {
          "parameter": "Rideshare_Dist",
          "value": 1.4402547872373496e-06,
          "x": 112.2022022022022
         },
         {
          "parameter": "Rideshare_Dist",
          "value": 1.3241671485430114e-06,
          "x": 112.36236236236236
         },
         {
          "parameter": "Rideshare_Dist",
          "value": 1.216347167398889e-06,
          "x": 112.52252252252252
         },
         {
          "parameter": "Rideshare_Dist",
          "value": 1.1163038107738271e-06,
          "x": 112.68268268268268
         },
         {
          "parameter": "Rideshare_Dist",
          "value": 1.023567011193339e-06,
          "x": 112.84284284284284
         },
         {
          "parameter": "Rideshare_Dist",
          "value": 9.376874223136005e-07,
          "x": 113.003003003003
         },
         {
          "parameter": "Rideshare_Dist",
          "value": 8.5823612227099e-07,
          "x": 113.16316316316316
         },
         {
          "parameter": "Rideshare_Dist",
          "value": 7.848042691179323e-07,
          "x": 113.32332332332332
         },
         {
          "parameter": "Rideshare_Dist",
          "value": 7.170027126892353e-07,
          "x": 113.48348348348348
         },
         {
          "parameter": "Rideshare_Dist",
          "value": 6.544615672396341e-07,
          "x": 113.64364364364364
         },
         {
          "parameter": "Rideshare_Dist",
          "value": 5.968297491570655e-07,
          "x": 113.8038038038038
         },
         {
          "parameter": "Rideshare_Dist",
          "value": 5.437744839894648e-07,
          "x": 113.96396396396396
         },
         {
          "parameter": "Rideshare_Dist",
          "value": 4.949807869288995e-07,
          "x": 114.12412412412412
         },
         {
          "parameter": "Rideshare_Dist",
          "value": 4.501509207785989e-07,
          "x": 114.28428428428428
         },
         {
          "parameter": "Rideshare_Dist",
          "value": 4.090038352888811e-07,
          "x": 114.44444444444444
         },
         {
          "parameter": "Rideshare_Dist",
          "value": 3.7127459158992223e-07,
          "x": 114.6046046046046
         },
         {
          "parameter": "Rideshare_Dist",
          "value": 3.367137752759558e-07,
          "x": 114.76476476476476
         },
         {
          "parameter": "Rideshare_Dist",
          "value": 3.0508690150897407e-07,
          "x": 114.92492492492492
         },
         {
          "parameter": "Rideshare_Dist",
          "value": 2.7617381531361965e-07,
          "x": 115.08508508508508
         },
         {
          "parameter": "Rideshare_Dist",
          "value": 2.4976809003070934e-07,
          "x": 115.24524524524524
         },
         {
          "parameter": "Rideshare_Dist",
          "value": 2.256764266873219e-07,
          "x": 115.4054054054054
         },
         {
          "parameter": "Rideshare_Dist",
          "value": 2.0371805682873975e-07,
          "x": 115.56556556556556
         },
         {
          "parameter": "Rideshare_Dist",
          "value": 1.8372415114373083e-07,
          "x": 115.72572572572572
         },
         {
          "parameter": "Rideshare_Dist",
          "value": 1.655372360017576e-07,
          "x": 115.88588588588588
         },
         {
          "parameter": "Rideshare_Dist",
          "value": 1.490106198100858e-07,
          "x": 116.04604604604604
         },
         {
          "parameter": "Rideshare_Dist",
          "value": 1.340078308922791e-07,
          "x": 116.2062062062062
         },
         {
          "parameter": "Rideshare_Dist",
          "value": 1.204020683883288e-07,
          "x": 116.36636636636636
         },
         {
          "parameter": "Rideshare_Dist",
          "value": 1.0807566748196964e-07,
          "x": 116.52652652652652
         },
         {
          "parameter": "Rideshare_Dist",
          "value": 9.691958007354396e-08,
          "x": 116.68668668668668
         },
         {
          "parameter": "Rideshare_Dist",
          "value": 8.683287183793406e-08,
          "x": 116.84684684684684
         },
         {
          "parameter": "Rideshare_Dist",
          "value": 7.772223643736383e-08,
          "x": 117.007007007007
         },
         {
          "parameter": "Rideshare_Dist",
          "value": 6.950152749867778e-08,
          "x": 117.16716716716716
         },
         {
          "parameter": "Rideshare_Dist",
          "value": 6.209130881460026e-08,
          "x": 117.32732732732732
         },
         {
          "parameter": "Rideshare_Dist",
          "value": 5.541842308864056e-08,
          "x": 117.48748748748748
         },
         {
          "parameter": "Rideshare_Dist",
          "value": 4.9415579413938144e-08,
          "x": 117.64764764764764
         },
         {
          "parameter": "Rideshare_Dist",
          "value": 4.4020959557479536e-08,
          "x": 117.8078078078078
         },
         {
          "parameter": "Rideshare_Dist",
          "value": 3.9177843012723435e-08,
          "x": 117.96796796796797
         },
         {
          "parameter": "Rideshare_Dist",
          "value": 3.4834250685575656e-08,
          "x": 118.12812812812814
         },
         {
          "parameter": "Rideshare_Dist",
          "value": 3.0942606990705585e-08,
          "x": 118.2882882882883
         },
         {
          "parameter": "Rideshare_Dist",
          "value": 2.7459420057003566e-08,
          "x": 118.44844844844846
         },
         {
          "parameter": "Rideshare_Dist",
          "value": 2.4344979672319588e-08,
          "x": 118.60860860860862
         },
         {
          "parameter": "Rideshare_Dist",
          "value": 2.1563072537986854e-08,
          "x": 118.76876876876878
         },
         {
          "parameter": "Rideshare_Dist",
          "value": 1.908071435266608e-08,
          "x": 118.92892892892894
         },
         {
          "parameter": "Rideshare_Dist",
          "value": 1.6867898202232302e-08,
          "x": 119.0890890890891
         },
         {
          "parameter": "Rideshare_Dist",
          "value": 1.489735869729162e-08,
          "x": 119.24924924924926
         },
         {
          "parameter": "Rideshare_Dist",
          "value": 1.3144351271937207e-08,
          "x": 119.40940940940942
         },
         {
          "parameter": "Rideshare_Dist",
          "value": 1.1586446036032767e-08,
          "x": 119.56956956956958
         },
         {
          "parameter": "Rideshare_Dist",
          "value": 1.0203335558091857e-08,
          "x": 119.72972972972974
         },
         {
          "parameter": "Rideshare_Dist",
          "value": 8.976655946210999e-09,
          "x": 119.8898898898899
         },
         {
          "parameter": "Rideshare_Dist",
          "value": 7.889820589977314e-09,
          "x": 120.05005005005006
         },
         {
          "parameter": "Rideshare_Dist",
          "value": 6.927865926310201e-09,
          "x": 120.21021021021022
         },
         {
          "parameter": "Rideshare_Dist",
          "value": 6.077308596319933e-09,
          "x": 120.37037037037038
         },
         {
          "parameter": "Rideshare_Dist",
          "value": 5.32601336800101e-09,
          "x": 120.53053053053054
         },
         {
          "parameter": "Rideshare_Dist",
          "value": 4.663071210471348e-09,
          "x": 120.6906906906907
         },
         {
          "parameter": "Rideshare_Dist",
          "value": 4.07868691909663e-09,
          "x": 120.85085085085086
         },
         {
          "parameter": "Rideshare_Dist",
          "value": 3.5640757067871818e-09,
          "x": 121.01101101101102
         },
         {
          "parameter": "Rideshare_Dist",
          "value": 3.1113681946538825e-09,
          "x": 121.17117117117118
         },
         {
          "parameter": "Rideshare_Dist",
          "value": 2.7135232546996483e-09,
          "x": 121.33133133133134
         },
         {
          "parameter": "Rideshare_Dist",
          "value": 2.3642481779798104e-09,
          "x": 121.4914914914915
         },
         {
          "parameter": "Rideshare_Dist",
          "value": 2.0579256633889758e-09,
          "x": 121.65165165165166
         },
         {
          "parameter": "Rideshare_Dist",
          "value": 1.789547144648171e-09,
          "x": 121.81181181181182
         },
         {
          "parameter": "Rideshare_Dist",
          "value": 1.5546519959308312e-09,
          "x": 121.97197197197198
         },
         {
          "parameter": "Rideshare_Dist",
          "value": 1.349272179652405e-09,
          "x": 122.13213213213214
         },
         {
          "parameter": "Rideshare_Dist",
          "value": 1.16988192306329e-09,
          "x": 122.2922922922923
         },
         {
          "parameter": "Rideshare_Dist",
          "value": 1.0133520332514222e-09,
          "x": 122.45245245245246
         },
         {
          "parameter": "Rideshare_Dist",
          "value": 8.769084828281703e-10,
          "x": 122.61261261261262
         },
         {
          "parameter": "Rideshare_Dist",
          "value": 7.580949208085021e-10,
          "x": 122.77277277277278
         },
         {
          "parameter": "Rideshare_Dist",
          "value": 6.547387848916163e-10,
          "x": 122.93293293293294
         },
         {
          "parameter": "Rideshare_Dist",
          "value": 5.649207124098595e-10,
          "x": 123.0930930930931
         },
         {
          "parameter": "Rideshare_Dist",
          "value": 4.869469675636256e-10,
          "x": 123.25325325325326
         },
         {
          "parameter": "Rideshare_Dist",
          "value": 4.193246221394557e-10,
          "x": 123.41341341341342
         },
         {
          "parameter": "Rideshare_Dist",
          "value": 3.607392456699713e-10,
          "x": 123.57357357357358
         },
         {
          "parameter": "Rideshare_Dist",
          "value": 3.100348789043206e-10,
          "x": 123.73373373373374
         },
         {
          "parameter": "Rideshare_Dist",
          "value": 2.6619608149419283e-10,
          "x": 123.8938938938939
         },
         {
          "parameter": "Rideshare_Dist",
          "value": 2.2833186095106005e-10,
          "x": 124.05405405405406
         },
         {
          "parameter": "Rideshare_Dist",
          "value": 1.9566130519184117e-10,
          "x": 124.21421421421422
         },
         {
          "parameter": "Rideshare_Dist",
          "value": 1.6750075536784183e-10,
          "x": 124.37437437437438
         },
         {
          "parameter": "Rideshare_Dist",
          "value": 1.432523691763802e-10,
          "x": 124.53453453453454
         },
         {
          "parameter": "Rideshare_Dist",
          "value": 1.2239393750387158e-10,
          "x": 124.6946946946947
         },
         {
          "parameter": "Rideshare_Dist",
          "value": 1.0446982906491539e-10,
          "x": 124.85485485485486
         },
         {
          "parameter": "Rideshare_Dist",
          "value": 8.908294871032627e-11,
          "x": 125.01501501501502
         },
         {
          "parameter": "Rideshare_Dist",
          "value": 7.58876053072565e-11,
          "x": 125.17517517517518
         },
         {
          "parameter": "Rideshare_Dist",
          "value": 6.458319457819445e-11,
          "x": 125.33533533533534
         },
         {
          "parameter": "Rideshare_Dist",
          "value": 5.4908611056422966e-11,
          "x": 125.4954954954955
         },
         {
          "parameter": "Rideshare_Dist",
          "value": 4.663731140803376e-11,
          "x": 125.65565565565566
         },
         {
          "parameter": "Rideshare_Dist",
          "value": 3.9572958820702955e-11,
          "x": 125.81581581581582
         },
         {
          "parameter": "Rideshare_Dist",
          "value": 3.35455850028789e-11,
          "x": 125.97597597597598
         },
         {
          "parameter": "Rideshare_Dist",
          "value": 2.8408212609815746e-11,
          "x": 126.13613613613614
         },
         {
          "parameter": "Rideshare_Dist",
          "value": 2.4033886650503943e-11,
          "x": 126.2962962962963
         },
         {
          "parameter": "Rideshare_Dist",
          "value": 2.031306866686468e-11,
          "x": 126.45645645645646
         },
         {
          "parameter": "Rideshare_Dist",
          "value": 1.715135224764556e-11,
          "x": 126.61661661661662
         },
         {
          "parameter": "Rideshare_Dist",
          "value": 1.446746277713757e-11,
          "x": 126.77677677677679
         },
         {
          "parameter": "Rideshare_Dist",
          "value": 1.2191508254923074e-11,
          "x": 126.93693693693695
         },
         {
          "parameter": "Rideshare_Dist",
          "value": 1.0263451587701845e-11,
          "x": 127.0970970970971
         },
         {
          "parameter": "Rideshare_Dist",
          "value": 8.631777976815464e-12,
          "x": 127.25725725725727
         },
         {
          "parameter": "Rideshare_Dist",
          "value": 7.252333932894133e-12,
          "x": 127.41741741741743
         },
         {
          "parameter": "Rideshare_Dist",
          "value": 6.087317068070025e-12,
          "x": 127.57757757757759
         },
         {
          "parameter": "Rideshare_Dist",
          "value": 5.104398170898125e-12,
          "x": 127.73773773773775
         },
         {
          "parameter": "Rideshare_Dist",
          "value": 4.275959182456286e-12,
          "x": 127.8978978978979
         },
         {
          "parameter": "Rideshare_Dist",
          "value": 3.578432585486799e-12,
          "x": 128.05805805805807
         },
         {
          "parameter": "Rideshare_Dist",
          "value": 2.9917294118879266e-12,
          "x": 128.21821821821823
         },
         {
          "parameter": "Rideshare_Dist",
          "value": 2.4987445859011363e-12,
          "x": 128.3783783783784
         },
         {
          "parameter": "Rideshare_Dist",
          "value": 2.0849296681454195e-12,
          "x": 128.53853853853855
         },
         {
          "parameter": "Rideshare_Dist",
          "value": 1.7379242650710932e-12,
          "x": 128.6986986986987
         },
         {
          "parameter": "Rideshare_Dist",
          "value": 1.4472384340304528e-12,
          "x": 128.85885885885887
         },
         {
          "parameter": "Rideshare_Dist",
          "value": 1.2039793593840261e-12,
          "x": 129.01901901901903
         },
         {
          "parameter": "Rideshare_Dist",
          "value": 1.000616412135165e-12,
          "x": 129.1791791791792
         },
         {
          "parameter": "Rideshare_Dist",
          "value": 8.307794457127418e-13,
          "x": 129.33933933933935
         },
         {
          "parameter": "Rideshare_Dist",
          "value": 6.89085833897502e-13,
          "x": 129.4994994994995
         },
         {
          "parameter": "Rideshare_Dist",
          "value": 5.709923327829779e-13,
          "x": 129.65965965965967
         },
         {
          "parameter": "Rideshare_Dist",
          "value": 4.726683554798386e-13,
          "x": 129.81981981981983
         },
         {
          "parameter": "Rideshare_Dist",
          "value": 3.908876936158956e-13,
          "x": 129.97997997998
         },
         {
          "parameter": "Rideshare_Dist",
          "value": 3.2293611041527586e-13,
          "x": 130.14014014014015
         },
         {
          "parameter": "Rideshare_Dist",
          "value": 2.6653257243888327e-13,
          "x": 130.3003003003003
         },
         {
          "parameter": "Rideshare_Dist",
          "value": 2.1976218649033336e-13,
          "x": 130.46046046046047
         },
         {
          "parameter": "Rideshare_Dist",
          "value": 1.8101916971841155e-13,
          "x": 130.62062062062063
         },
         {
          "parameter": "Rideshare_Dist",
          "value": 1.4895840903846784e-13,
          "x": 130.7807807807808
         },
         {
          "parameter": "Rideshare_Dist",
          "value": 1.2245436463458394e-13,
          "x": 130.94094094094095
         },
         {
          "parameter": "Rideshare_Dist",
          "value": 1.005662450434502e-13,
          "x": 131.1011011011011
         },
         {
          "parameter": "Rideshare_Dist",
          "value": 8.250853131973343e-14,
          "x": 131.26126126126127
         },
         {
          "parameter": "Rideshare_Dist",
          "value": 6.762605784846965e-14,
          "x": 131.42142142142143
         },
         {
          "parameter": "Rideshare_Dist",
          "value": 5.537296999033981e-14,
          "x": 131.5815815815816
         },
         {
          "parameter": "Rideshare_Dist",
          "value": 4.529497612273943e-14,
          "x": 131.74174174174175
         },
         {
          "parameter": "Rideshare_Dist",
          "value": 3.701439571768163e-14,
          "x": 131.9019019019019
         },
         {
          "parameter": "Rideshare_Dist",
          "value": 3.0217577591446296e-14,
          "x": 132.06206206206207
         },
         {
          "parameter": "Rideshare_Dist",
          "value": 2.4644324879517195e-14,
          "x": 132.22222222222223
         },
         {
          "parameter": "Rideshare_Dist",
          "value": 2.007901695951238e-14,
          "x": 132.3823823823824
         },
         {
          "parameter": "Rideshare_Dist",
          "value": 1.6343164627430083e-14,
          "x": 132.54254254254255
         },
         {
          "parameter": "Rideshare_Dist",
          "value": 1.3289174346675298e-14,
          "x": 132.7027027027027
         },
         {
          "parameter": "Rideshare_Dist",
          "value": 1.07951312251171e-14,
          "x": 132.86286286286287
         },
         {
          "parameter": "Rideshare_Dist",
          "value": 8.76043930946407e-15,
          "x": 133.02302302302303
         },
         {
          "parameter": "Rideshare_Dist",
          "value": 7.1021824952296036e-15,
          "x": 133.1831831831832
         },
         {
          "parameter": "Rideshare_Dist",
          "value": 5.752090423068118e-15,
          "x": 133.34334334334335
         },
         {
          "parameter": "Rideshare_Dist",
          "value": 4.654011679404692e-15,
          "x": 133.5035035035035
         },
         {
          "parameter": "Rideshare_Dist",
          "value": 3.7618118842349666e-15,
          "x": 133.66366366366367
         },
         {
          "parameter": "Rideshare_Dist",
          "value": 3.037627215325845e-15,
          "x": 133.82382382382383
         },
         {
          "parameter": "Rideshare_Dist",
          "value": 2.4504149173865948e-15,
          "x": 133.983983983984
         },
         {
          "parameter": "Rideshare_Dist",
          "value": 1.974751663200992e-15,
          "x": 134.14414414414415
         },
         {
          "parameter": "Rideshare_Dist",
          "value": 1.5898385177431793e-15,
          "x": 134.3043043043043
         },
         {
          "parameter": "Rideshare_Dist",
          "value": 1.2786779180236103e-15,
          "x": 134.46446446446447
         },
         {
          "parameter": "Rideshare_Dist",
          "value": 1.02739370299961e-15,
          "x": 134.62462462462463
         },
         {
          "parameter": "Rideshare_Dist",
          "value": 8.246699655891699e-16,
          "x": 134.7847847847848
         },
         {
          "parameter": "Rideshare_Dist",
          "value": 6.612884864611479e-16,
          "x": 134.94494494494495
         },
         {
          "parameter": "Rideshare_Dist",
          "value": 5.297478612657237e-16,
          "x": 135.1051051051051
         },
         {
          "parameter": "Rideshare_Dist",
          "value": 4.239502470270246e-16,
          "x": 135.26526526526527
         },
         {
          "parameter": "Rideshare_Dist",
          "value": 3.3894401284944024e-16,
          "x": 135.42542542542543
         },
         {
          "parameter": "Rideshare_Dist",
          "value": 2.7071255581769934e-16,
          "x": 135.5855855855856
         },
         {
          "parameter": "Rideshare_Dist",
          "value": 2.1600119529459095e-16,
          "x": 135.74574574574575
         },
         {
          "parameter": "Rideshare_Dist",
          "value": 1.7217543892646915e-16,
          "x": 135.9059059059059
         },
         {
          "parameter": "Rideshare_Dist",
          "value": 1.371050649475415e-16,
          "x": 136.06606606606607
         },
         {
          "parameter": "Rideshare_Dist",
          "value": 1.090694245591156e-16,
          "x": 136.22622622622623
         },
         {
          "parameter": "Rideshare_Dist",
          "value": 8.668016629907537e-17,
          "x": 136.3863863863864
         },
         {
          "parameter": "Rideshare_Dist",
          "value": 6.881824761731017e-17,
          "x": 136.54654654654655
         },
         {
          "parameter": "Rideshare_Dist",
          "value": 5.458264942666213e-17,
          "x": 136.7067067067067
         },
         {
          "parameter": "Rideshare_Dist",
          "value": 4.324866580167639e-17,
          "x": 136.86686686686687
         },
         {
          "parameter": "Rideshare_Dist",
          "value": 3.423401888028821e-17,
          "x": 137.02702702702703
         },
         {
          "parameter": "Rideshare_Dist",
          "value": 2.7071361507847735e-17,
          "x": 137.1871871871872
         },
         {
          "parameter": "Rideshare_Dist",
          "value": 2.138598824756273e-17,
          "x": 137.34734734734735
         },
         {
          "parameter": "Rideshare_Dist",
          "value": 1.6877788274406848e-17,
          "x": 137.5075075075075
         },
         {
          "parameter": "Rideshare_Dist",
          "value": 1.3306649068146747e-17,
          "x": 137.66766766766767
         },
         {
          "parameter": "Rideshare_Dist",
          "value": 1.0480664151765802e-17,
          "x": 137.82782782782783
         },
         {
          "parameter": "Rideshare_Dist",
          "value": 8.246616741952748e-18,
          "x": 137.987987987988
         },
         {
          "parameter": "Rideshare_Dist",
          "value": 6.482308549440708e-18,
          "x": 138.14814814814815
         },
         {
          "parameter": "Rideshare_Dist",
          "value": 5.0903827980498095e-18,
          "x": 138.3083083083083
         },
         {
          "parameter": "Rideshare_Dist",
          "value": 3.993355902447459e-18,
          "x": 138.46846846846847
         },
         {
          "parameter": "Rideshare_Dist",
          "value": 3.1296257101408176e-18,
          "x": 138.62862862862863
         },
         {
          "parameter": "Rideshare_Dist",
          "value": 2.4502678885258808e-18,
          "x": 138.7887887887888
         },
         {
          "parameter": "Rideshare_Dist",
          "value": 1.9164676725782084e-18,
          "x": 138.94894894894895
         },
         {
          "parameter": "Rideshare_Dist",
          "value": 1.4974632282388855e-18,
          "x": 139.1091091091091
         },
         {
          "parameter": "Rideshare_Dist",
          "value": 1.1689005229505061e-18,
          "x": 139.26926926926927
         },
         {
          "parameter": "Rideshare_Dist",
          "value": 9.115188103561702e-19,
          "x": 139.42942942942943
         },
         {
          "parameter": "Rideshare_Dist",
          "value": 7.101014390540612e-19,
          "x": 139.5895895895896
         },
         {
          "parameter": "Rideshare_Dist",
          "value": 5.526393495780016e-19,
          "x": 139.74974974974975
         },
         {
          "parameter": "Rideshare_Dist",
          "value": 4.296648744436156e-19,
          "x": 139.9099099099099
         },
         {
          "parameter": "Rideshare_Dist",
          "value": 3.3372174982982823e-19,
          "x": 140.07007007007007
         },
         {
          "parameter": "Rideshare_Dist",
          "value": 2.589439498854464e-19,
          "x": 140.23023023023023
         },
         {
          "parameter": "Rideshare_Dist",
          "value": 2.0072136466308157e-19,
          "x": 140.3903903903904
         },
         {
          "parameter": "Rideshare_Dist",
          "value": 1.554347043314384e-19,
          "x": 140.55055055055055
         },
         {
          "parameter": "Rideshare_Dist",
          "value": 1.202455246035973e-19,
          "x": 140.7107107107107
         },
         {
          "parameter": "Rideshare_Dist",
          "value": 9.29300933073468e-20,
          "x": 140.87087087087087
         },
         {
          "parameter": "Rideshare_Dist",
          "value": 7.174808753347354e-20,
          "x": 141.03103103103103
         },
         {
          "parameter": "Rideshare_Dist",
          "value": 5.533893191012655e-20,
          "x": 141.1911911911912
         },
         {
          "parameter": "Rideshare_Dist",
          "value": 4.264004814371369e-20,
          "x": 141.35135135135135
         },
         {
          "parameter": "Rideshare_Dist",
          "value": 3.2822454436607473e-20,
          "x": 141.51151151151151
         },
         {
          "parameter": "Rideshare_Dist",
          "value": 2.5240087710997958e-20,
          "x": 141.67167167167167
         },
         {
          "parameter": "Rideshare_Dist",
          "value": 1.938996778600826e-20,
          "x": 141.83183183183183
         },
         {
          "parameter": "Rideshare_Dist",
          "value": 1.488091794630224e-20,
          "x": 141.991991991992
         },
         {
          "parameter": "Rideshare_Dist",
          "value": 1.140903067777009e-20,
          "x": 142.15215215215215
         },
         {
          "parameter": "Rideshare_Dist",
          "value": 8.738444866178072e-21,
          "x": 142.31231231231232
         },
         {
          "parameter": "Rideshare_Dist",
          "value": 6.68630087048624e-21,
          "x": 142.47247247247248
         },
         {
          "parameter": "Rideshare_Dist",
          "value": 5.110978187963211e-21,
          "x": 142.63263263263264
         },
         {
          "parameter": "Rideshare_Dist",
          "value": 3.902909434453133e-21,
          "x": 142.7927927927928
         },
         {
          "parameter": "Rideshare_Dist",
          "value": 2.9774140956586774e-21,
          "x": 142.95295295295296
         },
         {
          "parameter": "Rideshare_Dist",
          "value": 2.2691139879398992e-21,
          "x": 143.11311311311312
         },
         {
          "parameter": "Rideshare_Dist",
          "value": 1.7275860138174763e-21,
          "x": 143.27327327327328
         },
         {
          "parameter": "Rideshare_Dist",
          "value": 1.3139817289783689e-21,
          "x": 143.43343343343344
         },
         {
          "parameter": "Rideshare_Dist",
          "value": 9.984015375558632e-22,
          "x": 143.5935935935936
         },
         {
          "parameter": "Rideshare_Dist",
          "value": 7.57857253083546e-22,
          "x": 143.75375375375376
         },
         {
          "parameter": "Rideshare_Dist",
          "value": 5.746928909539505e-22,
          "x": 143.91391391391392
         },
         {
          "parameter": "Rideshare_Dist",
          "value": 4.353619500082187e-22,
          "x": 144.07407407407408
         },
         {
          "parameter": "Rideshare_Dist",
          "value": 3.2948172727431563e-22,
          "x": 144.23423423423424
         },
         {
          "parameter": "Rideshare_Dist",
          "value": 2.4910268378875493e-22,
          "x": 144.3943943943944
         },
         {
          "parameter": "Rideshare_Dist",
          "value": 1.8814456444912522e-22,
          "x": 144.55455455455456
         },
         {
          "parameter": "Rideshare_Dist",
          "value": 1.4196168029529863e-22,
          "x": 144.71471471471472
         },
         {
          "parameter": "Rideshare_Dist",
          "value": 1.0700812669929212e-22,
          "x": 144.87487487487488
         },
         {
          "parameter": "Rideshare_Dist",
          "value": 8.058023986636054e-23,
          "x": 145.03503503503504
         },
         {
          "parameter": "Rideshare_Dist",
          "value": 6.06186840694111e-23,
          "x": 145.1951951951952
         },
         {
          "parameter": "Rideshare_Dist",
          "value": 4.555652577315809e-23,
          "x": 145.35535535535536
         },
         {
          "parameter": "Rideshare_Dist",
          "value": 3.420273397380055e-23,
          "x": 145.51551551551552
         },
         {
          "parameter": "Rideshare_Dist",
          "value": 2.5652941592400893e-23,
          "x": 145.67567567567568
         },
         {
          "parameter": "Rideshare_Dist",
          "value": 1.9221161884053115e-23,
          "x": 145.83583583583584
         },
         {
          "parameter": "Rideshare_Dist",
          "value": 1.438759503566037e-23,
          "x": 145.995995995996
         },
         {
          "parameter": "Rideshare_Dist",
          "value": 1.0758776105421463e-23,
          "x": 146.15615615615616
         },
         {
          "parameter": "Rideshare_Dist",
          "value": 8.03717862618228e-24,
          "x": 146.31631631631632
         },
         {
          "parameter": "Rideshare_Dist",
          "value": 5.9980550722853704e-24,
          "x": 146.47647647647648
         },
         {
          "parameter": "Rideshare_Dist",
          "value": 4.471810034348763e-24,
          "x": 146.63663663663664
         },
         {
          "parameter": "Rideshare_Dist",
          "value": 3.330598663482998e-24,
          "x": 146.7967967967968
         },
         {
          "parameter": "Rideshare_Dist",
          "value": 2.4781484150463973e-24,
          "x": 146.95695695695696
         },
         {
          "parameter": "Rideshare_Dist",
          "value": 1.8420370663584558e-24,
          "x": 147.11711711711712
         },
         {
          "parameter": "Rideshare_Dist",
          "value": 1.3678404825360939e-24,
          "x": 147.27727727727728
         },
         {
          "parameter": "Rideshare_Dist",
          "value": 1.0147021212531596e-24,
          "x": 147.43743743743744
         },
         {
          "parameter": "Rideshare_Dist",
          "value": 7.519824469025686e-25,
          "x": 147.5975975975976
         },
         {
          "parameter": "Rideshare_Dist",
          "value": 5.567277255681537e-25,
          "x": 147.75775775775776
         },
         {
          "parameter": "Rideshare_Dist",
          "value": 4.1175985420011275e-25,
          "x": 147.91791791791792
         },
         {
          "parameter": "Rideshare_Dist",
          "value": 3.042363834681758e-25,
          "x": 148.07807807807808
         },
         {
          "parameter": "Rideshare_Dist",
          "value": 2.24566147243572e-25,
          "x": 148.23823823823824
         },
         {
          "parameter": "Rideshare_Dist",
          "value": 1.6559354710670248e-25,
          "x": 148.3983983983984
         },
         {
          "parameter": "Rideshare_Dist",
          "value": 1.2198558290694263e-25,
          "x": 148.55855855855856
         },
         {
          "parameter": "Rideshare_Dist",
          "value": 8.977172521779345e-26,
          "x": 148.71871871871872
         },
         {
          "parameter": "Rideshare_Dist",
          "value": 6.599888512085402e-26,
          "x": 148.87887887887888
         },
         {
          "parameter": "Rideshare_Dist",
          "value": 4.84729647005543e-26,
          "x": 149.03903903903904
         },
         {
          "parameter": "Rideshare_Dist",
          "value": 3.5565466985470014e-26,
          "x": 149.1991991991992
         },
         {
          "parameter": "Rideshare_Dist",
          "value": 2.6068941109050916e-26,
          "x": 149.35935935935936
         },
         {
          "parameter": "Rideshare_Dist",
          "value": 1.90890450573148e-26,
          "x": 149.51951951951952
         },
         {
          "parameter": "Rideshare_Dist",
          "value": 1.3964035544803079e-26,
          "x": 149.67967967967968
         },
         {
          "parameter": "Rideshare_Dist",
          "value": 1.0204779207359057e-26,
          "x": 149.83983983983984
         },
         {
          "parameter": "Rideshare_Dist",
          "value": 7.450101649531812e-27,
          "x": 150
         },
         {
          "parameter": "Taxi_Dist",
          "value": 8.102027005431924e-06,
          "x": 4.094094094094094
         },
         {
          "parameter": "Taxi_Dist",
          "value": 8.181916574674627e-06,
          "x": 4.2542542542542545
         },
         {
          "parameter": "Taxi_Dist",
          "value": 8.256834780042025e-06,
          "x": 4.414414414414415
         },
         {
          "parameter": "Taxi_Dist",
          "value": 8.326867562985039e-06,
          "x": 4.574574574574575
         },
         {
          "parameter": "Taxi_Dist",
          "value": 8.39212050655513e-06,
          "x": 4.734734734734735
         },
         {
          "parameter": "Taxi_Dist",
          "value": 8.452717123073463e-06,
          "x": 4.894894894894895
         },
         {
          "parameter": "Taxi_Dist",
          "value": 8.508796971002602e-06,
          "x": 5.055055055055055
         },
         {
          "parameter": "Taxi_Dist",
          "value": 8.560513621631496e-06,
          "x": 5.215215215215215
         },
         {
          "parameter": "Taxi_Dist",
          "value": 8.608032498263562e-06,
          "x": 5.375375375375375
         },
         {
          "parameter": "Taxi_Dist",
          "value": 8.65152861242353e-06,
          "x": 5.535535535535535
         },
         {
          "parameter": "Taxi_Dist",
          "value": 8.691184223142594e-06,
          "x": 5.6956956956956954
         },
         {
          "parameter": "Taxi_Dist",
          "value": 8.72718644661822e-06,
          "x": 5.8558558558558556
         },
         {
          "parameter": "Taxi_Dist",
          "value": 8.759724844454022e-06,
          "x": 6.016016016016017
         },
         {
          "parameter": "Taxi_Dist",
          "value": 8.788989019249086e-06,
          "x": 6.1761761761761775
         },
         {
          "parameter": "Taxi_Dist",
          "value": 8.81516624651328e-06,
          "x": 6.336336336336338
         },
         {
          "parameter": "Taxi_Dist",
          "value": 8.838439171727924e-06,
          "x": 6.496496496496498
         },
         {
          "parameter": "Taxi_Dist",
          "value": 8.85898360084744e-06,
          "x": 6.656656656656658
         },
         {
          "parameter": "Taxi_Dist",
          "value": 8.876966411650039e-06,
          "x": 6.816816816816818
         },
         {
          "parameter": "Taxi_Dist",
          "value": 8.892543612102116e-06,
          "x": 6.976976976976978
         },
         {
          "parameter": "Taxi_Dist",
          "value": 8.905858570314685e-06,
          "x": 7.137137137137138
         },
         {
          "parameter": "Taxi_Dist",
          "value": 8.917040438758788e-06,
          "x": 7.297297297297298
         },
         {
          "parameter": "Taxi_Dist",
          "value": 8.926202793192807e-06,
          "x": 7.457457457457458
         },
         {
          "parameter": "Taxi_Dist",
          "value": 8.933442504264888e-06,
          "x": 7.6176176176176185
         },
         {
          "parameter": "Taxi_Dist",
          "value": 8.938838857019132e-06,
          "x": 7.777777777777779
         },
         {
          "parameter": "Taxi_Dist",
          "value": 8.94245293058892e-06,
          "x": 7.937937937937939
         },
         {
          "parameter": "Taxi_Dist",
          "value": 8.944327247242748e-06,
          "x": 8.098098098098099
         },
         {
          "parameter": "Taxi_Dist",
          "value": 8.94448569669654e-06,
          "x": 8.258258258258259
         },
         {
          "parameter": "Taxi_Dist",
          "value": 8.942933738263873e-06,
          "x": 8.418418418418419
         },
         {
          "parameter": "Taxi_Dist",
          "value": 8.939658880025316e-06,
          "x": 8.578578578578579
         },
         {
          "parameter": "Taxi_Dist",
          "value": 8.934631430803317e-06,
          "x": 8.73873873873874
         },
         {
          "parameter": "Taxi_Dist",
          "value": 8.927805517374897e-06,
          "x": 8.8988988988989
         },
         {
          "parameter": "Taxi_Dist",
          "value": 8.919120356083099e-06,
          "x": 9.05905905905906
         },
         {
          "parameter": "Taxi_Dist",
          "value": 8.908501764862868e-06,
          "x": 9.21921921921922
         },
         {
          "parameter": "Taxi_Dist",
          "value": 8.89586389871752e-06,
          "x": 9.37937937937938
         },
         {
          "parameter": "Taxi_Dist",
          "value": 8.881111188906833e-06,
          "x": 9.53953953953954
         },
         {
          "parameter": "Taxi_Dist",
          "value": 8.864140463571504e-06,
          "x": 9.6996996996997
         },
         {
          "parameter": "Taxi_Dist",
          "value": 8.84484322525379e-06,
          "x": 9.85985985985986
         },
         {
          "parameter": "Taxi_Dist",
          "value": 8.823108058807668e-06,
          "x": 10.02002002002002
         },
         {
          "parameter": "Taxi_Dist",
          "value": 8.798823141548148e-06,
          "x": 10.18018018018018
         },
         {
          "parameter": "Taxi_Dist",
          "value": 8.771878826187176e-06,
          "x": 10.34034034034034
         },
         {
          "parameter": "Taxi_Dist",
          "value": 8.742170266157803e-06,
          "x": 10.5005005005005
         },
         {
          "parameter": "Taxi_Dist",
          "value": 8.709600052347966e-06,
          "x": 10.66066066066066
         },
         {
          "parameter": "Taxi_Dist",
          "value": 8.674080830055823e-06,
          "x": 10.82082082082082
         },
         {
          "parameter": "Taxi_Dist",
          "value": 8.635537865138702e-06,
          "x": 10.98098098098098
         },
         {
          "parameter": "Taxi_Dist",
          "value": 8.593911528853443e-06,
          "x": 11.14114114114114
         },
         {
          "parameter": "Taxi_Dist",
          "value": 8.549159671766242e-06,
          "x": 11.3013013013013
         },
         {
          "parameter": "Taxi_Dist",
          "value": 8.501259858331305e-06,
          "x": 11.461461461461461
         },
         {
          "parameter": "Taxi_Dist",
          "value": 8.450211435280878e-06,
          "x": 11.621621621621621
         },
         {
          "parameter": "Taxi_Dist",
          "value": 8.396037408811963e-06,
          "x": 11.781781781781781
         },
         {
          "parameter": "Taxi_Dist",
          "value": 8.338786107671414e-06,
          "x": 11.941941941941941
         },
         {
          "parameter": "Taxi_Dist",
          "value": 8.278532611601837e-06,
          "x": 12.102102102102101
         },
         {
          "parameter": "Taxi_Dist",
          "value": 8.215379927184587e-06,
          "x": 12.262262262262261
         },
         {
          "parameter": "Taxi_Dist",
          "value": 8.149459895868791e-06,
          "x": 12.422422422422422
         },
         {
          "parameter": "Taxi_Dist",
          "value": 8.080933821872282e-06,
          "x": 12.582582582582582
         },
         {
          "parameter": "Taxi_Dist",
          "value": 8.009992810644294e-06,
          "x": 12.742742742742742
         },
         {
          "parameter": "Taxi_Dist",
          "value": 7.936857811654896e-06,
          "x": 12.902902902902902
         },
         {
          "parameter": "Taxi_Dist",
          "value": 7.86177936238472e-06,
          "x": 13.063063063063062
         },
         {
          "parameter": "Taxi_Dist",
          "value": 7.785037033494814e-06,
          "x": 13.223223223223222
         },
         {
          "parameter": "Taxi_Dist",
          "value": 7.706938578224685e-06,
          "x": 13.383383383383382
         },
         {
          "parameter": "Taxi_Dist",
          "value": 7.627818792063154e-06,
          "x": 13.543543543543542
         },
         {
          "parameter": "Taxi_Dist",
          "value": 7.548038091629194e-06,
          "x": 13.703703703703702
         },
         {
          "parameter": "Taxi_Dist",
          "value": 7.467980824458619e-06,
          "x": 13.863863863863862
         },
         {
          "parameter": "Taxi_Dist",
          "value": 7.388053323990067e-06,
          "x": 14.024024024024023
         },
         {
          "parameter": "Taxi_Dist",
          "value": 7.308681726455545e-06,
          "x": 14.184184184184183
         },
         {
          "parameter": "Taxi_Dist",
          "value": 7.230309568585329e-06,
          "x": 14.344344344344343
         },
         {
          "parameter": "Taxi_Dist",
          "value": 7.153395187015629e-06,
          "x": 14.504504504504503
         },
         {
          "parameter": "Taxi_Dist",
          "value": 7.078408942025714e-06,
          "x": 14.664664664664663
         },
         {
          "parameter": "Taxi_Dist",
          "value": 7.00583028971634e-06,
          "x": 14.824824824824823
         },
         {
          "parameter": "Taxi_Dist",
          "value": 6.936144727966242e-06,
          "x": 14.984984984984983
         },
         {
          "parameter": "Taxi_Dist",
          "value": 6.869840642461716e-06,
          "x": 15.145145145145143
         },
         {
          "parameter": "Taxi_Dist",
          "value": 6.80740607978516e-06,
          "x": 15.305305305305303
         },
         {
          "parameter": "Taxi_Dist",
          "value": 6.7493254749725935e-06,
          "x": 15.465465465465464
         },
         {
          "parameter": "Taxi_Dist",
          "value": 6.696076361111702e-06,
          "x": 15.625625625625624
         },
         {
          "parameter": "Taxi_Dist",
          "value": 6.648126088458139e-06,
          "x": 15.785785785785787
         },
         {
          "parameter": "Taxi_Dist",
          "value": 6.605928580207837e-06,
          "x": 15.945945945945947
         },
         {
          "parameter": "Taxi_Dist",
          "value": 6.569921151488547e-06,
          "x": 16.106106106106107
         },
         {
          "parameter": "Taxi_Dist",
          "value": 6.540521417338631e-06,
          "x": 16.266266266266268
         },
         {
          "parameter": "Taxi_Dist",
          "value": 6.518124314440649e-06,
          "x": 16.426426426426428
         },
         {
          "parameter": "Taxi_Dist",
          "value": 6.503099260188146e-06,
          "x": 16.586586586586588
         },
         {
          "parameter": "Taxi_Dist",
          "value": 6.4957874713048045e-06,
          "x": 16.746746746746748
         },
         {
          "parameter": "Taxi_Dist",
          "value": 6.496499462724359e-06,
          "x": 16.906906906906908
         },
         {
          "parameter": "Taxi_Dist",
          "value": 6.505512745797332e-06,
          "x": 17.067067067067068
         },
         {
          "parameter": "Taxi_Dist",
          "value": 6.523069743136543e-06,
          "x": 17.227227227227228
         },
         {
          "parameter": "Taxi_Dist",
          "value": 6.549375935568253e-06,
          "x": 17.38738738738739
         },
         {
          "parameter": "Taxi_Dist",
          "value": 6.584598254739418e-06,
          "x": 17.54754754754755
         },
         {
          "parameter": "Taxi_Dist",
          "value": 6.628863732964305e-06,
          "x": 17.70770770770771
         },
         {
          "parameter": "Taxi_Dist",
          "value": 6.682258419895282e-06,
          "x": 17.86786786786787
         },
         {
          "parameter": "Taxi_Dist",
          "value": 6.744826573592065e-06,
          "x": 18.02802802802803
         },
         {
          "parameter": "Taxi_Dist",
          "value": 6.816570131559668e-06,
          "x": 18.18818818818819
         },
         {
          "parameter": "Taxi_Dist",
          "value": 6.8974484653457065e-06,
          "x": 18.34834834834835
         },
         {
          "parameter": "Taxi_Dist",
          "value": 6.987378420349317e-06,
          "x": 18.50850850850851
         },
         {
          "parameter": "Taxi_Dist",
          "value": 7.086234640613446e-06,
          "x": 18.66866866866867
         },
         {
          "parameter": "Taxi_Dist",
          "value": 7.1938501765645055e-06,
          "x": 18.82882882882883
         },
         {
          "parameter": "Taxi_Dist",
          "value": 7.3100173719430305e-06,
          "x": 18.98898898898899
         },
         {
          "parameter": "Taxi_Dist",
          "value": 7.434489024550005e-06,
          "x": 19.14914914914915
         },
         {
          "parameter": "Taxi_Dist",
          "value": 7.566979813927971e-06,
          "x": 19.30930930930931
         },
         {
          "parameter": "Taxi_Dist",
          "value": 7.707167987716784e-06,
          "x": 19.46946946946947
         },
         {
          "parameter": "Taxi_Dist",
          "value": 7.854697297181721e-06,
          "x": 19.62962962962963
         },
         {
          "parameter": "Taxi_Dist",
          "value": 8.009179171317413e-06,
          "x": 19.78978978978979
         },
         {
          "parameter": "Taxi_Dist",
          "value": 8.170195117995269e-06,
          "x": 19.94994994994995
         },
         {
          "parameter": "Taxi_Dist",
          "value": 8.337299339853748e-06,
          "x": 20.11011011011011
         },
         {
          "parameter": "Taxi_Dist",
          "value": 8.510021552040382e-06,
          "x": 20.27027027027027
         },
         {
          "parameter": "Taxi_Dist",
          "value": 8.687869988510218e-06,
          "x": 20.43043043043043
         },
         {
          "parameter": "Taxi_Dist",
          "value": 8.870334583377066e-06,
          "x": 20.59059059059059
         },
         {
          "parameter": "Taxi_Dist",
          "value": 9.056890313810868e-06,
          "x": 20.75075075075075
         },
         {
          "parameter": "Taxi_Dist",
          "value": 9.247000691185597e-06,
          "x": 20.91091091091091
         },
         {
          "parameter": "Taxi_Dist",
          "value": 9.440121387618118e-06,
          "x": 21.07107107107107
         },
         {
          "parameter": "Taxi_Dist",
          "value": 9.635703985709071e-06,
          "x": 21.23123123123123
         },
         {
          "parameter": "Taxi_Dist",
          "value": 9.833199840213466e-06,
          "x": 21.39139139139139
         },
         {
          "parameter": "Taxi_Dist",
          "value": 1.00320640415438e-05,
          "x": 21.55155155155155
         },
         {
          "parameter": "Taxi_Dist",
          "value": 1.0231759472454651e-05,
          "x": 21.71171171171171
         },
         {
          "parameter": "Taxi_Dist",
          "value": 1.0431760950989765e-05,
          "x": 21.87187187187187
         },
         {
          "parameter": "Taxi_Dist",
          "value": 1.0631559454806795e-05,
          "x": 22.032032032032035
         },
         {
          "parameter": "Taxi_Dist",
          "value": 1.0830666424348065e-05,
          "x": 22.192192192192195
         },
         {
          "parameter": "Taxi_Dist",
          "value": 1.1028618145018868e-05,
          "x": 22.352352352352355
         },
         {
          "parameter": "Taxi_Dist",
          "value": 1.122498021158829e-05,
          "x": 22.512512512512515
         },
         {
          "parameter": "Taxi_Dist",
          "value": 1.1419352081466751e-05,
          "x": 22.672672672672675
         },
         {
          "parameter": "Taxi_Dist",
          "value": 1.1611371727365473e-05,
          "x": 22.832832832832835
         },
         {
          "parameter": "Taxi_Dist",
          "value": 1.1800720404135696e-05,
          "x": 22.992992992992995
         },
         {
          "parameter": "Taxi_Dist",
          "value": 1.1987127549352364e-05,
          "x": 23.153153153153156
         },
         {
          "parameter": "Taxi_Dist",
          "value": 1.217037584248344e-05,
          "x": 23.313313313313316
         },
         {
          "parameter": "Taxi_Dist",
          "value": 1.2350306453312115e-05,
          "x": 23.473473473473476
         },
         {
          "parameter": "Taxi_Dist",
          "value": 1.2526824516695987e-05,
          "x": 23.633633633633636
         },
         {
          "parameter": "Taxi_Dist",
          "value": 1.2699904877802548e-05,
          "x": 23.793793793793796
         },
         {
          "parameter": "Taxi_Dist",
          "value": 1.2869598159702639e-05,
          "x": 23.953953953953956
         },
         {
          "parameter": "Taxi_Dist",
          "value": 1.3036037213686395e-05,
          "x": 24.114114114114116
         },
         {
          "parameter": "Taxi_Dist",
          "value": 1.3199444021947374e-05,
          "x": 24.274274274274276
         },
         {
          "parameter": "Taxi_Dist",
          "value": 1.3360137132418794e-05,
          "x": 24.434434434434436
         },
         {
          "parameter": "Taxi_Dist",
          "value": 1.3518539716605956e-05,
          "x": 24.594594594594597
         },
         {
          "parameter": "Taxi_Dist",
          "value": 1.3675188353306071e-05,
          "x": 24.754754754754757
         },
         {
          "parameter": "Taxi_Dist",
          "value": 1.3830742654209625e-05,
          "x": 24.914914914914917
         },
         {
          "parameter": "Taxi_Dist",
          "value": 1.3985995861606775e-05,
          "x": 25.075075075075077
         },
         {
          "parameter": "Taxi_Dist",
          "value": 1.4141886563847757e-05,
          "x": 25.235235235235237
         },
         {
          "parameter": "Taxi_Dist",
          "value": 1.42995116909006e-05,
          "x": 25.395395395395397
         },
         {
          "parameter": "Taxi_Dist",
          "value": 1.4460140970381084e-05,
          "x": 25.555555555555557
         },
         {
          "parameter": "Taxi_Dist",
          "value": 1.4625233043867071e-05,
          "x": 25.715715715715717
         },
         {
          "parameter": "Taxi_Dist",
          "value": 1.4796453464215205e-05,
          "x": 25.875875875875877
         },
         {
          "parameter": "Taxi_Dist",
          "value": 1.4975694817030413e-05,
          "x": 26.036036036036037
         },
         {
          "parameter": "Taxi_Dist",
          "value": 1.5165099233447105e-05,
          "x": 26.196196196196198
         },
         {
          "parameter": "Taxi_Dist",
          "value": 1.5367083587005932e-05,
          "x": 26.356356356356358
         },
         {
          "parameter": "Taxi_Dist",
          "value": 1.558436769467823e-05,
          "x": 26.516516516516518
         },
         {
          "parameter": "Taxi_Dist",
          "value": 1.5820005871013525e-05,
          "x": 26.676676676676678
         },
         {
          "parameter": "Taxi_Dist",
          "value": 1.6077422214957727e-05,
          "x": 26.836836836836838
         },
         {
          "parameter": "Taxi_Dist",
          "value": 1.6360450041081905e-05,
          "x": 26.996996996996998
         },
         {
          "parameter": "Taxi_Dist",
          "value": 1.667337590071993e-05,
          "x": 27.157157157157158
         },
         {
          "parameter": "Taxi_Dist",
          "value": 1.7020988673754925e-05,
          "x": 27.31731731731732
         },
         {
          "parameter": "Taxi_Dist",
          "value": 1.7408634248403228e-05,
          "x": 27.47747747747748
         },
         {
          "parameter": "Taxi_Dist",
          "value": 1.7842276344165005e-05,
          "x": 27.63763763763764
         },
         {
          "parameter": "Taxi_Dist",
          "value": 1.8328564071949297e-05,
          "x": 27.7977977977978
         },
         {
          "parameter": "Taxi_Dist",
          "value": 1.887490686499306e-05,
          "x": 27.95795795795796
         },
         {
          "parameter": "Taxi_Dist",
          "value": 1.9489557454287666e-05,
          "x": 28.11811811811812
         },
         {
          "parameter": "Taxi_Dist",
          "value": 2.0181703602452738e-05,
          "x": 28.27827827827828
         },
         {
          "parameter": "Taxi_Dist",
          "value": 2.0961569349947394e-05,
          "x": 28.43843843843844
         },
         {
          "parameter": "Taxi_Dist",
          "value": 2.184052656671218e-05,
          "x": 28.5985985985986
         },
         {
          "parameter": "Taxi_Dist",
          "value": 2.2831217640250696e-05,
          "x": 28.75875875875876
         },
         {
          "parameter": "Taxi_Dist",
          "value": 2.3947690167176542e-05,
          "x": 28.91891891891892
         },
         {
          "parameter": "Taxi_Dist",
          "value": 2.5205544548686532e-05,
          "x": 29.07907907907908
         },
         {
          "parameter": "Taxi_Dist",
          "value": 2.6622095420513498e-05,
          "x": 29.23923923923924
         },
         {
          "parameter": "Taxi_Dist",
          "value": 2.821654787382287e-05,
          "x": 29.3993993993994
         },
         {
          "parameter": "Taxi_Dist",
          "value": 3.0010189444336238e-05,
          "x": 29.55955955955956
         },
         {
          "parameter": "Taxi_Dist",
          "value": 3.2026598861695586e-05,
          "x": 29.71971971971972
         },
         {
          "parameter": "Taxi_Dist",
          "value": 3.429187255866384e-05,
          "x": 29.87987987987988
         },
         {
          "parameter": "Taxi_Dist",
          "value": 3.6834869939053445e-05,
          "x": 30.04004004004004
         },
         {
          "parameter": "Taxi_Dist",
          "value": 3.9687478393081444e-05,
          "x": 30.2002002002002
         },
         {
          "parameter": "Taxi_Dist",
          "value": 4.288489902791433e-05,
          "x": 30.36036036036036
         },
         {
          "parameter": "Taxi_Dist",
          "value": 4.6465954048176476e-05,
          "x": 30.52052052052052
         },
         {
          "parameter": "Taxi_Dist",
          "value": 5.0473416674805e-05,
          "x": 30.68068068068068
         },
         {
          "parameter": "Taxi_Dist",
          "value": 5.495436442947729e-05,
          "x": 30.84084084084084
         },
         {
          "parameter": "Taxi_Dist",
          "value": 5.9960556534528615e-05,
          "x": 31.001001001001
         },
         {
          "parameter": "Taxi_Dist",
          "value": 6.554883608344044e-05,
          "x": 31.16116116116116
         },
         {
          "parameter": "Taxi_Dist",
          "value": 7.178155752328382e-05,
          "x": 31.32132132132132
         },
         {
          "parameter": "Taxi_Dist",
          "value": 7.87270398566276e-05,
          "x": 31.48148148148148
         },
         {
          "parameter": "Taxi_Dist",
          "value": 8.64600458151671e-05,
          "x": 31.64164164164164
         },
         {
          "parameter": "Taxi_Dist",
          "value": 9.50622870795591e-05,
          "x": 31.8018018018018
         },
         {
          "parameter": "Taxi_Dist",
          "value": 0.00010462295541866194,
          "x": 31.96196196196196
         },
         {
          "parameter": "Taxi_Dist",
          "value": 0.00011523927939574971,
          "x": 32.12212212212212
         },
         {
          "parameter": "Taxi_Dist",
          "value": 0.0001270171060386324,
          "x": 32.28228228228228
         },
         {
          "parameter": "Taxi_Dist",
          "value": 0.00014007150659452563,
          "x": 32.44244244244244
         },
         {
          "parameter": "Taxi_Dist",
          "value": 0.0001545274051888142,
          "x": 32.6026026026026
         },
         {
          "parameter": "Taxi_Dist",
          "value": 0.00017052022887962222,
          "x": 32.76276276276276
         },
         {
          "parameter": "Taxi_Dist",
          "value": 0.00018819657724774544,
          "x": 32.92292292292292
         },
         {
          "parameter": "Taxi_Dist",
          "value": 0.00020771490928481922,
          "x": 33.08308308308308
         },
         {
          "parameter": "Taxi_Dist",
          "value": 0.00022924624494266135,
          "x": 33.24324324324324
         },
         {
          "parameter": "Taxi_Dist",
          "value": 0.00025297487828514285,
          "x": 33.4034034034034
         },
         {
          "parameter": "Taxi_Dist",
          "value": 0.000279099098742633,
          "x": 33.56356356356356
         },
         {
          "parameter": "Taxi_Dist",
          "value": 0.00030783191651044187,
          "x": 33.72372372372372
         },
         {
          "parameter": "Taxi_Dist",
          "value": 0.0003394017876596624,
          "x": 33.88388388388388
         },
         {
          "parameter": "Taxi_Dist",
          "value": 0.00037405333404472423,
          "x": 34.04404404404404
         },
         {
          "parameter": "Taxi_Dist",
          "value": 0.0004120480526006246,
          "x": 34.2042042042042
         },
         {
          "parameter": "Taxi_Dist",
          "value": 0.0004536650081285836,
          "x": 34.36436436436436
         },
         {
          "parameter": "Taxi_Dist",
          "value": 0.0004992015031765353,
          "x": 34.52452452452452
         },
         {
          "parameter": "Taxi_Dist",
          "value": 0.0005489737181356176,
          "x": 34.68468468468468
         },
         {
          "parameter": "Taxi_Dist",
          "value": 0.0006033173142015202,
          "x": 34.84484484484484
         },
         {
          "parameter": "Taxi_Dist",
          "value": 0.0006625879913960552,
          "x": 35.005005005005
         },
         {
          "parameter": "Taxi_Dist",
          "value": 0.0007271619934163296,
          "x": 35.16516516516516
         },
         {
          "parameter": "Taxi_Dist",
          "value": 0.0007974365506830774,
          "x": 35.32532532532532
         },
         {
          "parameter": "Taxi_Dist",
          "value": 0.0008738302526030706,
          "x": 35.48548548548548
         },
         {
          "parameter": "Taxi_Dist",
          "value": 0.0009567833397505427,
          "x": 35.645645645645644
         },
         {
          "parameter": "Taxi_Dist",
          "value": 0.0010467579064162068,
          "x": 35.805805805805804
         },
         {
          "parameter": "Taxi_Dist",
          "value": 0.0011442380037776556,
          "x": 35.965965965965964
         },
         {
          "parameter": "Taxi_Dist",
          "value": 0.0012497296338185627,
          "x": 36.126126126126124
         },
         {
          "parameter": "Taxi_Dist",
          "value": 0.001363760624073638,
          "x": 36.286286286286284
         },
         {
          "parameter": "Taxi_Dist",
          "value": 0.0014868803733088694,
          "x": 36.446446446446444
         },
         {
          "parameter": "Taxi_Dist",
          "value": 0.0016196594583683611,
          "x": 36.606606606606604
         },
         {
          "parameter": "Taxi_Dist",
          "value": 0.0017626890926365848,
          "x": 36.766766766766764
         },
         {
          "parameter": "Taxi_Dist",
          "value": 0.0019165804268838273,
          "x": 36.926926926926924
         },
         {
          "parameter": "Taxi_Dist",
          "value": 0.002081963683687315,
          "x": 37.087087087087085
         },
         {
          "parameter": "Taxi_Dist",
          "value": 0.0022594871171558893,
          "x": 37.247247247247245
         },
         {
          "parameter": "Taxi_Dist",
          "value": 0.002449815790334564,
          "x": 37.407407407407405
         },
         {
          "parameter": "Taxi_Dist",
          "value": 0.0026536301634300058,
          "x": 37.567567567567565
         },
         {
          "parameter": "Taxi_Dist",
          "value": 0.002871624486878974,
          "x": 37.727727727727725
         },
         {
          "parameter": "Taxi_Dist",
          "value": 0.0031045049942797598,
          "x": 37.887887887887885
         },
         {
          "parameter": "Taxi_Dist",
          "value": 0.003352987891320445,
          "x": 38.048048048048045
         },
         {
          "parameter": "Taxi_Dist",
          "value": 0.0036177971380637985,
          "x": 38.208208208208205
         },
         {
          "parameter": "Taxi_Dist",
          "value": 0.0038996620232837503,
          "x": 38.368368368368365
         },
         {
          "parameter": "Taxi_Dist",
          "value": 0.004199314530987134,
          "x": 38.528528528528525
         },
         {
          "parameter": "Taxi_Dist",
          "value": 0.004517486500789085,
          "x": 38.688688688688686
         },
         {
          "parameter": "Taxi_Dist",
          "value": 0.00485490658543358,
          "x": 38.848848848848846
         },
         {
          "parameter": "Taxi_Dist",
          "value": 0.005212297010452627,
          "x": 39.009009009009006
         },
         {
          "parameter": "Taxi_Dist",
          "value": 0.0055903701427263315,
          "x": 39.169169169169166
         },
         {
          "parameter": "Taxi_Dist",
          "value": 0.0059898248765298395,
          "x": 39.329329329329326
         },
         {
          "parameter": "Taxi_Dist",
          "value": 0.006411342847518931,
          "x": 39.489489489489486
         },
         {
          "parameter": "Taxi_Dist",
          "value": 0.006855584486997067,
          "x": 39.649649649649646
         },
         {
          "parameter": "Taxi_Dist",
          "value": 0.007323184930708686,
          "x": 39.809809809809806
         },
         {
          "parameter": "Taxi_Dist",
          "value": 0.007814749798299702,
          "x": 39.969969969969966
         },
         {
          "parameter": "Taxi_Dist",
          "value": 0.008330850861457295,
          "x": 40.13013013013013
         },
         {
          "parameter": "Taxi_Dist",
          "value": 0.008872021620570323,
          "x": 40.29029029029029
         },
         {
          "parameter": "Taxi_Dist",
          "value": 0.009438752811520809,
          "x": 40.45045045045045
         },
         {
          "parameter": "Taxi_Dist",
          "value": 0.0100314878659047,
          "x": 40.61061061061061
         },
         {
          "parameter": "Taxi_Dist",
          "value": 0.010650618349570344,
          "x": 40.77077077077077
         },
         {
          "parameter": "Taxi_Dist",
          "value": 0.011296479405834288,
          "x": 40.93093093093093
         },
         {
          "parameter": "Taxi_Dist",
          "value": 0.01196934523107054,
          "x": 41.09109109109109
         },
         {
          "parameter": "Taxi_Dist",
          "value": 0.012669424611549952,
          "x": 41.25125125125125
         },
         {
          "parameter": "Taxi_Dist",
          "value": 0.01339685655141614,
          "x": 41.411411411411414
         },
         {
          "parameter": "Taxi_Dist",
          "value": 0.014151706022507267,
          "x": 41.571571571571575
         },
         {
          "parameter": "Taxi_Dist",
          "value": 0.014933959867352036,
          "x": 41.731731731731735
         },
         {
          "parameter": "Taxi_Dist",
          "value": 0.015743522887070142,
          "x": 41.891891891891895
         },
         {
          "parameter": "Taxi_Dist",
          "value": 0.016580214146083797,
          "x": 42.052052052052055
         },
         {
          "parameter": "Taxi_Dist",
          "value": 0.01744376352548062,
          "x": 42.212212212212215
         },
         {
          "parameter": "Taxi_Dist",
          "value": 0.01833380855655614,
          "x": 42.372372372372375
         },
         {
          "parameter": "Taxi_Dist",
          "value": 0.019249891565498823,
          "x": 42.532532532532535
         },
         {
          "parameter": "Taxi_Dist",
          "value": 0.020191457159354366,
          "x": 42.692692692692695
         },
         {
          "parameter": "Taxi_Dist",
          "value": 0.021157850082320517,
          "x": 42.852852852852855
         },
         {
          "parameter": "Taxi_Dist",
          "value": 0.022148313470078094,
          "x": 43.013013013013015
         },
         {
          "parameter": "Taxi_Dist",
          "value": 0.023161987528258227,
          "x": 43.173173173173176
         },
         {
          "parameter": "Taxi_Dist",
          "value": 0.02419790865928782,
          "x": 43.333333333333336
         },
         {
          "parameter": "Taxi_Dist",
          "value": 0.02525500905975177,
          "x": 43.493493493493496
         },
         {
          "parameter": "Taxi_Dist",
          "value": 0.02633211680806875,
          "x": 43.653653653653656
         },
         {
          "parameter": "Taxi_Dist",
          "value": 0.027427956459711224,
          "x": 43.813813813813816
         },
         {
          "parameter": "Taxi_Dist",
          "value": 0.02854115016442572,
          "x": 43.973973973973976
         },
         {
          "parameter": "Taxi_Dist",
          "value": 0.029670219316937647,
          "x": 44.134134134134136
         },
         {
          "parameter": "Taxi_Dist",
          "value": 0.03081358674947873,
          "x": 44.294294294294296
         },
         {
          "parameter": "Taxi_Dist",
          "value": 0.03196957947117558,
          "x": 44.454454454454456
         },
         {
          "parameter": "Taxi_Dist",
          "value": 0.03313643195590195,
          "x": 44.61461461461462
         },
         {
          "parameter": "Taxi_Dist",
          "value": 0.034312289976654246,
          "x": 44.77477477477478
         },
         {
          "parameter": "Taxi_Dist",
          "value": 0.03549521498088421,
          "x": 44.93493493493494
         },
         {
          "parameter": "Taxi_Dist",
          "value": 0.036683188997537156,
          "x": 45.0950950950951
         },
         {
          "parameter": "Taxi_Dist",
          "value": 0.03787412006283252,
          "x": 45.25525525525526
         },
         {
          "parameter": "Taxi_Dist",
          "value": 0.03906584814810855,
          "x": 45.41541541541542
         },
         {
          "parameter": "Taxi_Dist",
          "value": 0.04025615156937013,
          "x": 45.57557557557558
         },
         {
          "parameter": "Taxi_Dist",
          "value": 0.04144275385455115,
          "x": 45.73573573573574
         },
         {
          "parameter": "Taxi_Dist",
          "value": 0.04262333104096461,
          "x": 45.8958958958959
         },
         {
          "parameter": "Taxi_Dist",
          "value": 0.0437955193719962,
          "x": 46.05605605605606
         },
         {
          "parameter": "Taxi_Dist",
          "value": 0.04495692335882273,
          "x": 46.21621621621622
         },
         {
          "parameter": "Taxi_Dist",
          "value": 0.04610512416984153,
          "x": 46.37637637637638
         },
         {
          "parameter": "Taxi_Dist",
          "value": 0.04723768830760738,
          "x": 46.53653653653654
         },
         {
          "parameter": "Taxi_Dist",
          "value": 0.04835217653041165,
          "x": 46.6966966966967
         },
         {
          "parameter": "Taxi_Dist",
          "value": 0.04944615297323534,
          "x": 46.85685685685686
         },
         {
          "parameter": "Taxi_Dist",
          "value": 0.05051719442068693,
          "x": 47.01701701701702
         },
         {
          "parameter": "Taxi_Dist",
          "value": 0.05156289968271456,
          "x": 47.17717717717718
         },
         {
          "parameter": "Taxi_Dist",
          "value": 0.052580899022385115,
          "x": 47.33733733733734
         },
         {
          "parameter": "Taxi_Dist",
          "value": 0.05356886358386784,
          "x": 47.4974974974975
         },
         {
          "parameter": "Taxi_Dist",
          "value": 0.05452451476795738,
          "x": 47.65765765765766
         },
         {
          "parameter": "Taxi_Dist",
          "value": 0.055445633502038426,
          "x": 47.81781781781782
         },
         {
          "parameter": "Taxi_Dist",
          "value": 0.056330069351339544,
          "x": 47.97797797797798
         },
         {
          "parameter": "Taxi_Dist",
          "value": 0.057175749418651424,
          "x": 48.13813813813814
         },
         {
          "parameter": "Taxi_Dist",
          "value": 0.05798068698040057,
          "x": 48.2982982982983
         },
         {
          "parameter": "Taxi_Dist",
          "value": 0.05874298980807395,
          "x": 48.45845845845846
         },
         {
          "parameter": "Taxi_Dist",
          "value": 0.05946086812547682,
          "x": 48.61861861861862
         },
         {
          "parameter": "Taxi_Dist",
          "value": 0.06013264215417177,
          "x": 48.77877877877878
         },
         {
          "parameter": "Taxi_Dist",
          "value": 0.06075674920167895,
          "x": 48.93893893893894
         },
         {
          "parameter": "Taxi_Dist",
          "value": 0.0613317502496055,
          "x": 49.0990990990991
         },
         {
          "parameter": "Taxi_Dist",
          "value": 0.061856336001794444,
          "x": 49.25925925925926
         },
         {
          "parameter": "Taxi_Dist",
          "value": 0.06232933235582468,
          "x": 49.41941941941942
         },
         {
          "parameter": "Taxi_Dist",
          "value": 0.06274970526472873,
          "x": 49.57957957957958
         },
         {
          "parameter": "Taxi_Dist",
          "value": 0.06311656495959576,
          "x": 49.73973973973974
         },
         {
          "parameter": "Taxi_Dist",
          "value": 0.06342916950776864,
          "x": 49.8998998998999
         },
         {
          "parameter": "Taxi_Dist",
          "value": 0.06368692768559099,
          "x": 50.06006006006006
         },
         {
          "parameter": "Taxi_Dist",
          "value": 0.06388940114908064,
          "x": 50.22022022022022
         },
         {
          "parameter": "Taxi_Dist",
          "value": 0.06403630589046329,
          "x": 50.38038038038038
         },
         {
          "parameter": "Taxi_Dist",
          "value": 0.06412751297315863,
          "x": 50.54054054054054
         },
         {
          "parameter": "Taxi_Dist",
          "value": 0.064163048542529,
          "x": 50.7007007007007
         },
         {
          "parameter": "Taxi_Dist",
          "value": 0.06414309311444137,
          "x": 50.86086086086086
         },
         {
          "parameter": "Taxi_Dist",
          "value": 0.06406798014841539,
          "x": 51.02102102102102
         },
         {
          "parameter": "Taxi_Dist",
          "value": 0.0639381939167925,
          "x": 51.18118118118118
         },
         {
          "parameter": "Taxi_Dist",
          "value": 0.06375436668592636,
          "x": 51.34134134134134
         },
         {
          "parameter": "Taxi_Dist",
          "value": 0.06351727522982101,
          "x": 51.5015015015015
         },
         {
          "parameter": "Taxi_Dist",
          "value": 0.0632278367008952,
          "x": 51.66166166166166
         },
         {
          "parameter": "Taxi_Dist",
          "value": 0.06288710388659129,
          "x": 51.82182182182182
         },
         {
          "parameter": "Taxi_Dist",
          "value": 0.06249625988434106,
          "x": 51.98198198198198
         },
         {
          "parameter": "Taxi_Dist",
          "value": 0.062056612230918684,
          "x": 52.14214214214214
         },
         {
          "parameter": "Taxi_Dist",
          "value": 0.06156958652542117,
          "x": 52.3023023023023
         },
         {
          "parameter": "Taxi_Dist",
          "value": 0.06103671958799611,
          "x": 52.46246246246246
         },
         {
          "parameter": "Taxi_Dist",
          "value": 0.060459652198960816,
          "x": 52.62262262262262
         },
         {
          "parameter": "Taxi_Dist",
          "value": 0.05984012146510847,
          "x": 52.78278278278278
         },
         {
          "parameter": "Taxi_Dist",
          "value": 0.05917995286176121,
          "x": 52.94294294294294
         },
         {
          "parameter": "Taxi_Dist",
          "value": 0.0584810520004939,
          "x": 53.1031031031031
         },
         {
          "parameter": "Taxi_Dist",
          "value": 0.057745396173413045,
          "x": 53.26326326326326
         },
         {
          "parameter": "Taxi_Dist",
          "value": 0.05697502572542675,
          "x": 53.42342342342342
         },
         {
          "parameter": "Taxi_Dist",
          "value": 0.05617203530608643,
          "x": 53.58358358358358
         },
         {
          "parameter": "Taxi_Dist",
          "value": 0.05533856505232681,
          "x": 53.74374374374374
         },
         {
          "parameter": "Taxi_Dist",
          "value": 0.05447679175278449,
          "x": 53.9039039039039
         },
         {
          "parameter": "Taxi_Dist",
          "value": 0.053588920043352244,
          "x": 54.06406406406407
         },
         {
          "parameter": "Taxi_Dist",
          "value": 0.05267717368224346,
          "x": 54.22422422422423
         },
         {
          "parameter": "Taxi_Dist",
          "value": 0.05174378695111835,
          "x": 54.38438438438439
         },
         {
          "parameter": "Taxi_Dist",
          "value": 0.05079099622678569,
          "x": 54.54454454454455
         },
         {
          "parameter": "Taxi_Dist",
          "value": 0.04982103176566516,
          "x": 54.70470470470471
         },
         {
          "parameter": "Taxi_Dist",
          "value": 0.04883610974060786,
          "x": 54.86486486486487
         },
         {
          "parameter": "Taxi_Dist",
          "value": 0.04783842456685196,
          "x": 55.02502502502503
         },
         {
          "parameter": "Taxi_Dist",
          "value": 0.046830141550874456,
          "x": 55.18518518518519
         },
         {
          "parameter": "Taxi_Dist",
          "value": 0.04581338989271835,
          "x": 55.34534534534535
         },
         {
          "parameter": "Taxi_Dist",
          "value": 0.04479025606906021,
          "x": 55.50550550550551
         },
         {
          "parameter": "Taxi_Dist",
          "value": 0.04376277762087555,
          "x": 55.66566566566567
         },
         {
          "parameter": "Taxi_Dist",
          "value": 0.042732937366087,
          "x": 55.82582582582583
         },
         {
          "parameter": "Taxi_Dist",
          "value": 0.04170265805407893,
          "x": 55.98598598598599
         },
         {
          "parameter": "Taxi_Dist",
          "value": 0.04067379747546577,
          "x": 56.14614614614615
         },
         {
          "parameter": "Taxi_Dist",
          "value": 0.039648144037039514,
          "x": 56.30630630630631
         },
         {
          "parameter": "Taxi_Dist",
          "value": 0.0386274128084231,
          "x": 56.46646646646647
         },
         {
          "parameter": "Taxi_Dist",
          "value": 0.037613242043652316,
          "x": 56.62662662662663
         },
         {
          "parameter": "Taxi_Dist",
          "value": 0.03660719017772109,
          "x": 56.78678678678679
         },
         {
          "parameter": "Taxi_Dist",
          "value": 0.03561073329507957,
          "x": 56.94694694694695
         },
         {
          "parameter": "Taxi_Dist",
          "value": 0.03462526306418856,
          "x": 57.10710710710711
         },
         {
          "parameter": "Taxi_Dist",
          "value": 0.03365208512953032,
          "x": 57.26726726726727
         },
         {
          "parameter": "Taxi_Dist",
          "value": 0.032692417949965684,
          "x": 57.42742742742743
         },
         {
          "parameter": "Taxi_Dist",
          "value": 0.031747392070022626,
          "x": 57.58758758758759
         },
         {
          "parameter": "Taxi_Dist",
          "value": 0.030818049808616698,
          "x": 57.74774774774775
         },
         {
          "parameter": "Taxi_Dist",
          "value": 0.0299053453478395,
          "x": 57.90790790790791
         },
         {
          "parameter": "Taxi_Dist",
          "value": 0.029010145202814218,
          "x": 58.06806806806807
         },
         {
          "parameter": "Taxi_Dist",
          "value": 0.028133229052210246,
          "x": 58.22822822822823
         },
         {
          "parameter": "Taxi_Dist",
          "value": 0.02727529090782822,
          "x": 58.38838838838839
         },
         {
          "parameter": "Taxi_Dist",
          "value": 0.02643694060070919,
          "x": 58.54854854854855
         },
         {
          "parameter": "Taxi_Dist",
          "value": 0.025618705560484175,
          "x": 58.70870870870871
         },
         {
          "parameter": "Taxi_Dist",
          "value": 0.024821032864153332,
          "x": 58.86886886886887
         },
         {
          "parameter": "Taxi_Dist",
          "value": 0.02404429153015722,
          "x": 59.02902902902903
         },
         {
          "parameter": "Taxi_Dist",
          "value": 0.02328877503347002,
          "x": 59.18918918918919
         },
         {
          "parameter": "Taxi_Dist",
          "value": 0.02255470401748987,
          "x": 59.34934934934935
         },
         {
          "parameter": "Taxi_Dist",
          "value": 0.02184222917871305,
          "x": 59.50950950950951
         },
         {
          "parameter": "Taxi_Dist",
          "value": 0.021151434300545707,
          "x": 59.66966966966967
         },
         {
          "parameter": "Taxi_Dist",
          "value": 0.020482339413112078,
          "x": 59.82982982982983
         },
         {
          "parameter": "Taxi_Dist",
          "value": 0.01983490405654742,
          "x": 59.98998998998999
         },
         {
          "parameter": "Taxi_Dist",
          "value": 0.01920903062600652,
          "x": 60.150150150150154
         },
         {
          "parameter": "Taxi_Dist",
          "value": 0.01860456777745516,
          "x": 60.310310310310314
         },
         {
          "parameter": "Taxi_Dist",
          "value": 0.018021313874232555,
          "x": 60.470470470470474
         },
         {
          "parameter": "Taxi_Dist",
          "value": 0.01745902045536057,
          "x": 60.630630630630634
         },
         {
          "parameter": "Taxi_Dist",
          "value": 0.016917395707620544,
          "x": 60.790790790790794
         },
         {
          "parameter": "Taxi_Dist",
          "value": 0.016396107924505715,
          "x": 60.950950950950954
         },
         {
          "parameter": "Taxi_Dist",
          "value": 0.015894788936275477,
          "x": 61.111111111111114
         },
         {
          "parameter": "Taxi_Dist",
          "value": 0.01541303749647751,
          "x": 61.271271271271274
         },
         {
          "parameter": "Taxi_Dist",
          "value": 0.014950422611453592,
          "x": 61.431431431431434
         },
         {
          "parameter": "Taxi_Dist",
          "value": 0.014506486800495032,
          "x": 61.591591591591595
         },
         {
          "parameter": "Taxi_Dist",
          "value": 0.014080749275458283,
          "x": 61.751751751751755
         },
         {
          "parameter": "Taxi_Dist",
          "value": 0.013672709029780801,
          "x": 61.911911911911915
         },
         {
          "parameter": "Taxi_Dist",
          "value": 0.013281847827945153,
          "x": 62.072072072072075
         },
         {
          "parameter": "Taxi_Dist",
          "value": 0.01290763308752221,
          "x": 62.232232232232235
         },
         {
          "parameter": "Taxi_Dist",
          "value": 0.012549520646974989,
          "x": 62.392392392392395
         },
         {
          "parameter": "Taxi_Dist",
          "value": 0.012206957413419718,
          "x": 62.552552552552555
         },
         {
          "parameter": "Taxi_Dist",
          "value": 0.011879383885518069,
          "x": 62.712712712712715
         },
         {
          "parameter": "Taxi_Dist",
          "value": 0.01156623654761005,
          "x": 62.872872872872875
         },
         {
          "parameter": "Taxi_Dist",
          "value": 0.011266950132088619,
          "x": 63.033033033033036
         },
         {
          "parameter": "Taxi_Dist",
          "value": 0.010980959747865048,
          "x": 63.193193193193196
         },
         {
          "parameter": "Taxi_Dist",
          "value": 0.010707702873575208,
          "x": 63.353353353353356
         },
         {
          "parameter": "Taxi_Dist",
          "value": 0.0104466212149313,
          "x": 63.513513513513516
         },
         {
          "parameter": "Taxi_Dist",
          "value": 0.010197162426331995,
          "x": 63.673673673673676
         },
         {
          "parameter": "Taxi_Dist",
          "value": 0.009958781697504441,
          "x": 63.833833833833836
         },
         {
          "parameter": "Taxi_Dist",
          "value": 0.009730943206566383,
          "x": 63.993993993993996
         },
         {
          "parameter": "Taxi_Dist",
          "value": 0.00951312144146415,
          "x": 64.15415415415416
         },
         {
          "parameter": "Taxi_Dist",
          "value": 0.009304802392265391,
          "x": 64.31431431431432
         },
         {
          "parameter": "Taxi_Dist",
          "value": 0.00910548461726278,
          "x": 64.47447447447448
         },
         {
          "parameter": "Taxi_Dist",
          "value": 0.008914680186278381,
          "x": 64.63463463463464
         },
         {
          "parameter": "Taxi_Dist",
          "value": 0.008731915504948942,
          "x": 64.7947947947948
         },
         {
          "parameter": "Taxi_Dist",
          "value": 0.008556732024120519,
          "x": 64.95495495495496
         },
         {
          "parameter": "Taxi_Dist",
          "value": 0.008388686838787334,
          "x": 65.11511511511512
         },
         {
          "parameter": "Taxi_Dist",
          "value": 0.008227353181276728,
          "x": 65.27527527527528
         },
         {
          "parameter": "Taxi_Dist",
          "value": 0.008072320813609186,
          "x": 65.43543543543544
         },
         {
          "parameter": "Taxi_Dist",
          "value": 0.007923196324151378,
          "x": 65.5955955955956
         },
         {
          "parameter": "Taxi_Dist",
          "value": 0.007779603333832338,
          "x": 65.75575575575576
         },
         {
          "parameter": "Taxi_Dist",
          "value": 0.00764118261730883,
          "x": 65.91591591591592
         },
         {
          "parameter": "Taxi_Dist",
          "value": 0.007507592144546853,
          "x": 66.07607607607608
         },
         {
          "parameter": "Taxi_Dist",
          "value": 0.0073785070483339205,
          "x": 66.23623623623624
         },
         {
          "parameter": "Taxi_Dist",
          "value": 0.007253619523251662,
          "x": 66.3963963963964
         },
         {
          "parameter": "Taxi_Dist",
          "value": 0.007132638661622194,
          "x": 66.55655655655656
         },
         {
          "parameter": "Taxi_Dist",
          "value": 0.00701529023189598,
          "x": 66.71671671671672
         },
         {
          "parameter": "Taxi_Dist",
          "value": 0.006901316404874939,
          "x": 66.87687687687688
         },
         {
          "parameter": "Taxi_Dist",
          "value": 0.00679047543306368,
          "x": 67.03703703703704
         },
         {
          "parameter": "Taxi_Dist",
          "value": 0.006682541288316102,
          "x": 67.1971971971972
         },
         {
          "parameter": "Taxi_Dist",
          "value": 0.0065773032627953676,
          "x": 67.35735735735736
         },
         {
          "parameter": "Taxi_Dist",
          "value": 0.006474565538094681,
          "x": 67.51751751751752
         },
         {
          "parameter": "Taxi_Dist",
          "value": 0.006374146727175835,
          "x": 67.67767767767768
         },
         {
          "parameter": "Taxi_Dist",
          "value": 0.006275879393574599,
          "x": 67.83783783783784
         },
         {
          "parameter": "Taxi_Dist",
          "value": 0.006179609552098411,
          "x": 67.997997997998
         },
         {
          "parameter": "Taxi_Dist",
          "value": 0.006085196155004597,
          "x": 68.15815815815816
         },
         {
          "parameter": "Taxi_Dist",
          "value": 0.005992510567398886,
          "x": 68.31831831831832
         },
         {
          "parameter": "Taxi_Dist",
          "value": 0.005901436035336474,
          "x": 68.47847847847848
         },
         {
          "parameter": "Taxi_Dist",
          "value": 0.00581186714984305,
          "x": 68.63863863863864
         },
         {
          "parameter": "Taxi_Dist",
          "value": 0.0057237093098042235,
          "x": 68.7987987987988
         },
         {
          "parameter": "Taxi_Dist",
          "value": 0.005636878186399949,
          "x": 68.95895895895896
         },
         {
          "parameter": "Taxi_Dist",
          "value": 0.005551299191488573,
          "x": 69.11911911911912
         },
         {
          "parameter": "Taxi_Dist",
          "value": 0.005466906952075111,
          "x": 69.27927927927928
         },
         {
          "parameter": "Taxi_Dist",
          "value": 0.005383644792732364,
          "x": 69.43943943943944
         },
         {
          "parameter": "Taxi_Dist",
          "value": 0.005301464227583265,
          "x": 69.5995995995996
         },
         {
          "parameter": "Taxi_Dist",
          "value": 0.005220324463200866,
          "x": 69.75975975975976
         },
         {
          "parameter": "Taxi_Dist",
          "value": 0.005140191913539935,
          "x": 69.91991991991992
         },
         {
          "parameter": "Taxi_Dist",
          "value": 0.005061039727782964,
          "x": 70.08008008008008
         },
         {
          "parameter": "Taxi_Dist",
          "value": 0.004982847331765334,
          "x": 70.24024024024024
         },
         {
          "parameter": "Taxi_Dist",
          "value": 0.004905599983440435,
          "x": 70.4004004004004
         },
         {
          "parameter": "Taxi_Dist",
          "value": 0.00482928834265686,
          "x": 70.56056056056056
         },
         {
          "parameter": "Taxi_Dist",
          "value": 0.004753908055347788,
          "x": 70.72072072072072
         },
         {
          "parameter": "Taxi_Dist",
          "value": 0.0046794593520775975,
          "x": 70.88088088088088
         },
         {
          "parameter": "Taxi_Dist",
          "value": 0.004605946660753539,
          "x": 71.04104104104104
         },
         {
          "parameter": "Taxi_Dist",
          "value": 0.004533378233191455,
          "x": 71.2012012012012
         },
         {
          "parameter": "Taxi_Dist",
          "value": 0.004461765785123634,
          "x": 71.36136136136136
         },
         {
          "parameter": "Taxi_Dist",
          "value": 0.004391124149154916,
          "x": 71.52152152152152
         },
         {
          "parameter": "Taxi_Dist",
          "value": 0.004321470940109004,
          "x": 71.68168168168168
         },
         {
          "parameter": "Taxi_Dist",
          "value": 0.0042528262321607085,
          "x": 71.84184184184184
         },
         {
          "parameter": "Taxi_Dist",
          "value": 0.004185212247120867,
          "x": 72.002002002002
         },
         {
          "parameter": "Taxi_Dist",
          "value": 0.004118653053228315,
          "x": 72.16216216216216
         },
         {
          "parameter": "Taxi_Dist",
          "value": 0.00405317427380623,
          "x": 72.32232232232232
         },
         {
          "parameter": "Taxi_Dist",
          "value": 0.003988802805158101,
          "x": 72.48248248248248
         },
         {
          "parameter": "Taxi_Dist",
          "value": 0.003925566543109624,
          "x": 72.64264264264264
         },
         {
          "parameter": "Taxi_Dist",
          "value": 0.0038634941176461106,
          "x": 72.8028028028028
         },
         {
          "parameter": "Taxi_Dist",
          "value": 0.003802614635149102,
          "x": 72.96296296296296
         },
         {
          "parameter": "Taxi_Dist",
          "value": 0.0037429574277991476,
          "x": 73.12312312312312
         },
         {
          "parameter": "Taxi_Dist",
          "value": 0.0036845518097830534,
          "x": 73.28328328328328
         },
         {
          "parameter": "Taxi_Dist",
          "value": 0.0036274268400210805,
          "x": 73.44344344344344
         },
         {
          "parameter": "Taxi_Dist",
          "value": 0.0035716110912119635,
          "x": 73.6036036036036
         },
         {
          "parameter": "Taxi_Dist",
          "value": 0.0035171324250786724,
          "x": 73.76376376376376
         },
         {
          "parameter": "Taxi_Dist",
          "value": 0.0034640177737847947,
          "x": 73.92392392392392
         },
         {
          "parameter": "Taxi_Dist",
          "value": 0.0034122929275782004,
          "x": 74.08408408408408
         },
         {
          "parameter": "Taxi_Dist",
          "value": 0.003361982328804296,
          "x": 74.24424424424424
         },
         {
          "parameter": "Taxi_Dist",
          "value": 0.003313108872513687,
          "x": 74.4044044044044
         },
         {
          "parameter": "Taxi_Dist",
          "value": 0.003265693713967865,
          "x": 74.56456456456456
         },
         {
          "parameter": "Taxi_Dist",
          "value": 0.003219756083419707,
          "x": 74.72472472472472
         },
         {
          "parameter": "Taxi_Dist",
          "value": 0.0031753131086125264,
          "x": 74.88488488488488
         },
         {
          "parameter": "Taxi_Dist",
          "value": 0.0031323796455007937,
          "x": 75.04504504504504
         },
         {
          "parameter": "Taxi_Dist",
          "value": 0.0030909681177469827,
          "x": 75.2052052052052
         },
         {
          "parameter": "Taxi_Dist",
          "value": 0.0030510883655909824,
          "x": 75.36536536536536
         },
         {
          "parameter": "Taxi_Dist",
          "value": 0.003012747504721277,
          "x": 75.52552552552552
         },
         {
          "parameter": "Taxi_Dist",
          "value": 0.002975949795799481,
          "x": 75.68568568568568
         },
         {
          "parameter": "Taxi_Dist",
          "value": 0.002940696525302024,
          "x": 75.84584584584584
         },
         {
          "parameter": "Taxi_Dist",
          "value": 0.0029069858983443,
          "x": 76.006006006006
         },
         {
          "parameter": "Taxi_Dist",
          "value": 0.0028748129441435568,
          "x": 76.16616616616616
         },
         {
          "parameter": "Taxi_Dist",
          "value": 0.0028441694347573323,
          "x": 76.32632632632632
         },
         {
          "parameter": "Taxi_Dist",
          "value": 0.0028150438177042595,
          "x": 76.48648648648648
         },
         {
          "parameter": "Taxi_Dist",
          "value": 0.0027874211630344076,
          "x": 76.64664664664664
         },
         {
          "parameter": "Taxi_Dist",
          "value": 0.0027612831253669493,
          "x": 76.8068068068068
         },
         {
          "parameter": "Taxi_Dist",
          "value": 0.00273660792135473,
          "x": 76.96696696696696
         },
         {
          "parameter": "Taxi_Dist",
          "value": 0.0027133703229688115,
          "x": 77.12712712712712
         },
         {
          "parameter": "Taxi_Dist",
          "value": 0.002691541666922007,
          "x": 77.28728728728728
         },
         {
          "parameter": "Taxi_Dist",
          "value": 0.0026710898804695868,
          "x": 77.44744744744744
         },
         {
          "parameter": "Taxi_Dist",
          "value": 0.0026519795237387634,
          "x": 77.6076076076076
         },
         {
          "parameter": "Taxi_Dist",
          "value": 0.0026341718486469516,
          "x": 77.76776776776777
         },
         {
          "parameter": "Taxi_Dist",
          "value": 0.0026176248743732954,
          "x": 77.92792792792793
         },
         {
          "parameter": "Taxi_Dist",
          "value": 0.0026022934792494738,
          "x": 78.08808808808809
         },
         {
          "parameter": "Taxi_Dist",
          "value": 0.002588129508835401,
          "x": 78.24824824824825
         },
         {
          "parameter": "Taxi_Dist",
          "value": 0.002575081899844038,
          "x": 78.4084084084084
         },
         {
          "parameter": "Taxi_Dist",
          "value": 0.0025630968194783233,
          "x": 78.56856856856857
         },
         {
          "parameter": "Taxi_Dist",
          "value": 0.0025521178196430305,
          "x": 78.72872872872873
         },
         {
          "parameter": "Taxi_Dist",
          "value": 0.0025420860053962423,
          "x": 78.88888888888889
         },
         {
          "parameter": "Taxi_Dist",
          "value": 0.0025329402169100112,
          "x": 79.04904904904905
         },
         {
          "parameter": "Taxi_Dist",
          "value": 0.0025246172241185157,
          "x": 79.2092092092092
         },
         {
          "parameter": "Taxi_Dist",
          "value": 0.0025170519331455545,
          "x": 79.36936936936937
         },
         {
          "parameter": "Taxi_Dist",
          "value": 0.002510177603522161,
          "x": 79.52952952952953
         },
         {
          "parameter": "Taxi_Dist",
          "value": 0.002503926075130423,
          "x": 79.68968968968969
         },
         {
          "parameter": "Taxi_Dist",
          "value": 0.0024982280037416827,
          "x": 79.84984984984985
         },
         {
          "parameter": "Taxi_Dist",
          "value": 0.002493013103956914,
          "x": 80.01001001001
         },
         {
          "parameter": "Taxi_Dist",
          "value": 0.002488210398304614,
          "x": 80.17017017017017
         },
         {
          "parameter": "Taxi_Dist",
          "value": 0.002483748471207564,
          "x": 80.33033033033033
         },
         {
          "parameter": "Taxi_Dist",
          "value": 0.0024795557264944614,
          "x": 80.49049049049049
         },
         {
          "parameter": "Taxi_Dist",
          "value": 0.0024755606471061693,
          "x": 80.65065065065065
         },
         {
          "parameter": "Taxi_Dist",
          "value": 0.0024716920556292006,
          "x": 80.8108108108108
         },
         {
          "parameter": "Taxi_Dist",
          "value": 0.0024678793742812016,
          "x": 80.97097097097097
         },
         {
          "parameter": "Taxi_Dist",
          "value": 0.0024640528829746747,
          "x": 81.13113113113113
         },
         {
          "parameter": "Taxi_Dist",
          "value": 0.002460143974095828,
          "x": 81.29129129129129
         },
         {
          "parameter": "Taxi_Dist",
          "value": 0.0024560854026552557,
          "x": 81.45145145145145
         },
         {
          "parameter": "Taxi_Dist",
          "value": 0.0024518115304957722,
          "x": 81.61161161161161
         },
         {
          "parameter": "Taxi_Dist",
          "value": 0.002447258563280042,
          "x": 81.77177177177177
         },
         {
          "parameter": "Taxi_Dist",
          "value": 0.0024423647790261255,
          "x": 81.93193193193193
         },
         {
          "parameter": "Taxi_Dist",
          "value": 0.0024370707470125165,
          "x": 82.09209209209209
         },
         {
          "parameter": "Taxi_Dist",
          "value": 0.002431319535934997,
          "x": 82.25225225225225
         },
         {
          "parameter": "Taxi_Dist",
          "value": 0.00242505691026537,
          "x": 82.41241241241241
         },
         {
          "parameter": "Taxi_Dist",
          "value": 0.002418231513836152,
          "x": 82.57257257257257
         },
         {
          "parameter": "Taxi_Dist",
          "value": 0.0024107950397551144,
          "x": 82.73273273273273
         },
         {
          "parameter": "Taxi_Dist",
          "value": 0.0024027023858384992,
          "x": 82.89289289289289
         },
         {
          "parameter": "Taxi_Dist",
          "value": 0.002393911794841102,
          "x": 83.05305305305305
         },
         {
          "parameter": "Taxi_Dist",
          "value": 0.0023843849788546907,
          "x": 83.21321321321321
         },
         {
          "parameter": "Taxi_Dist",
          "value": 0.002374087227342496,
          "x": 83.37337337337337
         },
         {
          "parameter": "Taxi_Dist",
          "value": 0.002362987498376312,
          "x": 83.53353353353353
         },
         {
          "parameter": "Taxi_Dist",
          "value": 0.0023510584927431875,
          "x": 83.69369369369369
         },
         {
          "parameter": "Taxi_Dist",
          "value": 0.0023382767106901884,
          "x": 83.85385385385385
         },
         {
          "parameter": "Taxi_Dist",
          "value": 0.002324622491177541,
          "x": 84.01401401401401
         },
         {
          "parameter": "Taxi_Dist",
          "value": 0.0023100800336118927,
          "x": 84.17417417417417
         },
         {
          "parameter": "Taxi_Dist",
          "value": 0.002294637402131898,
          "x": 84.33433433433433
         },
         {
          "parameter": "Taxi_Dist",
          "value": 0.0022782865126170547,
          "x": 84.49449449449449
         },
         {
          "parameter": "Taxi_Dist",
          "value": 0.0022610231026872134,
          "x": 84.65465465465465
         },
         {
          "parameter": "Taxi_Dist",
          "value": 0.002242846685053753,
          "x": 84.81481481481481
         },
         {
          "parameter": "Taxi_Dist",
          "value": 0.0022237604846735296,
          "x": 84.97497497497497
         },
         {
          "parameter": "Taxi_Dist",
          "value": 0.002203771360242855,
          "x": 85.13513513513513
         },
         {
          "parameter": "Taxi_Dist",
          "value": 0.0021828897106504707,
          "x": 85.29529529529529
         },
         {
          "parameter": "Taxi_Dist",
          "value": 0.002161129367085149,
          "x": 85.45545545545545
         },
         {
          "parameter": "Taxi_Dist",
          "value": 0.0021385074715650617,
          "x": 85.61561561561561
         },
         {
          "parameter": "Taxi_Dist",
          "value": 0.0021150443427216748,
          "x": 85.77577577577577
         },
         {
          "parameter": "Taxi_Dist",
          "value": 0.0020907633297306575,
          "x": 85.93593593593593
         },
         {
          "parameter": "Taxi_Dist",
          "value": 0.0020656906553355946,
          "x": 86.09609609609609
         },
         {
          "parameter": "Taxi_Dist",
          "value": 0.002039855248957105,
          "x": 86.25625625625625
         },
         {
          "parameter": "Taxi_Dist",
          "value": 0.0020132885709200484,
          "x": 86.41641641641641
         },
         {
          "parameter": "Taxi_Dist",
          "value": 0.0019860244288645713,
          "x": 86.57657657657657
         },
         {
          "parameter": "Taxi_Dist",
          "value": 0.0019580987874329814,
          "x": 86.73673673673673
         },
         {
          "parameter": "Taxi_Dist",
          "value": 0.0019295495723434851,
          "x": 86.89689689689689
         },
         {
          "parameter": "Taxi_Dist",
          "value": 0.00190041646997387,
          "x": 87.05705705705705
         },
         {
          "parameter": "Taxi_Dist",
          "value": 0.0018707407235831837,
          "x": 87.21721721721721
         },
         {
          "parameter": "Taxi_Dist",
          "value": 0.0018405649272975248,
          "x": 87.37737737737737
         },
         {
          "parameter": "Taxi_Dist",
          "value": 0.001809932818977144,
          "x": 87.53753753753753
         },
         {
          "parameter": "Taxi_Dist",
          "value": 0.001778889073066597,
          "x": 87.69769769769769
         },
         {
          "parameter": "Taxi_Dist",
          "value": 0.0017474790945076046,
          "x": 87.85785785785785
         },
         {
          "parameter": "Taxi_Dist",
          "value": 0.0017157488147659483,
          "x": 88.01801801801801
         },
         {
          "parameter": "Taxi_Dist",
          "value": 0.0016837444909893894,
          "x": 88.17817817817817
         },
         {
          "parameter": "Taxi_Dist",
          "value": 0.0016515125092736,
          "x": 88.33833833833833
         },
         {
          "parameter": "Taxi_Dist",
          "value": 0.0016190991929675744,
          "x": 88.49849849849849
         },
         {
          "parameter": "Taxi_Dist",
          "value": 0.0015865506168996387,
          "x": 88.65865865865865
         },
         {
          "parameter": "Taxi_Dist",
          "value": 0.0015539124283500759,
          "x": 88.81881881881881
         },
         {
          "parameter": "Taxi_Dist",
          "value": 0.0015212296755371326,
          "x": 88.97897897897897
         },
         {
          "parameter": "Taxi_Dist",
          "value": 0.0014885466443201516,
          "x": 89.13913913913913
         },
         {
          "parameter": "Taxi_Dist",
          "value": 0.0014559067037573353,
          "x": 89.29929929929929
         },
         {
          "parameter": "Taxi_Dist",
          "value": 0.001423352161086441,
          "x": 89.45945945945945
         },
         {
          "parameter": "Taxi_Dist",
          "value": 0.0013909241266254237,
          "x": 89.61961961961961
         },
         {
          "parameter": "Taxi_Dist",
          "value": 0.0013586623890167932,
          "x": 89.77977977977977
         },
         {
          "parameter": "Taxi_Dist",
          "value": 0.001326605301165045,
          "x": 89.93993993993993
         },
         {
          "parameter": "Taxi_Dist",
          "value": 0.0012947896771413625,
          "x": 90.1001001001001
         },
         {
          "parameter": "Taxi_Dist",
          "value": 0.0012632507002544164,
          "x": 90.26026026026025
         },
         {
          "parameter": "Taxi_Dist",
          "value": 0.0012320218424111593,
          "x": 90.42042042042041
         },
         {
          "parameter": "Taxi_Dist",
          "value": 0.0012011347948172753,
          "x": 90.58058058058057
         },
         {
          "parameter": "Taxi_Dist",
          "value": 0.0011706194099943277,
          "x": 90.74074074074073
         },
         {
          "parameter": "Taxi_Dist",
          "value": 0.0011405036550197708,
          "x": 90.9009009009009
         },
         {
          "parameter": "Taxi_Dist",
          "value": 0.0011108135758275985,
          "x": 91.06106106106105
         },
         {
          "parameter": "Taxi_Dist",
          "value": 0.00108157327234183,
          "x": 91.22122122122121
         },
         {
          "parameter": "Taxi_Dist",
          "value": 0.0010528048841528766,
          "x": 91.38138138138137
         },
         {
          "parameter": "Taxi_Dist",
          "value": 0.001024528586388234,
          "x": 91.54154154154153
         },
         {
          "parameter": "Taxi_Dist",
          "value": 0.0009967625953746812,
          "x": 91.7017017017017
         },
         {
          "parameter": "Taxi_Dist",
          "value": 0.0009695231836392039,
          "x": 91.86186186186185
         },
         {
          "parameter": "Taxi_Dist",
          "value": 0.00094282470375077,
          "x": 92.02202202202201
         },
         {
          "parameter": "Taxi_Dist",
          "value": 0.0009166796204649661,
          "x": 92.18218218218217
         },
         {
          "parameter": "Taxi_Dist",
          "value": 0.0008910985505987659,
          "x": 92.34234234234233
         },
         {
          "parameter": "Taxi_Dist",
          "value": 0.0008660903100332169,
          "x": 92.5025025025025
         },
         {
          "parameter": "Taxi_Dist",
          "value": 0.0008416619672181038,
          "x": 92.66266266266267
         },
         {
          "parameter": "Taxi_Dist",
          "value": 0.0008178189025344207,
          "x": 92.82282282282283
         },
         {
          "parameter": "Taxi_Dist",
          "value": 0.0007945648728579096,
          "x": 92.98298298298299
         },
         {
          "parameter": "Taxi_Dist",
          "value": 0.0007719020806600691,
          "x": 93.14314314314315
         },
         {
          "parameter": "Taxi_Dist",
          "value": 0.0007498312469815977,
          "x": 93.30330330330331
         },
         {
          "parameter": "Taxi_Dist",
          "value": 0.0007283516876172267,
          "x": 93.46346346346347
         },
         {
          "parameter": "Taxi_Dist",
          "value": 0.0007074613918601638,
          "x": 93.62362362362363
         },
         {
          "parameter": "Taxi_Dist",
          "value": 0.000687157103168527,
          "x": 93.78378378378379
         },
         {
          "parameter": "Taxi_Dist",
          "value": 0.0006674344011350615,
          "x": 93.94394394394395
         },
         {
          "parameter": "Taxi_Dist",
          "value": 0.0006482877841647079,
          "x": 94.10410410410411
         },
         {
          "parameter": "Taxi_Dist",
          "value": 0.0006297107522919316,
          "x": 94.26426426426427
         },
         {
          "parameter": "Taxi_Dist",
          "value": 0.0006116958896006241,
          "x": 94.42442442442443
         },
         {
          "parameter": "Taxi_Dist",
          "value": 0.0005942349457436158,
          "x": 94.58458458458459
         },
         {
          "parameter": "Taxi_Dist",
          "value": 0.0005773189160957609,
          "x": 94.74474474474475
         },
         {
          "parameter": "Taxi_Dist",
          "value": 0.0005609381201138392,
          "x": 94.90490490490491
         },
         {
          "parameter": "Taxi_Dist",
          "value": 0.0005450822775176328,
          "x": 95.06506506506507
         },
         {
          "parameter": "Taxi_Dist",
          "value": 0.0005297405819490136,
          "x": 95.22522522522523
         },
         {
          "parameter": "Taxi_Dist",
          "value": 0.0005149017718092639,
          "x": 95.38538538538539
         },
         {
          "parameter": "Taxi_Dist",
          "value": 0.0005005541980185657,
          "x": 95.54554554554555
         },
         {
          "parameter": "Taxi_Dist",
          "value": 0.0004866858884853473,
          "x": 95.70570570570571
         },
         {
          "parameter": "Taxi_Dist",
          "value": 0.00047328460911631265,
          "x": 95.86586586586587
         },
         {
          "parameter": "Taxi_Dist",
          "value": 0.00046033792124021726,
          "x": 96.02602602602603
         },
         {
          "parameter": "Taxi_Dist",
          "value": 0.0004478332353592968,
          "x": 96.18618618618619
         },
         {
          "parameter": "Taxi_Dist",
          "value": 0.0004357578611813938,
          "x": 96.34634634634635
         },
         {
          "parameter": "Taxi_Dist",
          "value": 0.0004240990539228142,
          "x": 96.50650650650651
         },
         {
          "parameter": "Taxi_Dist",
          "value": 0.0004128440569066118,
          "x": 96.66666666666667
         },
         {
          "parameter": "Taxi_Dist",
          "value": 0.0004019801405129452,
          "x": 96.82682682682683
         },
         {
          "parameter": "Taxi_Dist",
          "value": 0.0003914946375672327,
          "x": 96.98698698698699
         },
         {
          "parameter": "Taxi_Dist",
          "value": 0.0003813749752778324,
          "x": 97.14714714714715
         },
         {
          "parameter": "Taxi_Dist",
          "value": 0.0003716087038577955,
          "x": 97.30730730730731
         },
         {
          "parameter": "Taxi_Dist",
          "value": 0.00036218352198471004,
          "x": 97.46746746746747
         },
         {
          "parameter": "Taxi_Dist",
          "value": 0.0003530872992688593,
          "x": 97.62762762762763
         },
         {
          "parameter": "Taxi_Dist",
          "value": 0.00034430809591272073,
          "x": 97.78778778778779
         },
         {
          "parameter": "Taxi_Dist",
          "value": 0.00033583417975437753,
          "x": 97.94794794794795
         },
         {
          "parameter": "Taxi_Dist",
          "value": 0.00032765404089373336,
          "x": 98.10810810810811
         },
         {
          "parameter": "Taxi_Dist",
          "value": 0.0003197564041036803,
          "x": 98.26826826826827
         },
         {
          "parameter": "Taxi_Dist",
          "value": 0.00031213023922865873,
          "x": 98.42842842842843
         },
         {
          "parameter": "Taxi_Dist",
          "value": 0.0003047647697706641,
          "x": 98.58858858858859
         },
         {
          "parameter": "Taxi_Dist",
          "value": 0.00029764947985780967,
          "x": 98.74874874874875
         },
         {
          "parameter": "Taxi_Dist",
          "value": 0.0002907741197833723,
          "x": 98.90890890890891
         },
         {
          "parameter": "Taxi_Dist",
          "value": 0.0002841287102940444,
          "x": 99.06906906906907
         },
         {
          "parameter": "Taxi_Dist",
          "value": 0.0002777035457951989,
          "x": 99.22922922922923
         },
         {
          "parameter": "Taxi_Dist",
          "value": 0.0002714891966286248,
          "x": 99.3893893893894
         },
         {
          "parameter": "Taxi_Dist",
          "value": 0.00026547651056467794,
          "x": 99.54954954954955
         },
         {
          "parameter": "Taxi_Dist",
          "value": 0.00025965661363647153,
          "x": 99.70970970970971
         },
         {
          "parameter": "Taxi_Dist",
          "value": 0.0002540209104288272,
          "x": 99.86986986986987
         },
         {
          "parameter": "Taxi_Dist",
          "value": 0.00024856108391955496,
          "x": 100.03003003003003
         },
         {
          "parameter": "Taxi_Dist",
          "value": 0.00024326909495546738,
          "x": 100.1901901901902
         },
         {
          "parameter": "Taxi_Dist",
          "value": 0.0002381371814306604,
          "x": 100.35035035035035
         },
         {
          "parameter": "Taxi_Dist",
          "value": 0.00023315785722017446,
          "x": 100.51051051051051
         },
         {
          "parameter": "Taxi_Dist",
          "value": 0.0002283239109085005,
          "x": 100.67067067067067
         },
         {
          "parameter": "Taxi_Dist",
          "value": 0.00022362840433961167,
          "x": 100.83083083083083
         },
         {
          "parameter": "Taxi_Dist",
          "value": 0.00021906467100351503,
          "x": 100.990990990991
         },
         {
          "parameter": "Taxi_Dist",
          "value": 0.00021462631426382936,
          "x": 101.15115115115115
         },
         {
          "parameter": "Taxi_Dist",
          "value": 0.00021030720542174447,
          "x": 101.31131131131131
         },
         {
          "parameter": "Taxi_Dist",
          "value": 0.00020610148160393656,
          "x": 101.47147147147147
         },
         {
          "parameter": "Taxi_Dist",
          "value": 0.0002020035434557194,
          "x": 101.63163163163163
         },
         {
          "parameter": "Taxi_Dist",
          "value": 0.00019800805261586057,
          "x": 101.7917917917918
         },
         {
          "parameter": "Taxi_Dist",
          "value": 0.00019410992894611912,
          "x": 101.95195195195195
         },
         {
          "parameter": "Taxi_Dist",
          "value": 0.00019030434748662183,
          "x": 102.11211211211211
         },
         {
          "parameter": "Taxi_Dist",
          "value": 0.000186586735107626,
          "x": 102.27227227227228
         },
         {
          "parameter": "Taxi_Dist",
          "value": 0.0001829527668289575,
          "x": 102.43243243243244
         },
         {
          "parameter": "Taxi_Dist",
          "value": 0.000179398361780331,
          "x": 102.5925925925926
         },
         {
          "parameter": "Taxi_Dist",
          "value": 0.0001759196787787834,
          "x": 102.75275275275276
         },
         {
          "parameter": "Taxi_Dist",
          "value": 0.0001725131115034064,
          "x": 102.91291291291292
         },
         {
          "parameter": "Taxi_Dist",
          "value": 0.00016917528325233834,
          "x": 103.07307307307308
         },
         {
          "parameter": "Taxi_Dist",
          "value": 0.00016590304127240096,
          "x": 103.23323323323324
         },
         {
          "parameter": "Taxi_Dist",
          "value": 0.00016269345065770448,
          "x": 103.3933933933934
         },
         {
          "parameter": "Taxi_Dist",
          "value": 0.00015954378781980684,
          "x": 103.55355355355356
         },
         {
          "parameter": "Taxi_Dist",
          "value": 0.00015645153353848718,
          "x": 103.71371371371372
         },
         {
          "parameter": "Taxi_Dist",
          "value": 0.00015341436560868137,
          "x": 103.87387387387388
         },
         {
          "parameter": "Taxi_Dist",
          "value": 0.00015043015110551277,
          "x": 104.03403403403404
         },
         {
          "parameter": "Taxi_Dist",
          "value": 0.00014749693829547956,
          "x": 104.1941941941942
         },
         {
          "parameter": "Taxi_Dist",
          "value": 0.00014461294822762074,
          "x": 104.35435435435436
         },
         {
          "parameter": "Taxi_Dist",
          "value": 0.0001417765660437303,
          "x": 104.51451451451452
         },
         {
          "parameter": "Taxi_Dist",
          "value": 0.00013898633205136951,
          "x": 104.67467467467468
         },
         {
          "parameter": "Taxi_Dist",
          "value": 0.00013624093260741196,
          "x": 104.83483483483484
         },
         {
          "parameter": "Taxi_Dist",
          "value": 0.0001335391908631055,
          "x": 104.994994994995
         },
         {
          "parameter": "Taxi_Dist",
          "value": 0.00013088005742408764,
          "x": 105.15515515515516
         },
         {
          "parameter": "Taxi_Dist",
          "value": 0.00012826260098042138,
          "x": 105.31531531531532
         },
         {
          "parameter": "Taxi_Dist",
          "value": 0.00012568599896249386,
          "x": 105.47547547547548
         },
         {
          "parameter": "Taxi_Dist",
          "value": 0.00012314952827857027,
          "x": 105.63563563563564
         },
         {
          "parameter": "Taxi_Dist",
          "value": 0.00012065255618890674,
          "x": 105.7957957957958
         },
         {
          "parameter": "Taxi_Dist",
          "value": 0.0001181945313696535,
          "x": 105.95595595595596
         },
         {
          "parameter": "Taxi_Dist",
          "value": 0.00011577497521735752,
          "x": 106.11611611611612
         },
         {
          "parameter": "Taxi_Dist",
          "value": 0.00011339347344176323,
          "x": 106.27627627627628
         },
         {
          "parameter": "Taxi_Dist",
          "value": 0.00011104966799089013,
          "x": 106.43643643643644
         },
         {
          "parameter": "Taxi_Dist",
          "value": 0.00010874324934808886,
          "x": 106.5965965965966
         },
         {
          "parameter": "Taxi_Dist",
          "value": 0.00010647394923606828,
          "x": 106.75675675675676
         },
         {
          "parameter": "Taxi_Dist",
          "value": 0.00010424153375779594,
          "x": 106.91691691691692
         },
         {
          "parameter": "Taxi_Dist",
          "value": 0.00010204579699882555,
          "x": 107.07707707707708
         },
         {
          "parameter": "Taxi_Dist",
          "value": 9.988655511007677e-05,
          "x": 107.23723723723724
         },
         {
          "parameter": "Taxi_Dist",
          "value": 9.776364088449535e-05,
          "x": 107.3973973973974
         },
         {
          "parameter": "Taxi_Dist",
          "value": 9.567689883542277e-05,
          "x": 107.55755755755756
         },
         {
          "parameter": "Taxi_Dist",
          "value": 9.362618077903024e-05,
          "x": 107.71771771771772
         },
         {
          "parameter": "Taxi_Dist",
          "value": 9.161134191786522e-05,
          "x": 107.87787787787788
         },
         {
          "parameter": "Taxi_Dist",
          "value": 8.963223741752978e-05,
          "x": 108.03803803803804
         },
         {
          "parameter": "Taxi_Dist",
          "value": 8.76887194638038e-05,
          "x": 108.1981981981982
         },
         {
          "parameter": "Taxi_Dist",
          "value": 8.578063478322225e-05,
          "x": 108.35835835835836
         },
         {
          "parameter": "Taxi_Dist",
          "value": 8.390782260624138e-05,
          "x": 108.51851851851852
         },
         {
          "parameter": "Taxi_Dist",
          "value": 8.207011304875119e-05,
          "x": 108.67867867867868
         },
         {
          "parameter": "Taxi_Dist",
          "value": 8.02673258848156e-05,
          "x": 108.83883883883884
         },
         {
          "parameter": "Taxi_Dist",
          "value": 7.849926968118065e-05,
          "x": 108.998998998999
         },
         {
          "parameter": "Taxi_Dist",
          "value": 7.676574126229052e-05,
          "x": 109.15915915915916
         },
         {
          "parameter": "Taxi_Dist",
          "value": 7.506652547328462e-05,
          "x": 109.31931931931932
         },
         {
          "parameter": "Taxi_Dist",
          "value": 7.340139520771583e-05,
          "x": 109.47947947947948
         },
         {
          "parameter": "Taxi_Dist",
          "value": 7.177011166649192e-05,
          "x": 109.63963963963964
         },
         {
          "parameter": "Taxi_Dist",
          "value": 7.017242481479493e-05,
          "x": 109.7997997997998
         },
         {
          "parameter": "Taxi_Dist",
          "value": 6.860807400441892e-05,
          "x": 109.95995995995996
         },
         {
          "parameter": "Taxi_Dist",
          "value": 6.707678873005615e-05,
          "x": 110.12012012012012
         },
         {
          "parameter": "Taxi_Dist",
          "value": 6.557828948950595e-05,
          "x": 110.28028028028028
         },
         {
          "parameter": "Taxi_Dist",
          "value": 6.411228871952906e-05,
          "x": 110.44044044044044
         },
         {
          "parameter": "Taxi_Dist",
          "value": 6.267849178106425e-05,
          "x": 110.6006006006006
         },
         {
          "parameter": "Taxi_Dist",
          "value": 6.127659796972246e-05,
          "x": 110.76076076076076
         },
         {
          "parameter": "Taxi_Dist",
          "value": 5.990630152980625e-05,
          "x": 110.92092092092092
         },
         {
          "parameter": "Taxi_Dist",
          "value": 5.856729265252666e-05,
          "x": 111.08108108108108
         },
         {
          "parameter": "Taxi_Dist",
          "value": 5.7259258441547956e-05,
          "x": 111.24124124124124
         },
         {
          "parameter": "Taxi_Dist",
          "value": 5.598188383143931e-05,
          "x": 111.4014014014014
         },
         {
          "parameter": "Taxi_Dist",
          "value": 5.473485244699674e-05,
          "x": 111.56156156156156
         },
         {
          "parameter": "Taxi_Dist",
          "value": 5.351784739369317e-05,
          "x": 111.72172172172172
         },
         {
          "parameter": "Taxi_Dist",
          "value": 5.233055197166791e-05,
          "x": 111.88188188188188
         },
         {
          "parameter": "Taxi_Dist",
          "value": 5.1172650307661796e-05,
          "x": 112.04204204204204
         },
         {
          "parameter": "Taxi_Dist",
          "value": 5.0043827901108904e-05,
          "x": 112.2022022022022
         },
         {
          "parameter": "Taxi_Dist",
          "value": 4.89437720822009e-05,
          "x": 112.36236236236236
         },
         {
          "parameter": "Taxi_Dist",
          "value": 4.787217238112221e-05,
          "x": 112.52252252252252
         },
         {
          "parameter": "Taxi_Dist",
          "value": 4.682872080882441e-05,
          "x": 112.68268268268268
         },
         {
          "parameter": "Taxi_Dist",
          "value": 4.581311205065207e-05,
          "x": 112.84284284284284
         },
         {
          "parameter": "Taxi_Dist",
          "value": 4.482504357486602e-05,
          "x": 113.003003003003
         },
         {
          "parameter": "Taxi_Dist",
          "value": 4.386421565864094e-05,
          "x": 113.16316316316316
         },
         {
          "parameter": "Taxi_Dist",
          "value": 4.293033133445958e-05,
          "x": 113.32332332332332
         },
         {
          "parameter": "Taxi_Dist",
          "value": 4.202309626000712e-05,
          "x": 113.48348348348348
         },
         {
          "parameter": "Taxi_Dist",
          "value": 4.114221851470388e-05,
          "x": 113.64364364364364
         },
         {
          "parameter": "Taxi_Dist",
          "value": 4.028740832593854e-05,
          "x": 113.8038038038038
         },
         {
          "parameter": "Taxi_Dist",
          "value": 3.945837772789416e-05,
          "x": 113.96396396396396
         },
         {
          "parameter": "Taxi_Dist",
          "value": 3.8654840155630646e-05,
          "x": 114.12412412412412
         },
         {
          "parameter": "Taxi_Dist",
          "value": 3.787650997682603e-05,
          "x": 114.28428428428428
         },
         {
          "parameter": "Taxi_Dist",
          "value": 3.712310196331495e-05,
          "x": 114.44444444444444
         },
         {
          "parameter": "Taxi_Dist",
          "value": 3.639433070431711e-05,
          "x": 114.6046046046046
         },
         {
          "parameter": "Taxi_Dist",
          "value": 3.5689909963055356e-05,
          "x": 114.76476476476476
         },
         {
          "parameter": "Taxi_Dist",
          "value": 3.50095519783343e-05,
          "x": 114.92492492492492
         },
         {
          "parameter": "Taxi_Dist",
          "value": 3.435296671261234e-05,
          "x": 115.08508508508508
         },
         {
          "parameter": "Taxi_Dist",
          "value": 3.371986104816382e-05,
          "x": 115.24524524524524
         },
         {
          "parameter": "Taxi_Dist",
          "value": 3.310993793310889e-05,
          "x": 115.4054054054054
         },
         {
          "parameter": "Taxi_Dist",
          "value": 3.252289547938816e-05,
          "x": 115.56556556556556
         },
         {
          "parameter": "Taxi_Dist",
          "value": 3.195842601518924e-05,
          "x": 115.72572572572572
         },
         {
          "parameter": "Taxi_Dist",
          "value": 3.141621509488255e-05,
          "x": 115.88588588588588
         },
         {
          "parameter": "Taxi_Dist",
          "value": 3.0895940470195625e-05,
          "x": 116.04604604604604
         },
         {
          "parameter": "Taxi_Dist",
          "value": 3.0397271027136268e-05,
          "x": 116.2062062062062
         },
         {
          "parameter": "Taxi_Dist",
          "value": 2.991986569405241e-05,
          "x": 116.36636636636636
         },
         {
          "parameter": "Taxi_Dist",
          "value": 2.9463372327175976e-05,
          "x": 116.52652652652652
         },
         {
          "parameter": "Taxi_Dist",
          "value": 2.9027426581014834e-05,
          "x": 116.68668668668668
         },
         {
          "parameter": "Taxi_Dist",
          "value": 2.8611650772016337e-05,
          "x": 116.84684684684684
         },
         {
          "parameter": "Taxi_Dist",
          "value": 2.8215652744996052e-05,
          "x": 117.007007007007
         },
         {
          "parameter": "Taxi_Dist",
          "value": 2.7839024752886016e-05,
          "x": 117.16716716716716
         },
         {
          "parameter": "Taxi_Dist",
          "value": 2.7481342361378298e-05,
          "x": 117.32732732732732
         },
         {
          "parameter": "Taxi_Dist",
          "value": 2.7142163390997345e-05,
          "x": 117.48748748748748
         },
         {
          "parameter": "Taxi_Dist",
          "value": 2.6821026909998616e-05,
          "x": 117.64764764764764
         },
         {
          "parameter": "Taxi_Dist",
          "value": 2.6517452292239987e-05,
          "x": 117.8078078078078
         },
         {
          "parameter": "Taxi_Dist",
          "value": 2.623093835477803e-05,
          "x": 117.96796796796797
         },
         {
          "parameter": "Taxi_Dist",
          "value": 2.596096259038335e-05,
          "x": 118.12812812812814
         },
         {
          "parameter": "Taxi_Dist",
          "value": 2.5706980510427727e-05,
          "x": 118.2882882882883
         },
         {
          "parameter": "Taxi_Dist",
          "value": 2.5468425113653177e-05,
          "x": 118.44844844844846
         },
         {
          "parameter": "Taxi_Dist",
          "value": 2.52447064961757e-05,
          "x": 118.60860860860862
         },
         {
          "parameter": "Taxi_Dist",
          "value": 2.5035211617695172e-05,
          "x": 118.76876876876878
         },
         {
          "parameter": "Taxi_Dist",
          "value": 2.4839304238269367e-05,
          "x": 118.92892892892894
         },
         {
          "parameter": "Taxi_Dist",
          "value": 2.4656325039163908e-05,
          "x": 119.0890890890891
         },
         {
          "parameter": "Taxi_Dist",
          "value": 2.4485591940211146e-05,
          "x": 119.24924924924926
         },
         {
          "parameter": "Taxi_Dist",
          "value": 2.432640062480622e-05,
          "x": 119.40940940940942
         },
         {
          "parameter": "Taxi_Dist",
          "value": 2.4178025282145837e-05,
          "x": 119.56956956956958
         },
         {
          "parameter": "Taxi_Dist",
          "value": 2.4039719574589945e-05,
          "x": 119.72972972972974
         },
         {
          "parameter": "Taxi_Dist",
          "value": 2.3910717836113328e-05,
          "x": 119.8898898898899
         },
         {
          "parameter": "Taxi_Dist",
          "value": 2.3790236505734384e-05,
          "x": 120.05005005005006
         },
         {
          "parameter": "Taxi_Dist",
          "value": 2.367747579758513e-05,
          "x": 120.21021021021022
         },
         {
          "parameter": "Taxi_Dist",
          "value": 2.3571621606944898e-05,
          "x": 120.37037037037038
         },
         {
          "parameter": "Taxi_Dist",
          "value": 2.347184764912853e-05,
          "x": 120.53053053053054
         },
         {
          "parameter": "Taxi_Dist",
          "value": 2.3377317825628188e-05,
          "x": 120.6906906906907
         },
         {
          "parameter": "Taxi_Dist",
          "value": 2.3287188809385934e-05,
          "x": 120.85085085085086
         },
         {
          "parameter": "Taxi_Dist",
          "value": 2.3200612838555173e-05,
          "x": 121.01101101101102
         },
         {
          "parameter": "Taxi_Dist",
          "value": 2.3116740705623603e-05,
          "x": 121.17117117117118
         },
         {
          "parameter": "Taxi_Dist",
          "value": 2.3034724926351525e-05,
          "x": 121.33133133133134
         },
         {
          "parameter": "Taxi_Dist",
          "value": 2.29537230706571e-05,
          "x": 121.4914914914915
         },
         {
          "parameter": "Taxi_Dist",
          "value": 2.2872901235386263e-05,
          "x": 121.65165165165166
         },
         {
          "parameter": "Taxi_Dist",
          "value": 2.2791437636866388e-05,
          "x": 121.81181181181182
         },
         {
          "parameter": "Taxi_Dist",
          "value": 2.270852629928716e-05,
          "x": 121.97197197197198
         },
         {
          "parameter": "Taxi_Dist",
          "value": 2.2623380813303885e-05,
          "x": 122.13213213213214
         },
         {
          "parameter": "Taxi_Dist",
          "value": 2.253523813783873e-05,
          "x": 122.2922922922923
         },
         {
          "parameter": "Taxi_Dist",
          "value": 2.2443362416884038e-05,
          "x": 122.45245245245246
         },
         {
          "parameter": "Taxi_Dist",
          "value": 2.2347048782203715e-05,
          "x": 122.61261261261262
         },
         {
          "parameter": "Taxi_Dist",
          "value": 2.2245627112197405e-05,
          "x": 122.77277277277278
         },
         {
          "parameter": "Taxi_Dist",
          "value": 2.2138465716845948e-05,
          "x": 122.93293293293294
         },
         {
          "parameter": "Taxi_Dist",
          "value": 2.202497491860164e-05,
          "x": 123.0930930930931
         },
         {
          "parameter": "Taxi_Dist",
          "value": 2.190461049932523e-05,
          "x": 123.25325325325326
         },
         {
          "parameter": "Taxi_Dist",
          "value": 2.1776876983901975e-05,
          "x": 123.41341341341342
         },
         {
          "parameter": "Taxi_Dist",
          "value": 2.164133073198646e-05,
          "x": 123.57357357357358
         },
         {
          "parameter": "Taxi_Dist",
          "value": 2.1497582810422763e-05,
          "x": 123.73373373373374
         },
         {
          "parameter": "Taxi_Dist",
          "value": 2.1345301620251514e-05,
          "x": 123.8938938938939
         },
         {
          "parameter": "Taxi_Dist",
          "value": 2.1184215253833755e-05,
          "x": 124.05405405405406
         },
         {
          "parameter": "Taxi_Dist",
          "value": 2.1014113559477166e-05,
          "x": 124.21421421421422
         },
         {
          "parameter": "Taxi_Dist",
          "value": 2.083484989302398e-05,
          "x": 124.37437437437438
         },
         {
          "parameter": "Taxi_Dist",
          "value": 2.064634253812836e-05,
          "x": 124.53453453453454
         },
         {
          "parameter": "Taxi_Dist",
          "value": 2.0448575779393945e-05,
          "x": 124.6946946946947
         },
         {
          "parameter": "Taxi_Dist",
          "value": 2.0241600615131443e-05,
          "x": 124.85485485485486
         },
         {
          "parameter": "Taxi_Dist",
          "value": 2.00255350992073e-05,
          "x": 125.01501501501502
         },
         {
          "parameter": "Taxi_Dist",
          "value": 1.9800564304260045e-05,
          "x": 125.17517517517518
         },
         {
          "parameter": "Taxi_Dist",
          "value": 1.9566939901432673e-05,
          "x": 125.33533533533534
         },
         {
          "parameter": "Taxi_Dist",
          "value": 1.9324979354680333e-05,
          "x": 125.4954954954955
         },
         {
          "parameter": "Taxi_Dist",
          "value": 1.9075064730633586e-05,
          "x": 125.65565565565566
         },
         {
          "parameter": "Taxi_Dist",
          "value": 1.8817641127902747e-05,
          "x": 125.81581581581582
         },
         {
          "parameter": "Taxi_Dist",
          "value": 1.8553214732570318e-05,
          "x": 125.97597597597598
         },
         {
          "parameter": "Taxi_Dist",
          "value": 1.8282350509410893e-05,
          "x": 126.13613613613614
         },
         {
          "parameter": "Taxi_Dist",
          "value": 1.8005669541077496e-05,
          "x": 126.2962962962963
         },
         {
          "parameter": "Taxi_Dist",
          "value": 1.7723846030076355e-05,
          "x": 126.45645645645646
         },
         {
          "parameter": "Taxi_Dist",
          "value": 1.743760398079721e-05,
          "x": 126.61661661661662
         },
         {
          "parameter": "Taxi_Dist",
          "value": 1.7147713581155825e-05,
          "x": 126.77677677677679
         },
         {
          "parameter": "Taxi_Dist",
          "value": 1.685498730552008e-05,
          "x": 126.93693693693695
         },
         {
          "parameter": "Taxi_Dist",
          "value": 1.6560275762516972e-05,
          "x": 127.0970970970971
         },
         {
          "parameter": "Taxi_Dist",
          "value": 1.626446331304237e-05,
          "x": 127.25725725725727
         },
         {
          "parameter": "Taxi_Dist",
          "value": 1.5968463485308022e-05,
          "x": 127.41741741741743
         },
         {
          "parameter": "Taxi_Dist",
          "value": 1.567321421505126e-05,
          "x": 127.57757757757759
         },
         {
          "parameter": "Taxi_Dist",
          "value": 1.537967294010007e-05,
          "x": 127.73773773773775
         },
         {
          "parameter": "Taxi_Dist",
          "value": 1.5088811579321835e-05,
          "x": 127.8978978978979
         },
         {
          "parameter": "Taxi_Dist",
          "value": 1.4801611426590426e-05,
          "x": 128.05805805805807
         },
         {
          "parameter": "Taxi_Dist",
          "value": 1.4519057990781959e-05,
          "x": 128.21821821821823
         },
         {
          "parameter": "Taxi_Dist",
          "value": 1.4242135812959427e-05,
          "x": 128.3783783783784
         },
         {
          "parameter": "Taxi_Dist",
          "value": 1.3971823291832798e-05,
          "x": 128.53853853853855
         },
         {
          "parameter": "Taxi_Dist",
          "value": 1.3709087548293819e-05,
          "x": 128.6986986986987
         },
         {
          "parameter": "Taxi_Dist",
          "value": 1.3454879359328896e-05,
          "x": 128.85885885885887
         },
         {
          "parameter": "Taxi_Dist",
          "value": 1.3210128190920212e-05,
          "x": 129.01901901901903
         },
         {
          "parameter": "Taxi_Dist",
          "value": 1.2975737358665164e-05,
          "x": 129.1791791791792
         },
         {
          "parameter": "Taxi_Dist",
          "value": 1.2752579343788233e-05,
          "x": 129.33933933933935
         },
         {
          "parameter": "Taxi_Dist",
          "value": 1.254149129100154e-05,
          "x": 129.4994994994995
         },
         {
          "parameter": "Taxi_Dist",
          "value": 1.2343270713301389e-05,
          "x": 129.65965965965967
         },
         {
          "parameter": "Taxi_Dist",
          "value": 1.2158671427284681e-05,
          "x": 129.81981981981983
         },
         {
          "parameter": "Taxi_Dist",
          "value": 1.1988399740942085e-05,
          "x": 129.97997997998
         },
         {
          "parameter": "Taxi_Dist",
          "value": 1.1833110914150233e-05,
          "x": 130.14014014014015
         },
         {
          "parameter": "Taxi_Dist",
          "value": 1.169340591025576e-05,
          "x": 130.3003003003003
         },
         {
          "parameter": "Taxi_Dist",
          "value": 1.1569828455234324e-05,
          "x": 130.46046046046047
         },
         {
          "parameter": "Taxi_Dist",
          "value": 1.1462862418929705e-05,
          "x": 130.62062062062063
         },
         {
          "parameter": "Taxi_Dist",
          "value": 1.1372929530846851e-05,
          "x": 130.7807807807808
         },
         {
          "parameter": "Taxi_Dist",
          "value": 1.130038744089889e-05,
          "x": 130.94094094094095
         },
         {
          "parameter": "Taxi_Dist",
          "value": 1.124552813340462e-05,
          "x": 131.1011011011011
         },
         {
          "parameter": "Taxi_Dist",
          "value": 1.1208576700511285e-05,
          "x": 131.26126126126127
         },
         {
          "parameter": "Taxi_Dist",
          "value": 1.1189690479088259e-05,
          "x": 131.42142142142143
         },
         {
          "parameter": "Taxi_Dist",
          "value": 1.1188958553010702e-05,
          "x": 131.5815815815816
         },
         {
          "parameter": "Taxi_Dist",
          "value": 1.1206401620638665e-05,
          "x": 131.74174174174175
         },
         {
          "parameter": "Taxi_Dist",
          "value": 1.1241972225205388e-05,
          "x": 131.9019019019019
         },
         {
          "parameter": "Taxi_Dist",
          "value": 1.129555534376736e-05,
          "x": 132.06206206206207
         },
         {
          "parameter": "Taxi_Dist",
          "value": 1.1366969328347055e-05,
          "x": 132.22222222222223
         },
         {
          "parameter": "Taxi_Dist",
          "value": 1.1455967190924623e-05,
          "x": 132.3823823823824
         },
         {
          "parameter": "Taxi_Dist",
          "value": 1.15622382220152e-05,
          "x": 132.54254254254255
         },
         {
          "parameter": "Taxi_Dist",
          "value": 1.1685409930712021e-05,
          "x": 132.7027027027027
         },
         {
          "parameter": "Taxi_Dist",
          "value": 1.1825050292288383e-05,
          "x": 132.86286286286287
         },
         {
          "parameter": "Taxi_Dist",
          "value": 1.1980670287742867e-05,
          "x": 133.02302302302303
         },
         {
          "parameter": "Taxi_Dist",
          "value": 1.215172671804776e-05,
          "x": 133.1831831831832
         },
         {
          "parameter": "Taxi_Dist",
          "value": 1.2337625274329059e-05,
          "x": 133.34334334334335
         },
         {
          "parameter": "Taxi_Dist",
          "value": 1.2537723843774154e-05,
          "x": 133.5035035035035
         },
         {
          "parameter": "Taxi_Dist",
          "value": 1.2751336029739311e-05,
          "x": 133.66366366366367
         },
         {
          "parameter": "Taxi_Dist",
          "value": 1.2977734863318954e-05,
          "x": 133.82382382382383
         },
         {
          "parameter": "Taxi_Dist",
          "value": 1.3216156682552346e-05,
          "x": 133.983983983984
         },
         {
          "parameter": "Taxi_Dist",
          "value": 1.3465805154486701e-05,
          "x": 134.14414414414415
         },
         {
          "parameter": "Taxi_Dist",
          "value": 1.372585541449774e-05,
          "x": 134.3043043043043
         },
         {
          "parameter": "Taxi_Dist",
          "value": 1.399545829659557e-05,
          "x": 134.46446446446447
         },
         {
          "parameter": "Taxi_Dist",
          "value": 1.4273744627925304e-05,
          "x": 134.62462462462463
         },
         {
          "parameter": "Taxi_Dist",
          "value": 1.4559829560311388e-05,
          "x": 134.7847847847848
         },
         {
          "parameter": "Taxi_Dist",
          "value": 1.4852816911503125e-05,
          "x": 134.94494494494495
         },
         {
          "parameter": "Taxi_Dist",
          "value": 1.5151803488758645e-05,
          "x": 135.1051051051051
         },
         {
          "parameter": "Taxi_Dist",
          "value": 1.545588336756409e-05,
          "x": 135.26526526526527
         },
         {
          "parameter": "Taxi_Dist",
          "value": 1.5764152098625605e-05,
          "x": 135.42542542542543
         },
         {
          "parameter": "Taxi_Dist",
          "value": 1.6075710816800973e-05,
          "x": 135.5855855855856
         },
         {
          "parameter": "Taxi_Dist",
          "value": 1.638967022635344e-05,
          "x": 135.74574574574575
         },
         {
          "parameter": "Taxi_Dist",
          "value": 1.670515443781755e-05,
          "x": 135.9059059059059
         },
         {
          "parameter": "Taxi_Dist",
          "value": 1.7021304632862246e-05,
          "x": 136.06606606606607
         },
         {
          "parameter": "Taxi_Dist",
          "value": 1.7337282534819244e-05,
          "x": 136.22622622622623
         },
         {
          "parameter": "Taxi_Dist",
          "value": 1.7652273664010964e-05,
          "x": 136.3863863863864
         },
         {
          "parameter": "Taxi_Dist",
          "value": 1.7965490358654653e-05,
          "x": 136.54654654654655
         },
         {
          "parameter": "Taxi_Dist",
          "value": 1.827617454393341e-05,
          "x": 136.7067067067067
         },
         {
          "parameter": "Taxi_Dist",
          "value": 1.858360023379612e-05,
          "x": 136.86686686686687
         },
         {
          "parameter": "Taxi_Dist",
          "value": 1.888707575216915e-05,
          "x": 137.02702702702703
         },
         {
          "parameter": "Taxi_Dist",
          "value": 1.9185945662516688e-05,
          "x": 137.1871871871872
         },
         {
          "parameter": "Taxi_Dist",
          "value": 1.947959239705837e-05,
          "x": 137.34734734734735
         },
         {
          "parameter": "Taxi_Dist",
          "value": 1.9767437579423832e-05,
          "x": 137.5075075075075
         },
         {
          "parameter": "Taxi_Dist",
          "value": 2.0048943037075623e-05,
          "x": 137.66766766766767
         },
         {
          "parameter": "Taxi_Dist",
          "value": 2.0323611502439842e-05,
          "x": 137.82782782782783
         },
         {
          "parameter": "Taxi_Dist",
          "value": 2.0590987004327374e-05,
          "x": 137.987987987988
         },
         {
          "parameter": "Taxi_Dist",
          "value": 2.0850654953881184e-05,
          "x": 138.14814814814815
         },
         {
          "parameter": "Taxi_Dist",
          "value": 2.110224193192134e-05,
          "x": 138.3083083083083
         },
         {
          "parameter": "Taxi_Dist",
          "value": 2.134541518715162e-05,
          "x": 138.46846846846847
         },
         {
          "parameter": "Taxi_Dist",
          "value": 2.1579881857214057e-05,
          "x": 138.62862862862863
         },
         {
          "parameter": "Taxi_Dist",
          "value": 2.1805387927000126e-05,
          "x": 138.7887887887888
         },
         {
          "parameter": "Taxi_Dist",
          "value": 2.2021716940924208e-05,
          "x": 138.94894894894895
         },
         {
          "parameter": "Taxi_Dist",
          "value": 2.2228688488007766e-05,
          "x": 139.1091091091091
         },
         {
          "parameter": "Taxi_Dist",
          "value": 2.242615648058609e-05,
          "x": 139.26926926926927
         },
         {
          "parameter": "Taxi_Dist",
          "value": 2.2614007249207142e-05,
          "x": 139.42942942942943
         },
         {
          "parameter": "Taxi_Dist",
          "value": 2.2792157477821966e-05,
          "x": 139.5895895895896
         },
         {
          "parameter": "Taxi_Dist",
          "value": 2.296055200464618e-05,
          "x": 139.74974974974975
         },
         {
          "parameter": "Taxi_Dist",
          "value": 2.3119161515083355e-05,
          "x": 139.9099099099099
         },
         {
          "parameter": "Taxi_Dist",
          "value": 2.3267980153827956e-05,
          "x": 140.07007007007007
         },
         {
          "parameter": "Taxi_Dist",
          "value": 2.3407023083694764e-05,
          "x": 140.23023023023023
         },
         {
          "parameter": "Taxi_Dist",
          "value": 2.3536324018844087e-05,
          "x": 140.3903903903904
         },
         {
          "parameter": "Taxi_Dist",
          "value": 2.36559327598817e-05,
          "x": 140.55055055055055
         },
         {
          "parameter": "Taxi_Dist",
          "value": 2.3765912757807827e-05,
          "x": 140.7107107107107
         },
         {
          "parameter": "Taxi_Dist",
          "value": 2.3866338732972683e-05,
          "x": 140.87087087087087
         },
         {
          "parameter": "Taxi_Dist",
          "value": 2.3957294374073716e-05,
          "x": 141.03103103103103
         },
         {
          "parameter": "Taxi_Dist",
          "value": 2.403887014081345e-05,
          "x": 141.1911911911912
         },
         {
          "parameter": "Taxi_Dist",
          "value": 2.4111161192139965e-05,
          "x": 141.35135135135135
         },
         {
          "parameter": "Taxi_Dist",
          "value": 2.4174265460035714e-05,
          "x": 141.51151151151151
         },
         {
          "parameter": "Taxi_Dist",
          "value": 2.422828188662682e-05,
          "x": 141.67167167167167
         },
         {
          "parameter": "Taxi_Dist",
          "value": 2.4273308839981054e-05,
          "x": 141.83183183183183
         },
         {
          "parameter": "Taxi_Dist",
          "value": 2.4309442721379316e-05,
          "x": 141.991991991992
         },
         {
          "parameter": "Taxi_Dist",
          "value": 2.4336776774115748e-05,
          "x": 142.15215215215215
         },
         {
          "parameter": "Taxi_Dist",
          "value": 2.4355400101041558e-05,
          "x": 142.31231231231232
         },
         {
          "parameter": "Taxi_Dist",
          "value": 2.4365396895156123e-05,
          "x": 142.47247247247248
         },
         {
          "parameter": "Taxi_Dist",
          "value": 2.4366845884604603e-05,
          "x": 142.63263263263264
         },
         {
          "parameter": "Taxi_Dist",
          "value": 2.4359819990506565e-05,
          "x": 142.7927927927928
         },
         {
          "parameter": "Taxi_Dist",
          "value": 2.4344386193154586e-05,
          "x": 142.95295295295296
         },
         {
          "parameter": "Taxi_Dist",
          "value": 2.43206055993276e-05,
          "x": 143.11311311311312
         },
         {
          "parameter": "Taxi_Dist",
          "value": 2.4288533700800376e-05,
          "x": 143.27327327327328
         },
         {
          "parameter": "Taxi_Dist",
          "value": 2.424822081163647e-05,
          "x": 143.43343343343344
         },
         {
          "parameter": "Taxi_Dist",
          "value": 2.4199712669563706e-05,
          "x": 143.5935935935936
         },
         {
          "parameter": "Taxi_Dist",
          "value": 2.414305118468178e-05,
          "x": 143.75375375375376
         },
         {
          "parameter": "Taxi_Dist",
          "value": 2.407827531697132e-05,
          "x": 143.91391391391392
         },
         {
          "parameter": "Taxi_Dist",
          "value": 2.4005422062588e-05,
          "x": 144.07407407407408
         },
         {
          "parameter": "Taxi_Dist",
          "value": 2.392452752775626e-05,
          "x": 144.23423423423424
         },
         {
          "parameter": "Taxi_Dist",
          "value": 2.3835628068241175e-05,
          "x": 144.3943943943944
         },
         {
          "parameter": "Taxi_Dist",
          "value": 2.37387614718849e-05,
          "x": 144.55455455455456
         },
         {
          "parameter": "Taxi_Dist",
          "value": 2.363396816155298e-05,
          "x": 144.71471471471472
         },
         {
          "parameter": "Taxi_Dist",
          "value": 2.35212923960447e-05,
          "x": 144.87487487487488
         },
         {
          "parameter": "Taxi_Dist",
          "value": 2.3400783447076537e-05,
          "x": 145.03503503503504
         },
         {
          "parameter": "Taxi_Dist",
          "value": 2.3272496731335738e-05,
          "x": 145.1951951951952
         },
         {
          "parameter": "Taxi_Dist",
          "value": 2.3136494877808285e-05,
          "x": 145.35535535535536
         },
         {
          "parameter": "Taxi_Dist",
          "value": 2.2992848712087547e-05,
          "x": 145.51551551551552
         },
         {
          "parameter": "Taxi_Dist",
          "value": 2.2841638141142224e-05,
          "x": 145.67567567567568
         },
         {
          "parameter": "Taxi_Dist",
          "value": 2.2682952924032415e-05,
          "x": 145.83583583583584
         },
         {
          "parameter": "Taxi_Dist",
          "value": 2.251689331627653e-05,
          "x": 145.995995995996
         },
         {
          "parameter": "Taxi_Dist",
          "value": 2.234357057795065e-05,
          "x": 146.15615615615616
         },
         {
          "parameter": "Taxi_Dist",
          "value": 2.2163107338104745e-05,
          "x": 146.31631631631632
         },
         {
          "parameter": "Taxi_Dist",
          "value": 2.1975637810664434e-05,
          "x": 146.47647647647648
         },
         {
          "parameter": "Taxi_Dist",
          "value": 2.1781307859607704e-05,
          "x": 146.63663663663664
         },
         {
          "parameter": "Taxi_Dist",
          "value": 2.1580274913819875e-05,
          "x": 146.7967967967968
         },
         {
          "parameter": "Taxi_Dist",
          "value": 2.1372707734591325e-05,
          "x": 146.95695695695696
         },
         {
          "parameter": "Taxi_Dist",
          "value": 2.115878604119057e-05,
          "x": 147.11711711711712
         },
         {
          "parameter": "Taxi_Dist",
          "value": 2.0938700002275523e-05,
          "x": 147.27727727727728
         },
         {
          "parameter": "Taxi_Dist",
          "value": 2.071264960306431e-05,
          "x": 147.43743743743744
         },
         {
          "parameter": "Taxi_Dist",
          "value": 2.048084390013499e-05,
          "x": 147.5975975975976
         },
         {
          "parameter": "Taxi_Dist",
          "value": 2.0243500177432335e-05,
          "x": 147.75775775775776
         },
         {
          "parameter": "Taxi_Dist",
          "value": 2.0000843018501952e-05,
          "x": 147.91791791791792
         },
         {
          "parameter": "Taxi_Dist",
          "value": 1.975310331112675e-05,
          "x": 148.07807807807808
         },
         {
          "parameter": "Taxi_Dist",
          "value": 1.9500517201391083e-05,
          "x": 148.23823823823824
         },
         {
          "parameter": "Taxi_Dist",
          "value": 1.9243325014734227e-05,
          "x": 148.3983983983984
         },
         {
          "parameter": "Taxi_Dist",
          "value": 1.8981770161772058e-05,
          "x": 148.55855855855856
         },
         {
          "parameter": "Taxi_Dist",
          "value": 1.8716098046564484e-05,
          "x": 148.71871871871872
         },
         {
          "parameter": "Taxi_Dist",
          "value": 1.8446554994593928e-05,
          "x": 148.87887887887888
         },
         {
          "parameter": "Taxi_Dist",
          "value": 1.8173387217009542e-05,
          "x": 149.03903903903904
         },
         {
          "parameter": "Taxi_Dist",
          "value": 1.7896839826697375e-05,
          "x": 149.1991991991992
         },
         {
          "parameter": "Taxi_Dist",
          "value": 1.7617155920486633e-05,
          "x": 149.35935935935936
         },
         {
          "parameter": "Taxi_Dist",
          "value": 1.733457574031655e-05,
          "x": 149.51951951951952
         },
         {
          "parameter": "Taxi_Dist",
          "value": 1.704933592450334e-05,
          "x": 149.67967967967968
         },
         {
          "parameter": "Taxi_Dist",
          "value": 1.676166885839222e-05,
          "x": 149.83983983983984
         },
         {
          "parameter": "Taxi_Dist",
          "value": 1.647180213169472e-05,
          "x": 150
         }
        ]
       },
       "layer": [
        {
         "data": {
          "name": "data-06d31e01a0060a4a20c9312e8cd867bb"
         },
         "encoding": {
          "color": {
           "field": "parameter",
           "scale": {
            "domain": [
             "Rideshare_shared_price_estimate",
             "Rideshare_regular_price_estimate",
             "Taxi_price_estimate"
            ],
            "range": [
             "red",
             "green",
             "blue"
            ]
           },
           "type": "nominal"
          },
          "size": {
           "value": 5
          },
          "x": {
           "field": "value",
           "type": "quantitative"
          }
         },
         "mark": {
          "color": "red",
          "type": "rule"
         },
         "selection": {
          " ": {
           "bind": {
            "input": "range",
            "max": 9,
            "min": 0,
            "step": 1
           },
           "fields": [
            "hour"
           ],
           "init": {
            "hour": 0
           },
           "type": "single"
          }
         },
         "transform": [
          {
           "filter": {
            "selection": " "
           }
          }
         ]
        },
        {
         "data": {
          "name": "data-f0c1fcdfb3277d4a0d17387cf11418cd"
         },
         "encoding": {
          "color": {
           "field": "parameter",
           "legend": null,
           "scale": {
            "domain": [
             "Pooled_Rideshare_Dist",
             "Rideshare_Dist",
             "Taxi_Dist"
            ],
            "range": [
             "red",
             "green",
             "blue"
            ]
           },
           "type": "nominal"
          },
          "opacity": {
           "condition": {
            "selection": "Ride Type",
            "value": 0.6
           },
           "value": 0
          },
          "x": {
           "field": "x",
           "title": "Ride Cost (Dollars)",
           "type": "quantitative"
          },
          "y": {
           "field": "value",
           "title": "Density",
           "type": "quantitative"
          }
         },
         "mark": {
          "point": false,
          "size": 4,
          "type": "area"
         },
         "selection": {
          "Ride Type": {
           "bind": {
            "input": "select",
            "options": [
             "Pooled_Rideshare_Dist",
             "Rideshare_Dist",
             "Taxi_Dist"
            ]
           },
           "clear": false,
           "fields": [
            "parameter"
           ],
           "init": {
            "parameter": "Rideshare_Dist"
           },
           "on": "doubleclick",
           "type": "single"
          }
         }
        }
       ]
      },
      "image/png": "[encoded data removed]",
      "text/plain": [
       "<VegaLite 3 object>\n",
       "\n",
       "If you see this message, it means the renderer has not been properly enabled\n",
       "for the frontend that you are using. For more information, see\n",
       "https://altair-viz.github.io/user_guide/troubleshooting.html\n"
      ]
     },
     "execution_count": 72,
     "metadata": {},
     "output_type": "execute_result"
    }
   ],
   "source": [
    "USER_PARAMS = {\"pickup\": \"chicago ohare airport\",\n",
    "               \"dropoff\": \"the bean chicago\",\n",
    "               \"forecast_hrs\":1}\n",
    "\n",
    "results = run_Fair_Fare(USER_PARAMS)\n",
    "\n",
    "pd.set_option(\"display.precision\", 2)\n",
    "print(pd.DataFrame(results[5]).iloc[0])\n",
    "\n",
    "rideshare_shared_fares,rideshare_fares,taxi_fares = results[2:5]\n",
    "fare_dict = {'Pooled_Rideshare_Dist':rideshare_shared_fares, \n",
    "             'Rideshare_Dist': rideshare_fares, 'Taxi_Dist': taxi_fares}\n",
    "predictions = results[5]\n",
    "\n",
    "show_viz(results,fare_dict, predictions)"
   ]
  },
  {
   "cell_type": "markdown",
   "metadata": {},
   "source": [
    "### Audience Participation"
   ]
  },
  {
   "cell_type": "code",
   "execution_count": 64,
   "metadata": {},
   "outputs": [
    {
     "name": "stdout",
     "output_type": "stream",
     "text": [
      "Rideshare_shared_price_estimate      6.31\n",
      "Rideshare_regular_price_estimate    11.04\n",
      "Taxi_price_estimate                 12.30\n",
      "Name: 0, dtype: float64\n"
     ]
    },
    {
     "data": {
      "application/vnd.vegalite.v3+json": {
       "$schema": "https://vega.github.io/schema/vega-lite/v3.3.0.json",
       "config": {
        "mark": {
         "tooltip": null
        },
        "view": {
         "height": 300,
         "width": 400
        }
       },
       "datasets": {
        "data-699c06b1bcb3f28e6736d669cc3225dc": [
         {
          "parameter": "Pooled_Rideshare_Dist",
          "value": 0.04380852653206652,
          "x": 3.293293293293294
         },
         {
          "parameter": "Pooled_Rideshare_Dist",
          "value": 0.055213000092491034,
          "x": 3.453453453453454
         },
         {
          "parameter": "Pooled_Rideshare_Dist",
          "value": 0.06804498583823132,
          "x": 3.613613613613614
         },
         {
          "parameter": "Pooled_Rideshare_Dist",
          "value": 0.08200450483567163,
          "x": 3.773773773773774
         },
         {
          "parameter": "Pooled_Rideshare_Dist",
          "value": 0.09665103466121969,
          "x": 3.9339339339339343
         },
         {
          "parameter": "Pooled_Rideshare_Dist",
          "value": 0.11142181611643533,
          "x": 4.094094094094094
         },
         {
          "parameter": "Pooled_Rideshare_Dist",
          "value": 0.12566958717081186,
          "x": 4.2542542542542545
         },
         {
          "parameter": "Pooled_Rideshare_Dist",
          "value": 0.13871777985964473,
          "x": 4.414414414414415
         },
         {
          "parameter": "Pooled_Rideshare_Dist",
          "value": 0.14992783320598038,
          "x": 4.574574574574575
         },
         {
          "parameter": "Pooled_Rideshare_Dist",
          "value": 0.15877032100476723,
          "x": 4.734734734734735
         },
         {
          "parameter": "Pooled_Rideshare_Dist",
          "value": 0.16488974985987467,
          "x": 4.894894894894895
         },
         {
          "parameter": "Pooled_Rideshare_Dist",
          "value": 0.16815267996738995,
          "x": 5.055055055055055
         },
         {
          "parameter": "Pooled_Rideshare_Dist",
          "value": 0.16867049120468747,
          "x": 5.215215215215215
         },
         {
          "parameter": "Pooled_Rideshare_Dist",
          "value": 0.16679151248250645,
          "x": 5.375375375375375
         },
         {
          "parameter": "Pooled_Rideshare_Dist",
          "value": 0.16306183138901248,
          "x": 5.535535535535535
         },
         {
          "parameter": "Pooled_Rideshare_Dist",
          "value": 0.15815910503395547,
          "x": 5.6956956956956954
         },
         {
          "parameter": "Pooled_Rideshare_Dist",
          "value": 0.1528081897495859,
          "x": 5.8558558558558556
         },
         {
          "parameter": "Pooled_Rideshare_Dist",
          "value": 0.1476905618605142,
          "x": 6.016016016016017
         },
         {
          "parameter": "Pooled_Rideshare_Dist",
          "value": 0.1433607252175265,
          "x": 6.1761761761761775
         },
         {
          "parameter": "Pooled_Rideshare_Dist",
          "value": 0.1401818619287454,
          "x": 6.336336336336338
         },
         {
          "parameter": "Pooled_Rideshare_Dist",
          "value": 0.13829003948375582,
          "x": 6.496496496496498
         },
         {
          "parameter": "Pooled_Rideshare_Dist",
          "value": 0.13759184589412596,
          "x": 6.656656656656658
         },
         {
          "parameter": "Pooled_Rideshare_Dist",
          "value": 0.1377951339489262,
          "x": 6.816816816816818
         },
         {
          "parameter": "Pooled_Rideshare_Dist",
          "value": 0.13846747224399142,
          "x": 6.976976976976978
         },
         {
          "parameter": "Pooled_Rideshare_Dist",
          "value": 0.13911274228631293,
          "x": 7.137137137137138
         },
         {
          "parameter": "Pooled_Rideshare_Dist",
          "value": 0.13925373762681112,
          "x": 7.297297297297298
         },
         {
          "parameter": "Pooled_Rideshare_Dist",
          "value": 0.13850799590475488,
          "x": 7.457457457457458
         },
         {
          "parameter": "Pooled_Rideshare_Dist",
          "value": 0.1366454891906318,
          "x": 7.6176176176176185
         },
         {
          "parameter": "Pooled_Rideshare_Dist",
          "value": 0.1336199466006306,
          "x": 7.777777777777779
         },
         {
          "parameter": "Pooled_Rideshare_Dist",
          "value": 0.1295699409184457,
          "x": 7.937937937937939
         },
         {
          "parameter": "Pooled_Rideshare_Dist",
          "value": 0.12479070727934273,
          "x": 8.098098098098099
         },
         {
          "parameter": "Pooled_Rideshare_Dist",
          "value": 0.11968218593742426,
          "x": 8.258258258258259
         },
         {
          "parameter": "Pooled_Rideshare_Dist",
          "value": 0.11468227653727991,
          "x": 8.418418418418419
         },
         {
          "parameter": "Pooled_Rideshare_Dist",
          "value": 0.11019623576681842,
          "x": 8.578578578578579
         },
         {
          "parameter": "Pooled_Rideshare_Dist",
          "value": 0.10653329607892838,
          "x": 8.73873873873874
         },
         {
          "parameter": "Pooled_Rideshare_Dist",
          "value": 0.10385998615813742,
          "x": 8.8988988988989
         },
         {
          "parameter": "Pooled_Rideshare_Dist",
          "value": 0.10217662824113759,
          "x": 9.05905905905906
         },
         {
          "parameter": "Pooled_Rideshare_Dist",
          "value": 0.10131961605711558,
          "x": 9.21921921921922
         },
         {
          "parameter": "Pooled_Rideshare_Dist",
          "value": 0.1009879927609053,
          "x": 9.37937937937938
         },
         {
          "parameter": "Pooled_Rideshare_Dist",
          "value": 0.10078920469629783,
          "x": 9.53953953953954
         },
         {
          "parameter": "Pooled_Rideshare_Dist",
          "value": 0.10029625705732938,
          "x": 9.6996996996997
         },
         {
          "parameter": "Pooled_Rideshare_Dist",
          "value": 0.09910721122396277,
          "x": 9.85985985985986
         },
         {
          "parameter": "Pooled_Rideshare_Dist",
          "value": 0.0968981750411286,
          "x": 10.02002002002002
         },
         {
          "parameter": "Pooled_Rideshare_Dist",
          "value": 0.09346253029536288,
          "x": 10.18018018018018
         },
         {
          "parameter": "Pooled_Rideshare_Dist",
          "value": 0.08873177457111298,
          "x": 10.34034034034034
         },
         {
          "parameter": "Pooled_Rideshare_Dist",
          "value": 0.08277652486132064,
          "x": 10.5005005005005
         },
         {
          "parameter": "Pooled_Rideshare_Dist",
          "value": 0.0757893679436967,
          "x": 10.66066066066066
         },
         {
          "parameter": "Pooled_Rideshare_Dist",
          "value": 0.06805381790969785,
          "x": 10.82082082082082
         },
         {
          "parameter": "Pooled_Rideshare_Dist",
          "value": 0.0599052634052069,
          "x": 10.98098098098098
         },
         {
          "parameter": "Pooled_Rideshare_Dist",
          "value": 0.05169027197846392,
          "x": 11.14114114114114
         },
         {
          "parameter": "Pooled_Rideshare_Dist",
          "value": 0.04373001085201528,
          "x": 11.3013013013013
         },
         {
          "parameter": "Pooled_Rideshare_Dist",
          "value": 0.0362920866627371,
          "x": 11.461461461461461
         },
         {
          "parameter": "Pooled_Rideshare_Dist",
          "value": 0.029573175071034227,
          "x": 11.621621621621621
         },
         {
          "parameter": "Pooled_Rideshare_Dist",
          "value": 0.023692816094477744,
          "x": 11.781781781781781
         },
         {
          "parameter": "Pooled_Rideshare_Dist",
          "value": 0.018697052161785643,
          "x": 11.941941941941941
         },
         {
          "parameter": "Pooled_Rideshare_Dist",
          "value": 0.014569425218307031,
          "x": 12.102102102102101
         },
         {
          "parameter": "Pooled_Rideshare_Dist",
          "value": 0.011246321911266212,
          "x": 12.262262262262261
         },
         {
          "parameter": "Pooled_Rideshare_Dist",
          "value": 0.008633718745762383,
          "x": 12.422422422422422
         },
         {
          "parameter": "Pooled_Rideshare_Dist",
          "value": 0.006622888002814444,
          "x": 12.582582582582582
         },
         {
          "parameter": "Pooled_Rideshare_Dist",
          "value": 0.005103386782427188,
          "x": 12.742742742742742
         },
         {
          "parameter": "Pooled_Rideshare_Dist",
          "value": 0.003972473753364976,
          "x": 12.902902902902902
         },
         {
          "parameter": "Pooled_Rideshare_Dist",
          "value": 0.0031408281851778943,
          "x": 13.063063063063062
         },
         {
          "parameter": "Pooled_Rideshare_Dist",
          "value": 0.0025349893367536997,
          "x": 13.223223223223222
         },
         {
          "parameter": "Pooled_Rideshare_Dist",
          "value": 0.002097257177457579,
          "x": 13.383383383383382
         },
         {
          "parameter": "Pooled_Rideshare_Dist",
          "value": 0.0017839122696069244,
          "x": 13.543543543543542
         },
         {
          "parameter": "Pooled_Rideshare_Dist",
          "value": 0.0015625686424458863,
          "x": 13.703703703703702
         },
         {
          "parameter": "Pooled_Rideshare_Dist",
          "value": 0.0014093261282674993,
          "x": 13.863863863863862
         },
         {
          "parameter": "Pooled_Rideshare_Dist",
          "value": 0.0013061931720605585,
          "x": 14.024024024024023
         },
         {
          "parameter": "Pooled_Rideshare_Dist",
          "value": 0.0012390517340899075,
          "x": 14.184184184184183
         },
         {
          "parameter": "Pooled_Rideshare_Dist",
          "value": 0.0011962622523470163,
          "x": 14.344344344344343
         },
         {
          "parameter": "Pooled_Rideshare_Dist",
          "value": 0.0011678745361881928,
          "x": 14.504504504504503
         },
         {
          "parameter": "Pooled_Rideshare_Dist",
          "value": 0.0011453247456579307,
          "x": 14.664664664664663
         },
         {
          "parameter": "Pooled_Rideshare_Dist",
          "value": 0.0011214565894468332,
          "x": 14.824824824824823
         },
         {
          "parameter": "Pooled_Rideshare_Dist",
          "value": 0.0010906994505769782,
          "x": 14.984984984984983
         },
         {
          "parameter": "Pooled_Rideshare_Dist",
          "value": 0.0010492580797405446,
          "x": 15.145145145145143
         },
         {
          "parameter": "Pooled_Rideshare_Dist",
          "value": 0.0009952078739299355,
          "x": 15.305305305305303
         },
         {
          "parameter": "Pooled_Rideshare_Dist",
          "value": 0.0009284369689615948,
          "x": 15.465465465465464
         },
         {
          "parameter": "Pooled_Rideshare_Dist",
          "value": 0.0008504228208967524,
          "x": 15.625625625625624
         },
         {
          "parameter": "Pooled_Rideshare_Dist",
          "value": 0.0007638696982361751,
          "x": 15.785785785785787
         },
         {
          "parameter": "Pooled_Rideshare_Dist",
          "value": 0.0006722598539208586,
          "x": 15.945945945945947
         },
         {
          "parameter": "Pooled_Rideshare_Dist",
          "value": 0.0005793830047577855,
          "x": 16.106106106106107
         },
         {
          "parameter": "Pooled_Rideshare_Dist",
          "value": 0.0004889066716918312,
          "x": 16.266266266266268
         },
         {
          "parameter": "Pooled_Rideshare_Dist",
          "value": 0.0004040367363014542,
          "x": 16.426426426426428
         },
         {
          "parameter": "Pooled_Rideshare_Dist",
          "value": 0.0003272975344575477,
          "x": 16.586586586586588
         },
         {
          "parameter": "Pooled_Rideshare_Dist",
          "value": 0.0002604387097378922,
          "x": 16.746746746746748
         },
         {
          "parameter": "Pooled_Rideshare_Dist",
          "value": 0.00020445616697570884,
          "x": 16.906906906906908
         },
         {
          "parameter": "Pooled_Rideshare_Dist",
          "value": 0.0001596998526812381,
          "x": 17.067067067067068
         },
         {
          "parameter": "Pooled_Rideshare_Dist",
          "value": 0.00012603322090576311,
          "x": 17.227227227227228
         },
         {
          "parameter": "Pooled_Rideshare_Dist",
          "value": 0.00010300808479861026,
          "x": 17.38738738738739
         },
         {
          "parameter": "Pooled_Rideshare_Dist",
          "value": 9.002293896377686e-05,
          "x": 17.54754754754755
         },
         {
          "parameter": "Pooled_Rideshare_Dist",
          "value": 8.644100199914553e-05,
          "x": 17.70770770770771
         },
         {
          "parameter": "Pooled_Rideshare_Dist",
          "value": 9.165432026836707e-05,
          "x": 17.86786786786787
         },
         {
          "parameter": "Pooled_Rideshare_Dist",
          "value": 0.00010509070388672949,
          "x": 18.02802802802803
         },
         {
          "parameter": "Pooled_Rideshare_Dist",
          "value": 0.0001261698483397105,
          "x": 18.18818818818819
         },
         {
          "parameter": "Pooled_Rideshare_Dist",
          "value": 0.0001542229071134166,
          "x": 18.34834834834835
         },
         {
          "parameter": "Pooled_Rideshare_Dist",
          "value": 0.0001883954284089211,
          "x": 18.50850850850851
         },
         {
          "parameter": "Pooled_Rideshare_Dist",
          "value": 0.00022755646712809636,
          "x": 18.66866866866867
         },
         {
          "parameter": "Pooled_Rideshare_Dist",
          "value": 0.00027023642862313485,
          "x": 18.82882882882883
         },
         {
          "parameter": "Pooled_Rideshare_Dist",
          "value": 0.0003146125668219423,
          "x": 18.98898898898899
         },
         {
          "parameter": "Pooled_Rideshare_Dist",
          "value": 0.0003585541760699609,
          "x": 19.14914914914915
         },
         {
          "parameter": "Rideshare_Dist",
          "value": 5.9628130540903256e-09,
          "x": 3.293293293293294
         },
         {
          "parameter": "Rideshare_Dist",
          "value": 1.5887901142951945e-08,
          "x": 3.453453453453454
         },
         {
          "parameter": "Rideshare_Dist",
          "value": 4.075334011045734e-08,
          "x": 3.613613613613614
         },
         {
          "parameter": "Rideshare_Dist",
          "value": 1.006332015290263e-07,
          "x": 3.773773773773774
         },
         {
          "parameter": "Rideshare_Dist",
          "value": 2.392218647980213e-07,
          "x": 3.9339339339339343
         },
         {
          "parameter": "Rideshare_Dist",
          "value": 5.474470727151047e-07,
          "x": 4.094094094094094
         },
         {
          "parameter": "Rideshare_Dist",
          "value": 1.2060502963700336e-06,
          "x": 4.2542542542542545
         },
         {
          "parameter": "Rideshare_Dist",
          "value": 2.5578278790516384e-06,
          "x": 4.414414414414415
         },
         {
          "parameter": "Rideshare_Dist",
          "value": 5.22228914900014e-06,
          "x": 4.574574574574575
         },
         {
          "parameter": "Rideshare_Dist",
          "value": 1.0264461694281619e-05,
          "x": 4.734734734734735
         },
         {
          "parameter": "Rideshare_Dist",
          "value": 1.9422300440959205e-05,
          "x": 4.894894894894895
         },
         {
          "parameter": "Rideshare_Dist",
          "value": 3.538024423993858e-05,
          "x": 5.055055055055055
         },
         {
          "parameter": "Rideshare_Dist",
          "value": 6.204807602194186e-05,
          "x": 5.215215215215215
         },
         {
          "parameter": "Rideshare_Dist",
          "value": 0.0001047669399089175,
          "x": 5.375375375375375
         },
         {
          "parameter": "Rideshare_Dist",
          "value": 0.0001703283122552482,
          "x": 5.535535535535535
         },
         {
          "parameter": "Rideshare_Dist",
          "value": 0.0002666767392588065,
          "x": 5.6956956956956954
         },
         {
          "parameter": "Rideshare_Dist",
          "value": 0.0004022016619258548,
          "x": 5.8558558558558556
         },
         {
          "parameter": "Rideshare_Dist",
          "value": 0.0005846389722383358,
          "x": 6.016016016016017
         },
         {
          "parameter": "Rideshare_Dist",
          "value": 0.0008198232563090326,
          "x": 6.1761761761761775
         },
         {
          "parameter": "Rideshare_Dist",
          "value": 0.0011108622424154738,
          "x": 6.336336336336338
         },
         {
          "parameter": "Rideshare_Dist",
          "value": 0.0014587226267459433,
          "x": 6.496496496496498
         },
         {
          "parameter": "Rideshare_Dist",
          "value": 0.0018656647160717322,
          "x": 6.656656656656658
         },
         {
          "parameter": "Rideshare_Dist",
          "value": 0.0023433495559202983,
          "x": 6.816816816816818
         },
         {
          "parameter": "Rideshare_Dist",
          "value": 0.0029276293296416176,
          "x": 6.976976976976978
         },
         {
          "parameter": "Rideshare_Dist",
          "value": 0.00370181881144591,
          "x": 7.137137137137138
         },
         {
          "parameter": "Rideshare_Dist",
          "value": 0.004829345690083774,
          "x": 7.297297297297298
         },
         {
          "parameter": "Rideshare_Dist",
          "value": 0.006594729238478929,
          "x": 7.457457457457458
         },
         {
          "parameter": "Rideshare_Dist",
          "value": 0.009448507930341713,
          "x": 7.6176176176176185
         },
         {
          "parameter": "Rideshare_Dist",
          "value": 0.014046972278941475,
          "x": 7.777777777777779
         },
         {
          "parameter": "Rideshare_Dist",
          "value": 0.021271958127876276,
          "x": 7.937937937937939
         },
         {
          "parameter": "Rideshare_Dist",
          "value": 0.032211131299739355,
          "x": 8.098098098098099
         },
         {
          "parameter": "Rideshare_Dist",
          "value": 0.04807784001800759,
          "x": 8.258258258258259
         },
         {
          "parameter": "Rideshare_Dist",
          "value": 0.07005494725060897,
          "x": 8.418418418418419
         },
         {
          "parameter": "Rideshare_Dist",
          "value": 0.09906150702094796,
          "x": 8.578578578578579
         },
         {
          "parameter": "Rideshare_Dist",
          "value": 0.13546451688881495,
          "x": 8.73873873873874
         },
         {
          "parameter": "Rideshare_Dist",
          "value": 0.17878587554693853,
          "x": 8.8988988988989
         },
         {
          "parameter": "Rideshare_Dist",
          "value": 0.22747833004922807,
          "x": 9.05905905905906
         },
         {
          "parameter": "Rideshare_Dist",
          "value": 0.278852500672727,
          "x": 9.21921921921922
         },
         {
          "parameter": "Rideshare_Dist",
          "value": 0.3292207924981747,
          "x": 9.37937937937938
         },
         {
          "parameter": "Rideshare_Dist",
          "value": 0.3742808110507044,
          "x": 9.53953953953954
         },
         {
          "parameter": "Rideshare_Dist",
          "value": 0.40969876954597273,
          "x": 9.6996996996997
         },
         {
          "parameter": "Rideshare_Dist",
          "value": 0.43179003336713184,
          "x": 9.85985985985986
         },
         {
          "parameter": "Rideshare_Dist",
          "value": 0.4381515122446887,
          "x": 10.02002002002002
         },
         {
          "parameter": "Rideshare_Dist",
          "value": 0.4280970087207106,
          "x": 10.18018018018018
         },
         {
          "parameter": "Rideshare_Dist",
          "value": 0.40278744180554477,
          "x": 10.34034034034034
         },
         {
          "parameter": "Rideshare_Dist",
          "value": 0.3650226531660763,
          "x": 10.5005005005005
         },
         {
          "parameter": "Rideshare_Dist",
          "value": 0.31874690375243786,
          "x": 10.66066066066066
         },
         {
          "parameter": "Rideshare_Dist",
          "value": 0.2683887323293529,
          "x": 10.82082082082082
         },
         {
          "parameter": "Rideshare_Dist",
          "value": 0.21818674067969995,
          "x": 10.98098098098098
         },
         {
          "parameter": "Rideshare_Dist",
          "value": 0.17163954445407764,
          "x": 11.14114114114114
         },
         {
          "parameter": "Rideshare_Dist",
          "value": 0.13116965067248354,
          "x": 11.3013013013013
         },
         {
          "parameter": "Rideshare_Dist",
          "value": 0.09802696438534866,
          "x": 11.461461461461461
         },
         {
          "parameter": "Rideshare_Dist",
          "value": 0.07239942799236011,
          "x": 11.621621621621621
         },
         {
          "parameter": "Rideshare_Dist",
          "value": 0.05366128526878686,
          "x": 11.781781781781781
         },
         {
          "parameter": "Rideshare_Dist",
          "value": 0.04067876951782044,
          "x": 11.941941941941941
         },
         {
          "parameter": "Rideshare_Dist",
          "value": 0.03210428692614237,
          "x": 12.102102102102101
         },
         {
          "parameter": "Rideshare_Dist",
          "value": 0.026613658532968733,
          "x": 12.262262262262261
         },
         {
          "parameter": "Rideshare_Dist",
          "value": 0.023066497022116966,
          "x": 12.422422422422422
         },
         {
          "parameter": "Rideshare_Dist",
          "value": 0.02059021143984842,
          "x": 12.582582582582582
         },
         {
          "parameter": "Rideshare_Dist",
          "value": 0.01860059844937791,
          "x": 12.742742742742742
         },
         {
          "parameter": "Rideshare_Dist",
          "value": 0.016777068446563452,
          "x": 12.902902902902902
         },
         {
          "parameter": "Rideshare_Dist",
          "value": 0.015010536979254726,
          "x": 13.063063063063062
         },
         {
          "parameter": "Rideshare_Dist",
          "value": 0.013339284477852797,
          "x": 13.223223223223222
         },
         {
          "parameter": "Rideshare_Dist",
          "value": 0.01188436414866605,
          "x": 13.383383383383382
         },
         {
          "parameter": "Rideshare_Dist",
          "value": 0.01079236806306268,
          "x": 13.543543543543542
         },
         {
          "parameter": "Rideshare_Dist",
          "value": 0.010190019217923889,
          "x": 13.703703703703702
         },
         {
          "parameter": "Rideshare_Dist",
          "value": 0.010152419844610698,
          "x": 13.863863863863862
         },
         {
          "parameter": "Rideshare_Dist",
          "value": 0.010685014823404984,
          "x": 14.024024024024023
         },
         {
          "parameter": "Rideshare_Dist",
          "value": 0.011718397880441444,
          "x": 14.184184184184183
         },
         {
          "parameter": "Rideshare_Dist",
          "value": 0.013114721572353067,
          "x": 14.344344344344343
         },
         {
          "parameter": "Rideshare_Dist",
          "value": 0.014684218287766582,
          "x": 14.504504504504503
         },
         {
          "parameter": "Rideshare_Dist",
          "value": 0.01620978562078939,
          "x": 14.664664664664663
         },
         {
          "parameter": "Rideshare_Dist",
          "value": 0.017476601357794958,
          "x": 14.824824824824823
         },
         {
          "parameter": "Rideshare_Dist",
          "value": 0.018302570651167333,
          "x": 14.984984984984983
         },
         {
          "parameter": "Rideshare_Dist",
          "value": 0.018564626485976597,
          "x": 15.145145145145143
         },
         {
          "parameter": "Rideshare_Dist",
          "value": 0.018216079115008534,
          "x": 15.305305305305303
         },
         {
          "parameter": "Rideshare_Dist",
          "value": 0.017291617694704584,
          "x": 15.465465465465464
         },
         {
          "parameter": "Rideshare_Dist",
          "value": 0.015898998385380777,
          "x": 15.625625625625624
         },
         {
          "parameter": "Rideshare_Dist",
          "value": 0.014199255725254581,
          "x": 15.785785785785787
         },
         {
          "parameter": "Rideshare_Dist",
          "value": 0.012379612987683565,
          "x": 15.945945945945947
         },
         {
          "parameter": "Rideshare_Dist",
          "value": 0.010624469723325973,
          "x": 16.106106106106107
         },
         {
          "parameter": "Rideshare_Dist",
          "value": 0.009089662792453601,
          "x": 16.266266266266268
         },
         {
          "parameter": "Rideshare_Dist",
          "value": 0.007883867011888368,
          "x": 16.426426426426428
         },
         {
          "parameter": "Rideshare_Dist",
          "value": 0.007059088782673911,
          "x": 16.586586586586588
         },
         {
          "parameter": "Rideshare_Dist",
          "value": 0.006610333517208993,
          "x": 16.746746746746748
         },
         {
          "parameter": "Rideshare_Dist",
          "value": 0.006483127837495637,
          "x": 16.906906906906908
         },
         {
          "parameter": "Rideshare_Dist",
          "value": 0.006586782251874343,
          "x": 17.067067067067068
         },
         {
          "parameter": "Rideshare_Dist",
          "value": 0.006810974230568687,
          "x": 17.227227227227228
         },
         {
          "parameter": "Rideshare_Dist",
          "value": 0.007043209903953708,
          "x": 17.38738738738739
         },
         {
          "parameter": "Rideshare_Dist",
          "value": 0.007184844820251689,
          "x": 17.54754754754755
         },
         {
          "parameter": "Rideshare_Dist",
          "value": 0.007163603607270059,
          "x": 17.70770770770771
         },
         {
          "parameter": "Rideshare_Dist",
          "value": 0.006941019124266771,
          "x": 17.86786786786787
         },
         {
          "parameter": "Rideshare_Dist",
          "value": 0.006513978674617051,
          "x": 18.02802802802803
         },
         {
          "parameter": "Rideshare_Dist",
          "value": 0.0059105641107345544,
          "x": 18.18818818818819
         },
         {
          "parameter": "Rideshare_Dist",
          "value": 0.005181406605928207,
          "x": 18.34834834834835
         },
         {
          "parameter": "Rideshare_Dist",
          "value": 0.0043885701034095835,
          "x": 18.50850850850851
         },
         {
          "parameter": "Rideshare_Dist",
          "value": 0.003594295537725064,
          "x": 18.66866866866867
         },
         {
          "parameter": "Rideshare_Dist",
          "value": 0.002851693579575679,
          "x": 18.82882882882883
         },
         {
          "parameter": "Rideshare_Dist",
          "value": 0.002198765627581796,
          "x": 18.98898898898899
         },
         {
          "parameter": "Rideshare_Dist",
          "value": 0.0016562016186411177,
          "x": 19.14914914914915
         },
         {
          "parameter": "Taxi_Dist",
          "value": 0.0002964646910864814,
          "x": 3.293293293293294
         },
         {
          "parameter": "Taxi_Dist",
          "value": 0.00026828707061730863,
          "x": 3.453453453453454
         },
         {
          "parameter": "Taxi_Dist",
          "value": 0.0002132654425823309,
          "x": 3.613613613613614
         },
         {
          "parameter": "Taxi_Dist",
          "value": 0.0001489138907282294,
          "x": 3.773773773773774
         },
         {
          "parameter": "Taxi_Dist",
          "value": 9.133640438081088e-05,
          "x": 3.9339339339339343
         },
         {
          "parameter": "Taxi_Dist",
          "value": 4.9209232163254756e-05,
          "x": 4.094094094094094
         },
         {
          "parameter": "Taxi_Dist",
          "value": 2.328859261849109e-05,
          "x": 4.2542542542542545
         },
         {
          "parameter": "Taxi_Dist",
          "value": 9.681304433916328e-06,
          "x": 4.414414414414415
         },
         {
          "parameter": "Taxi_Dist",
          "value": 3.5352366231217216e-06,
          "x": 4.574574574574575
         },
         {
          "parameter": "Taxi_Dist",
          "value": 1.1339582785085668e-06,
          "x": 4.734734734734735
         },
         {
          "parameter": "Taxi_Dist",
          "value": 3.194991021690837e-07,
          "x": 4.894894894894895
         },
         {
          "parameter": "Taxi_Dist",
          "value": 7.907445291722492e-08,
          "x": 5.055055055055055
         },
         {
          "parameter": "Taxi_Dist",
          "value": 1.71908481641654e-08,
          "x": 5.215215215215215
         },
         {
          "parameter": "Taxi_Dist",
          "value": 3.2831110689057367e-09,
          "x": 5.375375375375375
         },
         {
          "parameter": "Taxi_Dist",
          "value": 5.531889964517247e-10,
          "x": 5.535535535535535
         },
         {
          "parameter": "Taxi_Dist",
          "value": 1.0244298382143454e-10,
          "x": 5.6956956956956954
         },
         {
          "parameter": "Taxi_Dist",
          "value": 1.696441101949514e-10,
          "x": 5.8558558558558556
         },
         {
          "parameter": "Taxi_Dist",
          "value": 1.0476096571990417e-09,
          "x": 6.016016016016017
         },
         {
          "parameter": "Taxi_Dist",
          "value": 6.059011314651718e-09,
          "x": 6.1761761761761775
         },
         {
          "parameter": "Taxi_Dist",
          "value": 3.091266791330763e-08,
          "x": 6.336336336336338
         },
         {
          "parameter": "Taxi_Dist",
          "value": 1.3909186127328182e-07,
          "x": 6.496496496496498
         },
         {
          "parameter": "Taxi_Dist",
          "value": 5.525447781592661e-07,
          "x": 6.656656656656658
         },
         {
          "parameter": "Taxi_Dist",
          "value": 1.9406918989462073e-06,
          "x": 6.816816816816818
         },
         {
          "parameter": "Taxi_Dist",
          "value": 6.03783772135413e-06,
          "x": 6.976976976976978
         },
         {
          "parameter": "Taxi_Dist",
          "value": 1.6680112676712883e-05,
          "x": 7.137137137137138
         },
         {
          "parameter": "Taxi_Dist",
          "value": 4.104644010769741e-05,
          "x": 7.297297297297298
         },
         {
          "parameter": "Taxi_Dist",
          "value": 9.033509057675795e-05,
          "x": 7.457457457457458
         },
         {
          "parameter": "Taxi_Dist",
          "value": 0.00017870365895953752,
          "x": 7.6176176176176185
         },
         {
          "parameter": "Taxi_Dist",
          "value": 0.000319740291299636,
          "x": 7.777777777777779
         },
         {
          "parameter": "Taxi_Dist",
          "value": 0.0005212851550010085,
          "x": 7.937937937937939
         },
         {
          "parameter": "Taxi_Dist",
          "value": 0.0007812108738149537,
          "x": 8.098098098098099
         },
         {
          "parameter": "Taxi_Dist",
          "value": 0.0010872651930036229,
          "x": 8.258258258258259
         },
         {
          "parameter": "Taxi_Dist",
          "value": 0.0014225364476148359,
          "x": 8.418418418418419
         },
         {
          "parameter": "Taxi_Dist",
          "value": 0.0017751336115148203,
          "x": 8.578578578578579
         },
         {
          "parameter": "Taxi_Dist",
          "value": 0.002147621835592207,
          "x": 8.73873873873874
         },
         {
          "parameter": "Taxi_Dist",
          "value": 0.00256119022067236,
          "x": 8.8988988988989
         },
         {
          "parameter": "Taxi_Dist",
          "value": 0.0030563043538835446,
          "x": 9.05905905905906
         },
         {
          "parameter": "Taxi_Dist",
          "value": 0.003708984180744823,
          "x": 9.21921921921922
         },
         {
          "parameter": "Taxi_Dist",
          "value": 0.004702376618673041,
          "x": 9.37937937937938
         },
         {
          "parameter": "Taxi_Dist",
          "value": 0.006495858045051189,
          "x": 9.53953953953954
         },
         {
          "parameter": "Taxi_Dist",
          "value": 0.01009620520895879,
          "x": 9.6996996996997
         },
         {
          "parameter": "Taxi_Dist",
          "value": 0.01735232435484872,
          "x": 9.85985985985986
         },
         {
          "parameter": "Taxi_Dist",
          "value": 0.031089156482939178,
          "x": 10.02002002002002
         },
         {
          "parameter": "Taxi_Dist",
          "value": 0.054823015795232334,
          "x": 10.18018018018018
         },
         {
          "parameter": "Taxi_Dist",
          "value": 0.09184852573817182,
          "x": 10.34034034034034
         },
         {
          "parameter": "Taxi_Dist",
          "value": 0.14374116659274377,
          "x": 10.5005005005005
         },
         {
          "parameter": "Taxi_Dist",
          "value": 0.2087556152857182,
          "x": 10.66066066066066
         },
         {
          "parameter": "Taxi_Dist",
          "value": 0.2809865551063343,
          "x": 10.82082082082082
         },
         {
          "parameter": "Taxi_Dist",
          "value": 0.35112180740527477,
          "x": 10.98098098098098
         },
         {
          "parameter": "Taxi_Dist",
          "value": 0.40894049774424046,
          "x": 11.14114114114114
         },
         {
          "parameter": "Taxi_Dist",
          "value": 0.4466510572134081,
          "x": 11.3013013013013
         },
         {
          "parameter": "Taxi_Dist",
          "value": 0.46143613402503714,
          "x": 11.461461461461461
         },
         {
          "parameter": "Taxi_Dist",
          "value": 0.4558318218658537,
          "x": 11.621621621621621
         },
         {
          "parameter": "Taxi_Dist",
          "value": 0.4357963549996782,
          "x": 11.781781781781781
         },
         {
          "parameter": "Taxi_Dist",
          "value": 0.40769290036025413,
          "x": 11.941941941941941
         },
         {
          "parameter": "Taxi_Dist",
          "value": 0.3759194960159734,
          "x": 12.102102102102101
         },
         {
          "parameter": "Taxi_Dist",
          "value": 0.3422537365430734,
          "x": 12.262262262262261
         },
         {
          "parameter": "Taxi_Dist",
          "value": 0.3067613365393109,
          "x": 12.422422422422422
         },
         {
          "parameter": "Taxi_Dist",
          "value": 0.2692774912227368,
          "x": 12.582582582582582
         },
         {
          "parameter": "Taxi_Dist",
          "value": 0.23045117615191196,
          "x": 12.742742742742742
         },
         {
          "parameter": "Taxi_Dist",
          "value": 0.19190553293089327,
          "x": 12.902902902902902
         },
         {
          "parameter": "Taxi_Dist",
          "value": 0.15569186532121432,
          "x": 13.063063063063062
         },
         {
          "parameter": "Taxi_Dist",
          "value": 0.12353829065005552,
          "x": 13.223223223223222
         },
         {
          "parameter": "Taxi_Dist",
          "value": 0.09634989861681276,
          "x": 13.383383383383382
         },
         {
          "parameter": "Taxi_Dist",
          "value": 0.07414845300992583,
          "x": 13.543543543543542
         },
         {
          "parameter": "Taxi_Dist",
          "value": 0.0563573260865716,
          "x": 13.703703703703702
         },
         {
          "parameter": "Taxi_Dist",
          "value": 0.04219509629974311,
          "x": 13.863863863863862
         },
         {
          "parameter": "Taxi_Dist",
          "value": 0.030968599310410228,
          "x": 14.024024024024023
         },
         {
          "parameter": "Taxi_Dist",
          "value": 0.022180156263493855,
          "x": 14.184184184184183
         },
         {
          "parameter": "Taxi_Dist",
          "value": 0.015485731544614655,
          "x": 14.344344344344343
         },
         {
          "parameter": "Taxi_Dist",
          "value": 0.010599782360464745,
          "x": 14.504504504504503
         },
         {
          "parameter": "Taxi_Dist",
          "value": 0.007230131558324115,
          "x": 14.664664664664663
         },
         {
          "parameter": "Taxi_Dist",
          "value": 0.0050717198155423035,
          "x": 14.824824824824823
         },
         {
          "parameter": "Taxi_Dist",
          "value": 0.003835636131406063,
          "x": 14.984984984984983
         },
         {
          "parameter": "Taxi_Dist",
          "value": 0.003272377686004902,
          "x": 15.145145145145143
         },
         {
          "parameter": "Taxi_Dist",
          "value": 0.0031683233667764653,
          "x": 15.305305305305303
         },
         {
          "parameter": "Taxi_Dist",
          "value": 0.003326387425881876,
          "x": 15.465465465465464
         },
         {
          "parameter": "Taxi_Dist",
          "value": 0.003556597793299854,
          "x": 15.625625625625624
         },
         {
          "parameter": "Taxi_Dist",
          "value": 0.003691303529861089,
          "x": 15.785785785785787
         },
         {
          "parameter": "Taxi_Dist",
          "value": 0.003617281936304026,
          "x": 15.945945945945947
         },
         {
          "parameter": "Taxi_Dist",
          "value": 0.0033029452129096203,
          "x": 16.106106106106107
         },
         {
          "parameter": "Taxi_Dist",
          "value": 0.002801191861561195,
          "x": 16.266266266266268
         },
         {
          "parameter": "Taxi_Dist",
          "value": 0.0022223702794680763,
          "x": 16.426426426426428
         },
         {
          "parameter": "Taxi_Dist",
          "value": 0.0016880905881039834,
          "x": 16.586586586586588
         },
         {
          "parameter": "Taxi_Dist",
          "value": 0.0012868084676028284,
          "x": 16.746746746746748
         },
         {
          "parameter": "Taxi_Dist",
          "value": 0.0010503764247353634,
          "x": 16.906906906906908
         },
         {
          "parameter": "Taxi_Dist",
          "value": 0.0009579417974535078,
          "x": 17.067067067067068
         },
         {
          "parameter": "Taxi_Dist",
          "value": 0.0009588349762834272,
          "x": 17.227227227227228
         },
         {
          "parameter": "Taxi_Dist",
          "value": 0.0009993671201468388,
          "x": 17.38738738738739
         },
         {
          "parameter": "Taxi_Dist",
          "value": 0.001041276667978182,
          "x": 17.54754754754755
         },
         {
          "parameter": "Taxi_Dist",
          "value": 0.0010665961147784367,
          "x": 17.70770770770771
         },
         {
          "parameter": "Taxi_Dist",
          "value": 0.0010708387163503666,
          "x": 17.86786786786787
         },
         {
          "parameter": "Taxi_Dist",
          "value": 0.001052202040645053,
          "x": 18.02802802802803
         },
         {
          "parameter": "Taxi_Dist",
          "value": 0.0010060835639333166,
          "x": 18.18818818818819
         },
         {
          "parameter": "Taxi_Dist",
          "value": 0.0009287797376295993,
          "x": 18.34834834834835
         },
         {
          "parameter": "Taxi_Dist",
          "value": 0.0008251302683728513,
          "x": 18.50850850850851
         },
         {
          "parameter": "Taxi_Dist",
          "value": 0.0007106560095790506,
          "x": 18.66866866866867
         },
         {
          "parameter": "Taxi_Dist",
          "value": 0.000604069345375521,
          "x": 18.82882882882883
         },
         {
          "parameter": "Taxi_Dist",
          "value": 0.0005158316006907176,
          "x": 18.98898898898899
         },
         {
          "parameter": "Taxi_Dist",
          "value": 0.00044282119449160536,
          "x": 19.14914914914915
         }
        ],
        "data-95b788c4a509316577ff59962d7a5e65": [
         {
          "hour": 0,
          "parameter": "Rideshare_shared_price_estimate",
          "value": 6.309397220611572
         },
         {
          "hour": 0,
          "parameter": "Rideshare_regular_price_estimate",
          "value": 11.041059494018555
         },
         {
          "hour": 0,
          "parameter": "Taxi_price_estimate",
          "value": 12.304189682006836
         }
        ]
       },
       "layer": [
        {
         "data": {
          "name": "data-95b788c4a509316577ff59962d7a5e65"
         },
         "encoding": {
          "color": {
           "field": "parameter",
           "scale": {
            "domain": [
             "Rideshare_shared_price_estimate",
             "Rideshare_regular_price_estimate",
             "Taxi_price_estimate"
            ],
            "range": [
             "red",
             "green",
             "blue"
            ]
           },
           "type": "nominal"
          },
          "size": {
           "value": 5
          },
          "x": {
           "field": "value",
           "type": "quantitative"
          }
         },
         "mark": {
          "color": "red",
          "type": "rule"
         },
         "selection": {
          " ": {
           "bind": {
            "input": "range",
            "max": 9,
            "min": 0,
            "step": 1
           },
           "fields": [
            "hour"
           ],
           "init": {
            "hour": 0
           },
           "type": "single"
          }
         },
         "transform": [
          {
           "filter": {
            "selection": " "
           }
          }
         ]
        },
        {
         "data": {
          "name": "data-699c06b1bcb3f28e6736d669cc3225dc"
         },
         "encoding": {
          "color": {
           "field": "parameter",
           "legend": null,
           "scale": {
            "domain": [
             "Pooled_Rideshare_Dist",
             "Rideshare_Dist",
             "Taxi_Dist"
            ],
            "range": [
             "red",
             "green",
             "blue"
            ]
           },
           "type": "nominal"
          },
          "opacity": {
           "condition": {
            "selection": "Ride Type",
            "value": 0.6
           },
           "value": 0
          },
          "x": {
           "field": "x",
           "title": "Ride Cost (Dollars)",
           "type": "quantitative"
          },
          "y": {
           "field": "value",
           "title": "Density",
           "type": "quantitative"
          }
         },
         "mark": {
          "point": false,
          "size": 4,
          "type": "area"
         },
         "selection": {
          "Ride Type": {
           "bind": {
            "input": "select",
            "options": [
             "Pooled_Rideshare_Dist",
             "Rideshare_Dist",
             "Taxi_Dist"
            ]
           },
           "clear": false,
           "fields": [
            "parameter"
           ],
           "init": {
            "parameter": "Rideshare_Dist"
           },
           "on": "doubleclick",
           "type": "single"
          }
         }
        }
       ]
      },
      "image/png": "[encoded data removed]",
      "text/plain": [
       "<VegaLite 3 object>\n",
       "\n",
       "If you see this message, it means the renderer has not been properly enabled\n",
       "for the frontend that you are using. For more information, see\n",
       "https://altair-viz.github.io/user_guide/troubleshooting.html\n"
      ]
     },
     "execution_count": 64,
     "metadata": {},
     "output_type": "execute_result"
    }
   ],
   "source": [
    "USER_PARAMS = {\"pickup\": \"the bean chicago\",\n",
    "               \"dropoff\": \"the shedd aquarium chicago\",\n",
    "               \"forecast_hrs\":1}\n",
    "\n",
    "results = run_Fair_Fare(USER_PARAMS)\n",
    "\n",
    "pd.set_option(\"display.precision\", 2)\n",
    "print(pd.DataFrame(results[5]).iloc[0])\n",
    "\n",
    "rideshare_shared_fares,rideshare_fares,taxi_fares = results[2:5]\n",
    "fare_dict = {'Pooled_Rideshare_Dist':rideshare_shared_fares, \n",
    "             'Rideshare_Dist': rideshare_fares, 'Taxi_Dist': taxi_fares}\n",
    "predictions = results[5]\n",
    "\n"
   ]
  },
  {
   "cell_type": "code",
   "execution_count": 57,
   "metadata": {},
   "outputs": [
    {
     "data": {
      "text/html": [
       "<div>\n",
       "<style scoped>\n",
       "    .dataframe tbody tr th:only-of-type {\n",
       "        vertical-align: middle;\n",
       "    }\n",
       "\n",
       "    .dataframe tbody tr th {\n",
       "        vertical-align: top;\n",
       "    }\n",
       "\n",
       "    .dataframe thead th {\n",
       "        text-align: right;\n",
       "    }\n",
       "</style>\n",
       "<table border=\"1\" class=\"dataframe\">\n",
       "  <thead>\n",
       "    <tr style=\"text-align: right;\">\n",
       "      <th></th>\n",
       "      <th>x</th>\n",
       "      <th>parameter</th>\n",
       "      <th>value</th>\n",
       "    </tr>\n",
       "  </thead>\n",
       "  <tbody>\n",
       "    <tr>\n",
       "      <th>33</th>\n",
       "      <td>16.53</td>\n",
       "      <td>Pooled_Rideshare_Dist</td>\n",
       "      <td>2.87e-02</td>\n",
       "    </tr>\n",
       "    <tr>\n",
       "      <th>34</th>\n",
       "      <td>17.34</td>\n",
       "      <td>Pooled_Rideshare_Dist</td>\n",
       "      <td>3.31e-02</td>\n",
       "    </tr>\n",
       "    <tr>\n",
       "      <th>35</th>\n",
       "      <td>18.14</td>\n",
       "      <td>Pooled_Rideshare_Dist</td>\n",
       "      <td>3.73e-02</td>\n",
       "    </tr>\n",
       "    <tr>\n",
       "      <th>36</th>\n",
       "      <td>18.94</td>\n",
       "      <td>Pooled_Rideshare_Dist</td>\n",
       "      <td>4.12e-02</td>\n",
       "    </tr>\n",
       "    <tr>\n",
       "      <th>37</th>\n",
       "      <td>19.75</td>\n",
       "      <td>Pooled_Rideshare_Dist</td>\n",
       "      <td>4.47e-02</td>\n",
       "    </tr>\n",
       "    <tr>\n",
       "      <th>38</th>\n",
       "      <td>20.55</td>\n",
       "      <td>Pooled_Rideshare_Dist</td>\n",
       "      <td>4.76e-02</td>\n",
       "    </tr>\n",
       "    <tr>\n",
       "      <th>39</th>\n",
       "      <td>21.36</td>\n",
       "      <td>Pooled_Rideshare_Dist</td>\n",
       "      <td>4.99e-02</td>\n",
       "    </tr>\n",
       "    <tr>\n",
       "      <th>40</th>\n",
       "      <td>22.16</td>\n",
       "      <td>Pooled_Rideshare_Dist</td>\n",
       "      <td>5.14e-02</td>\n",
       "    </tr>\n",
       "    <tr>\n",
       "      <th>41</th>\n",
       "      <td>22.96</td>\n",
       "      <td>Pooled_Rideshare_Dist</td>\n",
       "      <td>5.22e-02</td>\n",
       "    </tr>\n",
       "    <tr>\n",
       "      <th>42</th>\n",
       "      <td>23.77</td>\n",
       "      <td>Pooled_Rideshare_Dist</td>\n",
       "      <td>5.24e-02</td>\n",
       "    </tr>\n",
       "    <tr>\n",
       "      <th>43</th>\n",
       "      <td>24.57</td>\n",
       "      <td>Pooled_Rideshare_Dist</td>\n",
       "      <td>5.19e-02</td>\n",
       "    </tr>\n",
       "    <tr>\n",
       "      <th>44</th>\n",
       "      <td>25.38</td>\n",
       "      <td>Pooled_Rideshare_Dist</td>\n",
       "      <td>5.09e-02</td>\n",
       "    </tr>\n",
       "    <tr>\n",
       "      <th>45</th>\n",
       "      <td>26.18</td>\n",
       "      <td>Pooled_Rideshare_Dist</td>\n",
       "      <td>4.95e-02</td>\n",
       "    </tr>\n",
       "    <tr>\n",
       "      <th>46</th>\n",
       "      <td>26.98</td>\n",
       "      <td>Pooled_Rideshare_Dist</td>\n",
       "      <td>4.77e-02</td>\n",
       "    </tr>\n",
       "    <tr>\n",
       "      <th>47</th>\n",
       "      <td>27.79</td>\n",
       "      <td>Pooled_Rideshare_Dist</td>\n",
       "      <td>4.57e-02</td>\n",
       "    </tr>\n",
       "    <tr>\n",
       "      <th>48</th>\n",
       "      <td>28.59</td>\n",
       "      <td>Pooled_Rideshare_Dist</td>\n",
       "      <td>4.34e-02</td>\n",
       "    </tr>\n",
       "    <tr>\n",
       "      <th>49</th>\n",
       "      <td>29.40</td>\n",
       "      <td>Pooled_Rideshare_Dist</td>\n",
       "      <td>4.10e-02</td>\n",
       "    </tr>\n",
       "    <tr>\n",
       "      <th>50</th>\n",
       "      <td>30.20</td>\n",
       "      <td>Pooled_Rideshare_Dist</td>\n",
       "      <td>3.84e-02</td>\n",
       "    </tr>\n",
       "    <tr>\n",
       "      <th>51</th>\n",
       "      <td>31.01</td>\n",
       "      <td>Pooled_Rideshare_Dist</td>\n",
       "      <td>3.57e-02</td>\n",
       "    </tr>\n",
       "    <tr>\n",
       "      <th>52</th>\n",
       "      <td>31.81</td>\n",
       "      <td>Pooled_Rideshare_Dist</td>\n",
       "      <td>3.30e-02</td>\n",
       "    </tr>\n",
       "    <tr>\n",
       "      <th>53</th>\n",
       "      <td>32.61</td>\n",
       "      <td>Pooled_Rideshare_Dist</td>\n",
       "      <td>3.03e-02</td>\n",
       "    </tr>\n",
       "    <tr>\n",
       "      <th>54</th>\n",
       "      <td>33.42</td>\n",
       "      <td>Pooled_Rideshare_Dist</td>\n",
       "      <td>2.76e-02</td>\n",
       "    </tr>\n",
       "    <tr>\n",
       "      <th>55</th>\n",
       "      <td>34.22</td>\n",
       "      <td>Pooled_Rideshare_Dist</td>\n",
       "      <td>2.49e-02</td>\n",
       "    </tr>\n",
       "    <tr>\n",
       "      <th>56</th>\n",
       "      <td>35.03</td>\n",
       "      <td>Pooled_Rideshare_Dist</td>\n",
       "      <td>2.24e-02</td>\n",
       "    </tr>\n",
       "    <tr>\n",
       "      <th>57</th>\n",
       "      <td>35.83</td>\n",
       "      <td>Pooled_Rideshare_Dist</td>\n",
       "      <td>2.00e-02</td>\n",
       "    </tr>\n",
       "    <tr>\n",
       "      <th>58</th>\n",
       "      <td>36.63</td>\n",
       "      <td>Pooled_Rideshare_Dist</td>\n",
       "      <td>1.78e-02</td>\n",
       "    </tr>\n",
       "    <tr>\n",
       "      <th>59</th>\n",
       "      <td>37.44</td>\n",
       "      <td>Pooled_Rideshare_Dist</td>\n",
       "      <td>1.57e-02</td>\n",
       "    </tr>\n",
       "    <tr>\n",
       "      <th>60</th>\n",
       "      <td>38.24</td>\n",
       "      <td>Pooled_Rideshare_Dist</td>\n",
       "      <td>1.39e-02</td>\n",
       "    </tr>\n",
       "    <tr>\n",
       "      <th>61</th>\n",
       "      <td>39.05</td>\n",
       "      <td>Pooled_Rideshare_Dist</td>\n",
       "      <td>1.21e-02</td>\n",
       "    </tr>\n",
       "    <tr>\n",
       "      <th>62</th>\n",
       "      <td>39.85</td>\n",
       "      <td>Pooled_Rideshare_Dist</td>\n",
       "      <td>1.06e-02</td>\n",
       "    </tr>\n",
       "    <tr>\n",
       "      <th>...</th>\n",
       "      <td>...</td>\n",
       "      <td>...</td>\n",
       "      <td>...</td>\n",
       "    </tr>\n",
       "    <tr>\n",
       "      <th>570</th>\n",
       "      <td>126.68</td>\n",
       "      <td>Taxi_Dist</td>\n",
       "      <td>1.67e-05</td>\n",
       "    </tr>\n",
       "    <tr>\n",
       "      <th>571</th>\n",
       "      <td>127.49</td>\n",
       "      <td>Taxi_Dist</td>\n",
       "      <td>1.58e-05</td>\n",
       "    </tr>\n",
       "    <tr>\n",
       "      <th>572</th>\n",
       "      <td>128.29</td>\n",
       "      <td>Taxi_Dist</td>\n",
       "      <td>1.46e-05</td>\n",
       "    </tr>\n",
       "    <tr>\n",
       "      <th>573</th>\n",
       "      <td>129.10</td>\n",
       "      <td>Taxi_Dist</td>\n",
       "      <td>1.34e-05</td>\n",
       "    </tr>\n",
       "    <tr>\n",
       "      <th>574</th>\n",
       "      <td>129.90</td>\n",
       "      <td>Taxi_Dist</td>\n",
       "      <td>1.20e-05</td>\n",
       "    </tr>\n",
       "    <tr>\n",
       "      <th>575</th>\n",
       "      <td>130.70</td>\n",
       "      <td>Taxi_Dist</td>\n",
       "      <td>1.06e-05</td>\n",
       "    </tr>\n",
       "    <tr>\n",
       "      <th>576</th>\n",
       "      <td>131.51</td>\n",
       "      <td>Taxi_Dist</td>\n",
       "      <td>9.14e-06</td>\n",
       "    </tr>\n",
       "    <tr>\n",
       "      <th>577</th>\n",
       "      <td>132.31</td>\n",
       "      <td>Taxi_Dist</td>\n",
       "      <td>7.69e-06</td>\n",
       "    </tr>\n",
       "    <tr>\n",
       "      <th>578</th>\n",
       "      <td>133.12</td>\n",
       "      <td>Taxi_Dist</td>\n",
       "      <td>6.31e-06</td>\n",
       "    </tr>\n",
       "    <tr>\n",
       "      <th>579</th>\n",
       "      <td>133.92</td>\n",
       "      <td>Taxi_Dist</td>\n",
       "      <td>5.05e-06</td>\n",
       "    </tr>\n",
       "    <tr>\n",
       "      <th>580</th>\n",
       "      <td>134.72</td>\n",
       "      <td>Taxi_Dist</td>\n",
       "      <td>3.92e-06</td>\n",
       "    </tr>\n",
       "    <tr>\n",
       "      <th>581</th>\n",
       "      <td>135.53</td>\n",
       "      <td>Taxi_Dist</td>\n",
       "      <td>2.96e-06</td>\n",
       "    </tr>\n",
       "    <tr>\n",
       "      <th>582</th>\n",
       "      <td>136.33</td>\n",
       "      <td>Taxi_Dist</td>\n",
       "      <td>2.17e-06</td>\n",
       "    </tr>\n",
       "    <tr>\n",
       "      <th>583</th>\n",
       "      <td>137.14</td>\n",
       "      <td>Taxi_Dist</td>\n",
       "      <td>1.54e-06</td>\n",
       "    </tr>\n",
       "    <tr>\n",
       "      <th>584</th>\n",
       "      <td>137.94</td>\n",
       "      <td>Taxi_Dist</td>\n",
       "      <td>1.06e-06</td>\n",
       "    </tr>\n",
       "    <tr>\n",
       "      <th>585</th>\n",
       "      <td>138.74</td>\n",
       "      <td>Taxi_Dist</td>\n",
       "      <td>7.09e-07</td>\n",
       "    </tr>\n",
       "    <tr>\n",
       "      <th>586</th>\n",
       "      <td>139.55</td>\n",
       "      <td>Taxi_Dist</td>\n",
       "      <td>4.58e-07</td>\n",
       "    </tr>\n",
       "    <tr>\n",
       "      <th>587</th>\n",
       "      <td>140.35</td>\n",
       "      <td>Taxi_Dist</td>\n",
       "      <td>2.87e-07</td>\n",
       "    </tr>\n",
       "    <tr>\n",
       "      <th>588</th>\n",
       "      <td>141.16</td>\n",
       "      <td>Taxi_Dist</td>\n",
       "      <td>1.73e-07</td>\n",
       "    </tr>\n",
       "    <tr>\n",
       "      <th>589</th>\n",
       "      <td>141.96</td>\n",
       "      <td>Taxi_Dist</td>\n",
       "      <td>1.02e-07</td>\n",
       "    </tr>\n",
       "    <tr>\n",
       "      <th>590</th>\n",
       "      <td>142.76</td>\n",
       "      <td>Taxi_Dist</td>\n",
       "      <td>5.75e-08</td>\n",
       "    </tr>\n",
       "    <tr>\n",
       "      <th>591</th>\n",
       "      <td>143.57</td>\n",
       "      <td>Taxi_Dist</td>\n",
       "      <td>3.15e-08</td>\n",
       "    </tr>\n",
       "    <tr>\n",
       "      <th>592</th>\n",
       "      <td>144.37</td>\n",
       "      <td>Taxi_Dist</td>\n",
       "      <td>1.67e-08</td>\n",
       "    </tr>\n",
       "    <tr>\n",
       "      <th>593</th>\n",
       "      <td>145.18</td>\n",
       "      <td>Taxi_Dist</td>\n",
       "      <td>8.56e-09</td>\n",
       "    </tr>\n",
       "    <tr>\n",
       "      <th>594</th>\n",
       "      <td>145.98</td>\n",
       "      <td>Taxi_Dist</td>\n",
       "      <td>4.24e-09</td>\n",
       "    </tr>\n",
       "    <tr>\n",
       "      <th>595</th>\n",
       "      <td>146.78</td>\n",
       "      <td>Taxi_Dist</td>\n",
       "      <td>2.03e-09</td>\n",
       "    </tr>\n",
       "    <tr>\n",
       "      <th>596</th>\n",
       "      <td>147.59</td>\n",
       "      <td>Taxi_Dist</td>\n",
       "      <td>9.41e-10</td>\n",
       "    </tr>\n",
       "    <tr>\n",
       "      <th>597</th>\n",
       "      <td>148.39</td>\n",
       "      <td>Taxi_Dist</td>\n",
       "      <td>4.21e-10</td>\n",
       "    </tr>\n",
       "    <tr>\n",
       "      <th>598</th>\n",
       "      <td>149.20</td>\n",
       "      <td>Taxi_Dist</td>\n",
       "      <td>1.82e-10</td>\n",
       "    </tr>\n",
       "    <tr>\n",
       "      <th>599</th>\n",
       "      <td>150.00</td>\n",
       "      <td>Taxi_Dist</td>\n",
       "      <td>7.63e-11</td>\n",
       "    </tr>\n",
       "  </tbody>\n",
       "</table>\n",
       "<p>501 rows × 3 columns</p>\n",
       "</div>"
      ],
      "text/plain": [
       "          x              parameter     value\n",
       "33    16.53  Pooled_Rideshare_Dist  2.87e-02\n",
       "34    17.34  Pooled_Rideshare_Dist  3.31e-02\n",
       "35    18.14  Pooled_Rideshare_Dist  3.73e-02\n",
       "36    18.94  Pooled_Rideshare_Dist  4.12e-02\n",
       "37    19.75  Pooled_Rideshare_Dist  4.47e-02\n",
       "38    20.55  Pooled_Rideshare_Dist  4.76e-02\n",
       "39    21.36  Pooled_Rideshare_Dist  4.99e-02\n",
       "40    22.16  Pooled_Rideshare_Dist  5.14e-02\n",
       "41    22.96  Pooled_Rideshare_Dist  5.22e-02\n",
       "42    23.77  Pooled_Rideshare_Dist  5.24e-02\n",
       "43    24.57  Pooled_Rideshare_Dist  5.19e-02\n",
       "44    25.38  Pooled_Rideshare_Dist  5.09e-02\n",
       "45    26.18  Pooled_Rideshare_Dist  4.95e-02\n",
       "46    26.98  Pooled_Rideshare_Dist  4.77e-02\n",
       "47    27.79  Pooled_Rideshare_Dist  4.57e-02\n",
       "48    28.59  Pooled_Rideshare_Dist  4.34e-02\n",
       "49    29.40  Pooled_Rideshare_Dist  4.10e-02\n",
       "50    30.20  Pooled_Rideshare_Dist  3.84e-02\n",
       "51    31.01  Pooled_Rideshare_Dist  3.57e-02\n",
       "52    31.81  Pooled_Rideshare_Dist  3.30e-02\n",
       "53    32.61  Pooled_Rideshare_Dist  3.03e-02\n",
       "54    33.42  Pooled_Rideshare_Dist  2.76e-02\n",
       "55    34.22  Pooled_Rideshare_Dist  2.49e-02\n",
       "56    35.03  Pooled_Rideshare_Dist  2.24e-02\n",
       "57    35.83  Pooled_Rideshare_Dist  2.00e-02\n",
       "58    36.63  Pooled_Rideshare_Dist  1.78e-02\n",
       "59    37.44  Pooled_Rideshare_Dist  1.57e-02\n",
       "60    38.24  Pooled_Rideshare_Dist  1.39e-02\n",
       "61    39.05  Pooled_Rideshare_Dist  1.21e-02\n",
       "62    39.85  Pooled_Rideshare_Dist  1.06e-02\n",
       "..      ...                    ...       ...\n",
       "570  126.68              Taxi_Dist  1.67e-05\n",
       "571  127.49              Taxi_Dist  1.58e-05\n",
       "572  128.29              Taxi_Dist  1.46e-05\n",
       "573  129.10              Taxi_Dist  1.34e-05\n",
       "574  129.90              Taxi_Dist  1.20e-05\n",
       "575  130.70              Taxi_Dist  1.06e-05\n",
       "576  131.51              Taxi_Dist  9.14e-06\n",
       "577  132.31              Taxi_Dist  7.69e-06\n",
       "578  133.12              Taxi_Dist  6.31e-06\n",
       "579  133.92              Taxi_Dist  5.05e-06\n",
       "580  134.72              Taxi_Dist  3.92e-06\n",
       "581  135.53              Taxi_Dist  2.96e-06\n",
       "582  136.33              Taxi_Dist  2.17e-06\n",
       "583  137.14              Taxi_Dist  1.54e-06\n",
       "584  137.94              Taxi_Dist  1.06e-06\n",
       "585  138.74              Taxi_Dist  7.09e-07\n",
       "586  139.55              Taxi_Dist  4.58e-07\n",
       "587  140.35              Taxi_Dist  2.87e-07\n",
       "588  141.16              Taxi_Dist  1.73e-07\n",
       "589  141.96              Taxi_Dist  1.02e-07\n",
       "590  142.76              Taxi_Dist  5.75e-08\n",
       "591  143.57              Taxi_Dist  3.15e-08\n",
       "592  144.37              Taxi_Dist  1.67e-08\n",
       "593  145.18              Taxi_Dist  8.56e-09\n",
       "594  145.98              Taxi_Dist  4.24e-09\n",
       "595  146.78              Taxi_Dist  2.03e-09\n",
       "596  147.59              Taxi_Dist  9.41e-10\n",
       "597  148.39              Taxi_Dist  4.21e-10\n",
       "598  149.20              Taxi_Dist  1.82e-10\n",
       "599  150.00              Taxi_Dist  7.63e-11\n",
       "\n",
       "[501 rows x 3 columns]"
      ]
     },
     "execution_count": 57,
     "metadata": {},
     "output_type": "execute_result"
    }
   ],
   "source": [
    "def kde(data, nbins = 200):\n",
    "    data = data[~np.isnan(data)]\n",
    "    gkde = gaussian_kde(data,bw_method = .5)\n",
    "    grid = np.linspace(-10,150,nbins)\n",
    "    kde_vals = gkde.evaluate(grid)\n",
    "    lo, hi= np.min(data), np.max(data)\n",
    "    loidx = np.argmin(abs(lo-grid))\n",
    "    hiidx = np.argmin(abs(hi-grid))\n",
    "    return {'x':grid, 'y':kde_vals,'valid_range':(lo,hi)}\n",
    "\n",
    "def build_hists_for_altair(fare_dict):\n",
    "    df = pd.DataFrame()\n",
    "    for name, fares in fare_dict.items():\n",
    "        kde_dict = kde(fares.values)\n",
    "        df[name] = kde_dict['y']\n",
    "    df['x'] = kde_dict['x']\n",
    "    long_df = df.melt(id_vars=\"x\").rename(columns = {\"variable\":\"parameter\"})\n",
    "\n",
    "    return long_df[(long_df.x>kde_dict['valid_range'][0]) & (long_df.x<kde_dict['valid_range'][1])]\n",
    "\n",
    "build_hists_for_altair(fare_dict)"
   ]
  },
  {
   "cell_type": "markdown",
   "metadata": {},
   "source": [
    "### Map\n",
    "\n",
    "- Requirements:\n",
    "1. Start latitude, start longitude.\n",
    "2. Path\n",
    "3. Histogram data (if we want to embed in the plot, see https://python-visualization.github.io/folium/quickstart.html)\n",
    "\n",
    "- Returns:\n",
    "1. HTML-embeddable map of appropriate region and points marked.\n"
   ]
  },
  {
   "cell_type": "code",
   "execution_count": 147,
   "metadata": {},
   "outputs": [],
   "source": [
    "import folium"
   ]
  },
  {
   "cell_type": "code",
   "execution_count": 148,
   "metadata": {},
   "outputs": [
    {
     "data": {
      "text/plain": [
       "<folium.map.Marker at 0x7ff4a55787f0>"
      ]
     },
     "execution_count": 148,
     "metadata": {},
     "output_type": "execute_result"
    }
   ],
   "source": []
  },
  {
   "cell_type": "code",
   "execution_count": 210,
   "metadata": {},
   "outputs": [],
   "source": [
    "import googlemaps\n",
    "import json\n",
    "import polyline\n",
    "with open(\"Fair_Fare/secrets.json.nogit\") as fh:\n",
    "    secrets = json.loads(fh.read())\n",
    "\n",
    "gmaps = googlemaps.Client(key=secrets['gmaps_api_key'])\n",
    "\n",
    "now = datetime.now()\n",
    "directions_result = gmaps.directions(\"shedd aquarium chicago\",\n",
    "                                    \"university of chicago\",\n",
    "                                    departure_time=now)"
   ]
  },
  {
   "cell_type": "code",
   "execution_count": 212,
   "metadata": {},
   "outputs": [],
   "source": [
    "poly = directions_result[0]['overview_polyline']['points']"
   ]
  },
  {
   "cell_type": "code",
   "execution_count": 213,
   "metadata": {},
   "outputs": [],
   "source": [
    "poly = directions_result[0]['overview_polyline']['points']\n",
    "\n",
    "path = polyline.decode(poly)"
   ]
  },
  {
   "cell_type": "code",
   "execution_count": 214,
   "metadata": {},
   "outputs": [
    {
     "name": "stdout",
     "output_type": "stream",
     "text": [
      "0.1033299999999926\n"
     ]
    },
    {
     "data": {
      "text/plain": [
       "((41.827110000000005, -87.60200499999999), 12)"
      ]
     },
     "execution_count": 214,
     "metadata": {},
     "output_type": "execute_result"
    }
   ],
   "source": [
    "\n",
    "zoom_and_center(path)"
   ]
  },
  {
   "cell_type": "code",
   "execution_count": 219,
   "metadata": {},
   "outputs": [],
   "source": [
    "def zoom_and_center(path):\n",
    "    center =((path[0][0]+path[-1][0])/2,(path[0][1]+path[-1][1])/2)\n",
    "    dist =abs(path[0][0]-path[-1][0])+abs(path[0][1]-path[-1][1])\n",
    "    print(dist)\n",
    "    \n",
    "    if dist < 0.05:\n",
    "        zoom = 14\n",
    "    elif dist < 0.1:\n",
    "        zoom = 13\n",
    "    elif dist < 0.25:\n",
    "        zoom = 12\n",
    "    else:\n",
    "        zoom = 11\n",
    "        \n",
    "    return center, zoom\n",
    "\n",
    "\n",
    "\n",
    "def generate_map(path):\n",
    "    center, zoom = zoom_and_center(path)\n",
    "    m = folium.Map(location=center,zoom_start=zoom)\n",
    "    folium.Marker(path[0], popup='<i>Start</i>', icon=folium.Icon(color='green')).add_to(m)\n",
    "    folium.Marker(path[-1], popup='<i>Stop</i>', tooltip=\"stop\",icon=folium.Icon(color='red')).add_to(m)\n",
    "    folium.PolyLine(path, color=\"red\", weight=2.5, opacity=1).add_to(m)\n",
    "    m.save('map.html')"
   ]
  },
  {
   "cell_type": "code",
   "execution_count": 220,
   "metadata": {},
   "outputs": [
    {
     "name": "stdout",
     "output_type": "stream",
     "text": [
      "0.1033299999999926\n"
     ]
    }
   ],
   "source": [
    "generate_map(path)"
   ]
  },
  {
   "cell_type": "code",
   "execution_count": 17,
   "metadata": {},
   "outputs": [],
   "source": [
    "import numpy as np\n",
    "\n",
    "def price_trend(val_dict):\n",
    "    res = {}\n",
    "    for key, vals in val_dict.items():\n",
    "        cur_price = vals[0]\n",
    "        if len(vals) > 3:\n",
    "            future_price = sum(vals[1:4])/3\n",
    "            savings = future_price/cur_price-1\n",
    "            if savings > .05:\n",
    "                res[key] = f\"{int(savings*100)}% higher\"\n",
    "            elif savings < -.05:\n",
    "                res[key] = f\"{-int(savings*100)}% lower\"\n",
    "            else:\n",
    "                res[key]= \"stable\"\n",
    "        else:\n",
    "            res[key]= None\n",
    "    return res\n",
    "        "
   ]
  },
  {
   "cell_type": "code",
   "execution_count": 3,
   "metadata": {},
   "outputs": [],
   "source": [
    "c = {'Rideshare_pooled_price_estimate': [25.665571, 25.009079, 31.629902, 26.820211, 30.3051], 'Rideshare_regular_price_estimate': [34.59113, 36.441315, 44.69652, 38.885567, 42.071907], 'Taxi_price_estimate': [47.456505, 47.093857, 68.06769, 47.8138, 48.470585]}"
   ]
  },
  {
   "cell_type": "code",
   "execution_count": 21,
   "metadata": {},
   "outputs": [
    {
     "data": {
      "text/plain": [
       "{'Rideshare_pooled_price_estimate': None,\n",
       " 'Rideshare_regular_price_estimate': 'stable',\n",
       " 'Taxi_price_estimate': 'stable'}"
      ]
     },
     "execution_count": 21,
     "metadata": {},
     "output_type": "execute_result"
    }
   ],
   "source": [
    "c2 = {'Rideshare_pooled_price_estimate': [5.004087, 5.3555837, 5.3609595], 'Rideshare_regular_price_estimate': [8.448563, 8.471455, 8.491512, 8.520178, 8.738232], 'Taxi_price_estimate': [7.6537886, 7.5542984, 7.721162, 7.6408772, 7.7428093]}\n",
    "price_trend(c2)"
   ]
  },
  {
   "cell_type": "code",
   "execution_count": null,
   "metadata": {},
   "outputs": [],
   "source": []
  }
 ],
 "metadata": {
  "kernelspec": {
   "display_name": "Python 3",
   "language": "python",
   "name": "python3"
  },
  "language_info": {
   "codemirror_mode": {
    "name": "ipython",
    "version": 3
   },
   "file_extension": ".py",
   "mimetype": "text/x-python",
   "name": "python",
   "nbconvert_exporter": "python",
   "pygments_lexer": "ipython3",
   "version": "3.7.1"
  }
 },
 "nbformat": 4,
 "nbformat_minor": 4
}
