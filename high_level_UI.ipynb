{
 "cells": [
  {
   "cell_type": "markdown",
   "metadata": {},
   "source": [
    "Video Notes:\n",
    "- end on a note of the webapp\n",
    "- say i'm going to move to webapp at the end\n",
    "- ask an audience member for locations\n",
    "- say 'pooled' ride instead of shared\n",
    "- double check spelling\n",
    "- shorter problem slide? could make it more personal. \n",
    "- Some visual of a person going from the airport?\n",
    "\n",
    "\n",
    "This notebook is intended to simulate what the UI will look like and is top-level"
   ]
  },
  {
   "cell_type": "code",
   "execution_count": 1,
   "metadata": {},
   "outputs": [],
   "source": [
    "import pandas as pd\n",
    "import numpy as np\n",
    "import matplotlib.pyplot as plt\n",
    "import altair as alt\n",
    "import seaborn as sns\n",
    "from scipy.stats import gaussian_kde\n",
    "import datetime\n",
    "import pytz\n",
    "import altair as alt\n",
    "sns.set()\n",
    "import matplotlib\n",
    "matplotlib.rcParams['figure.dpi'] = 144\n",
    "\n",
    "from datetime import datetime, timedelta\n",
    "\n",
    "from Fair_Fare.feature_utils import load_hdf\n",
    "from Fair_Fare.aggregations import bin_on_time_distance\n",
    "from Fair_Fare.model_utils import get_model_from_file, predict_fare\n",
    "from Fair_Fare.trips import Stop, Ride\n",
    "from Fair_Fare.api_interactions import price_estimate_from_lyft\n",
    "\n",
    "\n",
    "%load_ext autoreload\n",
    "%autoreload 2\n"
   ]
  },
  {
   "cell_type": "code",
   "execution_count": 2,
   "metadata": {},
   "outputs": [],
   "source": [
    "\n",
    "def get_time_in_chicago():\n",
    "    utc_now = pytz.utc.localize(datetime.utcnow())\n",
    "    return utc_now.astimezone(pytz.timezone(\"America/Chicago\"))"
   ]
  },
  {
   "cell_type": "code",
   "execution_count": 3,
   "metadata": {},
   "outputs": [],
   "source": [
    "models = {\"path\":\"models/\", \"taxi\":\"taxi_xgb_full_reduced_params\", \"rideshare\":\"tnp_xgb_full_reduced_params\" }\n",
    "data = {\"path\":\"data/\",\"taxi\":\"taxi_test.h5\", \"rideshare\":\"tnp_test.h5\" }\n",
    "\n",
    "taxi_model = get_model_from_file(models['path']+models['taxi'])\n",
    "taxi_data = load_hdf(data['path']+data['taxi'])\n",
    "\n",
    "rideshare_model = get_model_from_file(models['path']+models['rideshare'])\n",
    "rideshare_data = load_hdf(data['path']+data['rideshare'])\n",
    "\n"
   ]
  },
  {
   "cell_type": "code",
   "execution_count": 109,
   "metadata": {},
   "outputs": [],
   "source": [
    "def text_to_fares(binned_rs,binned_tax, start, end, forecast_hours = 5):\n",
    "    curr_time = get_time_in_chicago()\n",
    "    model_estimate = {'rideshare_model_estimate':[],'rideshare_shared_model_estimate':[],'taxi_estimate':[]}\n",
    "    \n",
    "    # forecast for next few hours\n",
    "    times = [curr_time+timedelta(hours=i) for i in range(forecast_hours)] \n",
    "    rides = [Ride(start,end, time, bRideshare = True, bShared = False) for time in times]\n",
    "        \n",
    "    for ride in rides:\n",
    "        model_estimate['rideshare_model_estimate'].append(predict_fare(ride, rideshare_model)[0])\n",
    "        ride.bShared = True\n",
    "        ride.build_row()\n",
    "        model_estimate['rideshare_shared_model_estimate'].append(predict_fare(ride, rideshare_model)[0])\n",
    "    for ride in rides:\n",
    "        ride.bRideshare = False\n",
    "        ride.build_row()\n",
    "        model_estimate['taxi_estimate'].append(predict_fare(ride, taxi_model)[0])\n",
    "\n",
    "    # only one lyft estimate is available\n",
    "    lyft_estimates = price_estimate_from_lyft(ride.start.tuple,ride.end.tuple)\n",
    "    \n",
    "    td_tup = (ride.traveltime,ride.miles)\n",
    "    \n",
    "    binned_pth_tax = binned_tax.time_distance_to_bin(td_tup)\n",
    "    group_tax =  binned_tax.df[binned_tax.df.td_bin == binned_pth_tax]\n",
    "    \n",
    "    binned_pth_rs = binned_rs.time_distance_to_bin(td_tup)\n",
    "    group_rs =  binned_rs.df[binned_rs.df.td_bin == binned_pth_rs]\n",
    "    return model_estimate, lyft_estimates, group_tax, group_rs\n",
    "\n",
    "\n",
    "def run_Fair_Fare(USER_PARAMS):\n",
    "    rideshare_binned = bin_on_time_distance(rideshare_data)\n",
    "    ## TODO: Investigate the binning on the taxi data (time is very discrete)\n",
    "    taxi_binned = bin_on_time_distance(taxi_data, miles_nbins = 20, seconds_nbins = 16)\n",
    "\n",
    "    rideshare_model_pred, lyft_estimate,taxi_group, rideshare_group= text_to_fares(rideshare_binned,taxi_binned,USER_PARAMS['pickup'], USER_PARAMS['dropoff'], USER_PARAMS['forecast_hrs'])\n",
    "\n",
    "    rideshare_shared_fares = rideshare_group[rideshare_group[\"Shared_Trip_Authorized\"] == True].Final_Fare\n",
    "    rideshare_fares = rideshare_group[rideshare_group[\"Shared_Trip_Authorized\"] == False].Final_Fare\n",
    "    taxi_fares = taxi_group.Final_Fare\n",
    "\n",
    "    to_df = {'Rideshare_regular_price_estimate': rideshare_model_pred['rideshare_model_estimate'], 'Rideshare_shared_price_estimate': rideshare_model_pred['rideshare_shared_model_estimate'],\n",
    "     'Taxi_price_estimate' :rideshare_model_pred['taxi_estimate']}\n",
    "    return rideshare_model_pred, lyft_estimate, rideshare_shared_fares,rideshare_fares,taxi_fares,to_df\n",
    "\n",
    "def kde(data, nbins = 50):\n",
    "    gkde = gaussian_kde(data,bw_method = .5)\n",
    "    grid = np.linspace(np.min(data),min(np.max(data),80),nbins)\n",
    "    kde_vals = gkde(grid)\n",
    "    return {'x':grid, 'y':kde_vals}\n",
    "\n",
    "def build_df_for_altair(fare_dict):\n",
    "    df = pd.DataFrame()\n",
    "    for name, fares in fare_dict.items():\n",
    "        kde_dict = kde(fares.values, nbins = 100)\n",
    "        df[name] = kde_dict['y']\n",
    "    df['x'] = kde_dict['x']\n",
    "\n",
    "    return df\n",
    "\n",
    "def show_viz(results):\n",
    "    rideshare_shared_fares,rideshare_fares,taxi_fares = results[2:5]\n",
    "    fare_dict = {'Shared_Rideshare_Dist':rideshare_shared_fares, \n",
    "                 'Rideshare_Dist': rideshare_fares, 'Taxi_Dist': taxi_fares}\n",
    "    predictions = results[5]\n",
    "    #fare_dict['Shared_Rideshare_Dist'].plot.kde()\n",
    "    #fare_dict['Rideshare_Dist'].plot.kde()\n",
    "    #fare_dict['Taxi_Dist'].plot.kde()\n",
    "    print(fare_dict['Taxi_Dist'].max())\n",
    "\n",
    "    \n",
    "    \n",
    "    kde = build_df_for_altair(fare_dict)\n",
    "    #kde.plot(x = 'x')\n",
    "    long_df = kde.melt(id_vars=\"x\").rename(columns = {\"variable\":\"parameter\"})\n",
    "    \n",
    "    pred_df = pd.DataFrame(predictions)\n",
    "    pred_df['hour'] = [i for i in range(len(pred_df))]\n",
    "    pred_df = pred_df.melt(id_vars = \"hour\").rename(columns = {\"variable\":\"parameter\"})\n",
    "\n",
    "    domain = ['Rideshare_Dist','Shared_Rideshare_Dist', 'Taxi_Dist']\n",
    "    domain2 = ['Rideshare_regular_price_estimate', 'Rideshare_shared_price_estimate', 'Taxi_price_estimate']\n",
    "    range_ = ['red', 'green', 'blue']\n",
    "    #range2 = ['#a31818','#18a321','#184ea3']\n",
    "\n",
    "    # A dropdown filter\n",
    "    columns=['Rideshare_Dist','Taxi_Dist']\n",
    "    column_dropdown = alt.binding_select(options=columns)\n",
    "    column_select = alt.selection_single(\n",
    "        fields=['parameter'],\n",
    "        on='doubleclick',\n",
    "        clear=False, \n",
    "        bind=column_dropdown,\n",
    "        name=\"Ride Type\",\n",
    "        init={'parameter': \"Rideshare_Dist\"}\n",
    "    )\n",
    "\n",
    "    hist = alt.Chart(long_df).mark_area(point=False, size = 4).encode(\n",
    "        alt.X('x',title='Ride Cost (Dollars)'),\n",
    "        alt.Y('value',title='Density'),\n",
    "        color=alt.Color('parameter', scale = alt.Scale(range = range_, domain = domain),legend=None)\n",
    "    )\n",
    "\n",
    "\n",
    "    filter_columns = hist.add_selection(\n",
    "        column_select\n",
    "    ).encode(\n",
    "        opacity=alt.condition(column_select, alt.value(0.6), alt.value(0))\n",
    "    )\n",
    "\n",
    "\n",
    "    slider = alt.binding_range(min=0, max=9, step=1)\n",
    "    select_hour = alt.selection_single(name=\" \", fields=['hour'],\n",
    "                                       bind=slider, init={'hour': 0})\n",
    "\n",
    "    estimates = alt.Chart(pred_df).mark_rule(color='red').encode(\n",
    "        x='value',\n",
    "        size=alt.value(5),\n",
    "        color = alt.Color('parameter',scale = alt.Scale(range = range_, domain = domain2))\n",
    "    ).add_selection(select_hour).transform_filter(select_hour)\n",
    "\n",
    "\n",
    "\n",
    "    layer = estimates +filter_columns\n",
    "    layer.properties(\n",
    "        height=300,\n",
    "        width = 800,\n",
    "        title='Ridesharing Averages and Estimates'\n",
    "    ).configure_axis(\n",
    "        labelFontSize=16,\n",
    "        titleFontSize=16\n",
    "    ).configure_title(\n",
    "        fontSize=20,\n",
    "        font='Courier',\n",
    "    ).configure_legend(\n",
    "        strokeColor='gray',\n",
    "        fillColor='#EEEEEE',\n",
    "        padding=10,\n",
    "        cornerRadius=10,\n",
    "        orient='top-right',\n",
    "        symbolType = 'circle'\n",
    "    )\n",
    "    return layer"
   ]
  },
  {
   "cell_type": "markdown",
   "metadata": {},
   "source": [
    "## Fair Fare API\n",
    "\n",
    "Below is a live demo that runs the processing and visualization for a user entered trip.\n",
    "\n",
    "### Downtown-Downtown Trip"
   ]
  },
  {
   "cell_type": "code",
   "execution_count": 134,
   "metadata": {},
   "outputs": [],
   "source": [
    "USER_PARAMS = {\"pickup\": \"aquarium chicago\",\n",
    "               \"dropoff\": \"the bean cicago\",\n",
    "               \"forecast_hrs\":20}"
   ]
  },
  {
   "cell_type": "code",
   "execution_count": 135,
   "metadata": {},
   "outputs": [],
   "source": [
    "results = run_Fair_Fare(USER_PARAMS)"
   ]
  },
  {
   "cell_type": "code",
   "execution_count": 136,
   "metadata": {},
   "outputs": [
    {
     "name": "stdout",
     "output_type": "stream",
     "text": [
      "Rideshare_regular_price_estimate    10.11\n",
      "Rideshare_shared_price_estimate      6.19\n",
      "Taxi_price_estimate                  9.84\n",
      "Name: 0, dtype: float64\n"
     ]
    }
   ],
   "source": [
    "pd.set_option(\"display.precision\", 2)\n",
    "print(pd.DataFrame(results[5]).iloc[0])"
   ]
  },
  {
   "cell_type": "code",
   "execution_count": 137,
   "metadata": {},
   "outputs": [
    {
     "name": "stdout",
     "output_type": "stream",
     "text": [
      "19.0\n"
     ]
    },
    {
     "data": {
      "application/vnd.vegalite.v3+json": {
       "$schema": "https://vega.github.io/schema/vega-lite/v3.3.0.json",
       "config": {
        "mark": {
         "tooltip": null
        },
        "view": {
         "height": 300,
         "width": 400
        }
       },
       "datasets": {
        "data-4b9c780245e317891b4620ab42fb0f52": [
         {
          "parameter": "Shared_Rideshare_Dist",
          "value": 0.02202326143950806,
          "x": 3.25
         },
         {
          "parameter": "Shared_Rideshare_Dist",
          "value": 0.022964157361867094,
          "x": 3.409090909090909
         },
         {
          "parameter": "Shared_Rideshare_Dist",
          "value": 0.023985567222011048,
          "x": 3.5681818181818183
         },
         {
          "parameter": "Shared_Rideshare_Dist",
          "value": 0.025285109137806155,
          "x": 3.7272727272727275
         },
         {
          "parameter": "Shared_Rideshare_Dist",
          "value": 0.027105164188151235,
          "x": 3.8863636363636362
         },
         {
          "parameter": "Shared_Rideshare_Dist",
          "value": 0.029717922000823942,
          "x": 4.045454545454545
         },
         {
          "parameter": "Shared_Rideshare_Dist",
          "value": 0.033403652886124825,
          "x": 4.204545454545455
         },
         {
          "parameter": "Shared_Rideshare_Dist",
          "value": 0.038423076355405546,
          "x": 4.363636363636363
         },
         {
          "parameter": "Shared_Rideshare_Dist",
          "value": 0.044985590625247054,
          "x": 4.5227272727272725
         },
         {
          "parameter": "Shared_Rideshare_Dist",
          "value": 0.05321608959049957,
          "x": 4.681818181818182
         },
         {
          "parameter": "Shared_Rideshare_Dist",
          "value": 0.06312399867929547,
          "x": 4.840909090909091
         },
         {
          "parameter": "Shared_Rideshare_Dist",
          "value": 0.0745788242804833,
          "x": 5
         },
         {
          "parameter": "Shared_Rideshare_Dist",
          "value": 0.08729671329211001,
          "x": 5.159090909090909
         },
         {
          "parameter": "Shared_Rideshare_Dist",
          "value": 0.10084205616223779,
          "x": 5.318181818181818
         },
         {
          "parameter": "Shared_Rideshare_Dist",
          "value": 0.11464691786281077,
          "x": 5.477272727272727
         },
         {
          "parameter": "Shared_Rideshare_Dist",
          "value": 0.12804907175209776,
          "x": 5.636363636363637
         },
         {
          "parameter": "Shared_Rideshare_Dist",
          "value": 0.14034684851224188,
          "x": 5.795454545454545
         },
         {
          "parameter": "Shared_Rideshare_Dist",
          "value": 0.1508662759392803,
          "x": 5.954545454545455
         },
         {
          "parameter": "Shared_Rideshare_Dist",
          "value": 0.15903356496255552,
          "x": 6.113636363636363
         },
         {
          "parameter": "Shared_Rideshare_Dist",
          "value": 0.16444438770238776,
          "x": 6.2727272727272725
         },
         {
          "parameter": "Shared_Rideshare_Dist",
          "value": 0.16692097369678854,
          "x": 6.431818181818182
         },
         {
          "parameter": "Shared_Rideshare_Dist",
          "value": 0.16654898222201506,
          "x": 6.590909090909091
         },
         {
          "parameter": "Shared_Rideshare_Dist",
          "value": 0.16368828632491197,
          "x": 6.75
         },
         {
          "parameter": "Shared_Rideshare_Dist",
          "value": 0.1589548756994592,
          "x": 6.909090909090909
         },
         {
          "parameter": "Shared_Rideshare_Dist",
          "value": 0.15317453932963276,
          "x": 7.068181818181818
         },
         {
          "parameter": "Shared_Rideshare_Dist",
          "value": 0.14731228101446664,
          "x": 7.227272727272727
         },
         {
          "parameter": "Shared_Rideshare_Dist",
          "value": 0.1423841022077516,
          "x": 7.386363636363637
         },
         {
          "parameter": "Shared_Rideshare_Dist",
          "value": 0.1393595887259592,
          "x": 7.545454545454545
         },
         {
          "parameter": "Shared_Rideshare_Dist",
          "value": 0.13906459377591915,
          "x": 7.704545454545454
         },
         {
          "parameter": "Shared_Rideshare_Dist",
          "value": 0.14209330704543727,
          "x": 7.863636363636363
         },
         {
          "parameter": "Shared_Rideshare_Dist",
          "value": 0.148738291248076,
          "x": 8.022727272727273
         },
         {
          "parameter": "Shared_Rideshare_Dist",
          "value": 0.1589457802975596,
          "x": 8.181818181818182
         },
         {
          "parameter": "Shared_Rideshare_Dist",
          "value": 0.17230171476633183,
          "x": 8.34090909090909
         },
         {
          "parameter": "Shared_Rideshare_Dist",
          "value": 0.18805161872239784,
          "x": 8.5
         },
         {
          "parameter": "Shared_Rideshare_Dist",
          "value": 0.20515447678716792,
          "x": 8.65909090909091
         },
         {
          "parameter": "Shared_Rideshare_Dist",
          "value": 0.2223673326447103,
          "x": 8.818181818181818
         },
         {
          "parameter": "Shared_Rideshare_Dist",
          "value": 0.23835366830256646,
          "x": 8.977272727272727
         },
         {
          "parameter": "Shared_Rideshare_Dist",
          "value": 0.25180521508963744,
          "x": 9.136363636363637
         },
         {
          "parameter": "Shared_Rideshare_Dist",
          "value": 0.2615643168270727,
          "x": 9.295454545454545
         },
         {
          "parameter": "Shared_Rideshare_Dist",
          "value": 0.2667329395751232,
          "x": 9.454545454545453
         },
         {
          "parameter": "Shared_Rideshare_Dist",
          "value": 0.26675534610726015,
          "x": 9.613636363636363
         },
         {
          "parameter": "Shared_Rideshare_Dist",
          "value": 0.2614644257852688,
          "x": 9.772727272727273
         },
         {
          "parameter": "Shared_Rideshare_Dist",
          "value": 0.25108635840827453,
          "x": 9.931818181818182
         },
         {
          "parameter": "Shared_Rideshare_Dist",
          "value": 0.2362039579085241,
          "x": 10.09090909090909
         },
         {
          "parameter": "Shared_Rideshare_Dist",
          "value": 0.21768469633295737,
          "x": 10.25
         },
         {
          "parameter": "Shared_Rideshare_Dist",
          "value": 0.19658402754365908,
          "x": 10.40909090909091
         },
         {
          "parameter": "Shared_Rideshare_Dist",
          "value": 0.17403740052487934,
          "x": 10.568181818181818
         },
         {
          "parameter": "Shared_Rideshare_Dist",
          "value": 0.15115485762801098,
          "x": 10.727272727272727
         },
         {
          "parameter": "Shared_Rideshare_Dist",
          "value": 0.12893041463482915,
          "x": 10.886363636363637
         },
         {
          "parameter": "Shared_Rideshare_Dist",
          "value": 0.1081750133380781,
          "x": 11.045454545454545
         },
         {
          "parameter": "Shared_Rideshare_Dist",
          "value": 0.08947750784278657,
          "x": 11.204545454545453
         },
         {
          "parameter": "Shared_Rideshare_Dist",
          "value": 0.07319376274476647,
          "x": 11.363636363636363
         },
         {
          "parameter": "Shared_Rideshare_Dist",
          "value": 0.05946026038761018,
          "x": 11.522727272727273
         },
         {
          "parameter": "Shared_Rideshare_Dist",
          "value": 0.0482261326234974,
          "x": 11.681818181818182
         },
         {
          "parameter": "Shared_Rideshare_Dist",
          "value": 0.03929642817027323,
          "x": 11.84090909090909
         },
         {
          "parameter": "Shared_Rideshare_Dist",
          "value": 0.03237958433986897,
          "x": 12
         },
         {
          "parameter": "Shared_Rideshare_Dist",
          "value": 0.0271331705115428,
          "x": 12.159090909090908
         },
         {
          "parameter": "Shared_Rideshare_Dist",
          "value": 0.023203598989388147,
          "x": 12.318181818181818
         },
         {
          "parameter": "Shared_Rideshare_Dist",
          "value": 0.02025726305856639,
          "x": 12.477272727272727
         },
         {
          "parameter": "Shared_Rideshare_Dist",
          "value": 0.018002160532644015,
          "x": 12.636363636363637
         },
         {
          "parameter": "Shared_Rideshare_Dist",
          "value": 0.016200316233165694,
          "x": 12.795454545454545
         },
         {
          "parameter": "Shared_Rideshare_Dist",
          "value": 0.014672168465197595,
          "x": 12.954545454545455
         },
         {
          "parameter": "Shared_Rideshare_Dist",
          "value": 0.013294558740640339,
          "x": 13.113636363636363
         },
         {
          "parameter": "Shared_Rideshare_Dist",
          "value": 0.011994133776881648,
          "x": 13.272727272727273
         },
         {
          "parameter": "Shared_Rideshare_Dist",
          "value": 0.010737919923368177,
          "x": 13.431818181818182
         },
         {
          "parameter": "Shared_Rideshare_Dist",
          "value": 0.009522639359167744,
          "x": 13.59090909090909
         },
         {
          "parameter": "Shared_Rideshare_Dist",
          "value": 0.008364063799785883,
          "x": 13.75
         },
         {
          "parameter": "Shared_Rideshare_Dist",
          "value": 0.007287387676318625,
          "x": 13.909090909090908
         },
         {
          "parameter": "Shared_Rideshare_Dist",
          "value": 0.006319280201501373,
          "x": 14.068181818181818
         },
         {
          "parameter": "Shared_Rideshare_Dist",
          "value": 0.005481969499058952,
          "x": 14.227272727272727
         },
         {
          "parameter": "Shared_Rideshare_Dist",
          "value": 0.004789442953035867,
          "x": 14.386363636363637
         },
         {
          "parameter": "Shared_Rideshare_Dist",
          "value": 0.004245632170825551,
          "x": 14.545454545454545
         },
         {
          "parameter": "Shared_Rideshare_Dist",
          "value": 0.003844297597631953,
          "x": 14.704545454545455
         },
         {
          "parameter": "Shared_Rideshare_Dist",
          "value": 0.0035702376881250135,
          "x": 14.863636363636363
         },
         {
          "parameter": "Shared_Rideshare_Dist",
          "value": 0.003401413528601395,
          "x": 15.022727272727273
         },
         {
          "parameter": "Shared_Rideshare_Dist",
          "value": 0.003311589332445409,
          "x": 15.181818181818182
         },
         {
          "parameter": "Shared_Rideshare_Dist",
          "value": 0.003273127909807974,
          "x": 15.34090909090909
         },
         {
          "parameter": "Shared_Rideshare_Dist",
          "value": 0.0032596353708495293,
          "x": 15.5
         },
         {
          "parameter": "Shared_Rideshare_Dist",
          "value": 0.003248212252101349,
          "x": 15.659090909090908
         },
         {
          "parameter": "Shared_Rideshare_Dist",
          "value": 0.0032211345652431627,
          "x": 15.818181818181818
         },
         {
          "parameter": "Shared_Rideshare_Dist",
          "value": 0.0031668565632826068,
          "x": 15.977272727272727
         },
         {
          "parameter": "Shared_Rideshare_Dist",
          "value": 0.0030802967233970503,
          "x": 16.136363636363637
         },
         {
          "parameter": "Shared_Rideshare_Dist",
          "value": 0.0029624377779000222,
          "x": 16.295454545454547
         },
         {
          "parameter": "Shared_Rideshare_Dist",
          "value": 0.0028193365697998032,
          "x": 16.454545454545453
         },
         {
          "parameter": "Shared_Rideshare_Dist",
          "value": 0.002660694110047731,
          "x": 16.613636363636363
         },
         {
          "parameter": "Shared_Rideshare_Dist",
          "value": 0.002498173967351387,
          "x": 16.772727272727273
         },
         {
          "parameter": "Shared_Rideshare_Dist",
          "value": 0.002343672861524474,
          "x": 16.93181818181818
         },
         {
          "parameter": "Shared_Rideshare_Dist",
          "value": 0.002207738853498189,
          "x": 17.09090909090909
         },
         {
          "parameter": "Shared_Rideshare_Dist",
          "value": 0.0020983013917147434,
          "x": 17.25
         },
         {
          "parameter": "Shared_Rideshare_Dist",
          "value": 0.0020198287798389174,
          "x": 17.409090909090907
         },
         {
          "parameter": "Shared_Rideshare_Dist",
          "value": 0.0019729698889815223,
          "x": 17.56818181818182
         },
         {
          "parameter": "Shared_Rideshare_Dist",
          "value": 0.0019546765189393423,
          "x": 17.727272727272727
         },
         {
          "parameter": "Shared_Rideshare_Dist",
          "value": 0.0019587484175828535,
          "x": 17.886363636363637
         },
         {
          "parameter": "Shared_Rideshare_Dist",
          "value": 0.001976700519189734,
          "x": 18.045454545454547
         },
         {
          "parameter": "Shared_Rideshare_Dist",
          "value": 0.0019988250818162266,
          "x": 18.204545454545453
         },
         {
          "parameter": "Shared_Rideshare_Dist",
          "value": 0.002015311404614603,
          "x": 18.363636363636363
         },
         {
          "parameter": "Shared_Rideshare_Dist",
          "value": 0.0020172920207747543,
          "x": 18.522727272727273
         },
         {
          "parameter": "Shared_Rideshare_Dist",
          "value": 0.0019977044791073184,
          "x": 18.68181818181818
         },
         {
          "parameter": "Shared_Rideshare_Dist",
          "value": 0.0019518886978193283,
          "x": 18.84090909090909
         },
         {
          "parameter": "Shared_Rideshare_Dist",
          "value": 0.001877877250506006,
          "x": 19
         },
         {
          "parameter": "Rideshare_Dist",
          "value": 0.6170889323213483,
          "x": 3.25
         },
         {
          "parameter": "Rideshare_Dist",
          "value": 0.6047298425751779,
          "x": 3.409090909090909
         },
         {
          "parameter": "Rideshare_Dist",
          "value": 0.567978363047118,
          "x": 3.5681818181818183
         },
         {
          "parameter": "Rideshare_Dist",
          "value": 0.511304536963434,
          "x": 3.7272727272727275
         },
         {
          "parameter": "Rideshare_Dist",
          "value": 0.4412048770761023,
          "x": 3.8863636363636362
         },
         {
          "parameter": "Rideshare_Dist",
          "value": 0.36499033590421626,
          "x": 4.045454545454545
         },
         {
          "parameter": "Rideshare_Dist",
          "value": 0.2895637363677444,
          "x": 4.204545454545455
         },
         {
          "parameter": "Rideshare_Dist",
          "value": 0.2204659912571162,
          "x": 4.363636363636363
         },
         {
          "parameter": "Rideshare_Dist",
          "value": 0.16135684986229035,
          "x": 4.5227272727272725
         },
         {
          "parameter": "Rideshare_Dist",
          "value": 0.11395259528230609,
          "x": 4.681818181818182
         },
         {
          "parameter": "Rideshare_Dist",
          "value": 0.07832213068318772,
          "x": 4.840909090909091
         },
         {
          "parameter": "Rideshare_Dist",
          "value": 0.05337811111708212,
          "x": 5
         },
         {
          "parameter": "Rideshare_Dist",
          "value": 0.03739792676365987,
          "x": 5.159090909090909
         },
         {
          "parameter": "Rideshare_Dist",
          "value": 0.02845414899264086,
          "x": 5.318181818181818
         },
         {
          "parameter": "Rideshare_Dist",
          "value": 0.024698369175024958,
          "x": 5.477272727272727
         },
         {
          "parameter": "Rideshare_Dist",
          "value": 0.024500909893196667,
          "x": 5.636363636363637
         },
         {
          "parameter": "Rideshare_Dist",
          "value": 0.026486197175032058,
          "x": 5.795454545454545
         },
         {
          "parameter": "Rideshare_Dist",
          "value": 0.029515713489096772,
          "x": 5.954545454545455
         },
         {
          "parameter": "Rideshare_Dist",
          "value": 0.032662241065098005,
          "x": 6.113636363636363
         },
         {
          "parameter": "Rideshare_Dist",
          "value": 0.03519973642692599,
          "x": 6.2727272727272725
         },
         {
          "parameter": "Rideshare_Dist",
          "value": 0.03661221745881963,
          "x": 6.431818181818182
         },
         {
          "parameter": "Rideshare_Dist",
          "value": 0.03660980974883736,
          "x": 6.590909090909091
         },
         {
          "parameter": "Rideshare_Dist",
          "value": 0.03513432833789751,
          "x": 6.75
         },
         {
          "parameter": "Rideshare_Dist",
          "value": 0.03234038086672215,
          "x": 6.909090909090909
         },
         {
          "parameter": "Rideshare_Dist",
          "value": 0.028547761681379652,
          "x": 7.068181818181818
         },
         {
          "parameter": "Rideshare_Dist",
          "value": 0.024172027743054172,
          "x": 7.227272727272727
         },
         {
          "parameter": "Rideshare_Dist",
          "value": 0.019648033689299686,
          "x": 7.386363636363637
         },
         {
          "parameter": "Rideshare_Dist",
          "value": 0.015363181335343196,
          "x": 7.545454545454545
         },
         {
          "parameter": "Rideshare_Dist",
          "value": 0.011613176789383709,
          "x": 7.704545454545454
         },
         {
          "parameter": "Rideshare_Dist",
          "value": 0.008585401307194535,
          "x": 7.863636363636363
         },
         {
          "parameter": "Rideshare_Dist",
          "value": 0.00636681304587731,
          "x": 8.022727272727273
         },
         {
          "parameter": "Rideshare_Dist",
          "value": 0.004967418439203331,
          "x": 8.181818181818182
         },
         {
          "parameter": "Rideshare_Dist",
          "value": 0.004348233616505566,
          "x": 8.34090909090909
         },
         {
          "parameter": "Rideshare_Dist",
          "value": 0.0044441967012208644,
          "x": 8.5
         },
         {
          "parameter": "Rideshare_Dist",
          "value": 0.00517648347400452,
          "x": 8.65909090909091
         },
         {
          "parameter": "Rideshare_Dist",
          "value": 0.006453501344102499,
          "x": 8.818181818181818
         },
         {
          "parameter": "Rideshare_Dist",
          "value": 0.008164031432967317,
          "x": 8.977272727272727
         },
         {
          "parameter": "Rideshare_Dist",
          "value": 0.010168554179470754,
          "x": 9.136363636363637
         },
         {
          "parameter": "Rideshare_Dist",
          "value": 0.012295251151250762,
          "x": 9.295454545454545
         },
         {
          "parameter": "Rideshare_Dist",
          "value": 0.014345545183572431,
          "x": 9.454545454545453
         },
         {
          "parameter": "Rideshare_Dist",
          "value": 0.01611081783305454,
          "x": 9.613636363636363
         },
         {
          "parameter": "Rideshare_Dist",
          "value": 0.017398046755393352,
          "x": 9.772727272727273
         },
         {
          "parameter": "Rideshare_Dist",
          "value": 0.018058717005905733,
          "x": 9.931818181818182
         },
         {
          "parameter": "Rideshare_Dist",
          "value": 0.018013604954312243,
          "x": 10.09090909090909
         },
         {
          "parameter": "Rideshare_Dist",
          "value": 0.017266582780010375,
          "x": 10.25
         },
         {
          "parameter": "Rideshare_Dist",
          "value": 0.015903356641949973,
          "x": 10.40909090909091
         },
         {
          "parameter": "Rideshare_Dist",
          "value": 0.014075149264957343,
          "x": 10.568181818181818
         },
         {
          "parameter": "Rideshare_Dist",
          "value": 0.011971390556690848,
          "x": 10.727272727272727
         },
         {
          "parameter": "Rideshare_Dist",
          "value": 0.009788144896140017,
          "x": 10.886363636363637
         },
         {
          "parameter": "Rideshare_Dist",
          "value": 0.007699492890820872,
          "x": 11.045454545454545
         },
         {
          "parameter": "Rideshare_Dist",
          "value": 0.0058374404564256795,
          "x": 11.204545454545453
         },
         {
          "parameter": "Rideshare_Dist",
          "value": 0.004282934593914517,
          "x": 11.363636363636363
         },
         {
          "parameter": "Rideshare_Dist",
          "value": 0.0030673706960866864,
          "x": 11.522727272727273
         },
         {
          "parameter": "Rideshare_Dist",
          "value": 0.0021816106315125827,
          "x": 11.681818181818182
         },
         {
          "parameter": "Rideshare_Dist",
          "value": 0.00158854869218134,
          "x": 11.84090909090909
         },
         {
          "parameter": "Rideshare_Dist",
          "value": 0.0012356353860715724,
          "x": 12
         },
         {
          "parameter": "Rideshare_Dist",
          "value": 0.0010650238765187179,
          "x": 12.159090909090908
         },
         {
          "parameter": "Rideshare_Dist",
          "value": 0.001020496228255194,
          "x": 12.318181818181818
         },
         {
          "parameter": "Rideshare_Dist",
          "value": 0.001051510057505316,
          "x": 12.477272727272727
         },
         {
          "parameter": "Rideshare_Dist",
          "value": 0.001115296254181518,
          "x": 12.636363636363637
         },
         {
          "parameter": "Rideshare_Dist",
          "value": 0.0011779402187257902,
          "x": 12.795454545454545
         },
         {
          "parameter": "Rideshare_Dist",
          "value": 0.0012150060358860685,
          "x": 12.954545454545455
         },
         {
          "parameter": "Rideshare_Dist",
          "value": 0.0012118046831984925,
          "x": 13.113636363636363
         },
         {
          "parameter": "Rideshare_Dist",
          "value": 0.0011631031012175603,
          "x": 13.272727272727273
         },
         {
          "parameter": "Rideshare_Dist",
          "value": 0.0010720310497024244,
          "x": 13.431818181818182
         },
         {
          "parameter": "Rideshare_Dist",
          "value": 0.0009481340745472116,
          "x": 13.59090909090909
         },
         {
          "parameter": "Rideshare_Dist",
          "value": 0.0008048107857917949,
          "x": 13.75
         },
         {
          "parameter": "Rideshare_Dist",
          "value": 0.0006566038921785287,
          "x": 13.909090909090908
         },
         {
          "parameter": "Rideshare_Dist",
          "value": 0.0005168779084833176,
          "x": 14.068181818181818
         },
         {
          "parameter": "Rideshare_Dist",
          "value": 0.0003962903656991689,
          "x": 14.227272727272727
         },
         {
          "parameter": "Rideshare_Dist",
          "value": 0.0003022083881496432,
          "x": 14.386363636363637
         },
         {
          "parameter": "Rideshare_Dist",
          "value": 0.00023894277785838905,
          "x": 14.545454545454545
         },
         {
          "parameter": "Rideshare_Dist",
          "value": 0.00020846571826055308,
          "x": 14.704545454545455
         },
         {
          "parameter": "Rideshare_Dist",
          "value": 0.00021120305100254112,
          "x": 14.863636363636363
         },
         {
          "parameter": "Rideshare_Dist",
          "value": 0.0002465530137475225,
          "x": 15.022727272727273
         },
         {
          "parameter": "Rideshare_Dist",
          "value": 0.00031294440201081624,
          "x": 15.181818181818182
         },
         {
          "parameter": "Rideshare_Dist",
          "value": 0.00040745128244205756,
          "x": 15.34090909090909
         },
         {
          "parameter": "Rideshare_Dist",
          "value": 0.0005251685904298877,
          "x": 15.5
         },
         {
          "parameter": "Rideshare_Dist",
          "value": 0.0006586720086108502,
          "x": 15.659090909090908
         },
         {
          "parameter": "Rideshare_Dist",
          "value": 0.0007979019738519989,
          "x": 15.818181818181818
         },
         {
          "parameter": "Rideshare_Dist",
          "value": 0.0009307150783842195,
          "x": 15.977272727272727
         },
         {
          "parameter": "Rideshare_Dist",
          "value": 0.001044156683694452,
          "x": 16.136363636363637
         },
         {
          "parameter": "Rideshare_Dist",
          "value": 0.0011262777825099095,
          "x": 16.295454545454547
         },
         {
          "parameter": "Rideshare_Dist",
          "value": 0.0011681192533442844,
          "x": 16.454545454545453
         },
         {
          "parameter": "Rideshare_Dist",
          "value": 0.0011653878239817588,
          "x": 16.613636363636363
         },
         {
          "parameter": "Rideshare_Dist",
          "value": 0.0011193908989580324,
          "x": 16.772727272727273
         },
         {
          "parameter": "Rideshare_Dist",
          "value": 0.0010369735444428724,
          "x": 16.93181818181818
         },
         {
          "parameter": "Rideshare_Dist",
          "value": 0.0009294530411933755,
          "x": 17.09090909090909
         },
         {
          "parameter": "Rideshare_Dist",
          "value": 0.0008107901376546299,
          "x": 17.25
         },
         {
          "parameter": "Rideshare_Dist",
          "value": 0.0006953946851640198,
          "x": 17.409090909090907
         },
         {
          "parameter": "Rideshare_Dist",
          "value": 0.0005959983423436706,
          "x": 17.56818181818182
         },
         {
          "parameter": "Rideshare_Dist",
          "value": 0.0005219503242246708,
          "x": 17.727272727272727
         },
         {
          "parameter": "Rideshare_Dist",
          "value": 0.00047815339628105505,
          "x": 17.886363636363637
         },
         {
          "parameter": "Rideshare_Dist",
          "value": 0.00046471519927447885,
          "x": 18.045454545454547
         },
         {
          "parameter": "Rideshare_Dist",
          "value": 0.00047728351266676034,
          "x": 18.204545454545453
         },
         {
          "parameter": "Rideshare_Dist",
          "value": 0.0005079690127545201,
          "x": 18.363636363636363
         },
         {
          "parameter": "Rideshare_Dist",
          "value": 0.0005467158442701803,
          "x": 18.522727272727273
         },
         {
          "parameter": "Rideshare_Dist",
          "value": 0.0005829360370138925,
          "x": 18.68181818181818
         },
         {
          "parameter": "Rideshare_Dist",
          "value": 0.0006071737992524374,
          "x": 18.84090909090909
         },
         {
          "parameter": "Rideshare_Dist",
          "value": 0.0006125303164815338,
          "x": 19
         },
         {
          "parameter": "Taxi_Dist",
          "value": 0.00021009416607248774,
          "x": 3.25
         },
         {
          "parameter": "Taxi_Dist",
          "value": 0.000196967958019715,
          "x": 3.409090909090909
         },
         {
          "parameter": "Taxi_Dist",
          "value": 0.00016231013844974089,
          "x": 3.5681818181818183
         },
         {
          "parameter": "Taxi_Dist",
          "value": 0.00011757506618663557,
          "x": 3.7272727272727275
         },
         {
          "parameter": "Taxi_Dist",
          "value": 7.493824630904512e-05,
          "x": 3.8863636363636362
         },
         {
          "parameter": "Taxi_Dist",
          "value": 4.2328963786941346e-05,
          "x": 4.045454545454545
         },
         {
          "parameter": "Taxi_Dist",
          "value": 2.2374312214964968e-05,
          "x": 4.204545454545455
         },
         {
          "parameter": "Taxi_Dist",
          "value": 1.5077808470630979e-05,
          "x": 4.363636363636363
         },
         {
          "parameter": "Taxi_Dist",
          "value": 2.246496550140087e-05,
          "x": 4.5227272727272725
         },
         {
          "parameter": "Taxi_Dist",
          "value": 5.386516582236392e-05,
          "x": 4.681818181818182
         },
         {
          "parameter": "Taxi_Dist",
          "value": 0.00013123334335309609,
          "x": 4.840909090909091
         },
         {
          "parameter": "Taxi_Dist",
          "value": 0.0002933665923084995,
          "x": 5
         },
         {
          "parameter": "Taxi_Dist",
          "value": 0.0005963068120521574,
          "x": 5.159090909090909
         },
         {
          "parameter": "Taxi_Dist",
          "value": 0.001106391803019936,
          "x": 5.318181818181818
         },
         {
          "parameter": "Taxi_Dist",
          "value": 0.0018839477766068448,
          "x": 5.477272727272727
         },
         {
          "parameter": "Taxi_Dist",
          "value": 0.002959749935718575,
          "x": 5.636363636363637
         },
         {
          "parameter": "Taxi_Dist",
          "value": 0.00431190449851246,
          "x": 5.795454545454545
         },
         {
          "parameter": "Taxi_Dist",
          "value": 0.005855189408102198,
          "x": 5.954545454545455
         },
         {
          "parameter": "Taxi_Dist",
          "value": 0.007454119364773287,
          "x": 6.113636363636363
         },
         {
          "parameter": "Taxi_Dist",
          "value": 0.008962067201052562,
          "x": 6.2727272727272725
         },
         {
          "parameter": "Taxi_Dist",
          "value": 0.010276079824617396,
          "x": 6.431818181818182
         },
         {
          "parameter": "Taxi_Dist",
          "value": 0.011394534292516401,
          "x": 6.590909090909091
         },
         {
          "parameter": "Taxi_Dist",
          "value": 0.012484278063392083,
          "x": 6.75
         },
         {
          "parameter": "Taxi_Dist",
          "value": 0.013996528248468596,
          "x": 6.909090909090909
         },
         {
          "parameter": "Taxi_Dist",
          "value": 0.01688220958221678,
          "x": 7.068181818181818
         },
         {
          "parameter": "Taxi_Dist",
          "value": 0.02290546544731412,
          "x": 7.227272727272727
         },
         {
          "parameter": "Taxi_Dist",
          "value": 0.034921560954438435,
          "x": 7.386363636363637
         },
         {
          "parameter": "Taxi_Dist",
          "value": 0.056819323586899284,
          "x": 7.545454545454545
         },
         {
          "parameter": "Taxi_Dist",
          "value": 0.09276515914875946,
          "x": 7.704545454545454
         },
         {
          "parameter": "Taxi_Dist",
          "value": 0.14560165376999995,
          "x": 7.863636363636363
         },
         {
          "parameter": "Taxi_Dist",
          "value": 0.2147940167943571,
          "x": 8.022727272727273
         },
         {
          "parameter": "Taxi_Dist",
          "value": 0.2949156213381537,
          "x": 8.181818181818182
         },
         {
          "parameter": "Taxi_Dist",
          "value": 0.37580910411383867,
          "x": 8.34090909090909
         },
         {
          "parameter": "Taxi_Dist",
          "value": 0.44491111703681835,
          "x": 8.5
         },
         {
          "parameter": "Taxi_Dist",
          "value": 0.49103925594386816,
          "x": 8.65909090909091
         },
         {
          "parameter": "Taxi_Dist",
          "value": 0.5079859600180315,
          "x": 8.818181818181818
         },
         {
          "parameter": "Taxi_Dist",
          "value": 0.49624503269211495,
          "x": 8.977272727272727
         },
         {
          "parameter": "Taxi_Dist",
          "value": 0.46215361077273515,
          "x": 9.136363636363637
         },
         {
          "parameter": "Taxi_Dist",
          "value": 0.41504136520231283,
          "x": 9.295454545454545
         },
         {
          "parameter": "Taxi_Dist",
          "value": 0.3638542579778415,
          "x": 9.454545454545453
         },
         {
          "parameter": "Taxi_Dist",
          "value": 0.3147406807476038,
          "x": 9.613636363636363
         },
         {
          "parameter": "Taxi_Dist",
          "value": 0.2703709077486206,
          "x": 9.772727272727273
         },
         {
          "parameter": "Taxi_Dist",
          "value": 0.23079591057392876,
          "x": 9.931818181818182
         },
         {
          "parameter": "Taxi_Dist",
          "value": 0.1949813298622385,
          "x": 10.09090909090909
         },
         {
          "parameter": "Taxi_Dist",
          "value": 0.16207812887415957,
          "x": 10.25
         },
         {
          "parameter": "Taxi_Dist",
          "value": 0.1319311959113489,
          "x": 10.40909090909091
         },
         {
          "parameter": "Taxi_Dist",
          "value": 0.10490702375522831,
          "x": 10.568181818181818
         },
         {
          "parameter": "Taxi_Dist",
          "value": 0.08145714982914228,
          "x": 10.727272727272727
         },
         {
          "parameter": "Taxi_Dist",
          "value": 0.06179691731167723,
          "x": 10.886363636363637
         },
         {
          "parameter": "Taxi_Dist",
          "value": 0.04583078274093023,
          "x": 11.045454545454545
         },
         {
          "parameter": "Taxi_Dist",
          "value": 0.03324442184850122,
          "x": 11.204545454545453
         },
         {
          "parameter": "Taxi_Dist",
          "value": 0.023629546140052433,
          "x": 11.363636363636363
         },
         {
          "parameter": "Taxi_Dist",
          "value": 0.01656388049052276,
          "x": 11.522727272727273
         },
         {
          "parameter": "Taxi_Dist",
          "value": 0.011638274716286456,
          "x": 11.681818181818182
         },
         {
          "parameter": "Taxi_Dist",
          "value": 0.008455374592843718,
          "x": 11.84090909090909
         },
         {
          "parameter": "Taxi_Dist",
          "value": 0.0066244298456371135,
          "x": 12
         },
         {
          "parameter": "Taxi_Dist",
          "value": 0.005764749940912529,
          "x": 12.159090909090908
         },
         {
          "parameter": "Taxi_Dist",
          "value": 0.005518670554623822,
          "x": 12.318181818181818
         },
         {
          "parameter": "Taxi_Dist",
          "value": 0.005569339452707091,
          "x": 12.477272727272727
         },
         {
          "parameter": "Taxi_Dist",
          "value": 0.005659813069161949,
          "x": 12.636363636363637
         },
         {
          "parameter": "Taxi_Dist",
          "value": 0.005612288640543358,
          "x": 12.795454545454545
         },
         {
          "parameter": "Taxi_Dist",
          "value": 0.005343278531898628,
          "x": 12.954545454545455
         },
         {
          "parameter": "Taxi_Dist",
          "value": 0.004864329953438173,
          "x": 13.113636363636363
         },
         {
          "parameter": "Taxi_Dist",
          "value": 0.004258667853176257,
          "x": 13.272727272727273
         },
         {
          "parameter": "Taxi_Dist",
          "value": 0.0036366954442077514,
          "x": 13.431818181818182
         },
         {
          "parameter": "Taxi_Dist",
          "value": 0.0030884095376573395,
          "x": 13.59090909090909
         },
         {
          "parameter": "Taxi_Dist",
          "value": 0.0026542340486263166,
          "x": 13.75
         },
         {
          "parameter": "Taxi_Dist",
          "value": 0.00232405232269833,
          "x": 13.909090909090908
         },
         {
          "parameter": "Taxi_Dist",
          "value": 0.0020577141351244086,
          "x": 14.068181818181818
         },
         {
          "parameter": "Taxi_Dist",
          "value": 0.0018115830179350383,
          "x": 14.227272727272727
         },
         {
          "parameter": "Taxi_Dist",
          "value": 0.0015580309270182297,
          "x": 14.386363636363637
         },
         {
          "parameter": "Taxi_Dist",
          "value": 0.0012923802456473465,
          "x": 14.545454545454545
         },
         {
          "parameter": "Taxi_Dist",
          "value": 0.001028272752129681,
          "x": 14.704545454545455
         },
         {
          "parameter": "Taxi_Dist",
          "value": 0.0007862732112943539,
          "x": 14.863636363636363
         },
         {
          "parameter": "Taxi_Dist",
          "value": 0.0005824686092399787,
          "x": 15.022727272727273
         },
         {
          "parameter": "Taxi_Dist",
          "value": 0.00042302289393206667,
          "x": 15.181818181818182
         },
         {
          "parameter": "Taxi_Dist",
          "value": 0.0003061501328847418,
          "x": 15.34090909090909
         },
         {
          "parameter": "Taxi_Dist",
          "value": 0.00022751710790534343,
          "x": 15.5
         },
         {
          "parameter": "Taxi_Dist",
          "value": 0.00018343985890701642,
          "x": 15.659090909090908
         },
         {
          "parameter": "Taxi_Dist",
          "value": 0.00016962763010911513,
          "x": 15.818181818181818
         },
         {
          "parameter": "Taxi_Dist",
          "value": 0.00017793947914619484,
          "x": 15.977272727272727
         },
         {
          "parameter": "Taxi_Dist",
          "value": 0.00019533185436474256,
          "x": 16.136363636363637
         },
         {
          "parameter": "Taxi_Dist",
          "value": 0.00020700027314871514,
          "x": 16.295454545454547
         },
         {
          "parameter": "Taxi_Dist",
          "value": 0.00020202669779624614,
          "x": 16.454545454545453
         },
         {
          "parameter": "Taxi_Dist",
          "value": 0.00017769605296094146,
          "x": 16.613636363636363
         },
         {
          "parameter": "Taxi_Dist",
          "value": 0.00013957162848022233,
          "x": 16.772727272727273
         },
         {
          "parameter": "Taxi_Dist",
          "value": 9.751098441751141e-05,
          "x": 16.93181818181818
         },
         {
          "parameter": "Taxi_Dist",
          "value": 6.048491299851266e-05,
          "x": 17.09090909090909
         },
         {
          "parameter": "Taxi_Dist",
          "value": 3.3298342721208704e-05,
          "x": 17.25
         },
         {
          "parameter": "Taxi_Dist",
          "value": 1.636471324064008e-05,
          "x": 17.409090909090907
         },
         {
          "parameter": "Taxi_Dist",
          "value": 7.5480766880696e-06,
          "x": 17.56818181818182
         },
         {
          "parameter": "Taxi_Dist",
          "value": 4.353183900278277e-06,
          "x": 17.727272727272727
         },
         {
          "parameter": "Taxi_Dist",
          "value": 5.34745678750084e-06,
          "x": 17.886363636363637
         },
         {
          "parameter": "Taxi_Dist",
          "value": 1.0563016539832336e-05,
          "x": 18.045454545454547
         },
         {
          "parameter": "Taxi_Dist",
          "value": 2.100609328970506e-05,
          "x": 18.204545454545453
         },
         {
          "parameter": "Taxi_Dist",
          "value": 3.7433408681585114e-05,
          "x": 18.363636363636363
         },
         {
          "parameter": "Taxi_Dist",
          "value": 5.8780393669675434e-05,
          "x": 18.522727272727273
         },
         {
          "parameter": "Taxi_Dist",
          "value": 8.115380623238618e-05,
          "x": 18.68181818181818
         },
         {
          "parameter": "Taxi_Dist",
          "value": 9.848378156710877e-05,
          "x": 18.84090909090909
         },
         {
          "parameter": "Taxi_Dist",
          "value": 0.00010504705579041742,
          "x": 19
         }
        ],
        "data-9fc020f7982f28fc4d1433c064695168": [
         {
          "hour": 0,
          "parameter": "Rideshare_regular_price_estimate",
          "value": 10.109783172607422
         },
         {
          "hour": 1,
          "parameter": "Rideshare_regular_price_estimate",
          "value": 9.208772659301758
         },
         {
          "hour": 2,
          "parameter": "Rideshare_regular_price_estimate",
          "value": 10.0726957321167
         },
         {
          "hour": 3,
          "parameter": "Rideshare_regular_price_estimate",
          "value": 9.436958312988281
         },
         {
          "hour": 4,
          "parameter": "Rideshare_regular_price_estimate",
          "value": 9.845124244689941
         },
         {
          "hour": 5,
          "parameter": "Rideshare_regular_price_estimate",
          "value": 10.15644645690918
         },
         {
          "hour": 6,
          "parameter": "Rideshare_regular_price_estimate",
          "value": 10.198946952819824
         },
         {
          "hour": 7,
          "parameter": "Rideshare_regular_price_estimate",
          "value": 10.266552925109863
         },
         {
          "hour": 8,
          "parameter": "Rideshare_regular_price_estimate",
          "value": 9.515012741088867
         },
         {
          "hour": 9,
          "parameter": "Rideshare_regular_price_estimate",
          "value": 8.771512031555176
         },
         {
          "hour": 10,
          "parameter": "Rideshare_regular_price_estimate",
          "value": 9.143553733825684
         },
         {
          "hour": 11,
          "parameter": "Rideshare_regular_price_estimate",
          "value": 9.082780838012695
         },
         {
          "hour": 12,
          "parameter": "Rideshare_regular_price_estimate",
          "value": 9.294144630432129
         },
         {
          "hour": 13,
          "parameter": "Rideshare_regular_price_estimate",
          "value": 9.150588035583496
         },
         {
          "hour": 14,
          "parameter": "Rideshare_regular_price_estimate",
          "value": 9.145424842834473
         },
         {
          "hour": 15,
          "parameter": "Rideshare_regular_price_estimate",
          "value": 9.273356437683105
         },
         {
          "hour": 16,
          "parameter": "Rideshare_regular_price_estimate",
          "value": 9.326888084411621
         },
         {
          "hour": 17,
          "parameter": "Rideshare_regular_price_estimate",
          "value": 9.152642250061035
         },
         {
          "hour": 18,
          "parameter": "Rideshare_regular_price_estimate",
          "value": 9.213788032531738
         },
         {
          "hour": 19,
          "parameter": "Rideshare_regular_price_estimate",
          "value": 9.262882232666016
         },
         {
          "hour": 0,
          "parameter": "Rideshare_shared_price_estimate",
          "value": 6.186790466308594
         },
         {
          "hour": 1,
          "parameter": "Rideshare_shared_price_estimate",
          "value": 6.289947509765625
         },
         {
          "hour": 2,
          "parameter": "Rideshare_shared_price_estimate",
          "value": 6.866581439971924
         },
         {
          "hour": 3,
          "parameter": "Rideshare_shared_price_estimate",
          "value": 6.597938537597656
         },
         {
          "hour": 4,
          "parameter": "Rideshare_shared_price_estimate",
          "value": 6.439723014831543
         },
         {
          "hour": 5,
          "parameter": "Rideshare_shared_price_estimate",
          "value": 6.439035415649414
         },
         {
          "hour": 6,
          "parameter": "Rideshare_shared_price_estimate",
          "value": 6.4705705642700195
         },
         {
          "hour": 7,
          "parameter": "Rideshare_shared_price_estimate",
          "value": 6.538177013397217
         },
         {
          "hour": 8,
          "parameter": "Rideshare_shared_price_estimate",
          "value": 6.238567352294922
         },
         {
          "hour": 9,
          "parameter": "Rideshare_shared_price_estimate",
          "value": 5.528652667999268
         },
         {
          "hour": 10,
          "parameter": "Rideshare_shared_price_estimate",
          "value": 6.080016613006592
         },
         {
          "hour": 11,
          "parameter": "Rideshare_shared_price_estimate",
          "value": 6.0780510902404785
         },
         {
          "hour": 12,
          "parameter": "Rideshare_shared_price_estimate",
          "value": 6.153515815734863
         },
         {
          "hour": 13,
          "parameter": "Rideshare_shared_price_estimate",
          "value": 6.121361255645752
         },
         {
          "hour": 14,
          "parameter": "Rideshare_shared_price_estimate",
          "value": 6.032581329345703
         },
         {
          "hour": 15,
          "parameter": "Rideshare_shared_price_estimate",
          "value": 6.384527683258057
         },
         {
          "hour": 16,
          "parameter": "Rideshare_shared_price_estimate",
          "value": 6.309215545654297
         },
         {
          "hour": 17,
          "parameter": "Rideshare_shared_price_estimate",
          "value": 6.6395463943481445
         },
         {
          "hour": 18,
          "parameter": "Rideshare_shared_price_estimate",
          "value": 6.802210807800293
         },
         {
          "hour": 19,
          "parameter": "Rideshare_shared_price_estimate",
          "value": 6.859383583068848
         },
         {
          "hour": 0,
          "parameter": "Taxi_price_estimate",
          "value": 9.84296989440918
         },
         {
          "hour": 1,
          "parameter": "Taxi_price_estimate",
          "value": 9.020249366760254
         },
         {
          "hour": 2,
          "parameter": "Taxi_price_estimate",
          "value": 9.523174285888672
         },
         {
          "hour": 3,
          "parameter": "Taxi_price_estimate",
          "value": 9.528131484985352
         },
         {
          "hour": 4,
          "parameter": "Taxi_price_estimate",
          "value": 10.23168659210205
         },
         {
          "hour": 5,
          "parameter": "Taxi_price_estimate",
          "value": 10.841719627380371
         },
         {
          "hour": 6,
          "parameter": "Taxi_price_estimate",
          "value": 10.809147834777832
         },
         {
          "hour": 7,
          "parameter": "Taxi_price_estimate",
          "value": 11.292658805847168
         },
         {
          "hour": 8,
          "parameter": "Taxi_price_estimate",
          "value": 10.24158763885498
         },
         {
          "hour": 9,
          "parameter": "Taxi_price_estimate",
          "value": 9.621322631835938
         },
         {
          "hour": 10,
          "parameter": "Taxi_price_estimate",
          "value": 9.698009490966797
         },
         {
          "hour": 11,
          "parameter": "Taxi_price_estimate",
          "value": 9.5501708984375
         },
         {
          "hour": 12,
          "parameter": "Taxi_price_estimate",
          "value": 9.993097305297852
         },
         {
          "hour": 13,
          "parameter": "Taxi_price_estimate",
          "value": 9.805474281311035
         },
         {
          "hour": 14,
          "parameter": "Taxi_price_estimate",
          "value": 9.83952808380127
         },
         {
          "hour": 15,
          "parameter": "Taxi_price_estimate",
          "value": 8.642693519592285
         },
         {
          "hour": 16,
          "parameter": "Taxi_price_estimate",
          "value": 8.53710651397705
         },
         {
          "hour": 17,
          "parameter": "Taxi_price_estimate",
          "value": 8.908974647521973
         },
         {
          "hour": 18,
          "parameter": "Taxi_price_estimate",
          "value": 8.886443138122559
         },
         {
          "hour": 19,
          "parameter": "Taxi_price_estimate",
          "value": 8.787705421447754
         }
        ]
       },
       "layer": [
        {
         "data": {
          "name": "data-9fc020f7982f28fc4d1433c064695168"
         },
         "encoding": {
          "color": {
           "field": "parameter",
           "scale": {
            "domain": [
             "Rideshare_regular_price_estimate",
             "Rideshare_shared_price_estimate",
             "Taxi_price_estimate"
            ],
            "range": [
             "red",
             "green",
             "blue"
            ]
           },
           "type": "nominal"
          },
          "size": {
           "value": 5
          },
          "x": {
           "field": "value",
           "type": "quantitative"
          }
         },
         "mark": {
          "color": "red",
          "type": "rule"
         },
         "selection": {
          " ": {
           "bind": {
            "input": "range",
            "max": 9,
            "min": 0,
            "step": 1
           },
           "fields": [
            "hour"
           ],
           "init": {
            "hour": 0
           },
           "type": "single"
          }
         },
         "transform": [
          {
           "filter": {
            "selection": " "
           }
          }
         ]
        },
        {
         "data": {
          "name": "data-4b9c780245e317891b4620ab42fb0f52"
         },
         "encoding": {
          "color": {
           "field": "parameter",
           "legend": null,
           "scale": {
            "domain": [
             "Rideshare_Dist",
             "Shared_Rideshare_Dist",
             "Taxi_Dist"
            ],
            "range": [
             "red",
             "green",
             "blue"
            ]
           },
           "type": "nominal"
          },
          "opacity": {
           "condition": {
            "selection": "Ride Type",
            "value": 0.6
           },
           "value": 0
          },
          "x": {
           "field": "x",
           "title": "Ride Cost (Dollars)",
           "type": "quantitative"
          },
          "y": {
           "field": "value",
           "title": "Density",
           "type": "quantitative"
          }
         },
         "mark": {
          "point": false,
          "size": 4,
          "type": "area"
         },
         "selection": {
          "Ride Type": {
           "bind": {
            "input": "select",
            "options": [
             "Rideshare_Dist",
             "Taxi_Dist"
            ]
           },
           "clear": false,
           "fields": [
            "parameter"
           ],
           "init": {
            "parameter": "Rideshare_Dist"
           },
           "on": "doubleclick",
           "type": "single"
          }
         }
        }
       ]
      },
      "image/png": "[encoded data removed]",
      "text/plain": [
       "<VegaLite 3 object>\n",
       "\n",
       "If you see this message, it means the renderer has not been properly enabled\n",
       "for the frontend that you are using. For more information, see\n",
       "https://altair-viz.github.io/user_guide/troubleshooting.html\n"
      ]
     },
     "execution_count": 137,
     "metadata": {},
     "output_type": "execute_result"
    }
   ],
   "source": [
    "show_viz(results)"
   ]
  },
  {
   "cell_type": "markdown",
   "metadata": {},
   "source": [
    "### Airport Trip"
   ]
  },
  {
   "cell_type": "code",
   "execution_count": 96,
   "metadata": {},
   "outputs": [
    {
     "name": "stdout",
     "output_type": "stream",
     "text": [
      "Rideshare_regular_price_estimate    36.30\n",
      "Rideshare_shared_price_estimate     24.63\n",
      "Taxi_price_estimate                 52.54\n",
      "Name: 0, dtype: float64\n",
      "121.25\n"
     ]
    },
    {
     "data": {
      "application/vnd.vegalite.v3+json": {
       "$schema": "https://vega.github.io/schema/vega-lite/v3.3.0.json",
       "config": {
        "mark": {
         "tooltip": null
        },
        "view": {
         "height": 300,
         "width": 400
        }
       },
       "datasets": {
        "data-6630bb4778db022fdbc2c7ff76553a66": [
         {
          "parameter": "Shared_Rideshare_Dist",
          "value": 0.0001593624730923563,
          "x": 3.25
         },
         {
          "parameter": "Shared_Rideshare_Dist",
          "value": 0.0001750217383995306,
          "x": 4.441919191919192
         },
         {
          "parameter": "Shared_Rideshare_Dist",
          "value": 0.00019288965101575993,
          "x": 5.633838383838384
         },
         {
          "parameter": "Shared_Rideshare_Dist",
          "value": 0.0002168521246026027,
          "x": 6.825757575757575
         },
         {
          "parameter": "Shared_Rideshare_Dist",
          "value": 0.0002532460494788832,
          "x": 8.017676767676768
         },
         {
          "parameter": "Shared_Rideshare_Dist",
          "value": 0.00031166504562467134,
          "x": 9.209595959595958
         },
         {
          "parameter": "Shared_Rideshare_Dist",
          "value": 0.00040589497998757526,
          "x": 10.40151515151515
         },
         {
          "parameter": "Shared_Rideshare_Dist",
          "value": 0.0005549132771948503,
          "x": 11.593434343434343
         },
         {
          "parameter": "Shared_Rideshare_Dist",
          "value": 0.0007838188947259658,
          "x": 12.785353535353535
         },
         {
          "parameter": "Shared_Rideshare_Dist",
          "value": 0.0011244895491154812,
          "x": 13.977272727272727
         },
         {
          "parameter": "Shared_Rideshare_Dist",
          "value": 0.0016157083663115124,
          "x": 15.169191919191919
         },
         {
          "parameter": "Shared_Rideshare_Dist",
          "value": 0.0023024852783147002,
          "x": 16.36111111111111
         },
         {
          "parameter": "Shared_Rideshare_Dist",
          "value": 0.003234338450617569,
          "x": 17.5530303030303
         },
         {
          "parameter": "Shared_Rideshare_Dist",
          "value": 0.004462408684070633,
          "x": 18.744949494949495
         },
         {
          "parameter": "Shared_Rideshare_Dist",
          "value": 0.006035452148438727,
          "x": 19.936868686868685
         },
         {
          "parameter": "Shared_Rideshare_Dist",
          "value": 0.007994973670113467,
          "x": 21.12878787878788
         },
         {
          "parameter": "Shared_Rideshare_Dist",
          "value": 0.010369986285861874,
          "x": 22.32070707070707
         },
         {
          "parameter": "Shared_Rideshare_Dist",
          "value": 0.013172061991119177,
          "x": 23.51262626262626
         },
         {
          "parameter": "Shared_Rideshare_Dist",
          "value": 0.016391419359422288,
          "x": 24.704545454545453
         },
         {
          "parameter": "Shared_Rideshare_Dist",
          "value": 0.01999473304090265,
          "x": 25.896464646464644
         },
         {
          "parameter": "Shared_Rideshare_Dist",
          "value": 0.023925132974922266,
          "x": 27.088383838383837
         },
         {
          "parameter": "Shared_Rideshare_Dist",
          "value": 0.028104513578215647,
          "x": 28.280303030303028
         },
         {
          "parameter": "Shared_Rideshare_Dist",
          "value": 0.03243786556677351,
          "x": 29.47222222222222
         },
         {
          "parameter": "Shared_Rideshare_Dist",
          "value": 0.03681897733667147,
          "x": 30.66414141414141
         },
         {
          "parameter": "Shared_Rideshare_Dist",
          "value": 0.04113663369828489,
          "x": 31.856060606060602
         },
         {
          "parameter": "Shared_Rideshare_Dist",
          "value": 0.04528043797648556,
          "x": 33.04797979797979
         },
         {
          "parameter": "Shared_Rideshare_Dist",
          "value": 0.04914560520280629,
          "x": 34.23989898989899
         },
         {
          "parameter": "Shared_Rideshare_Dist",
          "value": 0.052636451308158624,
          "x": 35.43181818181818
         },
         {
          "parameter": "Shared_Rideshare_Dist",
          "value": 0.05566871264281482,
          "x": 36.62373737373737
         },
         {
          "parameter": "Shared_Rideshare_Dist",
          "value": 0.058171135841072634,
          "x": 37.81565656565656
         },
         {
          "parameter": "Shared_Rideshare_Dist",
          "value": 0.060086880874211886,
          "x": 39.00757575757576
         },
         {
          "parameter": "Shared_Rideshare_Dist",
          "value": 0.06137515394276914,
          "x": 40.19949494949495
         },
         {
          "parameter": "Shared_Rideshare_Dist",
          "value": 0.062013186494569,
          "x": 41.39141414141414
         },
         {
          "parameter": "Shared_Rideshare_Dist",
          "value": 0.06199831561406282,
          "x": 42.58333333333333
         },
         {
          "parameter": "Shared_Rideshare_Dist",
          "value": 0.06134962926022022,
          "x": 43.77525252525252
         },
         {
          "parameter": "Shared_Rideshare_Dist",
          "value": 0.06010851909520426,
          "x": 44.967171717171716
         },
         {
          "parameter": "Shared_Rideshare_Dist",
          "value": 0.05833757644002272,
          "x": 46.15909090909091
         },
         {
          "parameter": "Shared_Rideshare_Dist",
          "value": 0.056117547450522755,
          "x": 47.3510101010101
         },
         {
          "parameter": "Shared_Rideshare_Dist",
          "value": 0.053542450559485776,
          "x": 48.54292929292929
         },
         {
          "parameter": "Shared_Rideshare_Dist",
          "value": 0.05071334313148949,
          "x": 49.734848484848484
         },
         {
          "parameter": "Shared_Rideshare_Dist",
          "value": 0.04773150073409115,
          "x": 50.926767676767675
         },
         {
          "parameter": "Shared_Rideshare_Dist",
          "value": 0.04469187191119944,
          "x": 52.118686868686865
         },
         {
          "parameter": "Shared_Rideshare_Dist",
          "value": 0.041677578182568,
          "x": 53.310606060606055
         },
         {
          "parameter": "Shared_Rideshare_Dist",
          "value": 0.038755984205006054,
          "x": 54.502525252525245
         },
         {
          "parameter": "Shared_Rideshare_Dist",
          "value": 0.03597654918091871,
          "x": 55.69444444444444
         },
         {
          "parameter": "Shared_Rideshare_Dist",
          "value": 0.0333703823840913,
          "x": 56.88636363636363
         },
         {
          "parameter": "Shared_Rideshare_Dist",
          "value": 0.03095123594916247,
          "x": 58.07828282828282
         },
         {
          "parameter": "Shared_Rideshare_Dist",
          "value": 0.028717602504062256,
          "x": 59.270202020202014
         },
         {
          "parameter": "Shared_Rideshare_Dist",
          "value": 0.026655616643653877,
          "x": 60.462121212121204
         },
         {
          "parameter": "Shared_Rideshare_Dist",
          "value": 0.02474252491605896,
          "x": 61.6540404040404
         },
         {
          "parameter": "Shared_Rideshare_Dist",
          "value": 0.022950523459839108,
          "x": 62.84595959595959
         },
         {
          "parameter": "Shared_Rideshare_Dist",
          "value": 0.0212507306612016,
          "x": 64.03787878787878
         },
         {
          "parameter": "Shared_Rideshare_Dist",
          "value": 0.019616977111941825,
          "x": 65.22979797979798
         },
         {
          "parameter": "Shared_Rideshare_Dist",
          "value": 0.018029010797500897,
          "x": 66.42171717171718
         },
         {
          "parameter": "Shared_Rideshare_Dist",
          "value": 0.016474699164156587,
          "x": 67.61363636363636
         },
         {
          "parameter": "Shared_Rideshare_Dist",
          "value": 0.014950906956632842,
          "x": 68.80555555555556
         },
         {
          "parameter": "Shared_Rideshare_Dist",
          "value": 0.01346293795349213,
          "x": 69.99747474747474
         },
         {
          "parameter": "Shared_Rideshare_Dist",
          "value": 0.012022698580924212,
          "x": 71.18939393939394
         },
         {
          "parameter": "Shared_Rideshare_Dist",
          "value": 0.010645990976234549,
          "x": 72.38131313131312
         },
         {
          "parameter": "Shared_Rideshare_Dist",
          "value": 0.00934949529351127,
          "x": 73.57323232323232
         },
         {
          "parameter": "Shared_Rideshare_Dist",
          "value": 0.008148012928274365,
          "x": 74.76515151515152
         },
         {
          "parameter": "Shared_Rideshare_Dist",
          "value": 0.007052419284314812,
          "x": 75.9570707070707
         },
         {
          "parameter": "Shared_Rideshare_Dist",
          "value": 0.006068564087003319,
          "x": 77.1489898989899
         },
         {
          "parameter": "Shared_Rideshare_Dist",
          "value": 0.005197126747867442,
          "x": 78.34090909090908
         },
         {
          "parameter": "Shared_Rideshare_Dist",
          "value": 0.004434246198262985,
          "x": 79.53282828282828
         },
         {
          "parameter": "Shared_Rideshare_Dist",
          "value": 0.003772636985763486,
          "x": 80.72474747474747
         },
         {
          "parameter": "Shared_Rideshare_Dist",
          "value": 0.0032028837640466746,
          "x": 81.91666666666666
         },
         {
          "parameter": "Shared_Rideshare_Dist",
          "value": 0.0027146569573533678,
          "x": 83.10858585858585
         },
         {
          "parameter": "Shared_Rideshare_Dist",
          "value": 0.0022976824277934045,
          "x": 84.30050505050504
         },
         {
          "parameter": "Shared_Rideshare_Dist",
          "value": 0.001942395513505303,
          "x": 85.49242424242424
         },
         {
          "parameter": "Shared_Rideshare_Dist",
          "value": 0.0016402905422301301,
          "x": 86.68434343434343
         },
         {
          "parameter": "Shared_Rideshare_Dist",
          "value": 0.001384027879195448,
          "x": 87.87626262626262
         },
         {
          "parameter": "Shared_Rideshare_Dist",
          "value": 0.0011673797795764137,
          "x": 89.06818181818181
         },
         {
          "parameter": "Shared_Rideshare_Dist",
          "value": 0.0009850901308615229,
          "x": 90.260101010101
         },
         {
          "parameter": "Shared_Rideshare_Dist",
          "value": 0.000832702472463327,
          "x": 91.4520202020202
         },
         {
          "parameter": "Shared_Rideshare_Dist",
          "value": 0.0007063869732452914,
          "x": 92.64393939393939
         },
         {
          "parameter": "Shared_Rideshare_Dist",
          "value": 0.0006027791178771995,
          "x": 93.83585858585857
         },
         {
          "parameter": "Shared_Rideshare_Dist",
          "value": 0.0005188346973695289,
          "x": 95.02777777777777
         },
         {
          "parameter": "Shared_Rideshare_Dist",
          "value": 0.00045170624150817106,
          "x": 96.21969696969697
         },
         {
          "parameter": "Shared_Rideshare_Dist",
          "value": 0.00039865062294627346,
          "x": 97.41161616161615
         },
         {
          "parameter": "Shared_Rideshare_Dist",
          "value": 0.0003569806008812272,
          "x": 98.60353535353535
         },
         {
          "parameter": "Shared_Rideshare_Dist",
          "value": 0.00032407060591708417,
          "x": 99.79545454545453
         },
         {
          "parameter": "Shared_Rideshare_Dist",
          "value": 0.0002974183406084265,
          "x": 100.98737373737373
         },
         {
          "parameter": "Shared_Rideshare_Dist",
          "value": 0.00027475120140320775,
          "x": 102.17929292929293
         },
         {
          "parameter": "Shared_Rideshare_Dist",
          "value": 0.0002541543811684966,
          "x": 103.37121212121211
         },
         {
          "parameter": "Shared_Rideshare_Dist",
          "value": 0.00023419002397550274,
          "x": 104.56313131313131
         },
         {
          "parameter": "Shared_Rideshare_Dist",
          "value": 0.0002139766158250029,
          "x": 105.75505050505049
         },
         {
          "parameter": "Shared_Rideshare_Dist",
          "value": 0.0001932052106492431,
          "x": 106.94696969696969
         },
         {
          "parameter": "Shared_Rideshare_Dist",
          "value": 0.00017208223425956349,
          "x": 108.13888888888889
         },
         {
          "parameter": "Shared_Rideshare_Dist",
          "value": 0.00015120419974292234,
          "x": 109.33080808080807
         },
         {
          "parameter": "Shared_Rideshare_Dist",
          "value": 0.0001313840272280061,
          "x": 110.52272727272727
         },
         {
          "parameter": "Shared_Rideshare_Dist",
          "value": 0.00011345862780373303,
          "x": 111.71464646464645
         },
         {
          "parameter": "Shared_Rideshare_Dist",
          "value": 9.811098974476417e-05,
          "x": 112.90656565656565
         },
         {
          "parameter": "Shared_Rideshare_Dist",
          "value": 8.573667795798796e-05,
          "x": 114.09848484848484
         },
         {
          "parameter": "Shared_Rideshare_Dist",
          "value": 7.637537246046984e-05,
          "x": 115.29040404040403
         },
         {
          "parameter": "Shared_Rideshare_Dist",
          "value": 6.971495128420654e-05,
          "x": 116.48232323232322
         },
         {
          "parameter": "Shared_Rideshare_Dist",
          "value": 6.516148286447702e-05,
          "x": 117.67424242424241
         },
         {
          "parameter": "Shared_Rideshare_Dist",
          "value": 6.195626633471855e-05,
          "x": 118.8661616161616
         },
         {
          "parameter": "Shared_Rideshare_Dist",
          "value": 5.9313221858876884e-05,
          "x": 120.0580808080808
         },
         {
          "parameter": "Shared_Rideshare_Dist",
          "value": 5.6548008050361926e-05,
          "x": 121.25
         },
         {
          "parameter": "Rideshare_Dist",
          "value": 0.001445354406570741,
          "x": 3.25
         },
         {
          "parameter": "Rideshare_Dist",
          "value": 0.0021774053072693986,
          "x": 4.441919191919192
         },
         {
          "parameter": "Rideshare_Dist",
          "value": 0.0032164980040858826,
          "x": 5.633838383838384
         },
         {
          "parameter": "Rideshare_Dist",
          "value": 0.00465977762206738,
          "x": 6.825757575757575
         },
         {
          "parameter": "Rideshare_Dist",
          "value": 0.0066203259320131765,
          "x": 8.017676767676768
         },
         {
          "parameter": "Rideshare_Dist",
          "value": 0.009222036779461252,
          "x": 9.209595959595958
         },
         {
          "parameter": "Rideshare_Dist",
          "value": 0.0125892963239802,
          "x": 10.40151515151515
         },
         {
          "parameter": "Rideshare_Dist",
          "value": 0.016830330167210476,
          "x": 11.593434343434343
         },
         {
          "parameter": "Rideshare_Dist",
          "value": 0.022014201355316933,
          "x": 12.785353535353535
         },
         {
          "parameter": "Rideshare_Dist",
          "value": 0.028143324743243846,
          "x": 13.977272727272727
         },
         {
          "parameter": "Rideshare_Dist",
          "value": 0.035125703719630495,
          "x": 15.169191919191919
         },
         {
          "parameter": "Rideshare_Dist",
          "value": 0.04275322405239614,
          "x": 16.36111111111111
         },
         {
          "parameter": "Rideshare_Dist",
          "value": 0.05069335326362425,
          "x": 17.5530303030303
         },
         {
          "parameter": "Rideshare_Dist",
          "value": 0.05850067061294112,
          "x": 18.744949494949495
         },
         {
          "parameter": "Rideshare_Dist",
          "value": 0.06565144494043822,
          "x": 19.936868686868685
         },
         {
          "parameter": "Rideshare_Dist",
          "value": 0.07159940984412526,
          "x": 21.12878787878788
         },
         {
          "parameter": "Rideshare_Dist",
          "value": 0.07584518400566909,
          "x": 22.32070707070707
         },
         {
          "parameter": "Rideshare_Dist",
          "value": 0.07800716104076792,
          "x": 23.51262626262626
         },
         {
          "parameter": "Rideshare_Dist",
          "value": 0.0778797662752704,
          "x": 24.704545454545453
         },
         {
          "parameter": "Rideshare_Dist",
          "value": 0.07546664819881942,
          "x": 25.896464646464644
         },
         {
          "parameter": "Rideshare_Dist",
          "value": 0.0709814233005821,
          "x": 27.088383838383837
         },
         {
          "parameter": "Rideshare_Dist",
          "value": 0.06481569947060944,
          "x": 28.280303030303028
         },
         {
          "parameter": "Rideshare_Dist",
          "value": 0.05748126337852151,
          "x": 29.47222222222222
         },
         {
          "parameter": "Rideshare_Dist",
          "value": 0.04953853750867029,
          "x": 30.66414141414141
         },
         {
          "parameter": "Rideshare_Dist",
          "value": 0.0415253716808987,
          "x": 31.856060606060602
         },
         {
          "parameter": "Rideshare_Dist",
          "value": 0.03389867371100606,
          "x": 33.04797979797979
         },
         {
          "parameter": "Rideshare_Dist",
          "value": 0.026997098469091454,
          "x": 34.23989898989899
         },
         {
          "parameter": "Rideshare_Dist",
          "value": 0.021027480967218244,
          "x": 35.43181818181818
         },
         {
          "parameter": "Rideshare_Dist",
          "value": 0.01607252518958362,
          "x": 36.62373737373737
         },
         {
          "parameter": "Rideshare_Dist",
          "value": 0.01211367310232257,
          "x": 37.81565656565656
         },
         {
          "parameter": "Rideshare_Dist",
          "value": 0.00906162522794775,
          "x": 39.00757575757576
         },
         {
          "parameter": "Rideshare_Dist",
          "value": 0.006787513288809154,
          "x": 40.19949494949495
         },
         {
          "parameter": "Rideshare_Dist",
          "value": 0.005149592735529549,
          "x": 41.39141414141414
         },
         {
          "parameter": "Rideshare_Dist",
          "value": 0.004012705858421045,
          "x": 42.58333333333333
         },
         {
          "parameter": "Rideshare_Dist",
          "value": 0.0032599502342470724,
          "x": 43.77525252525252
         },
         {
          "parameter": "Rideshare_Dist",
          "value": 0.0027975376865178258,
          "x": 44.967171717171716
         },
         {
          "parameter": "Rideshare_Dist",
          "value": 0.0025546227738871006,
          "x": 46.15909090909091
         },
         {
          "parameter": "Rideshare_Dist",
          "value": 0.0024800314519713667,
          "x": 47.3510101010101
         },
         {
          "parameter": "Rideshare_Dist",
          "value": 0.0025375601762632834,
          "x": 48.54292929292929
         },
         {
          "parameter": "Rideshare_Dist",
          "value": 0.0027010772386448084,
          "x": 49.734848484848484
         },
         {
          "parameter": "Rideshare_Dist",
          "value": 0.0029502103312128796,
          "x": 50.926767676767675
         },
         {
          "parameter": "Rideshare_Dist",
          "value": 0.0032670320609415396,
          "x": 52.118686868686865
         },
         {
          "parameter": "Rideshare_Dist",
          "value": 0.003633877445931772,
          "x": 53.310606060606055
         },
         {
          "parameter": "Rideshare_Dist",
          "value": 0.004032231023119827,
          "x": 54.502525252525245
         },
         {
          "parameter": "Rideshare_Dist",
          "value": 0.004442489755915012,
          "x": 55.69444444444444
         },
         {
          "parameter": "Rideshare_Dist",
          "value": 0.004844335969832417,
          "x": 56.88636363636363
         },
         {
          "parameter": "Rideshare_Dist",
          "value": 0.005217444808830004,
          "x": 58.07828282828282
         },
         {
          "parameter": "Rideshare_Dist",
          "value": 0.005542301871634154,
          "x": 59.270202020202014
         },
         {
          "parameter": "Rideshare_Dist",
          "value": 0.005801001819313361,
          "x": 60.462121212121204
         },
         {
          "parameter": "Rideshare_Dist",
          "value": 0.005978003150842451,
          "x": 61.6540404040404
         },
         {
          "parameter": "Rideshare_Dist",
          "value": 0.006060885646501227,
          "x": 62.84595959595959
         },
         {
          "parameter": "Rideshare_Dist",
          "value": 0.006041163100312659,
          "x": 64.03787878787878
         },
         {
          "parameter": "Rideshare_Dist",
          "value": 0.005915139810113257,
          "x": 65.22979797979798
         },
         {
          "parameter": "Rideshare_Dist",
          "value": 0.005684692799455116,
          "x": 66.42171717171718
         },
         {
          "parameter": "Rideshare_Dist",
          "value": 0.005357764680732411,
          "x": 67.61363636363636
         },
         {
          "parameter": "Rideshare_Dist",
          "value": 0.004948318531351396,
          "x": 68.80555555555556
         },
         {
          "parameter": "Rideshare_Dist",
          "value": 0.004475568033529655,
          "x": 69.99747474747474
         },
         {
          "parameter": "Rideshare_Dist",
          "value": 0.003962446918814517,
          "x": 71.18939393939394
         },
         {
          "parameter": "Rideshare_Dist",
          "value": 0.003433476644757576,
          "x": 72.38131313131312
         },
         {
          "parameter": "Rideshare_Dist",
          "value": 0.0029123639564019236,
          "x": 73.57323232323232
         },
         {
          "parameter": "Rideshare_Dist",
          "value": 0.0024197492594983084,
          "x": 74.76515151515152
         },
         {
          "parameter": "Rideshare_Dist",
          "value": 0.0019715005751621217,
          "x": 75.9570707070707
         },
         {
          "parameter": "Rideshare_Dist",
          "value": 0.001577815404584655,
          "x": 77.1489898989899
         },
         {
          "parameter": "Rideshare_Dist",
          "value": 0.001243199190018135,
          "x": 78.34090909090908
         },
         {
          "parameter": "Rideshare_Dist",
          "value": 0.000967196275822703,
          "x": 79.53282828282828
         },
         {
          "parameter": "Rideshare_Dist",
          "value": 0.0007456126346841375,
          "x": 80.72474747474747
         },
         {
          "parameter": "Rideshare_Dist",
          "value": 0.0005719191981166597,
          "x": 81.91666666666666
         },
         {
          "parameter": "Rideshare_Dist",
          "value": 0.00043855878796575886,
          "x": 83.10858585858585
         },
         {
          "parameter": "Rideshare_Dist",
          "value": 0.0003379712307665644,
          "x": 84.30050505050504
         },
         {
          "parameter": "Rideshare_Dist",
          "value": 0.0002632617749478442,
          "x": 85.49242424242424
         },
         {
          "parameter": "Rideshare_Dist",
          "value": 0.0002085328571579431,
          "x": 86.68434343434343
         },
         {
          "parameter": "Rideshare_Dist",
          "value": 0.00016895819335866518,
          "x": 87.87626262626262
         },
         {
          "parameter": "Rideshare_Dist",
          "value": 0.00014069754900734315,
          "x": 89.06818181818181
         },
         {
          "parameter": "Rideshare_Dist",
          "value": 0.00012073967105728515,
          "x": 90.260101010101
         },
         {
          "parameter": "Rideshare_Dist",
          "value": 0.00010673462217816314,
          "x": 91.4520202020202
         },
         {
          "parameter": "Rideshare_Dist",
          "value": 9.684872785680856e-05,
          "x": 92.64393939393939
         },
         {
          "parameter": "Rideshare_Dist",
          "value": 8.965379857802791e-05,
          "x": 93.83585858585857
         },
         {
          "parameter": "Rideshare_Dist",
          "value": 8.404958484407106e-05,
          "x": 95.02777777777777
         },
         {
          "parameter": "Rideshare_Dist",
          "value": 7.921286938047332e-05,
          "x": 96.21969696969697
         },
         {
          "parameter": "Rideshare_Dist",
          "value": 7.456509281322106e-05,
          "x": 97.41161616161615
         },
         {
          "parameter": "Rideshare_Dist",
          "value": 6.975046055249884e-05,
          "x": 98.60353535353535
         },
         {
          "parameter": "Rideshare_Dist",
          "value": 6.461701132737142e-05,
          "x": 99.79545454545453
         },
         {
          "parameter": "Rideshare_Dist",
          "value": 5.9194169535686504e-05,
          "x": 100.98737373737373
         },
         {
          "parameter": "Rideshare_Dist",
          "value": 5.36622017376772e-05,
          "x": 102.17929292929293
         },
         {
          "parameter": "Rideshare_Dist",
          "value": 4.831176486602685e-05,
          "x": 103.37121212121211
         },
         {
          "parameter": "Rideshare_Dist",
          "value": 4.349485296144937e-05,
          "x": 104.56313131313131
         },
         {
          "parameter": "Rideshare_Dist",
          "value": 3.957111185000368e-05,
          "x": 105.75505050505049
         },
         {
          "parameter": "Rideshare_Dist",
          "value": 3.6855015456154286e-05,
          "x": 106.94696969696969
         },
         {
          "parameter": "Rideshare_Dist",
          "value": 3.556954616090656e-05,
          "x": 108.13888888888889
         },
         {
          "parameter": "Rideshare_Dist",
          "value": 3.581105938284076e-05,
          "x": 109.33080808080807
         },
         {
          "parameter": "Rideshare_Dist",
          "value": 3.7528511464674796e-05,
          "x": 110.52272727272727
         },
         {
          "parameter": "Rideshare_Dist",
          "value": 4.051875371009742e-05,
          "x": 111.71464646464645
         },
         {
          "parameter": "Rideshare_Dist",
          "value": 4.44384285246618e-05,
          "x": 112.90656565656565
         },
         {
          "parameter": "Rideshare_Dist",
          "value": 4.8832051202151666e-05,
          "x": 114.09848484848484
         },
         {
          "parameter": "Rideshare_Dist",
          "value": 5.317476076803482e-05,
          "x": 115.29040404040403
         },
         {
          "parameter": "Rideshare_Dist",
          "value": 5.692661763025443e-05,
          "x": 116.48232323232322
         },
         {
          "parameter": "Rideshare_Dist",
          "value": 5.9593165334209035e-05,
          "x": 117.67424242424241
         },
         {
          "parameter": "Rideshare_Dist",
          "value": 6.078469765566251e-05,
          "x": 118.8661616161616
         },
         {
          "parameter": "Rideshare_Dist",
          "value": 6.0265143560356914e-05,
          "x": 120.0580808080808
         },
         {
          "parameter": "Rideshare_Dist",
          "value": 5.798166180193569e-05,
          "x": 121.25
         },
         {
          "parameter": "Taxi_Dist",
          "value": 4.942492464886195e-05,
          "x": 3.25
         },
         {
          "parameter": "Taxi_Dist",
          "value": 4.012443488053233e-05,
          "x": 4.441919191919192
         },
         {
          "parameter": "Taxi_Dist",
          "value": 1.92786985613577e-05,
          "x": 5.633838383838384
         },
         {
          "parameter": "Taxi_Dist",
          "value": 5.487185170044357e-06,
          "x": 6.825757575757575
         },
         {
          "parameter": "Taxi_Dist",
          "value": 9.258517928993903e-07,
          "x": 8.017676767676768
         },
         {
          "parameter": "Taxi_Dist",
          "value": 9.265362012287343e-08,
          "x": 9.209595959595958
         },
         {
          "parameter": "Taxi_Dist",
          "value": 5.500400410333325e-09,
          "x": 10.40151515151515
         },
         {
          "parameter": "Taxi_Dist",
          "value": 1.936796616723632e-10,
          "x": 11.593434343434343
         },
         {
          "parameter": "Taxi_Dist",
          "value": 4.04341563777402e-12,
          "x": 12.785353535353535
         },
         {
          "parameter": "Taxi_Dist",
          "value": 5.001399739897713e-14,
          "x": 13.977272727272727
         },
         {
          "parameter": "Taxi_Dist",
          "value": 3.6621068971114656e-16,
          "x": 15.169191919191919
         },
         {
          "parameter": "Taxi_Dist",
          "value": 1.585724388759803e-18,
          "x": 16.36111111111111
         },
         {
          "parameter": "Taxi_Dist",
          "value": 4.056169715000487e-21,
          "x": 17.5530303030303
         },
         {
          "parameter": "Taxi_Dist",
          "value": 7.312525787769775e-24,
          "x": 18.744949494949495
         },
         {
          "parameter": "Taxi_Dist",
          "value": 8.547035880522465e-22,
          "x": 19.936868686868685
         },
         {
          "parameter": "Taxi_Dist",
          "value": 3.5961222737430216e-19,
          "x": 21.12878787878788
         },
         {
          "parameter": "Taxi_Dist",
          "value": 8.863735282702727e-17,
          "x": 22.32070707070707
         },
         {
          "parameter": "Taxi_Dist",
          "value": 1.2798582361629702e-14,
          "x": 23.51262626262626
         },
         {
          "parameter": "Taxi_Dist",
          "value": 1.0826205217907355e-12,
          "x": 24.704545454545453
         },
         {
          "parameter": "Taxi_Dist",
          "value": 5.3651273740399726e-11,
          "x": 25.896464646464644
         },
         {
          "parameter": "Taxi_Dist",
          "value": 1.5578841594393402e-09,
          "x": 27.088383838383837
         },
         {
          "parameter": "Taxi_Dist",
          "value": 2.6517556359529302e-08,
          "x": 28.280303030303028
         },
         {
          "parameter": "Taxi_Dist",
          "value": 2.64956970047942e-07,
          "x": 29.47222222222222
         },
         {
          "parameter": "Taxi_Dist",
          "value": 1.5609049148153867e-06,
          "x": 30.66414141414141
         },
         {
          "parameter": "Taxi_Dist",
          "value": 5.501223151203465e-06,
          "x": 31.856060606060602
         },
         {
          "parameter": "Taxi_Dist",
          "value": 1.2189003437575279e-05,
          "x": 33.04797979797979
         },
         {
          "parameter": "Taxi_Dist",
          "value": 1.9864210118544937e-05,
          "x": 34.23989898989899
         },
         {
          "parameter": "Taxi_Dist",
          "value": 3.230210271885963e-05,
          "x": 35.43181818181818
         },
         {
          "parameter": "Taxi_Dist",
          "value": 5.803993768502326e-05,
          "x": 36.62373737373737
         },
         {
          "parameter": "Taxi_Dist",
          "value": 9.504087988967157e-05,
          "x": 37.81565656565656
         },
         {
          "parameter": "Taxi_Dist",
          "value": 0.00016969169564835077,
          "x": 39.00757575757576
         },
         {
          "parameter": "Taxi_Dist",
          "value": 0.0006171837058065593,
          "x": 40.19949494949495
         },
         {
          "parameter": "Taxi_Dist",
          "value": 0.002973795271344316,
          "x": 41.39141414141414
         },
         {
          "parameter": "Taxi_Dist",
          "value": 0.011113897177052856,
          "x": 42.58333333333333
         },
         {
          "parameter": "Taxi_Dist",
          "value": 0.029194245186395525,
          "x": 43.77525252525252
         },
         {
          "parameter": "Taxi_Dist",
          "value": 0.05504116517574747,
          "x": 44.967171717171716
         },
         {
          "parameter": "Taxi_Dist",
          "value": 0.0801643315971121,
          "x": 46.15909090909091
         },
         {
          "parameter": "Taxi_Dist",
          "value": 0.10097561326002039,
          "x": 47.3510101010101
         },
         {
          "parameter": "Taxi_Dist",
          "value": 0.11859794359065598,
          "x": 48.54292929292929
         },
         {
          "parameter": "Taxi_Dist",
          "value": 0.1250872749647824,
          "x": 49.734848484848484
         },
         {
          "parameter": "Taxi_Dist",
          "value": 0.10985457878540549,
          "x": 50.926767676767675
         },
         {
          "parameter": "Taxi_Dist",
          "value": 0.07880567041208303,
          "x": 52.118686868686865
         },
         {
          "parameter": "Taxi_Dist",
          "value": 0.04897142012485177,
          "x": 53.310606060606055
         },
         {
          "parameter": "Taxi_Dist",
          "value": 0.02968921180734351,
          "x": 54.502525252525245
         },
         {
          "parameter": "Taxi_Dist",
          "value": 0.018966526123891048,
          "x": 55.69444444444444
         },
         {
          "parameter": "Taxi_Dist",
          "value": 0.012026238159790264,
          "x": 56.88636363636363
         },
         {
          "parameter": "Taxi_Dist",
          "value": 0.006927244291236622,
          "x": 58.07828282828282
         },
         {
          "parameter": "Taxi_Dist",
          "value": 0.003630392547456504,
          "x": 59.270202020202014
         },
         {
          "parameter": "Taxi_Dist",
          "value": 0.0018793283877716399,
          "x": 60.462121212121204
         },
         {
          "parameter": "Taxi_Dist",
          "value": 0.001038498937963656,
          "x": 61.6540404040404
         },
         {
          "parameter": "Taxi_Dist",
          "value": 0.0006329446241757713,
          "x": 62.84595959595959
         },
         {
          "parameter": "Taxi_Dist",
          "value": 0.0004316713092050997,
          "x": 64.03787878787878
         },
         {
          "parameter": "Taxi_Dist",
          "value": 0.0003258257599000064,
          "x": 65.22979797979798
         },
         {
          "parameter": "Taxi_Dist",
          "value": 0.00026291426290517815,
          "x": 66.42171717171718
         },
         {
          "parameter": "Taxi_Dist",
          "value": 0.00021454311012945613,
          "x": 67.61363636363636
         },
         {
          "parameter": "Taxi_Dist",
          "value": 0.00017051714811176685,
          "x": 68.80555555555556
         },
         {
          "parameter": "Taxi_Dist",
          "value": 0.00013045538513103397,
          "x": 69.99747474747474
         },
         {
          "parameter": "Taxi_Dist",
          "value": 9.629269482166862e-05,
          "x": 71.18939393939394
         },
         {
          "parameter": "Taxi_Dist",
          "value": 6.948285799847267e-05,
          "x": 72.38131313131312
         },
         {
          "parameter": "Taxi_Dist",
          "value": 4.912387418748652e-05,
          "x": 73.57323232323232
         },
         {
          "parameter": "Taxi_Dist",
          "value": 3.808660141117878e-05,
          "x": 74.76515151515152
         },
         {
          "parameter": "Taxi_Dist",
          "value": 3.6223258212435925e-05,
          "x": 75.9570707070707
         },
         {
          "parameter": "Taxi_Dist",
          "value": 3.612559888590566e-05,
          "x": 77.1489898989899
         },
         {
          "parameter": "Taxi_Dist",
          "value": 3.3320382041799956e-05,
          "x": 78.34090909090908
         },
         {
          "parameter": "Taxi_Dist",
          "value": 3.031065166069736e-05,
          "x": 79.53282828282828
         },
         {
          "parameter": "Taxi_Dist",
          "value": 3.170089049181235e-05,
          "x": 80.72474747474747
         },
         {
          "parameter": "Taxi_Dist",
          "value": 3.5123704939691035e-05,
          "x": 81.91666666666666
         },
         {
          "parameter": "Taxi_Dist",
          "value": 3.209891889655942e-05,
          "x": 83.10858585858585
         },
         {
          "parameter": "Taxi_Dist",
          "value": 2.125376824965508e-05,
          "x": 84.30050505050504
         },
         {
          "parameter": "Taxi_Dist",
          "value": 9.691251966407885e-06,
          "x": 85.49242424242424
         },
         {
          "parameter": "Taxi_Dist",
          "value": 2.909523761259436e-06,
          "x": 86.68434343434343
         },
         {
          "parameter": "Taxi_Dist",
          "value": 5.503306900053838e-07,
          "x": 87.87626262626262
         },
         {
          "parameter": "Taxi_Dist",
          "value": 6.348244813675418e-08,
          "x": 89.06818181818181
         },
         {
          "parameter": "Taxi_Dist",
          "value": 4.379767643915842e-09,
          "x": 90.260101010101
         },
         {
          "parameter": "Taxi_Dist",
          "value": 1.7903638849859138e-10,
          "x": 91.4520202020202
         },
         {
          "parameter": "Taxi_Dist",
          "value": 1.5704398216656988e-11,
          "x": 92.64393939393939
         },
         {
          "parameter": "Taxi_Dist",
          "value": 4.2219435621243133e-10,
          "x": 93.83585858585857
         },
         {
          "parameter": "Taxi_Dist",
          "value": 9.24020314688182e-09,
          "x": 95.02777777777777
         },
         {
          "parameter": "Taxi_Dist",
          "value": 1.2014447493946673e-07,
          "x": 96.21969696969697
         },
         {
          "parameter": "Taxi_Dist",
          "value": 9.336045656177736e-07,
          "x": 97.41161616161615
         },
         {
          "parameter": "Taxi_Dist",
          "value": 4.368857590649156e-06,
          "x": 98.60353535353535
         },
         {
          "parameter": "Taxi_Dist",
          "value": 1.2416397503671724e-05,
          "x": 99.79545454545453
         },
         {
          "parameter": "Taxi_Dist",
          "value": 2.1600683147583834e-05,
          "x": 100.98737373737373
         },
         {
          "parameter": "Taxi_Dist",
          "value": 2.3149200791815112e-05,
          "x": 102.17929292929293
         },
         {
          "parameter": "Taxi_Dist",
          "value": 1.5564467389841872e-05,
          "x": 103.37121212121211
         },
         {
          "parameter": "Taxi_Dist",
          "value": 7.99849649360738e-06,
          "x": 104.56313131313131
         },
         {
          "parameter": "Taxi_Dist",
          "value": 7.422550371983372e-06,
          "x": 105.75505050505049
         },
         {
          "parameter": "Taxi_Dist",
          "value": 1.1295706024129349e-05,
          "x": 106.94696969696969
         },
         {
          "parameter": "Taxi_Dist",
          "value": 1.2169039472008332e-05,
          "x": 108.13888888888889
         },
         {
          "parameter": "Taxi_Dist",
          "value": 7.811040408616662e-06,
          "x": 109.33080808080807
         },
         {
          "parameter": "Taxi_Dist",
          "value": 2.941177098424438e-06,
          "x": 110.52272727272727
         },
         {
          "parameter": "Taxi_Dist",
          "value": 6.488475849580731e-07,
          "x": 111.71464646464645
         },
         {
          "parameter": "Taxi_Dist",
          "value": 8.388020553036654e-08,
          "x": 112.90656565656565
         },
         {
          "parameter": "Taxi_Dist",
          "value": 7.173750908316087e-09,
          "x": 114.09848484848484
         },
         {
          "parameter": "Taxi_Dist",
          "value": 1.5909449249297603e-08,
          "x": 115.29040404040403
         },
         {
          "parameter": "Taxi_Dist",
          "value": 1.7338052162320737e-07,
          "x": 116.48232323232322
         },
         {
          "parameter": "Taxi_Dist",
          "value": 1.1267391670364125e-06,
          "x": 117.67424242424241
         },
         {
          "parameter": "Taxi_Dist",
          "value": 4.289674363369692e-06,
          "x": 118.8661616161616
         },
         {
          "parameter": "Taxi_Dist",
          "value": 9.567201290292001e-06,
          "x": 120.0580808080808
         },
         {
          "parameter": "Taxi_Dist",
          "value": 1.2499858789858773e-05,
          "x": 121.25
         }
        ],
        "data-a67e984080dbfe449af2ebef818f652f": [
         {
          "hour": 0,
          "parameter": "Rideshare_regular_price_estimate",
          "value": 36.29877471923828
         },
         {
          "hour": 1,
          "parameter": "Rideshare_regular_price_estimate",
          "value": 35.874446868896484
         },
         {
          "hour": 2,
          "parameter": "Rideshare_regular_price_estimate",
          "value": 37.21595001220703
         },
         {
          "hour": 3,
          "parameter": "Rideshare_regular_price_estimate",
          "value": 38.06226348876953
         },
         {
          "hour": 4,
          "parameter": "Rideshare_regular_price_estimate",
          "value": 40.254783630371094
         },
         {
          "hour": 5,
          "parameter": "Rideshare_regular_price_estimate",
          "value": 40.67982482910156
         },
         {
          "hour": 6,
          "parameter": "Rideshare_regular_price_estimate",
          "value": 47.776371002197266
         },
         {
          "hour": 7,
          "parameter": "Rideshare_regular_price_estimate",
          "value": 52.94838333129883
         },
         {
          "hour": 8,
          "parameter": "Rideshare_regular_price_estimate",
          "value": 55.538421630859375
         },
         {
          "hour": 9,
          "parameter": "Rideshare_regular_price_estimate",
          "value": 38.116004943847656
         },
         {
          "hour": 0,
          "parameter": "Rideshare_shared_price_estimate",
          "value": 24.63420867919922
         },
         {
          "hour": 1,
          "parameter": "Rideshare_shared_price_estimate",
          "value": 24.475481033325195
         },
         {
          "hour": 2,
          "parameter": "Rideshare_shared_price_estimate",
          "value": 25.332847595214844
         },
         {
          "hour": 3,
          "parameter": "Rideshare_shared_price_estimate",
          "value": 26.106115341186523
         },
         {
          "hour": 4,
          "parameter": "Rideshare_shared_price_estimate",
          "value": 28.885251998901367
         },
         {
          "hour": 5,
          "parameter": "Rideshare_shared_price_estimate",
          "value": 28.436031341552734
         },
         {
          "hour": 6,
          "parameter": "Rideshare_shared_price_estimate",
          "value": 34.75377655029297
         },
         {
          "hour": 7,
          "parameter": "Rideshare_shared_price_estimate",
          "value": 34.86471939086914
         },
         {
          "hour": 8,
          "parameter": "Rideshare_shared_price_estimate",
          "value": 39.46952819824219
         },
         {
          "hour": 9,
          "parameter": "Rideshare_shared_price_estimate",
          "value": 27.285743713378906
         },
         {
          "hour": 0,
          "parameter": "Taxi_price_estimate",
          "value": 52.540557861328125
         },
         {
          "hour": 1,
          "parameter": "Taxi_price_estimate",
          "value": 52.85440444946289
         },
         {
          "hour": 2,
          "parameter": "Taxi_price_estimate",
          "value": 52.207313537597656
         },
         {
          "hour": 3,
          "parameter": "Taxi_price_estimate",
          "value": 52.265010833740234
         },
         {
          "hour": 4,
          "parameter": "Taxi_price_estimate",
          "value": 52.83915710449219
         },
         {
          "hour": 5,
          "parameter": "Taxi_price_estimate",
          "value": 54.49457550048828
         },
         {
          "hour": 6,
          "parameter": "Taxi_price_estimate",
          "value": 53.4137077331543
         },
         {
          "hour": 7,
          "parameter": "Taxi_price_estimate",
          "value": 73.41954803466797
         },
         {
          "hour": 8,
          "parameter": "Taxi_price_estimate",
          "value": 69.49818420410156
         },
         {
          "hour": 9,
          "parameter": "Taxi_price_estimate",
          "value": 51.73945236206055
         }
        ]
       },
       "layer": [
        {
         "data": {
          "name": "data-a67e984080dbfe449af2ebef818f652f"
         },
         "encoding": {
          "color": {
           "field": "parameter",
           "scale": {
            "domain": [
             "Rideshare_regular_price_estimate",
             "Rideshare_shared_price_estimate",
             "Taxi_price_estimate"
            ],
            "range": [
             "red",
             "green",
             "blue"
            ]
           },
           "type": "nominal"
          },
          "size": {
           "value": 5
          },
          "x": {
           "field": "value",
           "type": "quantitative"
          }
         },
         "mark": {
          "color": "red",
          "type": "rule"
         },
         "selection": {
          " ": {
           "bind": {
            "input": "range",
            "max": 9,
            "min": 0,
            "step": 1
           },
           "fields": [
            "hour"
           ],
           "init": {
            "hour": 0
           },
           "type": "single"
          }
         },
         "transform": [
          {
           "filter": {
            "selection": " "
           }
          }
         ]
        },
        {
         "data": {
          "name": "data-6630bb4778db022fdbc2c7ff76553a66"
         },
         "encoding": {
          "color": {
           "field": "parameter",
           "legend": null,
           "scale": {
            "domain": [
             "Rideshare_Dist",
             "Shared_Rideshare_Dist",
             "Taxi_Dist"
            ],
            "range": [
             "red",
             "green",
             "blue"
            ]
           },
           "type": "nominal"
          },
          "opacity": {
           "condition": {
            "selection": "Ride Type",
            "value": 0.6
           },
           "value": 0
          },
          "x": {
           "field": "x",
           "title": "Ride Cost (Dollars)",
           "type": "quantitative"
          },
          "y": {
           "field": "value",
           "title": "Density",
           "type": "quantitative"
          }
         },
         "mark": {
          "point": false,
          "size": 4,
          "type": "area"
         },
         "selection": {
          "Ride Type": {
           "bind": {
            "input": "select",
            "options": [
             "Rideshare_Dist",
             "Taxi_Dist"
            ]
           },
           "clear": false,
           "fields": [
            "parameter"
           ],
           "init": {
            "parameter": "Rideshare_Dist"
           },
           "on": "doubleclick",
           "type": "single"
          }
         }
        }
       ]
      },
      "image/png": "[encoded data removed]",
      "text/plain": [
       "<VegaLite 3 object>\n",
       "\n",
       "If you see this message, it means the renderer has not been properly enabled\n",
       "for the frontend that you are using. For more information, see\n",
       "https://altair-viz.github.io/user_guide/troubleshooting.html\n"
      ]
     },
     "execution_count": 96,
     "metadata": {},
     "output_type": "execute_result"
    }
   ],
   "source": [
    "USER_PARAMS = {\"pickup\": \"chicago ohare airport\",\n",
    "               \"dropoff\": \"the bean chicago\",\n",
    "               \"forecast_hrs\":10}\n",
    "\n",
    "results = run_Fair_Fare(USER_PARAMS)\n",
    "\n",
    "pd.set_option(\"display.precision\", 2)\n",
    "print(pd.DataFrame(results[5]).iloc[0])\n",
    "\n",
    "show_viz(results)"
   ]
  },
  {
   "cell_type": "markdown",
   "metadata": {},
   "source": [
    "### Audience Participation"
   ]
  },
  {
   "cell_type": "code",
   "execution_count": 95,
   "metadata": {},
   "outputs": [
    {
     "name": "stdout",
     "output_type": "stream",
     "text": [
      "Rideshare_regular_price_estimate    38.78\n",
      "Rideshare_shared_price_estimate     27.89\n",
      "Taxi_price_estimate                 56.52\n",
      "Name: 0, dtype: float64\n",
      "109.0\n"
     ]
    },
    {
     "data": {
      "application/vnd.vegalite.v3+json": {
       "$schema": "https://vega.github.io/schema/vega-lite/v3.3.0.json",
       "config": {
        "mark": {
         "tooltip": null
        },
        "view": {
         "height": 300,
         "width": 400
        }
       },
       "datasets": {
        "data-9ef3173a3fe3138c43bbda1468b27fcf": [
         {
          "hour": 0,
          "parameter": "Rideshare_regular_price_estimate",
          "value": 38.78358840942383
         },
         {
          "hour": 1,
          "parameter": "Rideshare_regular_price_estimate",
          "value": 38.654701232910156
         },
         {
          "hour": 0,
          "parameter": "Rideshare_shared_price_estimate",
          "value": 27.887683868408203
         },
         {
          "hour": 1,
          "parameter": "Rideshare_shared_price_estimate",
          "value": 28.042003631591797
         },
         {
          "hour": 0,
          "parameter": "Taxi_price_estimate",
          "value": 56.51553726196289
         },
         {
          "hour": 1,
          "parameter": "Taxi_price_estimate",
          "value": 57.414764404296875
         }
        ],
        "data-cc30d085856a70d0657d589d4f70e179": [
         {
          "parameter": "Shared_Rideshare_Dist",
          "value": 0.0004165315729603724,
          "x": 33.25
         },
         {
          "parameter": "Shared_Rideshare_Dist",
          "value": 0.00046028363864520163,
          "x": 34.015151515151516
         },
         {
          "parameter": "Shared_Rideshare_Dist",
          "value": 0.0005095681369167134,
          "x": 34.78030303030303
         },
         {
          "parameter": "Shared_Rideshare_Dist",
          "value": 0.0005671870776718414,
          "x": 35.54545454545455
         },
         {
          "parameter": "Shared_Rideshare_Dist",
          "value": 0.0006368779418101318,
          "x": 36.31060606060606
         },
         {
          "parameter": "Shared_Rideshare_Dist",
          "value": 0.0007233957845870482,
          "x": 37.07575757575758
         },
         {
          "parameter": "Shared_Rideshare_Dist",
          "value": 0.0008325664075223385,
          "x": 37.84090909090909
         },
         {
          "parameter": "Shared_Rideshare_Dist",
          "value": 0.0009713061779183596,
          "x": 38.60606060606061
         },
         {
          "parameter": "Shared_Rideshare_Dist",
          "value": 0.0011476051396018979,
          "x": 39.371212121212125
         },
         {
          "parameter": "Shared_Rideshare_Dist",
          "value": 0.0013704712185530368,
          "x": 40.13636363636364
         },
         {
          "parameter": "Shared_Rideshare_Dist",
          "value": 0.0016498346592997706,
          "x": 40.90151515151515
         },
         {
          "parameter": "Shared_Rideshare_Dist",
          "value": 0.001996413385897726,
          "x": 41.666666666666664
         },
         {
          "parameter": "Shared_Rideshare_Dist",
          "value": 0.00242154172523691,
          "x": 42.43181818181818
         },
         {
          "parameter": "Shared_Rideshare_Dist",
          "value": 0.002936966674022974,
          "x": 43.196969696969695
         },
         {
          "parameter": "Shared_Rideshare_Dist",
          "value": 0.0035546172919789774,
          "x": 43.96212121212121
         },
         {
          "parameter": "Shared_Rideshare_Dist",
          "value": 0.004286353418800235,
          "x": 44.72727272727273
         },
         {
          "parameter": "Shared_Rideshare_Dist",
          "value": 0.005143699315871911,
          "x": 45.49242424242424
         },
         {
          "parameter": "Shared_Rideshare_Dist",
          "value": 0.0061375657859972605,
          "x": 46.25757575757576
         },
         {
          "parameter": "Shared_Rideshare_Dist",
          "value": 0.007277960943640078,
          "x": 47.02272727272727
         },
         {
          "parameter": "Shared_Rideshare_Dist",
          "value": 0.008573685691994529,
          "x": 47.78787878787879
         },
         {
          "parameter": "Shared_Rideshare_Dist",
          "value": 0.010032006201037265,
          "x": 48.553030303030305
         },
         {
          "parameter": "Shared_Rideshare_Dist",
          "value": 0.011658293717558478,
          "x": 49.31818181818181
         },
         {
          "parameter": "Shared_Rideshare_Dist",
          "value": 0.013455623382800305,
          "x": 50.08333333333333
         },
         {
          "parameter": "Shared_Rideshare_Dist",
          "value": 0.015424329550833962,
          "x": 50.848484848484844
         },
         {
          "parameter": "Shared_Rideshare_Dist",
          "value": 0.0175615257738048,
          "x": 51.61363636363636
         },
         {
          "parameter": "Shared_Rideshare_Dist",
          "value": 0.019860612394932645,
          "x": 52.378787878787875
         },
         {
          "parameter": "Shared_Rideshare_Dist",
          "value": 0.02231081152876841,
          "x": 53.14393939393939
         },
         {
          "parameter": "Shared_Rideshare_Dist",
          "value": 0.024896784939540634,
          "x": 53.90909090909091
         },
         {
          "parameter": "Shared_Rideshare_Dist",
          "value": 0.027598401129299264,
          "x": 54.67424242424242
         },
         {
          "parameter": "Shared_Rideshare_Dist",
          "value": 0.03039072010240139,
          "x": 55.43939393939394
         },
         {
          "parameter": "Shared_Rideshare_Dist",
          "value": 0.03324425507381567,
          "x": 56.20454545454545
         },
         {
          "parameter": "Shared_Rideshare_Dist",
          "value": 0.036125548972784964,
          "x": 56.96969696969697
         },
         {
          "parameter": "Shared_Rideshare_Dist",
          "value": 0.03899807149161896,
          "x": 57.734848484848484
         },
         {
          "parameter": "Shared_Rideshare_Dist",
          "value": 0.04182340363843238,
          "x": 58.5
         },
         {
          "parameter": "Shared_Rideshare_Dist",
          "value": 0.04456263723375481,
          "x": 59.265151515151516
         },
         {
          "parameter": "Shared_Rideshare_Dist",
          "value": 0.04717788343644853,
          "x": 60.03030303030303
         },
         {
          "parameter": "Shared_Rideshare_Dist",
          "value": 0.04963376363659314,
          "x": 60.79545454545455
         },
         {
          "parameter": "Shared_Rideshare_Dist",
          "value": 0.05189875247444783,
          "x": 61.56060606060606
         },
         {
          "parameter": "Shared_Rideshare_Dist",
          "value": 0.053946257885084135,
          "x": 62.32575757575758
         },
         {
          "parameter": "Shared_Rideshare_Dist",
          "value": 0.055755354932426934,
          "x": 63.09090909090909
         },
         {
          "parameter": "Shared_Rideshare_Dist",
          "value": 0.05731113348711708,
          "x": 63.85606060606061
         },
         {
          "parameter": "Shared_Rideshare_Dist",
          "value": 0.05860466693042449,
          "x": 64.62121212121212
         },
         {
          "parameter": "Shared_Rideshare_Dist",
          "value": 0.059632651720540046,
          "x": 65.38636363636363
         },
         {
          "parameter": "Shared_Rideshare_Dist",
          "value": 0.06039679858194664,
          "x": 66.15151515151516
         },
         {
          "parameter": "Shared_Rideshare_Dist",
          "value": 0.06090307063412873,
          "x": 66.91666666666666
         },
         {
          "parameter": "Shared_Rideshare_Dist",
          "value": 0.061160860911205164,
          "x": 67.68181818181819
         },
         {
          "parameter": "Shared_Rideshare_Dist",
          "value": 0.06118218411742724,
          "x": 68.44696969696969
         },
         {
          "parameter": "Shared_Rideshare_Dist",
          "value": 0.06098093079939671,
          "x": 69.21212121212122
         },
         {
          "parameter": "Shared_Rideshare_Dist",
          "value": 0.0605722036697745,
          "x": 69.97727272727272
         },
         {
          "parameter": "Shared_Rideshare_Dist",
          "value": 0.05997173268867757,
          "x": 70.74242424242425
         },
         {
          "parameter": "Shared_Rideshare_Dist",
          "value": 0.05919535292669375,
          "x": 71.50757575757575
         },
         {
          "parameter": "Shared_Rideshare_Dist",
          "value": 0.05825852933718741,
          "x": 72.27272727272728
         },
         {
          "parameter": "Shared_Rideshare_Dist",
          "value": 0.057175923952775695,
          "x": 73.03787878787878
         },
         {
          "parameter": "Shared_Rideshare_Dist",
          "value": 0.05596101916421149,
          "x": 73.80303030303031
         },
         {
          "parameter": "Shared_Rideshare_Dist",
          "value": 0.05462582917324162,
          "x": 74.56818181818181
         },
         {
          "parameter": "Shared_Rideshare_Dist",
          "value": 0.053180743697710885,
          "x": 75.33333333333334
         },
         {
          "parameter": "Shared_Rideshare_Dist",
          "value": 0.05163454828878124,
          "x": 76.09848484848484
         },
         {
          "parameter": "Shared_Rideshare_Dist",
          "value": 0.049994651820977724,
          "x": 76.86363636363636
         },
         {
          "parameter": "Shared_Rideshare_Dist",
          "value": 0.048267525059421904,
          "x": 77.62878787878788
         },
         {
          "parameter": "Shared_Rideshare_Dist",
          "value": 0.04645931936486186,
          "x": 78.39393939393939
         },
         {
          "parameter": "Shared_Rideshare_Dist",
          "value": 0.04457659868736916,
          "x": 79.1590909090909
         },
         {
          "parameter": "Shared_Rideshare_Dist",
          "value": 0.042627088992536546,
          "x": 79.92424242424242
         },
         {
          "parameter": "Shared_Rideshare_Dist",
          "value": 0.04062033414219377,
          "x": 80.68939393939394
         },
         {
          "parameter": "Shared_Rideshare_Dist",
          "value": 0.03856815038500136,
          "x": 81.45454545454545
         },
         {
          "parameter": "Shared_Rideshare_Dist",
          "value": 0.036484793722598045,
          "x": 82.21969696969697
         },
         {
          "parameter": "Shared_Rideshare_Dist",
          "value": 0.03438679236986487,
          "x": 82.98484848484848
         },
         {
          "parameter": "Shared_Rideshare_Dist",
          "value": 0.032292443985164475,
          "x": 83.75
         },
         {
          "parameter": "Shared_Rideshare_Dist",
          "value": 0.030221026105385757,
          "x": 84.51515151515152
         },
         {
          "parameter": "Shared_Rideshare_Dist",
          "value": 0.028191809909881575,
          "x": 85.28030303030303
         },
         {
          "parameter": "Shared_Rideshare_Dist",
          "value": 0.026222995172221406,
          "x": 86.04545454545455
         },
         {
          "parameter": "Shared_Rideshare_Dist",
          "value": 0.024330693893681612,
          "x": 86.81060606060606
         },
         {
          "parameter": "Shared_Rideshare_Dist",
          "value": 0.02252808085079981,
          "x": 87.57575757575758
         },
         {
          "parameter": "Shared_Rideshare_Dist",
          "value": 0.020824803578192667,
          "x": 88.3409090909091
         },
         {
          "parameter": "Shared_Rideshare_Dist",
          "value": 0.01922670711728893,
          "x": 89.1060606060606
         },
         {
          "parameter": "Shared_Rideshare_Dist",
          "value": 0.017735886570772852,
          "x": 89.87121212121212
         },
         {
          "parameter": "Shared_Rideshare_Dist",
          "value": 0.0163510396689208,
          "x": 90.63636363636363
         },
         {
          "parameter": "Shared_Rideshare_Dist",
          "value": 0.015068057823034572,
          "x": 91.40151515151516
         },
         {
          "parameter": "Shared_Rideshare_Dist",
          "value": 0.013880771476172648,
          "x": 92.16666666666666
         },
         {
          "parameter": "Shared_Rideshare_Dist",
          "value": 0.012781755873378051,
          "x": 92.93181818181819
         },
         {
          "parameter": "Shared_Rideshare_Dist",
          "value": 0.011763106534065097,
          "x": 93.69696969696969
         },
         {
          "parameter": "Shared_Rideshare_Dist",
          "value": 0.010817107861983064,
          "x": 94.46212121212122
         },
         {
          "parameter": "Shared_Rideshare_Dist",
          "value": 0.0099367403870734,
          "x": 95.22727272727272
         },
         {
          "parameter": "Shared_Rideshare_Dist",
          "value": 0.00911599835556217,
          "x": 95.99242424242425
         },
         {
          "parameter": "Shared_Rideshare_Dist",
          "value": 0.00835001593128992,
          "x": 96.75757575757575
         },
         {
          "parameter": "Shared_Rideshare_Dist",
          "value": 0.007635023699364836,
          "x": 97.52272727272727
         },
         {
          "parameter": "Shared_Rideshare_Dist",
          "value": 0.0069681748090373585,
          "x": 98.28787878787878
         },
         {
          "parameter": "Shared_Rideshare_Dist",
          "value": 0.006347290327890774,
          "x": 99.0530303030303
         },
         {
          "parameter": "Shared_Rideshare_Dist",
          "value": 0.005770575724524899,
          "x": 99.81818181818181
         },
         {
          "parameter": "Shared_Rideshare_Dist",
          "value": 0.0052363554857416325,
          "x": 100.58333333333333
         },
         {
          "parameter": "Shared_Rideshare_Dist",
          "value": 0.004742862274942339,
          "x": 101.34848484848484
         },
         {
          "parameter": "Shared_Rideshare_Dist",
          "value": 0.004288102953719189,
          "x": 102.11363636363636
         },
         {
          "parameter": "Shared_Rideshare_Dist",
          "value": 0.003869808678860647,
          "x": 102.87878787878788
         },
         {
          "parameter": "Shared_Rideshare_Dist",
          "value": 0.003485462476134514,
          "x": 103.64393939393939
         },
         {
          "parameter": "Shared_Rideshare_Dist",
          "value": 0.003132387022554652,
          "x": 104.4090909090909
         },
         {
          "parameter": "Shared_Rideshare_Dist",
          "value": 0.00280786896310508,
          "x": 105.17424242424242
         },
         {
          "parameter": "Shared_Rideshare_Dist",
          "value": 0.0025092942552045537,
          "x": 105.93939393939394
         },
         {
          "parameter": "Shared_Rideshare_Dist",
          "value": 0.002234271326211143,
          "x": 106.70454545454545
         },
         {
          "parameter": "Shared_Rideshare_Dist",
          "value": 0.0019807242216443835,
          "x": 107.46969696969697
         },
         {
          "parameter": "Shared_Rideshare_Dist",
          "value": 0.001746945072223526,
          "x": 108.23484848484848
         },
         {
          "parameter": "Shared_Rideshare_Dist",
          "value": 0.0015316027311052512,
          "x": 109
         },
         {
          "parameter": "Rideshare_Dist",
          "value": 0.003107871436331758,
          "x": 33.25
         },
         {
          "parameter": "Rideshare_Dist",
          "value": 0.004033639733480287,
          "x": 34.015151515151516
         },
         {
          "parameter": "Rideshare_Dist",
          "value": 0.005175808341766451,
          "x": 34.78030303030303
         },
         {
          "parameter": "Rideshare_Dist",
          "value": 0.0065653761763965375,
          "x": 35.54545454545455
         },
         {
          "parameter": "Rideshare_Dist",
          "value": 0.00823242976434762,
          "x": 36.31060606060606
         },
         {
          "parameter": "Rideshare_Dist",
          "value": 0.010204748741723826,
          "x": 37.07575757575758
         },
         {
          "parameter": "Rideshare_Dist",
          "value": 0.012506341700684029,
          "x": 37.84090909090909
         },
         {
          "parameter": "Rideshare_Dist",
          "value": 0.015155960487796067,
          "x": 38.60606060606061
         },
         {
          "parameter": "Rideshare_Dist",
          "value": 0.018165610934608927,
          "x": 39.371212121212125
         },
         {
          "parameter": "Rideshare_Dist",
          "value": 0.02153904249111329,
          "x": 40.13636363636364
         },
         {
          "parameter": "Rideshare_Dist",
          "value": 0.025270172328250202,
          "x": 40.90151515151515
         },
         {
          "parameter": "Rideshare_Dist",
          "value": 0.029341397134439555,
          "x": 41.666666666666664
         },
         {
          "parameter": "Rideshare_Dist",
          "value": 0.03372178116400511,
          "x": 42.43181818181818
         },
         {
          "parameter": "Rideshare_Dist",
          "value": 0.03836518700112258,
          "x": 43.196969696969695
         },
         {
          "parameter": "Rideshare_Dist",
          "value": 0.04320852840779388,
          "x": 43.96212121212121
         },
         {
          "parameter": "Rideshare_Dist",
          "value": 0.0481704510486779,
          "x": 44.72727272727273
         },
         {
          "parameter": "Rideshare_Dist",
          "value": 0.05315085402594684,
          "x": 45.49242424242424
         },
         {
          "parameter": "Rideshare_Dist",
          "value": 0.0580317156024133,
          "x": 46.25757575757576
         },
         {
          "parameter": "Rideshare_Dist",
          "value": 0.06267964785507615,
          "x": 47.02272727272727
         },
         {
          "parameter": "Rideshare_Dist",
          "value": 0.06695046008470369,
          "x": 47.78787878787879
         },
         {
          "parameter": "Rideshare_Dist",
          "value": 0.0706957653232394,
          "x": 48.553030303030305
         },
         {
          "parameter": "Rideshare_Dist",
          "value": 0.07377134949393975,
          "x": 49.31818181818181
         },
         {
          "parameter": "Rideshare_Dist",
          "value": 0.0760466916100024,
          "x": 50.08333333333333
         },
         {
          "parameter": "Rideshare_Dist",
          "value": 0.07741474034210012,
          "x": 50.848484848484844
         },
         {
          "parameter": "Rideshare_Dist",
          "value": 0.07780087933741381,
          "x": 51.61363636363636
         },
         {
          "parameter": "Rideshare_Dist",
          "value": 0.0771699957397889,
          "x": 52.378787878787875
         },
         {
          "parameter": "Rideshare_Dist",
          "value": 0.07553071998228343,
          "x": 53.14393939393939
         },
         {
          "parameter": "Rideshare_Dist",
          "value": 0.07293621330974168,
          "x": 53.90909090909091
         },
         {
          "parameter": "Rideshare_Dist",
          "value": 0.06948129522472347,
          "x": 54.67424242424242
         },
         {
          "parameter": "Rideshare_Dist",
          "value": 0.06529615777574697,
          "x": 55.43939393939394
         },
         {
          "parameter": "Rideshare_Dist",
          "value": 0.06053733220066296,
          "x": 56.20454545454545
         },
         {
          "parameter": "Rideshare_Dist",
          "value": 0.0553768891865852,
          "x": 56.96969696969697
         },
         {
          "parameter": "Rideshare_Dist",
          "value": 0.04999102121886091,
          "x": 57.734848484848484
         },
         {
          "parameter": "Rideshare_Dist",
          "value": 0.04454915689301396,
          "x": 58.5
         },
         {
          "parameter": "Rideshare_Dist",
          "value": 0.039204604812120694,
          "x": 59.265151515151516
         },
         {
          "parameter": "Rideshare_Dist",
          "value": 0.034087455419943784,
          "x": 60.03030303030303
         },
         {
          "parameter": "Rideshare_Dist",
          "value": 0.029300134747220038,
          "x": 60.79545454545455
         },
         {
          "parameter": "Rideshare_Dist",
          "value": 0.02491566079252596,
          "x": 61.56060606060606
         },
         {
          "parameter": "Rideshare_Dist",
          "value": 0.02097835131447647,
          "x": 62.32575757575758
         },
         {
          "parameter": "Rideshare_Dist",
          "value": 0.017506507640887847,
          "x": 63.09090909090909
         },
         {
          "parameter": "Rideshare_Dist",
          "value": 0.014496471420573172,
          "x": 63.85606060606061
         },
         {
          "parameter": "Rideshare_Dist",
          "value": 0.011927420857263967,
          "x": 64.62121212121212
         },
         {
          "parameter": "Rideshare_Dist",
          "value": 0.009766325787850512,
          "x": 65.38636363636363
         },
         {
          "parameter": "Rideshare_Dist",
          "value": 0.007972593101036539,
          "x": 66.15151515151516
         },
         {
          "parameter": "Rideshare_Dist",
          "value": 0.006502077525868347,
          "x": 66.91666666666666
         },
         {
          "parameter": "Rideshare_Dist",
          "value": 0.0053102811497819785,
          "x": 67.68181818181819
         },
         {
          "parameter": "Rideshare_Dist",
          "value": 0.004354696842356604,
          "x": 68.44696969696969
         },
         {
          "parameter": "Rideshare_Dist",
          "value": 0.0035963522577144224,
          "x": 69.21212121212122
         },
         {
          "parameter": "Rideshare_Dist",
          "value": 0.003000676399193266,
          "x": 69.97727272727272
         },
         {
          "parameter": "Rideshare_Dist",
          "value": 0.0025378409162180723,
          "x": 70.74242424242425
         },
         {
          "parameter": "Rideshare_Dist",
          "value": 0.0021827294199305283,
          "x": 71.50757575757575
         },
         {
          "parameter": "Rideshare_Dist",
          "value": 0.0019146689142225184,
          "x": 72.27272727272728
         },
         {
          "parameter": "Rideshare_Dist",
          "value": 0.0017170272766616908,
          "x": 73.03787878787878
         },
         {
          "parameter": "Rideshare_Dist",
          "value": 0.0015767478467405465,
          "x": 73.80303030303031
         },
         {
          "parameter": "Rideshare_Dist",
          "value": 0.0014838627652952617,
          "x": 74.56818181818181
         },
         {
          "parameter": "Rideshare_Dist",
          "value": 0.0014310044919752464,
          "x": 75.33333333333334
         },
         {
          "parameter": "Rideshare_Dist",
          "value": 0.001412921335067426,
          "x": 76.09848484848484
         },
         {
          "parameter": "Rideshare_Dist",
          "value": 0.0014259974407320887,
          "x": 76.86363636363636
         },
         {
          "parameter": "Rideshare_Dist",
          "value": 0.0014677788311000077,
          "x": 77.62878787878788
         },
         {
          "parameter": "Rideshare_Dist",
          "value": 0.001536512397572548,
          "x": 78.39393939393939
         },
         {
          "parameter": "Rideshare_Dist",
          "value": 0.0016307116943030566,
          "x": 79.1590909090909
         },
         {
          "parameter": "Rideshare_Dist",
          "value": 0.0017487695510372272,
          "x": 79.92424242424242
         },
         {
          "parameter": "Rideshare_Dist",
          "value": 0.0018886409795731242,
          "x": 80.68939393939394
         },
         {
          "parameter": "Rideshare_Dist",
          "value": 0.0020476192581883167,
          "x": 81.45454545454545
         },
         {
          "parameter": "Rideshare_Dist",
          "value": 0.002222222895340721,
          "x": 82.21969696969697
         },
         {
          "parameter": "Rideshare_Dist",
          "value": 0.0024082017202245926,
          "x": 82.98484848484848
         },
         {
          "parameter": "Rideshare_Dist",
          "value": 0.0026006578193718873,
          "x": 83.75
         },
         {
          "parameter": "Rideshare_Dist",
          "value": 0.002794263375217731,
          "x": 84.51515151515152
         },
         {
          "parameter": "Rideshare_Dist",
          "value": 0.002983545058872935,
          "x": 85.28030303030303
         },
         {
          "parameter": "Rideshare_Dist",
          "value": 0.003163195900746453,
          "x": 86.04545454545455
         },
         {
          "parameter": "Rideshare_Dist",
          "value": 0.003328372435273292,
          "x": 86.81060606060606
         },
         {
          "parameter": "Rideshare_Dist",
          "value": 0.003474938353007268,
          "x": 87.57575757575758
         },
         {
          "parameter": "Rideshare_Dist",
          "value": 0.00359962558848424,
          "x": 88.3409090909091
         },
         {
          "parameter": "Rideshare_Dist",
          "value": 0.003700098116738507,
          "x": 89.1060606060606
         },
         {
          "parameter": "Rideshare_Dist",
          "value": 0.003774920095918049,
          "x": 89.87121212121212
         },
         {
          "parameter": "Rideshare_Dist",
          "value": 0.0038234452801603853,
          "x": 90.63636363636363
         },
         {
          "parameter": "Rideshare_Dist",
          "value": 0.0038456559615465944,
          "x": 91.40151515151516
         },
         {
          "parameter": "Rideshare_Dist",
          "value": 0.0038419850861763707,
          "x": 92.16666666666666
         },
         {
          "parameter": "Rideshare_Dist",
          "value": 0.003813153948470924,
          "x": 92.93181818181819
         },
         {
          "parameter": "Rideshare_Dist",
          "value": 0.00376005074589561,
          "x": 93.69696969696969
         },
         {
          "parameter": "Rideshare_Dist",
          "value": 0.003683664196629976,
          "x": 94.46212121212122
         },
         {
          "parameter": "Rideshare_Dist",
          "value": 0.0035850739623654675,
          "x": 95.22727272727272
         },
         {
          "parameter": "Rideshare_Dist",
          "value": 0.0034654883651871237,
          "x": 95.99242424242425
         },
         {
          "parameter": "Rideshare_Dist",
          "value": 0.003326311857322418,
          "x": 96.75757575757575
         },
         {
          "parameter": "Rideshare_Dist",
          "value": 0.0031692209658394648,
          "x": 97.52272727272727
         },
         {
          "parameter": "Rideshare_Dist",
          "value": 0.0029962280251574617,
          "x": 98.28787878787878
         },
         {
          "parameter": "Rideshare_Dist",
          "value": 0.0028097161015552563,
          "x": 99.0530303030303
         },
         {
          "parameter": "Rideshare_Dist",
          "value": 0.0026124347687898515,
          "x": 99.81818181818181
         },
         {
          "parameter": "Rideshare_Dist",
          "value": 0.0024074533647617867,
          "x": 100.58333333333333
         },
         {
          "parameter": "Rideshare_Dist",
          "value": 0.0021980748168082117,
          "x": 101.34848484848484
         },
         {
          "parameter": "Rideshare_Dist",
          "value": 0.0019877182435502926,
          "x": 102.11363636363636
         },
         {
          "parameter": "Rideshare_Dist",
          "value": 0.0017797819353381277,
          "x": 102.87878787878788
         },
         {
          "parameter": "Rideshare_Dist",
          "value": 0.0015774999426480282,
          "x": 103.64393939393939
         },
         {
          "parameter": "Rideshare_Dist",
          "value": 0.0013838055327563803,
          "x": 104.4090909090909
         },
         {
          "parameter": "Rideshare_Dist",
          "value": 0.0012012134676609924,
          "x": 105.17424242424242
         },
         {
          "parameter": "Rideshare_Dist",
          "value": 0.0010317306855698424,
          "x": 105.93939393939394
         },
         {
          "parameter": "Rideshare_Dist",
          "value": 0.0008768018137733501,
          "x": 106.70454545454545
         },
         {
          "parameter": "Rideshare_Dist",
          "value": 0.0007372923087308951,
          "x": 107.46969696969697
         },
         {
          "parameter": "Rideshare_Dist",
          "value": 0.0006135082659338453,
          "x": 108.23484848484848
         },
         {
          "parameter": "Rideshare_Dist",
          "value": 0.0005052484683150423,
          "x": 109
         },
         {
          "parameter": "Taxi_Dist",
          "value": 0.00037351465701147135,
          "x": 33.25
         },
         {
          "parameter": "Taxi_Dist",
          "value": 0.0004914092144935667,
          "x": 34.015151515151516
         },
         {
          "parameter": "Taxi_Dist",
          "value": 0.0006462991594215856,
          "x": 34.78030303030303
         },
         {
          "parameter": "Taxi_Dist",
          "value": 0.0008442386908373061,
          "x": 35.54545454545455
         },
         {
          "parameter": "Taxi_Dist",
          "value": 0.001087288280613326,
          "x": 36.31060606060606
         },
         {
          "parameter": "Taxi_Dist",
          "value": 0.0013719325341315048,
          "x": 37.07575757575758
         },
         {
          "parameter": "Taxi_Dist",
          "value": 0.00168895959574805,
          "x": 37.84090909090909
         },
         {
          "parameter": "Taxi_Dist",
          "value": 0.0020253592676643564,
          "x": 38.60606060606061
         },
         {
          "parameter": "Taxi_Dist",
          "value": 0.0023681517475043013,
          "x": 39.371212121212125
         },
         {
          "parameter": "Taxi_Dist",
          "value": 0.002709257748869222,
          "x": 40.13636363636364
         },
         {
          "parameter": "Taxi_Dist",
          "value": 0.0030498820392659163,
          "x": 40.90151515151515
         },
         {
          "parameter": "Taxi_Dist",
          "value": 0.0034027390683954183,
          "x": 41.666666666666664
         },
         {
          "parameter": "Taxi_Dist",
          "value": 0.003790989954737927,
          "x": 42.43181818181818
         },
         {
          "parameter": "Taxi_Dist",
          "value": 0.00424390057910628,
          "x": 43.196969696969695
         },
         {
          "parameter": "Taxi_Dist",
          "value": 0.004790591230532618,
          "x": 43.96212121212121
         },
         {
          "parameter": "Taxi_Dist",
          "value": 0.005454270169332689,
          "x": 44.72727272727273
         },
         {
          "parameter": "Taxi_Dist",
          "value": 0.006249512377803476,
          "x": 45.49242424242424
         },
         {
          "parameter": "Taxi_Dist",
          "value": 0.0071842351437963305,
          "x": 46.25757575757576
         },
         {
          "parameter": "Taxi_Dist",
          "value": 0.00826625168025574,
          "x": 47.02272727272727
         },
         {
          "parameter": "Taxi_Dist",
          "value": 0.009512291364359235,
          "x": 47.78787878787879
         },
         {
          "parameter": "Taxi_Dist",
          "value": 0.010955995073447803,
          "x": 48.553030303030305
         },
         {
          "parameter": "Taxi_Dist",
          "value": 0.012651294512845987,
          "x": 49.31818181818181
         },
         {
          "parameter": "Taxi_Dist",
          "value": 0.01466892180796707,
          "x": 50.08333333333333
         },
         {
          "parameter": "Taxi_Dist",
          "value": 0.017086079880277837,
          "x": 50.848484848484844
         },
         {
          "parameter": "Taxi_Dist",
          "value": 0.019971591771139482,
          "x": 51.61363636363636
         },
         {
          "parameter": "Taxi_Dist",
          "value": 0.023370199955654033,
          "x": 52.378787878787875
         },
         {
          "parameter": "Taxi_Dist",
          "value": 0.027289647011980306,
          "x": 53.14393939393939
         },
         {
          "parameter": "Taxi_Dist",
          "value": 0.03169295712550656,
          "x": 53.90909090909091
         },
         {
          "parameter": "Taxi_Dist",
          "value": 0.03649664736840194,
          "x": 54.67424242424242
         },
         {
          "parameter": "Taxi_Dist",
          "value": 0.041574143993425024,
          "x": 55.43939393939394
         },
         {
          "parameter": "Taxi_Dist",
          "value": 0.046762833806005905,
          "x": 56.20454545454545
         },
         {
          "parameter": "Taxi_Dist",
          "value": 0.05187293495181637,
          "x": 56.96969696969697
         },
         {
          "parameter": "Taxi_Dist",
          "value": 0.05669657915054097,
          "x": 57.734848484848484
         },
         {
          "parameter": "Taxi_Dist",
          "value": 0.06101611070984335,
          "x": 58.5
         },
         {
          "parameter": "Taxi_Dist",
          "value": 0.0646116464839178,
          "x": 59.265151515151516
         },
         {
          "parameter": "Taxi_Dist",
          "value": 0.06726922606193209,
          "x": 60.03030303030303
         },
         {
          "parameter": "Taxi_Dist",
          "value": 0.06879183678554163,
          "x": 60.79545454545455
         },
         {
          "parameter": "Taxi_Dist",
          "value": 0.06901542245949593,
          "x": 61.56060606060606
         },
         {
          "parameter": "Taxi_Dist",
          "value": 0.0678301837004133,
          "x": 62.32575757575758
         },
         {
          "parameter": "Taxi_Dist",
          "value": 0.06520439537478714,
          "x": 63.09090909090909
         },
         {
          "parameter": "Taxi_Dist",
          "value": 0.06120486700561301,
          "x": 63.85606060606061
         },
         {
          "parameter": "Taxi_Dist",
          "value": 0.05600670763910926,
          "x": 64.62121212121212
         },
         {
          "parameter": "Taxi_Dist",
          "value": 0.049886381605846526,
          "x": 65.38636363636363
         },
         {
          "parameter": "Taxi_Dist",
          "value": 0.04319610080155957,
          "x": 66.15151515151516
         },
         {
          "parameter": "Taxi_Dist",
          "value": 0.03632303114406261,
          "x": 66.91666666666666
         },
         {
          "parameter": "Taxi_Dist",
          "value": 0.029641518518020805,
          "x": 67.68181818181819
         },
         {
          "parameter": "Taxi_Dist",
          "value": 0.023468727229057136,
          "x": 68.44696969696969
         },
         {
          "parameter": "Taxi_Dist",
          "value": 0.01803295573532959,
          "x": 69.21212121212122
         },
         {
          "parameter": "Taxi_Dist",
          "value": 0.013460013186403046,
          "x": 69.97727272727272
         },
         {
          "parameter": "Taxi_Dist",
          "value": 0.00977796036161447,
          "x": 70.74242424242425
         },
         {
          "parameter": "Taxi_Dist",
          "value": 0.006936044556268205,
          "x": 71.50757575757575
         },
         {
          "parameter": "Taxi_Dist",
          "value": 0.004831104952377675,
          "x": 72.27272727272728
         },
         {
          "parameter": "Taxi_Dist",
          "value": 0.003334510205182257,
          "x": 73.03787878787878
         },
         {
          "parameter": "Taxi_Dist",
          "value": 0.002314366188755483,
          "x": 73.80303030303031
         },
         {
          "parameter": "Taxi_Dist",
          "value": 0.0016503465248698796,
          "x": 74.56818181818181
         },
         {
          "parameter": "Taxi_Dist",
          "value": 0.0012410473768718687,
          "x": 75.33333333333334
         },
         {
          "parameter": "Taxi_Dist",
          "value": 0.001005540210339079,
          "x": 76.09848484848484
         },
         {
          "parameter": "Taxi_Dist",
          "value": 0.0008815186644240123,
          "x": 76.86363636363636
         },
         {
          "parameter": "Taxi_Dist",
          "value": 0.0008222320957219943,
          "x": 77.62878787878788
         },
         {
          "parameter": "Taxi_Dist",
          "value": 0.0007936372147978009,
          "x": 78.39393939393939
         },
         {
          "parameter": "Taxi_Dist",
          "value": 0.000772310430054441,
          "x": 79.1590909090909
         },
         {
          "parameter": "Taxi_Dist",
          "value": 0.0007439854779798177,
          "x": 79.92424242424242
         },
         {
          "parameter": "Taxi_Dist",
          "value": 0.0007022751549676196,
          "x": 80.68939393939394
         },
         {
          "parameter": "Taxi_Dist",
          "value": 0.0006471810201039665,
          "x": 81.45454545454545
         },
         {
          "parameter": "Taxi_Dist",
          "value": 0.0005832459688798548,
          "x": 82.21969696969697
         },
         {
          "parameter": "Taxi_Dist",
          "value": 0.0005174832694659594,
          "x": 82.98484848484848
         },
         {
          "parameter": "Taxi_Dist",
          "value": 0.0004573885539264584,
          "x": 83.75
         },
         {
          "parameter": "Taxi_Dist",
          "value": 0.0004093576522522996,
          "x": 84.51515151515152
         },
         {
          "parameter": "Taxi_Dist",
          "value": 0.00037771873115323467,
          "x": 85.28030303030303
         },
         {
          "parameter": "Taxi_Dist",
          "value": 0.00036441092006038304,
          "x": 86.04545454545455
         },
         {
          "parameter": "Taxi_Dist",
          "value": 0.00036917874741805546,
          "x": 86.81060606060606
         },
         {
          "parameter": "Taxi_Dist",
          "value": 0.00039005722013613276,
          "x": 87.57575757575758
         },
         {
          "parameter": "Taxi_Dist",
          "value": 0.0004239174901302855,
          "x": 88.3409090909091
         },
         {
          "parameter": "Taxi_Dist",
          "value": 0.0004669134672388695,
          "x": 89.1060606060606
         },
         {
          "parameter": "Taxi_Dist",
          "value": 0.0005147749252483058,
          "x": 89.87121212121212
         },
         {
          "parameter": "Taxi_Dist",
          "value": 0.0005629850425779269,
          "x": 90.63636363636363
         },
         {
          "parameter": "Taxi_Dist",
          "value": 0.0006069273048782013,
          "x": 91.40151515151516
         },
         {
          "parameter": "Taxi_Dist",
          "value": 0.000642083164756116,
          "x": 92.16666666666666
         },
         {
          "parameter": "Taxi_Dist",
          "value": 0.0006643253296790615,
          "x": 92.93181818181819
         },
         {
          "parameter": "Taxi_Dist",
          "value": 0.0006703047708303118,
          "x": 93.69696969696969
         },
         {
          "parameter": "Taxi_Dist",
          "value": 0.0006578856810655006,
          "x": 94.46212121212122
         },
         {
          "parameter": "Taxi_Dist",
          "value": 0.0006265450515595222,
          "x": 95.22727272727272
         },
         {
          "parameter": "Taxi_Dist",
          "value": 0.000577627326248417,
          "x": 95.99242424242425
         },
         {
          "parameter": "Taxi_Dist",
          "value": 0.0005143443792146703,
          "x": 96.75757575757575
         },
         {
          "parameter": "Taxi_Dist",
          "value": 0.0004414537176503127,
          "x": 97.52272727272727
         },
         {
          "parameter": "Taxi_Dist",
          "value": 0.0003646339857916615,
          "x": 98.28787878787878
         },
         {
          "parameter": "Taxi_Dist",
          "value": 0.00028967892476398753,
          "x": 99.0530303030303
         },
         {
          "parameter": "Taxi_Dist",
          "value": 0.00022170190838089092,
          "x": 99.81818181818181
         },
         {
          "parameter": "Taxi_Dist",
          "value": 0.00016454347164315955,
          "x": 100.58333333333333
         },
         {
          "parameter": "Taxi_Dist",
          "value": 0.0001204980350193338,
          "x": 101.34848484848484
         },
         {
          "parameter": "Taxi_Dist",
          "value": 9.035752850614431e-05,
          "x": 102.11363636363636
         },
         {
          "parameter": "Taxi_Dist",
          "value": 7.366486161666268e-05,
          "x": 102.87878787878788
         },
         {
          "parameter": "Taxi_Dist",
          "value": 6.902636698295948e-05,
          "x": 103.64393939393939
         },
         {
          "parameter": "Taxi_Dist",
          "value": 7.436374197687924e-05,
          "x": 104.4090909090909
         },
         {
          "parameter": "Taxi_Dist",
          "value": 8.706895465226207e-05,
          "x": 105.17424242424242
         },
         {
          "parameter": "Taxi_Dist",
          "value": 0.0001041127567965321,
          "x": 105.93939393939394
         },
         {
          "parameter": "Taxi_Dist",
          "value": 0.00012220237386238356,
          "x": 106.70454545454545
         },
         {
          "parameter": "Taxi_Dist",
          "value": 0.00013806353341325384,
          "x": 107.46969696969697
         },
         {
          "parameter": "Taxi_Dist",
          "value": 0.0001488474414132586,
          "x": 108.23484848484848
         },
         {
          "parameter": "Taxi_Dist",
          "value": 0.000152574513653638,
          "x": 109
         }
        ]
       },
       "layer": [
        {
         "data": {
          "name": "data-9ef3173a3fe3138c43bbda1468b27fcf"
         },
         "encoding": {
          "color": {
           "field": "parameter",
           "scale": {
            "domain": [
             "Rideshare_regular_price_estimate",
             "Rideshare_shared_price_estimate",
             "Taxi_price_estimate"
            ],
            "range": [
             "red",
             "green",
             "blue"
            ]
           },
           "type": "nominal"
          },
          "size": {
           "value": 5
          },
          "x": {
           "field": "value",
           "type": "quantitative"
          }
         },
         "mark": {
          "color": "red",
          "type": "rule"
         },
         "selection": {
          " ": {
           "bind": {
            "input": "range",
            "max": 9,
            "min": 0,
            "step": 1
           },
           "fields": [
            "hour"
           ],
           "init": {
            "hour": 0
           },
           "type": "single"
          }
         },
         "transform": [
          {
           "filter": {
            "selection": " "
           }
          }
         ]
        },
        {
         "data": {
          "name": "data-cc30d085856a70d0657d589d4f70e179"
         },
         "encoding": {
          "color": {
           "field": "parameter",
           "legend": null,
           "scale": {
            "domain": [
             "Rideshare_Dist",
             "Shared_Rideshare_Dist",
             "Taxi_Dist"
            ],
            "range": [
             "red",
             "green",
             "blue"
            ]
           },
           "type": "nominal"
          },
          "opacity": {
           "condition": {
            "selection": "Ride Type",
            "value": 0.6
           },
           "value": 0
          },
          "x": {
           "field": "x",
           "title": "Ride Cost (Dollars)",
           "type": "quantitative"
          },
          "y": {
           "field": "value",
           "title": "Density",
           "type": "quantitative"
          }
         },
         "mark": {
          "point": false,
          "size": 4,
          "type": "area"
         },
         "selection": {
          "Ride Type": {
           "bind": {
            "input": "select",
            "options": [
             "Rideshare_Dist",
             "Taxi_Dist"
            ]
           },
           "clear": false,
           "fields": [
            "parameter"
           ],
           "init": {
            "parameter": "Rideshare_Dist"
           },
           "on": "doubleclick",
           "type": "single"
          }
         }
        }
       ]
      },
      "image/png": "[encoded data removed]",
      "text/plain": [
       "<VegaLite 3 object>\n",
       "\n",
       "If you see this message, it means the renderer has not been properly enabled\n",
       "for the frontend that you are using. For more information, see\n",
       "https://altair-viz.github.io/user_guide/troubleshooting.html\n"
      ]
     },
     "execution_count": 95,
     "metadata": {},
     "output_type": "execute_result"
    }
   ],
   "source": [
    "USER_PARAMS = {\"pickup\": \"chicago ohare airport\",\n",
    "               \"dropoff\": \"chicago aquarium\",\n",
    "               \"forecast_hrs\":1}\n",
    "\n",
    "results = run_Fair_Fare(USER_PARAMS)\n",
    "\n",
    "pd.set_option(\"display.precision\", 2)\n",
    "print(pd.DataFrame(results[5]).iloc[0])\n",
    "\n",
    "show_viz(results)"
   ]
  },
  {
   "cell_type": "code",
   "execution_count": null,
   "metadata": {},
   "outputs": [],
   "source": []
  }
 ],
 "metadata": {
  "kernelspec": {
   "display_name": "Python 3",
   "language": "python",
   "name": "python3"
  },
  "language_info": {
   "codemirror_mode": {
    "name": "ipython",
    "version": 3
   },
   "file_extension": ".py",
   "mimetype": "text/x-python",
   "name": "python",
   "nbconvert_exporter": "python",
   "pygments_lexer": "ipython3",
   "version": "3.7.3"
  }
 },
 "nbformat": 4,
 "nbformat_minor": 4
}
