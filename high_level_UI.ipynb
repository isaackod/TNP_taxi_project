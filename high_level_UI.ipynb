{
 "cells": [
  {
   "cell_type": "markdown",
   "metadata": {},
   "source": [
    "Video Notes:\n",
    "- end on a note of the webapp\n",
    "- say i'm going to move to webapp at the end\n",
    "- ask an audience member for locations\n",
    "- say 'pooled' ride instead of shared\n",
    "- double check spelling\n",
    "- shorter problem slide? could make it more personal. \n",
    "- Some visual of a person going from the airport?\n",
    "\n",
    "\n",
    "This notebook is intended to simulate what the UI will look like and is top-level"
   ]
  },
  {
   "cell_type": "code",
   "execution_count": 13,
   "metadata": {},
   "outputs": [
    {
     "name": "stdout",
     "output_type": "stream",
     "text": [
      "The autoreload extension is already loaded. To reload it, use:\n",
      "  %reload_ext autoreload\n"
     ]
    }
   ],
   "source": [
    "import pandas as pd\n",
    "import numpy as np\n",
    "import matplotlib.pyplot as plt\n",
    "import altair as alt\n",
    "import seaborn as sns\n",
    "from scipy.stats import gaussian_kde\n",
    "import datetime\n",
    "import pytz\n",
    "import altair as alt\n",
    "sns.set()\n",
    "import matplotlib\n",
    "matplotlib.rcParams['figure.dpi'] = 144\n",
    "\n",
    "from datetime import datetime, timedelta\n",
    "\n",
    "from Fair_Fare.feature_utils import load_hdf\n",
    "from Fair_Fare.aggregations import bin_on_time_distance\n",
    "from Fair_Fare.model_utils import get_model_from_file, predict_fare\n",
    "from Fair_Fare.trips import Stop, Ride\n",
    "from Fair_Fare.api_interactions import price_estimate_from_lyft\n",
    "\n",
    "\n",
    "%load_ext autoreload\n",
    "%autoreload 2\n"
   ]
  },
  {
   "cell_type": "code",
   "execution_count": 2,
   "metadata": {},
   "outputs": [],
   "source": [
    "\n",
    "def get_time_in_chicago():\n",
    "    utc_now = pytz.utc.localize(datetime.utcnow())\n",
    "    return utc_now.astimezone(pytz.timezone(\"America/Chicago\"))"
   ]
  },
  {
   "cell_type": "code",
   "execution_count": 3,
   "metadata": {},
   "outputs": [],
   "source": [
    "models = {\"path\":\"models/\", \"taxi\":\"taxi_xgb_full_reduced_params\", \"rideshare\":\"tnp_xgb_full_reduced_params\" }\n",
    "data = {\"path\":\"data/\",\"taxi\":\"taxi_test.h5\", \"rideshare\":\"tnp_test.h5\" }\n",
    "\n",
    "taxi_model = get_model_from_file(models['path']+models['taxi'])\n",
    "taxi_data = load_hdf(data['path']+data['taxi'])\n",
    "\n",
    "rideshare_model = get_model_from_file(models['path']+models['rideshare'])\n",
    "rideshare_data = load_hdf(data['path']+data['rideshare'])\n",
    "\n"
   ]
  },
  {
   "cell_type": "code",
   "execution_count": 84,
   "metadata": {},
   "outputs": [],
   "source": [
    "def text_to_fares(binned_rs,binned_tax, start, end, forecast_hours = 5):\n",
    "    curr_time = get_time_in_chicago()\n",
    "    model_estimate = {'rideshare_model_estimate':[],'rideshare_shared_model_estimate':[],'taxi_estimate':[]}\n",
    "    \n",
    "    # forecast for next few hours\n",
    "    times = [curr_time+timedelta(hours=i) for i in range(forecast_hours)] \n",
    "    rides = [Ride(start,end, time, bRideshare = True, bShared = False) for time in times]\n",
    "        \n",
    "    for ride in rides:\n",
    "        model_estimate['rideshare_model_estimate'].append(predict_fare(ride, rideshare_model)[0])\n",
    "        ride.bShared = True\n",
    "        ride.build_row()\n",
    "        model_estimate['rideshare_shared_model_estimate'].append(predict_fare(ride, rideshare_model)[0])\n",
    "    for ride in rides:\n",
    "        ride.bRideshare = False\n",
    "        ride.build_row()\n",
    "        model_estimate['taxi_estimate'].append(predict_fare(ride, taxi_model)[0])\n",
    "\n",
    "    # only one lyft estimate is available\n",
    "    lyft_estimates = price_estimate_from_lyft(ride.start.tuple,ride.end.tuple)\n",
    "    \n",
    "    td_tup = (ride.traveltime,ride.miles)\n",
    "    \n",
    "    binned_pth_tax = binned_tax.time_distance_to_bin(td_tup)\n",
    "    group_tax =  binned_tax.df[binned_tax.df.td_bin == binned_pth_tax]\n",
    "    \n",
    "    binned_pth_rs = binned_rs.time_distance_to_bin(td_tup)\n",
    "    group_rs =  binned_rs.df[binned_rs.df.td_bin == binned_pth_rs]\n",
    "    return model_estimate, lyft_estimates, group_tax, group_rs\n",
    "\n",
    "\n",
    "def run_Fair_Fare(USER_PARAMS):\n",
    "    rideshare_binned = bin_on_time_distance(rideshare_data)\n",
    "    ## TODO: Investigate the binning on the taxi data (time is very discrete)\n",
    "    taxi_binned = bin_on_time_distance(taxi_data)\n",
    "\n",
    "    rideshare_model_pred, lyft_estimate,taxi_group, rideshare_group= text_to_fares(rideshare_binned,taxi_binned,USER_PARAMS['pickup'], USER_PARAMS['dropoff'], USER_PARAMS['forecast_hrs'])\n",
    "\n",
    "    rideshare_shared_fares = rideshare_group[rideshare_group[\"Shared_Trip_Authorized\"] == True].Final_Fare\n",
    "    rideshare_fares = rideshare_group[rideshare_group[\"Shared_Trip_Authorized\"] == False].Final_Fare\n",
    "    taxi_fares = taxi_group.Final_Fare\n",
    "\n",
    "    to_df = {'Rideshare_regular_price_estimate': rideshare_model_pred['rideshare_model_estimate'], 'Rideshare_shared_price_estimate': rideshare_model_pred['rideshare_shared_model_estimate'],\n",
    "     'Taxi_price_estimate' :rideshare_model_pred['taxi_estimate']}\n",
    "    return rideshare_model_pred, lyft_estimate, rideshare_shared_fares,rideshare_fares,taxi_fares,to_df\n",
    "\n",
    "def kde(data, nbins = 200):\n",
    "    data = data[~np.isnan(data)]\n",
    "    gkde = gaussian_kde(data,bw_method = .5)\n",
    "    grid = np.linspace(-10,150,nbins)\n",
    "    kde_vals = gkde.evaluate(grid)\n",
    "    lo, hi= np.min(data), np.max(data)\n",
    "    loidx = np.argmin(abs(lo-grid))\n",
    "    hiidx = np.argmin(abs(hi-grid))\n",
    "    return {'x':grid, 'y':kde_vals,'valid_range':(loidx,hiidx)}\n",
    "\n",
    "\n",
    "## todo build out a wide dataframe only in the valid_range\n",
    "def build_df_for_altair(fare_dict):\n",
    "    df = pd.DataFrame()\n",
    "    for name, fares in fare_dict.items():\n",
    "        kde_dict = kde(fares.values)\n",
    "        df[name] = kde_dict['y']\n",
    "    df['x'] = kde_dict['x']\n",
    "    long_df = df.melt(id_vars=\"x\").rename(columns = {\"variable\":\"parameter\"})\n",
    "\n",
    "    return long_df\n",
    "\n",
    "def show_viz(results):\n",
    "    rideshare_shared_fares,rideshare_fares,taxi_fares = results[2:5]\n",
    "    fare_dict = {'Shared_Rideshare_Dist':rideshare_shared_fares, \n",
    "                 'Rideshare_Dist': rideshare_fares, 'Taxi_Dist': taxi_fares}\n",
    "    predictions = results[5]\n",
    "    fare_dict['Shared_Rideshare_Dist'].plot.kde()\n",
    "    fare_dict['Rideshare_Dist'].plot.kde()\n",
    "    fare_dict['Taxi_Dist'].plot.kde()\n",
    "    print(fare_dict['Taxi_Dist'].max())\n",
    "\n",
    "    \n",
    "    \n",
    "    long_df = build_df_for_altair(fare_dict)\n",
    "    \n",
    "    pred_df = pd.DataFrame(predictions)\n",
    "    pred_df['hour'] = [i for i in range(len(pred_df))]\n",
    "    pred_df = pred_df.melt(id_vars = \"hour\").rename(columns = {\"variable\":\"parameter\"})\n",
    "\n",
    "    domain = ['Rideshare_Dist','Shared_Rideshare_Dist', 'Taxi_Dist']\n",
    "    domain2 = ['Rideshare_regular_price_estimate', 'Rideshare_shared_price_estimate', 'Taxi_price_estimate']\n",
    "    range_ = ['red', 'green', 'blue']\n",
    "    #range2 = ['#a31818','#18a321','#184ea3']\n",
    "\n",
    "    # A dropdown filter\n",
    "    columns=['Rideshare_Dist','Shared_Rideshare_Dist','Taxi_Dist']\n",
    "    column_dropdown = alt.binding_select(options=columns)\n",
    "    column_select = alt.selection_single(\n",
    "        fields=['parameter'],\n",
    "        on='doubleclick',\n",
    "        clear=False, \n",
    "        bind=column_dropdown,\n",
    "        name=\"Ride Type\",\n",
    "        init={'parameter': \"Rideshare_Dist\"}\n",
    "    )\n",
    "\n",
    "    hist = alt.Chart(long_df).mark_area(point=False, size = 4).encode(\n",
    "        alt.X('x',title='Ride Cost (Dollars)'),\n",
    "        alt.Y('value',title='Density'),\n",
    "        color=alt.Color('parameter', scale = alt.Scale(range = range_, domain = domain),legend=None)\n",
    "    )\n",
    "\n",
    "\n",
    "    filter_columns = hist.add_selection(\n",
    "        column_select\n",
    "    ).encode(\n",
    "        opacity=alt.condition(column_select, alt.value(0.6), alt.value(0))\n",
    "    )\n",
    "\n",
    "\n",
    "    slider = alt.binding_range(min=0, max=9, step=1)\n",
    "    select_hour = alt.selection_single(name=\" \", fields=['hour'],\n",
    "                                       bind=slider, init={'hour': 0})\n",
    "\n",
    "    estimates = alt.Chart(pred_df).mark_rule(color='red').encode(\n",
    "        x='value',\n",
    "        size=alt.value(5),\n",
    "        color = alt.Color('parameter',scale = alt.Scale(range = range_, domain = domain2))\n",
    "    ).add_selection(select_hour).transform_filter(select_hour)\n",
    "\n",
    "\n",
    "\n",
    "    layer = estimates +filter_columns\n",
    "    layer.properties(\n",
    "        height=300,\n",
    "        width = 800,\n",
    "        title='Ridesharing Averages and Estimates'\n",
    "    ).configure_axis(\n",
    "        labelFontSize=16,\n",
    "        titleFontSize=16\n",
    "    ).configure_title(\n",
    "        fontSize=20,\n",
    "        font='Courier',\n",
    "    ).configure_legend(\n",
    "        strokeColor='gray',\n",
    "        fillColor='#EEEEEE',\n",
    "        padding=10,\n",
    "        cornerRadius=10,\n",
    "        orient='top-right',\n",
    "        symbolType = 'circle'\n",
    "    )\n",
    "    return layer"
   ]
  },
  {
   "cell_type": "markdown",
   "metadata": {},
   "source": [
    "## Fair Fare API\n",
    "\n",
    "Below is a live demo that runs the processing and visualization for a user entered trip.\n",
    "\n",
    "### Downtown-Downtown Trip"
   ]
  },
  {
   "cell_type": "code",
   "execution_count": 60,
   "metadata": {},
   "outputs": [],
   "source": [
    "USER_PARAMS = {\"pickup\": \"aquarium chicago\",\n",
    "               \"dropoff\": \"the bean cicago\",\n",
    "               \"forecast_hrs\":1}"
   ]
  },
  {
   "cell_type": "code",
   "execution_count": 85,
   "metadata": {},
   "outputs": [],
   "source": [
    "results = run_Fair_Fare(USER_PARAMS)"
   ]
  },
  {
   "cell_type": "code",
   "execution_count": 86,
   "metadata": {},
   "outputs": [
    {
     "name": "stdout",
     "output_type": "stream",
     "text": [
      "Rideshare_regular_price_estimate     9.25\n",
      "Rideshare_shared_price_estimate      5.78\n",
      "Taxi_price_estimate                 10.20\n",
      "Name: 0, dtype: float64\n"
     ]
    }
   ],
   "source": [
    "pd.set_option(\"display.precision\", 2)\n",
    "print(pd.DataFrame(results[5]).iloc[0])"
   ]
  },
  {
   "cell_type": "code",
   "execution_count": 87,
   "metadata": {},
   "outputs": [
    {
     "name": "stdout",
     "output_type": "stream",
     "text": [
      "16.5\n"
     ]
    },
    {
     "data": {
      "application/vnd.vegalite.v3+json": {
       "$schema": "https://vega.github.io/schema/vega-lite/v3.3.0.json",
       "config": {
        "mark": {
         "tooltip": null
        },
        "view": {
         "height": 300,
         "width": 400
        }
       },
       "datasets": {
        "data-0e929fa6c4290e3f644940b8c68ee1a7": [
         {
          "parameter": "Shared_Rideshare_Dist",
          "value": 3.8649418733808874e-63,
          "x": -10
         },
         {
          "parameter": "Shared_Rideshare_Dist",
          "value": 1.333815804487295e-55,
          "x": -9.195979899497488
         },
         {
          "parameter": "Shared_Rideshare_Dist",
          "value": 1.4523927530032724e-48,
          "x": -8.391959798994975
         },
         {
          "parameter": "Shared_Rideshare_Dist",
          "value": 4.99008116035811e-42,
          "x": -7.5879396984924625
         },
         {
          "parameter": "Shared_Rideshare_Dist",
          "value": 5.409616361185455e-36,
          "x": -6.78391959798995
         },
         {
          "parameter": "Shared_Rideshare_Dist",
          "value": 1.8503788103809765e-30,
          "x": -5.979899497487437
         },
         {
          "parameter": "Shared_Rideshare_Dist",
          "value": 1.9970555612405334e-25,
          "x": -5.175879396984924
         },
         {
          "parameter": "Shared_Rideshare_Dist",
          "value": 6.800721198413044e-21,
          "x": -4.371859296482412
         },
         {
          "parameter": "Shared_Rideshare_Dist",
          "value": 7.307269347840376e-17,
          "x": -3.567839195979899
         },
         {
          "parameter": "Shared_Rideshare_Dist",
          "value": 2.4773683367131583e-13,
          "x": -2.7638190954773867
         },
         {
          "parameter": "Shared_Rideshare_Dist",
          "value": 2.6500945634891455e-10,
          "x": -1.9597989949748733
         },
         {
          "parameter": "Shared_Rideshare_Dist",
          "value": 8.944735125386586e-08,
          "x": -1.1557788944723608
         },
         {
          "parameter": "Shared_Rideshare_Dist",
          "value": 9.525966061275546e-06,
          "x": -0.3517587939698483
         },
         {
          "parameter": "Shared_Rideshare_Dist",
          "value": 0.00032010309389614116,
          "x": 0.45226130653266416
         },
         {
          "parameter": "Shared_Rideshare_Dist",
          "value": 0.003395076718866929,
          "x": 1.2562814070351767
         },
         {
          "parameter": "Shared_Rideshare_Dist",
          "value": 0.011497335748070757,
          "x": 2.060301507537689
         },
         {
          "parameter": "Shared_Rideshare_Dist",
          "value": 0.01745426717595171,
          "x": 2.8643216080402016
         },
         {
          "parameter": "Shared_Rideshare_Dist",
          "value": 0.06980388920487905,
          "x": 3.668341708542714
         },
         {
          "parameter": "Shared_Rideshare_Dist",
          "value": 0.2503410789359898,
          "x": 4.472361809045227
         },
         {
          "parameter": "Shared_Rideshare_Dist",
          "value": 0.30161738437642277,
          "x": 5.276381909547739
         },
         {
          "parameter": "Shared_Rideshare_Dist",
          "value": 0.1439677774179448,
          "x": 6.080402010050253
         },
         {
          "parameter": "Shared_Rideshare_Dist",
          "value": 0.1465902860356907,
          "x": 6.884422110552766
         },
         {
          "parameter": "Shared_Rideshare_Dist",
          "value": 0.18246156581197032,
          "x": 7.688442211055278
         },
         {
          "parameter": "Shared_Rideshare_Dist",
          "value": 0.07996885344890647,
          "x": 8.49246231155779
         },
         {
          "parameter": "Shared_Rideshare_Dist",
          "value": 0.016642216336338493,
          "x": 9.296482412060303
         },
         {
          "parameter": "Shared_Rideshare_Dist",
          "value": 0.009400043478864395,
          "x": 10.100502512562816
         },
         {
          "parameter": "Shared_Rideshare_Dist",
          "value": 0.00445751687157502,
          "x": 10.904522613065328
         },
         {
          "parameter": "Shared_Rideshare_Dist",
          "value": 0.0013081213762881128,
          "x": 11.70854271356784
         },
         {
          "parameter": "Shared_Rideshare_Dist",
          "value": 0.0011608280994172123,
          "x": 12.512562814070353
         },
         {
          "parameter": "Shared_Rideshare_Dist",
          "value": 0.0007103584214528829,
          "x": 13.316582914572866
         },
         {
          "parameter": "Shared_Rideshare_Dist",
          "value": 0.000671886588953646,
          "x": 14.120603015075378
         },
         {
          "parameter": "Shared_Rideshare_Dist",
          "value": 0.0011245288682192552,
          "x": 14.92462311557789
         },
         {
          "parameter": "Shared_Rideshare_Dist",
          "value": 0.0007001990953646119,
          "x": 15.728643216080403
         },
         {
          "parameter": "Shared_Rideshare_Dist",
          "value": 0.0001382540925324354,
          "x": 16.532663316582916
         },
         {
          "parameter": "Shared_Rideshare_Dist",
          "value": 8.614498961173715e-06,
          "x": 17.33668341708543
         },
         {
          "parameter": "Shared_Rideshare_Dist",
          "value": 1.6936319591882394e-07,
          "x": 18.14070351758794
         },
         {
          "parameter": "Shared_Rideshare_Dist",
          "value": 1.050614585306663e-09,
          "x": 18.944723618090453
         },
         {
          "parameter": "Shared_Rideshare_Dist",
          "value": 2.0563788766018736e-12,
          "x": 19.748743718592966
         },
         {
          "parameter": "Shared_Rideshare_Dist",
          "value": 1.2699837509905928e-15,
          "x": 20.55276381909548
         },
         {
          "parameter": "Shared_Rideshare_Dist",
          "value": 2.4747339505481986e-19,
          "x": 21.35678391959799
         },
         {
          "parameter": "Shared_Rideshare_Dist",
          "value": 1.5215778946269437e-23,
          "x": 22.160804020100507
         },
         {
          "parameter": "Shared_Rideshare_Dist",
          "value": 2.951856124698386e-28,
          "x": 22.96482412060302
         },
         {
          "parameter": "Shared_Rideshare_Dist",
          "value": 1.806889122020186e-33,
          "x": 23.76884422110553
         },
         {
          "parameter": "Shared_Rideshare_Dist",
          "value": 3.489820926663383e-39,
          "x": 24.572864321608044
         },
         {
          "parameter": "Shared_Rideshare_Dist",
          "value": 2.126718963450441e-45,
          "x": 25.376884422110557
         },
         {
          "parameter": "Shared_Rideshare_Dist",
          "value": 4.089332145282595e-52,
          "x": 26.18090452261307
         },
         {
          "parameter": "Shared_Rideshare_Dist",
          "value": 2.4810184336746365e-59,
          "x": 26.98492462311558
         },
         {
          "parameter": "Shared_Rideshare_Dist",
          "value": 4.749445598000602e-67,
          "x": 27.788944723618094
         },
         {
          "parameter": "Shared_Rideshare_Dist",
          "value": 2.8687398459432773e-75,
          "x": 28.592964824120607
         },
         {
          "parameter": "Shared_Rideshare_Dist",
          "value": 5.46732304619712e-84,
          "x": 29.39698492462312
         },
         {
          "parameter": "Shared_Rideshare_Dist",
          "value": 3.287710945352656e-93,
          "x": 30.20100502512563
         },
         {
          "parameter": "Shared_Rideshare_Dist",
          "value": 6.238035487726526e-103,
          "x": 31.005025125628144
         },
         {
          "parameter": "Shared_Rideshare_Dist",
          "value": 3.734542244757075e-113,
          "x": 31.809045226130657
         },
         {
          "parameter": "Shared_Rideshare_Dist",
          "value": 7.0544349591998305e-124,
          "x": 32.61306532663317
         },
         {
          "parameter": "Shared_Rideshare_Dist",
          "value": 4.204577991340711e-135,
          "x": 33.41708542713568
         },
         {
          "parameter": "Shared_Rideshare_Dist",
          "value": 7.907112420235075e-147,
          "x": 34.221105527638194
         },
         {
          "parameter": "Shared_Rideshare_Dist",
          "value": 4.691899878699534e-159,
          "x": 35.02512562814071
         },
         {
          "parameter": "Shared_Rideshare_Dist",
          "value": 8.784456173349487e-172,
          "x": 35.82914572864322
         },
         {
          "parameter": "Shared_Rideshare_Dist",
          "value": 5.189390430225762e-185,
          "x": 36.63316582914573
         },
         {
          "parameter": "Shared_Rideshare_Dist",
          "value": 9.67282063363476e-199,
          "x": 37.437185929648244
         },
         {
          "parameter": "Shared_Rideshare_Dist",
          "value": 5.688859976648404e-213,
          "x": 38.24120603015076
         },
         {
          "parameter": "Shared_Rideshare_Dist",
          "value": 1.0556809286713124e-227,
          "x": 39.04522613065327
         },
         {
          "parameter": "Shared_Rideshare_Dist",
          "value": 6.181237479762374e-243,
          "x": 39.84924623115578
         },
         {
          "parameter": "Shared_Rideshare_Dist",
          "value": 1.1419668694748128e-258,
          "x": 40.653266331658294
         },
         {
          "parameter": "Shared_Rideshare_Dist",
          "value": 6.6568213421155e-275,
          "x": 41.45728643216081
         },
         {
          "parameter": "Shared_Rideshare_Dist",
          "value": 1.2243782894316649e-291,
          "x": 42.26130653266332
         },
         {
          "parameter": "Shared_Rideshare_Dist",
          "value": 7.10558208176142e-309,
          "x": 43.06532663316583
         },
         {
          "parameter": "Shared_Rideshare_Dist",
          "value": 0,
          "x": 43.869346733668344
         },
         {
          "parameter": "Shared_Rideshare_Dist",
          "value": 0,
          "x": 44.67336683417086
         },
         {
          "parameter": "Shared_Rideshare_Dist",
          "value": 0,
          "x": 45.47738693467337
         },
         {
          "parameter": "Shared_Rideshare_Dist",
          "value": 0,
          "x": 46.28140703517588
         },
         {
          "parameter": "Shared_Rideshare_Dist",
          "value": 0,
          "x": 47.085427135678394
         },
         {
          "parameter": "Shared_Rideshare_Dist",
          "value": 0,
          "x": 47.88944723618091
         },
         {
          "parameter": "Shared_Rideshare_Dist",
          "value": 0,
          "x": 48.69346733668342
         },
         {
          "parameter": "Shared_Rideshare_Dist",
          "value": 0,
          "x": 49.49748743718593
         },
         {
          "parameter": "Shared_Rideshare_Dist",
          "value": 0,
          "x": 50.301507537688444
         },
         {
          "parameter": "Shared_Rideshare_Dist",
          "value": 0,
          "x": 51.10552763819096
         },
         {
          "parameter": "Shared_Rideshare_Dist",
          "value": 0,
          "x": 51.90954773869347
         },
         {
          "parameter": "Shared_Rideshare_Dist",
          "value": 0,
          "x": 52.71356783919598
         },
         {
          "parameter": "Shared_Rideshare_Dist",
          "value": 0,
          "x": 53.517587939698494
         },
         {
          "parameter": "Shared_Rideshare_Dist",
          "value": 0,
          "x": 54.32160804020101
         },
         {
          "parameter": "Shared_Rideshare_Dist",
          "value": 0,
          "x": 55.125628140703526
         },
         {
          "parameter": "Shared_Rideshare_Dist",
          "value": 0,
          "x": 55.92964824120604
         },
         {
          "parameter": "Shared_Rideshare_Dist",
          "value": 0,
          "x": 56.73366834170855
         },
         {
          "parameter": "Shared_Rideshare_Dist",
          "value": 0,
          "x": 57.53768844221106
         },
         {
          "parameter": "Shared_Rideshare_Dist",
          "value": 0,
          "x": 58.341708542713576
         },
         {
          "parameter": "Shared_Rideshare_Dist",
          "value": 0,
          "x": 59.14572864321609
         },
         {
          "parameter": "Shared_Rideshare_Dist",
          "value": 0,
          "x": 59.9497487437186
         },
         {
          "parameter": "Shared_Rideshare_Dist",
          "value": 0,
          "x": 60.75376884422111
         },
         {
          "parameter": "Shared_Rideshare_Dist",
          "value": 0,
          "x": 61.557788944723626
         },
         {
          "parameter": "Shared_Rideshare_Dist",
          "value": 0,
          "x": 62.36180904522614
         },
         {
          "parameter": "Shared_Rideshare_Dist",
          "value": 0,
          "x": 63.16582914572865
         },
         {
          "parameter": "Shared_Rideshare_Dist",
          "value": 0,
          "x": 63.96984924623116
         },
         {
          "parameter": "Shared_Rideshare_Dist",
          "value": 0,
          "x": 64.77386934673368
         },
         {
          "parameter": "Shared_Rideshare_Dist",
          "value": 0,
          "x": 65.57788944723619
         },
         {
          "parameter": "Shared_Rideshare_Dist",
          "value": 0,
          "x": 66.3819095477387
         },
         {
          "parameter": "Shared_Rideshare_Dist",
          "value": 0,
          "x": 67.18592964824121
         },
         {
          "parameter": "Shared_Rideshare_Dist",
          "value": 0,
          "x": 67.98994974874373
         },
         {
          "parameter": "Shared_Rideshare_Dist",
          "value": 0,
          "x": 68.79396984924624
         },
         {
          "parameter": "Shared_Rideshare_Dist",
          "value": 0,
          "x": 69.59798994974875
         },
         {
          "parameter": "Shared_Rideshare_Dist",
          "value": 0,
          "x": 70.40201005025126
         },
         {
          "parameter": "Shared_Rideshare_Dist",
          "value": 0,
          "x": 71.20603015075378
         },
         {
          "parameter": "Shared_Rideshare_Dist",
          "value": 0,
          "x": 72.01005025125629
         },
         {
          "parameter": "Shared_Rideshare_Dist",
          "value": 0,
          "x": 72.8140703517588
         },
         {
          "parameter": "Shared_Rideshare_Dist",
          "value": 0,
          "x": 73.61809045226131
         },
         {
          "parameter": "Shared_Rideshare_Dist",
          "value": 0,
          "x": 74.42211055276383
         },
         {
          "parameter": "Shared_Rideshare_Dist",
          "value": 0,
          "x": 75.22613065326634
         },
         {
          "parameter": "Shared_Rideshare_Dist",
          "value": 0,
          "x": 76.03015075376885
         },
         {
          "parameter": "Shared_Rideshare_Dist",
          "value": 0,
          "x": 76.83417085427136
         },
         {
          "parameter": "Shared_Rideshare_Dist",
          "value": 0,
          "x": 77.63819095477388
         },
         {
          "parameter": "Shared_Rideshare_Dist",
          "value": 0,
          "x": 78.44221105527639
         },
         {
          "parameter": "Shared_Rideshare_Dist",
          "value": 0,
          "x": 79.2462311557789
         },
         {
          "parameter": "Shared_Rideshare_Dist",
          "value": 0,
          "x": 80.05025125628141
         },
         {
          "parameter": "Shared_Rideshare_Dist",
          "value": 0,
          "x": 80.85427135678393
         },
         {
          "parameter": "Shared_Rideshare_Dist",
          "value": 0,
          "x": 81.65829145728644
         },
         {
          "parameter": "Shared_Rideshare_Dist",
          "value": 0,
          "x": 82.46231155778895
         },
         {
          "parameter": "Shared_Rideshare_Dist",
          "value": 0,
          "x": 83.26633165829146
         },
         {
          "parameter": "Shared_Rideshare_Dist",
          "value": 0,
          "x": 84.07035175879398
         },
         {
          "parameter": "Shared_Rideshare_Dist",
          "value": 0,
          "x": 84.87437185929649
         },
         {
          "parameter": "Shared_Rideshare_Dist",
          "value": 0,
          "x": 85.678391959799
         },
         {
          "parameter": "Shared_Rideshare_Dist",
          "value": 0,
          "x": 86.48241206030151
         },
         {
          "parameter": "Shared_Rideshare_Dist",
          "value": 0,
          "x": 87.28643216080403
         },
         {
          "parameter": "Shared_Rideshare_Dist",
          "value": 0,
          "x": 88.09045226130654
         },
         {
          "parameter": "Shared_Rideshare_Dist",
          "value": 0,
          "x": 88.89447236180905
         },
         {
          "parameter": "Shared_Rideshare_Dist",
          "value": 0,
          "x": 89.69849246231156
         },
         {
          "parameter": "Shared_Rideshare_Dist",
          "value": 0,
          "x": 90.50251256281408
         },
         {
          "parameter": "Shared_Rideshare_Dist",
          "value": 0,
          "x": 91.30653266331659
         },
         {
          "parameter": "Shared_Rideshare_Dist",
          "value": 0,
          "x": 92.1105527638191
         },
         {
          "parameter": "Shared_Rideshare_Dist",
          "value": 0,
          "x": 92.91457286432161
         },
         {
          "parameter": "Shared_Rideshare_Dist",
          "value": 0,
          "x": 93.71859296482413
         },
         {
          "parameter": "Shared_Rideshare_Dist",
          "value": 0,
          "x": 94.52261306532664
         },
         {
          "parameter": "Shared_Rideshare_Dist",
          "value": 0,
          "x": 95.32663316582915
         },
         {
          "parameter": "Shared_Rideshare_Dist",
          "value": 0,
          "x": 96.13065326633166
         },
         {
          "parameter": "Shared_Rideshare_Dist",
          "value": 0,
          "x": 96.93467336683418
         },
         {
          "parameter": "Shared_Rideshare_Dist",
          "value": 0,
          "x": 97.73869346733669
         },
         {
          "parameter": "Shared_Rideshare_Dist",
          "value": 0,
          "x": 98.5427135678392
         },
         {
          "parameter": "Shared_Rideshare_Dist",
          "value": 0,
          "x": 99.34673366834171
         },
         {
          "parameter": "Shared_Rideshare_Dist",
          "value": 0,
          "x": 100.15075376884423
         },
         {
          "parameter": "Shared_Rideshare_Dist",
          "value": 0,
          "x": 100.95477386934674
         },
         {
          "parameter": "Shared_Rideshare_Dist",
          "value": 0,
          "x": 101.75879396984925
         },
         {
          "parameter": "Shared_Rideshare_Dist",
          "value": 0,
          "x": 102.56281407035176
         },
         {
          "parameter": "Shared_Rideshare_Dist",
          "value": 0,
          "x": 103.36683417085428
         },
         {
          "parameter": "Shared_Rideshare_Dist",
          "value": 0,
          "x": 104.17085427135679
         },
         {
          "parameter": "Shared_Rideshare_Dist",
          "value": 0,
          "x": 104.9748743718593
         },
         {
          "parameter": "Shared_Rideshare_Dist",
          "value": 0,
          "x": 105.77889447236181
         },
         {
          "parameter": "Shared_Rideshare_Dist",
          "value": 0,
          "x": 106.58291457286433
         },
         {
          "parameter": "Shared_Rideshare_Dist",
          "value": 0,
          "x": 107.38693467336684
         },
         {
          "parameter": "Shared_Rideshare_Dist",
          "value": 0,
          "x": 108.19095477386935
         },
         {
          "parameter": "Shared_Rideshare_Dist",
          "value": 0,
          "x": 108.99497487437186
         },
         {
          "parameter": "Shared_Rideshare_Dist",
          "value": 0,
          "x": 109.79899497487438
         },
         {
          "parameter": "Shared_Rideshare_Dist",
          "value": 0,
          "x": 110.60301507537689
         },
         {
          "parameter": "Shared_Rideshare_Dist",
          "value": 0,
          "x": 111.4070351758794
         },
         {
          "parameter": "Shared_Rideshare_Dist",
          "value": 0,
          "x": 112.21105527638191
         },
         {
          "parameter": "Shared_Rideshare_Dist",
          "value": 0,
          "x": 113.01507537688443
         },
         {
          "parameter": "Shared_Rideshare_Dist",
          "value": 0,
          "x": 113.81909547738694
         },
         {
          "parameter": "Shared_Rideshare_Dist",
          "value": 0,
          "x": 114.62311557788945
         },
         {
          "parameter": "Shared_Rideshare_Dist",
          "value": 0,
          "x": 115.42713567839196
         },
         {
          "parameter": "Shared_Rideshare_Dist",
          "value": 0,
          "x": 116.23115577889448
         },
         {
          "parameter": "Shared_Rideshare_Dist",
          "value": 0,
          "x": 117.03517587939699
         },
         {
          "parameter": "Shared_Rideshare_Dist",
          "value": 0,
          "x": 117.8391959798995
         },
         {
          "parameter": "Shared_Rideshare_Dist",
          "value": 0,
          "x": 118.64321608040203
         },
         {
          "parameter": "Shared_Rideshare_Dist",
          "value": 0,
          "x": 119.44723618090453
         },
         {
          "parameter": "Shared_Rideshare_Dist",
          "value": 0,
          "x": 120.25125628140705
         },
         {
          "parameter": "Shared_Rideshare_Dist",
          "value": 0,
          "x": 121.05527638190955
         },
         {
          "parameter": "Shared_Rideshare_Dist",
          "value": 0,
          "x": 121.85929648241208
         },
         {
          "parameter": "Shared_Rideshare_Dist",
          "value": 0,
          "x": 122.66331658291458
         },
         {
          "parameter": "Shared_Rideshare_Dist",
          "value": 0,
          "x": 123.4673366834171
         },
         {
          "parameter": "Shared_Rideshare_Dist",
          "value": 0,
          "x": 124.2713567839196
         },
         {
          "parameter": "Shared_Rideshare_Dist",
          "value": 0,
          "x": 125.07537688442213
         },
         {
          "parameter": "Shared_Rideshare_Dist",
          "value": 0,
          "x": 125.87939698492463
         },
         {
          "parameter": "Shared_Rideshare_Dist",
          "value": 0,
          "x": 126.68341708542715
         },
         {
          "parameter": "Shared_Rideshare_Dist",
          "value": 0,
          "x": 127.48743718592965
         },
         {
          "parameter": "Shared_Rideshare_Dist",
          "value": 0,
          "x": 128.29145728643218
         },
         {
          "parameter": "Shared_Rideshare_Dist",
          "value": 0,
          "x": 129.09547738693468
         },
         {
          "parameter": "Shared_Rideshare_Dist",
          "value": 0,
          "x": 129.8994974874372
         },
         {
          "parameter": "Shared_Rideshare_Dist",
          "value": 0,
          "x": 130.7035175879397
         },
         {
          "parameter": "Shared_Rideshare_Dist",
          "value": 0,
          "x": 131.50753768844223
         },
         {
          "parameter": "Shared_Rideshare_Dist",
          "value": 0,
          "x": 132.31155778894473
         },
         {
          "parameter": "Shared_Rideshare_Dist",
          "value": 0,
          "x": 133.11557788944725
         },
         {
          "parameter": "Shared_Rideshare_Dist",
          "value": 0,
          "x": 133.91959798994975
         },
         {
          "parameter": "Shared_Rideshare_Dist",
          "value": 0,
          "x": 134.72361809045228
         },
         {
          "parameter": "Shared_Rideshare_Dist",
          "value": 0,
          "x": 135.52763819095478
         },
         {
          "parameter": "Shared_Rideshare_Dist",
          "value": 0,
          "x": 136.3316582914573
         },
         {
          "parameter": "Shared_Rideshare_Dist",
          "value": 0,
          "x": 137.1356783919598
         },
         {
          "parameter": "Shared_Rideshare_Dist",
          "value": 0,
          "x": 137.93969849246233
         },
         {
          "parameter": "Shared_Rideshare_Dist",
          "value": 0,
          "x": 138.74371859296483
         },
         {
          "parameter": "Shared_Rideshare_Dist",
          "value": 0,
          "x": 139.54773869346735
         },
         {
          "parameter": "Shared_Rideshare_Dist",
          "value": 0,
          "x": 140.35175879396985
         },
         {
          "parameter": "Shared_Rideshare_Dist",
          "value": 0,
          "x": 141.15577889447238
         },
         {
          "parameter": "Shared_Rideshare_Dist",
          "value": 0,
          "x": 141.95979899497488
         },
         {
          "parameter": "Shared_Rideshare_Dist",
          "value": 0,
          "x": 142.7638190954774
         },
         {
          "parameter": "Shared_Rideshare_Dist",
          "value": 0,
          "x": 143.5678391959799
         },
         {
          "parameter": "Shared_Rideshare_Dist",
          "value": 0,
          "x": 144.37185929648243
         },
         {
          "parameter": "Shared_Rideshare_Dist",
          "value": 0,
          "x": 145.17587939698493
         },
         {
          "parameter": "Shared_Rideshare_Dist",
          "value": 0,
          "x": 145.97989949748745
         },
         {
          "parameter": "Shared_Rideshare_Dist",
          "value": 0,
          "x": 146.78391959798995
         },
         {
          "parameter": "Shared_Rideshare_Dist",
          "value": 0,
          "x": 147.58793969849248
         },
         {
          "parameter": "Shared_Rideshare_Dist",
          "value": 0,
          "x": 148.39195979899498
         },
         {
          "parameter": "Shared_Rideshare_Dist",
          "value": 0,
          "x": 149.1959798994975
         },
         {
          "parameter": "Shared_Rideshare_Dist",
          "value": 0,
          "x": 150
         },
         {
          "parameter": "Rideshare_Dist",
          "value": 1.1628870062303259e-56,
          "x": -10
         },
         {
          "parameter": "Rideshare_Dist",
          "value": 3.7137162466124295e-51,
          "x": -9.195979899497488
         },
         {
          "parameter": "Rideshare_Dist",
          "value": 5.900905787553821e-46,
          "x": -8.391959798994975
         },
         {
          "parameter": "Rideshare_Dist",
          "value": 4.665169285260297e-41,
          "x": -7.5879396984924625
         },
         {
          "parameter": "Rideshare_Dist",
          "value": 1.8350795603522726e-36,
          "x": -6.78391959798995
         },
         {
          "parameter": "Rideshare_Dist",
          "value": 3.591543672845457e-32,
          "x": -5.979899497487437
         },
         {
          "parameter": "Rideshare_Dist",
          "value": 3.4974069533896217e-28,
          "x": -5.175879396984924
         },
         {
          "parameter": "Rideshare_Dist",
          "value": 1.6945326847245022e-24,
          "x": -4.371859296482412
         },
         {
          "parameter": "Rideshare_Dist",
          "value": 4.085004081752875e-21,
          "x": -3.567839195979899
         },
         {
          "parameter": "Rideshare_Dist",
          "value": 4.8997486919920015e-18,
          "x": -2.7638190954773867
         },
         {
          "parameter": "Rideshare_Dist",
          "value": 2.9241113224349946e-15,
          "x": -1.9597989949748733
         },
         {
          "parameter": "Rideshare_Dist",
          "value": 8.682663281698587e-13,
          "x": -1.1557788944723608
         },
         {
          "parameter": "Rideshare_Dist",
          "value": 1.2827809481528198e-10,
          "x": -0.3517587939698483
         },
         {
          "parameter": "Rideshare_Dist",
          "value": 9.429874104620591e-09,
          "x": 0.45226130653266416
         },
         {
          "parameter": "Rideshare_Dist",
          "value": 3.4500886199548536e-07,
          "x": 1.2562814070351767
         },
         {
          "parameter": "Rideshare_Dist",
          "value": 6.297233465361649e-06,
          "x": 2.060301507537689
         },
         {
          "parameter": "Rideshare_Dist",
          "value": 5.85167979066877e-05,
          "x": 2.8643216080402016
         },
         {
          "parameter": "Rideshare_Dist",
          "value": 0.0003228441808350263,
          "x": 3.668341708542714
         },
         {
          "parameter": "Rideshare_Dist",
          "value": 0.0018872834460392951,
          "x": 4.472361809045227
         },
         {
          "parameter": "Rideshare_Dist",
          "value": 0.013481765621828026,
          "x": 5.276381909547739
         },
         {
          "parameter": "Rideshare_Dist",
          "value": 0.0628724274728454,
          "x": 6.080402010050253
         },
         {
          "parameter": "Rideshare_Dist",
          "value": 0.15239041288691488,
          "x": 6.884422110552766
         },
         {
          "parameter": "Rideshare_Dist",
          "value": 0.1933713443056759,
          "x": 7.688442211055278
         },
         {
          "parameter": "Rideshare_Dist",
          "value": 0.1676114676619642,
          "x": 8.49246231155779
         },
         {
          "parameter": "Rideshare_Dist",
          "value": 0.18490316351524416,
          "x": 9.296482412060303
         },
         {
          "parameter": "Rideshare_Dist",
          "value": 0.2032017266883917,
          "x": 10.100502512562816
         },
         {
          "parameter": "Rideshare_Dist",
          "value": 0.13137102013043517,
          "x": 10.904522613065328
         },
         {
          "parameter": "Rideshare_Dist",
          "value": 0.05083765672111382,
          "x": 11.70854271356784
         },
         {
          "parameter": "Rideshare_Dist",
          "value": 0.02242506069102947,
          "x": 12.512562814070353
         },
         {
          "parameter": "Rideshare_Dist",
          "value": 0.015011180908675483,
          "x": 13.316582914572866
         },
         {
          "parameter": "Rideshare_Dist",
          "value": 0.011253717979250018,
          "x": 14.120603015075378
         },
         {
          "parameter": "Rideshare_Dist",
          "value": 0.01169415291168824,
          "x": 14.92462311557789
         },
         {
          "parameter": "Rideshare_Dist",
          "value": 0.009842024469530763,
          "x": 15.728643216080403
         },
         {
          "parameter": "Rideshare_Dist",
          "value": 0.005110040266920099,
          "x": 16.532663316582916
         },
         {
          "parameter": "Rideshare_Dist",
          "value": 0.002440736998828767,
          "x": 17.33668341708543
         },
         {
          "parameter": "Rideshare_Dist",
          "value": 0.0014836475365190586,
          "x": 18.14070351758794
         },
         {
          "parameter": "Rideshare_Dist",
          "value": 0.0006621304447847357,
          "x": 18.944723618090453
         },
         {
          "parameter": "Rideshare_Dist",
          "value": 0.00017082944331197044,
          "x": 19.748743718592966
         },
         {
          "parameter": "Rideshare_Dist",
          "value": 8.548212580831208e-05,
          "x": 20.55276381909548
         },
         {
          "parameter": "Rideshare_Dist",
          "value": 0.00017266379966530528,
          "x": 21.35678391959799
         },
         {
          "parameter": "Rideshare_Dist",
          "value": 0.00022085204870684274,
          "x": 22.160804020100507
         },
         {
          "parameter": "Rideshare_Dist",
          "value": 0.00014147233055705595,
          "x": 22.96482412060302
         },
         {
          "parameter": "Rideshare_Dist",
          "value": 4.509706502882373e-05,
          "x": 23.76884422110553
         },
         {
          "parameter": "Rideshare_Dist",
          "value": 7.152624909708047e-06,
          "x": 24.572864321608044
         },
         {
          "parameter": "Rideshare_Dist",
          "value": 5.64444743303271e-07,
          "x": 25.376884422110557
         },
         {
          "parameter": "Rideshare_Dist",
          "value": 2.2164229788179016e-08,
          "x": 26.18090452261307
         },
         {
          "parameter": "Rideshare_Dist",
          "value": 6.473856517682144e-10,
          "x": 26.98492462311558
         },
         {
          "parameter": "Rideshare_Dist",
          "value": 1.2293109769767275e-08,
          "x": 27.788944723618094
         },
         {
          "parameter": "Rideshare_Dist",
          "value": 3.504225064574727e-07,
          "x": 28.592964824120607
         },
         {
          "parameter": "Rideshare_Dist",
          "value": 4.971754087783643e-06,
          "x": 29.39698492462312
         },
         {
          "parameter": "Rideshare_Dist",
          "value": 3.509668324024525e-05,
          "x": 30.20100502512563
         },
         {
          "parameter": "Rideshare_Dist",
          "value": 0.00012327110134993023,
          "x": 31.005025125628144
         },
         {
          "parameter": "Rideshare_Dist",
          "value": 0.00021542457249380245,
          "x": 31.809045226130657
         },
         {
          "parameter": "Rideshare_Dist",
          "value": 0.0001873130204222876,
          "x": 32.61306532663317
         },
         {
          "parameter": "Rideshare_Dist",
          "value": 8.103627276509017e-05,
          "x": 33.41708542713568
         },
         {
          "parameter": "Rideshare_Dist",
          "value": 1.7443342642264868e-05,
          "x": 34.221105527638194
         },
         {
          "parameter": "Rideshare_Dist",
          "value": 1.8681800478819698e-06,
          "x": 35.02512562814071
         },
         {
          "parameter": "Rideshare_Dist",
          "value": 9.955120259969236e-08,
          "x": 35.82914572864322
         },
         {
          "parameter": "Rideshare_Dist",
          "value": 2.6394476669185696e-09,
          "x": 36.63316582914573
         },
         {
          "parameter": "Rideshare_Dist",
          "value": 3.4819165944017734e-11,
          "x": 37.437185929648244
         },
         {
          "parameter": "Rideshare_Dist",
          "value": 2.2854011189245095e-13,
          "x": 38.24120603015076
         },
         {
          "parameter": "Rideshare_Dist",
          "value": 7.463546982723305e-16,
          "x": 39.04522613065327
         },
         {
          "parameter": "Rideshare_Dist",
          "value": 1.2127376758509158e-18,
          "x": 39.84924623115578
         },
         {
          "parameter": "Rideshare_Dist",
          "value": 9.80454021777051e-22,
          "x": 40.653266331658294
         },
         {
          "parameter": "Rideshare_Dist",
          "value": 3.943904210418404e-25,
          "x": 41.45728643216081
         },
         {
          "parameter": "Rideshare_Dist",
          "value": 7.893402478448723e-29,
          "x": 42.26130653266332
         },
         {
          "parameter": "Rideshare_Dist",
          "value": 7.860332195377677e-33,
          "x": 43.06532663316583
         },
         {
          "parameter": "Rideshare_Dist",
          "value": 3.894541331291262e-37,
          "x": 43.869346733668344
         },
         {
          "parameter": "Rideshare_Dist",
          "value": 9.600867967179614e-42,
          "x": 44.67336683417086
         },
         {
          "parameter": "Rideshare_Dist",
          "value": 1.1776153034221918e-46,
          "x": 45.47738693467337
         },
         {
          "parameter": "Rideshare_Dist",
          "value": 7.18679319468473e-52,
          "x": 46.28140703517588
         },
         {
          "parameter": "Rideshare_Dist",
          "value": 2.182255609408693e-57,
          "x": 47.085427135678394
         },
         {
          "parameter": "Rideshare_Dist",
          "value": 3.296968916258122e-63,
          "x": 47.88944723618091
         },
         {
          "parameter": "Rideshare_Dist",
          "value": 2.4783512073709147e-69,
          "x": 48.69346733668342
         },
         {
          "parameter": "Rideshare_Dist",
          "value": 9.269357055608675e-76,
          "x": 49.49748743718593
         },
         {
          "parameter": "Rideshare_Dist",
          "value": 1.7249445396775383e-82,
          "x": 50.301507537688444
         },
         {
          "parameter": "Rideshare_Dist",
          "value": 1.5971269000411188e-89,
          "x": 51.10552763819096
         },
         {
          "parameter": "Rideshare_Dist",
          "value": 7.357706778961155e-97,
          "x": 51.90954773869347
         },
         {
          "parameter": "Rideshare_Dist",
          "value": 1.6864920237246027e-104,
          "x": 52.71356783919598
         },
         {
          "parameter": "Rideshare_Dist",
          "value": 1.9233790016310601e-112,
          "x": 53.517587939698494
         },
         {
          "parameter": "Rideshare_Dist",
          "value": 1.0914006615685328e-120,
          "x": 54.32160804020101
         },
         {
          "parameter": "Rideshare_Dist",
          "value": 3.08135913443768e-129,
          "x": 55.125628140703526
         },
         {
          "parameter": "Rideshare_Dist",
          "value": 4.3285176025084456e-138,
          "x": 55.92964824120604
         },
         {
          "parameter": "Rideshare_Dist",
          "value": 3.0253443983375243e-147,
          "x": 56.73366834170855
         },
         {
          "parameter": "Rideshare_Dist",
          "value": 1.052081096410595e-156,
          "x": 57.53768844221106
         },
         {
          "parameter": "Rideshare_Dist",
          "value": 1.82038134943685e-166,
          "x": 58.341708542713576
         },
         {
          "parameter": "Rideshare_Dist",
          "value": 1.5671634735079463e-176,
          "x": 59.14572864321609
         },
         {
          "parameter": "Rideshare_Dist",
          "value": 6.712819781318984e-187,
          "x": 59.9497487437186
         },
         {
          "parameter": "Rideshare_Dist",
          "value": 1.43065342340265e-197,
          "x": 60.75376884422111
         },
         {
          "parameter": "Rideshare_Dist",
          "value": 1.517059633033769e-208,
          "x": 61.557788944723626
         },
         {
          "parameter": "Rideshare_Dist",
          "value": 8.004046998991545e-220,
          "x": 62.36180904522614
         },
         {
          "parameter": "Rideshare_Dist",
          "value": 2.1011418414300748e-231,
          "x": 63.16582914572865
         },
         {
          "parameter": "Rideshare_Dist",
          "value": 2.7443523866810247e-243,
          "x": 63.96984924623116
         },
         {
          "parameter": "Rideshare_Dist",
          "value": 1.783459058749571e-255,
          "x": 64.77386934673368
         },
         {
          "parameter": "Rideshare_Dist",
          "value": 5.766671013789432e-268,
          "x": 65.57788944723619
         },
         {
          "parameter": "Rideshare_Dist",
          "value": 9.277393360604814e-281,
          "x": 66.3819095477387
         },
         {
          "parameter": "Rideshare_Dist",
          "value": 7.426180993477578e-294,
          "x": 67.18592964824121
         },
         {
          "parameter": "Rideshare_Dist",
          "value": 2.957630063589305e-307,
          "x": 67.98994974874373
         },
         {
          "parameter": "Rideshare_Dist",
          "value": 5.86e-321,
          "x": 68.79396984924624
         },
         {
          "parameter": "Rideshare_Dist",
          "value": 0,
          "x": 69.59798994974875
         },
         {
          "parameter": "Rideshare_Dist",
          "value": 0,
          "x": 70.40201005025126
         },
         {
          "parameter": "Rideshare_Dist",
          "value": 0,
          "x": 71.20603015075378
         },
         {
          "parameter": "Rideshare_Dist",
          "value": 0,
          "x": 72.01005025125629
         },
         {
          "parameter": "Rideshare_Dist",
          "value": 0,
          "x": 72.8140703517588
         },
         {
          "parameter": "Rideshare_Dist",
          "value": 0,
          "x": 73.61809045226131
         },
         {
          "parameter": "Rideshare_Dist",
          "value": 0,
          "x": 74.42211055276383
         },
         {
          "parameter": "Rideshare_Dist",
          "value": 0,
          "x": 75.22613065326634
         },
         {
          "parameter": "Rideshare_Dist",
          "value": 0,
          "x": 76.03015075376885
         },
         {
          "parameter": "Rideshare_Dist",
          "value": 0,
          "x": 76.83417085427136
         },
         {
          "parameter": "Rideshare_Dist",
          "value": 0,
          "x": 77.63819095477388
         },
         {
          "parameter": "Rideshare_Dist",
          "value": 0,
          "x": 78.44221105527639
         },
         {
          "parameter": "Rideshare_Dist",
          "value": 0,
          "x": 79.2462311557789
         },
         {
          "parameter": "Rideshare_Dist",
          "value": 0,
          "x": 80.05025125628141
         },
         {
          "parameter": "Rideshare_Dist",
          "value": 0,
          "x": 80.85427135678393
         },
         {
          "parameter": "Rideshare_Dist",
          "value": 0,
          "x": 81.65829145728644
         },
         {
          "parameter": "Rideshare_Dist",
          "value": 0,
          "x": 82.46231155778895
         },
         {
          "parameter": "Rideshare_Dist",
          "value": 0,
          "x": 83.26633165829146
         },
         {
          "parameter": "Rideshare_Dist",
          "value": 0,
          "x": 84.07035175879398
         },
         {
          "parameter": "Rideshare_Dist",
          "value": 0,
          "x": 84.87437185929649
         },
         {
          "parameter": "Rideshare_Dist",
          "value": 0,
          "x": 85.678391959799
         },
         {
          "parameter": "Rideshare_Dist",
          "value": 0,
          "x": 86.48241206030151
         },
         {
          "parameter": "Rideshare_Dist",
          "value": 0,
          "x": 87.28643216080403
         },
         {
          "parameter": "Rideshare_Dist",
          "value": 0,
          "x": 88.09045226130654
         },
         {
          "parameter": "Rideshare_Dist",
          "value": 0,
          "x": 88.89447236180905
         },
         {
          "parameter": "Rideshare_Dist",
          "value": 0,
          "x": 89.69849246231156
         },
         {
          "parameter": "Rideshare_Dist",
          "value": 0,
          "x": 90.50251256281408
         },
         {
          "parameter": "Rideshare_Dist",
          "value": 0,
          "x": 91.30653266331659
         },
         {
          "parameter": "Rideshare_Dist",
          "value": 0,
          "x": 92.1105527638191
         },
         {
          "parameter": "Rideshare_Dist",
          "value": 0,
          "x": 92.91457286432161
         },
         {
          "parameter": "Rideshare_Dist",
          "value": 0,
          "x": 93.71859296482413
         },
         {
          "parameter": "Rideshare_Dist",
          "value": 0,
          "x": 94.52261306532664
         },
         {
          "parameter": "Rideshare_Dist",
          "value": 0,
          "x": 95.32663316582915
         },
         {
          "parameter": "Rideshare_Dist",
          "value": 0,
          "x": 96.13065326633166
         },
         {
          "parameter": "Rideshare_Dist",
          "value": 0,
          "x": 96.93467336683418
         },
         {
          "parameter": "Rideshare_Dist",
          "value": 0,
          "x": 97.73869346733669
         },
         {
          "parameter": "Rideshare_Dist",
          "value": 0,
          "x": 98.5427135678392
         },
         {
          "parameter": "Rideshare_Dist",
          "value": 0,
          "x": 99.34673366834171
         },
         {
          "parameter": "Rideshare_Dist",
          "value": 0,
          "x": 100.15075376884423
         },
         {
          "parameter": "Rideshare_Dist",
          "value": 0,
          "x": 100.95477386934674
         },
         {
          "parameter": "Rideshare_Dist",
          "value": 0,
          "x": 101.75879396984925
         },
         {
          "parameter": "Rideshare_Dist",
          "value": 0,
          "x": 102.56281407035176
         },
         {
          "parameter": "Rideshare_Dist",
          "value": 0,
          "x": 103.36683417085428
         },
         {
          "parameter": "Rideshare_Dist",
          "value": 0,
          "x": 104.17085427135679
         },
         {
          "parameter": "Rideshare_Dist",
          "value": 0,
          "x": 104.9748743718593
         },
         {
          "parameter": "Rideshare_Dist",
          "value": 0,
          "x": 105.77889447236181
         },
         {
          "parameter": "Rideshare_Dist",
          "value": 0,
          "x": 106.58291457286433
         },
         {
          "parameter": "Rideshare_Dist",
          "value": 0,
          "x": 107.38693467336684
         },
         {
          "parameter": "Rideshare_Dist",
          "value": 0,
          "x": 108.19095477386935
         },
         {
          "parameter": "Rideshare_Dist",
          "value": 0,
          "x": 108.99497487437186
         },
         {
          "parameter": "Rideshare_Dist",
          "value": 0,
          "x": 109.79899497487438
         },
         {
          "parameter": "Rideshare_Dist",
          "value": 0,
          "x": 110.60301507537689
         },
         {
          "parameter": "Rideshare_Dist",
          "value": 0,
          "x": 111.4070351758794
         },
         {
          "parameter": "Rideshare_Dist",
          "value": 0,
          "x": 112.21105527638191
         },
         {
          "parameter": "Rideshare_Dist",
          "value": 0,
          "x": 113.01507537688443
         },
         {
          "parameter": "Rideshare_Dist",
          "value": 0,
          "x": 113.81909547738694
         },
         {
          "parameter": "Rideshare_Dist",
          "value": 0,
          "x": 114.62311557788945
         },
         {
          "parameter": "Rideshare_Dist",
          "value": 0,
          "x": 115.42713567839196
         },
         {
          "parameter": "Rideshare_Dist",
          "value": 0,
          "x": 116.23115577889448
         },
         {
          "parameter": "Rideshare_Dist",
          "value": 0,
          "x": 117.03517587939699
         },
         {
          "parameter": "Rideshare_Dist",
          "value": 0,
          "x": 117.8391959798995
         },
         {
          "parameter": "Rideshare_Dist",
          "value": 0,
          "x": 118.64321608040203
         },
         {
          "parameter": "Rideshare_Dist",
          "value": 0,
          "x": 119.44723618090453
         },
         {
          "parameter": "Rideshare_Dist",
          "value": 0,
          "x": 120.25125628140705
         },
         {
          "parameter": "Rideshare_Dist",
          "value": 0,
          "x": 121.05527638190955
         },
         {
          "parameter": "Rideshare_Dist",
          "value": 0,
          "x": 121.85929648241208
         },
         {
          "parameter": "Rideshare_Dist",
          "value": 0,
          "x": 122.66331658291458
         },
         {
          "parameter": "Rideshare_Dist",
          "value": 0,
          "x": 123.4673366834171
         },
         {
          "parameter": "Rideshare_Dist",
          "value": 0,
          "x": 124.2713567839196
         },
         {
          "parameter": "Rideshare_Dist",
          "value": 0,
          "x": 125.07537688442213
         },
         {
          "parameter": "Rideshare_Dist",
          "value": 0,
          "x": 125.87939698492463
         },
         {
          "parameter": "Rideshare_Dist",
          "value": 0,
          "x": 126.68341708542715
         },
         {
          "parameter": "Rideshare_Dist",
          "value": 0,
          "x": 127.48743718592965
         },
         {
          "parameter": "Rideshare_Dist",
          "value": 0,
          "x": 128.29145728643218
         },
         {
          "parameter": "Rideshare_Dist",
          "value": 0,
          "x": 129.09547738693468
         },
         {
          "parameter": "Rideshare_Dist",
          "value": 0,
          "x": 129.8994974874372
         },
         {
          "parameter": "Rideshare_Dist",
          "value": 0,
          "x": 130.7035175879397
         },
         {
          "parameter": "Rideshare_Dist",
          "value": 0,
          "x": 131.50753768844223
         },
         {
          "parameter": "Rideshare_Dist",
          "value": 0,
          "x": 132.31155778894473
         },
         {
          "parameter": "Rideshare_Dist",
          "value": 0,
          "x": 133.11557788944725
         },
         {
          "parameter": "Rideshare_Dist",
          "value": 0,
          "x": 133.91959798994975
         },
         {
          "parameter": "Rideshare_Dist",
          "value": 0,
          "x": 134.72361809045228
         },
         {
          "parameter": "Rideshare_Dist",
          "value": 0,
          "x": 135.52763819095478
         },
         {
          "parameter": "Rideshare_Dist",
          "value": 0,
          "x": 136.3316582914573
         },
         {
          "parameter": "Rideshare_Dist",
          "value": 0,
          "x": 137.1356783919598
         },
         {
          "parameter": "Rideshare_Dist",
          "value": 0,
          "x": 137.93969849246233
         },
         {
          "parameter": "Rideshare_Dist",
          "value": 0,
          "x": 138.74371859296483
         },
         {
          "parameter": "Rideshare_Dist",
          "value": 0,
          "x": 139.54773869346735
         },
         {
          "parameter": "Rideshare_Dist",
          "value": 0,
          "x": 140.35175879396985
         },
         {
          "parameter": "Rideshare_Dist",
          "value": 0,
          "x": 141.15577889447238
         },
         {
          "parameter": "Rideshare_Dist",
          "value": 0,
          "x": 141.95979899497488
         },
         {
          "parameter": "Rideshare_Dist",
          "value": 0,
          "x": 142.7638190954774
         },
         {
          "parameter": "Rideshare_Dist",
          "value": 0,
          "x": 143.5678391959799
         },
         {
          "parameter": "Rideshare_Dist",
          "value": 0,
          "x": 144.37185929648243
         },
         {
          "parameter": "Rideshare_Dist",
          "value": 0,
          "x": 145.17587939698493
         },
         {
          "parameter": "Rideshare_Dist",
          "value": 0,
          "x": 145.97989949748745
         },
         {
          "parameter": "Rideshare_Dist",
          "value": 0,
          "x": 146.78391959798995
         },
         {
          "parameter": "Rideshare_Dist",
          "value": 0,
          "x": 147.58793969849248
         },
         {
          "parameter": "Rideshare_Dist",
          "value": 0,
          "x": 148.39195979899498
         },
         {
          "parameter": "Rideshare_Dist",
          "value": 0,
          "x": 149.1959798994975
         },
         {
          "parameter": "Rideshare_Dist",
          "value": 0,
          "x": 150
         },
         {
          "parameter": "Taxi_Dist",
          "value": 5.176899314110361e-257,
          "x": -10
         },
         {
          "parameter": "Taxi_Dist",
          "value": 2.8723588660098255e-227,
          "x": -9.195979899497488
         },
         {
          "parameter": "Taxi_Dist",
          "value": 2.1929768431897183e-199,
          "x": -8.391959798994975
         },
         {
          "parameter": "Taxi_Dist",
          "value": 2.303858275876685e-173,
          "x": -7.5879396984924625
         },
         {
          "parameter": "Taxi_Dist",
          "value": 3.3304570707454404e-149,
          "x": -6.78391959798995
         },
         {
          "parameter": "Taxi_Dist",
          "value": 6.624884136697517e-127,
          "x": -5.979899497487437
         },
         {
          "parameter": "Taxi_Dist",
          "value": 1.8133394136902786e-106,
          "x": -5.175879396984924
         },
         {
          "parameter": "Taxi_Dist",
          "value": 6.829773197935634e-88,
          "x": -4.371859296482412
         },
         {
          "parameter": "Taxi_Dist",
          "value": 3.539645991871475e-71,
          "x": -3.567839195979899
         },
         {
          "parameter": "Taxi_Dist",
          "value": 2.5242928896000545e-56,
          "x": -2.7638190954773867
         },
         {
          "parameter": "Taxi_Dist",
          "value": 2.4771142089172014e-43,
          "x": -1.9597989949748733
         },
         {
          "parameter": "Taxi_Dist",
          "value": 3.344866263436891e-32,
          "x": -1.1557788944723608
         },
         {
          "parameter": "Taxi_Dist",
          "value": 6.214968384265357e-23,
          "x": -0.3517587939698483
         },
         {
          "parameter": "Taxi_Dist",
          "value": 1.5890620251894422e-15,
          "x": 0.45226130653266416
         },
         {
          "parameter": "Taxi_Dist",
          "value": 5.593585952750461e-10,
          "x": 1.2562814070351767
         },
         {
          "parameter": "Taxi_Dist",
          "value": 2.729171469170072e-06,
          "x": 2.060301507537689
         },
         {
          "parameter": "Taxi_Dist",
          "value": 0.0002021915237719499,
          "x": 2.8643216080402016
         },
         {
          "parameter": "Taxi_Dist",
          "value": 0.0004539727456909476,
          "x": 3.668341708542714
         },
         {
          "parameter": "Taxi_Dist",
          "value": 5.442589037856008e-05,
          "x": 4.472361809045227
         },
         {
          "parameter": "Taxi_Dist",
          "value": 1.3172519516250024e-07,
          "x": 5.276381909547739
         },
         {
          "parameter": "Taxi_Dist",
          "value": 4.359068782978395e-06,
          "x": 6.080402010050253
         },
         {
          "parameter": "Taxi_Dist",
          "value": 0.0005866113480650274,
          "x": 6.884422110552766
         },
         {
          "parameter": "Taxi_Dist",
          "value": 0.02261142552007877,
          "x": 7.688442211055278
         },
         {
          "parameter": "Taxi_Dist",
          "value": 0.352605508204105,
          "x": 8.49246231155779
         },
         {
          "parameter": "Taxi_Dist",
          "value": 0.49587499278862535,
          "x": 9.296482412060303
         },
         {
          "parameter": "Taxi_Dist",
          "value": 0.2569639408462826,
          "x": 10.100502512562816
         },
         {
          "parameter": "Taxi_Dist",
          "value": 0.08562471188409417,
          "x": 10.904522613065328
         },
         {
          "parameter": "Taxi_Dist",
          "value": 0.01897329571930228,
          "x": 11.70854271356784
         },
         {
          "parameter": "Taxi_Dist",
          "value": 0.004602888922316314,
          "x": 12.512562814070353
         },
         {
          "parameter": "Taxi_Dist",
          "value": 0.0019808364112296212,
          "x": 13.316582914572866
         },
         {
          "parameter": "Taxi_Dist",
          "value": 0.0008691834421420997,
          "x": 14.120603015075378
         },
         {
          "parameter": "Taxi_Dist",
          "value": 0.0005348722240001548,
          "x": 14.92462311557789
         },
         {
          "parameter": "Taxi_Dist",
          "value": 9.405532518473432e-05,
          "x": 15.728643216080403
         },
         {
          "parameter": "Taxi_Dist",
          "value": 0.0002942618040659275,
          "x": 16.532663316582916
         },
         {
          "parameter": "Taxi_Dist",
          "value": 2.89899510810098e-05,
          "x": 17.33668341708543
         },
         {
          "parameter": "Taxi_Dist",
          "value": 3.931594038267259e-08,
          "x": 18.14070351758794
         },
         {
          "parameter": "Taxi_Dist",
          "value": 7.336962186815283e-13,
          "x": 18.944723618090453
         },
         {
          "parameter": "Taxi_Dist",
          "value": 1.8840406138267192e-19,
          "x": 19.748743718592966
         },
         {
          "parameter": "Taxi_Dist",
          "value": 6.657184709523568e-28,
          "x": 20.55276381909548
         },
         {
          "parameter": "Taxi_Dist",
          "value": 3.2368108424986946e-38,
          "x": 21.35678391959799
         },
         {
          "parameter": "Taxi_Dist",
          "value": 2.165560893297273e-50,
          "x": 22.160804020100507
         },
         {
          "parameter": "Taxi_Dist",
          "value": 1.9936542680911997e-64,
          "x": 22.96482412060302
         },
         {
          "parameter": "Taxi_Dist",
          "value": 2.5255481930304104e-80,
          "x": 23.76884422110553
         },
         {
          "parameter": "Taxi_Dist",
          "value": 4.40238317852271e-98,
          "x": 24.572864321608044
         },
         {
          "parameter": "Taxi_Dist",
          "value": 1.0559573738428874e-117,
          "x": 25.376884422110557
         },
         {
          "parameter": "Taxi_Dist",
          "value": 3.485228853970951e-139,
          "x": 26.18090452261307
         },
         {
          "parameter": "Taxi_Dist",
          "value": 1.5828602803632443e-162,
          "x": 26.98492462311558
         },
         {
          "parameter": "Taxi_Dist",
          "value": 9.891911639300779e-188,
          "x": 27.788944723618094
         },
         {
          "parameter": "Taxi_Dist",
          "value": 8.50636946982087e-215,
          "x": 28.592964824120607
         },
         {
          "parameter": "Taxi_Dist",
          "value": 1.0065483070231146e-243,
          "x": 29.39698492462312
         },
         {
          "parameter": "Taxi_Dist",
          "value": 1.63889590470153e-274,
          "x": 30.20100502512563
         },
         {
          "parameter": "Taxi_Dist",
          "value": 3.671930766320936e-307,
          "x": 31.005025125628144
         },
         {
          "parameter": "Taxi_Dist",
          "value": 0,
          "x": 31.809045226130657
         },
         {
          "parameter": "Taxi_Dist",
          "value": 0,
          "x": 32.61306532663317
         },
         {
          "parameter": "Taxi_Dist",
          "value": 0,
          "x": 33.41708542713568
         },
         {
          "parameter": "Taxi_Dist",
          "value": 0,
          "x": 34.221105527638194
         },
         {
          "parameter": "Taxi_Dist",
          "value": 0,
          "x": 35.02512562814071
         },
         {
          "parameter": "Taxi_Dist",
          "value": 0,
          "x": 35.82914572864322
         },
         {
          "parameter": "Taxi_Dist",
          "value": 0,
          "x": 36.63316582914573
         },
         {
          "parameter": "Taxi_Dist",
          "value": 0,
          "x": 37.437185929648244
         },
         {
          "parameter": "Taxi_Dist",
          "value": 0,
          "x": 38.24120603015076
         },
         {
          "parameter": "Taxi_Dist",
          "value": 0,
          "x": 39.04522613065327
         },
         {
          "parameter": "Taxi_Dist",
          "value": 0,
          "x": 39.84924623115578
         },
         {
          "parameter": "Taxi_Dist",
          "value": 0,
          "x": 40.653266331658294
         },
         {
          "parameter": "Taxi_Dist",
          "value": 0,
          "x": 41.45728643216081
         },
         {
          "parameter": "Taxi_Dist",
          "value": 0,
          "x": 42.26130653266332
         },
         {
          "parameter": "Taxi_Dist",
          "value": 0,
          "x": 43.06532663316583
         },
         {
          "parameter": "Taxi_Dist",
          "value": 0,
          "x": 43.869346733668344
         },
         {
          "parameter": "Taxi_Dist",
          "value": 0,
          "x": 44.67336683417086
         },
         {
          "parameter": "Taxi_Dist",
          "value": 0,
          "x": 45.47738693467337
         },
         {
          "parameter": "Taxi_Dist",
          "value": 0,
          "x": 46.28140703517588
         },
         {
          "parameter": "Taxi_Dist",
          "value": 0,
          "x": 47.085427135678394
         },
         {
          "parameter": "Taxi_Dist",
          "value": 0,
          "x": 47.88944723618091
         },
         {
          "parameter": "Taxi_Dist",
          "value": 0,
          "x": 48.69346733668342
         },
         {
          "parameter": "Taxi_Dist",
          "value": 0,
          "x": 49.49748743718593
         },
         {
          "parameter": "Taxi_Dist",
          "value": 0,
          "x": 50.301507537688444
         },
         {
          "parameter": "Taxi_Dist",
          "value": 0,
          "x": 51.10552763819096
         },
         {
          "parameter": "Taxi_Dist",
          "value": 0,
          "x": 51.90954773869347
         },
         {
          "parameter": "Taxi_Dist",
          "value": 0,
          "x": 52.71356783919598
         },
         {
          "parameter": "Taxi_Dist",
          "value": 0,
          "x": 53.517587939698494
         },
         {
          "parameter": "Taxi_Dist",
          "value": 0,
          "x": 54.32160804020101
         },
         {
          "parameter": "Taxi_Dist",
          "value": 0,
          "x": 55.125628140703526
         },
         {
          "parameter": "Taxi_Dist",
          "value": 0,
          "x": 55.92964824120604
         },
         {
          "parameter": "Taxi_Dist",
          "value": 0,
          "x": 56.73366834170855
         },
         {
          "parameter": "Taxi_Dist",
          "value": 0,
          "x": 57.53768844221106
         },
         {
          "parameter": "Taxi_Dist",
          "value": 0,
          "x": 58.341708542713576
         },
         {
          "parameter": "Taxi_Dist",
          "value": 0,
          "x": 59.14572864321609
         },
         {
          "parameter": "Taxi_Dist",
          "value": 0,
          "x": 59.9497487437186
         },
         {
          "parameter": "Taxi_Dist",
          "value": 0,
          "x": 60.75376884422111
         },
         {
          "parameter": "Taxi_Dist",
          "value": 0,
          "x": 61.557788944723626
         },
         {
          "parameter": "Taxi_Dist",
          "value": 0,
          "x": 62.36180904522614
         },
         {
          "parameter": "Taxi_Dist",
          "value": 0,
          "x": 63.16582914572865
         },
         {
          "parameter": "Taxi_Dist",
          "value": 0,
          "x": 63.96984924623116
         },
         {
          "parameter": "Taxi_Dist",
          "value": 0,
          "x": 64.77386934673368
         },
         {
          "parameter": "Taxi_Dist",
          "value": 0,
          "x": 65.57788944723619
         },
         {
          "parameter": "Taxi_Dist",
          "value": 0,
          "x": 66.3819095477387
         },
         {
          "parameter": "Taxi_Dist",
          "value": 0,
          "x": 67.18592964824121
         },
         {
          "parameter": "Taxi_Dist",
          "value": 0,
          "x": 67.98994974874373
         },
         {
          "parameter": "Taxi_Dist",
          "value": 0,
          "x": 68.79396984924624
         },
         {
          "parameter": "Taxi_Dist",
          "value": 0,
          "x": 69.59798994974875
         },
         {
          "parameter": "Taxi_Dist",
          "value": 0,
          "x": 70.40201005025126
         },
         {
          "parameter": "Taxi_Dist",
          "value": 0,
          "x": 71.20603015075378
         },
         {
          "parameter": "Taxi_Dist",
          "value": 0,
          "x": 72.01005025125629
         },
         {
          "parameter": "Taxi_Dist",
          "value": 0,
          "x": 72.8140703517588
         },
         {
          "parameter": "Taxi_Dist",
          "value": 0,
          "x": 73.61809045226131
         },
         {
          "parameter": "Taxi_Dist",
          "value": 0,
          "x": 74.42211055276383
         },
         {
          "parameter": "Taxi_Dist",
          "value": 0,
          "x": 75.22613065326634
         },
         {
          "parameter": "Taxi_Dist",
          "value": 0,
          "x": 76.03015075376885
         },
         {
          "parameter": "Taxi_Dist",
          "value": 0,
          "x": 76.83417085427136
         },
         {
          "parameter": "Taxi_Dist",
          "value": 0,
          "x": 77.63819095477388
         },
         {
          "parameter": "Taxi_Dist",
          "value": 0,
          "x": 78.44221105527639
         },
         {
          "parameter": "Taxi_Dist",
          "value": 0,
          "x": 79.2462311557789
         },
         {
          "parameter": "Taxi_Dist",
          "value": 0,
          "x": 80.05025125628141
         },
         {
          "parameter": "Taxi_Dist",
          "value": 0,
          "x": 80.85427135678393
         },
         {
          "parameter": "Taxi_Dist",
          "value": 0,
          "x": 81.65829145728644
         },
         {
          "parameter": "Taxi_Dist",
          "value": 0,
          "x": 82.46231155778895
         },
         {
          "parameter": "Taxi_Dist",
          "value": 0,
          "x": 83.26633165829146
         },
         {
          "parameter": "Taxi_Dist",
          "value": 0,
          "x": 84.07035175879398
         },
         {
          "parameter": "Taxi_Dist",
          "value": 0,
          "x": 84.87437185929649
         },
         {
          "parameter": "Taxi_Dist",
          "value": 0,
          "x": 85.678391959799
         },
         {
          "parameter": "Taxi_Dist",
          "value": 0,
          "x": 86.48241206030151
         },
         {
          "parameter": "Taxi_Dist",
          "value": 0,
          "x": 87.28643216080403
         },
         {
          "parameter": "Taxi_Dist",
          "value": 0,
          "x": 88.09045226130654
         },
         {
          "parameter": "Taxi_Dist",
          "value": 0,
          "x": 88.89447236180905
         },
         {
          "parameter": "Taxi_Dist",
          "value": 0,
          "x": 89.69849246231156
         },
         {
          "parameter": "Taxi_Dist",
          "value": 0,
          "x": 90.50251256281408
         },
         {
          "parameter": "Taxi_Dist",
          "value": 0,
          "x": 91.30653266331659
         },
         {
          "parameter": "Taxi_Dist",
          "value": 0,
          "x": 92.1105527638191
         },
         {
          "parameter": "Taxi_Dist",
          "value": 0,
          "x": 92.91457286432161
         },
         {
          "parameter": "Taxi_Dist",
          "value": 0,
          "x": 93.71859296482413
         },
         {
          "parameter": "Taxi_Dist",
          "value": 0,
          "x": 94.52261306532664
         },
         {
          "parameter": "Taxi_Dist",
          "value": 0,
          "x": 95.32663316582915
         },
         {
          "parameter": "Taxi_Dist",
          "value": 0,
          "x": 96.13065326633166
         },
         {
          "parameter": "Taxi_Dist",
          "value": 0,
          "x": 96.93467336683418
         },
         {
          "parameter": "Taxi_Dist",
          "value": 0,
          "x": 97.73869346733669
         },
         {
          "parameter": "Taxi_Dist",
          "value": 0,
          "x": 98.5427135678392
         },
         {
          "parameter": "Taxi_Dist",
          "value": 0,
          "x": 99.34673366834171
         },
         {
          "parameter": "Taxi_Dist",
          "value": 0,
          "x": 100.15075376884423
         },
         {
          "parameter": "Taxi_Dist",
          "value": 0,
          "x": 100.95477386934674
         },
         {
          "parameter": "Taxi_Dist",
          "value": 0,
          "x": 101.75879396984925
         },
         {
          "parameter": "Taxi_Dist",
          "value": 0,
          "x": 102.56281407035176
         },
         {
          "parameter": "Taxi_Dist",
          "value": 0,
          "x": 103.36683417085428
         },
         {
          "parameter": "Taxi_Dist",
          "value": 0,
          "x": 104.17085427135679
         },
         {
          "parameter": "Taxi_Dist",
          "value": 0,
          "x": 104.9748743718593
         },
         {
          "parameter": "Taxi_Dist",
          "value": 0,
          "x": 105.77889447236181
         },
         {
          "parameter": "Taxi_Dist",
          "value": 0,
          "x": 106.58291457286433
         },
         {
          "parameter": "Taxi_Dist",
          "value": 0,
          "x": 107.38693467336684
         },
         {
          "parameter": "Taxi_Dist",
          "value": 0,
          "x": 108.19095477386935
         },
         {
          "parameter": "Taxi_Dist",
          "value": 0,
          "x": 108.99497487437186
         },
         {
          "parameter": "Taxi_Dist",
          "value": 0,
          "x": 109.79899497487438
         },
         {
          "parameter": "Taxi_Dist",
          "value": 0,
          "x": 110.60301507537689
         },
         {
          "parameter": "Taxi_Dist",
          "value": 0,
          "x": 111.4070351758794
         },
         {
          "parameter": "Taxi_Dist",
          "value": 0,
          "x": 112.21105527638191
         },
         {
          "parameter": "Taxi_Dist",
          "value": 0,
          "x": 113.01507537688443
         },
         {
          "parameter": "Taxi_Dist",
          "value": 0,
          "x": 113.81909547738694
         },
         {
          "parameter": "Taxi_Dist",
          "value": 0,
          "x": 114.62311557788945
         },
         {
          "parameter": "Taxi_Dist",
          "value": 0,
          "x": 115.42713567839196
         },
         {
          "parameter": "Taxi_Dist",
          "value": 0,
          "x": 116.23115577889448
         },
         {
          "parameter": "Taxi_Dist",
          "value": 0,
          "x": 117.03517587939699
         },
         {
          "parameter": "Taxi_Dist",
          "value": 0,
          "x": 117.8391959798995
         },
         {
          "parameter": "Taxi_Dist",
          "value": 0,
          "x": 118.64321608040203
         },
         {
          "parameter": "Taxi_Dist",
          "value": 0,
          "x": 119.44723618090453
         },
         {
          "parameter": "Taxi_Dist",
          "value": 0,
          "x": 120.25125628140705
         },
         {
          "parameter": "Taxi_Dist",
          "value": 0,
          "x": 121.05527638190955
         },
         {
          "parameter": "Taxi_Dist",
          "value": 0,
          "x": 121.85929648241208
         },
         {
          "parameter": "Taxi_Dist",
          "value": 0,
          "x": 122.66331658291458
         },
         {
          "parameter": "Taxi_Dist",
          "value": 0,
          "x": 123.4673366834171
         },
         {
          "parameter": "Taxi_Dist",
          "value": 0,
          "x": 124.2713567839196
         },
         {
          "parameter": "Taxi_Dist",
          "value": 0,
          "x": 125.07537688442213
         },
         {
          "parameter": "Taxi_Dist",
          "value": 0,
          "x": 125.87939698492463
         },
         {
          "parameter": "Taxi_Dist",
          "value": 0,
          "x": 126.68341708542715
         },
         {
          "parameter": "Taxi_Dist",
          "value": 0,
          "x": 127.48743718592965
         },
         {
          "parameter": "Taxi_Dist",
          "value": 0,
          "x": 128.29145728643218
         },
         {
          "parameter": "Taxi_Dist",
          "value": 0,
          "x": 129.09547738693468
         },
         {
          "parameter": "Taxi_Dist",
          "value": 0,
          "x": 129.8994974874372
         },
         {
          "parameter": "Taxi_Dist",
          "value": 0,
          "x": 130.7035175879397
         },
         {
          "parameter": "Taxi_Dist",
          "value": 0,
          "x": 131.50753768844223
         },
         {
          "parameter": "Taxi_Dist",
          "value": 0,
          "x": 132.31155778894473
         },
         {
          "parameter": "Taxi_Dist",
          "value": 0,
          "x": 133.11557788944725
         },
         {
          "parameter": "Taxi_Dist",
          "value": 0,
          "x": 133.91959798994975
         },
         {
          "parameter": "Taxi_Dist",
          "value": 0,
          "x": 134.72361809045228
         },
         {
          "parameter": "Taxi_Dist",
          "value": 0,
          "x": 135.52763819095478
         },
         {
          "parameter": "Taxi_Dist",
          "value": 0,
          "x": 136.3316582914573
         },
         {
          "parameter": "Taxi_Dist",
          "value": 0,
          "x": 137.1356783919598
         },
         {
          "parameter": "Taxi_Dist",
          "value": 0,
          "x": 137.93969849246233
         },
         {
          "parameter": "Taxi_Dist",
          "value": 0,
          "x": 138.74371859296483
         },
         {
          "parameter": "Taxi_Dist",
          "value": 0,
          "x": 139.54773869346735
         },
         {
          "parameter": "Taxi_Dist",
          "value": 0,
          "x": 140.35175879396985
         },
         {
          "parameter": "Taxi_Dist",
          "value": 0,
          "x": 141.15577889447238
         },
         {
          "parameter": "Taxi_Dist",
          "value": 0,
          "x": 141.95979899497488
         },
         {
          "parameter": "Taxi_Dist",
          "value": 0,
          "x": 142.7638190954774
         },
         {
          "parameter": "Taxi_Dist",
          "value": 0,
          "x": 143.5678391959799
         },
         {
          "parameter": "Taxi_Dist",
          "value": 0,
          "x": 144.37185929648243
         },
         {
          "parameter": "Taxi_Dist",
          "value": 0,
          "x": 145.17587939698493
         },
         {
          "parameter": "Taxi_Dist",
          "value": 0,
          "x": 145.97989949748745
         },
         {
          "parameter": "Taxi_Dist",
          "value": 0,
          "x": 146.78391959798995
         },
         {
          "parameter": "Taxi_Dist",
          "value": 0,
          "x": 147.58793969849248
         },
         {
          "parameter": "Taxi_Dist",
          "value": 0,
          "x": 148.39195979899498
         },
         {
          "parameter": "Taxi_Dist",
          "value": 0,
          "x": 149.1959798994975
         },
         {
          "parameter": "Taxi_Dist",
          "value": 0,
          "x": 150
         }
        ],
        "data-110231888b3bf841cf4f8c9c4d3cde76": [
         {
          "hour": 0,
          "parameter": "Rideshare_regular_price_estimate",
          "value": 9.250444412231445
         },
         {
          "hour": 0,
          "parameter": "Rideshare_shared_price_estimate",
          "value": 5.7804646492004395
         },
         {
          "hour": 0,
          "parameter": "Taxi_price_estimate",
          "value": 10.199593544006348
         }
        ]
       },
       "layer": [
        {
         "data": {
          "name": "data-110231888b3bf841cf4f8c9c4d3cde76"
         },
         "encoding": {
          "color": {
           "field": "parameter",
           "scale": {
            "domain": [
             "Rideshare_regular_price_estimate",
             "Rideshare_shared_price_estimate",
             "Taxi_price_estimate"
            ],
            "range": [
             "red",
             "green",
             "blue"
            ]
           },
           "type": "nominal"
          },
          "size": {
           "value": 5
          },
          "x": {
           "field": "value",
           "type": "quantitative"
          }
         },
         "mark": {
          "color": "red",
          "type": "rule"
         },
         "selection": {
          " ": {
           "bind": {
            "input": "range",
            "max": 9,
            "min": 0,
            "step": 1
           },
           "fields": [
            "hour"
           ],
           "init": {
            "hour": 0
           },
           "type": "single"
          }
         },
         "transform": [
          {
           "filter": {
            "selection": " "
           }
          }
         ]
        },
        {
         "data": {
          "name": "data-0e929fa6c4290e3f644940b8c68ee1a7"
         },
         "encoding": {
          "color": {
           "field": "parameter",
           "legend": null,
           "scale": {
            "domain": [
             "Rideshare_Dist",
             "Shared_Rideshare_Dist",
             "Taxi_Dist"
            ],
            "range": [
             "red",
             "green",
             "blue"
            ]
           },
           "type": "nominal"
          },
          "opacity": {
           "condition": {
            "selection": "Ride Type",
            "value": 0.6
           },
           "value": 0
          },
          "x": {
           "field": "x",
           "title": "Ride Cost (Dollars)",
           "type": "quantitative"
          },
          "y": {
           "field": "value",
           "title": "Density",
           "type": "quantitative"
          }
         },
         "mark": {
          "point": false,
          "size": 4,
          "type": "area"
         },
         "selection": {
          "Ride Type": {
           "bind": {
            "input": "select",
            "options": [
             "Rideshare_Dist",
             "Shared_Rideshare_Dist",
             "Taxi_Dist"
            ]
           },
           "clear": false,
           "fields": [
            "parameter"
           ],
           "init": {
            "parameter": "Rideshare_Dist"
           },
           "on": "doubleclick",
           "type": "single"
          }
         }
        }
       ]
      },
      "image/png": "[encoded data removed]",
      "text/plain": [
       "<VegaLite 3 object>\n",
       "\n",
       "If you see this message, it means the renderer has not been properly enabled\n",
       "for the frontend that you are using. For more information, see\n",
       "https://altair-viz.github.io/user_guide/troubleshooting.html\n"
      ]
     },
     "execution_count": 87,
     "metadata": {},
     "output_type": "execute_result"
    },
    {
     "data": {
      "image/png": "[encoded data removed]",
      "text/plain": [
       "<Figure size 864x576 with 1 Axes>"
      ]
     },
     "metadata": {},
     "output_type": "display_data"
    }
   ],
   "source": [
    "show_viz(results)"
   ]
  },
  {
   "cell_type": "markdown",
   "metadata": {},
   "source": [
    "### Airport Trip"
   ]
  },
  {
   "cell_type": "code",
   "execution_count": 58,
   "metadata": {},
   "outputs": [
    {
     "name": "stdout",
     "output_type": "stream",
     "text": [
      "Rideshare_regular_price_estimate    39.68\n",
      "Rideshare_shared_price_estimate     28.12\n",
      "Taxi_price_estimate                 52.75\n",
      "Name: 0, dtype: float64\n",
      "121.65\n"
     ]
    },
    {
     "data": {
      "application/vnd.vegalite.v3+json": {
       "$schema": "https://vega.github.io/schema/vega-lite/v3.3.0.json",
       "config": {
        "mark": {
         "tooltip": null
        },
        "view": {
         "height": 300,
         "width": 400
        }
       },
       "datasets": {
        "data-06183931073ef5c563ad59201d3d4458": [
         {
          "parameter": "Shared_Rideshare_Dist",
          "value": 0.00033162601978029883,
          "x": 0
         },
         {
          "parameter": "Shared_Rideshare_Dist",
          "value": 0.00036754041386594956,
          "x": 1.0101010101010102
         },
         {
          "parameter": "Shared_Rideshare_Dist",
          "value": 0.00034373655148212925,
          "x": 2.0202020202020203
         },
         {
          "parameter": "Shared_Rideshare_Dist",
          "value": 0.00027131911975548256,
          "x": 3.0303030303030303
         },
         {
          "parameter": "Shared_Rideshare_Dist",
          "value": 0.00018094374821233004,
          "x": 4.040404040404041
         },
         {
          "parameter": "Shared_Rideshare_Dist",
          "value": 0.00010271111737341283,
          "x": 5.050505050505051
         },
         {
          "parameter": "Shared_Rideshare_Dist",
          "value": 5.205606671059461e-05,
          "x": 6.0606060606060606
         },
         {
          "parameter": "Shared_Rideshare_Dist",
          "value": 3.0036125309057708e-05,
          "x": 7.070707070707071
         },
         {
          "parameter": "Shared_Rideshare_Dist",
          "value": 3.171523035915688e-05,
          "x": 8.080808080808081
         },
         {
          "parameter": "Shared_Rideshare_Dist",
          "value": 5.267293163534643e-05,
          "x": 9.090909090909092
         },
         {
          "parameter": "Shared_Rideshare_Dist",
          "value": 9.041750067029869e-05,
          "x": 10.101010101010102
         },
         {
          "parameter": "Shared_Rideshare_Dist",
          "value": 0.00014456724059597653,
          "x": 11.111111111111112
         },
         {
          "parameter": "Shared_Rideshare_Dist",
          "value": 0.00022055888809357626,
          "x": 12.121212121212121
         },
         {
          "parameter": "Shared_Rideshare_Dist",
          "value": 0.0003377454014789249,
          "x": 13.131313131313131
         },
         {
          "parameter": "Shared_Rideshare_Dist",
          "value": 0.0005408072148949987,
          "x": 14.141414141414142
         },
         {
          "parameter": "Shared_Rideshare_Dist",
          "value": 0.000914418503824097,
          "x": 15.151515151515152
         },
         {
          "parameter": "Shared_Rideshare_Dist",
          "value": 0.0015926440996021772,
          "x": 16.161616161616163
         },
         {
          "parameter": "Shared_Rideshare_Dist",
          "value": 0.002736558018987599,
          "x": 17.171717171717173
         },
         {
          "parameter": "Shared_Rideshare_Dist",
          "value": 0.00446967333747054,
          "x": 18.181818181818183
         },
         {
          "parameter": "Shared_Rideshare_Dist",
          "value": 0.006835040858128121,
          "x": 19.191919191919194
         },
         {
          "parameter": "Shared_Rideshare_Dist",
          "value": 0.009861399858414983,
          "x": 20.202020202020204
         },
         {
          "parameter": "Shared_Rideshare_Dist",
          "value": 0.013669747595823558,
          "x": 21.212121212121215
         },
         {
          "parameter": "Shared_Rideshare_Dist",
          "value": 0.018394494286856515,
          "x": 22.222222222222225
         },
         {
          "parameter": "Shared_Rideshare_Dist",
          "value": 0.02390860002676779,
          "x": 23.232323232323235
         },
         {
          "parameter": "Shared_Rideshare_Dist",
          "value": 0.029761380740476073,
          "x": 24.242424242424242
         },
         {
          "parameter": "Shared_Rideshare_Dist",
          "value": 0.035582966174499825,
          "x": 25.252525252525253
         },
         {
          "parameter": "Shared_Rideshare_Dist",
          "value": 0.0414357129801692,
          "x": 26.262626262626263
         },
         {
          "parameter": "Shared_Rideshare_Dist",
          "value": 0.047468410327207014,
          "x": 27.272727272727273
         },
         {
          "parameter": "Shared_Rideshare_Dist",
          "value": 0.05331008316240395,
          "x": 28.282828282828284
         },
         {
          "parameter": "Shared_Rideshare_Dist",
          "value": 0.05825247062672349,
          "x": 29.292929292929294
         },
         {
          "parameter": "Shared_Rideshare_Dist",
          "value": 0.06207185996809019,
          "x": 30.303030303030305
         },
         {
          "parameter": "Shared_Rideshare_Dist",
          "value": 0.06514850151736272,
          "x": 31.313131313131315
         },
         {
          "parameter": "Shared_Rideshare_Dist",
          "value": 0.06760595905921622,
          "x": 32.323232323232325
         },
         {
          "parameter": "Shared_Rideshare_Dist",
          "value": 0.06890914499110742,
          "x": 33.333333333333336
         },
         {
          "parameter": "Shared_Rideshare_Dist",
          "value": 0.06865346293117243,
          "x": 34.343434343434346
         },
         {
          "parameter": "Shared_Rideshare_Dist",
          "value": 0.06721322285101629,
          "x": 35.35353535353536
         },
         {
          "parameter": "Shared_Rideshare_Dist",
          "value": 0.06513184678977828,
          "x": 36.36363636363637
         },
         {
          "parameter": "Shared_Rideshare_Dist",
          "value": 0.06231646045523641,
          "x": 37.37373737373738
         },
         {
          "parameter": "Shared_Rideshare_Dist",
          "value": 0.058414124338758776,
          "x": 38.38383838383839
         },
         {
          "parameter": "Shared_Rideshare_Dist",
          "value": 0.053695831711075385,
          "x": 39.3939393939394
         },
         {
          "parameter": "Shared_Rideshare_Dist",
          "value": 0.04898465144023678,
          "x": 40.40404040404041
         },
         {
          "parameter": "Shared_Rideshare_Dist",
          "value": 0.04484291714830885,
          "x": 41.41414141414142
         },
         {
          "parameter": "Shared_Rideshare_Dist",
          "value": 0.041308592109986685,
          "x": 42.42424242424243
         },
         {
          "parameter": "Shared_Rideshare_Dist",
          "value": 0.03831327021987732,
          "x": 43.43434343434344
         },
         {
          "parameter": "Shared_Rideshare_Dist",
          "value": 0.03586558846344791,
          "x": 44.44444444444445
         },
         {
          "parameter": "Shared_Rideshare_Dist",
          "value": 0.033827118179425845,
          "x": 45.45454545454546
         },
         {
          "parameter": "Shared_Rideshare_Dist",
          "value": 0.031931921675579164,
          "x": 46.46464646464647
         },
         {
          "parameter": "Shared_Rideshare_Dist",
          "value": 0.030109061237875687,
          "x": 47.47474747474748
         },
         {
          "parameter": "Shared_Rideshare_Dist",
          "value": 0.028496074375596245,
          "x": 48.484848484848484
         },
         {
          "parameter": "Shared_Rideshare_Dist",
          "value": 0.027096518335171616,
          "x": 49.494949494949495
         },
         {
          "parameter": "Shared_Rideshare_Dist",
          "value": 0.02569993865073881,
          "x": 50.505050505050505
         },
         {
          "parameter": "Shared_Rideshare_Dist",
          "value": 0.024195157074859894,
          "x": 51.515151515151516
         },
         {
          "parameter": "Shared_Rideshare_Dist",
          "value": 0.02271559902977799,
          "x": 52.525252525252526
         },
         {
          "parameter": "Shared_Rideshare_Dist",
          "value": 0.021401215458699642,
          "x": 53.535353535353536
         },
         {
          "parameter": "Shared_Rideshare_Dist",
          "value": 0.020226740839801523,
          "x": 54.54545454545455
         },
         {
          "parameter": "Shared_Rideshare_Dist",
          "value": 0.01913813909942631,
          "x": 55.55555555555556
         },
         {
          "parameter": "Shared_Rideshare_Dist",
          "value": 0.018157886322095557,
          "x": 56.56565656565657
         },
         {
          "parameter": "Shared_Rideshare_Dist",
          "value": 0.01725418484753444,
          "x": 57.57575757575758
         },
         {
          "parameter": "Shared_Rideshare_Dist",
          "value": 0.016273134866962153,
          "x": 58.58585858585859
         },
         {
          "parameter": "Shared_Rideshare_Dist",
          "value": 0.015119422278762801,
          "x": 59.5959595959596
         },
         {
          "parameter": "Shared_Rideshare_Dist",
          "value": 0.013884504504401955,
          "x": 60.60606060606061
         },
         {
          "parameter": "Shared_Rideshare_Dist",
          "value": 0.012688485080271634,
          "x": 61.61616161616162
         },
         {
          "parameter": "Shared_Rideshare_Dist",
          "value": 0.011492722807162393,
          "x": 62.62626262626263
         },
         {
          "parameter": "Shared_Rideshare_Dist",
          "value": 0.010177811318203542,
          "x": 63.63636363636364
         },
         {
          "parameter": "Shared_Rideshare_Dist",
          "value": 0.008739938438847043,
          "x": 64.64646464646465
         },
         {
          "parameter": "Shared_Rideshare_Dist",
          "value": 0.0073083730414050755,
          "x": 65.65656565656566
         },
         {
          "parameter": "Shared_Rideshare_Dist",
          "value": 0.006006754602050779,
          "x": 66.66666666666667
         },
         {
          "parameter": "Shared_Rideshare_Dist",
          "value": 0.0048815668222403005,
          "x": 67.67676767676768
         },
         {
          "parameter": "Shared_Rideshare_Dist",
          "value": 0.0039432039901691794,
          "x": 68.68686868686869
         },
         {
          "parameter": "Shared_Rideshare_Dist",
          "value": 0.00319449896994629,
          "x": 69.6969696969697
         },
         {
          "parameter": "Shared_Rideshare_Dist",
          "value": 0.0026077412938702604,
          "x": 70.70707070707071
         },
         {
          "parameter": "Shared_Rideshare_Dist",
          "value": 0.002124524670044478,
          "x": 71.71717171717172
         },
         {
          "parameter": "Shared_Rideshare_Dist",
          "value": 0.0016992009959100516,
          "x": 72.72727272727273
         },
         {
          "parameter": "Shared_Rideshare_Dist",
          "value": 0.001324281073291355,
          "x": 73.73737373737374
         },
         {
          "parameter": "Shared_Rideshare_Dist",
          "value": 0.001009931880593749,
          "x": 74.74747474747475
         },
         {
          "parameter": "Shared_Rideshare_Dist",
          "value": 0.0007578864789701086,
          "x": 75.75757575757576
         },
         {
          "parameter": "Shared_Rideshare_Dist",
          "value": 0.0005615382095453848,
          "x": 76.76767676767678
         },
         {
          "parameter": "Shared_Rideshare_Dist",
          "value": 0.0004171813811808499,
          "x": 77.77777777777779
         },
         {
          "parameter": "Shared_Rideshare_Dist",
          "value": 0.00032484549082231116,
          "x": 78.7878787878788
         },
         {
          "parameter": "Shared_Rideshare_Dist",
          "value": 0.0002812341945957577,
          "x": 79.7979797979798
         },
         {
          "parameter": "Shared_Rideshare_Dist",
          "value": 0.00027546855854789285,
          "x": 80.80808080808082
         },
         {
          "parameter": "Shared_Rideshare_Dist",
          "value": 0.0002897161181207128,
          "x": 81.81818181818183
         },
         {
          "parameter": "Shared_Rideshare_Dist",
          "value": 0.00030361364570250204,
          "x": 82.82828282828284
         },
         {
          "parameter": "Shared_Rideshare_Dist",
          "value": 0.0003024698563403393,
          "x": 83.83838383838385
         },
         {
          "parameter": "Shared_Rideshare_Dist",
          "value": 0.00028455145597704125,
          "x": 84.84848484848486
         },
         {
          "parameter": "Shared_Rideshare_Dist",
          "value": 0.00026004997193162046,
          "x": 85.85858585858587
         },
         {
          "parameter": "Shared_Rideshare_Dist",
          "value": 0.00024230408358134848,
          "x": 86.86868686868688
         },
         {
          "parameter": "Shared_Rideshare_Dist",
          "value": 0.00023965805961466638,
          "x": 87.87878787878789
         },
         {
          "parameter": "Shared_Rideshare_Dist",
          "value": 0.00025234612486942,
          "x": 88.8888888888889
         },
         {
          "parameter": "Shared_Rideshare_Dist",
          "value": 0.0002718850357923294,
          "x": 89.89898989898991
         },
         {
          "parameter": "Shared_Rideshare_Dist",
          "value": 0.00028263464963842983,
          "x": 90.90909090909092
         },
         {
          "parameter": "Shared_Rideshare_Dist",
          "value": 0.0002691697079145977,
          "x": 91.91919191919193
         },
         {
          "parameter": "Shared_Rideshare_Dist",
          "value": 0.0002273652777475156,
          "x": 92.92929292929294
         },
         {
          "parameter": "Shared_Rideshare_Dist",
          "value": 0.00016924952626863894,
          "x": 93.93939393939395
         },
         {
          "parameter": "Shared_Rideshare_Dist",
          "value": 0.0001159266770298454,
          "x": 94.94949494949496
         },
         {
          "parameter": "Shared_Rideshare_Dist",
          "value": 8.475565014196094e-05,
          "x": 95.95959595959597
         },
         {
          "parameter": "Shared_Rideshare_Dist",
          "value": 8.080241025469979e-05,
          "x": 96.96969696969697
         },
         {
          "parameter": "Shared_Rideshare_Dist",
          "value": 9.622632616343766e-05,
          "x": 97.97979797979798
         },
         {
          "parameter": "Shared_Rideshare_Dist",
          "value": 0.00011547630197512003,
          "x": 98.98989898989899
         },
         {
          "parameter": "Shared_Rideshare_Dist",
          "value": 0.00012338726506212134,
          "x": 100
         },
         {
          "parameter": "Rideshare_Dist",
          "value": 5.295262753924841e-43,
          "x": 0
         },
         {
          "parameter": "Rideshare_Dist",
          "value": 6.319586507126041e-39,
          "x": 1.0101010101010102
         },
         {
          "parameter": "Rideshare_Dist",
          "value": 4.4093430865864045e-35,
          "x": 2.0202020202020203
         },
         {
          "parameter": "Rideshare_Dist",
          "value": 1.798635669782963e-31,
          "x": 3.0303030303030303
         },
         {
          "parameter": "Rideshare_Dist",
          "value": 4.289400443985604e-28,
          "x": 4.040404040404041
         },
         {
          "parameter": "Rideshare_Dist",
          "value": 5.980452752234793e-25,
          "x": 5.050505050505051
         },
         {
          "parameter": "Rideshare_Dist",
          "value": 4.874786678380538e-22,
          "x": 6.0606060606060606
         },
         {
          "parameter": "Rideshare_Dist",
          "value": 2.323064394114668e-19,
          "x": 7.070707070707071
         },
         {
          "parameter": "Rideshare_Dist",
          "value": 6.472185585348912e-17,
          "x": 8.080808080808081
         },
         {
          "parameter": "Rideshare_Dist",
          "value": 1.0542042339268573e-14,
          "x": 9.090909090909092
         },
         {
          "parameter": "Rideshare_Dist",
          "value": 1.0038819164753463e-12,
          "x": 10.101010101010102
         },
         {
          "parameter": "Rideshare_Dist",
          "value": 5.588877451241293e-11,
          "x": 11.111111111111112
         },
         {
          "parameter": "Rideshare_Dist",
          "value": 1.81907507553896e-09,
          "x": 12.121212121212121
         },
         {
          "parameter": "Rideshare_Dist",
          "value": 3.4614713433877646e-08,
          "x": 13.131313131313131
         },
         {
          "parameter": "Rideshare_Dist",
          "value": 3.850835249191234e-07,
          "x": 14.141414141414142
         },
         {
          "parameter": "Rideshare_Dist",
          "value": 2.5045702492059295e-06,
          "x": 15.151515151515152
         },
         {
          "parameter": "Rideshare_Dist",
          "value": 9.523478029499313e-06,
          "x": 16.161616161616163
         },
         {
          "parameter": "Rideshare_Dist",
          "value": 2.1171045168013936e-05,
          "x": 17.171717171717173
         },
         {
          "parameter": "Rideshare_Dist",
          "value": 2.7515864226833675e-05,
          "x": 18.181818181818183
         },
         {
          "parameter": "Rideshare_Dist",
          "value": 2.0926053005561856e-05,
          "x": 19.191919191919194
         },
         {
          "parameter": "Rideshare_Dist",
          "value": 9.610142456989584e-06,
          "x": 20.202020202020204
         },
         {
          "parameter": "Rideshare_Dist",
          "value": 5.5807709632067165e-06,
          "x": 21.212121212121215
         },
         {
          "parameter": "Rideshare_Dist",
          "value": 1.8671419725941118e-05,
          "x": 22.222222222222225
         },
         {
          "parameter": "Rideshare_Dist",
          "value": 6.348607965836765e-05,
          "x": 23.232323232323235
         },
         {
          "parameter": "Rideshare_Dist",
          "value": 0.0001411372800155561,
          "x": 24.242424242424242
         },
         {
          "parameter": "Rideshare_Dist",
          "value": 0.00024068811436467476,
          "x": 25.252525252525253
         },
         {
          "parameter": "Rideshare_Dist",
          "value": 0.00039567883911510135,
          "x": 26.262626262626263
         },
         {
          "parameter": "Rideshare_Dist",
          "value": 0.0006542585339819665,
          "x": 27.272727272727273
         },
         {
          "parameter": "Rideshare_Dist",
          "value": 0.0010793555614856704,
          "x": 28.282828282828284
         },
         {
          "parameter": "Rideshare_Dist",
          "value": 0.0019062459274894815,
          "x": 29.292929292929294
         },
         {
          "parameter": "Rideshare_Dist",
          "value": 0.0037107688278079846,
          "x": 30.303030303030305
         },
         {
          "parameter": "Rideshare_Dist",
          "value": 0.0069780248711124645,
          "x": 31.313131313131315
         },
         {
          "parameter": "Rideshare_Dist",
          "value": 0.010580848102778671,
          "x": 32.323232323232325
         },
         {
          "parameter": "Rideshare_Dist",
          "value": 0.013574683599284777,
          "x": 33.333333333333336
         },
         {
          "parameter": "Rideshare_Dist",
          "value": 0.019341769195560434,
          "x": 34.343434343434346
         },
         {
          "parameter": "Rideshare_Dist",
          "value": 0.03509836935236736,
          "x": 35.35353535353536
         },
         {
          "parameter": "Rideshare_Dist",
          "value": 0.06454409792308875,
          "x": 36.36363636363637
         },
         {
          "parameter": "Rideshare_Dist",
          "value": 0.09376094863892308,
          "x": 37.37373737373738
         },
         {
          "parameter": "Rideshare_Dist",
          "value": 0.10736042169698873,
          "x": 38.38383838383839
         },
         {
          "parameter": "Rideshare_Dist",
          "value": 0.11079465871215845,
          "x": 39.3939393939394
         },
         {
          "parameter": "Rideshare_Dist",
          "value": 0.10361681405078593,
          "x": 40.40404040404041
         },
         {
          "parameter": "Rideshare_Dist",
          "value": 0.08501267956288917,
          "x": 41.41414141414142
         },
         {
          "parameter": "Rideshare_Dist",
          "value": 0.06654407655535492,
          "x": 42.42424242424243
         },
         {
          "parameter": "Rideshare_Dist",
          "value": 0.05026416560442171,
          "x": 43.43434343434344
         },
         {
          "parameter": "Rideshare_Dist",
          "value": 0.03636835087025918,
          "x": 44.44444444444445
         },
         {
          "parameter": "Rideshare_Dist",
          "value": 0.025969981031240864,
          "x": 45.45454545454546
         },
         {
          "parameter": "Rideshare_Dist",
          "value": 0.017291713016455955,
          "x": 46.46464646464647
         },
         {
          "parameter": "Rideshare_Dist",
          "value": 0.011038068645081498,
          "x": 47.47474747474748
         },
         {
          "parameter": "Rideshare_Dist",
          "value": 0.0072842231176541835,
          "x": 48.484848484848484
         },
         {
          "parameter": "Rideshare_Dist",
          "value": 0.005069975868915385,
          "x": 49.494949494949495
         },
         {
          "parameter": "Rideshare_Dist",
          "value": 0.003832773015764757,
          "x": 50.505050505050505
         },
         {
          "parameter": "Rideshare_Dist",
          "value": 0.003099526267542224,
          "x": 51.515151515151516
         },
         {
          "parameter": "Rideshare_Dist",
          "value": 0.0025950750779988327,
          "x": 52.525252525252526
         },
         {
          "parameter": "Rideshare_Dist",
          "value": 0.0021155678529165595,
          "x": 53.535353535353536
         },
         {
          "parameter": "Rideshare_Dist",
          "value": 0.001759187641706169,
          "x": 54.54545454545455
         },
         {
          "parameter": "Rideshare_Dist",
          "value": 0.0016348237442165253,
          "x": 55.55555555555556
         },
         {
          "parameter": "Rideshare_Dist",
          "value": 0.0017781411459057898,
          "x": 56.56565656565657
         },
         {
          "parameter": "Rideshare_Dist",
          "value": 0.002225803668803627,
          "x": 57.57575757575758
         },
         {
          "parameter": "Rideshare_Dist",
          "value": 0.0030199997576647376,
          "x": 58.58585858585859
         },
         {
          "parameter": "Rideshare_Dist",
          "value": 0.00406283613615552,
          "x": 59.5959595959596
         },
         {
          "parameter": "Rideshare_Dist",
          "value": 0.004736645777972654,
          "x": 60.60606060606061
         },
         {
          "parameter": "Rideshare_Dist",
          "value": 0.005005035940222996,
          "x": 61.61616161616162
         },
         {
          "parameter": "Rideshare_Dist",
          "value": 0.005417538024995065,
          "x": 62.62626262626263
         },
         {
          "parameter": "Rideshare_Dist",
          "value": 0.006188795864207632,
          "x": 63.63636363636364
         },
         {
          "parameter": "Rideshare_Dist",
          "value": 0.007321859455942952,
          "x": 64.64646464646465
         },
         {
          "parameter": "Rideshare_Dist",
          "value": 0.008003672324864222,
          "x": 65.65656565656566
         },
         {
          "parameter": "Rideshare_Dist",
          "value": 0.007995336475689827,
          "x": 66.66666666666667
         },
         {
          "parameter": "Rideshare_Dist",
          "value": 0.007683400401132482,
          "x": 67.67676767676768
         },
         {
          "parameter": "Rideshare_Dist",
          "value": 0.006729263941651577,
          "x": 68.68686868686869
         },
         {
          "parameter": "Rideshare_Dist",
          "value": 0.005530724310114346,
          "x": 69.6969696969697
         },
         {
          "parameter": "Rideshare_Dist",
          "value": 0.004475525858437248,
          "x": 70.70707070707071
         },
         {
          "parameter": "Rideshare_Dist",
          "value": 0.0034701085912475123,
          "x": 71.71717171717172
         },
         {
          "parameter": "Rideshare_Dist",
          "value": 0.0027197478723472554,
          "x": 72.72727272727273
         },
         {
          "parameter": "Rideshare_Dist",
          "value": 0.0021801548202700577,
          "x": 73.73737373737374
         },
         {
          "parameter": "Rideshare_Dist",
          "value": 0.0017634127873599828,
          "x": 74.74747474747475
         },
         {
          "parameter": "Rideshare_Dist",
          "value": 0.0013813816984268445,
          "x": 75.75757575757576
         },
         {
          "parameter": "Rideshare_Dist",
          "value": 0.000975072481614212,
          "x": 76.76767676767678
         },
         {
          "parameter": "Rideshare_Dist",
          "value": 0.0006554027036901091,
          "x": 77.77777777777779
         },
         {
          "parameter": "Rideshare_Dist",
          "value": 0.00043370396115532885,
          "x": 78.7878787878788
         },
         {
          "parameter": "Rideshare_Dist",
          "value": 0.00028847943380883983,
          "x": 79.7979797979798
         },
         {
          "parameter": "Rideshare_Dist",
          "value": 0.00022337469524212134,
          "x": 80.80808080808082
         },
         {
          "parameter": "Rideshare_Dist",
          "value": 0.00021234825882270245,
          "x": 81.81818181818183
         },
         {
          "parameter": "Rideshare_Dist",
          "value": 0.0002078034168634793,
          "x": 82.82828282828284
         },
         {
          "parameter": "Rideshare_Dist",
          "value": 0.000178616007632312,
          "x": 83.83838383838385
         },
         {
          "parameter": "Rideshare_Dist",
          "value": 0.0001464200293890427,
          "x": 84.84848484848486
         },
         {
          "parameter": "Rideshare_Dist",
          "value": 0.0001337870299870785,
          "x": 85.85858585858587
         },
         {
          "parameter": "Rideshare_Dist",
          "value": 0.00013441161008581208,
          "x": 86.86868686868688
         },
         {
          "parameter": "Rideshare_Dist",
          "value": 0.00011850358983918441,
          "x": 87.87878787878789
         },
         {
          "parameter": "Rideshare_Dist",
          "value": 7.468664404621738e-05,
          "x": 88.8888888888889
         },
         {
          "parameter": "Rideshare_Dist",
          "value": 3.9796411492424915e-05,
          "x": 89.89898989898991
         },
         {
          "parameter": "Rideshare_Dist",
          "value": 3.9739979368920665e-05,
          "x": 90.90909090909092
         },
         {
          "parameter": "Rideshare_Dist",
          "value": 5.3432132045983285e-05,
          "x": 91.91919191919193
         },
         {
          "parameter": "Rideshare_Dist",
          "value": 4.94153320081484e-05,
          "x": 92.92929292929294
         },
         {
          "parameter": "Rideshare_Dist",
          "value": 3.1589494717269e-05,
          "x": 93.93939393939395
         },
         {
          "parameter": "Rideshare_Dist",
          "value": 2.9318359600892276e-05,
          "x": 94.94949494949496
         },
         {
          "parameter": "Rideshare_Dist",
          "value": 5.451822394730327e-05,
          "x": 95.95959595959597
         },
         {
          "parameter": "Rideshare_Dist",
          "value": 8.531574797599663e-05,
          "x": 96.96969696969697
         },
         {
          "parameter": "Rideshare_Dist",
          "value": 9.492530651067419e-05,
          "x": 97.97979797979798
         },
         {
          "parameter": "Rideshare_Dist",
          "value": 8.578781049808704e-05,
          "x": 98.98989898989899
         },
         {
          "parameter": "Rideshare_Dist",
          "value": 6.688615030744831e-05,
          "x": 100
         },
         {
          "parameter": "Taxi_Dist",
          "value": 4.9000604573679774e-14,
          "x": 0
         },
         {
          "parameter": "Taxi_Dist",
          "value": 4.25428194763347e-09,
          "x": 1.0101010101010102
         },
         {
          "parameter": "Taxi_Dist",
          "value": 5.624835881971252e-06,
          "x": 2.0202020202020203
         },
         {
          "parameter": "Taxi_Dist",
          "value": 0.00011325364748147881,
          "x": 3.0303030303030303
         },
         {
          "parameter": "Taxi_Dist",
          "value": 3.472588290752906e-05,
          "x": 4.040404040404041
         },
         {
          "parameter": "Taxi_Dist",
          "value": 1.6214858052170942e-07,
          "x": 5.050505050505051
         },
         {
          "parameter": "Taxi_Dist",
          "value": 1.1530065164175231e-11,
          "x": 6.0606060606060606
         },
         {
          "parameter": "Taxi_Dist",
          "value": 1.2485591695121216e-17,
          "x": 7.070707070707071
         },
         {
          "parameter": "Taxi_Dist",
          "value": 2.0589473971941646e-25,
          "x": 8.080808080808081
         },
         {
          "parameter": "Taxi_Dist",
          "value": 5.170590334454676e-35,
          "x": 9.090909090909092
         },
         {
          "parameter": "Taxi_Dist",
          "value": 1.9773965168987462e-46,
          "x": 10.101010101010102
         },
         {
          "parameter": "Taxi_Dist",
          "value": 1.1516119311425186e-59,
          "x": 11.111111111111112
         },
         {
          "parameter": "Taxi_Dist",
          "value": 1.0213563717227826e-74,
          "x": 12.121212121212121
         },
         {
          "parameter": "Taxi_Dist",
          "value": 1.3794539449796283e-91,
          "x": 13.131313131313131
         },
         {
          "parameter": "Taxi_Dist",
          "value": 2.837238631371798e-110,
          "x": 14.141414141414142
         },
         {
          "parameter": "Taxi_Dist",
          "value": 8.886756479386051e-131,
          "x": 15.151515151515152
         },
         {
          "parameter": "Taxi_Dist",
          "value": 4.2388636848613324e-153,
          "x": 16.161616161616163
         },
         {
          "parameter": "Taxi_Dist",
          "value": 3.0790332419095725e-177,
          "x": 17.171717171717173
         },
         {
          "parameter": "Taxi_Dist",
          "value": 3.405948373888725e-203,
          "x": 18.181818181818183
         },
         {
          "parameter": "Taxi_Dist",
          "value": 5.737470954580854e-231,
          "x": 19.191919191919194
         },
         {
          "parameter": "Taxi_Dist",
          "value": 1.471843706509902e-260,
          "x": 20.202020202020204
         },
         {
          "parameter": "Taxi_Dist",
          "value": 5.760627088522189e-292,
          "x": 21.212121212121215
         },
         {
          "parameter": "Taxi_Dist",
          "value": 3.751938579939548e-263,
          "x": 22.222222222222225
         },
         {
          "parameter": "Taxi_Dist",
          "value": 2.001774342128274e-233,
          "x": 23.232323232323235
         },
         {
          "parameter": "Taxi_Dist",
          "value": 1.6264221208368435e-205,
          "x": 24.242424242424242
         },
         {
          "parameter": "Taxi_Dist",
          "value": 2.01238088127431e-179,
          "x": 25.252525252525253
         },
         {
          "parameter": "Taxi_Dist",
          "value": 3.791803724653628e-155,
          "x": 26.262626262626263
         },
         {
          "parameter": "Taxi_Dist",
          "value": 1.0880284989641506e-132,
          "x": 27.272727272727273
         },
         {
          "parameter": "Taxi_Dist",
          "value": 4.754375172547124e-112,
          "x": 28.282828282828284
         },
         {
          "parameter": "Taxi_Dist",
          "value": 3.1637734973282894e-93,
          "x": 29.292929292929294
         },
         {
          "parameter": "Taxi_Dist",
          "value": 3.206092691003228e-76,
          "x": 30.303030303030305
         },
         {
          "parameter": "Taxi_Dist",
          "value": 4.947724628349591e-61,
          "x": 31.313131313131315
         },
         {
          "parameter": "Taxi_Dist",
          "value": 1.16276974466834e-47,
          "x": 32.323232323232325
         },
         {
          "parameter": "Taxi_Dist",
          "value": 4.16141167587359e-36,
          "x": 33.333333333333336
         },
         {
          "parameter": "Taxi_Dist",
          "value": 2.2680174719592203e-26,
          "x": 34.343434343434346
         },
         {
          "parameter": "Taxi_Dist",
          "value": 1.8823954587212064e-18,
          "x": 35.35353535353536
         },
         {
          "parameter": "Taxi_Dist",
          "value": 2.3792172121094165e-12,
          "x": 36.36363636363637
         },
         {
          "parameter": "Taxi_Dist",
          "value": 4.5794790405173327e-08,
          "x": 37.37373737373738
         },
         {
          "parameter": "Taxi_Dist",
          "value": 1.3423223428861114e-05,
          "x": 38.38383838383839
         },
         {
          "parameter": "Taxi_Dist",
          "value": 5.992558537615505e-05,
          "x": 39.3939393939394
         },
         {
          "parameter": "Taxi_Dist",
          "value": 1.0920431884534531e-05,
          "x": 40.40404040404041
         },
         {
          "parameter": "Taxi_Dist",
          "value": 0.0001112019875322312,
          "x": 41.41414141414142
         },
         {
          "parameter": "Taxi_Dist",
          "value": 4.598670669891268e-05,
          "x": 42.42424242424243
         },
         {
          "parameter": "Taxi_Dist",
          "value": 0.0006329005431979385,
          "x": 43.43434343434344
         },
         {
          "parameter": "Taxi_Dist",
          "value": 0.007508964182346569,
          "x": 44.44444444444445
         },
         {
          "parameter": "Taxi_Dist",
          "value": 0.03230552630704995,
          "x": 45.45454545454546
         },
         {
          "parameter": "Taxi_Dist",
          "value": 0.0646957063311506,
          "x": 46.46464646464647
         },
         {
          "parameter": "Taxi_Dist",
          "value": 0.07486617331716351,
          "x": 47.47474747474748
         },
         {
          "parameter": "Taxi_Dist",
          "value": 0.07727593009571941,
          "x": 48.484848484848484
         },
         {
          "parameter": "Taxi_Dist",
          "value": 0.11874174288058256,
          "x": 49.494949494949495
         },
         {
          "parameter": "Taxi_Dist",
          "value": 0.17065988160540668,
          "x": 50.505050505050505
         },
         {
          "parameter": "Taxi_Dist",
          "value": 0.1622395100904204,
          "x": 51.515151515151516
         },
         {
          "parameter": "Taxi_Dist",
          "value": 0.11129855114229863,
          "x": 52.525252525252526
         },
         {
          "parameter": "Taxi_Dist",
          "value": 0.06900215896504709,
          "x": 53.535353535353536
         },
         {
          "parameter": "Taxi_Dist",
          "value": 0.04037716127789033,
          "x": 54.54545454545455
         },
         {
          "parameter": "Taxi_Dist",
          "value": 0.02163209750431542,
          "x": 55.55555555555556
         },
         {
          "parameter": "Taxi_Dist",
          "value": 0.012369873341778581,
          "x": 56.56565656565657
         },
         {
          "parameter": "Taxi_Dist",
          "value": 0.007516539323742008,
          "x": 57.57575757575758
         },
         {
          "parameter": "Taxi_Dist",
          "value": 0.004653679222330966,
          "x": 58.58585858585859
         },
         {
          "parameter": "Taxi_Dist",
          "value": 0.0032886691577303593,
          "x": 59.5959595959596
         },
         {
          "parameter": "Taxi_Dist",
          "value": 0.002275631291506232,
          "x": 60.60606060606061
         },
         {
          "parameter": "Taxi_Dist",
          "value": 0.0016028432350370773,
          "x": 61.61616161616162
         },
         {
          "parameter": "Taxi_Dist",
          "value": 0.0009933829045204823,
          "x": 62.62626262626263
         },
         {
          "parameter": "Taxi_Dist",
          "value": 0.001134624790873936,
          "x": 63.63636363636364
         },
         {
          "parameter": "Taxi_Dist",
          "value": 0.0007956531391926981,
          "x": 64.64646464646465
         },
         {
          "parameter": "Taxi_Dist",
          "value": 0.0004078711235225641,
          "x": 65.65656565656566
         },
         {
          "parameter": "Taxi_Dist",
          "value": 0.0003179602195028998,
          "x": 66.66666666666667
         },
         {
          "parameter": "Taxi_Dist",
          "value": 0.0003620654915377235,
          "x": 67.67676767676768
         },
         {
          "parameter": "Taxi_Dist",
          "value": 0.00038408333018906886,
          "x": 68.68686868686869
         },
         {
          "parameter": "Taxi_Dist",
          "value": 0.00019362199268043722,
          "x": 69.6969696969697
         },
         {
          "parameter": "Taxi_Dist",
          "value": 0.00017219112034461324,
          "x": 70.70707070707071
         },
         {
          "parameter": "Taxi_Dist",
          "value": 0.00026700513800015976,
          "x": 71.71717171717172
         },
         {
          "parameter": "Taxi_Dist",
          "value": 0.00013658403183705126,
          "x": 72.72727272727273
         },
         {
          "parameter": "Taxi_Dist",
          "value": 0.00011516875503065365,
          "x": 73.73737373737374
         },
         {
          "parameter": "Taxi_Dist",
          "value": 0.00011340190644005174,
          "x": 74.74747474747475
         },
         {
          "parameter": "Taxi_Dist",
          "value": 6.967052105634097e-05,
          "x": 75.75757575757576
         },
         {
          "parameter": "Taxi_Dist",
          "value": 0.00016133666895244798,
          "x": 76.76767676767678
         },
         {
          "parameter": "Taxi_Dist",
          "value": 0.00010275835944062896,
          "x": 77.77777777777779
         },
         {
          "parameter": "Taxi_Dist",
          "value": 0.000125187632157664,
          "x": 78.7878787878788
         },
         {
          "parameter": "Taxi_Dist",
          "value": 8.881699541350153e-05,
          "x": 79.7979797979798
         },
         {
          "parameter": "Taxi_Dist",
          "value": 6.788562499991828e-05,
          "x": 80.80808080808082
         },
         {
          "parameter": "Taxi_Dist",
          "value": 1.2380833733422238e-05,
          "x": 81.81818181818183
         },
         {
          "parameter": "Taxi_Dist",
          "value": 6.27331140257555e-05,
          "x": 82.82828282828284
         },
         {
          "parameter": "Taxi_Dist",
          "value": 5.361092398239261e-05,
          "x": 83.83838383838385
         },
         {
          "parameter": "Taxi_Dist",
          "value": 9.376543476792919e-05,
          "x": 84.84848484848486
         },
         {
          "parameter": "Taxi_Dist",
          "value": 7.410440528561471e-05,
          "x": 85.85858585858587
         },
         {
          "parameter": "Taxi_Dist",
          "value": 1.361899605022093e-05,
          "x": 86.86868686868688
         },
         {
          "parameter": "Taxi_Dist",
          "value": 2.970293092329814e-05,
          "x": 87.87878787878789
         },
         {
          "parameter": "Taxi_Dist",
          "value": 9.369714100654414e-05,
          "x": 88.8888888888889
         },
         {
          "parameter": "Taxi_Dist",
          "value": 2.7487158160726106e-05,
          "x": 89.89898989898991
         },
         {
          "parameter": "Taxi_Dist",
          "value": 2.2152492717202773e-07,
          "x": 90.90909090909092
         },
         {
          "parameter": "Taxi_Dist",
          "value": 2.8247131381483447e-11,
          "x": 91.91919191919193
         },
         {
          "parameter": "Taxi_Dist",
          "value": 5.5056229884163476e-17,
          "x": 92.92929292929294
         },
         {
          "parameter": "Taxi_Dist",
          "value": 2.841802477504823e-13,
          "x": 93.93939393939395
         },
         {
          "parameter": "Taxi_Dist",
          "value": 1.1258155314067237e-08,
          "x": 94.94949494949496
         },
         {
          "parameter": "Taxi_Dist",
          "value": 6.792025988934919e-06,
          "x": 95.95959595959597
         },
         {
          "parameter": "Taxi_Dist",
          "value": 6.240080586128214e-05,
          "x": 96.96969696969697
         },
         {
          "parameter": "Taxi_Dist",
          "value": 8.730514011233456e-06,
          "x": 97.97979797979798
         },
         {
          "parameter": "Taxi_Dist",
          "value": 1.8601509357846495e-08,
          "x": 98.98989898989899
         },
         {
          "parameter": "Taxi_Dist",
          "value": 6.035528603302082e-13,
          "x": 100
         }
        ],
        "data-9979db80adfa3c3b522ddc81cdb7efe8": [
         {
          "hour": 0,
          "parameter": "Rideshare_regular_price_estimate",
          "value": 39.68325424194336
         },
         {
          "hour": 0,
          "parameter": "Rideshare_shared_price_estimate",
          "value": 28.123088836669922
         },
         {
          "hour": 0,
          "parameter": "Taxi_price_estimate",
          "value": 52.749267578125
         }
        ]
       },
       "layer": [
        {
         "data": {
          "name": "data-9979db80adfa3c3b522ddc81cdb7efe8"
         },
         "encoding": {
          "color": {
           "field": "parameter",
           "scale": {
            "domain": [
             "Rideshare_regular_price_estimate",
             "Rideshare_shared_price_estimate",
             "Taxi_price_estimate"
            ],
            "range": [
             "red",
             "green",
             "blue"
            ]
           },
           "type": "nominal"
          },
          "size": {
           "value": 5
          },
          "x": {
           "field": "value",
           "type": "quantitative"
          }
         },
         "mark": {
          "color": "red",
          "type": "rule"
         },
         "selection": {
          " ": {
           "bind": {
            "input": "range",
            "max": 9,
            "min": 0,
            "step": 1
           },
           "fields": [
            "hour"
           ],
           "init": {
            "hour": 0
           },
           "type": "single"
          }
         },
         "transform": [
          {
           "filter": {
            "selection": " "
           }
          }
         ]
        },
        {
         "data": {
          "name": "data-06183931073ef5c563ad59201d3d4458"
         },
         "encoding": {
          "color": {
           "field": "parameter",
           "legend": null,
           "scale": {
            "domain": [
             "Rideshare_Dist",
             "Shared_Rideshare_Dist",
             "Taxi_Dist"
            ],
            "range": [
             "red",
             "green",
             "blue"
            ]
           },
           "type": "nominal"
          },
          "opacity": {
           "condition": {
            "selection": "Ride Type",
            "value": 0.6
           },
           "value": 0
          },
          "x": {
           "field": "x",
           "title": "Ride Cost (Dollars)",
           "type": "quantitative"
          },
          "y": {
           "field": "value",
           "title": "Density",
           "type": "quantitative"
          }
         },
         "mark": {
          "point": false,
          "size": 4,
          "type": "area"
         },
         "selection": {
          "Ride Type": {
           "bind": {
            "input": "select",
            "options": [
             "Rideshare_Dist",
             "Shared_Rideshare_Dist",
             "Taxi_Dist"
            ]
           },
           "clear": false,
           "fields": [
            "parameter"
           ],
           "init": {
            "parameter": "Rideshare_Dist"
           },
           "on": "doubleclick",
           "type": "single"
          }
         }
        }
       ]
      },
      "image/png": "[encoded data removed]",
      "text/plain": [
       "<VegaLite 3 object>\n",
       "\n",
       "If you see this message, it means the renderer has not been properly enabled\n",
       "for the frontend that you are using. For more information, see\n",
       "https://altair-viz.github.io/user_guide/troubleshooting.html\n"
      ]
     },
     "execution_count": 58,
     "metadata": {},
     "output_type": "execute_result"
    },
    {
     "data": {
      "image/png": "[encoded data removed]",
      "text/plain": [
       "<Figure size 864x576 with 1 Axes>"
      ]
     },
     "metadata": {},
     "output_type": "display_data"
    }
   ],
   "source": [
    "USER_PARAMS = {\"pickup\": \"chicago ohare airport\",\n",
    "               \"dropoff\": \"the bean chicago\",\n",
    "               \"forecast_hrs\":1}\n",
    "\n",
    "results = run_Fair_Fare(USER_PARAMS)\n",
    "\n",
    "pd.set_option(\"display.precision\", 2)\n",
    "print(pd.DataFrame(results[5]).iloc[0])\n",
    "\n",
    "show_viz(results)"
   ]
  },
  {
   "cell_type": "markdown",
   "metadata": {},
   "source": [
    "### Audience Participation"
   ]
  },
  {
   "cell_type": "code",
   "execution_count": 59,
   "metadata": {},
   "outputs": [
    {
     "name": "stdout",
     "output_type": "stream",
     "text": [
      "Rideshare_regular_price_estimate    43.54\n",
      "Rideshare_shared_price_estimate     31.22\n",
      "Taxi_price_estimate                 62.64\n",
      "Name: 0, dtype: float64\n",
      "230.5\n"
     ]
    },
    {
     "data": {
      "application/vnd.vegalite.v3+json": {
       "$schema": "https://vega.github.io/schema/vega-lite/v3.3.0.json",
       "config": {
        "mark": {
         "tooltip": null
        },
        "view": {
         "height": 300,
         "width": 400
        }
       },
       "datasets": {
        "data-12e983d1858d899e7c0eb4f18530d142": [
         {
          "parameter": "Shared_Rideshare_Dist",
          "value": 8.80314940933432e-05,
          "x": 0
         },
         {
          "parameter": "Shared_Rideshare_Dist",
          "value": 0.0001064361901769601,
          "x": 1.0101010101010102
         },
         {
          "parameter": "Shared_Rideshare_Dist",
          "value": 0.0001092434588238659,
          "x": 2.0202020202020203
         },
         {
          "parameter": "Shared_Rideshare_Dist",
          "value": 0.0001092486366785853,
          "x": 3.0303030303030303
         },
         {
          "parameter": "Shared_Rideshare_Dist",
          "value": 0.0001193162576171765,
          "x": 4.040404040404041
         },
         {
          "parameter": "Shared_Rideshare_Dist",
          "value": 0.00014134123027844718,
          "x": 5.050505050505051
         },
         {
          "parameter": "Shared_Rideshare_Dist",
          "value": 0.00017334655809170098,
          "x": 6.0606060606060606
         },
         {
          "parameter": "Shared_Rideshare_Dist",
          "value": 0.0002166425147778947,
          "x": 7.070707070707071
         },
         {
          "parameter": "Shared_Rideshare_Dist",
          "value": 0.0002664958201464034,
          "x": 8.080808080808081
         },
         {
          "parameter": "Shared_Rideshare_Dist",
          "value": 0.00030787043844436216,
          "x": 9.090909090909092
         },
         {
          "parameter": "Shared_Rideshare_Dist",
          "value": 0.00034176098305871617,
          "x": 10.101010101010102
         },
         {
          "parameter": "Shared_Rideshare_Dist",
          "value": 0.0004099573804761809,
          "x": 11.111111111111112
         },
         {
          "parameter": "Shared_Rideshare_Dist",
          "value": 0.0005814674643227814,
          "x": 12.121212121212121
         },
         {
          "parameter": "Shared_Rideshare_Dist",
          "value": 0.0009187372670445211,
          "x": 13.131313131313131
         },
         {
          "parameter": "Shared_Rideshare_Dist",
          "value": 0.0014594981702549378,
          "x": 14.141414141414142
         },
         {
          "parameter": "Shared_Rideshare_Dist",
          "value": 0.0022581560830853883,
          "x": 15.151515151515152
         },
         {
          "parameter": "Shared_Rideshare_Dist",
          "value": 0.0034416184922185073,
          "x": 16.161616161616163
         },
         {
          "parameter": "Shared_Rideshare_Dist",
          "value": 0.005163948089280309,
          "x": 17.171717171717173
         },
         {
          "parameter": "Shared_Rideshare_Dist",
          "value": 0.007595636518042028,
          "x": 18.181818181818183
         },
         {
          "parameter": "Shared_Rideshare_Dist",
          "value": 0.010933983041633684,
          "x": 19.191919191919194
         },
         {
          "parameter": "Shared_Rideshare_Dist",
          "value": 0.015045838685483516,
          "x": 20.202020202020204
         },
         {
          "parameter": "Shared_Rideshare_Dist",
          "value": 0.01937055535871242,
          "x": 21.212121212121215
         },
         {
          "parameter": "Shared_Rideshare_Dist",
          "value": 0.023710520538649416,
          "x": 22.222222222222225
         },
         {
          "parameter": "Shared_Rideshare_Dist",
          "value": 0.028307005453176597,
          "x": 23.232323232323235
         },
         {
          "parameter": "Shared_Rideshare_Dist",
          "value": 0.0330236172816903,
          "x": 24.242424242424242
         },
         {
          "parameter": "Shared_Rideshare_Dist",
          "value": 0.03773645757325472,
          "x": 25.252525252525253
         },
         {
          "parameter": "Shared_Rideshare_Dist",
          "value": 0.042578186458776986,
          "x": 26.262626262626263
         },
         {
          "parameter": "Shared_Rideshare_Dist",
          "value": 0.04696858321849157,
          "x": 27.272727272727273
         },
         {
          "parameter": "Shared_Rideshare_Dist",
          "value": 0.05029082936489508,
          "x": 28.282828282828284
         },
         {
          "parameter": "Shared_Rideshare_Dist",
          "value": 0.05269344520709832,
          "x": 29.292929292929294
         },
         {
          "parameter": "Shared_Rideshare_Dist",
          "value": 0.053707177037165287,
          "x": 30.303030303030305
         },
         {
          "parameter": "Shared_Rideshare_Dist",
          "value": 0.05269101866125929,
          "x": 31.313131313131315
         },
         {
          "parameter": "Shared_Rideshare_Dist",
          "value": 0.05047460594732537,
          "x": 32.323232323232325
         },
         {
          "parameter": "Shared_Rideshare_Dist",
          "value": 0.04797608042918954,
          "x": 33.333333333333336
         },
         {
          "parameter": "Shared_Rideshare_Dist",
          "value": 0.045275736348715685,
          "x": 34.343434343434346
         },
         {
          "parameter": "Shared_Rideshare_Dist",
          "value": 0.04278686851156502,
          "x": 35.35353535353536
         },
         {
          "parameter": "Shared_Rideshare_Dist",
          "value": 0.04088335060690201,
          "x": 36.36363636363637
         },
         {
          "parameter": "Shared_Rideshare_Dist",
          "value": 0.039416412980161866,
          "x": 37.37373737373738
         },
         {
          "parameter": "Shared_Rideshare_Dist",
          "value": 0.03832278070557565,
          "x": 38.38383838383839
         },
         {
          "parameter": "Shared_Rideshare_Dist",
          "value": 0.03719671981838033,
          "x": 39.3939393939394
         },
         {
          "parameter": "Shared_Rideshare_Dist",
          "value": 0.03543617455151136,
          "x": 40.40404040404041
         },
         {
          "parameter": "Shared_Rideshare_Dist",
          "value": 0.03323933172200025,
          "x": 41.41414141414142
         },
         {
          "parameter": "Shared_Rideshare_Dist",
          "value": 0.030934144378933146,
          "x": 42.42424242424243
         },
         {
          "parameter": "Shared_Rideshare_Dist",
          "value": 0.028445880391557408,
          "x": 43.43434343434344
         },
         {
          "parameter": "Shared_Rideshare_Dist",
          "value": 0.02598166494174598,
          "x": 44.44444444444445
         },
         {
          "parameter": "Shared_Rideshare_Dist",
          "value": 0.023747492776956824,
          "x": 45.45454545454546
         },
         {
          "parameter": "Shared_Rideshare_Dist",
          "value": 0.021624636353929777,
          "x": 46.46464646464647
         },
         {
          "parameter": "Shared_Rideshare_Dist",
          "value": 0.019677370773066593,
          "x": 47.47474747474748
         },
         {
          "parameter": "Shared_Rideshare_Dist",
          "value": 0.01793570083828789,
          "x": 48.484848484848484
         },
         {
          "parameter": "Shared_Rideshare_Dist",
          "value": 0.016190201021106115,
          "x": 49.494949494949495
         },
         {
          "parameter": "Shared_Rideshare_Dist",
          "value": 0.014477532874871519,
          "x": 50.505050505050505
         },
         {
          "parameter": "Shared_Rideshare_Dist",
          "value": 0.012925701176475823,
          "x": 51.515151515151516
         },
         {
          "parameter": "Shared_Rideshare_Dist",
          "value": 0.011427116757019564,
          "x": 52.525252525252526
         },
         {
          "parameter": "Shared_Rideshare_Dist",
          "value": 0.0099386048747667,
          "x": 53.535353535353536
         },
         {
          "parameter": "Shared_Rideshare_Dist",
          "value": 0.008542604212403526,
          "x": 54.54545454545455
         },
         {
          "parameter": "Shared_Rideshare_Dist",
          "value": 0.00727380474978472,
          "x": 55.55555555555556
         },
         {
          "parameter": "Shared_Rideshare_Dist",
          "value": 0.006190970655995393,
          "x": 56.56565656565657
         },
         {
          "parameter": "Shared_Rideshare_Dist",
          "value": 0.005335437253919994,
          "x": 57.57575757575758
         },
         {
          "parameter": "Shared_Rideshare_Dist",
          "value": 0.004649581874306479,
          "x": 58.58585858585859
         },
         {
          "parameter": "Shared_Rideshare_Dist",
          "value": 0.004086896064265986,
          "x": 59.5959595959596
         },
         {
          "parameter": "Shared_Rideshare_Dist",
          "value": 0.003641077204161562,
          "x": 60.60606060606061
         },
         {
          "parameter": "Shared_Rideshare_Dist",
          "value": 0.003301603174156936,
          "x": 61.61616161616162
         },
         {
          "parameter": "Shared_Rideshare_Dist",
          "value": 0.0030360063327159043,
          "x": 62.62626262626263
         },
         {
          "parameter": "Shared_Rideshare_Dist",
          "value": 0.0027382958949858636,
          "x": 63.63636363636364
         },
         {
          "parameter": "Shared_Rideshare_Dist",
          "value": 0.002313752894865947,
          "x": 64.64646464646465
         },
         {
          "parameter": "Shared_Rideshare_Dist",
          "value": 0.0018371936049241507,
          "x": 65.65656565656566
         },
         {
          "parameter": "Shared_Rideshare_Dist",
          "value": 0.001466258351215313,
          "x": 66.66666666666667
         },
         {
          "parameter": "Shared_Rideshare_Dist",
          "value": 0.0012568512530985393,
          "x": 67.67676767676768
         },
         {
          "parameter": "Shared_Rideshare_Dist",
          "value": 0.0011526196864120658,
          "x": 68.68686868686869
         },
         {
          "parameter": "Shared_Rideshare_Dist",
          "value": 0.0010650575447245592,
          "x": 69.6969696969697
         },
         {
          "parameter": "Shared_Rideshare_Dist",
          "value": 0.0009400611243020224,
          "x": 70.70707070707071
         },
         {
          "parameter": "Shared_Rideshare_Dist",
          "value": 0.000787200112161206,
          "x": 71.71717171717172
         },
         {
          "parameter": "Shared_Rideshare_Dist",
          "value": 0.0006424829694527252,
          "x": 72.72727272727273
         },
         {
          "parameter": "Shared_Rideshare_Dist",
          "value": 0.0005263530767667033,
          "x": 73.73737373737374
         },
         {
          "parameter": "Shared_Rideshare_Dist",
          "value": 0.0004443709862995312,
          "x": 74.74747474747475
         },
         {
          "parameter": "Shared_Rideshare_Dist",
          "value": 0.00039054837171380053,
          "x": 75.75757575757576
         },
         {
          "parameter": "Shared_Rideshare_Dist",
          "value": 0.0003511048833919223,
          "x": 76.76767676767678
         },
         {
          "parameter": "Shared_Rideshare_Dist",
          "value": 0.0003208143184839788,
          "x": 77.77777777777779
         },
         {
          "parameter": "Shared_Rideshare_Dist",
          "value": 0.0003058716146949114,
          "x": 78.7878787878788
         },
         {
          "parameter": "Shared_Rideshare_Dist",
          "value": 0.0003115089056652555,
          "x": 79.7979797979798
         },
         {
          "parameter": "Shared_Rideshare_Dist",
          "value": 0.0003295820138935753,
          "x": 80.80808080808082
         },
         {
          "parameter": "Shared_Rideshare_Dist",
          "value": 0.0003351078463907907,
          "x": 81.81818181818183
         },
         {
          "parameter": "Shared_Rideshare_Dist",
          "value": 0.00030636305280172657,
          "x": 82.82828282828284
         },
         {
          "parameter": "Shared_Rideshare_Dist",
          "value": 0.00024743820879647897,
          "x": 83.83838383838385
         },
         {
          "parameter": "Shared_Rideshare_Dist",
          "value": 0.00017801135494182097,
          "x": 84.84848484848486
         },
         {
          "parameter": "Shared_Rideshare_Dist",
          "value": 0.00011274532306068285,
          "x": 85.85858585858587
         },
         {
          "parameter": "Shared_Rideshare_Dist",
          "value": 6.014716664467254e-05,
          "x": 86.86868686868688
         },
         {
          "parameter": "Shared_Rideshare_Dist",
          "value": 2.5679635668875474e-05,
          "x": 87.87878787878789
         },
         {
          "parameter": "Shared_Rideshare_Dist",
          "value": 8.454307992638303e-06,
          "x": 88.8888888888889
         },
         {
          "parameter": "Shared_Rideshare_Dist",
          "value": 2.1008423730185934e-06,
          "x": 89.89898989898991
         },
         {
          "parameter": "Shared_Rideshare_Dist",
          "value": 3.898870434055703e-07,
          "x": 90.90909090909092
         },
         {
          "parameter": "Shared_Rideshare_Dist",
          "value": 5.6375795905375616e-08,
          "x": 91.91919191919193
         },
         {
          "parameter": "Shared_Rideshare_Dist",
          "value": 3.204933211957404e-08,
          "x": 92.92929292929294
         },
         {
          "parameter": "Shared_Rideshare_Dist",
          "value": 1.920883933202009e-07,
          "x": 93.93939393939395
         },
         {
          "parameter": "Shared_Rideshare_Dist",
          "value": 1.0199598086585487e-06,
          "x": 94.94949494949496
         },
         {
          "parameter": "Shared_Rideshare_Dist",
          "value": 4.004766990929495e-06,
          "x": 95.95959595959597
         },
         {
          "parameter": "Shared_Rideshare_Dist",
          "value": 1.1603263350386304e-05,
          "x": 96.96969696969697
         },
         {
          "parameter": "Shared_Rideshare_Dist",
          "value": 2.4807459403902955e-05,
          "x": 97.97979797979798
         },
         {
          "parameter": "Shared_Rideshare_Dist",
          "value": 3.913664329911799e-05,
          "x": 98.98989898989899
         },
         {
          "parameter": "Shared_Rideshare_Dist",
          "value": 4.5560030092697964e-05,
          "x": 100
         },
         {
          "parameter": "Rideshare_Dist",
          "value": 1.8793574028780914e-10,
          "x": 0
         },
         {
          "parameter": "Rideshare_Dist",
          "value": 2.9696159075739807e-09,
          "x": 1.0101010101010102
         },
         {
          "parameter": "Rideshare_Dist",
          "value": 3.2632051405425495e-08,
          "x": 2.0202020202020203
         },
         {
          "parameter": "Rideshare_Dist",
          "value": 2.4936854166260716e-07,
          "x": 3.0303030303030303
         },
         {
          "parameter": "Rideshare_Dist",
          "value": 1.3252327141998372e-06,
          "x": 4.040404040404041
         },
         {
          "parameter": "Rideshare_Dist",
          "value": 4.897741124783128e-06,
          "x": 5.050505050505051
         },
         {
          "parameter": "Rideshare_Dist",
          "value": 1.2587883836209581e-05,
          "x": 6.0606060606060606
         },
         {
          "parameter": "Rideshare_Dist",
          "value": 2.2499001508128142e-05,
          "x": 7.070707070707071
         },
         {
          "parameter": "Rideshare_Dist",
          "value": 2.7966188304379603e-05,
          "x": 8.080808080808081
         },
         {
          "parameter": "Rideshare_Dist",
          "value": 2.4179682154547194e-05,
          "x": 9.090909090909092
         },
         {
          "parameter": "Rideshare_Dist",
          "value": 1.4585419572777746e-05,
          "x": 10.101010101010102
         },
         {
          "parameter": "Rideshare_Dist",
          "value": 6.410050652916982e-06,
          "x": 11.111111111111112
         },
         {
          "parameter": "Rideshare_Dist",
          "value": 3.2168126627449975e-06,
          "x": 12.121212121212121
         },
         {
          "parameter": "Rideshare_Dist",
          "value": 4.723328475395763e-06,
          "x": 13.131313131313131
         },
         {
          "parameter": "Rideshare_Dist",
          "value": 9.188968583284677e-06,
          "x": 14.141414141414142
         },
         {
          "parameter": "Rideshare_Dist",
          "value": 1.3306936833895798e-05,
          "x": 15.151515151515152
         },
         {
          "parameter": "Rideshare_Dist",
          "value": 1.34652119713694e-05,
          "x": 16.161616161616163
         },
         {
          "parameter": "Rideshare_Dist",
          "value": 9.479214487963652e-06,
          "x": 17.171717171717173
         },
         {
          "parameter": "Rideshare_Dist",
          "value": 4.650605309729145e-06,
          "x": 18.181818181818183
         },
         {
          "parameter": "Rideshare_Dist",
          "value": 1.6842998436065233e-06,
          "x": 19.191919191919194
         },
         {
          "parameter": "Rideshare_Dist",
          "value": 1.103335673600297e-06,
          "x": 20.202020202020204
         },
         {
          "parameter": "Rideshare_Dist",
          "value": 3.6349345627311465e-06,
          "x": 21.212121212121215
         },
         {
          "parameter": "Rideshare_Dist",
          "value": 1.2422660385659396e-05,
          "x": 22.222222222222225
         },
         {
          "parameter": "Rideshare_Dist",
          "value": 3.1216437951739626e-05,
          "x": 23.232323232323235
         },
         {
          "parameter": "Rideshare_Dist",
          "value": 5.94218335509353e-05,
          "x": 24.242424242424242
         },
         {
          "parameter": "Rideshare_Dist",
          "value": 9.420123565161937e-05,
          "x": 25.252525252525253
         },
         {
          "parameter": "Rideshare_Dist",
          "value": 0.00014542256631830432,
          "x": 26.262626262626263
         },
         {
          "parameter": "Rideshare_Dist",
          "value": 0.00024760988660634583,
          "x": 27.272727272727273
         },
         {
          "parameter": "Rideshare_Dist",
          "value": 0.0004495575543424368,
          "x": 28.282828282828284
         },
         {
          "parameter": "Rideshare_Dist",
          "value": 0.0007928974445526961,
          "x": 29.292929292929294
         },
         {
          "parameter": "Rideshare_Dist",
          "value": 0.0013256715561290413,
          "x": 30.303030303030305
         },
         {
          "parameter": "Rideshare_Dist",
          "value": 0.0021489067822941937,
          "x": 31.313131313131315
         },
         {
          "parameter": "Rideshare_Dist",
          "value": 0.003460310858959737,
          "x": 32.323232323232325
         },
         {
          "parameter": "Rideshare_Dist",
          "value": 0.0056213607063642325,
          "x": 33.333333333333336
         },
         {
          "parameter": "Rideshare_Dist",
          "value": 0.00920841007246646,
          "x": 34.343434343434346
         },
         {
          "parameter": "Rideshare_Dist",
          "value": 0.014985172215693626,
          "x": 35.35353535353536
         },
         {
          "parameter": "Rideshare_Dist",
          "value": 0.023530044258110658,
          "x": 36.36363636363637
         },
         {
          "parameter": "Rideshare_Dist",
          "value": 0.034723008311099986,
          "x": 37.37373737373738
         },
         {
          "parameter": "Rideshare_Dist",
          "value": 0.04771742312613479,
          "x": 38.38383838383839
         },
         {
          "parameter": "Rideshare_Dist",
          "value": 0.06002169249270583,
          "x": 39.3939393939394
         },
         {
          "parameter": "Rideshare_Dist",
          "value": 0.06766893709618137,
          "x": 40.40404040404041
         },
         {
          "parameter": "Rideshare_Dist",
          "value": 0.06929909042281104,
          "x": 41.41414141414142
         },
         {
          "parameter": "Rideshare_Dist",
          "value": 0.06696054373503578,
          "x": 42.42424242424243
         },
         {
          "parameter": "Rideshare_Dist",
          "value": 0.06270836649453138,
          "x": 43.43434343434344
         },
         {
          "parameter": "Rideshare_Dist",
          "value": 0.05778302167538339,
          "x": 44.44444444444445
         },
         {
          "parameter": "Rideshare_Dist",
          "value": 0.05251152299928377,
          "x": 45.45454545454546
         },
         {
          "parameter": "Rideshare_Dist",
          "value": 0.0467791318599434,
          "x": 46.46464646464647
         },
         {
          "parameter": "Rideshare_Dist",
          "value": 0.041030268200544055,
          "x": 47.47474747474748
         },
         {
          "parameter": "Rideshare_Dist",
          "value": 0.035567293326968535,
          "x": 48.484848484848484
         },
         {
          "parameter": "Rideshare_Dist",
          "value": 0.03046152955709775,
          "x": 49.494949494949495
         },
         {
          "parameter": "Rideshare_Dist",
          "value": 0.02581877654500461,
          "x": 50.505050505050505
         },
         {
          "parameter": "Rideshare_Dist",
          "value": 0.021645811424108402,
          "x": 51.515151515151516
         },
         {
          "parameter": "Rideshare_Dist",
          "value": 0.018064622012904773,
          "x": 52.525252525252526
         },
         {
          "parameter": "Rideshare_Dist",
          "value": 0.015150799648872285,
          "x": 53.535353535353536
         },
         {
          "parameter": "Rideshare_Dist",
          "value": 0.012741721910570367,
          "x": 54.54545454545455
         },
         {
          "parameter": "Rideshare_Dist",
          "value": 0.01060945149574923,
          "x": 55.55555555555556
         },
         {
          "parameter": "Rideshare_Dist",
          "value": 0.008712868607475853,
          "x": 56.56565656565657
         },
         {
          "parameter": "Rideshare_Dist",
          "value": 0.007237701761045761,
          "x": 57.57575757575758
         },
         {
          "parameter": "Rideshare_Dist",
          "value": 0.0062911184188503,
          "x": 58.58585858585859
         },
         {
          "parameter": "Rideshare_Dist",
          "value": 0.00575304107388215,
          "x": 59.5959595959596
         },
         {
          "parameter": "Rideshare_Dist",
          "value": 0.005467759550103886,
          "x": 60.60606060606061
         },
         {
          "parameter": "Rideshare_Dist",
          "value": 0.005365297045621255,
          "x": 61.61616161616162
         },
         {
          "parameter": "Rideshare_Dist",
          "value": 0.005319781360280689,
          "x": 62.62626262626263
         },
         {
          "parameter": "Rideshare_Dist",
          "value": 0.005173243322541486,
          "x": 63.63636363636364
         },
         {
          "parameter": "Rideshare_Dist",
          "value": 0.0049787314556353855,
          "x": 64.64646464646465
         },
         {
          "parameter": "Rideshare_Dist",
          "value": 0.004929790953020044,
          "x": 65.65656565656566
         },
         {
          "parameter": "Rideshare_Dist",
          "value": 0.005090939343705542,
          "x": 66.66666666666667
         },
         {
          "parameter": "Rideshare_Dist",
          "value": 0.005303300062949593,
          "x": 67.67676767676768
         },
         {
          "parameter": "Rideshare_Dist",
          "value": 0.005382044818217694,
          "x": 68.68686868686869
         },
         {
          "parameter": "Rideshare_Dist",
          "value": 0.005341730206960387,
          "x": 69.6969696969697
         },
         {
          "parameter": "Rideshare_Dist",
          "value": 0.005271890425019951,
          "x": 70.70707070707071
         },
         {
          "parameter": "Rideshare_Dist",
          "value": 0.005179703307903848,
          "x": 71.71717171717172
         },
         {
          "parameter": "Rideshare_Dist",
          "value": 0.0049838815572985275,
          "x": 72.72727272727273
         },
         {
          "parameter": "Rideshare_Dist",
          "value": 0.004598351434366244,
          "x": 73.73737373737374
         },
         {
          "parameter": "Rideshare_Dist",
          "value": 0.004073368705809547,
          "x": 74.74747474747475
         },
         {
          "parameter": "Rideshare_Dist",
          "value": 0.003523608532350985,
          "x": 75.75757575757576
         },
         {
          "parameter": "Rideshare_Dist",
          "value": 0.003026820003112851,
          "x": 76.76767676767678
         },
         {
          "parameter": "Rideshare_Dist",
          "value": 0.002621717809586995,
          "x": 77.77777777777779
         },
         {
          "parameter": "Rideshare_Dist",
          "value": 0.0022860574508013327,
          "x": 78.7878787878788
         },
         {
          "parameter": "Rideshare_Dist",
          "value": 0.002019775795107263,
          "x": 79.7979797979798
         },
         {
          "parameter": "Rideshare_Dist",
          "value": 0.001892694027197963,
          "x": 80.80808080808082
         },
         {
          "parameter": "Rideshare_Dist",
          "value": 0.0019413001921386092,
          "x": 81.81818181818183
         },
         {
          "parameter": "Rideshare_Dist",
          "value": 0.0020901115793857607,
          "x": 82.82828282828284
         },
         {
          "parameter": "Rideshare_Dist",
          "value": 0.0022105326850465857,
          "x": 83.83838383838385
         },
         {
          "parameter": "Rideshare_Dist",
          "value": 0.0022623689913721903,
          "x": 84.84848484848486
         },
         {
          "parameter": "Rideshare_Dist",
          "value": 0.002300442027004539,
          "x": 85.85858585858587
         },
         {
          "parameter": "Rideshare_Dist",
          "value": 0.002355426027315042,
          "x": 86.86868686868688
         },
         {
          "parameter": "Rideshare_Dist",
          "value": 0.0023858129197725716,
          "x": 87.87878787878789
         },
         {
          "parameter": "Rideshare_Dist",
          "value": 0.002327718364202208,
          "x": 88.8888888888889
         },
         {
          "parameter": "Rideshare_Dist",
          "value": 0.0021822834734325602,
          "x": 89.89898989898991
         },
         {
          "parameter": "Rideshare_Dist",
          "value": 0.001994830549000674,
          "x": 90.90909090909092
         },
         {
          "parameter": "Rideshare_Dist",
          "value": 0.0017709972279928664,
          "x": 91.91919191919193
         },
         {
          "parameter": "Rideshare_Dist",
          "value": 0.0015162404851816053,
          "x": 92.92929292929294
         },
         {
          "parameter": "Rideshare_Dist",
          "value": 0.001279355438045158,
          "x": 93.93939393939395
         },
         {
          "parameter": "Rideshare_Dist",
          "value": 0.0011084037971003525,
          "x": 94.94949494949496
         },
         {
          "parameter": "Rideshare_Dist",
          "value": 0.0010079251359845305,
          "x": 95.95959595959597
         },
         {
          "parameter": "Rideshare_Dist",
          "value": 0.0009362332440143959,
          "x": 96.96969696969697
         },
         {
          "parameter": "Rideshare_Dist",
          "value": 0.0008340907684147262,
          "x": 97.97979797979798
         },
         {
          "parameter": "Rideshare_Dist",
          "value": 0.0006588568578881632,
          "x": 98.98989898989899
         },
         {
          "parameter": "Rideshare_Dist",
          "value": 0.0004264243431995856,
          "x": 100
         },
         {
          "parameter": "Taxi_Dist",
          "value": 1.7096198261640704e-05,
          "x": 0
         },
         {
          "parameter": "Taxi_Dist",
          "value": 3.685024491580616e-05,
          "x": 1.0101010101010102
         },
         {
          "parameter": "Taxi_Dist",
          "value": 6.070887087996741e-05,
          "x": 2.0202020202020203
         },
         {
          "parameter": "Taxi_Dist",
          "value": 7.645159733930179e-05,
          "x": 3.0303030303030303
         },
         {
          "parameter": "Taxi_Dist",
          "value": 7.360099384662141e-05,
          "x": 4.040404040404041
         },
         {
          "parameter": "Taxi_Dist",
          "value": 5.417150317657246e-05,
          "x": 5.050505050505051
         },
         {
          "parameter": "Taxi_Dist",
          "value": 3.0483908725747966e-05,
          "x": 6.0606060606060606
         },
         {
          "parameter": "Taxi_Dist",
          "value": 1.3121382127897562e-05,
          "x": 7.070707070707071
         },
         {
          "parameter": "Taxi_Dist",
          "value": 4.3598012273592e-06,
          "x": 8.080808080808081
         },
         {
          "parameter": "Taxi_Dist",
          "value": 1.3208091010516866e-06,
          "x": 9.090909090909092
         },
         {
          "parameter": "Taxi_Dist",
          "value": 1.1389438985638732e-06,
          "x": 10.101010101010102
         },
         {
          "parameter": "Taxi_Dist",
          "value": 2.8932723873373235e-06,
          "x": 11.111111111111112
         },
         {
          "parameter": "Taxi_Dist",
          "value": 6.974262785773266e-06,
          "x": 12.121212121212121
         },
         {
          "parameter": "Taxi_Dist",
          "value": 1.364360054504893e-05,
          "x": 13.131313131313131
         },
         {
          "parameter": "Taxi_Dist",
          "value": 2.1775291615164837e-05,
          "x": 14.141414141414142
         },
         {
          "parameter": "Taxi_Dist",
          "value": 2.8650917178335987e-05,
          "x": 15.151515151515152
         },
         {
          "parameter": "Taxi_Dist",
          "value": 3.13885654806566e-05,
          "x": 16.161616161616163
         },
         {
          "parameter": "Taxi_Dist",
          "value": 2.925743958104581e-05,
          "x": 17.171717171717173
         },
         {
          "parameter": "Taxi_Dist",
          "value": 2.4372679416968276e-05,
          "x": 18.181818181818183
         },
         {
          "parameter": "Taxi_Dist",
          "value": 1.935118096769849e-05,
          "x": 19.191919191919194
         },
         {
          "parameter": "Taxi_Dist",
          "value": 1.4869569696355784e-05,
          "x": 20.202020202020204
         },
         {
          "parameter": "Taxi_Dist",
          "value": 1.0387150672501215e-05,
          "x": 21.212121212121215
         },
         {
          "parameter": "Taxi_Dist",
          "value": 6.1234353101267696e-06,
          "x": 22.222222222222225
         },
         {
          "parameter": "Taxi_Dist",
          "value": 3.133907174466019e-06,
          "x": 23.232323232323235
         },
         {
          "parameter": "Taxi_Dist",
          "value": 2.373655830084016e-06,
          "x": 24.242424242424242
         },
         {
          "parameter": "Taxi_Dist",
          "value": 4.737277005424604e-06,
          "x": 25.252525252525253
         },
         {
          "parameter": "Taxi_Dist",
          "value": 1.1255417685741974e-05,
          "x": 26.262626262626263
         },
         {
          "parameter": "Taxi_Dist",
          "value": 2.16877731049192e-05,
          "x": 27.272727272727273
         },
         {
          "parameter": "Taxi_Dist",
          "value": 3.267792111686731e-05,
          "x": 28.282828282828284
         },
         {
          "parameter": "Taxi_Dist",
          "value": 3.906384858510085e-05,
          "x": 29.292929292929294
         },
         {
          "parameter": "Taxi_Dist",
          "value": 3.833170544823202e-05,
          "x": 30.303030303030305
         },
         {
          "parameter": "Taxi_Dist",
          "value": 3.274116874791544e-05,
          "x": 31.313131313131315
         },
         {
          "parameter": "Taxi_Dist",
          "value": 2.634763091476216e-05,
          "x": 32.323232323232325
         },
         {
          "parameter": "Taxi_Dist",
          "value": 2.1189831170193574e-05,
          "x": 33.333333333333336
         },
         {
          "parameter": "Taxi_Dist",
          "value": 1.7002780980437185e-05,
          "x": 34.343434343434346
         },
         {
          "parameter": "Taxi_Dist",
          "value": 1.3688476868592765e-05,
          "x": 35.35353535353536
         },
         {
          "parameter": "Taxi_Dist",
          "value": 1.3125370183681664e-05,
          "x": 36.36363636363637
         },
         {
          "parameter": "Taxi_Dist",
          "value": 1.8490081812023387e-05,
          "x": 37.37373737373738
         },
         {
          "parameter": "Taxi_Dist",
          "value": 3.2933543571517256e-05,
          "x": 38.38383838383839
         },
         {
          "parameter": "Taxi_Dist",
          "value": 6.254523381564723e-05,
          "x": 39.3939393939394
         },
         {
          "parameter": "Taxi_Dist",
          "value": 0.00013284392435719848,
          "x": 40.40404040404041
         },
         {
          "parameter": "Taxi_Dist",
          "value": 0.00033813850157776677,
          "x": 41.41414141414142
         },
         {
          "parameter": "Taxi_Dist",
          "value": 0.0009460564903609987,
          "x": 42.42424242424243
         },
         {
          "parameter": "Taxi_Dist",
          "value": 0.0025250686100337315,
          "x": 43.43434343434344
         },
         {
          "parameter": "Taxi_Dist",
          "value": 0.005928184173894294,
          "x": 44.44444444444445
         },
         {
          "parameter": "Taxi_Dist",
          "value": 0.01192746992364269,
          "x": 45.45454545454546
         },
         {
          "parameter": "Taxi_Dist",
          "value": 0.020634751635797536,
          "x": 46.46464646464647
         },
         {
          "parameter": "Taxi_Dist",
          "value": 0.03130716248250259,
          "x": 47.47474747474748
         },
         {
          "parameter": "Taxi_Dist",
          "value": 0.04284239978388972,
          "x": 48.484848484848484
         },
         {
          "parameter": "Taxi_Dist",
          "value": 0.05426495739743958,
          "x": 49.494949494949495
         },
         {
          "parameter": "Taxi_Dist",
          "value": 0.06442886510697284,
          "x": 50.505050505050505
         },
         {
          "parameter": "Taxi_Dist",
          "value": 0.07154464827459875,
          "x": 51.515151515151516
         },
         {
          "parameter": "Taxi_Dist",
          "value": 0.07376844448921313,
          "x": 52.525252525252526
         },
         {
          "parameter": "Taxi_Dist",
          "value": 0.07060586599480785,
          "x": 53.535353535353536
         },
         {
          "parameter": "Taxi_Dist",
          "value": 0.06348359403425281,
          "x": 54.54545454545455
         },
         {
          "parameter": "Taxi_Dist",
          "value": 0.05474482592689125,
          "x": 55.55555555555556
         },
         {
          "parameter": "Taxi_Dist",
          "value": 0.04619692613585257,
          "x": 56.56565656565657
         },
         {
          "parameter": "Taxi_Dist",
          "value": 0.038593208028397524,
          "x": 57.57575757575758
         },
         {
          "parameter": "Taxi_Dist",
          "value": 0.03207025348267717,
          "x": 58.58585858585859
         },
         {
          "parameter": "Taxi_Dist",
          "value": 0.02666536771975975,
          "x": 59.5959595959596
         },
         {
          "parameter": "Taxi_Dist",
          "value": 0.02243570186956426,
          "x": 60.60606060606061
         },
         {
          "parameter": "Taxi_Dist",
          "value": 0.019341640865213876,
          "x": 61.61616161616162
         },
         {
          "parameter": "Taxi_Dist",
          "value": 0.01716895667243507,
          "x": 62.62626262626263
         },
         {
          "parameter": "Taxi_Dist",
          "value": 0.015591873953416255,
          "x": 63.63636363636364
         },
         {
          "parameter": "Taxi_Dist",
          "value": 0.014324612706385536,
          "x": 64.64646464646465
         },
         {
          "parameter": "Taxi_Dist",
          "value": 0.0132291063161588,
          "x": 65.65656565656566
         },
         {
          "parameter": "Taxi_Dist",
          "value": 0.012290841009173147,
          "x": 66.66666666666667
         },
         {
          "parameter": "Taxi_Dist",
          "value": 0.011508908694987717,
          "x": 67.67676767676768
         },
         {
          "parameter": "Taxi_Dist",
          "value": 0.010820622086990852,
          "x": 68.68686868686869
         },
         {
          "parameter": "Taxi_Dist",
          "value": 0.010121298604699257,
          "x": 69.6969696969697
         },
         {
          "parameter": "Taxi_Dist",
          "value": 0.009337048439911979,
          "x": 70.70707070707071
         },
         {
          "parameter": "Taxi_Dist",
          "value": 0.008472091533187825,
          "x": 71.71717171717172
         },
         {
          "parameter": "Taxi_Dist",
          "value": 0.0075868219035755005,
          "x": 72.72727272727273
         },
         {
          "parameter": "Taxi_Dist",
          "value": 0.006736997596875336,
          "x": 73.73737373737374
         },
         {
          "parameter": "Taxi_Dist",
          "value": 0.00595280969550557,
          "x": 74.74747474747475
         },
         {
          "parameter": "Taxi_Dist",
          "value": 0.005271181669628204,
          "x": 75.75757575757576
         },
         {
          "parameter": "Taxi_Dist",
          "value": 0.004747590426435281,
          "x": 76.76767676767678
         },
         {
          "parameter": "Taxi_Dist",
          "value": 0.00441849081574427,
          "x": 77.77777777777779
         },
         {
          "parameter": "Taxi_Dist",
          "value": 0.004266855315462569,
          "x": 78.7878787878788
         },
         {
          "parameter": "Taxi_Dist",
          "value": 0.004227308927690978,
          "x": 79.7979797979798
         },
         {
          "parameter": "Taxi_Dist",
          "value": 0.004216324001728941,
          "x": 80.80808080808082
         },
         {
          "parameter": "Taxi_Dist",
          "value": 0.004160880714001083,
          "x": 81.81818181818183
         },
         {
          "parameter": "Taxi_Dist",
          "value": 0.004015390742675368,
          "x": 82.82828282828284
         },
         {
          "parameter": "Taxi_Dist",
          "value": 0.003772568338622614,
          "x": 83.83838383838385
         },
         {
          "parameter": "Taxi_Dist",
          "value": 0.003467859350942309,
          "x": 84.84848484848486
         },
         {
          "parameter": "Taxi_Dist",
          "value": 0.0031641253282076345,
          "x": 85.85858585858587
         },
         {
          "parameter": "Taxi_Dist",
          "value": 0.002914874825336781,
          "x": 86.86868686868688
         },
         {
          "parameter": "Taxi_Dist",
          "value": 0.0027311647824076885,
          "x": 87.87878787878789
         },
         {
          "parameter": "Taxi_Dist",
          "value": 0.002582049263914459,
          "x": 88.8888888888889
         },
         {
          "parameter": "Taxi_Dist",
          "value": 0.002427523081863622,
          "x": 89.89898989898991
         },
         {
          "parameter": "Taxi_Dist",
          "value": 0.0022484823377082325,
          "x": 90.90909090909092
         },
         {
          "parameter": "Taxi_Dist",
          "value": 0.0020486100986970494,
          "x": 91.91919191919193
         },
         {
          "parameter": "Taxi_Dist",
          "value": 0.0018443776715187218,
          "x": 92.92929292929294
         },
         {
          "parameter": "Taxi_Dist",
          "value": 0.0016597687705023007,
          "x": 93.93939393939395
         },
         {
          "parameter": "Taxi_Dist",
          "value": 0.0015123639332044988,
          "x": 94.94949494949496
         },
         {
          "parameter": "Taxi_Dist",
          "value": 0.00139258727356091,
          "x": 95.95959595959597
         },
         {
          "parameter": "Taxi_Dist",
          "value": 0.0012695999693232874,
          "x": 96.96969696969697
         },
         {
          "parameter": "Taxi_Dist",
          "value": 0.0011283903660253391,
          "x": 97.97979797979798
         },
         {
          "parameter": "Taxi_Dist",
          "value": 0.0009910924248186662,
          "x": 98.98989898989899
         },
         {
          "parameter": "Taxi_Dist",
          "value": 0.0008921504663881899,
          "x": 100
         }
        ],
        "data-d04349fa9eb32be3f774c6bf7a0fefb2": [
         {
          "hour": 0,
          "parameter": "Rideshare_regular_price_estimate",
          "value": 43.540802001953125
         },
         {
          "hour": 0,
          "parameter": "Rideshare_shared_price_estimate",
          "value": 31.2219295501709
         },
         {
          "hour": 0,
          "parameter": "Taxi_price_estimate",
          "value": 62.63752365112305
         }
        ]
       },
       "layer": [
        {
         "data": {
          "name": "data-d04349fa9eb32be3f774c6bf7a0fefb2"
         },
         "encoding": {
          "color": {
           "field": "parameter",
           "scale": {
            "domain": [
             "Rideshare_regular_price_estimate",
             "Rideshare_shared_price_estimate",
             "Taxi_price_estimate"
            ],
            "range": [
             "red",
             "green",
             "blue"
            ]
           },
           "type": "nominal"
          },
          "size": {
           "value": 5
          },
          "x": {
           "field": "value",
           "type": "quantitative"
          }
         },
         "mark": {
          "color": "red",
          "type": "rule"
         },
         "selection": {
          " ": {
           "bind": {
            "input": "range",
            "max": 9,
            "min": 0,
            "step": 1
           },
           "fields": [
            "hour"
           ],
           "init": {
            "hour": 0
           },
           "type": "single"
          }
         },
         "transform": [
          {
           "filter": {
            "selection": " "
           }
          }
         ]
        },
        {
         "data": {
          "name": "data-12e983d1858d899e7c0eb4f18530d142"
         },
         "encoding": {
          "color": {
           "field": "parameter",
           "legend": null,
           "scale": {
            "domain": [
             "Rideshare_Dist",
             "Shared_Rideshare_Dist",
             "Taxi_Dist"
            ],
            "range": [
             "red",
             "green",
             "blue"
            ]
           },
           "type": "nominal"
          },
          "opacity": {
           "condition": {
            "selection": "Ride Type",
            "value": 0.6
           },
           "value": 0
          },
          "x": {
           "field": "x",
           "title": "Ride Cost (Dollars)",
           "type": "quantitative"
          },
          "y": {
           "field": "value",
           "title": "Density",
           "type": "quantitative"
          }
         },
         "mark": {
          "point": false,
          "size": 4,
          "type": "area"
         },
         "selection": {
          "Ride Type": {
           "bind": {
            "input": "select",
            "options": [
             "Rideshare_Dist",
             "Shared_Rideshare_Dist",
             "Taxi_Dist"
            ]
           },
           "clear": false,
           "fields": [
            "parameter"
           ],
           "init": {
            "parameter": "Rideshare_Dist"
           },
           "on": "doubleclick",
           "type": "single"
          }
         }
        }
       ]
      },
      "image/png": "[encoded data removed]",
      "text/plain": [
       "<VegaLite 3 object>\n",
       "\n",
       "If you see this message, it means the renderer has not been properly enabled\n",
       "for the frontend that you are using. For more information, see\n",
       "https://altair-viz.github.io/user_guide/troubleshooting.html\n"
      ]
     },
     "execution_count": 59,
     "metadata": {},
     "output_type": "execute_result"
    },
    {
     "data": {
      "image/png": "[encoded data removed]",
      "text/plain": [
       "<Figure size 864x576 with 1 Axes>"
      ]
     },
     "metadata": {},
     "output_type": "display_data"
    }
   ],
   "source": [
    "USER_PARAMS = {\"pickup\": \"chicago ohare airport\",\n",
    "               \"dropoff\": \"the shedd aquarium chicago\",\n",
    "               \"forecast_hrs\":1}\n",
    "\n",
    "results = run_Fair_Fare(USER_PARAMS)\n",
    "\n",
    "pd.set_option(\"display.precision\", 2)\n",
    "print(pd.DataFrame(results[5]).iloc[0])\n",
    "\n",
    "show_viz(results)"
   ]
  },
  {
   "cell_type": "code",
   "execution_count": null,
   "metadata": {},
   "outputs": [],
   "source": []
  }
 ],
 "metadata": {
  "kernelspec": {
   "display_name": "Python 3",
   "language": "python",
   "name": "python3"
  },
  "language_info": {
   "codemirror_mode": {
    "name": "ipython",
    "version": 3
   },
   "file_extension": ".py",
   "mimetype": "text/x-python",
   "name": "python",
   "nbconvert_exporter": "python",
   "pygments_lexer": "ipython3",
   "version": "3.7.3"
  }
 },
 "nbformat": 4,
 "nbformat_minor": 4
}
