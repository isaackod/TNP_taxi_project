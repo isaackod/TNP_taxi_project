{
 "cells": [
  {
   "cell_type": "markdown",
   "metadata": {},
   "source": [
    "Notebook includng some peripheral stuff. This includes the gmaps API and pulling price estamates from Lyft and Uber with Selenium.\n",
    "\n",
    "As a side note, the Lyft and Uber API's are basically useless as they require being a 'partner' to use."
   ]
  },
  {
   "cell_type": "markdown",
   "metadata": {},
   "source": [
    "### Dynamic web scraping\n",
    "- Nice tutorial here: https://realpython.com/modern-web-automation-with-python-and-selenium/\n",
    "- and the selenium docs: https://selenium-python.readthedocs.io/locating-elements.html"
   ]
  },
  {
   "cell_type": "code",
   "execution_count": 108,
   "metadata": {},
   "outputs": [],
   "source": [
    "import selenium\n",
    "from selenium.webdriver.common.keys import Keys\n",
    "import time"
   ]
  },
  {
   "cell_type": "code",
   "execution_count": 90,
   "metadata": {},
   "outputs": [],
   "source": [
    "from selenium.webdriver import Firefox\n",
    "from selenium.webdriver.firefox.options import Options\n",
    "opts = Options()\n",
    "opts.headless = False\n",
    "#assert opts.headless  # Operating in headless mode"
   ]
  },
  {
   "cell_type": "code",
   "execution_count": 91,
   "metadata": {},
   "outputs": [],
   "source": [
    "# Simple scrape of duckduckgo\n",
    "browser = Firefox(options=opts)\n",
    "browser.get('https://duckduckgo.com')\n",
    "\n",
    "search_form = browser.find_element_by_name('q')\n",
    "search_form.send_keys('real python')\n",
    "search_form.submit()"
   ]
  },
  {
   "cell_type": "code",
   "execution_count": 16,
   "metadata": {},
   "outputs": [
    {
     "name": "stdout",
     "output_type": "stream",
     "text": [
      "Python Tutorials - Real Python\n",
      "https://realpython.com\n",
      "At Real Python you can learn all things Python from the ground up. If you're wondering where to begin your Python journey, click the button below and we'll give you some guidance: Start Your Python Journey »\n"
     ]
    }
   ],
   "source": [
    "results = browser.find_elements_by_class_name('result')\n",
    "print(results[0].text)\n",
    "browser.close()"
   ]
  },
  {
   "cell_type": "code",
   "execution_count": 183,
   "metadata": {},
   "outputs": [],
   "source": [
    "ESTIMATE_URLS = {\"lyft\": \"https://www.lyft.com/rider/fare-estimate\",\n",
    "                 \"uber\": \"https://www.uber.com/us/en/price-estimate\"}\n",
    "browser = Firefox(options=opts)\n",
    "browser.get(ESTIMATE_URLS['lyft'])"
   ]
  },
  {
   "cell_type": "code",
   "execution_count": 184,
   "metadata": {},
   "outputs": [],
   "source": [
    "start_field = browser.find_element_by_name('fare-start')\n",
    "end_field = browser.find_element_by_name('fare-end')\n",
    "\n",
    "start_field.send_keys('Milennium Park chicago il')\n",
    "time.sleep(2)\n",
    "start_field.send_keys(Keys.RETURN)\n",
    "end_field.send_keys('Willis Tower chicago il')\n",
    "time.sleep(2)\n",
    "end_field.send_keys(Keys.RETURN)\n",
    "time.sleep(5)\n",
    "tags = browser.find_elements_by_tag_name(\"td\")\n",
    "browser.close()\n",
    "\n",
    "#button = browser.find_element_by_css_selector(\"button[type='submit']\")\n",
    "#button.click()\n",
    "\n",
    "tag\n",
    "#end_field.submit()"
   ]
  },
  {
   "cell_type": "code",
   "execution_count": 191,
   "metadata": {},
   "outputs": [],
   "source": [
    "def lyft_table(tags):\n",
    "    name_offset = 1\n",
    "    value_offset = 2\n",
    "    cols = 4\n",
    "    rows = int(len(tags)/cols)\n",
    "    results = {}\n",
    "        \n",
    "    for j in range(rows):\n",
    "        # extract the data\n",
    "        name = tags[cols*j+name_offset].text\n",
    "        values = tags[cols*j+value_offset].text\n",
    "        \n",
    "        # parse the string\n",
    "        values = values.replace('$','').replace('min','')\n",
    "        prices, time = values.split('|')\n",
    "        price_l, price_h = prices.split('-')\n",
    "        \n",
    "        #build results\n",
    "        results[name] = {'price_l':price_l,'price_h':price_h,'time_min':time}\n",
    "\n",
    "\n",
    "    return results"
   ]
  },
  {
   "cell_type": "code",
   "execution_count": 198,
   "metadata": {},
   "outputs": [],
   "source": [
    "def lyft_estimate(start,stop,browser):\n",
    "    browser.get(ESTIMATE_URLS['lyft'])\n",
    "    \n",
    "    start_field = browser.find_element_by_name('fare-start')\n",
    "    end_field = browser.find_element_by_name('fare-end')\n",
    "\n",
    "    # TODO: Replace time.sleep with wait for popup on website\n",
    "    # TODO: make sure the start and stop don't become something cray\n",
    "    start_field.send_keys(start)\n",
    "    time.sleep(2)\n",
    "    start_field.send_keys(Keys.RETURN)\n",
    "    end_field.send_keys(stop)\n",
    "    time.sleep(2)\n",
    "    end_field.send_keys(Keys.RETURN)\n",
    "    tags = browser.find_elements_by_tag_name(\"td\")\n",
    "    return lyft_table(tags)"
   ]
  },
  {
   "cell_type": "code",
   "execution_count": 200,
   "metadata": {},
   "outputs": [],
   "source": [
    "ESTIMATE_URLS = {\"lyft\": \"https://www.lyft.com/rider/fare-estimate\",\n",
    "                 \"uber\": \"https://www.uber.com/us/en/price-estimate\"}\n",
    "opts = Options()\n",
    "opts.headless = True\n",
    "browser = Firefox(options=opts)\n",
    "browser.implicitly_wait(5) # time to allow objects to load on page\n",
    "\n",
    "lyft_prices = lyft_estimate('brooklyn', 'empire state building', browser)\n",
    "\n",
    "browser.close()"
   ]
  },
  {
   "cell_type": "code",
   "execution_count": 197,
   "metadata": {},
   "outputs": [
    {
     "data": {
      "text/plain": [
       "{'Personal ride': {'price_l': '65', 'price_h': '70 ', 'time_min': ' 57'},\n",
       " 'Shared ride': {'price_l': '55', 'price_h': '60 ', 'time_min': ' 57'},\n",
       " 'Supersized ride': {'price_l': '70', 'price_h': '77 ', 'time_min': ' 57'},\n",
       " 'Luxury ride': {'price_l': '100', 'price_h': '110 ', 'time_min': ' 57'},\n",
       " 'Spacious luxury ride': {'price_l': '142',\n",
       "  'price_h': '154 ',\n",
       "  'time_min': ' 57'}}"
      ]
     },
     "execution_count": 197,
     "metadata": {},
     "output_type": "execute_result"
    }
   ],
   "source": [
    "lyft_prices"
   ]
  },
  {
   "cell_type": "markdown",
   "metadata": {},
   "source": [
    "### Google Maps API\n",
    "\n",
    "- Geocoding:\n",
    "- https://geocoder.readthedocs.io/providers/Mapbox.html\n",
    "\n",
    "Looks like it will be simple to translate user text to lat/long and get google routing estimates!\n",
    "Way easier than lyft and uber's API."
   ]
  },
  {
   "cell_type": "code",
   "execution_count": null,
   "metadata": {},
   "outputs": [],
   "source": []
  },
  {
   "cell_type": "code",
   "execution_count": 202,
   "metadata": {},
   "outputs": [],
   "source": [
    "import googlemaps\n",
    "from datetime import datetime\n",
    "import json\n",
    "\n",
    "with open(\"secrets.json.nogit\") as fh:\n",
    "    secrets = json.loads(fh.read())\n",
    "\n",
    "gmaps = googlemaps.Client(key=secrets['gmaps_api_key'])\n",
    "\n",
    "# Geocoding an address\n",
    "geocode_result = gmaps.geocode('1600 Amphitheatre Parkway, Mountain View, CA')\n",
    "\n",
    "# Look up an address with reverse geocoding\n",
    "reverse_geocode_result = gmaps.reverse_geocode((40.714224, -73.961452))\n",
    "\n",
    "# Request directions via public transit\n",
    "now = datetime.now()\n",
    "directions_result = gmaps.directions(\"Sydney Town Hall\",\n",
    "                                    \"Parramatta, NSW\",\n",
    "                                    departure_time=now)"
   ]
  },
  {
   "cell_type": "code",
   "execution_count": 235,
   "metadata": {},
   "outputs": [],
   "source": [
    "## note that the directions_result gives basically gives the geocode information but finds the nearest street\n",
    "## which is what we want\n",
    "\n",
    "def geocoded_path(start,stop):\n",
    "    start_geo = gmaps.geocode(start)\n",
    "    end_geo = gmaps.geocode(stop)\n",
    "    \n",
    "    now = datetime.now()\n",
    "    directions_result = gmaps.directions(start,\n",
    "                                    stop,\n",
    "                                    departure_time=now)\n",
    "    \n",
    "    start_coords = tuple(start_geo[0]['geometry']['location'].values())\n",
    "    end_coords = tuple(end_geo[0]['geometry']['location'].values())\n",
    "    \n",
    "    return start_coords, end_coords, start_geo, end_geo, directions_result"
   ]
  },
  {
   "cell_type": "code",
   "execution_count": 241,
   "metadata": {},
   "outputs": [],
   "source": [
    "a, b, c, d, e = geocoded_path(\"willis tower\",\"millenium park\")"
   ]
  },
  {
   "cell_type": "code",
   "execution_count": 315,
   "metadata": {},
   "outputs": [
    {
     "data": {
      "text/plain": [
       "[{'bounds': {'northeast': {'lat': 41.8808498, 'lng': -87.6227524},\n",
       "   'southwest': {'lat': 41.8787965, 'lng': -87.6352812}},\n",
       "  'copyrights': 'Map data ©2019 Google',\n",
       "  'legs': [{'distance': {'text': '0.8 mi', 'value': 1241},\n",
       "    'duration': {'text': '6 mins', 'value': 343},\n",
       "    'duration_in_traffic': {'text': '7 mins', 'value': 391},\n",
       "    'end_address': 'Millennium Park, 201 E Randolph St, Chicago, IL 60602, USA',\n",
       "    'end_location': {'lat': 41.8808498, 'lng': -87.6227524},\n",
       "    'start_address': '233 S Wacker Dr, Chicago, IL 60606, USA',\n",
       "    'start_location': {'lat': 41.8787965, 'lng': -87.63525010000001},\n",
       "    'steps': [{'distance': {'text': '0.1 mi', 'value': 203},\n",
       "      'duration': {'text': '1 min', 'value': 57},\n",
       "      'end_location': {'lat': 41.8806221, 'lng': -87.6352812},\n",
       "      'html_instructions': 'Head <b>north</b> on <b>S Franklin St</b> toward <b>W Adams St</b>',\n",
       "      'polyline': {'points': 'omr~Fhg{uOA?gA@c@?E?gA@eA?a@@gA?'},\n",
       "      'start_location': {'lat': 41.8787965, 'lng': -87.63525010000001},\n",
       "      'travel_mode': 'DRIVING'},\n",
       "     {'distance': {'text': '0.6 mi', 'value': 1038},\n",
       "      'duration': {'text': '5 mins', 'value': 286},\n",
       "      'end_location': {'lat': 41.8808498, 'lng': -87.6227524},\n",
       "      'html_instructions': 'Turn <b>right</b> onto <b>W Monroe St</b><div style=\"font-size:0.9em\">Destination will be on the left</div>',\n",
       "      'maneuver': 'turn-right',\n",
       "      'polyline': {'points': '{xr~Fng{uOAo@?o@?WAo@?O?o@?o@?MAEAaEA_B?q@Ao@?o@?o@?o@?w@?u@Ao@?q@?o@?o@Ao@?o@?Y?U?M?a@Aq@?[?c@Aq@?WA_B?O?EA[?[?Y?GAI?K?I?i@G[AaBAo@?YAy@?o@?o@?O?g@?]CaA@IAiAA{A?Y'},\n",
       "      'start_location': {'lat': 41.8806221, 'lng': -87.6352812},\n",
       "      'travel_mode': 'DRIVING'}],\n",
       "    'traffic_speed_entry': [],\n",
       "    'via_waypoint': []}],\n",
       "  'overview_polyline': {'points': 'omr~Fhg{uOkJDCeHKi\\\\GkNAiAG[AaBAiAAiDAqCC_E'},\n",
       "  'summary': 'W Monroe St and E Monroe St',\n",
       "  'warnings': [],\n",
       "  'waypoint_order': []}]"
      ]
     },
     "execution_count": 315,
     "metadata": {},
     "output_type": "execute_result"
    }
   ],
   "source": [
    "e"
   ]
  },
  {
   "cell_type": "code",
   "execution_count": 267,
   "metadata": {},
   "outputs": [
    {
     "data": {
      "text/plain": [
       "{'text': '7 mins', 'value': 391}"
      ]
     },
     "execution_count": 267,
     "metadata": {},
     "output_type": "execute_result"
    }
   ],
   "source": [
    "e[0]['legs'][0]['duration_in_traffic']\n",
    "#['duration_in_traffic']"
   ]
  },
  {
   "cell_type": "code",
   "execution_count": 316,
   "metadata": {},
   "outputs": [],
   "source": [
    "GMAPS_NAME_MAPPING = {'start_address':'start_address',\n",
    "                      'end_address':'end_address',\n",
    "                      'start_location':'start_latlong',\n",
    "                      'end_location':'end_latlong',\n",
    "                      'duration_in_traffic':'time_s',\n",
    "                      'distance':'dist_m'}\n",
    "\n",
    "def parse_gmaps(directions_result):\n",
    "    dr = directions_result[0]['legs'][0]\n",
    "    out = {}\n",
    "    for gname,newname in GMAPS_NAME_MAPPING.items():\n",
    "        vals = dr[gname]\n",
    "        if gname == 'start_address' or gname == 'end_address':\n",
    "            out[newname] = vals\n",
    "        elif gname == 'end_location' or gname =='start_locaton':\n",
    "            print(vals)\n",
    "            out[newname] = tuple([float(val) for val in vals.values()])\n",
    "        else:\n",
    "            out[newname] = int(list(vals.values())[1])\n",
    "    return out\n",
    "        "
   ]
  },
  {
   "cell_type": "code",
   "execution_count": 317,
   "metadata": {},
   "outputs": [
    {
     "name": "stdout",
     "output_type": "stream",
     "text": [
      "{'lat': 41.8808498, 'lng': -87.6227524}\n"
     ]
    },
    {
     "data": {
      "text/plain": [
       "{'start_address': '233 S Wacker Dr, Chicago, IL 60606, USA',\n",
       " 'end_address': 'Millennium Park, 201 E Randolph St, Chicago, IL 60602, USA',\n",
       " 'start_latlong': -87,\n",
       " 'end_latlong': (41.8808498, -87.6227524),\n",
       " 'time_s': 391,\n",
       " 'dist_m': 1241}"
      ]
     },
     "execution_count": 317,
     "metadata": {},
     "output_type": "execute_result"
    }
   ],
   "source": [
    "parse_gmaps(e)\n",
    "#dr['start_address']"
   ]
  },
  {
   "cell_type": "code",
   "execution_count": null,
   "metadata": {},
   "outputs": [],
   "source": []
  }
 ],
 "metadata": {
  "kernelspec": {
   "display_name": "Python 3",
   "language": "python",
   "name": "python3"
  },
  "language_info": {
   "codemirror_mode": {
    "name": "ipython",
    "version": 3
   },
   "file_extension": ".py",
   "mimetype": "text/x-python",
   "name": "python",
   "nbconvert_exporter": "python",
   "pygments_lexer": "ipython3",
   "version": "3.7.3"
  }
 },
 "nbformat": 4,
 "nbformat_minor": 2
}
