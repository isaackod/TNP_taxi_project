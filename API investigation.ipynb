{
 "cells": [
  {
   "cell_type": "markdown",
   "metadata": {},
   "source": [
    "Notebook includng some peripheral stuff. This includes the gmaps API and pulling price estamates from Lyft and Uber with Selenium.\n",
    "\n",
    "As a side note, the Lyft and Uber API's are basically useless as they require being a 'partner' to use."
   ]
  },
  {
   "cell_type": "markdown",
   "metadata": {},
   "source": [
    "### Dynamic web scraping\n",
    "- Nice tutorial here: https://realpython.com/modern-web-automation-with-python-and-selenium/\n",
    "- and the selenium docs: https://selenium-python.readthedocs.io/locating-elements.html"
   ]
  },
  {
   "cell_type": "code",
   "execution_count": 108,
   "metadata": {},
   "outputs": [],
   "source": [
    "import selenium\n",
    "from selenium.webdriver.common.keys import Keys\n",
    "import time"
   ]
  },
  {
   "cell_type": "code",
   "execution_count": 90,
   "metadata": {},
   "outputs": [],
   "source": [
    "from selenium.webdriver import Firefox\n",
    "from selenium.webdriver.firefox.options import Options\n",
    "from selenium.webdriver.common.by import By\n",
    "from selenium.webdriver.support.ui import WebDriverWait\n",
    "from selenium.webdriver.support import expected_conditions as EC\n",
    "\n",
    "opts = Options()\n",
    "opts.headless = False\n",
    "#assert opts.headless  # Operating in headless mode"
   ]
  },
  {
   "cell_type": "code",
   "execution_count": 91,
   "metadata": {},
   "outputs": [],
   "source": [
    "# Simple scrape of duckduckgo\n",
    "browser = Firefox(options=opts)\n",
    "browser.get('https://duckduckgo.com')\n",
    "\n",
    "search_form = browser.find_element_by_name('q')\n",
    "search_form.send_keys('real python')\n",
    "search_form.submit()"
   ]
  },
  {
   "cell_type": "code",
   "execution_count": 16,
   "metadata": {},
   "outputs": [
    {
     "name": "stdout",
     "output_type": "stream",
     "text": [
      "Python Tutorials - Real Python\n",
      "https://realpython.com\n",
      "At Real Python you can learn all things Python from the ground up. If you're wondering where to begin your Python journey, click the button below and we'll give you some guidance: Start Your Python Journey »\n"
     ]
    }
   ],
   "source": [
    "results = browser.find_elements_by_class_name('result')\n",
    "print(results[0].text)\n",
    "browser.close()"
   ]
  },
  {
   "cell_type": "code",
   "execution_count": 183,
   "metadata": {},
   "outputs": [],
   "source": [
    "ESTIMATE_URLS = {\"lyft\": \"https://www.lyft.com/rider/fare-estimate\",\n",
    "                 \"uber\": \"https://www.uber.com/us/en/price-estimate\"}\n",
    "browser = Firefox(options=opts)\n",
    "browser.get(ESTIMATE_URLS['lyft'])"
   ]
  },
  {
   "cell_type": "code",
   "execution_count": 184,
   "metadata": {},
   "outputs": [],
   "source": [
    "start_field = browser.find_element_by_name('fare-start')\n",
    "end_field = browser.find_element_by_name('fare-end')\n",
    "\n",
    "start_field.send_keys('Milennium Park chicago il')\n",
    "time.sleep(2)\n",
    "start_field.send_keys(Keys.RETURN)\n",
    "end_field.send_keys('Willis Tower chicago il')\n",
    "time.sleep(2)\n",
    "end_field.send_keys(Keys.RETURN)\n",
    "time.sleep(5)\n",
    "tags = browser.find_elements_by_tag_name(\"td\")\n",
    "browser.close()\n",
    "\n",
    "#button = browser.find_element_by_css_selector(\"button[type='submit']\")\n",
    "#button.click()\n",
    "\n",
    "tag\n",
    "#end_field.submit()"
   ]
  },
  {
   "cell_type": "markdown",
   "metadata": {},
   "source": [
    "#### Somewhat packaged functions"
   ]
  },
  {
   "cell_type": "code",
   "execution_count": 523,
   "metadata": {},
   "outputs": [],
   "source": [
    "# WARNING: Fairly unstable due to web-scaping nature\n",
    "def lyft_scraper(start,stop,browser):\n",
    "    company = 'lyft'\n",
    "    p = ESTIMATE_PARAMS[company]\n",
    "    browser.get(p[\"URL\"])\n",
    "    \n",
    "    start_field = browser.find_element_by_name(p['box1'])\n",
    "    end_field = browser.find_element_by_name(p['box2'])\n",
    "  \n",
    "    start_field.send_keys(start)\n",
    "    end_field.send_keys(stop)\n",
    "    time.sleep(1.5) # The autocomplete is horrible if you don't give it a sec\n",
    "    WebDriverWait(browser, 5).until(\n",
    "        EC.presence_of_element_located((By.ID, \"react-autowhatever-1--item-1\"))\n",
    "    )\n",
    "    start_field.send_keys(Keys.RETURN)\n",
    "    end_field.send_keys(Keys.RETURN)\n",
    "    tags = browser.find_elements_by_tag_name(\"td\")\n",
    "    return tags\n",
    "\n",
    "def lyft_table(tags):\n",
    "    name_offset = 1\n",
    "    value_offset = 2\n",
    "    cols = 4\n",
    "    rows = int(len(tags)/cols)\n",
    "    results = {}\n",
    "        \n",
    "    for j in range(rows):\n",
    "        # extract the data\n",
    "        name = tags[cols*j+name_offset].text\n",
    "        values = tags[cols*j+value_offset].text\n",
    "        \n",
    "        # parse the string\n",
    "        values = values.replace('$','').replace('min','')\n",
    "        prices, time = values.split('|')\n",
    "        price_l, price_h = prices.split('-')\n",
    "        \n",
    "        #build results\n",
    "        results[name] = {'price_l':price_l,'price_h':price_h,'time_min':time}\n",
    "\n",
    "\n",
    "    return results"
   ]
  },
  {
   "cell_type": "code",
   "execution_count": 418,
   "metadata": {},
   "outputs": [],
   "source": [
    "ESTIMATE_PARAMS = {\"lyft\": {\"URL\":\"https://www.lyft.com/rider/fare-estimate\",\n",
    "                           \"box1\":\"fare-start\",\"box2\":\"fare-end\"},\n",
    "                 \"uber\": {\"URL\":\"https://www.uber.com/us/en/price-estimate\",\n",
    "                          \"box1\":\"pickup\",\"box2\":\"destination\"}}\n",
    "opts =Options()\n",
    "opts.headless = False\n",
    "browser = Firefox(options=opts)\n",
    "browser.implicitly_wait(10) # time to allow objects to load on page\n",
    "\n",
    "lyft_tags = lyft_scraper('233 S Wacker Dr, Chicago, IL 60606, USA',\n",
    "                            'Millennium Park, 201 E Randolph St, Chicago, IL 60602, USA',\n",
    "                            browser)\n",
    "lyft_parsed = lyft_table(lyft_tags)\n",
    "browser.close()"
   ]
  },
  {
   "cell_type": "code",
   "execution_count": 419,
   "metadata": {},
   "outputs": [
    {
     "data": {
      "text/plain": [
       "{'Personal ride': {'price_l': '9', 'price_h': '12 ', 'time_min': ' 10'},\n",
       " 'Shared ride': {'price_l': '6', 'price_h': '8 ', 'time_min': ' 10'},\n",
       " 'Supersized ride': {'price_l': '12', 'price_h': '15 ', 'time_min': ' 10'},\n",
       " 'High-end ride': {'price_l': '12', 'price_h': '15 ', 'time_min': ' 10'},\n",
       " 'Luxury ride': {'price_l': '20', 'price_h': '25 ', 'time_min': ' 10'},\n",
       " 'Spacious luxury ride': {'price_l': '30',\n",
       "  'price_h': '35 ',\n",
       "  'time_min': ' 10'}}"
      ]
     },
     "execution_count": 419,
     "metadata": {},
     "output_type": "execute_result"
    }
   ],
   "source": [
    "lyft_parsed"
   ]
  },
  {
   "cell_type": "markdown",
   "metadata": {},
   "source": [
    "### UBER estimates\n"
   ]
  },
  {
   "cell_type": "code",
   "execution_count": 413,
   "metadata": {},
   "outputs": [
    {
     "ename": "NoSuchWindowException",
     "evalue": "Message: Browsing context has been discarded\n",
     "output_type": "error",
     "traceback": [
      "\u001b[0;31m---------------------------------------------------------------------------\u001b[0m",
      "\u001b[0;31mNoSuchWindowException\u001b[0m                     Traceback (most recent call last)",
      "\u001b[0;32m<ipython-input-413-e78cae85b92d>\u001b[0m in \u001b[0;36m<module>\u001b[0;34m\u001b[0m\n\u001b[1;32m      6\u001b[0m \u001b[0mbrowser\u001b[0m\u001b[0;34m.\u001b[0m\u001b[0mget\u001b[0m\u001b[0;34m(\u001b[0m\u001b[0mESTIMATE_URLS\u001b[0m\u001b[0;34m[\u001b[0m\u001b[0;34m'uber'\u001b[0m\u001b[0;34m]\u001b[0m\u001b[0;34m)\u001b[0m\u001b[0;34m\u001b[0m\u001b[0;34m\u001b[0m\u001b[0m\n\u001b[1;32m      7\u001b[0m \u001b[0;34m\u001b[0m\u001b[0m\n\u001b[0;32m----> 8\u001b[0;31m \u001b[0mstart_field\u001b[0m \u001b[0;34m=\u001b[0m \u001b[0mbrowser\u001b[0m\u001b[0;34m.\u001b[0m\u001b[0mfind_element_by_name\u001b[0m\u001b[0;34m(\u001b[0m\u001b[0;34m'pickup'\u001b[0m\u001b[0;34m)\u001b[0m\u001b[0;34m\u001b[0m\u001b[0;34m\u001b[0m\u001b[0m\n\u001b[0m\u001b[1;32m      9\u001b[0m \u001b[0mend_field\u001b[0m \u001b[0;34m=\u001b[0m \u001b[0mbrowser\u001b[0m\u001b[0;34m.\u001b[0m\u001b[0mfind_element_by_name\u001b[0m\u001b[0;34m(\u001b[0m\u001b[0;34m'destination'\u001b[0m\u001b[0;34m)\u001b[0m\u001b[0;34m\u001b[0m\u001b[0;34m\u001b[0m\u001b[0m\n\u001b[1;32m     10\u001b[0m \u001b[0;34m\u001b[0m\u001b[0m\n",
      "\u001b[0;32m~/anaconda3/envs/dinc_proj/lib/python3.7/site-packages/selenium/webdriver/remote/webdriver.py\u001b[0m in \u001b[0;36mfind_element_by_name\u001b[0;34m(self, name)\u001b[0m\n\u001b[1;32m    494\u001b[0m             \u001b[0melement\u001b[0m \u001b[0;34m=\u001b[0m \u001b[0mdriver\u001b[0m\u001b[0;34m.\u001b[0m\u001b[0mfind_element_by_name\u001b[0m\u001b[0;34m(\u001b[0m\u001b[0;34m'foo'\u001b[0m\u001b[0;34m)\u001b[0m\u001b[0;34m\u001b[0m\u001b[0;34m\u001b[0m\u001b[0m\n\u001b[1;32m    495\u001b[0m         \"\"\"\n\u001b[0;32m--> 496\u001b[0;31m         \u001b[0;32mreturn\u001b[0m \u001b[0mself\u001b[0m\u001b[0;34m.\u001b[0m\u001b[0mfind_element\u001b[0m\u001b[0;34m(\u001b[0m\u001b[0mby\u001b[0m\u001b[0;34m=\u001b[0m\u001b[0mBy\u001b[0m\u001b[0;34m.\u001b[0m\u001b[0mNAME\u001b[0m\u001b[0;34m,\u001b[0m \u001b[0mvalue\u001b[0m\u001b[0;34m=\u001b[0m\u001b[0mname\u001b[0m\u001b[0;34m)\u001b[0m\u001b[0;34m\u001b[0m\u001b[0;34m\u001b[0m\u001b[0m\n\u001b[0m\u001b[1;32m    497\u001b[0m \u001b[0;34m\u001b[0m\u001b[0m\n\u001b[1;32m    498\u001b[0m     \u001b[0;32mdef\u001b[0m \u001b[0mfind_elements_by_name\u001b[0m\u001b[0;34m(\u001b[0m\u001b[0mself\u001b[0m\u001b[0;34m,\u001b[0m \u001b[0mname\u001b[0m\u001b[0;34m)\u001b[0m\u001b[0;34m:\u001b[0m\u001b[0;34m\u001b[0m\u001b[0;34m\u001b[0m\u001b[0m\n",
      "\u001b[0;32m~/anaconda3/envs/dinc_proj/lib/python3.7/site-packages/selenium/webdriver/remote/webdriver.py\u001b[0m in \u001b[0;36mfind_element\u001b[0;34m(self, by, value)\u001b[0m\n\u001b[1;32m    976\u001b[0m         return self.execute(Command.FIND_ELEMENT, {\n\u001b[1;32m    977\u001b[0m             \u001b[0;34m'using'\u001b[0m\u001b[0;34m:\u001b[0m \u001b[0mby\u001b[0m\u001b[0;34m,\u001b[0m\u001b[0;34m\u001b[0m\u001b[0;34m\u001b[0m\u001b[0m\n\u001b[0;32m--> 978\u001b[0;31m             'value': value})['value']\n\u001b[0m\u001b[1;32m    979\u001b[0m \u001b[0;34m\u001b[0m\u001b[0m\n\u001b[1;32m    980\u001b[0m     \u001b[0;32mdef\u001b[0m \u001b[0mfind_elements\u001b[0m\u001b[0;34m(\u001b[0m\u001b[0mself\u001b[0m\u001b[0;34m,\u001b[0m \u001b[0mby\u001b[0m\u001b[0;34m=\u001b[0m\u001b[0mBy\u001b[0m\u001b[0;34m.\u001b[0m\u001b[0mID\u001b[0m\u001b[0;34m,\u001b[0m \u001b[0mvalue\u001b[0m\u001b[0;34m=\u001b[0m\u001b[0;32mNone\u001b[0m\u001b[0;34m)\u001b[0m\u001b[0;34m:\u001b[0m\u001b[0;34m\u001b[0m\u001b[0;34m\u001b[0m\u001b[0m\n",
      "\u001b[0;32m~/anaconda3/envs/dinc_proj/lib/python3.7/site-packages/selenium/webdriver/remote/webdriver.py\u001b[0m in \u001b[0;36mexecute\u001b[0;34m(self, driver_command, params)\u001b[0m\n\u001b[1;32m    319\u001b[0m         \u001b[0mresponse\u001b[0m \u001b[0;34m=\u001b[0m \u001b[0mself\u001b[0m\u001b[0;34m.\u001b[0m\u001b[0mcommand_executor\u001b[0m\u001b[0;34m.\u001b[0m\u001b[0mexecute\u001b[0m\u001b[0;34m(\u001b[0m\u001b[0mdriver_command\u001b[0m\u001b[0;34m,\u001b[0m \u001b[0mparams\u001b[0m\u001b[0;34m)\u001b[0m\u001b[0;34m\u001b[0m\u001b[0;34m\u001b[0m\u001b[0m\n\u001b[1;32m    320\u001b[0m         \u001b[0;32mif\u001b[0m \u001b[0mresponse\u001b[0m\u001b[0;34m:\u001b[0m\u001b[0;34m\u001b[0m\u001b[0;34m\u001b[0m\u001b[0m\n\u001b[0;32m--> 321\u001b[0;31m             \u001b[0mself\u001b[0m\u001b[0;34m.\u001b[0m\u001b[0merror_handler\u001b[0m\u001b[0;34m.\u001b[0m\u001b[0mcheck_response\u001b[0m\u001b[0;34m(\u001b[0m\u001b[0mresponse\u001b[0m\u001b[0;34m)\u001b[0m\u001b[0;34m\u001b[0m\u001b[0;34m\u001b[0m\u001b[0m\n\u001b[0m\u001b[1;32m    322\u001b[0m             response['value'] = self._unwrap_value(\n\u001b[1;32m    323\u001b[0m                 response.get('value', None))\n",
      "\u001b[0;32m~/anaconda3/envs/dinc_proj/lib/python3.7/site-packages/selenium/webdriver/remote/errorhandler.py\u001b[0m in \u001b[0;36mcheck_response\u001b[0;34m(self, response)\u001b[0m\n\u001b[1;32m    240\u001b[0m                 \u001b[0malert_text\u001b[0m \u001b[0;34m=\u001b[0m \u001b[0mvalue\u001b[0m\u001b[0;34m[\u001b[0m\u001b[0;34m'alert'\u001b[0m\u001b[0;34m]\u001b[0m\u001b[0;34m.\u001b[0m\u001b[0mget\u001b[0m\u001b[0;34m(\u001b[0m\u001b[0;34m'text'\u001b[0m\u001b[0;34m)\u001b[0m\u001b[0;34m\u001b[0m\u001b[0;34m\u001b[0m\u001b[0m\n\u001b[1;32m    241\u001b[0m             \u001b[0;32mraise\u001b[0m \u001b[0mexception_class\u001b[0m\u001b[0;34m(\u001b[0m\u001b[0mmessage\u001b[0m\u001b[0;34m,\u001b[0m \u001b[0mscreen\u001b[0m\u001b[0;34m,\u001b[0m \u001b[0mstacktrace\u001b[0m\u001b[0;34m,\u001b[0m \u001b[0malert_text\u001b[0m\u001b[0;34m)\u001b[0m\u001b[0;34m\u001b[0m\u001b[0;34m\u001b[0m\u001b[0m\n\u001b[0;32m--> 242\u001b[0;31m         \u001b[0;32mraise\u001b[0m \u001b[0mexception_class\u001b[0m\u001b[0;34m(\u001b[0m\u001b[0mmessage\u001b[0m\u001b[0;34m,\u001b[0m \u001b[0mscreen\u001b[0m\u001b[0;34m,\u001b[0m \u001b[0mstacktrace\u001b[0m\u001b[0;34m)\u001b[0m\u001b[0;34m\u001b[0m\u001b[0;34m\u001b[0m\u001b[0m\n\u001b[0m\u001b[1;32m    243\u001b[0m \u001b[0;34m\u001b[0m\u001b[0m\n\u001b[1;32m    244\u001b[0m     \u001b[0;32mdef\u001b[0m \u001b[0m_value_or_default\u001b[0m\u001b[0;34m(\u001b[0m\u001b[0mself\u001b[0m\u001b[0;34m,\u001b[0m \u001b[0mobj\u001b[0m\u001b[0;34m,\u001b[0m \u001b[0mkey\u001b[0m\u001b[0;34m,\u001b[0m \u001b[0mdefault\u001b[0m\u001b[0;34m)\u001b[0m\u001b[0;34m:\u001b[0m\u001b[0;34m\u001b[0m\u001b[0;34m\u001b[0m\u001b[0m\n",
      "\u001b[0;31mNoSuchWindowException\u001b[0m: Message: Browsing context has been discarded\n"
     ]
    }
   ],
   "source": [
    "opts =Options()\n",
    "opts.headless = False\n",
    "browser = Firefox(options=opts)\n",
    "#browser.implicitly_wait(5) # time to allow objects to load on page\n",
    "\n",
    "browser.get(ESTIMATE_URLS['uber'])\n",
    "\n",
    "start_field = browser.find_element_by_name('pickup')\n",
    "end_field = browser.find_element_by_name('destination')\n",
    "\n",
    "start_field.send_keys('a')\n",
    "end_field.send_keys('b')\n"
   ]
  },
  {
   "cell_type": "code",
   "execution_count": 503,
   "metadata": {},
   "outputs": [],
   "source": [
    "def uber_scraper(start,stop,browser):\n",
    "    company = 'uber'\n",
    "    p = ESTIMATE_PARAMS[company]\n",
    "    browser.get(p[\"URL\"])\n",
    "    \n",
    "    start_field = browser.find_element_by_name(p['box1'])\n",
    "    end_field = browser.find_element_by_name(p['box2'])\n",
    "  \n",
    "    start_field.send_keys(start)\n",
    "    WebDriverWait(browser, 5).until(\n",
    "        EC.presence_of_element_located((By.TAG_NAME, \"li\"))\n",
    "    )\n",
    "    time.sleep(1)\n",
    "    start_field.send_keys(Keys.RETURN)\n",
    "    time.sleep(1)\n",
    "    end_field.send_keys(stop)\n",
    "    WebDriverWait(browser, 5).until(\n",
    "        EC.presence_of_element_located((By.TAG_NAME, \"li\"))\n",
    "    )\n",
    "    time.sleep(1)\n",
    "    end_field.send_keys(Keys.RETURN)\n",
    "    XPATH = \"//div/div[@role='radio']\" # unique radio buttons\n",
    "    WebDriverWait(browser, 5).until(\n",
    "        EC.presence_of_element_located((By.XPATH, XPATH))\n",
    "    )\n",
    "    tags = browser.find_elements_by_xpath(XPATH)\n",
    "    return tags"
   ]
  },
  {
   "cell_type": "code",
   "execution_count": 504,
   "metadata": {},
   "outputs": [],
   "source": [
    "opts =Options()\n",
    "opts.headless = True\n",
    "browser = Firefox(options=opts)\n",
    "tags = uber_scraper('233 S Wacker Dr, Chicago, IL 60606, USA',\n",
    "                            'Millennium Park, 201 E Randolph St, Chicago, IL 60602, USA', browser)\n",
    "\n",
    "            "
   ]
  },
  {
   "cell_type": "code",
   "execution_count": 516,
   "metadata": {},
   "outputs": [
    {
     "name": "stdout",
     "output_type": "stream",
     "text": [
      "3\n"
     ]
    },
    {
     "data": {
      "text/plain": [
       "{'Pool': 6.94, 'UberX': 7.3, 'Comfort': 11.06}"
      ]
     },
     "execution_count": 516,
     "metadata": {},
     "output_type": "execute_result"
    }
   ],
   "source": [
    "\n",
    "print(len(tags))\n",
    "    \n",
    "def format_uber(tags):\n",
    "    out = {}\n",
    "    for tag in tags:\n",
    "        name, price = tag.text.split()\n",
    "        out[name] = float(price.replace('$',''))\n",
    "    return out\n",
    "\n",
    "format_uber(tags)"
   ]
  },
  {
   "cell_type": "markdown",
   "metadata": {},
   "source": [
    "### Google Maps API\n",
    "\n",
    "- Geocoding:\n",
    "- https://geocoder.readthedocs.io/providers/Mapbox.html\n",
    "\n",
    "Looks like it will be simple to translate user text to lat/long and get google routing estimates!\n",
    "Way easier than lyft and uber's API."
   ]
  },
  {
   "cell_type": "code",
   "execution_count": null,
   "metadata": {},
   "outputs": [],
   "source": []
  },
  {
   "cell_type": "code",
   "execution_count": 202,
   "metadata": {},
   "outputs": [],
   "source": [
    "import googlemaps\n",
    "from datetime import datetime\n",
    "import json\n",
    "\n",
    "with open(\"secrets.json.nogit\") as fh:\n",
    "    secrets = json.loads(fh.read())\n",
    "\n",
    "gmaps = googlemaps.Client(key=secrets['gmaps_api_key'])\n",
    "\n",
    "# Geocoding an address\n",
    "geocode_result = gmaps.geocode('1600 Amphitheatre Parkway, Mountain View, CA')\n",
    "\n",
    "# Look up an address with reverse geocoding\n",
    "reverse_geocode_result = gmaps.reverse_geocode((40.714224, -73.961452))\n",
    "\n",
    "# Request directions via public transit\n",
    "now = datetime.now()\n",
    "directions_result = gmaps.directions(\"Sydney Town Hall\",\n",
    "                                    \"Parramatta, NSW\",\n",
    "                                    departure_time=now)"
   ]
  },
  {
   "cell_type": "code",
   "execution_count": 235,
   "metadata": {},
   "outputs": [],
   "source": [
    "# Geocode only (unused)\n",
    "def geocoded_path(start,stop):\n",
    "    start_geo = gmaps.geocode(start)\n",
    "    end_geo = gmaps.geocode(stop)\n",
    "    \n",
    "    start_coords = tuple(start_geo[0]['geometry']['location'].values())\n",
    "    end_coords = tuple(end_geo[0]['geometry']['location'].values())\n",
    "    \n",
    "    return start_coords, end_coords, start_geo, end_geo"
   ]
  },
  {
   "cell_type": "code",
   "execution_count": 241,
   "metadata": {},
   "outputs": [],
   "source": [
    "a, b, c, d = geocoded_path(\"willis tower\",\"millenium park\")"
   ]
  },
  {
   "cell_type": "code",
   "execution_count": 315,
   "metadata": {},
   "outputs": [
    {
     "data": {
      "text/plain": [
       "[{'bounds': {'northeast': {'lat': 41.8808498, 'lng': -87.6227524},\n",
       "   'southwest': {'lat': 41.8787965, 'lng': -87.6352812}},\n",
       "  'copyrights': 'Map data ©2019 Google',\n",
       "  'legs': [{'distance': {'text': '0.8 mi', 'value': 1241},\n",
       "    'duration': {'text': '6 mins', 'value': 343},\n",
       "    'duration_in_traffic': {'text': '7 mins', 'value': 391},\n",
       "    'end_address': 'Millennium Park, 201 E Randolph St, Chicago, IL 60602, USA',\n",
       "    'end_location': {'lat': 41.8808498, 'lng': -87.6227524},\n",
       "    'start_address': '233 S Wacker Dr, Chicago, IL 60606, USA',\n",
       "    'start_location': {'lat': 41.8787965, 'lng': -87.63525010000001},\n",
       "    'steps': [{'distance': {'text': '0.1 mi', 'value': 203},\n",
       "      'duration': {'text': '1 min', 'value': 57},\n",
       "      'end_location': {'lat': 41.8806221, 'lng': -87.6352812},\n",
       "      'html_instructions': 'Head <b>north</b> on <b>S Franklin St</b> toward <b>W Adams St</b>',\n",
       "      'polyline': {'points': 'omr~Fhg{uOA?gA@c@?E?gA@eA?a@@gA?'},\n",
       "      'start_location': {'lat': 41.8787965, 'lng': -87.63525010000001},\n",
       "      'travel_mode': 'DRIVING'},\n",
       "     {'distance': {'text': '0.6 mi', 'value': 1038},\n",
       "      'duration': {'text': '5 mins', 'value': 286},\n",
       "      'end_location': {'lat': 41.8808498, 'lng': -87.6227524},\n",
       "      'html_instructions': 'Turn <b>right</b> onto <b>W Monroe St</b><div style=\"font-size:0.9em\">Destination will be on the left</div>',\n",
       "      'maneuver': 'turn-right',\n",
       "      'polyline': {'points': '{xr~Fng{uOAo@?o@?WAo@?O?o@?o@?MAEAaEA_B?q@Ao@?o@?o@?o@?w@?u@Ao@?q@?o@?o@Ao@?o@?Y?U?M?a@Aq@?[?c@Aq@?WA_B?O?EA[?[?Y?GAI?K?I?i@G[AaBAo@?YAy@?o@?o@?O?g@?]CaA@IAiAA{A?Y'},\n",
       "      'start_location': {'lat': 41.8806221, 'lng': -87.6352812},\n",
       "      'travel_mode': 'DRIVING'}],\n",
       "    'traffic_speed_entry': [],\n",
       "    'via_waypoint': []}],\n",
       "  'overview_polyline': {'points': 'omr~Fhg{uOkJDCeHKi\\\\GkNAiAG[AaBAiAAiDAqCC_E'},\n",
       "  'summary': 'W Monroe St and E Monroe St',\n",
       "  'warnings': [],\n",
       "  'waypoint_order': []}]"
      ]
     },
     "execution_count": 315,
     "metadata": {},
     "output_type": "execute_result"
    }
   ],
   "source": [
    "e"
   ]
  },
  {
   "cell_type": "code",
   "execution_count": 318,
   "metadata": {},
   "outputs": [],
   "source": [
    "GMAPS_NAME_MAPPING = {'start_address':'start_address',\n",
    "                      'end_address':'end_address',\n",
    "                      'start_location':'start_latlong',\n",
    "                      'end_location':'end_latlong',\n",
    "                      'duration_in_traffic':'time_s',\n",
    "                      'distance':'dist_m'}\n",
    "\n",
    "def parse_gmaps(directions_result):\n",
    "    dr = directions_result[0]['legs'][0]\n",
    "    out = {}\n",
    "    for gname,newname in GMAPS_NAME_MAPPING.items():\n",
    "        vals = dr[gname]\n",
    "        if gname == 'start_address' or gname == 'end_address':\n",
    "            out[newname] = vals\n",
    "        elif gname == 'end_location' or gname =='start_locaton':\n",
    "            print(vals)\n",
    "            out[newname] = tuple([float(val) for val in vals.values()])\n",
    "        else:\n",
    "            out[newname] = int(list(vals.values())[1])\n",
    "    return out\n",
    "        "
   ]
  },
  {
   "cell_type": "code",
   "execution_count": 317,
   "metadata": {},
   "outputs": [
    {
     "name": "stdout",
     "output_type": "stream",
     "text": [
      "{'lat': 41.8808498, 'lng': -87.6227524}\n"
     ]
    },
    {
     "data": {
      "text/plain": [
       "{'start_address': '233 S Wacker Dr, Chicago, IL 60606, USA',\n",
       " 'end_address': 'Millennium Park, 201 E Randolph St, Chicago, IL 60602, USA',\n",
       " 'start_latlong': -87,\n",
       " 'end_latlong': (41.8808498, -87.6227524),\n",
       " 'time_s': 391,\n",
       " 'dist_m': 1241}"
      ]
     },
     "execution_count": 317,
     "metadata": {},
     "output_type": "execute_result"
    }
   ],
   "source": [
    "gmaps.directions(start, stop, departure_time=now)"
   ]
  },
  {
   "cell_type": "markdown",
   "metadata": {},
   "source": [
    "#### Combined scraper"
   ]
  },
  {
   "cell_type": "code",
   "execution_count": 521,
   "metadata": {},
   "outputs": [],
   "source": [
    "def serial_scraper(start,stop):\n",
    "    opts =Options()\n",
    "    opts.headless = False\n",
    "    browser = Firefox(options=opts)\n",
    "    \n",
    "    now = datetime.now()\n",
    "    directions_result = gmaps.directions(start,stop,\n",
    "                                    departure_time=now)\n",
    "    \n",
    "    gmaps_info = parse_gmaps(directions_result)\n",
    "    start_coded, stop_coded = gmaps_info['start_address'],gmaps_info['end_address']\n",
    "    \n",
    "    #lyft_tags = lyft_scraper(start_coded, stop_coded,browser)\n",
    "    #lyft_parsed = lyft_table(lyft_tags)\n",
    "    \n",
    "    return lyft_parsed"
   ]
  },
  {
   "cell_type": "code",
   "execution_count": 522,
   "metadata": {
    "scrolled": true
   },
   "outputs": [
    {
     "ename": "WebDriverException",
     "evalue": "Message: connection refused\n",
     "output_type": "error",
     "traceback": [
      "\u001b[0;31m---------------------------------------------------------------------------\u001b[0m",
      "\u001b[0;31mWebDriverException\u001b[0m                        Traceback (most recent call last)",
      "\u001b[0;32m<ipython-input-522-db5f58aa2089>\u001b[0m in \u001b[0;36m<module>\u001b[0;34m\u001b[0m\n\u001b[0;32m----> 1\u001b[0;31m \u001b[0mserial_scraper\u001b[0m\u001b[0;34m(\u001b[0m\u001b[0;34m\"evergreen colorado\"\u001b[0m\u001b[0;34m,\u001b[0m \u001b[0;34m\"colorado mills\"\u001b[0m\u001b[0;34m)\u001b[0m\u001b[0;34m\u001b[0m\u001b[0;34m\u001b[0m\u001b[0m\n\u001b[0m",
      "\u001b[0;32m<ipython-input-521-3b9604d31c08>\u001b[0m in \u001b[0;36mserial_scraper\u001b[0;34m(start, stop)\u001b[0m\n\u001b[1;32m      2\u001b[0m     \u001b[0mopts\u001b[0m \u001b[0;34m=\u001b[0m\u001b[0mOptions\u001b[0m\u001b[0;34m(\u001b[0m\u001b[0;34m)\u001b[0m\u001b[0;34m\u001b[0m\u001b[0;34m\u001b[0m\u001b[0m\n\u001b[1;32m      3\u001b[0m     \u001b[0mopts\u001b[0m\u001b[0;34m.\u001b[0m\u001b[0mheadless\u001b[0m \u001b[0;34m=\u001b[0m \u001b[0;32mFalse\u001b[0m\u001b[0;34m\u001b[0m\u001b[0;34m\u001b[0m\u001b[0m\n\u001b[0;32m----> 4\u001b[0;31m     \u001b[0mbrowser\u001b[0m \u001b[0;34m=\u001b[0m \u001b[0mFirefox\u001b[0m\u001b[0;34m(\u001b[0m\u001b[0moptions\u001b[0m\u001b[0;34m=\u001b[0m\u001b[0mopts\u001b[0m\u001b[0;34m)\u001b[0m\u001b[0;34m\u001b[0m\u001b[0;34m\u001b[0m\u001b[0m\n\u001b[0m\u001b[1;32m      5\u001b[0m \u001b[0;34m\u001b[0m\u001b[0m\n\u001b[1;32m      6\u001b[0m     \u001b[0mnow\u001b[0m \u001b[0;34m=\u001b[0m \u001b[0mdatetime\u001b[0m\u001b[0;34m.\u001b[0m\u001b[0mnow\u001b[0m\u001b[0;34m(\u001b[0m\u001b[0;34m)\u001b[0m\u001b[0;34m\u001b[0m\u001b[0;34m\u001b[0m\u001b[0m\n",
      "\u001b[0;32m~/anaconda3/envs/dinc_proj/lib/python3.7/site-packages/selenium/webdriver/firefox/webdriver.py\u001b[0m in \u001b[0;36m__init__\u001b[0;34m(self, firefox_profile, firefox_binary, timeout, capabilities, proxy, executable_path, options, service_log_path, firefox_options, service_args, desired_capabilities, log_path, keep_alive)\u001b[0m\n\u001b[1;32m    172\u001b[0m                 \u001b[0mcommand_executor\u001b[0m\u001b[0;34m=\u001b[0m\u001b[0mexecutor\u001b[0m\u001b[0;34m,\u001b[0m\u001b[0;34m\u001b[0m\u001b[0;34m\u001b[0m\u001b[0m\n\u001b[1;32m    173\u001b[0m                 \u001b[0mdesired_capabilities\u001b[0m\u001b[0;34m=\u001b[0m\u001b[0mcapabilities\u001b[0m\u001b[0;34m,\u001b[0m\u001b[0;34m\u001b[0m\u001b[0;34m\u001b[0m\u001b[0m\n\u001b[0;32m--> 174\u001b[0;31m                 keep_alive=True)\n\u001b[0m\u001b[1;32m    175\u001b[0m \u001b[0;34m\u001b[0m\u001b[0m\n\u001b[1;32m    176\u001b[0m         \u001b[0;31m# Selenium remote\u001b[0m\u001b[0;34m\u001b[0m\u001b[0;34m\u001b[0m\u001b[0;34m\u001b[0m\u001b[0m\n",
      "\u001b[0;32m~/anaconda3/envs/dinc_proj/lib/python3.7/site-packages/selenium/webdriver/remote/webdriver.py\u001b[0m in \u001b[0;36m__init__\u001b[0;34m(self, command_executor, desired_capabilities, browser_profile, proxy, keep_alive, file_detector, options)\u001b[0m\n\u001b[1;32m    155\u001b[0m             warnings.warn(\"Please use FirefoxOptions to set browser profile\",\n\u001b[1;32m    156\u001b[0m                           DeprecationWarning, stacklevel=2)\n\u001b[0;32m--> 157\u001b[0;31m         \u001b[0mself\u001b[0m\u001b[0;34m.\u001b[0m\u001b[0mstart_session\u001b[0m\u001b[0;34m(\u001b[0m\u001b[0mcapabilities\u001b[0m\u001b[0;34m,\u001b[0m \u001b[0mbrowser_profile\u001b[0m\u001b[0;34m)\u001b[0m\u001b[0;34m\u001b[0m\u001b[0;34m\u001b[0m\u001b[0m\n\u001b[0m\u001b[1;32m    158\u001b[0m         \u001b[0mself\u001b[0m\u001b[0;34m.\u001b[0m\u001b[0m_switch_to\u001b[0m \u001b[0;34m=\u001b[0m \u001b[0mSwitchTo\u001b[0m\u001b[0;34m(\u001b[0m\u001b[0mself\u001b[0m\u001b[0;34m)\u001b[0m\u001b[0;34m\u001b[0m\u001b[0;34m\u001b[0m\u001b[0m\n\u001b[1;32m    159\u001b[0m         \u001b[0mself\u001b[0m\u001b[0;34m.\u001b[0m\u001b[0m_mobile\u001b[0m \u001b[0;34m=\u001b[0m \u001b[0mMobile\u001b[0m\u001b[0;34m(\u001b[0m\u001b[0mself\u001b[0m\u001b[0;34m)\u001b[0m\u001b[0;34m\u001b[0m\u001b[0;34m\u001b[0m\u001b[0m\n",
      "\u001b[0;32m~/anaconda3/envs/dinc_proj/lib/python3.7/site-packages/selenium/webdriver/remote/webdriver.py\u001b[0m in \u001b[0;36mstart_session\u001b[0;34m(self, capabilities, browser_profile)\u001b[0m\n\u001b[1;32m    250\u001b[0m         parameters = {\"capabilities\": w3c_caps,\n\u001b[1;32m    251\u001b[0m                       \"desiredCapabilities\": capabilities}\n\u001b[0;32m--> 252\u001b[0;31m         \u001b[0mresponse\u001b[0m \u001b[0;34m=\u001b[0m \u001b[0mself\u001b[0m\u001b[0;34m.\u001b[0m\u001b[0mexecute\u001b[0m\u001b[0;34m(\u001b[0m\u001b[0mCommand\u001b[0m\u001b[0;34m.\u001b[0m\u001b[0mNEW_SESSION\u001b[0m\u001b[0;34m,\u001b[0m \u001b[0mparameters\u001b[0m\u001b[0;34m)\u001b[0m\u001b[0;34m\u001b[0m\u001b[0;34m\u001b[0m\u001b[0m\n\u001b[0m\u001b[1;32m    253\u001b[0m         \u001b[0;32mif\u001b[0m \u001b[0;34m'sessionId'\u001b[0m \u001b[0;32mnot\u001b[0m \u001b[0;32min\u001b[0m \u001b[0mresponse\u001b[0m\u001b[0;34m:\u001b[0m\u001b[0;34m\u001b[0m\u001b[0;34m\u001b[0m\u001b[0m\n\u001b[1;32m    254\u001b[0m             \u001b[0mresponse\u001b[0m \u001b[0;34m=\u001b[0m \u001b[0mresponse\u001b[0m\u001b[0;34m[\u001b[0m\u001b[0;34m'value'\u001b[0m\u001b[0;34m]\u001b[0m\u001b[0;34m\u001b[0m\u001b[0;34m\u001b[0m\u001b[0m\n",
      "\u001b[0;32m~/anaconda3/envs/dinc_proj/lib/python3.7/site-packages/selenium/webdriver/remote/webdriver.py\u001b[0m in \u001b[0;36mexecute\u001b[0;34m(self, driver_command, params)\u001b[0m\n\u001b[1;32m    319\u001b[0m         \u001b[0mresponse\u001b[0m \u001b[0;34m=\u001b[0m \u001b[0mself\u001b[0m\u001b[0;34m.\u001b[0m\u001b[0mcommand_executor\u001b[0m\u001b[0;34m.\u001b[0m\u001b[0mexecute\u001b[0m\u001b[0;34m(\u001b[0m\u001b[0mdriver_command\u001b[0m\u001b[0;34m,\u001b[0m \u001b[0mparams\u001b[0m\u001b[0;34m)\u001b[0m\u001b[0;34m\u001b[0m\u001b[0;34m\u001b[0m\u001b[0m\n\u001b[1;32m    320\u001b[0m         \u001b[0;32mif\u001b[0m \u001b[0mresponse\u001b[0m\u001b[0;34m:\u001b[0m\u001b[0;34m\u001b[0m\u001b[0;34m\u001b[0m\u001b[0m\n\u001b[0;32m--> 321\u001b[0;31m             \u001b[0mself\u001b[0m\u001b[0;34m.\u001b[0m\u001b[0merror_handler\u001b[0m\u001b[0;34m.\u001b[0m\u001b[0mcheck_response\u001b[0m\u001b[0;34m(\u001b[0m\u001b[0mresponse\u001b[0m\u001b[0;34m)\u001b[0m\u001b[0;34m\u001b[0m\u001b[0;34m\u001b[0m\u001b[0m\n\u001b[0m\u001b[1;32m    322\u001b[0m             response['value'] = self._unwrap_value(\n\u001b[1;32m    323\u001b[0m                 response.get('value', None))\n",
      "\u001b[0;32m~/anaconda3/envs/dinc_proj/lib/python3.7/site-packages/selenium/webdriver/remote/errorhandler.py\u001b[0m in \u001b[0;36mcheck_response\u001b[0;34m(self, response)\u001b[0m\n\u001b[1;32m    240\u001b[0m                 \u001b[0malert_text\u001b[0m \u001b[0;34m=\u001b[0m \u001b[0mvalue\u001b[0m\u001b[0;34m[\u001b[0m\u001b[0;34m'alert'\u001b[0m\u001b[0;34m]\u001b[0m\u001b[0;34m.\u001b[0m\u001b[0mget\u001b[0m\u001b[0;34m(\u001b[0m\u001b[0;34m'text'\u001b[0m\u001b[0;34m)\u001b[0m\u001b[0;34m\u001b[0m\u001b[0;34m\u001b[0m\u001b[0m\n\u001b[1;32m    241\u001b[0m             \u001b[0;32mraise\u001b[0m \u001b[0mexception_class\u001b[0m\u001b[0;34m(\u001b[0m\u001b[0mmessage\u001b[0m\u001b[0;34m,\u001b[0m \u001b[0mscreen\u001b[0m\u001b[0;34m,\u001b[0m \u001b[0mstacktrace\u001b[0m\u001b[0;34m,\u001b[0m \u001b[0malert_text\u001b[0m\u001b[0;34m)\u001b[0m\u001b[0;34m\u001b[0m\u001b[0;34m\u001b[0m\u001b[0m\n\u001b[0;32m--> 242\u001b[0;31m         \u001b[0;32mraise\u001b[0m \u001b[0mexception_class\u001b[0m\u001b[0;34m(\u001b[0m\u001b[0mmessage\u001b[0m\u001b[0;34m,\u001b[0m \u001b[0mscreen\u001b[0m\u001b[0;34m,\u001b[0m \u001b[0mstacktrace\u001b[0m\u001b[0;34m)\u001b[0m\u001b[0;34m\u001b[0m\u001b[0;34m\u001b[0m\u001b[0m\n\u001b[0m\u001b[1;32m    243\u001b[0m \u001b[0;34m\u001b[0m\u001b[0m\n\u001b[1;32m    244\u001b[0m     \u001b[0;32mdef\u001b[0m \u001b[0m_value_or_default\u001b[0m\u001b[0;34m(\u001b[0m\u001b[0mself\u001b[0m\u001b[0;34m,\u001b[0m \u001b[0mobj\u001b[0m\u001b[0;34m,\u001b[0m \u001b[0mkey\u001b[0m\u001b[0;34m,\u001b[0m \u001b[0mdefault\u001b[0m\u001b[0;34m)\u001b[0m\u001b[0;34m:\u001b[0m\u001b[0;34m\u001b[0m\u001b[0;34m\u001b[0m\u001b[0m\n",
      "\u001b[0;31mWebDriverException\u001b[0m: Message: connection refused\n"
     ]
    }
   ],
   "source": [
    "serial_scraper(\"evergreen colorado\", \"colorado mills\")"
   ]
  },
  {
   "cell_type": "code",
   "execution_count": null,
   "metadata": {},
   "outputs": [],
   "source": []
  }
 ],
 "metadata": {
  "kernelspec": {
   "display_name": "Python 3",
   "language": "python",
   "name": "python3"
  },
  "language_info": {
   "codemirror_mode": {
    "name": "ipython",
    "version": 3
   },
   "file_extension": ".py",
   "mimetype": "text/x-python",
   "name": "python",
   "nbconvert_exporter": "python",
   "pygments_lexer": "ipython3",
   "version": "3.7.3"
  }
 },
 "nbformat": 4,
 "nbformat_minor": 2
}
