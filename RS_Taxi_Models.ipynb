{
 "cells": [
  {
   "cell_type": "markdown",
   "metadata": {},
   "source": [
    "\n"
   ]
  },
  {
   "cell_type": "markdown",
   "metadata": {},
   "source": [
    "This notebook extends on the taxi models notebook. In that notebook we did some exploratory analysis and linear fits to get baselines for the price/(distance and time) for the two datasets. This leaves out plenty of potentially useful information like time of day, shared rides, and location. In this notebook we do the following:\n",
    "\n",
    "1. Clean the data and prune appropriate vairables with a pipeline, potentially save a clean copy.\n",
    " - Convert certain columns into useful derived variables eg.. ride speed, hour, day of week.\n",
    " - Delete unused columns.\n",
    " - Consider variable scaling. Do we want to just use raw lat/long or perhaps normalize to center of chicago?\n",
    " - Prepare data in X, Y format for ML algorithms and train/test split.\n",
    " - I think surge pricing is the only way which the taxi vs TNP datasets differ in a useful way.\n",
    " \n",
    "2. Apply a few ML algorithms.\n",
    " - We'll use the taxi data first.\n",
    "      - The taxi pricing model is very clear and there is no surging\n",
    "      - There is more taxi data, and the model is known to be consistent since Jan 2016 (see prev. notebook)\n",
    " - Linear model with the extra categorical variables included. \n",
    " "
   ]
  },
  {
   "cell_type": "code",
   "execution_count": 1,
   "metadata": {},
   "outputs": [],
   "source": [
    "import pandas as pd\n",
    "from pandas.plotting import scatter_matrix\n",
    "from IPython.display import Image\n",
    "#from tqdm.auto import tqdm  # for progress bars\n",
    "\n",
    "import numpy as np\n",
    "import random\n",
    "from sklearn.base import BaseEstimator, TransformerMixin\n",
    "from sklearn.model_selection import cross_val_score\n",
    "from sklearn.linear_model import LinearRegression\n",
    "from sklearn.metrics import mean_squared_error\n",
    "\n",
    "\n",
    "# Plotting\n",
    "%matplotlib inline\n",
    "import matplotlib as mpl\n",
    "import matplotlib.pyplot as plt\n",
    "from matplotlib.pyplot import figure\n",
    "mpl.rc('axes', labelsize=14)\n",
    "mpl.rc('xtick', labelsize=12)\n",
    "mpl.rc('ytick', labelsize=12)"
   ]
  },
  {
   "cell_type": "code",
   "execution_count": 38,
   "metadata": {},
   "outputs": [
    {
     "name": "stdout",
     "output_type": "stream",
     "text": [
      "Nothing to be done, h5 files exist.\n",
      "<class 'pandas.core.frame.DataFrame'>\n",
      "Int64Index: 25860156 entries, 0 to 25860155\n",
      "Data columns (total 14 columns):\n",
      "Trip Start Timestamp          datetime64[ns]\n",
      "Trip Seconds                  float32\n",
      "Trip Miles                    float32\n",
      "Pickup Community Area         float32\n",
      "Dropoff Community Area        float32\n",
      "Fare                          float32\n",
      "Tips                          float32\n",
      "Tolls                         float32\n",
      "Extras                        float32\n",
      "Trip Total                    float32\n",
      "Pickup Centroid Latitude      float64\n",
      "Pickup Centroid Longitude     float64\n",
      "Dropoff Centroid Latitude     float64\n",
      "Dropoff Centroid Longitude    float64\n",
      "dtypes: datetime64[ns](1), float32(9), float64(4)\n",
      "memory usage: 2.0 GB\n",
      "<class 'pandas.core.frame.DataFrame'>\n",
      "Int64Index: 17432011 entries, 0 to 17432010\n",
      "Data columns (total 14 columns):\n",
      "Trip Start Timestamp          datetime64[ns]\n",
      "Trip Seconds                  float32\n",
      "Trip Miles                    float32\n",
      "Pickup Community Area         float32\n",
      "Dropoff Community Area        float32\n",
      "Fare                          float32\n",
      "Tip                           float32\n",
      "Additional Charges            float32\n",
      "Trip Total                    float32\n",
      "Shared Trip Authorized        bool\n",
      "Pickup Centroid Latitude      float64\n",
      "Pickup Centroid Longitude     float64\n",
      "Dropoff Centroid Latitude     float64\n",
      "Dropoff Centroid Longitude    float64\n",
      "dtypes: bool(1), datetime64[ns](1), float32(8), float64(4)\n",
      "memory usage: 1.3 GB\n",
      "None None\n"
     ]
    }
   ],
   "source": [
    "# generates easy-to-load ~2gb files from ~10gb of input data.\n",
    "%run -i 'inital_preprocessing.py'\n",
    "\n",
    "taxi = pd.read_hdf(taxi_out_path, 'df')\n",
    "tnp = pd.read_hdf(tnp_out_path, 'df')\n",
    "print(taxi.info(), tnp.info())"
   ]
  },
  {
   "cell_type": "code",
   "execution_count": 18,
   "metadata": {},
   "outputs": [],
   "source": [
    "useful_taxi_cols = ['Trip Start Timestamp',\n",
    "       'Trip Seconds', 'Trip Miles', 'Pickup Community Area','Dropoff Community Area',\n",
    "       'Fare', 'Tips', 'Tolls', 'Extras','Trip Total',\n",
    "       'Pickup Centroid Latitude','Pickup Centroid Longitude',\n",
    "       'Dropoff Centroid Latitude', 'Dropoff Centroid Longitude']\n",
    "\n",
    "taxi_dtypes = ['float32','float32','float32','float32',\n",
    "               'float32','float32','float32','float32','float32',\n",
    "               'float64','float64','float64','float64']\n",
    "\n",
    "useful_tnp_cols = ['Trip Start Timestamp', \n",
    "       'Trip Seconds','Trip Miles','Pickup Community Area', 'Dropoff Community Area', \n",
    "       'Fare', 'Tip', 'Additional Charges', 'Trip Total', 'Shared Trip Authorized',\n",
    "       'Pickup Centroid Latitude', 'Pickup Centroid Longitude', \n",
    "       'Dropoff Centroid Latitude', 'Dropoff Centroid Longitude']\n",
    "\n",
    "tnp_dtypes = ['float32','float32','float32','float32',\n",
    "               'float32','float32','float32','float32','bool',\n",
    "               'float64','float64','float64','float64']\n",
    "\n",
    "def load_and_clean(cols, dtypes, fname):\n",
    "    \"\"\"Load csv with specified dtypes and column subset, assumes a time axis is in the frist column elt.\"\"\"\n",
    "    column_types = dict(zip(cols[1:], dtypes)) # skip the date\n",
    "\n",
    "    return pd.read_csv(\n",
    "             fname, usecols =cols,\n",
    "             dtype = column_types,parse_dates=[cols[0]],infer_datetime_format=True)"
   ]
  },
  {
   "cell_type": "raw",
   "metadata": {},
   "source": [
    "## WARNING: THIS TAKES A REALLY LONG TIME AND SHOULD ONLY NEED TO BE DONE ONCE\n",
    "taxi = load_and_clean(useful_taxi_cols, taxi_dtypes, 'Taxi_Trips.csv')\n",
    "# Save as hdf for much faster loading in the future.\n",
    "taxi.to_hdf('taxi.h5', key='df', mode='w')\n",
    "taxi.info(memory_usage='deep') # 1.8 GB\n",
    "#del(taxi) use depending on memory constraints\n",
    "tnp = load_and_clean(useful_tnp_cols, tnp_dtypes, 'Transportation_Network_Providers_-_Trips.csv')\n",
    "tnp.to_hdf('tnp.h5', key='df', mode='w')\n",
    "tnp.info(memory_usage='deep')"
   ]
  },
  {
   "cell_type": "code",
   "execution_count": 24,
   "metadata": {},
   "outputs": [
    {
     "data": {
      "text/plain": [
       "Trip Start Timestamp          17432011\n",
       "Trip Seconds                  17429617\n",
       "Trip Miles                    17432007\n",
       "Pickup Community Area         16400220\n",
       "Dropoff Community Area        16270531\n",
       "Fare                          17431903\n",
       "Tip                           17432011\n",
       "Additional Charges            17431903\n",
       "Trip Total                    17431903\n",
       "Shared Trip Authorized        17432011\n",
       "Pickup Centroid Latitude      16410805\n",
       "Pickup Centroid Longitude     16410805\n",
       "Dropoff Centroid Latitude     16280471\n",
       "Dropoff Centroid Longitude    16280471\n",
       "dtype: int64"
      ]
     },
     "execution_count": 24,
     "metadata": {},
     "output_type": "execute_result"
    }
   ],
   "source": [
    "tnp.count()"
   ]
  },
  {
   "cell_type": "code",
   "execution_count": 17,
   "metadata": {},
   "outputs": [
    {
     "data": {
      "text/plain": [
       "Trip Start Timestamp          25860156\n",
       "Trip Seconds                  25856546\n",
       "Trip Miles                    25859849\n",
       "Pickup Community Area         22764517\n",
       "Dropoff Community Area        22303632\n",
       "Fare                          25859786\n",
       "Tips                          25859786\n",
       "Tolls                         25859786\n",
       "Extras                        25859786\n",
       "Trip Total                    25859786\n",
       "Pickup Centroid Latitude      22764928\n",
       "Pickup Centroid Longitude     22764928\n",
       "Dropoff Centroid Latitude     22353899\n",
       "Dropoff Centroid Longitude    22353899\n",
       "dtype: int64"
      ]
     },
     "execution_count": 17,
     "metadata": {},
     "output_type": "execute_result"
    }
   ],
   "source": []
  },
  {
   "cell_type": "markdown",
   "metadata": {},
   "source": [
    "Memory Optimization (we have 10 GB dataset)\n",
    "see https://www.dataquest.io/blog/pandas-big-data/\n",
    "\n",
    "The only thing with a lot of digits is the lat/long, can use a 64 bit float."
   ]
  },
  {
   "cell_type": "code",
   "execution_count": 17,
   "metadata": {},
   "outputs": [],
   "source": [
    "def mem_usage(pandas_obj):\n",
    "    if isinstance(pandas_obj,pd.DataFrame):\n",
    "        usage_b = pandas_obj.memory_usage(deep=True).sum()\n",
    "    else: # we assume if not a df it's a series\n",
    "        usage_b = pandas_obj.memory_usage(deep=True)\n",
    "    usage_mb = usage_b / 1024 ** 2 # convert bytes to megabytes\n",
    "    return \"{:03.2f} MB\".format(usage_mb)"
   ]
  },
  {
   "cell_type": "code",
   "execution_count": 20,
   "metadata": {},
   "outputs": [
    {
     "name": "stdout",
     "output_type": "stream",
     "text": [
      "5.32 MB\n",
      "0.67 MB\n"
     ]
    },
    {
     "data": {
      "text/html": [
       "<div>\n",
       "<style scoped>\n",
       "    .dataframe tbody tr th:only-of-type {\n",
       "        vertical-align: middle;\n",
       "    }\n",
       "\n",
       "    .dataframe tbody tr th {\n",
       "        vertical-align: top;\n",
       "    }\n",
       "\n",
       "    .dataframe thead th {\n",
       "        text-align: right;\n",
       "    }\n",
       "</style>\n",
       "<table border=\"1\" class=\"dataframe\">\n",
       "  <thead>\n",
       "    <tr style=\"text-align: right;\">\n",
       "      <th></th>\n",
       "      <th>before</th>\n",
       "      <th>after</th>\n",
       "    </tr>\n",
       "  </thead>\n",
       "  <tbody>\n",
       "    <tr>\n",
       "      <th>uint8</th>\n",
       "      <td>NaN</td>\n",
       "      <td>2.0</td>\n",
       "    </tr>\n",
       "    <tr>\n",
       "      <th>int64</th>\n",
       "      <td>2.0</td>\n",
       "      <td>NaN</td>\n",
       "    </tr>\n",
       "  </tbody>\n",
       "</table>\n",
       "</div>"
      ],
      "text/plain": [
       "       before  after\n",
       "uint8     NaN    2.0\n",
       "int64     2.0    NaN"
      ]
     },
     "execution_count": 20,
     "metadata": {},
     "output_type": "execute_result"
    }
   ],
   "source": [
    "gl = tnp\n",
    "\n",
    "gl_int = gl.select_dtypes(include=['int'])\n",
    "converted_int = gl_int.apply(pd.to_numeric,downcast='unsigned')\n",
    "print(mem_usage(gl_int))\n",
    "print(mem_usage(converted_int))\n",
    "compare_ints = pd.concat([gl_int.dtypes,converted_int.dtypes],axis=1)\n",
    "compare_ints.columns = ['before','after']\n",
    "compare_ints.apply(pd.Series.value_counts)"
   ]
  },
  {
   "cell_type": "code",
   "execution_count": 21,
   "metadata": {},
   "outputs": [
    {
     "name": "stdout",
     "output_type": "stream",
     "text": [
      "34.60 MB\n",
      "17.30 MB\n"
     ]
    },
    {
     "data": {
      "text/html": [
       "<div>\n",
       "<style scoped>\n",
       "    .dataframe tbody tr th:only-of-type {\n",
       "        vertical-align: middle;\n",
       "    }\n",
       "\n",
       "    .dataframe tbody tr th {\n",
       "        vertical-align: top;\n",
       "    }\n",
       "\n",
       "    .dataframe thead th {\n",
       "        text-align: right;\n",
       "    }\n",
       "</style>\n",
       "<table border=\"1\" class=\"dataframe\">\n",
       "  <thead>\n",
       "    <tr style=\"text-align: right;\">\n",
       "      <th></th>\n",
       "      <th>before</th>\n",
       "      <th>after</th>\n",
       "    </tr>\n",
       "  </thead>\n",
       "  <tbody>\n",
       "    <tr>\n",
       "      <th>float32</th>\n",
       "      <td>NaN</td>\n",
       "      <td>13.0</td>\n",
       "    </tr>\n",
       "    <tr>\n",
       "      <th>float64</th>\n",
       "      <td>13.0</td>\n",
       "      <td>NaN</td>\n",
       "    </tr>\n",
       "  </tbody>\n",
       "</table>\n",
       "</div>"
      ],
      "text/plain": [
       "         before  after\n",
       "float32     NaN   13.0\n",
       "float64    13.0    NaN"
      ]
     },
     "execution_count": 21,
     "metadata": {},
     "output_type": "execute_result"
    }
   ],
   "source": [
    "gl_float = gl.select_dtypes(include=['float'])\n",
    "converted_float = gl_float.apply(pd.to_numeric,downcast='float')\n",
    "print(mem_usage(gl_float))\n",
    "print(mem_usage(converted_float))\n",
    "compare_floats = pd.concat([gl_float.dtypes,converted_float.dtypes],axis=1)\n",
    "compare_floats.columns = ['before','after']\n",
    "compare_floats.apply(pd.Series.value_counts)"
   ]
  },
  {
   "cell_type": "code",
   "execution_count": 22,
   "metadata": {},
   "outputs": [
    {
     "data": {
      "text/html": [
       "<div>\n",
       "<style scoped>\n",
       "    .dataframe tbody tr th:only-of-type {\n",
       "        vertical-align: middle;\n",
       "    }\n",
       "\n",
       "    .dataframe tbody tr th {\n",
       "        vertical-align: top;\n",
       "    }\n",
       "\n",
       "    .dataframe thead th {\n",
       "        text-align: right;\n",
       "    }\n",
       "</style>\n",
       "<table border=\"1\" class=\"dataframe\">\n",
       "  <thead>\n",
       "    <tr style=\"text-align: right;\">\n",
       "      <th></th>\n",
       "      <th>Trip ID</th>\n",
       "      <th>Trip Start Timestamp</th>\n",
       "      <th>Trip End Timestamp</th>\n",
       "      <th>Pickup Centroid Location</th>\n",
       "      <th>Dropoff Centroid Location</th>\n",
       "    </tr>\n",
       "  </thead>\n",
       "  <tbody>\n",
       "    <tr>\n",
       "      <th>count</th>\n",
       "      <td>348802</td>\n",
       "      <td>348802</td>\n",
       "      <td>348802</td>\n",
       "      <td>328519</td>\n",
       "      <td>325882</td>\n",
       "    </tr>\n",
       "    <tr>\n",
       "      <th>unique</th>\n",
       "      <td>348802</td>\n",
       "      <td>5856</td>\n",
       "      <td>5857</td>\n",
       "      <td>860</td>\n",
       "      <td>858</td>\n",
       "    </tr>\n",
       "    <tr>\n",
       "      <th>top</th>\n",
       "      <td>129f952b7a5d22f8e5812488f7078a61ba94bae2</td>\n",
       "      <td>12/01/2018 07:00:00 PM</td>\n",
       "      <td>12/08/2018 07:15:00 PM</td>\n",
       "      <td>POINT (-87.6327464887 41.8809944707)</td>\n",
       "      <td>POINT (-87.6327464887 41.8809944707)</td>\n",
       "    </tr>\n",
       "    <tr>\n",
       "      <th>freq</th>\n",
       "      <td>1</td>\n",
       "      <td>155</td>\n",
       "      <td>160</td>\n",
       "      <td>12936</td>\n",
       "      <td>15132</td>\n",
       "    </tr>\n",
       "  </tbody>\n",
       "</table>\n",
       "</div>"
      ],
      "text/plain": [
       "                                         Trip ID    Trip Start Timestamp  \\\n",
       "count                                     348802                  348802   \n",
       "unique                                    348802                    5856   \n",
       "top     129f952b7a5d22f8e5812488f7078a61ba94bae2  12/01/2018 07:00:00 PM   \n",
       "freq                                           1                     155   \n",
       "\n",
       "            Trip End Timestamp              Pickup Centroid Location  \\\n",
       "count                   348802                                328519   \n",
       "unique                    5857                                   860   \n",
       "top     12/08/2018 07:15:00 PM  POINT (-87.6327464887 41.8809944707)   \n",
       "freq                       160                                 12936   \n",
       "\n",
       "                   Dropoff Centroid Location  \n",
       "count                                 325882  \n",
       "unique                                   858  \n",
       "top     POINT (-87.6327464887 41.8809944707)  \n",
       "freq                                   15132  "
      ]
     },
     "execution_count": 22,
     "metadata": {},
     "output_type": "execute_result"
    }
   ],
   "source": [
    "gl_obj = gl.select_dtypes(include=['object']).copy()\n",
    "gl_obj.describe()"
   ]
  },
  {
   "cell_type": "code",
   "execution_count": 26,
   "metadata": {},
   "outputs": [
    {
     "data": {
      "text/plain": [
       "-2"
      ]
     },
     "execution_count": 26,
     "metadata": {},
     "output_type": "execute_result"
    }
   ],
   "source": []
  },
  {
   "cell_type": "code",
   "execution_count": 36,
   "metadata": {},
   "outputs": [
    {
     "name": "stdout",
     "output_type": "stream",
     "text": [
      "Nothing to be done, h5 files exist.\n"
     ]
    }
   ],
   "source": []
  },
  {
   "cell_type": "markdown",
   "metadata": {},
   "source": [
    "## Initial Pipeline"
   ]
  },
  {
   "cell_type": "code",
   "execution_count": null,
   "metadata": {},
   "outputs": [],
   "source": [
    "def preprocess_trip_data(df, unused_cols,max_fare = 200):\n",
    "    df.columns = df.columns.str.replace(' ', '_') # for dot notation\n",
    "    df.drop(unused_cols, axis=1, inplace=True)\n",
    "    df.dropna(inplace = True)\n",
    "    # Drop trips with outlier distances or times\n",
    "    df.drop(df[(df.Trip_Miles <=0)|(df.Trip_Miles >100)].index, inplace=True)\n",
    "    df.drop(df[(df.Trip_Seconds <=0)|(df.Trip_Seconds >int(1e4))].index, inplace=True)\n",
    "    # drop unusually large or small fares\n",
    "    df.drop(df[((df.Fare > 200) | (df.Fare <= 0))].index,inplace = True)\n",
    "    # Convert datetimes\n",
    "    df['Trip_Start_Timestamp']= pd.to_datetime(df['Trip_Start_Timestamp'],infer_datetime_format = True)\n",
    "    return"
   ]
  },
  {
   "cell_type": "code",
   "execution_count": null,
   "metadata": {},
   "outputs": [],
   "source": [
    "class TripPreprocessor(BaseEstimator, TransformerMixin):\n",
    "    def __init__(self, max_fare = 200.0, max_miles = 100.0):\n",
    "        self.max_fare = max_fare\n",
    "        self.max_miles = max_miles\n",
    "    def fit(self, X, y=None):\n",
    "        return self  # nothing else to do\n",
    "    def transform(self, X, y=None):\n",
    "    "
   ]
  },
  {
   "cell_type": "code",
   "execution_count": 7,
   "metadata": {},
   "outputs": [],
   "source": [
    "from path import Path"
   ]
  },
  {
   "cell_type": "code",
   "execution_count": 10,
   "metadata": {},
   "outputs": [],
   "source": [
    "datap = Path('data')"
   ]
  },
  {
   "cell_type": "code",
   "execution_count": 21,
   "metadata": {},
   "outputs": [],
   "source": [
    "tp = datap/'taxi.h5'"
   ]
  },
  {
   "cell_type": "code",
   "execution_count": 22,
   "metadata": {},
   "outputs": [
    {
     "data": {
      "text/plain": [
       "True"
      ]
     },
     "execution_count": 22,
     "metadata": {},
     "output_type": "execute_result"
    }
   ],
   "source": [
    "tp.isfile()"
   ]
  },
  {
   "cell_type": "code",
   "execution_count": 31,
   "metadata": {},
   "outputs": [
    {
     "data": {
      "text/plain": [
       "'taxi.h5'"
      ]
     },
     "execution_count": 31,
     "metadata": {},
     "output_type": "execute_result"
    }
   ],
   "source": [
    "str(tp.name)"
   ]
  },
  {
   "cell_type": "code",
   "execution_count": null,
   "metadata": {},
   "outputs": [],
   "source": []
  }
 ],
 "metadata": {
  "kernelspec": {
   "display_name": "Python 3",
   "language": "python",
   "name": "python3"
  },
  "language_info": {
   "codemirror_mode": {
    "name": "ipython",
    "version": 3
   },
   "file_extension": ".py",
   "mimetype": "text/x-python",
   "name": "python",
   "nbconvert_exporter": "python",
   "pygments_lexer": "ipython3",
   "version": "3.7.1"
  }
 },
 "nbformat": 4,
 "nbformat_minor": 2
}
