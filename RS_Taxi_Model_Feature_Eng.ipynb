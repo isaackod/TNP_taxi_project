{
 "cells": [
  {
   "cell_type": "markdown",
   "metadata": {},
   "source": [
    "\n"
   ]
  },
  {
   "cell_type": "markdown",
   "metadata": {},
   "source": [
    "This notebook extends on the taxi models notebook. In that notebook we did some exploratory analysis and linear fits to get baselines for the price/(distance and time) for the two datasets. This leaves out plenty of potentially useful information like time of day, shared rides, and location. In this notebook we do the following:\n",
    "\n",
    "1. Clean the data and prune appropriate vairables with a pipeline, potentially save a clean copy.\n",
    " - Convert certain columns into useful derived variables eg.. ride speed, hour, day of week.\n",
    " - Delete unused columns.\n",
    " - Consider variable scaling. Do we want to just use raw lat/long or perhaps normalize to center of chicago?\n",
    " - Prepare data in X, Y format for ML algorithms and train/test split.\n",
    " - I think surge pricing is the only way which the taxi vs TNP datasets differ in a useful way.\n",
    " \n",
    " \n",
    "specific features (https://www.kaggle.com/headsortails/nyc-taxi-eda-update-the-fast-the-curious)\n",
    "\n",
    "1. Airport boolean from lat/long.\n",
    "2."
   ]
  },
  {
   "cell_type": "code",
   "execution_count": 1,
   "metadata": {},
   "outputs": [],
   "source": [
    "import pandas as pd\n",
    "import numpy as np\n",
    "from pandas.plotting import scatter_matrix\n",
    "from IPython.display import Image\n",
    "#from tqdm.auto import tqdm  # for progress bars\n",
    "\n",
    "import numpy as np\n",
    "import random\n",
    "from sklearn.base import BaseEstimator, TransformerMixin\n",
    "from sklearn.pipeline import make_pipeline, FeatureUnion, Pipeline\n",
    "from sklearn.preprocessing import OneHotEncoder, StandardScaler\n",
    "from sklearn.model_selection import cross_val_score\n",
    "from sklearn.linear_model import LinearRegression\n",
    "from sklearn.metrics import mean_squared_error\n",
    "\n",
    "\n",
    "# Plotting\n",
    "%matplotlib inline\n",
    "import matplotlib as mpl\n",
    "import matplotlib.pyplot as plt\n",
    "from matplotlib.pyplot import figure\n",
    "mpl.rc('axes', labelsize=14)\n",
    "mpl.rc('xtick', labelsize=12)\n",
    "mpl.rc('ytick', labelsize=12)"
   ]
  },
  {
   "cell_type": "code",
   "execution_count": 8,
   "metadata": {},
   "outputs": [
    {
     "data": {
      "text/plain": [
       "frame_table  (typ->appendable,nrows->25860156,ncols->14,indexers->[index])"
      ]
     },
     "execution_count": 8,
     "metadata": {},
     "output_type": "execute_result"
    }
   ],
   "source": [
    "store.get_storer('df')"
   ]
  },
  {
   "cell_type": "code",
   "execution_count": 89,
   "metadata": {},
   "outputs": [
    {
     "name": "stdout",
     "output_type": "stream",
     "text": [
      "Nothing to be done, h5 files exist.\n",
      "<class 'pandas.core.frame.DataFrame'>\n",
      "Int64Index: 258601 entries, 6832510 to 22381177\n",
      "Data columns (total 14 columns):\n",
      "Trip Start Timestamp          258601 non-null datetime64[ns]\n",
      "Trip Seconds                  258566 non-null float32\n",
      "Trip Miles                    258596 non-null float32\n",
      "Pickup Community Area         227710 non-null float32\n",
      "Dropoff Community Area        223190 non-null float32\n",
      "Fare                          258596 non-null float32\n",
      "Tips                          258596 non-null float32\n",
      "Tolls                         258596 non-null float32\n",
      "Extras                        258596 non-null float32\n",
      "Trip Total                    258596 non-null float32\n",
      "Pickup Centroid Latitude      227715 non-null float64\n",
      "Pickup Centroid Longitude     227715 non-null float64\n",
      "Dropoff Centroid Latitude     223710 non-null float64\n",
      "Dropoff Centroid Longitude    223710 non-null float64\n",
      "dtypes: datetime64[ns](1), float32(9), float64(4)\n",
      "memory usage: 20.7 MB\n",
      "<class 'pandas.core.frame.DataFrame'>\n",
      "Int64Index: 174320 entries, 12409619 to 4403612\n",
      "Data columns (total 14 columns):\n",
      "Trip Start Timestamp          174320 non-null datetime64[ns]\n",
      "Trip Seconds                  174290 non-null float32\n",
      "Trip Miles                    174320 non-null float32\n",
      "Pickup Community Area         164084 non-null float32\n",
      "Dropoff Community Area        162641 non-null float32\n",
      "Fare                          174320 non-null float32\n",
      "Tip                           174320 non-null float32\n",
      "Additional Charges            174320 non-null float32\n",
      "Trip Total                    174320 non-null float32\n",
      "Shared Trip Authorized        174320 non-null bool\n",
      "Pickup Centroid Latitude      164181 non-null float64\n",
      "Pickup Centroid Longitude     164181 non-null float64\n",
      "Dropoff Centroid Latitude     162754 non-null float64\n",
      "Dropoff Centroid Longitude    162754 non-null float64\n",
      "dtypes: bool(1), datetime64[ns](1), float32(8), float64(4)\n",
      "memory usage: 13.5 MB\n",
      "None None\n"
     ]
    },
    {
     "data": {
      "text/plain": [
       "<Figure size 432x288 with 0 Axes>"
      ]
     },
     "metadata": {},
     "output_type": "display_data"
    }
   ],
   "source": [
    "# generates easy-to-load ~2gb files from ~10gb of input data.\n",
    "%run -i 'inital_preprocessing.py'\n",
    "def load_hdf(path, percent = 100):\n",
    "    if percent == 100:\n",
    "        return pd.read_hdf(path, 'df')\n",
    "    else:\n",
    "        store = pd.HDFStore(path)\n",
    "        nrows = store.get_storer('df').nrows\n",
    "        r = np.random.randint(0,nrows,size=int(nrows*percent/100))\n",
    "        store.close()\n",
    "        return pd.read_hdf(path, 'df',where=pd.Index(r))\n",
    "        \n",
    "        \n",
    "taxi = load_hdf(taxi_out_path,1)\n",
    "tnp = load_hdf(tnp_out_path, 1)\n",
    "print(taxi.info(), tnp.info())"
   ]
  },
  {
   "cell_type": "markdown",
   "metadata": {},
   "source": [
    "## Pandas Preprocessing\n",
    "We have enough data that I want to drop rather than impute missing values. We also want to restrict the model based on reasonable fares and distances."
   ]
  },
  {
   "cell_type": "code",
   "execution_count": 90,
   "metadata": {},
   "outputs": [],
   "source": [
    "type_map = {\"Trip_Seconds\": \"uint16\",\n",
    "            \"Pickup_Community_Area\": \"category\",\n",
    "            \"Dropoff_Community_Area\": \"category\"}\n",
    "\n",
    "def preprocess_trip_data(df,max_fare = 200, max_miles = 100, max_time = int(1e4),bTaxi = True):\n",
    "    df.columns = df.columns.str.replace(' ', '_') # for dot notation\n",
    "    df.columns = df.columns.str.replace('Tips', 'Tip')\n",
    "    df.dropna(inplace = True)\n",
    "    # Drop trips with outlier distances or times\n",
    "    df.drop(df[(df.Trip_Miles <=0)|(df.Trip_Miles >max_miles)].index, inplace=True)\n",
    "    df.drop(df[(df.Trip_Seconds <=0)|(df.Trip_Seconds >max_time)].index, inplace=True)\n",
    "    # Add velocity column to further screen data\n",
    "    df['vel_mph'] = df['Trip_Miles']/(df['Trip_Seconds']/3600) #in mi/hr\n",
    "    #drop insane velocities\n",
    "    df.drop(df[df.vel_mph >= 60].index,inplace = True)\n",
    "    # drop unusually large or small fares\n",
    "    df.drop(df[((df.Fare <= 0)|(df.Fare > max_fare))].index,inplace = True)\n",
    "    # define a final fare, includes every fee other than tip\n",
    "    df['Final_Fare'] = df['Trip_Total'] -df['Tip']\n",
    "\n",
    "    if bTaxi:\n",
    "        df.drop(['Fare', 'Tip', 'Tolls', 'Extras','Trip_Total'],axis =1, inplace = True)\n",
    "    else:\n",
    "        df.drop(['Fare', 'Tip', 'Additional_Charges','Trip_Total'],axis =1, inplace = True)"
   ]
  },
  {
   "cell_type": "code",
   "execution_count": 91,
   "metadata": {},
   "outputs": [
    {
     "name": "stdout",
     "output_type": "stream",
     "text": [
      "Once deleted, variables cannot be recovered. Proceed (y/[n])? y\n",
      "Flushing output cache (0 entries)\n"
     ]
    }
   ],
   "source": [
    "#preprocess_trip_data(tnp)\n",
    "preprocess_trip_data(taxi)\n",
    "# Python holds on to the extra memory unless you flush...\n",
    "%reset Out "
   ]
  },
  {
   "cell_type": "code",
   "execution_count": 92,
   "metadata": {},
   "outputs": [
    {
     "name": "stdout",
     "output_type": "stream",
     "text": [
      "Once deleted, variables cannot be recovered. Proceed (y/[n])? y\n",
      "Flushing output cache (0 entries)\n"
     ]
    }
   ],
   "source": [
    "#preprocess_trip_data(tnp)\n",
    "preprocess_trip_data(tnp, bTaxi = False)\n",
    "# Python holds on to the extra memory unless you flush...\n",
    "%reset Out "
   ]
  },
  {
   "cell_type": "code",
   "execution_count": 79,
   "metadata": {},
   "outputs": [
    {
     "data": {
      "image/png": "[encoded data removed]",
      "text/plain": [
       "<Figure size 432x288 with 1 Axes>"
      ]
     },
     "metadata": {
      "needs_background": "light"
     },
     "output_type": "display_data"
    },
    {
     "data": {
      "image/png": "[encoded data removed]",
      "text/plain": [
       "<Figure size 432x288 with 1 Axes>"
      ]
     },
     "metadata": {
      "needs_background": "light"
     },
     "output_type": "display_data"
    },
    {
     "data": {
      "text/plain": [
       "<matplotlib.axes._subplots.AxesSubplot at 0x7fa700397dd8>"
      ]
     },
     "execution_count": 79,
     "metadata": {},
     "output_type": "execute_result"
    },
    {
     "data": {
      "image/png": "[encoded data removed]",
      "text/plain": [
       "<Figure size 432x288 with 1 Axes>"
      ]
     },
     "metadata": {
      "needs_background": "light"
     },
     "output_type": "display_data"
    }
   ],
   "source": [
    "# significant rounding to nearest minute in the taxi data\n",
    "# Similar but for (4?) seconds in tnp.\n",
    "taxi.Trip_Seconds.hist(bins = 100,log = True, range = [1900,2001])\n",
    "plt.show()\n",
    "# sifnificant rounding to nearest 10th of a mile\n",
    "taxi.Trip_Miles.hist(bins = 100,log = True, range = [7,8])\n",
    "plt.show()\n",
    "# Taxi fare has a strong preference to quarter dollars,\n",
    "# tnp is similar but bins are larger at 2.5 dollars.\n",
    "taxi.Final_Fare.hist(bins = 100,log = True, range = [7,10])"
   ]
  },
  {
   "cell_type": "markdown",
   "metadata": {},
   "source": [
    "### Extra Features\n",
    "\n",
    "#### Latitude and Longitude to distance and bearing.\n",
    "This webpage explains how to get distance and bearing from lat/long:\n",
    "http://www.movable-type.co.uk/scripts/latlong.html"
   ]
  },
  {
   "cell_type": "code",
   "execution_count": 43,
   "metadata": {},
   "outputs": [
    {
     "name": "stdout",
     "output_type": "stream",
     "text": [
      "864.2144943393625\n"
     ]
    },
    {
     "data": {
      "text/plain": [
       "865.3240204118771"
      ]
     },
     "execution_count": 43,
     "metadata": {},
     "output_type": "execute_result"
    }
   ],
   "source": [
    "from geopy import distance\n",
    "newport_ri = (41.49008, -71.312796)\n",
    "cleveland_oh = (41.499498, -81.695391)\n",
    "print(distance.great_circle(newport_ri, cleveland_oh).km)\n",
    "\n",
    "AVG_EARTH_RADIUS = 6371.009  # in km\n",
    "\n",
    "def haversine_dist(lat1, lng1, lat2, lng2):\n",
    "    lat1, lng1, lat2, lng2 = map(np.radians, (lat1, lng1, lat2, lng2))\n",
    "    lat = lat2 - lat1\n",
    "    lng = lng2 - lng1\n",
    "    d = np.sin(lat * 0.5) ** 2 + np.cos(lat1) * np.cos(lat2) * np.sin(lng * 0.5) ** 2\n",
    "    km = 2 * AVG_EARTH_RADIUS * np.arcsin(np.sqrt(d))\n",
    "    return km\n",
    "\n",
    "def bearing(lat1, lng1, lat2, lng2):\n",
    "    lng_delta_rad = np.radians(lng2 - lng1)\n",
    "    lat1, lng1, lat2, lng2 = map(np.radians, (lat1, lng1, lat2, lng2))\n",
    "    y = np.sin(lng_delta_rad) * np.cos(lat2)\n",
    "    x = np.cos(lat1) * np.sin(lat2) - np.sin(lat1) * np.cos(lat2) * np.cos(lng_delta_rad)\n",
    "    return np.degrees(np.arctan2(y, x))\n",
    "\n",
    "def manhattan_dist(lat1, lng1, lat2, lng2):\n",
    "    x = haversine_dist(lat1,lng1,lat1,lng2)\n",
    "    y = haversine_dist(lat1,lng1,lat2,lng1)\n",
    "    return x+y\n",
    "\n",
    "lat1,lng1 = (41.49008, -71.312796)\n",
    "lat2,lng2 =  (41.499498, -81.695391)\n",
    "# almost identical to geopy\n",
    "haversine_dist(lat1, lng1, lat2, lng2)\n",
    "manhattan_dist(lat1, lng1, lat2, lng2)\n"
   ]
  },
  {
   "cell_type": "code",
   "execution_count": 48,
   "metadata": {},
   "outputs": [],
   "source": [
    "# Note that about 10% of trips start and end in the same lat/area so these will be zero.\n",
    "def add_dist_and_bearing(df):\n",
    "    df[\"l2_dist_km\"] = haversine_dist(df[\"Pickup_Centroid_Latitude\"],\n",
    "                                       df[\"Pickup_Centroid_Longitude\"],\n",
    "                                       df[\"Dropoff_Centroid_Latitude\"],\n",
    "                                       df[\"Dropoff_Centroid_Longitude\"])\n",
    "    df[\"l1_dist_km\"] = manhattan_dist(df[\"Pickup_Centroid_Latitude\"],\n",
    "                                       df[\"Pickup_Centroid_Longitude\"],\n",
    "                                       df[\"Dropoff_Centroid_Latitude\"],\n",
    "                                       df[\"Dropoff_Centroid_Longitude\"])\n",
    "    df[\"bearing\"] = bearing(df[\"Pickup_Centroid_Latitude\"],\n",
    "                               df[\"Pickup_Centroid_Longitude\"],\n",
    "                               df[\"Dropoff_Centroid_Latitude\"],\n",
    "                               df[\"Dropoff_Centroid_Longitude\"])\n",
    "\n"
   ]
  },
  {
   "cell_type": "code",
   "execution_count": 61,
   "metadata": {},
   "outputs": [
    {
     "data": {
      "text/plain": [
       "Trip_Start_Timestamp          178255\n",
       "Trip_Seconds                  178255\n",
       "Trip_Miles                    178255\n",
       "Pickup_Community_Area         178255\n",
       "Dropoff_Community_Area        178255\n",
       "Pickup_Centroid_Latitude      178255\n",
       "Pickup_Centroid_Longitude     178255\n",
       "Dropoff_Centroid_Latitude     178255\n",
       "Dropoff_Centroid_Longitude    178255\n",
       "Final_Fare                    178255\n",
       "vel                           178255\n",
       "day                           178255\n",
       "hour                          178255\n",
       "bAirport                      178255\n",
       "l2_dist_km                    178255\n",
       "l1_dist_km                    178255\n",
       "bearing                       178255\n",
       "dtype: int64"
      ]
     },
     "execution_count": 61,
     "metadata": {},
     "output_type": "execute_result"
    }
   ],
   "source": [
    "add_dist_and_bearing(taxi)\n",
    "taxi[taxi.bearing == 0].count()"
   ]
  },
  {
   "cell_type": "markdown",
   "metadata": {},
   "source": [
    "#### Airport"
   ]
  },
  {
   "cell_type": "code",
   "execution_count": 36,
   "metadata": {},
   "outputs": [
    {
     "data": {
      "text/plain": [
       "<matplotlib.axes._subplots.AxesSubplot at 0x7fa7029974e0>"
      ]
     },
     "execution_count": 36,
     "metadata": {},
     "output_type": "execute_result"
    },
    {
     "data": {
      "image/png": "[encoded data removed]",
      "text/plain": [
       "<Figure size 432x288 with 1 Axes>"
      ]
     },
     "metadata": {
      "needs_background": "light"
     },
     "output_type": "display_data"
    }
   ],
   "source": [
    "midway = (41.7868, -87.7522)\n",
    "ohare = (41.9742, -87.9073)\n",
    "\n",
    "haversine_dist(taxi[\"Pickup_Centroid_Latitude\"],\n",
    "               taxi[\"Pickup_Centroid_Longitude\"],\n",
    "              midway[0],\n",
    "              midway[1]).hist(bins = 100, range = [0,5],log = True)\n",
    "\n",
    "haversine_dist(taxi[\"Pickup_Centroid_Latitude\"],\n",
    "               taxi[\"Pickup_Centroid_Longitude\"],\n",
    "              ohare[0],\n",
    "              ohare[1]).hist(bins = 100,range = [0,5])"
   ]
  },
  {
   "cell_type": "markdown",
   "metadata": {},
   "source": [
    "It seems reasonable to include trips within 1km of the airport as airport trips."
   ]
  },
  {
   "cell_type": "code",
   "execution_count": 97,
   "metadata": {},
   "outputs": [],
   "source": [
    "def add_airport_col(df,thresh_km = 1.5):\n",
    "    midway = (41.7868, -87.7522)\n",
    "    ohare = (41.9742, -87.9073)\n",
    "    airport_flag = haversine_dist(df[\"Pickup_Centroid_Latitude\"],\n",
    "                   df[\"Pickup_Centroid_Longitude\"],\n",
    "                   midway[0],\n",
    "                   midway[1]) < thresh_km\n",
    "    airport_flag |= haversine_dist(df[\"Pickup_Centroid_Latitude\"],\n",
    "                   df[\"Pickup_Centroid_Longitude\"],\n",
    "                   ohare[0],\n",
    "                   ohare[1]) < thresh_km\n",
    "    print(f\"Airport trips pecentage: {airport_flag.mean()*100}\")\n",
    "    df[\"bAirport\"] = airport_flag\n"
   ]
  },
  {
   "cell_type": "code",
   "execution_count": 38,
   "metadata": {},
   "outputs": [
    {
     "name": "stdout",
     "output_type": "stream",
     "text": [
      "Airport trips pecentage: 7.708058679980927\n"
     ]
    }
   ],
   "source": [
    "add_airport_col(taxi)"
   ]
  },
  {
   "cell_type": "code",
   "execution_count": 41,
   "metadata": {},
   "outputs": [
    {
     "data": {
      "text/plain": [
       "<matplotlib.axes._subplots.AxesSubplot at 0x7fa702591400>"
      ]
     },
     "execution_count": 41,
     "metadata": {},
     "output_type": "execute_result"
    },
    {
     "data": {
      "image/png": "[encoded data removed]",
      "text/plain": [
       "<Figure size 720x504 with 2 Axes>"
      ]
     },
     "metadata": {
      "needs_background": "light"
     },
     "output_type": "display_data"
    }
   ],
   "source": [
    "taxi.plot(kind = \"Scatter\", x = \"Pickup_Centroid_Longitude\", y = \"Pickup_Centroid_Latitude\", alpha = 0.2,\n",
    "            s = taxi[\"bAirport\"], label = \"Airport\", figsize = (10,7),\n",
    "            c = \"Trip_Miles\", cmap = plt.get_cmap('jet'),colorbar = True, sharex=False\n",
    ")"
   ]
  },
  {
   "cell_type": "markdown",
   "metadata": {},
   "source": [
    "#### Datetime"
   ]
  },
  {
   "cell_type": "code",
   "execution_count": 68,
   "metadata": {},
   "outputs": [
    {
     "data": {
      "image/png": "[encoded data removed]",
      "text/plain": [
       "<Figure size 432x288 with 1 Axes>"
      ]
     },
     "metadata": {
      "needs_background": "light"
     },
     "output_type": "display_data"
    },
    {
     "data": {
      "text/plain": [
       "<matplotlib.axes._subplots.AxesSubplot at 0x7fa6b243e208>"
      ]
     },
     "execution_count": 68,
     "metadata": {},
     "output_type": "execute_result"
    },
    {
     "data": {
      "image/png": "[encoded data removed]",
      "text/plain": [
       "<Figure size 432x288 with 1 Axes>"
      ]
     },
     "metadata": {
      "needs_background": "light"
     },
     "output_type": "display_data"
    }
   ],
   "source": [
    "    #Define some new attributes\n",
    "# use day and hour as categorical\n",
    "taxi.Trip_Start_Timestamp.dt.hour.hist(bins = 24)\n",
    "plt.show()\n",
    "taxi.Trip_Start_Timestamp.dt.dayofweek.hist(bins = 7)"
   ]
  },
  {
   "cell_type": "code",
   "execution_count": 69,
   "metadata": {},
   "outputs": [],
   "source": [
    "def add_datetime_vars(df):\n",
    "    df['day_of_wk'] = df.Trip_Start_Timestamp.dt.dayofweek.astype('category')\n",
    "    df['hour'] = df.Trip_Start_Timestamp.dt.hour.astype('category')"
   ]
  },
  {
   "cell_type": "markdown",
   "metadata": {},
   "source": [
    "#### Adding all features"
   ]
  },
  {
   "cell_type": "code",
   "execution_count": 81,
   "metadata": {},
   "outputs": [],
   "source": [
    "def add_all_features(df):\n",
    "    add_dist_and_bearing(df)\n",
    "    add_airport_col(df,thresh_km = 1.5)\n",
    "    add_datetime_vars(df)"
   ]
  },
  {
   "cell_type": "code",
   "execution_count": 99,
   "metadata": {},
   "outputs": [
    {
     "name": "stdout",
     "output_type": "stream",
     "text": [
      "Airport trips pecentage: 7.733867438650822\n",
      "Airport trips pecentage: 2.6398207315694635\n"
     ]
    }
   ],
   "source": [
    "add_all_features(taxi)\n",
    "add_all_features(tnp)"
   ]
  },
  {
   "cell_type": "code",
   "execution_count": 100,
   "metadata": {},
   "outputs": [
    {
     "data": {
      "text/plain": [
       "bAirport\n",
       "False    11.552732\n",
       "True     33.488869\n",
       "Name: Final_Fare, dtype: float32"
      ]
     },
     "execution_count": 100,
     "metadata": {},
     "output_type": "execute_result"
    }
   ],
   "source": [
    "tnp.groupby(\"bAirport\").Final_Fare.mean()"
   ]
  },
  {
   "cell_type": "code",
   "execution_count": 98,
   "metadata": {},
   "outputs": [
    {
     "data": {
      "text/plain": [
       "Index(['Trip_Start_Timestamp', 'Trip_Seconds', 'Trip_Miles',\n",
       "       'Pickup_Community_Area', 'Dropoff_Community_Area',\n",
       "       'Shared_Trip_Authorized', 'Pickup_Centroid_Latitude',\n",
       "       'Pickup_Centroid_Longitude', 'Dropoff_Centroid_Latitude',\n",
       "       'Dropoff_Centroid_Longitude', 'vel_mph', 'Final_Fare', 'l2_dist_km',\n",
       "       'l1_dist_km', 'bearing'],\n",
       "      dtype='object')"
      ]
     },
     "execution_count": 98,
     "metadata": {},
     "output_type": "execute_result"
    }
   ],
   "source": [
    "tnp.columns"
   ]
  },
  {
   "cell_type": "code",
   "execution_count": null,
   "metadata": {},
   "outputs": [],
   "source": []
  }
 ],
 "metadata": {
  "kernelspec": {
   "display_name": "Python 3",
   "language": "python",
   "name": "python3"
  },
  "language_info": {
   "codemirror_mode": {
    "name": "ipython",
    "version": 3
   },
   "file_extension": ".py",
   "mimetype": "text/x-python",
   "name": "python",
   "nbconvert_exporter": "python",
   "pygments_lexer": "ipython3",
   "version": "3.7.1"
  }
 },
 "nbformat": 4,
 "nbformat_minor": 2
}
