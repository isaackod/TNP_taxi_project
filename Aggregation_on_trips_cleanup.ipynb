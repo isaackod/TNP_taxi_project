{
 "cells": [
  {
   "cell_type": "markdown",
   "metadata": {},
   "source": [
    "Here we will look at some aggregations over specific start and stop locations. Going from point A to point B is a 'trip'.\n",
    "\n",
    "Grouping statistics by trip cancut the data size by a large amount, as the number of trips:\n",
    "${n \\choose 2}^2 $ (choosing pickups and dropoffs). "
   ]
  },
  {
   "cell_type": "code",
   "execution_count": 1,
   "metadata": {},
   "outputs": [],
   "source": [
    "from Fair_Fare.feature_utils import load_hdf\n",
    "from Fair_Fare.aggregations import agg_on_trips\n",
    "import pandas as pd\n",
    "import numpy as np\n",
    "import matplotlib.pyplot as plt\n",
    "import altair as alt\n",
    "import seaborn as sns\n",
    "sns.set()\n",
    "\n",
    "import xgboost as xgb\n",
    "\n",
    "from joblib import dump, load\n",
    "from sklearn.linear_model import LinearRegression\n",
    "\n",
    "#taxi_linmod = load('taxi_lin_model.joblib')\n",
    "taxi_treemod = xgb.Booster()\n",
    "taxi_treemod.load_model(\"taxi_xgb_full\")\n",
    "\n",
    "#tnp_linmod = load('tnp_lin_model.joblib')\n",
    "tnp_treemod = xgb.Booster()\n",
    "tnp_treemod.load_model(\"tnp_xgb_full_reduced_params\")\n",
    "\n",
    "\n",
    "data = {\"path\":\"data/\",\"taxi\":\"taxi_test.h5\", \"rideshare\":\"tnp_test.h5\" }"
   ]
  },
  {
   "cell_type": "code",
   "execution_count": 2,
   "metadata": {},
   "outputs": [
    {
     "data": {
      "text/plain": [
       "3047211"
      ]
     },
     "execution_count": 2,
     "metadata": {},
     "output_type": "execute_result"
    }
   ],
   "source": [
    "X = load_hdf(data[\"path\"]+data[\"rideshare\"],100)\n",
    "y = X[\"Final_Fare\"]\n",
    "X.drop([\"Final_Fare\"], axis = 1, inplace = True)\n",
    "dtest = xgb.DMatrix(X.values)\n",
    "\n",
    "model_preds = tnp_treemod.predict(dtest)\n",
    "model_preds.size"
   ]
  },
  {
   "cell_type": "code",
   "execution_count": 3,
   "metadata": {},
   "outputs": [
    {
     "data": {
      "text/html": [
       "<div>\n",
       "<style scoped>\n",
       "    .dataframe tbody tr th:only-of-type {\n",
       "        vertical-align: middle;\n",
       "    }\n",
       "\n",
       "    .dataframe tbody tr th {\n",
       "        vertical-align: top;\n",
       "    }\n",
       "\n",
       "    .dataframe thead th {\n",
       "        text-align: right;\n",
       "    }\n",
       "</style>\n",
       "<table border=\"1\" class=\"dataframe\">\n",
       "  <thead>\n",
       "    <tr style=\"text-align: right;\">\n",
       "      <th></th>\n",
       "      <th>Trip_Seconds</th>\n",
       "      <th>Trip_Miles</th>\n",
       "      <th>Pickup_Community_Area</th>\n",
       "      <th>Dropoff_Community_Area</th>\n",
       "      <th>Shared_Trip_Authorized</th>\n",
       "      <th>Pickup_Centroid_Latitude</th>\n",
       "      <th>Pickup_Centroid_Longitude</th>\n",
       "      <th>Dropoff_Centroid_Latitude</th>\n",
       "      <th>Dropoff_Centroid_Longitude</th>\n",
       "      <th>vel_mph</th>\n",
       "      <th>Final_Fare</th>\n",
       "      <th>l2_dist_km</th>\n",
       "      <th>x_dist_km</th>\n",
       "      <th>y_dist_km</th>\n",
       "      <th>bearing</th>\n",
       "      <th>bAirport</th>\n",
       "      <th>day_of_wk</th>\n",
       "      <th>hour</th>\n",
       "    </tr>\n",
       "  </thead>\n",
       "  <tbody>\n",
       "    <tr>\n",
       "      <th>6283605</th>\n",
       "      <td>1913.0</td>\n",
       "      <td>6.7</td>\n",
       "      <td>77.0</td>\n",
       "      <td>22.0</td>\n",
       "      <td>False</td>\n",
       "      <td>41.985472</td>\n",
       "      <td>-87.653794</td>\n",
       "      <td>41.929330</td>\n",
       "      <td>-87.711974</td>\n",
       "      <td>12.608468</td>\n",
       "      <td>17.50</td>\n",
       "      <td>7.881464</td>\n",
       "      <td>4.808806</td>\n",
       "      <td>6.242793</td>\n",
       "      <td>-142.361378</td>\n",
       "      <td>False</td>\n",
       "      <td>5</td>\n",
       "      <td>0</td>\n",
       "    </tr>\n",
       "    <tr>\n",
       "      <th>10327851</th>\n",
       "      <td>1335.0</td>\n",
       "      <td>5.4</td>\n",
       "      <td>7.0</td>\n",
       "      <td>32.0</td>\n",
       "      <td>False</td>\n",
       "      <td>41.929078</td>\n",
       "      <td>-87.646293</td>\n",
       "      <td>41.880994</td>\n",
       "      <td>-87.632746</td>\n",
       "      <td>14.561798</td>\n",
       "      <td>15.00</td>\n",
       "      <td>5.462890</td>\n",
       "      <td>1.120689</td>\n",
       "      <td>5.346614</td>\n",
       "      <td>168.152913</td>\n",
       "      <td>False</td>\n",
       "      <td>1</td>\n",
       "      <td>8</td>\n",
       "    </tr>\n",
       "    <tr>\n",
       "      <th>581229</th>\n",
       "      <td>1560.0</td>\n",
       "      <td>5.3</td>\n",
       "      <td>6.0</td>\n",
       "      <td>28.0</td>\n",
       "      <td>False</td>\n",
       "      <td>41.934540</td>\n",
       "      <td>-87.643023</td>\n",
       "      <td>41.878667</td>\n",
       "      <td>-87.671654</td>\n",
       "      <td>12.230769</td>\n",
       "      <td>10.67</td>\n",
       "      <td>6.649193</td>\n",
       "      <td>2.368313</td>\n",
       "      <td>6.212725</td>\n",
       "      <td>-159.115063</td>\n",
       "      <td>False</td>\n",
       "      <td>6</td>\n",
       "      <td>14</td>\n",
       "    </tr>\n",
       "    <tr>\n",
       "      <th>10148217</th>\n",
       "      <td>590.0</td>\n",
       "      <td>5.9</td>\n",
       "      <td>44.0</td>\n",
       "      <td>68.0</td>\n",
       "      <td>False</td>\n",
       "      <td>41.740206</td>\n",
       "      <td>-87.615970</td>\n",
       "      <td>41.777196</td>\n",
       "      <td>-87.642498</td>\n",
       "      <td>36.000000</td>\n",
       "      <td>12.50</td>\n",
       "      <td>4.664751</td>\n",
       "      <td>2.201044</td>\n",
       "      <td>4.113162</td>\n",
       "      <td>-28.136520</td>\n",
       "      <td>False</td>\n",
       "      <td>1</td>\n",
       "      <td>22</td>\n",
       "    </tr>\n",
       "    <tr>\n",
       "      <th>1776825</th>\n",
       "      <td>1126.0</td>\n",
       "      <td>4.8</td>\n",
       "      <td>6.0</td>\n",
       "      <td>4.0</td>\n",
       "      <td>True</td>\n",
       "      <td>41.944227</td>\n",
       "      <td>-87.655998</td>\n",
       "      <td>41.975171</td>\n",
       "      <td>-87.687516</td>\n",
       "      <td>15.346359</td>\n",
       "      <td>5.00</td>\n",
       "      <td>4.316367</td>\n",
       "      <td>2.606686</td>\n",
       "      <td>3.440859</td>\n",
       "      <td>-37.129196</td>\n",
       "      <td>False</td>\n",
       "      <td>3</td>\n",
       "      <td>15</td>\n",
       "    </tr>\n",
       "  </tbody>\n",
       "</table>\n",
       "</div>"
      ],
      "text/plain": [
       "          Trip_Seconds  Trip_Miles  Pickup_Community_Area  \\\n",
       "6283605         1913.0         6.7                   77.0   \n",
       "10327851        1335.0         5.4                    7.0   \n",
       "581229          1560.0         5.3                    6.0   \n",
       "10148217         590.0         5.9                   44.0   \n",
       "1776825         1126.0         4.8                    6.0   \n",
       "\n",
       "          Dropoff_Community_Area  Shared_Trip_Authorized  \\\n",
       "6283605                     22.0                   False   \n",
       "10327851                    32.0                   False   \n",
       "581229                      28.0                   False   \n",
       "10148217                    68.0                   False   \n",
       "1776825                      4.0                    True   \n",
       "\n",
       "          Pickup_Centroid_Latitude  Pickup_Centroid_Longitude  \\\n",
       "6283605                  41.985472                 -87.653794   \n",
       "10327851                 41.929078                 -87.646293   \n",
       "581229                   41.934540                 -87.643023   \n",
       "10148217                 41.740206                 -87.615970   \n",
       "1776825                  41.944227                 -87.655998   \n",
       "\n",
       "          Dropoff_Centroid_Latitude  Dropoff_Centroid_Longitude    vel_mph  \\\n",
       "6283605                   41.929330                  -87.711974  12.608468   \n",
       "10327851                  41.880994                  -87.632746  14.561798   \n",
       "581229                    41.878667                  -87.671654  12.230769   \n",
       "10148217                  41.777196                  -87.642498  36.000000   \n",
       "1776825                   41.975171                  -87.687516  15.346359   \n",
       "\n",
       "          Final_Fare  l2_dist_km  x_dist_km  y_dist_km     bearing  bAirport  \\\n",
       "6283605        17.50    7.881464   4.808806   6.242793 -142.361378     False   \n",
       "10327851       15.00    5.462890   1.120689   5.346614  168.152913     False   \n",
       "581229         10.67    6.649193   2.368313   6.212725 -159.115063     False   \n",
       "10148217       12.50    4.664751   2.201044   4.113162  -28.136520     False   \n",
       "1776825         5.00    4.316367   2.606686   3.440859  -37.129196     False   \n",
       "\n",
       "         day_of_wk hour  \n",
       "6283605          5    0  \n",
       "10327851         1    8  \n",
       "581229           6   14  \n",
       "10148217         1   22  \n",
       "1776825          3   15  "
      ]
     },
     "execution_count": 3,
     "metadata": {},
     "output_type": "execute_result"
    }
   ],
   "source": [
    "rideshare = load_hdf(data[\"path\"]+data[\"rideshare\"]%autoreload 2,100)\n",
    "rideshare.head()"
   ]
  },
  {
   "cell_type": "code",
   "execution_count": 16,
   "metadata": {},
   "outputs": [
    {
     "name": "stdout",
     "output_type": "stream",
     "text": [
      "The autoreload extension is already loaded. To reload it, use:\n",
      "  %reload_ext autoreload\n"
     ]
    }
   ],
   "source": [
    "%load_ext autoreload\n",
    "%autoreload 2\n",
    "agg = agg_on_trips(rideshare)"
   ]
  },
  {
   "cell_type": "markdown",
   "metadata": {},
   "source": [
    "So there are about 900 unique lat/longs giving ~ 500k trip combinations."
   ]
  },
  {
   "cell_type": "markdown",
   "metadata": {},
   "source": [
    "#### Grouping by rides:"
   ]
  },
  {
   "cell_type": "code",
   "execution_count": 83,
   "metadata": {},
   "outputs": [
    {
     "data": {
      "text/plain": [
       "<matplotlib.axes._subplots.AxesSubplot at 0x7ff9f04c2eb8>"
      ]
     },
     "execution_count": 83,
     "metadata": {},
     "output_type": "execute_result"
    },
    {
     "data": {
      "image/png": "[encoded data removed]",
      "text/plain": [
       "<Figure size 432x288 with 1 Axes>"
      ]
     },
     "metadata": {
      "needs_background": "light"
     },
     "output_type": "display_data"
    }
   ],
   "source": [
    "agg.df.groupby([\"Pickup_Centroid_Latitude\",\"Pickup_Centroid_Longitude\"]).Final_Fare.mean().hist()\n"
   ]
  },
  {
   "cell_type": "code",
   "execution_count": 84,
   "metadata": {},
   "outputs": [
    {
     "name": "stdout",
     "output_type": "stream",
     "text": [
      "16589\n"
     ]
    }
   ],
   "source": [
    "# total unique trips with binning above\n",
    "print(agg.total_unique_paths)"
   ]
  },
  {
   "cell_type": "code",
   "execution_count": 85,
   "metadata": {},
   "outputs": [
    {
     "data": {
      "text/plain": [
       "<matplotlib.axes._subplots.AxesSubplot at 0x7ff9f01d2ba8>"
      ]
     },
     "execution_count": 85,
     "metadata": {},
     "output_type": "execute_result"
    },
    {
     "data": {
      "image/png": "[encoded data removed]",
      "text/plain": [
       "<Figure size 432x288 with 1 Axes>"
      ]
     },
     "metadata": {
      "needs_background": "light"
     },
     "output_type": "display_data"
    }
   ],
   "source": [
    "agg.df.groupby('path').Final_Fare.count().hist(bins = 20, range = (0,1000),log = True)"
   ]
  },
  {
   "cell_type": "markdown",
   "metadata": {},
   "source": [
    "Prints the number of unique trips at this binsize\n",
    "150k is about the max for the tnp_test data, we know the max possible based on the input data binning\n",
    "s 400k. We need some balance of bin size between having enough data to show the user a histogram and accuracy.\n",
    "\n",
    "issue: trip miles has somewhat significant deviation from each other even with fine binning... shared rides?"
   ]
  },
  {
   "cell_type": "markdown",
   "metadata": {},
   "source": [
    "TODO: Create a function to plot the route on a map and show this histogram at the same time. Intermediate data product is a histogram for each of these routes."
   ]
  },
  {
   "cell_type": "code",
   "execution_count": 89,
   "metadata": {},
   "outputs": [],
   "source": [
    "# let's just say a trip is a single row of the dataframe\n",
    "def single_pt_estimate(trip):\n",
    "    X = trip\n",
    "    t = xgb.DMatrix(X.reshape(1,-1))\n",
    "    return tnp_treemod.predict(t)\n",
    "\n",
    "#start, end are lat/long pairs\n",
    "def ride_summary(df,path, hour = 0):#start,end):\n",
    "    #trip = find_bin(start,end)\n",
    "    all_rides = df[df.path == path]\n",
    "    trip = all_rides.iloc[0]\n",
    "    trip['hour'] = hour\n",
    "    estimate = single_pt_estimate(trip)\n",
    "    return estimate\n",
    "    \n",
    "    \n"
   ]
  },
  {
   "cell_type": "markdown",
   "metadata": {},
   "source": [
    "We want a function that takes a single ride as input,\n",
    "outputs the histogram and the prediction."
   ]
  },
  {
   "cell_type": "code",
   "execution_count": 212,
   "metadata": {},
   "outputs": [],
   "source": [
    "from Fair_Fare.trips import Stop, Ride"
   ]
  },
  {
   "cell_type": "code",
   "execution_count": 214,
   "metadata": {},
   "outputs": [],
   "source": [
    "ride = Ride('nyc','dallas')"
   ]
  },
  {
   "cell_type": "code",
   "execution_count": 215,
   "metadata": {},
   "outputs": [
    {
     "data": {
      "text/plain": [
       "Start: Geocoded Location: New York, NY, USA, Coordinates: (40.7124773, -74.0062007) \n",
       "End: Geocoded Location: Dallas, TX, USA, Coordinates: (32.7759428, -96.7967532) \n",
       "Details: {'Trip_Seconds': 84646, 'Trip_Miles': 1547.198230330446, 'Pickup_Centroid_Latitude': 40.7124773, 'Pickup_Centroid_Longitude': -74.0062007, 'Pickup_Dropoff_Latitude': 32.7759428, 'Pickup_Dropoff_Longitude': -96.7967532, 'vel_mph': 65.80244346087949, 'bAirport': False, 'hour': 14, 'day_of_wk': 0}"
      ]
     },
     "execution_count": 215,
     "metadata": {},
     "output_type": "execute_result"
    }
   ],
   "source": [
    "ride"
   ]
  }
 ],
 "metadata": {
  "kernelspec": {
   "display_name": "Python 3",
   "language": "python",
   "name": "python3"
  },
  "language_info": {
   "codemirror_mode": {
    "name": "ipython",
    "version": 3
   },
   "file_extension": ".py",
   "mimetype": "text/x-python",
   "name": "python",
   "nbconvert_exporter": "python",
   "pygments_lexer": "ipython3",
   "version": "3.7.3"
  }
 },
 "nbformat": 4,
 "nbformat_minor": 4
}
