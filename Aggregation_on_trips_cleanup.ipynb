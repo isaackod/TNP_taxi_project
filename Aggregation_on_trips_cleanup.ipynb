{
 "cells": [
  {
   "cell_type": "markdown",
   "metadata": {},
   "source": [
    "Here we will look at some aggregations over specific start and stop locations. Going from point A to point B is a 'trip'.\n",
    "\n",
    "Grouping statistics by trip can cut the data size by a large amount, as the number of trips:\n",
    "${n \\choose 2}^2 $ (choosing pickups and dropoffs). "
   ]
  },
  {
   "cell_type": "code",
   "execution_count": 1,
   "metadata": {},
   "outputs": [],
   "source": [
    "import pandas as pd\n",
    "import numpy as np\n",
    "import matplotlib.pyplot as plt\n",
    "import altair as alt\n",
    "import seaborn as sns\n",
    "from scipy.stats import gaussian_kde\n",
    "sns.set()\n",
    "\n",
    "from datetime import datetime, timedelta\n",
    "\n",
    "from Fair_Fare.feature_utils import load_hdf\n",
    "from Fair_Fare.aggregations import bin_on_time_distance\n",
    "from Fair_Fare.model_utils import get_model_from_file, predict_fare\n",
    "from Fair_Fare.trips import Stop, Ride\n",
    "from Fair_Fare.api_interactions import price_estimate_from_lyft\n",
    "\n",
    "%load_ext autoreload\n",
    "%autoreload 2"
   ]
  },
  {
   "cell_type": "code",
   "execution_count": 2,
   "metadata": {},
   "outputs": [],
   "source": [
    "models = {\"path\":\"models/\", \"taxi\":\"taxi_xgb_full\", \"rideshare\":\"tnp_xgb_full_reduced_params\" }\n",
    "data = {\"path\":\"data/\",\"taxi\":\"taxi_test.h5\", \"rideshare\":\"tnp_test.h5\" }\n",
    "\n",
    "taxi_model = get_model_from_file(models['path']+models['taxi'])\n",
    "taxi_data = load_hdf(data['path']+data['taxi'])\n",
    "\n",
    "rideshare_model = get_model_from_file(models['path']+models['rideshare'])\n",
    "rideshare_data = load_hdf(data['path']+data['rideshare'])"
   ]
  },
  {
   "cell_type": "markdown",
   "metadata": {},
   "source": [
    "So there are about 900 unique lat/longs giving ~ 500k trip combinations."
   ]
  },
  {
   "cell_type": "markdown",
   "metadata": {},
   "source": [
    "#### Grouping by rides:"
   ]
  },
  {
   "cell_type": "code",
   "execution_count": 5,
   "metadata": {},
   "outputs": [],
   "source": [
    "binned = bin_on_trips(rideshare_data)\n",
    "binned.df.groupby([\"Pickup_Centroid_Latitude\",\"Pickup_Centroid_Longitude\"]).Final_Fare.mean().hist()"
   ]
  },
  {
   "cell_type": "code",
   "execution_count": 214,
   "metadata": {},
   "outputs": [
    {
     "name": "stdout",
     "output_type": "stream",
     "text": [
      "20253\n"
     ]
    }
   ],
   "source": [
    "# total unique trips with binning after the cut\n",
    "binned.cut_along_lat_long()\n",
    "print(binned.total_unique_paths)\n",
    "trip_df = binned.df.groupby('path')"
   ]
  },
  {
   "cell_type": "code",
   "execution_count": null,
   "metadata": {},
   "outputs": [],
   "source": [
    "trip_df.head()"
   ]
  },
  {
   "cell_type": "markdown",
   "metadata": {},
   "source": [
    "TODO: Create a function to plot the route on a map and show this histogram at the same time. Intermediate data product is a histogram for each of these routes."
   ]
  },
  {
   "cell_type": "code",
   "execution_count": 77,
   "metadata": {},
   "outputs": [
    {
     "name": "stdout",
     "output_type": "stream",
     "text": [
      "Trip_Seconds                                   3761\n",
      "Trip_Miles                                     19.4\n",
      "Pickup_Community_Area                            33\n",
      "Dropoff_Community_Area                           76\n",
      "Shared_Trip_Authorized                        False\n",
      "Pickup_Centroid_Latitude                    41.8593\n",
      "Pickup_Centroid_Longitude                  -87.6174\n",
      "Dropoff_Centroid_Latitude                   41.9791\n",
      "Dropoff_Centroid_Longitude                  -87.903\n",
      "vel_mph                                     18.5695\n",
      "Final_Fare                                     42.5\n",
      "l2_dist_km                                  27.1279\n",
      "x_dist_km                                   23.6591\n",
      "y_dist_km                                   13.3124\n",
      "bearing                                    -60.5163\n",
      "bAirport                                      False\n",
      "day_of_wk                                         4\n",
      "hour                                             14\n",
      "Pickup_Centroid_Latitude_b                       10\n",
      "Dropoff_Centroid_Latitude_b                      16\n",
      "Pickup_Centroid_Longitude_b                      14\n",
      "Dropoff_Centroid_Longitude_b                      0\n",
      "path                            ((10, 14), (16, 0))\n",
      "Name: 5433895, dtype: object\n"
     ]
    }
   ],
   "source": [
    "\n",
    "test_trip = binned.df[binned.df['Final_Fare']>40].iloc[228]\n",
    "#print(test_trip)\n",
    "tup = ((test_trip['Pickup_Centroid_Latitude'],test_trip['Pickup_Centroid_Longitude']),\n",
    "       (test_trip['Dropoff_Centroid_Latitude'],test_trip['Dropoff_Centroid_Longitude']))\n",
    "\n",
    "assert binned.trip_to_path(tup) == test_trip['path']\n",
    "print(test_trip)"
   ]
  },
  {
   "cell_type": "markdown",
   "metadata": {},
   "source": [
    "We want a function that takes a single ride as input,\n",
    "outputs the histogram and the prediction."
   ]
  },
  {
   "cell_type": "code",
   "execution_count": 143,
   "metadata": {},
   "outputs": [
    {
     "name": "stdout",
     "output_type": "stream",
     "text": [
      "13.775015678965612 27.172984061071134\n",
      "24.75999061088577 0.6476825405035734\n"
     ]
    },
    {
     "data": {
      "text/plain": [
       "array([50.357998], dtype=float32)"
      ]
     },
     "execution_count": 143,
     "metadata": {},
     "output_type": "execute_result"
    }
   ],
   "source": [
    "time = datetime.now()\n",
    "time = time+ timedelta(hours=int(test_trip[\"hour\"]+24)- time.hour) # replace time with hour tomorrow (gmaps pred must be in future)\n",
    "ride = Ride(tup[0],tup[1], time = time, bRideshare = True, bShared = False)\n",
    "predict_fare(ride, rideshare_model)"
   ]
  },
  {
   "cell_type": "code",
   "execution_count": 108,
   "metadata": {},
   "outputs": [],
   "source": [
    "time = datetime.now()\n",
    "time = time+ timedelta(hours=int(test_trip[\"hour\"]+24)- time.hour)"
   ]
  },
  {
   "cell_type": "code",
   "execution_count": 3,
   "metadata": {},
   "outputs": [],
   "source": [
    "binned = bin_on_time_distance(rideshare_data)\n",
    "\n",
    "\n",
    "def text_to_fares(start, end, bRideshare = True, bShared = False):\n",
    "    time = datetime.now()\n",
    "    time = time#+ timedelta(hours=int(test_trip[\"hour\"]+24)- time.hour)\n",
    "    \n",
    "    ride = Ride(start,end, time, bRideshare, bShared)\n",
    "    Fair_Fare = predict_fare(ride, rideshare_model)\n",
    "    lyft_estimates = price_estimate_from_lyft(ride.start.tuple,ride.end.tuple)\n",
    "    td_tup = (ride.traveltime,ride.miles)\n",
    "    binned_pth = binned.time_distance_to_bin(td_tup)\n",
    "    group =  binned.df[binned.df.td_bin == binned_pth]\n",
    "    return Fair_Fare, lyft_estimates, group"
   ]
  },
  {
   "cell_type": "code",
   "execution_count": 4,
   "metadata": {},
   "outputs": [],
   "source": [
    " Fair_Fare, lyft_estimates, group= text_to_fares(\"the bean chicago\", \"sears tower\")"
   ]
  },
  {
   "cell_type": "code",
   "execution_count": 282,
   "metadata": {},
   "outputs": [
    {
     "data": {
      "text/plain": [
       "<matplotlib.axes._subplots.AxesSubplot at 0x7fe46d093e80>"
      ]
     },
     "execution_count": 282,
     "metadata": {},
     "output_type": "execute_result"
    },
    {
     "data": {
      "image/png": "[encoded data removed]",
      "text/plain": [
       "<Figure size 432x288 with 1 Axes>"
      ]
     },
     "metadata": {},
     "output_type": "display_data"
    }
   ],
   "source": [
    "test_grp = group[group[\"Shared_Trip_Authorized\"] == False].Final_Fare\n",
    "\n",
    "test_grp.plot.kde(.8)\n",
    "test_grp.hist(bins= 10, density = True)"
   ]
  },
  {
   "cell_type": "code",
   "execution_count": 8,
   "metadata": {},
   "outputs": [],
   "source": [
    "data = group[group[\"Shared_Trip_Authorized\"] == False].Final_Fare\n",
    "def hist_and_kde(data, nbins = 20):\n",
    "    gkde=gaussian_kde(data,bw_method = .8)\n",
    "    grid = np.linspace(0,20,100)\n",
    "    kde_vals = gkde.evaluate(grid)\n",
    "    hist, bin_edges = np.histogram(data,nbins, density = True)\n",
    "    return kde_vals,grid, hist, bin_edges"
   ]
  },
  {
   "cell_type": "code",
   "execution_count": 9,
   "metadata": {},
   "outputs": [
    {
     "ename": "NameError",
     "evalue": "name 'test_grp' is not defined",
     "output_type": "error",
     "traceback": [
      "\u001b[0;31m---------------------------------------------------------------------------\u001b[0m",
      "\u001b[0;31mNameError\u001b[0m                                 Traceback (most recent call last)",
      "\u001b[0;32m<ipython-input-9-928ac0e6cf81>\u001b[0m in \u001b[0;36m<module>\u001b[0;34m\u001b[0m\n\u001b[0;32m----> 1\u001b[0;31m \u001b[0mkde_test\u001b[0m\u001b[0;34m,\u001b[0m\u001b[0mgrid\u001b[0m\u001b[0;34m,\u001b[0m\u001b[0m_\u001b[0m\u001b[0;34m,\u001b[0m\u001b[0m_\u001b[0m \u001b[0;34m=\u001b[0m \u001b[0mhist_and_kde\u001b[0m\u001b[0;34m(\u001b[0m\u001b[0mtest_grp\u001b[0m\u001b[0;34m)\u001b[0m\u001b[0;34m\u001b[0m\u001b[0;34m\u001b[0m\u001b[0m\n\u001b[0m\u001b[1;32m      2\u001b[0m \u001b[0mkde_test\u001b[0m \u001b[0;34m=\u001b[0m \u001b[0mpd\u001b[0m\u001b[0;34m.\u001b[0m\u001b[0mDataFrame\u001b[0m\u001b[0;34m(\u001b[0m\u001b[0;34m{\u001b[0m\u001b[0;34m'x'\u001b[0m\u001b[0;34m:\u001b[0m\u001b[0mgrid\u001b[0m\u001b[0;34m,\u001b[0m \u001b[0;34m'y'\u001b[0m\u001b[0;34m:\u001b[0m\u001b[0mkde_test\u001b[0m\u001b[0;34m}\u001b[0m\u001b[0;34m)\u001b[0m\u001b[0;34m\u001b[0m\u001b[0;34m\u001b[0m\u001b[0m\n",
      "\u001b[0;31mNameError\u001b[0m: name 'test_grp' is not defined"
     ]
    }
   ],
   "source": [
    "kde_test,grid,_,_ = hist_and_kde(test_grp)\n",
    "kde_test = pd.DataFrame({'x':grid, 'y':kde_test})"
   ]
  },
  {
   "cell_type": "code",
   "execution_count": 6,
   "metadata": {},
   "outputs": [
    {
     "ename": "NameError",
     "evalue": "name 'kde_test' is not defined",
     "output_type": "error",
     "traceback": [
      "\u001b[0;31m---------------------------------------------------------------------------\u001b[0m",
      "\u001b[0;31mNameError\u001b[0m                                 Traceback (most recent call last)",
      "\u001b[0;32m<ipython-input-6-5c7d00a27ee1>\u001b[0m in \u001b[0;36m<module>\u001b[0;34m\u001b[0m\n\u001b[1;32m      4\u001b[0m \u001b[0;34m\u001b[0m\u001b[0m\n\u001b[1;32m      5\u001b[0m \u001b[0mx\u001b[0m \u001b[0;34m=\u001b[0m \u001b[0mnp\u001b[0m\u001b[0;34m.\u001b[0m\u001b[0marange\u001b[0m\u001b[0;34m(\u001b[0m\u001b[0;36m10\u001b[0m\u001b[0;34m)\u001b[0m\u001b[0;34m/\u001b[0m\u001b[0;36m10\u001b[0m\u001b[0;34m\u001b[0m\u001b[0;34m\u001b[0m\u001b[0m\n\u001b[0;32m----> 6\u001b[0;31m \u001b[0msource\u001b[0m \u001b[0;34m=\u001b[0m \u001b[0mkde_test\u001b[0m\u001b[0;34m\u001b[0m\u001b[0;34m\u001b[0m\u001b[0m\n\u001b[0m\u001b[1;32m      7\u001b[0m \u001b[0;34m\u001b[0m\u001b[0m\n\u001b[1;32m      8\u001b[0m alt.Chart(source).mark_line(point=True).encode(\n",
      "\u001b[0;31mNameError\u001b[0m: name 'kde_test' is not defined"
     ]
    }
   ],
   "source": [
    "import altair as alt\n",
    "import numpy as np\n",
    "import pandas as pd\n",
    "\n",
    "x = np.arange(10)/10\n",
    "source = kde_test\n",
    "\n",
    "alt.Chart(source).mark_line(point=True).encode(\n",
    "    x='x',\n",
    "    y='y'\n",
    ")"
   ]
  },
  {
   "cell_type": "code",
   "execution_count": null,
   "metadata": {},
   "outputs": [],
   "source": []
  },
  {
   "cell_type": "code",
   "execution_count": 54,
   "metadata": {},
   "outputs": [],
   "source": [
    "MAX_MILES = 100\n",
    "MAX_TIME = 7200\n",
    "\n",
    "#mile_grid = np.\n",
    "\n",
    "seconds = rideshare_data.Trip_Seconds.values\n",
    "\n",
    "miles = rideshare_data.Trip_Miles.values"
   ]
  },
  {
   "cell_type": "code",
   "execution_count": 146,
   "metadata": {},
   "outputs": [
    {
     "name": "stdout",
     "output_type": "stream",
     "text": [
      "[ 0.1         0.60000002  0.80000001  1.          1.10000002  1.20000005\n",
      "  1.29999995  1.39999998  1.60000002  1.70000005  1.89999998  2.\n",
      "  2.20000005  2.4000001   2.5         2.70000005  3.          3.20000005\n",
      "  3.4000001   3.70000005  3.9000001   4.30000019  4.5999999   4.9000001\n",
      "  5.30000019  5.80000019  6.30000019  6.9000001   7.69999981 10.\n",
      " 13.18499985 16.36999969 19.55499954 22.73999939 25.92499924 29.10999908\n",
      " 32.29499893 35.47999878 38.66499863 41.84999847 45.03499832 48.21999817\n",
      " 51.40499802 54.58999786 57.77499771 60.95999756 64.14499741 67.32999725\n",
      " 70.5149971 ]\n"
     ]
    },
    {
     "data": {
      "text/plain": [
       "(0, 10)"
      ]
     },
     "execution_count": 146,
     "metadata": {},
     "output_type": "execute_result"
    },
    {
     "data": {
      "image/png": "[encoded data removed]",
      "text/plain": [
       "<Figure size 432x288 with 1 Axes>"
      ]
     },
     "metadata": {
      "needs_background": "light"
     },
     "output_type": "display_data"
    }
   ],
   "source": [
    "# choose the bin parameters based on an ad-hoc histogrm cutoff\n",
    "#rideshare_data.Trip_Seconds.hist(bins = 100, range = (0,2000))\n",
    "rideshare_data.Trip_Miles.hist(bins = 10, range = (0,60))\n",
    "\n",
    "miles_bin = bin_on_counts(miles,nbins = 30, cutoff = 10)\n",
    "print(miles_bin)\n",
    "plt.plot(np.sort(rideshare_data.Trip_Miles.values))\n",
    "plt.ylim([0,10])"
   ]
  },
  {
   "cell_type": "code",
   "execution_count": 114,
   "metadata": {},
   "outputs": [],
   "source": [
    "rideshare_data[\"seconds_b\"] = pd.cut(rideshare_data[\"Trip_Seconds\"], bins = seconds_bin, labels = np.arange(len(seconds_bin)-1), retbins=False)"
   ]
  },
  {
   "cell_type": "code",
   "execution_count": 148,
   "metadata": {},
   "outputs": [],
   "source": [
    "from Fair_Fare.aggregations import bin_on_time_distance"
   ]
  },
  {
   "cell_type": "code",
   "execution_count": 159,
   "metadata": {},
   "outputs": [],
   "source": [
    "dd = bin_on_time_distance(rideshare_data)"
   ]
  },
  {
   "cell_type": "code",
   "execution_count": 182,
   "metadata": {},
   "outputs": [
    {
     "data": {
      "text/plain": [
       "937"
      ]
     },
     "execution_count": 182,
     "metadata": {},
     "output_type": "execute_result"
    }
   ],
   "source": [
    "dd.df.miles_b.isna().sum()"
   ]
  },
  {
   "cell_type": "code",
   "execution_count": 167,
   "metadata": {},
   "outputs": [
    {
     "data": {
      "text/plain": [
       "1500"
      ]
     },
     "execution_count": 167,
     "metadata": {},
     "output_type": "execute_result"
    }
   ],
   "source": [
    "30*50"
   ]
  },
  {
   "cell_type": "code",
   "execution_count": null,
   "metadata": {},
   "outputs": [],
   "source": []
  }
 ],
 "metadata": {
  "kernelspec": {
   "display_name": "Python 3",
   "language": "python",
   "name": "python3"
  },
  "language_info": {
   "codemirror_mode": {
    "name": "ipython",
    "version": 3
   },
   "file_extension": ".py",
   "mimetype": "text/x-python",
   "name": "python",
   "nbconvert_exporter": "python",
   "pygments_lexer": "ipython3",
   "version": "3.7.3"
  }
 },
 "nbformat": 4,
 "nbformat_minor": 4
}
