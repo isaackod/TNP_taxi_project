{
 "cells": [
  {
   "cell_type": "markdown",
   "metadata": {},
   "source": [
    "Here we will look at some aggregations over specific start and stop locations. Going from point A to point B is a 'trip'.\n",
    "\n",
    "Grouping statistics by trip can cut the data size by a large amount, as the number of trips:\n",
    "${n \\choose 2}^2 $ (choosing pickups and dropoffs). "
   ]
  },
  {
   "cell_type": "code",
   "execution_count": 249,
   "metadata": {},
   "outputs": [
    {
     "name": "stdout",
     "output_type": "stream",
     "text": [
      "The autoreload extension is already loaded. To reload it, use:\n",
      "  %reload_ext autoreload\n"
     ]
    }
   ],
   "source": [
    "import pandas as pd\n",
    "import numpy as np\n",
    "import matplotlib.pyplot as plt\n",
    "import altair as alt\n",
    "import seaborn as sns\n",
    "from scipy.stats import gaussian_kde\n",
    "sns.set()\n",
    "\n",
    "from datetime import datetime, timedelta\n",
    "\n",
    "from Fair_Fare.feature_utils import load_hdf\n",
    "from Fair_Fare.aggregations import bin_on_time_distance\n",
    "from Fair_Fare.model_utils import get_model_from_file, predict_fare\n",
    "from Fair_Fare.trips import Stop, Ride\n",
    "from Fair_Fare.api_interactions import price_estimate_from_lyft\n",
    "\n",
    "%load_ext autoreload\n",
    "%autoreload 2"
   ]
  },
  {
   "cell_type": "code",
   "execution_count": 2,
   "metadata": {},
   "outputs": [],
   "source": [
    "models = {\"path\":\"models/\", \"taxi\":\"taxi_xgb_full\", \"rideshare\":\"tnp_xgb_full_reduced_params\" }\n",
    "data = {\"path\":\"data/\",\"taxi\":\"taxi_test.h5\", \"rideshare\":\"tnp_test.h5\" }\n",
    "\n",
    "taxi_model = get_model_from_file(models['path']+models['taxi'])\n",
    "taxi_data = load_hdf(data['path']+data['taxi'])\n",
    "\n",
    "rideshare_model = get_model_from_file(models['path']+models['rideshare'])\n",
    "rideshare_data = load_hdf(data['path']+data['rideshare'])"
   ]
  },
  {
   "cell_type": "markdown",
   "metadata": {},
   "source": [
    "So there are about 900 unique lat/longs giving ~ 500k trip combinations."
   ]
  },
  {
   "cell_type": "markdown",
   "metadata": {},
   "source": [
    "#### Grouping by rides:"
   ]
  },
  {
   "cell_type": "code",
   "execution_count": 213,
   "metadata": {},
   "outputs": [
    {
     "data": {
      "text/plain": [
       "<matplotlib.axes._subplots.AxesSubplot at 0x7f0f72baccf8>"
      ]
     },
     "execution_count": 213,
     "metadata": {},
     "output_type": "execute_result"
    },
    {
     "data": {
      "image/png": "[encoded data removed]",
      "text/plain": [
       "<Figure size 432x288 with 1 Axes>"
      ]
     },
     "metadata": {},
     "output_type": "display_data"
    }
   ],
   "source": [
    "binned = bin_on_trips(rideshare_data)\n",
    "binned.df.groupby([\"Pickup_Centroid_Latitude\",\"Pickup_Centroid_Longitude\"]).Final_Fare.mean().hist()"
   ]
  },
  {
   "cell_type": "code",
   "execution_count": 214,
   "metadata": {},
   "outputs": [
    {
     "name": "stdout",
     "output_type": "stream",
     "text": [
      "20253\n"
     ]
    }
   ],
   "source": [
    "# total unique trips with binning after the cut\n",
    "binned.cut_along_lat_long()\n",
    "print(binned.total_unique_paths)\n",
    "trip_df = binned.df.groupby('path')"
   ]
  },
  {
   "cell_type": "code",
   "execution_count": null,
   "metadata": {},
   "outputs": [],
   "source": [
    "trip_df.head()"
   ]
  },
  {
   "cell_type": "markdown",
   "metadata": {},
   "source": [
    "TODO: Create a function to plot the route on a map and show this histogram at the same time. Intermediate data product is a histogram for each of these routes."
   ]
  },
  {
   "cell_type": "code",
   "execution_count": 77,
   "metadata": {},
   "outputs": [
    {
     "name": "stdout",
     "output_type": "stream",
     "text": [
      "Trip_Seconds                                   3761\n",
      "Trip_Miles                                     19.4\n",
      "Pickup_Community_Area                            33\n",
      "Dropoff_Community_Area                           76\n",
      "Shared_Trip_Authorized                        False\n",
      "Pickup_Centroid_Latitude                    41.8593\n",
      "Pickup_Centroid_Longitude                  -87.6174\n",
      "Dropoff_Centroid_Latitude                   41.9791\n",
      "Dropoff_Centroid_Longitude                  -87.903\n",
      "vel_mph                                     18.5695\n",
      "Final_Fare                                     42.5\n",
      "l2_dist_km                                  27.1279\n",
      "x_dist_km                                   23.6591\n",
      "y_dist_km                                   13.3124\n",
      "bearing                                    -60.5163\n",
      "bAirport                                      False\n",
      "day_of_wk                                         4\n",
      "hour                                             14\n",
      "Pickup_Centroid_Latitude_b                       10\n",
      "Dropoff_Centroid_Latitude_b                      16\n",
      "Pickup_Centroid_Longitude_b                      14\n",
      "Dropoff_Centroid_Longitude_b                      0\n",
      "path                            ((10, 14), (16, 0))\n",
      "Name: 5433895, dtype: object\n"
     ]
    }
   ],
   "source": [
    "\n",
    "test_trip = binned.df[binned.df['Final_Fare']>40].iloc[228]\n",
    "#print(test_trip)\n",
    "tup = ((test_trip['Pickup_Centroid_Latitude'],test_trip['Pickup_Centroid_Longitude']),\n",
    "       (test_trip['Dropoff_Centroid_Latitude'],test_trip['Dropoff_Centroid_Longitude']))\n",
    "\n",
    "assert binned.trip_to_path(tup) == test_trip['path']\n",
    "print(test_trip)"
   ]
  },
  {
   "cell_type": "markdown",
   "metadata": {},
   "source": [
    "We want a function that takes a single ride as input,\n",
    "outputs the histogram and the prediction."
   ]
  },
  {
   "cell_type": "code",
   "execution_count": 143,
   "metadata": {},
   "outputs": [
    {
     "name": "stdout",
     "output_type": "stream",
     "text": [
      "13.775015678965612 27.172984061071134\n",
      "24.75999061088577 0.6476825405035734\n"
     ]
    },
    {
     "data": {
      "text/plain": [
       "array([50.357998], dtype=float32)"
      ]
     },
     "execution_count": 143,
     "metadata": {},
     "output_type": "execute_result"
    }
   ],
   "source": [
    "time = datetime.now()\n",
    "time = time+ timedelta(hours=int(test_trip[\"hour\"]+24)- time.hour) # replace time with hour tomorrow (gmaps pred must be in future)\n",
    "ride = Ride(tup[0],tup[1], time = time, bRideshare = True, bShared = False)\n",
    "predict_fare(ride, rideshare_model)"
   ]
  },
  {
   "cell_type": "code",
   "execution_count": 108,
   "metadata": {},
   "outputs": [],
   "source": [
    "time = datetime.now()\n",
    "time = time+ timedelta(hours=int(test_trip[\"hour\"]+24)- time.hour)"
   ]
  },
  {
   "cell_type": "code",
   "execution_count": 232,
   "metadata": {},
   "outputs": [],
   "source": [
    "binned = bin_on_time_distance(rideshare_data)\n",
    "\n",
    "\n",
    "def text_to_fares(start, end, bRideshare = True, bShared = False):\n",
    "    time = datetime.now()\n",
    "    time = time#+ timedelta(hours=int(test_trip[\"hour\"]+24)- time.hour)\n",
    "    \n",
    "    ride = Ride(start,end, time, bRideshare, bShared)\n",
    "    Fair_Fare = predict_fare(ride, rideshare_model)\n",
    "    lyft_estimates = price_estimate_from_lyft(ride.start.tuple,ride.end.tuple)\n",
    "    td_tup = (ride.traveltime,ride.miles)\n",
    "    binned_pth = binned.time_distance_to_bin(td_tup)\n",
    "    group =  binned.df[binned.df.td_bin == binned_pth]\n",
    "    return Fair_Fare, lyft_estimates, group"
   ]
  },
  {
   "cell_type": "code",
   "execution_count": 233,
   "metadata": {},
   "outputs": [],
   "source": [
    " Fair_Fare, lyft_estimates, group= text_to_fares(\"the bean chicago\", \"sears tower\")"
   ]
  },
  {
   "cell_type": "code",
   "execution_count": 282,
   "metadata": {},
   "outputs": [
    {
     "data": {
      "text/plain": [
       "<matplotlib.axes._subplots.AxesSubplot at 0x7fe46d093e80>"
      ]
     },
     "execution_count": 282,
     "metadata": {},
     "output_type": "execute_result"
    },
    {
     "data": {
      "image/png": "[encoded data removed]",
      "text/plain": [
       "<Figure size 432x288 with 1 Axes>"
      ]
     },
     "metadata": {},
     "output_type": "display_data"
    }
   ],
   "source": [
    "test_grp = group[group[\"Shared_Trip_Authorized\"] == False].Final_Fare\n",
    "\n",
    "test_grp.plot.kde(.8)\n",
    "test_grp.hist(bins= 10, density = True)"
   ]
  },
  {
   "cell_type": "code",
   "execution_count": 286,
   "metadata": {},
   "outputs": [],
   "source": [
    "data = group[group[\"Shared_Trip_Authorized\"] == False].Final_Fare\n",
    "def hist_and_kde(data, nbins = 20):\n",
    "    gkde=gaussian_kde(data,bw_method = .8)\n",
    "    grid = np.linspace(0,20,100)\n",
    "    kde_vals = gkde.evaluate(grid)\n",
    "    hist, bin_edges = np.histogram(data,nbins, density = True)\n",
    "    return kde_vals,grid, hist, bin_edges"
   ]
  },
  {
   "cell_type": "code",
   "execution_count": 287,
   "metadata": {},
   "outputs": [],
   "source": [
    "kde_test,grid,_,_ = hist_and_kde(test_grp)\n",
    "kde_test = pd.DataFrame({'x':grid, 'y':kde_test})"
   ]
  },
  {
   "cell_type": "code",
   "execution_count": 288,
   "metadata": {},
   "outputs": [
    {
     "data": {
      "application/vnd.vegalite.v3+json": {
       "$schema": "https://vega.github.io/schema/vega-lite/v3.3.0.json",
       "config": {
        "mark": {
         "tooltip": null
        },
        "view": {
         "height": 300,
         "width": 400
        }
       },
       "data": {
        "name": "data-b5b5d8958e4f96f42afd1d3f8eeafd25"
       },
       "datasets": {
        "data-b5b5d8958e4f96f42afd1d3f8eeafd25": [
         {
          "x": 0,
          "y": 9.619134133672143e-07
         },
         {
          "x": 0.20202020202020202,
          "y": 1.8127644781721767e-06
         },
         {
          "x": 0.40404040404040403,
          "y": 3.3315708171765207e-06
         },
         {
          "x": 0.6060606060606061,
          "y": 5.972564676399638e-06
         },
         {
          "x": 0.8080808080808081,
          "y": 1.044719577233535e-05
         },
         {
          "x": 1.0101010101010102,
          "y": 1.7836859416057305e-05
         },
         {
          "x": 1.2121212121212122,
          "y": 2.9737979954468033e-05
         },
         {
          "x": 1.4141414141414141,
          "y": 4.844308645590149e-05
         },
         {
          "x": 1.6161616161616161,
          "y": 7.716348078707184e-05
         },
         {
          "x": 1.8181818181818181,
          "y": 0.00012030681675844288
         },
         {
          "x": 2.0202020202020203,
          "y": 0.0001838416495480754
         },
         {
          "x": 2.2222222222222223,
          "y": 0.00027581739881884484
         },
         {
          "x": 2.4242424242424243,
          "y": 0.00040716854414784887
         },
         {
          "x": 2.6262626262626263,
          "y": 0.0005930189650960305
         },
         {
          "x": 2.8282828282828283,
          "y": 0.0008548099772167939
         },
         {
          "x": 3.0303030303030303,
          "y": 0.0012236820446610227
         },
         {
          "x": 3.2323232323232323,
          "y": 0.0017456017546605197
         },
         {
          "x": 3.4343434343434343,
          "y": 0.0024886744710412205
         },
         {
          "x": 3.6363636363636362,
          "y": 0.0035528329679205997
         },
         {
          "x": 3.8383838383838382,
          "y": 0.0050815584643675625
         },
         {
          "x": 4.040404040404041,
          "y": 0.007274424987215355
         },
         {
          "x": 4.242424242424242,
          "y": 0.01039809841083331
         },
         {
          "x": 4.444444444444445,
          "y": 0.014792139868204284
         },
         {
          "x": 4.646464646464646,
          "y": 0.020864894058716697
         },
         {
          "x": 4.848484848484849,
          "y": 0.029074363105371405
         },
         {
          "x": 5.05050505050505,
          "y": 0.03988980343043304
         },
         {
          "x": 5.252525252525253,
          "y": 0.05373224743339923
         },
         {
          "x": 5.454545454545454,
          "y": 0.07089632363327873
         },
         {
          "x": 5.656565656565657,
          "y": 0.09146118258193056
         },
         {
          "x": 5.858585858585858,
          "y": 0.11520397523840918
         },
         {
          "x": 6.0606060606060606,
          "y": 0.14153362186665078
         },
         {
          "x": 6.262626262626262,
          "y": 0.1694638479656968
         },
         {
          "x": 6.4646464646464645,
          "y": 0.1976413239206319
         },
         {
          "x": 6.666666666666667,
          "y": 0.22443684876988323
         },
         {
          "x": 6.8686868686868685,
          "y": 0.24809582735588015
         },
         {
          "x": 7.070707070707071,
          "y": 0.2669311223710375
         },
         {
          "x": 7.2727272727272725,
          "y": 0.279529935421896
         },
         {
          "x": 7.474747474747475,
          "y": 0.28493993955394037
         },
         {
          "x": 7.6767676767676765,
          "y": 0.28280072746809676
         },
         {
          "x": 7.878787878787879,
          "y": 0.2733952322930374
         },
         {
          "x": 8.080808080808081,
          "y": 0.257610487787333
         },
         {
          "x": 8.282828282828282,
          "y": 0.2368145348181439
         },
         {
          "x": 8.484848484848484,
          "y": 0.21267224798484288
         },
         {
          "x": 8.686868686868687,
          "y": 0.18693354651040253
         },
         {
          "x": 8.88888888888889,
          "y": 0.1612305426445795
         },
         {
          "x": 9.09090909090909,
          "y": 0.13691541385012115
         },
         {
          "x": 9.292929292929292,
          "y": 0.11495990807523222
         },
         {
          "x": 9.494949494949495,
          "y": 0.09592349727926167
         },
         {
          "x": 9.696969696969697,
          "y": 0.07998374781302722
         },
         {
          "x": 9.8989898989899,
          "y": 0.06701235977329777
         },
         {
          "x": 10.1010101010101,
          "y": 0.05667519319328946
         },
         {
          "x": 10.303030303030303,
          "y": 0.048534665716237546
         },
         {
          "x": 10.505050505050505,
          "y": 0.04213717498354297
         },
         {
          "x": 10.707070707070708,
          "y": 0.037074936559707096
         },
         {
          "x": 10.909090909090908,
          "y": 0.033018928529031225
         },
         {
          "x": 11.11111111111111,
          "y": 0.02972588714014808
         },
         {
          "x": 11.313131313131313,
          "y": 0.027026475787355363
         },
         {
          "x": 11.515151515151516,
          "y": 0.024803487667489747
         },
         {
          "x": 11.717171717171716,
          "y": 0.022968457744215763
         },
         {
          "x": 11.919191919191919,
          "y": 0.02144296945208807
         },
         {
          "x": 12.121212121212121,
          "y": 0.020148047586008046
         },
         {
          "x": 12.323232323232324,
          "y": 0.019002117821991803
         },
         {
          "x": 12.525252525252524,
          "y": 0.01792570581143085
         },
         {
          "x": 12.727272727272727,
          "y": 0.016849710623440994
         },
         {
          "x": 12.929292929292929,
          "y": 0.01572380622575559
         },
         {
          "x": 13.131313131313131,
          "y": 0.014522144371750327
         },
         {
          "x": 13.333333333333334,
          "y": 0.013244728859723033
         },
         {
          "x": 13.535353535353535,
          "y": 0.011914212121224274
         },
         {
          "x": 13.737373737373737,
          "y": 0.010569067729526453
         },
         {
          "x": 13.93939393939394,
          "y": 0.00925486092700215
         },
         {
          "x": 14.141414141414142,
          "y": 0.008015566072611445
         },
         {
          "x": 14.343434343434343,
          "y": 0.006886605753040269
         },
         {
          "x": 14.545454545454545,
          "y": 0.005890664769226757
         },
         {
          "x": 14.747474747474747,
          "y": 0.005036572554974024
         },
         {
          "x": 14.94949494949495,
          "y": 0.004320853667300923
         },
         {
          "x": 15.15151515151515,
          "y": 0.0037310676129097236
         },
         {
          "x": 15.353535353535353,
          "y": 0.003249866208770929
         },
         {
          "x": 15.555555555555555,
          "y": 0.002858777696889802
         },
         {
          "x": 15.757575757575758,
          "y": 0.002541008963241063
         },
         {
          "x": 15.959595959595958,
          "y": 0.0022829359031726285
         },
         {
          "x": 16.161616161616163,
          "y": 0.0020743222660640583
         },
         {
          "x": 16.363636363636363,
          "y": 0.0019075880548284467
         },
         {
          "x": 16.565656565656564,
          "y": 0.0017765956198835136
         },
         {
          "x": 16.767676767676768,
          "y": 0.0016754296726505676
         },
         {
          "x": 16.96969696969697,
          "y": 0.001597542955497431
         },
         {
          "x": 17.171717171717173,
          "y": 0.0015354680540512744
         },
         {
          "x": 17.373737373737374,
          "y": 0.001481109377164411
         },
         {
          "x": 17.575757575757574,
          "y": 0.00142647295063955
         },
         {
          "x": 17.77777777777778,
          "y": 0.001364595977491068
         },
         {
          "x": 17.97979797979798,
          "y": 0.00129041504277526
         },
         {
          "x": 18.18181818181818,
          "y": 0.0012013550853673142
         },
         {
          "x": 18.383838383838384,
          "y": 0.0010975104463591282
         },
         {
          "x": 18.585858585858585,
          "y": 0.0009813965988316904
         },
         {
          "x": 18.78787878787879,
          "y": 0.0008573487220565084
         },
         {
          "x": 18.98989898989899,
          "y": 0.0007307097955511153
         },
         {
          "x": 19.19191919191919,
          "y": 0.000606975751960476
         },
         {
          "x": 19.393939393939394,
          "y": 0.0004910495277274527
         },
         {
          "x": 19.595959595959595,
          "y": 0.00038671023399377446
         },
         {
          "x": 19.7979797979798,
          "y": 0.00029634405406532614
         },
         {
          "x": 20,
          "y": 0.00022092606392671896
         }
        ]
       },
       "encoding": {
        "x": {
         "field": "x",
         "type": "quantitative"
        },
        "y": {
         "field": "y",
         "type": "quantitative"
        }
       },
       "mark": {
        "point": true,
        "type": "line"
       }
      },
      "image/png": "[encoded data removed]",
      "text/plain": [
       "<VegaLite 3 object>\n",
       "\n",
       "If you see this message, it means the renderer has not been properly enabled\n",
       "for the frontend that you are using. For more information, see\n",
       "https://altair-viz.github.io/user_guide/troubleshooting.html\n"
      ]
     },
     "execution_count": 288,
     "metadata": {},
     "output_type": "execute_result"
    }
   ],
   "source": [
    "import altair as alt\n",
    "import numpy as np\n",
    "import pandas as pd\n",
    "\n",
    "x = np.arange(10)/10\n",
    "source = kde_test\n",
    "\n",
    "alt.Chart(source).mark_line(point=True).encode(\n",
    "    x='x',\n",
    "    y='y'\n",
    ")"
   ]
  },
  {
   "cell_type": "code",
   "execution_count": null,
   "metadata": {},
   "outputs": [],
   "source": []
  },
  {
   "cell_type": "code",
   "execution_count": 54,
   "metadata": {},
   "outputs": [],
   "source": [
    "MAX_MILES = 100\n",
    "MAX_TIME = 7200\n",
    "\n",
    "#mile_grid = np.\n",
    "\n",
    "seconds = rideshare_data.Trip_Seconds.values\n",
    "\n",
    "miles = rideshare_data.Trip_Miles.values"
   ]
  },
  {
   "cell_type": "code",
   "execution_count": 146,
   "metadata": {},
   "outputs": [
    {
     "name": "stdout",
     "output_type": "stream",
     "text": [
      "[ 0.1         0.60000002  0.80000001  1.          1.10000002  1.20000005\n",
      "  1.29999995  1.39999998  1.60000002  1.70000005  1.89999998  2.\n",
      "  2.20000005  2.4000001   2.5         2.70000005  3.          3.20000005\n",
      "  3.4000001   3.70000005  3.9000001   4.30000019  4.5999999   4.9000001\n",
      "  5.30000019  5.80000019  6.30000019  6.9000001   7.69999981 10.\n",
      " 13.18499985 16.36999969 19.55499954 22.73999939 25.92499924 29.10999908\n",
      " 32.29499893 35.47999878 38.66499863 41.84999847 45.03499832 48.21999817\n",
      " 51.40499802 54.58999786 57.77499771 60.95999756 64.14499741 67.32999725\n",
      " 70.5149971 ]\n"
     ]
    },
    {
     "data": {
      "text/plain": [
       "(0, 10)"
      ]
     },
     "execution_count": 146,
     "metadata": {},
     "output_type": "execute_result"
    },
    {
     "data": {
      "image/png": "[encoded data removed]",
      "text/plain": [
       "<Figure size 432x288 with 1 Axes>"
      ]
     },
     "metadata": {
      "needs_background": "light"
     },
     "output_type": "display_data"
    }
   ],
   "source": [
    "# choose the bin parameters based on an ad-hoc histogrm cutoff\n",
    "#rideshare_data.Trip_Seconds.hist(bins = 100, range = (0,2000))\n",
    "rideshare_data.Trip_Miles.hist(bins = 10, range = (0,60))\n",
    "\n",
    "miles_bin = bin_on_counts(miles,nbins = 30, cutoff = 10)\n",
    "print(miles_bin)\n",
    "plt.plot(np.sort(rideshare_data.Trip_Miles.values))\n",
    "plt.ylim([0,10])"
   ]
  },
  {
   "cell_type": "code",
   "execution_count": 114,
   "metadata": {},
   "outputs": [],
   "source": [
    "rideshare_data[\"seconds_b\"] = pd.cut(rideshare_data[\"Trip_Seconds\"], bins = seconds_bin, labels = np.arange(len(seconds_bin)-1), retbins=False)"
   ]
  },
  {
   "cell_type": "code",
   "execution_count": 148,
   "metadata": {},
   "outputs": [],
   "source": [
    "from Fair_Fare.aggregations import bin_on_time_distance"
   ]
  },
  {
   "cell_type": "code",
   "execution_count": 159,
   "metadata": {},
   "outputs": [],
   "source": [
    "dd = bin_on_time_distance(rideshare_data)"
   ]
  },
  {
   "cell_type": "code",
   "execution_count": 182,
   "metadata": {},
   "outputs": [
    {
     "data": {
      "text/plain": [
       "937"
      ]
     },
     "execution_count": 182,
     "metadata": {},
     "output_type": "execute_result"
    }
   ],
   "source": [
    "dd.df.miles_b.isna().sum()"
   ]
  },
  {
   "cell_type": "code",
   "execution_count": 167,
   "metadata": {},
   "outputs": [
    {
     "data": {
      "text/plain": [
       "1500"
      ]
     },
     "execution_count": 167,
     "metadata": {},
     "output_type": "execute_result"
    }
   ],
   "source": [
    "30*50"
   ]
  },
  {
   "cell_type": "code",
   "execution_count": null,
   "metadata": {},
   "outputs": [],
   "source": []
  }
 ],
 "metadata": {
  "kernelspec": {
   "display_name": "Python 3",
   "language": "python",
   "name": "python3"
  },
  "language_info": {
   "codemirror_mode": {
    "name": "ipython",
    "version": 3
   },
   "file_extension": ".py",
   "mimetype": "text/x-python",
   "name": "python",
   "nbconvert_exporter": "python",
   "pygments_lexer": "ipython3",
   "version": "3.7.3"
  }
 },
 "nbformat": 4,
 "nbformat_minor": 4
}
